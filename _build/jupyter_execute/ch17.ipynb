{
 "cells": [
  {
   "cell_type": "markdown",
   "metadata": {
    "id": "s2_vYooAyvOY"
   },
   "source": [
    "# 판다스(Pandas) 2\n"
   ]
  },
  {
   "cell_type": "markdown",
   "metadata": {
    "id": "IBOyEtgXsuBV"
   },
   "source": [
    "여기서는 아래와 같은 내용을 다룬다. \n",
    "\n",
    "* csv 파일 불러오기\n",
    "* 결측치 처리\n",
    "* 데이터프레임 합하기\n",
    "* 데이터 시각화(막대 그래프, 원 그래프, 선 그래프, 산점도) \n",
    "\n",
    "`drinks.csv`에는 국가별 음주 데이터가 담겨있다.   \n",
    "\n",
    "\n",
    "참고) csv는 Comma-Separated Values의 줄임말로, 콤마(,)를 기준으로 항목을 구분하여 정리되어 있는 파일을 의미한다. "
   ]
  },
  {
   "cell_type": "markdown",
   "metadata": {
    "id": "7MgaO38Ufz-L"
   },
   "source": [
    "\n",
    "우선, pandas 모듈을 임포트하자. "
   ]
  },
  {
   "cell_type": "code",
   "execution_count": 1,
   "metadata": {
    "id": "DGBJ4vT1AFyz"
   },
   "outputs": [],
   "source": [
    "import pandas as pd"
   ]
  },
  {
   "cell_type": "markdown",
   "metadata": {
    "id": "JD4Y_X34vD1Y"
   },
   "source": [
    "## 데이터 호출1"
   ]
  },
  {
   "cell_type": "markdown",
   "metadata": {
    "id": "I8BjNY_fFKcj"
   },
   "source": [
    "csv 파일을 불러오기 위해, pandas 모듈의 `read_csv` 함수를 이용한다.   \n",
    "`read_csv` 함수에 대해 알고 싶으면, `help` 함수를 사용하여 확인할 수 있다. \n",
    "\n",
    "> `help(pd.read_csv)`  \n",
    "\n",
    "`read_csv` 함수는 많은 인자들을 받을 수 있지만 여기서 우리는 csv 파일의 위치만 사용한다.  \n"
   ]
  },
  {
   "cell_type": "code",
   "execution_count": 2,
   "metadata": {
    "colab": {
     "base_uri": "https://localhost:8080/",
     "height": 419
    },
    "executionInfo": {
     "elapsed": 845,
     "status": "ok",
     "timestamp": 1621228694137,
     "user": {
      "displayName": "HJ Kim",
      "photoUrl": "",
      "userId": "16634276932240017990"
     },
     "user_tz": -540
    },
    "id": "8vXtTEtFD0eJ",
    "outputId": "6f355d14-4f57-4d7f-b74b-f2e025a4fdf4"
   },
   "outputs": [
    {
     "data": {
      "text/html": [
       "<div>\n",
       "<style scoped>\n",
       "    .dataframe tbody tr th:only-of-type {\n",
       "        vertical-align: middle;\n",
       "    }\n",
       "\n",
       "    .dataframe tbody tr th {\n",
       "        vertical-align: top;\n",
       "    }\n",
       "\n",
       "    .dataframe thead th {\n",
       "        text-align: right;\n",
       "    }\n",
       "</style>\n",
       "<table border=\"1\" class=\"dataframe\">\n",
       "  <thead>\n",
       "    <tr style=\"text-align: right;\">\n",
       "      <th></th>\n",
       "      <th>country</th>\n",
       "      <th>beer_servings</th>\n",
       "      <th>spirit_servings</th>\n",
       "      <th>wine_servings</th>\n",
       "      <th>total_litres_of_pure_alcohol</th>\n",
       "      <th>continent</th>\n",
       "    </tr>\n",
       "  </thead>\n",
       "  <tbody>\n",
       "    <tr>\n",
       "      <th>0</th>\n",
       "      <td>Afghanistan</td>\n",
       "      <td>0</td>\n",
       "      <td>0</td>\n",
       "      <td>0</td>\n",
       "      <td>0.0</td>\n",
       "      <td>AS</td>\n",
       "    </tr>\n",
       "    <tr>\n",
       "      <th>1</th>\n",
       "      <td>Albania</td>\n",
       "      <td>89</td>\n",
       "      <td>132</td>\n",
       "      <td>54</td>\n",
       "      <td>4.9</td>\n",
       "      <td>EU</td>\n",
       "    </tr>\n",
       "    <tr>\n",
       "      <th>2</th>\n",
       "      <td>Algeria</td>\n",
       "      <td>25</td>\n",
       "      <td>0</td>\n",
       "      <td>14</td>\n",
       "      <td>0.7</td>\n",
       "      <td>AF</td>\n",
       "    </tr>\n",
       "    <tr>\n",
       "      <th>3</th>\n",
       "      <td>Andorra</td>\n",
       "      <td>245</td>\n",
       "      <td>138</td>\n",
       "      <td>312</td>\n",
       "      <td>12.4</td>\n",
       "      <td>EU</td>\n",
       "    </tr>\n",
       "    <tr>\n",
       "      <th>4</th>\n",
       "      <td>Angola</td>\n",
       "      <td>217</td>\n",
       "      <td>57</td>\n",
       "      <td>45</td>\n",
       "      <td>5.9</td>\n",
       "      <td>AF</td>\n",
       "    </tr>\n",
       "    <tr>\n",
       "      <th>...</th>\n",
       "      <td>...</td>\n",
       "      <td>...</td>\n",
       "      <td>...</td>\n",
       "      <td>...</td>\n",
       "      <td>...</td>\n",
       "      <td>...</td>\n",
       "    </tr>\n",
       "    <tr>\n",
       "      <th>188</th>\n",
       "      <td>Venezuela</td>\n",
       "      <td>333</td>\n",
       "      <td>100</td>\n",
       "      <td>3</td>\n",
       "      <td>7.7</td>\n",
       "      <td>SA</td>\n",
       "    </tr>\n",
       "    <tr>\n",
       "      <th>189</th>\n",
       "      <td>Vietnam</td>\n",
       "      <td>111</td>\n",
       "      <td>2</td>\n",
       "      <td>1</td>\n",
       "      <td>2.0</td>\n",
       "      <td>AS</td>\n",
       "    </tr>\n",
       "    <tr>\n",
       "      <th>190</th>\n",
       "      <td>Yemen</td>\n",
       "      <td>6</td>\n",
       "      <td>0</td>\n",
       "      <td>0</td>\n",
       "      <td>0.1</td>\n",
       "      <td>AS</td>\n",
       "    </tr>\n",
       "    <tr>\n",
       "      <th>191</th>\n",
       "      <td>Zambia</td>\n",
       "      <td>32</td>\n",
       "      <td>19</td>\n",
       "      <td>4</td>\n",
       "      <td>2.5</td>\n",
       "      <td>AF</td>\n",
       "    </tr>\n",
       "    <tr>\n",
       "      <th>192</th>\n",
       "      <td>Zimbabwe</td>\n",
       "      <td>64</td>\n",
       "      <td>18</td>\n",
       "      <td>4</td>\n",
       "      <td>4.7</td>\n",
       "      <td>AF</td>\n",
       "    </tr>\n",
       "  </tbody>\n",
       "</table>\n",
       "<p>193 rows × 6 columns</p>\n",
       "</div>"
      ],
      "text/plain": [
       "         country  beer_servings  spirit_servings  wine_servings  \\\n",
       "0    Afghanistan              0                0              0   \n",
       "1        Albania             89              132             54   \n",
       "2        Algeria             25                0             14   \n",
       "3        Andorra            245              138            312   \n",
       "4         Angola            217               57             45   \n",
       "..           ...            ...              ...            ...   \n",
       "188    Venezuela            333              100              3   \n",
       "189      Vietnam            111                2              1   \n",
       "190        Yemen              6                0              0   \n",
       "191       Zambia             32               19              4   \n",
       "192     Zimbabwe             64               18              4   \n",
       "\n",
       "     total_litres_of_pure_alcohol continent  \n",
       "0                             0.0        AS  \n",
       "1                             4.9        EU  \n",
       "2                             0.7        AF  \n",
       "3                            12.4        EU  \n",
       "4                             5.9        AF  \n",
       "..                            ...       ...  \n",
       "188                           7.7        SA  \n",
       "189                           2.0        AS  \n",
       "190                           0.1        AS  \n",
       "191                           2.5        AF  \n",
       "192                           4.7        AF  \n",
       "\n",
       "[193 rows x 6 columns]"
      ]
     },
     "execution_count": 2,
     "metadata": {},
     "output_type": "execute_result"
    }
   ],
   "source": [
    "drinks = pd.read_csv('drinks.csv')\n",
    "drinks"
   ]
  },
  {
   "cell_type": "markdown",
   "metadata": {
    "id": "HauSs2vFj3Tz"
   },
   "source": [
    "`drinks`의 타입을 확인하면, 판다스 모듈의 데이터프레임이다. "
   ]
  },
  {
   "cell_type": "code",
   "execution_count": 3,
   "metadata": {
    "colab": {
     "base_uri": "https://localhost:8080/"
    },
    "executionInfo": {
     "elapsed": 911,
     "status": "ok",
     "timestamp": 1621233477471,
     "user": {
      "displayName": "HJ Kim",
      "photoUrl": "",
      "userId": "16634276932240017990"
     },
     "user_tz": -540
    },
    "id": "_sAVPADxEdRn",
    "outputId": "2d494591-34d7-4400-87ec-3480850a108c"
   },
   "outputs": [
    {
     "data": {
      "text/plain": [
       "pandas.core.frame.DataFrame"
      ]
     },
     "execution_count": 3,
     "metadata": {},
     "output_type": "execute_result"
    }
   ],
   "source": [
    "type(drinks)"
   ]
  },
  {
   "cell_type": "markdown",
   "metadata": {
    "id": "0s6WzldxkDfl"
   },
   "source": [
    "데이터프레임 `drinks`의 처음 7개의 데이터를 확인해보자."
   ]
  },
  {
   "cell_type": "code",
   "execution_count": 4,
   "metadata": {
    "colab": {
     "base_uri": "https://localhost:8080/",
     "height": 266
    },
    "executionInfo": {
     "elapsed": 789,
     "status": "ok",
     "timestamp": 1621228696640,
     "user": {
      "displayName": "HJ Kim",
      "photoUrl": "",
      "userId": "16634276932240017990"
     },
     "user_tz": -540
    },
    "id": "wQfWehtLEHOB",
    "outputId": "2c26c7ec-f2d7-4887-ea5f-6db902d949b1"
   },
   "outputs": [
    {
     "data": {
      "text/html": [
       "<div>\n",
       "<style scoped>\n",
       "    .dataframe tbody tr th:only-of-type {\n",
       "        vertical-align: middle;\n",
       "    }\n",
       "\n",
       "    .dataframe tbody tr th {\n",
       "        vertical-align: top;\n",
       "    }\n",
       "\n",
       "    .dataframe thead th {\n",
       "        text-align: right;\n",
       "    }\n",
       "</style>\n",
       "<table border=\"1\" class=\"dataframe\">\n",
       "  <thead>\n",
       "    <tr style=\"text-align: right;\">\n",
       "      <th></th>\n",
       "      <th>country</th>\n",
       "      <th>beer_servings</th>\n",
       "      <th>spirit_servings</th>\n",
       "      <th>wine_servings</th>\n",
       "      <th>total_litres_of_pure_alcohol</th>\n",
       "      <th>continent</th>\n",
       "    </tr>\n",
       "  </thead>\n",
       "  <tbody>\n",
       "    <tr>\n",
       "      <th>0</th>\n",
       "      <td>Afghanistan</td>\n",
       "      <td>0</td>\n",
       "      <td>0</td>\n",
       "      <td>0</td>\n",
       "      <td>0.0</td>\n",
       "      <td>AS</td>\n",
       "    </tr>\n",
       "    <tr>\n",
       "      <th>1</th>\n",
       "      <td>Albania</td>\n",
       "      <td>89</td>\n",
       "      <td>132</td>\n",
       "      <td>54</td>\n",
       "      <td>4.9</td>\n",
       "      <td>EU</td>\n",
       "    </tr>\n",
       "    <tr>\n",
       "      <th>2</th>\n",
       "      <td>Algeria</td>\n",
       "      <td>25</td>\n",
       "      <td>0</td>\n",
       "      <td>14</td>\n",
       "      <td>0.7</td>\n",
       "      <td>AF</td>\n",
       "    </tr>\n",
       "    <tr>\n",
       "      <th>3</th>\n",
       "      <td>Andorra</td>\n",
       "      <td>245</td>\n",
       "      <td>138</td>\n",
       "      <td>312</td>\n",
       "      <td>12.4</td>\n",
       "      <td>EU</td>\n",
       "    </tr>\n",
       "    <tr>\n",
       "      <th>4</th>\n",
       "      <td>Angola</td>\n",
       "      <td>217</td>\n",
       "      <td>57</td>\n",
       "      <td>45</td>\n",
       "      <td>5.9</td>\n",
       "      <td>AF</td>\n",
       "    </tr>\n",
       "    <tr>\n",
       "      <th>5</th>\n",
       "      <td>Antigua &amp; Barbuda</td>\n",
       "      <td>102</td>\n",
       "      <td>128</td>\n",
       "      <td>45</td>\n",
       "      <td>4.9</td>\n",
       "      <td>NaN</td>\n",
       "    </tr>\n",
       "    <tr>\n",
       "      <th>6</th>\n",
       "      <td>Argentina</td>\n",
       "      <td>193</td>\n",
       "      <td>25</td>\n",
       "      <td>221</td>\n",
       "      <td>8.3</td>\n",
       "      <td>SA</td>\n",
       "    </tr>\n",
       "  </tbody>\n",
       "</table>\n",
       "</div>"
      ],
      "text/plain": [
       "             country  beer_servings  spirit_servings  wine_servings  \\\n",
       "0        Afghanistan              0                0              0   \n",
       "1            Albania             89              132             54   \n",
       "2            Algeria             25                0             14   \n",
       "3            Andorra            245              138            312   \n",
       "4             Angola            217               57             45   \n",
       "5  Antigua & Barbuda            102              128             45   \n",
       "6          Argentina            193               25            221   \n",
       "\n",
       "   total_litres_of_pure_alcohol continent  \n",
       "0                           0.0        AS  \n",
       "1                           4.9        EU  \n",
       "2                           0.7        AF  \n",
       "3                          12.4        EU  \n",
       "4                           5.9        AF  \n",
       "5                           4.9       NaN  \n",
       "6                           8.3        SA  "
      ]
     },
     "execution_count": 4,
     "metadata": {},
     "output_type": "execute_result"
    }
   ],
   "source": [
    "drinks.head(7)"
   ]
  },
  {
   "cell_type": "markdown",
   "metadata": {
    "id": "X13PTyt3kk4L"
   },
   "source": [
    "데이터프레임 `drinks`의 끝에 있는 5개의 데이터를 확인해보자.  "
   ]
  },
  {
   "cell_type": "code",
   "execution_count": 5,
   "metadata": {
    "colab": {
     "base_uri": "https://localhost:8080/",
     "height": 204
    },
    "executionInfo": {
     "elapsed": 914,
     "status": "ok",
     "timestamp": 1621228697820,
     "user": {
      "displayName": "HJ Kim",
      "photoUrl": "",
      "userId": "16634276932240017990"
     },
     "user_tz": -540
    },
    "id": "hbhl5jccEKGd",
    "outputId": "bea208de-cdbd-457c-d40b-01ffb70f59ee"
   },
   "outputs": [
    {
     "data": {
      "text/html": [
       "<div>\n",
       "<style scoped>\n",
       "    .dataframe tbody tr th:only-of-type {\n",
       "        vertical-align: middle;\n",
       "    }\n",
       "\n",
       "    .dataframe tbody tr th {\n",
       "        vertical-align: top;\n",
       "    }\n",
       "\n",
       "    .dataframe thead th {\n",
       "        text-align: right;\n",
       "    }\n",
       "</style>\n",
       "<table border=\"1\" class=\"dataframe\">\n",
       "  <thead>\n",
       "    <tr style=\"text-align: right;\">\n",
       "      <th></th>\n",
       "      <th>country</th>\n",
       "      <th>beer_servings</th>\n",
       "      <th>spirit_servings</th>\n",
       "      <th>wine_servings</th>\n",
       "      <th>total_litres_of_pure_alcohol</th>\n",
       "      <th>continent</th>\n",
       "    </tr>\n",
       "  </thead>\n",
       "  <tbody>\n",
       "    <tr>\n",
       "      <th>188</th>\n",
       "      <td>Venezuela</td>\n",
       "      <td>333</td>\n",
       "      <td>100</td>\n",
       "      <td>3</td>\n",
       "      <td>7.7</td>\n",
       "      <td>SA</td>\n",
       "    </tr>\n",
       "    <tr>\n",
       "      <th>189</th>\n",
       "      <td>Vietnam</td>\n",
       "      <td>111</td>\n",
       "      <td>2</td>\n",
       "      <td>1</td>\n",
       "      <td>2.0</td>\n",
       "      <td>AS</td>\n",
       "    </tr>\n",
       "    <tr>\n",
       "      <th>190</th>\n",
       "      <td>Yemen</td>\n",
       "      <td>6</td>\n",
       "      <td>0</td>\n",
       "      <td>0</td>\n",
       "      <td>0.1</td>\n",
       "      <td>AS</td>\n",
       "    </tr>\n",
       "    <tr>\n",
       "      <th>191</th>\n",
       "      <td>Zambia</td>\n",
       "      <td>32</td>\n",
       "      <td>19</td>\n",
       "      <td>4</td>\n",
       "      <td>2.5</td>\n",
       "      <td>AF</td>\n",
       "    </tr>\n",
       "    <tr>\n",
       "      <th>192</th>\n",
       "      <td>Zimbabwe</td>\n",
       "      <td>64</td>\n",
       "      <td>18</td>\n",
       "      <td>4</td>\n",
       "      <td>4.7</td>\n",
       "      <td>AF</td>\n",
       "    </tr>\n",
       "  </tbody>\n",
       "</table>\n",
       "</div>"
      ],
      "text/plain": [
       "       country  beer_servings  spirit_servings  wine_servings  \\\n",
       "188  Venezuela            333              100              3   \n",
       "189    Vietnam            111                2              1   \n",
       "190      Yemen              6                0              0   \n",
       "191     Zambia             32               19              4   \n",
       "192   Zimbabwe             64               18              4   \n",
       "\n",
       "     total_litres_of_pure_alcohol continent  \n",
       "188                           7.7        SA  \n",
       "189                           2.0        AS  \n",
       "190                           0.1        AS  \n",
       "191                           2.5        AF  \n",
       "192                           4.7        AF  "
      ]
     },
     "execution_count": 5,
     "metadata": {},
     "output_type": "execute_result"
    }
   ],
   "source": [
    "drinks.tail()"
   ]
  },
  {
   "cell_type": "markdown",
   "metadata": {
    "id": "_tkLABw-kxq8"
   },
   "source": [
    "`drinks`의 열(column) 이름을 확인해보자."
   ]
  },
  {
   "cell_type": "code",
   "execution_count": 6,
   "metadata": {
    "colab": {
     "base_uri": "https://localhost:8080/"
    },
    "executionInfo": {
     "elapsed": 512,
     "status": "ok",
     "timestamp": 1621228698870,
     "user": {
      "displayName": "HJ Kim",
      "photoUrl": "",
      "userId": "16634276932240017990"
     },
     "user_tz": -540
    },
    "id": "i5OuU21sE1bL",
    "outputId": "fd602570-7749-4fe9-e346-ffd091b86014"
   },
   "outputs": [
    {
     "data": {
      "text/plain": [
       "Index(['country', 'beer_servings', 'spirit_servings', 'wine_servings',\n",
       "       'total_litres_of_pure_alcohol', 'continent'],\n",
       "      dtype='object')"
      ]
     },
     "execution_count": 6,
     "metadata": {},
     "output_type": "execute_result"
    }
   ],
   "source": [
    "drinks.columns"
   ]
  },
  {
   "cell_type": "markdown",
   "metadata": {
    "id": "sMvdSBXak5lD"
   },
   "source": [
    "`drinks`의 인덱스(index)를 확인해보자. "
   ]
  },
  {
   "cell_type": "code",
   "execution_count": 7,
   "metadata": {
    "colab": {
     "base_uri": "https://localhost:8080/"
    },
    "executionInfo": {
     "elapsed": 826,
     "status": "ok",
     "timestamp": 1621228700591,
     "user": {
      "displayName": "HJ Kim",
      "photoUrl": "",
      "userId": "16634276932240017990"
     },
     "user_tz": -540
    },
    "id": "khKVr4gcE4UT",
    "outputId": "ba7d790e-4f69-42c5-daad-15149f46a73a"
   },
   "outputs": [
    {
     "data": {
      "text/plain": [
       "RangeIndex(start=0, stop=193, step=1)"
      ]
     },
     "execution_count": 7,
     "metadata": {},
     "output_type": "execute_result"
    }
   ],
   "source": [
    "drinks.index"
   ]
  },
  {
   "cell_type": "markdown",
   "metadata": {
    "id": "YPrhq7t7sElk"
   },
   "source": [
    "`info()` 메서드로 데이터의 기본 정보 몇 가지를 확인해보자. "
   ]
  },
  {
   "cell_type": "code",
   "execution_count": 8,
   "metadata": {
    "colab": {
     "base_uri": "https://localhost:8080/"
    },
    "executionInfo": {
     "elapsed": 618,
     "status": "ok",
     "timestamp": 1621228701740,
     "user": {
      "displayName": "HJ Kim",
      "photoUrl": "",
      "userId": "16634276932240017990"
     },
     "user_tz": -540
    },
    "id": "gzUL2924Eoby",
    "outputId": "a405feb7-19bd-488a-a137-c3ef0f603e2d"
   },
   "outputs": [
    {
     "name": "stdout",
     "output_type": "stream",
     "text": [
      "<class 'pandas.core.frame.DataFrame'>\n",
      "RangeIndex: 193 entries, 0 to 192\n",
      "Data columns (total 6 columns):\n",
      " #   Column                        Non-Null Count  Dtype  \n",
      "---  ------                        --------------  -----  \n",
      " 0   country                       193 non-null    object \n",
      " 1   beer_servings                 193 non-null    int64  \n",
      " 2   spirit_servings               193 non-null    int64  \n",
      " 3   wine_servings                 193 non-null    int64  \n",
      " 4   total_litres_of_pure_alcohol  193 non-null    float64\n",
      " 5   continent                     170 non-null    object \n",
      "dtypes: float64(1), int64(3), object(2)\n",
      "memory usage: 9.2+ KB\n"
     ]
    }
   ],
   "source": [
    "drinks.info()"
   ]
  },
  {
   "cell_type": "markdown",
   "metadata": {
    "id": "my5cYAIuvwsu"
   },
   "source": [
    "`drinks`의 `continent`열에는 23개의 결측치가 있는 것을 알 수 있다. 이는 아래의 코드로도 확인 가능하다. "
   ]
  },
  {
   "cell_type": "code",
   "execution_count": 9,
   "metadata": {
    "colab": {
     "base_uri": "https://localhost:8080/"
    },
    "executionInfo": {
     "elapsed": 737,
     "status": "ok",
     "timestamp": 1621228703617,
     "user": {
      "displayName": "HJ Kim",
      "photoUrl": "",
      "userId": "16634276932240017990"
     },
     "user_tz": -540
    },
    "id": "VY1K5fXGNm4t",
    "outputId": "026f3d47-9bb6-40a2-e7ae-b5c930bcbc08"
   },
   "outputs": [
    {
     "data": {
      "text/plain": [
       "23"
      ]
     },
     "execution_count": 9,
     "metadata": {},
     "output_type": "execute_result"
    }
   ],
   "source": [
    "drinks.continent.isnull().sum()"
   ]
  },
  {
   "cell_type": "markdown",
   "metadata": {
    "id": "VzqYNxNltXn3"
   },
   "source": [
    "`describe()` 메서드로 빈도수, 평균, 표준편차, 최댓값, 최솟값 등과 같은 기초통계량을 확인할 수 있다. "
   ]
  },
  {
   "cell_type": "code",
   "execution_count": 10,
   "metadata": {
    "colab": {
     "base_uri": "https://localhost:8080/",
     "height": 297
    },
    "executionInfo": {
     "elapsed": 638,
     "status": "ok",
     "timestamp": 1621228705292,
     "user": {
      "displayName": "HJ Kim",
      "photoUrl": "",
      "userId": "16634276932240017990"
     },
     "user_tz": -540
    },
    "id": "ImjsCYGDErkS",
    "outputId": "e023e59d-bf2c-4e55-a5e0-69a09f6189fa"
   },
   "outputs": [
    {
     "data": {
      "text/html": [
       "<div>\n",
       "<style scoped>\n",
       "    .dataframe tbody tr th:only-of-type {\n",
       "        vertical-align: middle;\n",
       "    }\n",
       "\n",
       "    .dataframe tbody tr th {\n",
       "        vertical-align: top;\n",
       "    }\n",
       "\n",
       "    .dataframe thead th {\n",
       "        text-align: right;\n",
       "    }\n",
       "</style>\n",
       "<table border=\"1\" class=\"dataframe\">\n",
       "  <thead>\n",
       "    <tr style=\"text-align: right;\">\n",
       "      <th></th>\n",
       "      <th>beer_servings</th>\n",
       "      <th>spirit_servings</th>\n",
       "      <th>wine_servings</th>\n",
       "      <th>total_litres_of_pure_alcohol</th>\n",
       "    </tr>\n",
       "  </thead>\n",
       "  <tbody>\n",
       "    <tr>\n",
       "      <th>count</th>\n",
       "      <td>193.000000</td>\n",
       "      <td>193.000000</td>\n",
       "      <td>193.000000</td>\n",
       "      <td>193.000000</td>\n",
       "    </tr>\n",
       "    <tr>\n",
       "      <th>mean</th>\n",
       "      <td>106.160622</td>\n",
       "      <td>80.994819</td>\n",
       "      <td>49.450777</td>\n",
       "      <td>4.717098</td>\n",
       "    </tr>\n",
       "    <tr>\n",
       "      <th>std</th>\n",
       "      <td>101.143103</td>\n",
       "      <td>88.284312</td>\n",
       "      <td>79.697598</td>\n",
       "      <td>3.773298</td>\n",
       "    </tr>\n",
       "    <tr>\n",
       "      <th>min</th>\n",
       "      <td>0.000000</td>\n",
       "      <td>0.000000</td>\n",
       "      <td>0.000000</td>\n",
       "      <td>0.000000</td>\n",
       "    </tr>\n",
       "    <tr>\n",
       "      <th>25%</th>\n",
       "      <td>20.000000</td>\n",
       "      <td>4.000000</td>\n",
       "      <td>1.000000</td>\n",
       "      <td>1.300000</td>\n",
       "    </tr>\n",
       "    <tr>\n",
       "      <th>50%</th>\n",
       "      <td>76.000000</td>\n",
       "      <td>56.000000</td>\n",
       "      <td>8.000000</td>\n",
       "      <td>4.200000</td>\n",
       "    </tr>\n",
       "    <tr>\n",
       "      <th>75%</th>\n",
       "      <td>188.000000</td>\n",
       "      <td>128.000000</td>\n",
       "      <td>59.000000</td>\n",
       "      <td>7.200000</td>\n",
       "    </tr>\n",
       "    <tr>\n",
       "      <th>max</th>\n",
       "      <td>376.000000</td>\n",
       "      <td>438.000000</td>\n",
       "      <td>370.000000</td>\n",
       "      <td>14.400000</td>\n",
       "    </tr>\n",
       "  </tbody>\n",
       "</table>\n",
       "</div>"
      ],
      "text/plain": [
       "       beer_servings  spirit_servings  wine_servings  \\\n",
       "count     193.000000       193.000000     193.000000   \n",
       "mean      106.160622        80.994819      49.450777   \n",
       "std       101.143103        88.284312      79.697598   \n",
       "min         0.000000         0.000000       0.000000   \n",
       "25%        20.000000         4.000000       1.000000   \n",
       "50%        76.000000        56.000000       8.000000   \n",
       "75%       188.000000       128.000000      59.000000   \n",
       "max       376.000000       438.000000     370.000000   \n",
       "\n",
       "       total_litres_of_pure_alcohol  \n",
       "count                    193.000000  \n",
       "mean                       4.717098  \n",
       "std                        3.773298  \n",
       "min                        0.000000  \n",
       "25%                        1.300000  \n",
       "50%                        4.200000  \n",
       "75%                        7.200000  \n",
       "max                       14.400000  "
      ]
     },
     "execution_count": 10,
     "metadata": {},
     "output_type": "execute_result"
    }
   ],
   "source": [
    "drinks.describe()"
   ]
  },
  {
   "cell_type": "markdown",
   "metadata": {
    "id": "2LTRQ3KvwhXX"
   },
   "source": [
    "`unique()` 메서드를 사용하면, 중복 값을 제거하고 유일한 값만을 보여준다.  \n",
    "예를 들어, `continent`열에 어떠한 항목들이 있는지 알고 싶을 때 아래와 같이 `unique()` 메서드를 사용할 수 있다. "
   ]
  },
  {
   "cell_type": "code",
   "execution_count": 11,
   "metadata": {
    "colab": {
     "base_uri": "https://localhost:8080/"
    },
    "executionInfo": {
     "elapsed": 708,
     "status": "ok",
     "timestamp": 1621228707454,
     "user": {
      "displayName": "HJ Kim",
      "photoUrl": "",
      "userId": "16634276932240017990"
     },
     "user_tz": -540
    },
    "id": "9db-Hl0YHOug",
    "outputId": "a17f3717-cab2-4f7c-e29e-36126ba55acc"
   },
   "outputs": [
    {
     "data": {
      "text/plain": [
       "array(['AS', 'EU', 'AF', nan, 'SA', 'OC'], dtype=object)"
      ]
     },
     "execution_count": 11,
     "metadata": {},
     "output_type": "execute_result"
    }
   ],
   "source": [
    "drinks.continent.unique()"
   ]
  },
  {
   "cell_type": "markdown",
   "metadata": {
    "id": "RMv3baalxSPR"
   },
   "source": [
    "`value_counts()` 메서드는 유일한 값과 그 개수를 확인할 때 사용한다. "
   ]
  },
  {
   "cell_type": "code",
   "execution_count": 12,
   "metadata": {
    "colab": {
     "base_uri": "https://localhost:8080/"
    },
    "executionInfo": {
     "elapsed": 755,
     "status": "ok",
     "timestamp": 1621228709444,
     "user": {
      "displayName": "HJ Kim",
      "photoUrl": "",
      "userId": "16634276932240017990"
     },
     "user_tz": -540
    },
    "id": "d8MQ4d65osQj",
    "outputId": "cd0596c9-8e58-4132-cbb3-e3bb32dc28cf"
   },
   "outputs": [
    {
     "data": {
      "text/plain": [
       "AF    53\n",
       "EU    45\n",
       "AS    44\n",
       "OC    16\n",
       "SA    12\n",
       "Name: continent, dtype: int64"
      ]
     },
     "execution_count": 12,
     "metadata": {},
     "output_type": "execute_result"
    }
   ],
   "source": [
    "drinks.continent.value_counts()"
   ]
  },
  {
   "cell_type": "markdown",
   "metadata": {
    "id": "5crMeguLq-Tg"
   },
   "source": [
    "## 데이터 분석  \n",
    "\n",
    "예를 들어, 맥주 소비량이 가장 높은 나라의 이름을 찾기 위해서 다음 두 가지 방식 중에 한 가지를 활용할 수 있다.  \n",
    "\n",
    "* 방법 1 : `beer_servings` 열을 기준으로 내림차순으로 정렬한 후 첫째 항 선택\n",
    "* 방법 2 : `beer_servings` 열에 대해 `max()` 메서드 적용. "
   ]
  },
  {
   "cell_type": "markdown",
   "metadata": {
    "id": "ox7XCTkDuM-B"
   },
   "source": [
    "* 방법 1 : 특정 열을 기준으로 내림차순으로 정렬하는 방법은 아래와 같다. "
   ]
  },
  {
   "cell_type": "code",
   "execution_count": 13,
   "metadata": {
    "colab": {
     "base_uri": "https://localhost:8080/",
     "height": 419
    },
    "executionInfo": {
     "elapsed": 698,
     "status": "ok",
     "timestamp": 1621228711838,
     "user": {
      "displayName": "HJ Kim",
      "photoUrl": "",
      "userId": "16634276932240017990"
     },
     "user_tz": -540
    },
    "id": "pj_330gVKJxa",
    "outputId": "54889035-cb7d-4616-e343-c6d8cfac2c73"
   },
   "outputs": [
    {
     "data": {
      "text/html": [
       "<div>\n",
       "<style scoped>\n",
       "    .dataframe tbody tr th:only-of-type {\n",
       "        vertical-align: middle;\n",
       "    }\n",
       "\n",
       "    .dataframe tbody tr th {\n",
       "        vertical-align: top;\n",
       "    }\n",
       "\n",
       "    .dataframe thead th {\n",
       "        text-align: right;\n",
       "    }\n",
       "</style>\n",
       "<table border=\"1\" class=\"dataframe\">\n",
       "  <thead>\n",
       "    <tr style=\"text-align: right;\">\n",
       "      <th></th>\n",
       "      <th>country</th>\n",
       "      <th>beer_servings</th>\n",
       "      <th>spirit_servings</th>\n",
       "      <th>wine_servings</th>\n",
       "      <th>total_litres_of_pure_alcohol</th>\n",
       "      <th>continent</th>\n",
       "    </tr>\n",
       "  </thead>\n",
       "  <tbody>\n",
       "    <tr>\n",
       "      <th>117</th>\n",
       "      <td>Namibia</td>\n",
       "      <td>376</td>\n",
       "      <td>3</td>\n",
       "      <td>1</td>\n",
       "      <td>6.8</td>\n",
       "      <td>AF</td>\n",
       "    </tr>\n",
       "    <tr>\n",
       "      <th>45</th>\n",
       "      <td>Czech Republic</td>\n",
       "      <td>361</td>\n",
       "      <td>170</td>\n",
       "      <td>134</td>\n",
       "      <td>11.8</td>\n",
       "      <td>EU</td>\n",
       "    </tr>\n",
       "    <tr>\n",
       "      <th>62</th>\n",
       "      <td>Gabon</td>\n",
       "      <td>347</td>\n",
       "      <td>98</td>\n",
       "      <td>59</td>\n",
       "      <td>8.9</td>\n",
       "      <td>AF</td>\n",
       "    </tr>\n",
       "    <tr>\n",
       "      <th>65</th>\n",
       "      <td>Germany</td>\n",
       "      <td>346</td>\n",
       "      <td>117</td>\n",
       "      <td>175</td>\n",
       "      <td>11.3</td>\n",
       "      <td>EU</td>\n",
       "    </tr>\n",
       "    <tr>\n",
       "      <th>98</th>\n",
       "      <td>Lithuania</td>\n",
       "      <td>343</td>\n",
       "      <td>244</td>\n",
       "      <td>56</td>\n",
       "      <td>12.9</td>\n",
       "      <td>EU</td>\n",
       "    </tr>\n",
       "    <tr>\n",
       "      <th>...</th>\n",
       "      <td>...</td>\n",
       "      <td>...</td>\n",
       "      <td>...</td>\n",
       "      <td>...</td>\n",
       "      <td>...</td>\n",
       "      <td>...</td>\n",
       "    </tr>\n",
       "    <tr>\n",
       "      <th>107</th>\n",
       "      <td>Mauritania</td>\n",
       "      <td>0</td>\n",
       "      <td>0</td>\n",
       "      <td>0</td>\n",
       "      <td>0.0</td>\n",
       "      <td>AF</td>\n",
       "    </tr>\n",
       "    <tr>\n",
       "      <th>158</th>\n",
       "      <td>Somalia</td>\n",
       "      <td>0</td>\n",
       "      <td>0</td>\n",
       "      <td>0</td>\n",
       "      <td>0.0</td>\n",
       "      <td>AF</td>\n",
       "    </tr>\n",
       "    <tr>\n",
       "      <th>111</th>\n",
       "      <td>Monaco</td>\n",
       "      <td>0</td>\n",
       "      <td>0</td>\n",
       "      <td>0</td>\n",
       "      <td>0.0</td>\n",
       "      <td>EU</td>\n",
       "    </tr>\n",
       "    <tr>\n",
       "      <th>128</th>\n",
       "      <td>Pakistan</td>\n",
       "      <td>0</td>\n",
       "      <td>0</td>\n",
       "      <td>0</td>\n",
       "      <td>0.0</td>\n",
       "      <td>AS</td>\n",
       "    </tr>\n",
       "    <tr>\n",
       "      <th>0</th>\n",
       "      <td>Afghanistan</td>\n",
       "      <td>0</td>\n",
       "      <td>0</td>\n",
       "      <td>0</td>\n",
       "      <td>0.0</td>\n",
       "      <td>AS</td>\n",
       "    </tr>\n",
       "  </tbody>\n",
       "</table>\n",
       "<p>193 rows × 6 columns</p>\n",
       "</div>"
      ],
      "text/plain": [
       "            country  beer_servings  spirit_servings  wine_servings  \\\n",
       "117         Namibia            376                3              1   \n",
       "45   Czech Republic            361              170            134   \n",
       "62            Gabon            347               98             59   \n",
       "65          Germany            346              117            175   \n",
       "98        Lithuania            343              244             56   \n",
       "..              ...            ...              ...            ...   \n",
       "107      Mauritania              0                0              0   \n",
       "158         Somalia              0                0              0   \n",
       "111          Monaco              0                0              0   \n",
       "128        Pakistan              0                0              0   \n",
       "0       Afghanistan              0                0              0   \n",
       "\n",
       "     total_litres_of_pure_alcohol continent  \n",
       "117                           6.8        AF  \n",
       "45                           11.8        EU  \n",
       "62                            8.9        AF  \n",
       "65                           11.3        EU  \n",
       "98                           12.9        EU  \n",
       "..                            ...       ...  \n",
       "107                           0.0        AF  \n",
       "158                           0.0        AF  \n",
       "111                           0.0        EU  \n",
       "128                           0.0        AS  \n",
       "0                             0.0        AS  \n",
       "\n",
       "[193 rows x 6 columns]"
      ]
     },
     "execution_count": 13,
     "metadata": {},
     "output_type": "execute_result"
    }
   ],
   "source": [
    "sorted_beer = drinks.sort_values('beer_servings', ascending=False)\n",
    "sorted_beer"
   ]
  },
  {
   "cell_type": "markdown",
   "metadata": {
    "id": "B3IhMMttuTjP"
   },
   "source": [
    "이제 첫째 행을 확인하면 된다. "
   ]
  },
  {
   "cell_type": "code",
   "execution_count": 14,
   "metadata": {
    "colab": {
     "base_uri": "https://localhost:8080/",
     "height": 80
    },
    "executionInfo": {
     "elapsed": 600,
     "status": "ok",
     "timestamp": 1621228713565,
     "user": {
      "displayName": "HJ Kim",
      "photoUrl": "",
      "userId": "16634276932240017990"
     },
     "user_tz": -540
    },
    "id": "5Uy-lOuOKLTf",
    "outputId": "990fea72-e030-4901-e90d-67c54a547bcc"
   },
   "outputs": [
    {
     "data": {
      "text/html": [
       "<div>\n",
       "<style scoped>\n",
       "    .dataframe tbody tr th:only-of-type {\n",
       "        vertical-align: middle;\n",
       "    }\n",
       "\n",
       "    .dataframe tbody tr th {\n",
       "        vertical-align: top;\n",
       "    }\n",
       "\n",
       "    .dataframe thead th {\n",
       "        text-align: right;\n",
       "    }\n",
       "</style>\n",
       "<table border=\"1\" class=\"dataframe\">\n",
       "  <thead>\n",
       "    <tr style=\"text-align: right;\">\n",
       "      <th></th>\n",
       "      <th>country</th>\n",
       "      <th>beer_servings</th>\n",
       "      <th>spirit_servings</th>\n",
       "      <th>wine_servings</th>\n",
       "      <th>total_litres_of_pure_alcohol</th>\n",
       "      <th>continent</th>\n",
       "    </tr>\n",
       "  </thead>\n",
       "  <tbody>\n",
       "    <tr>\n",
       "      <th>117</th>\n",
       "      <td>Namibia</td>\n",
       "      <td>376</td>\n",
       "      <td>3</td>\n",
       "      <td>1</td>\n",
       "      <td>6.8</td>\n",
       "      <td>AF</td>\n",
       "    </tr>\n",
       "  </tbody>\n",
       "</table>\n",
       "</div>"
      ],
      "text/plain": [
       "     country  beer_servings  spirit_servings  wine_servings  \\\n",
       "117  Namibia            376                3              1   \n",
       "\n",
       "     total_litres_of_pure_alcohol continent  \n",
       "117                           6.8        AF  "
      ]
     },
     "execution_count": 14,
     "metadata": {},
     "output_type": "execute_result"
    }
   ],
   "source": [
    "sorted_beer.head(1)"
   ]
  },
  {
   "cell_type": "markdown",
   "metadata": {
    "id": "zCA4dfBXyKGN"
   },
   "source": [
    "맥주 소비량이 가장 높은 나라는 나미비아Namibia인 것을 알 수 있다. "
   ]
  },
  {
   "cell_type": "markdown",
   "metadata": {
    "id": "kKE74pMbuXGr"
   },
   "source": [
    "* 방법 2 : `beer_servings`열의 포함된 숫자들을 대상으로 최댓값을 찾기 위해 `max()` 메서드를 적용하는 방식은 다음과 같다. 특정 열에 대해 일괄적으로 어떤 메서드를 적용하는 방식은 `max()` 메서드를 활용하는 방식과 유사하다. "
   ]
  },
  {
   "cell_type": "code",
   "execution_count": 15,
   "metadata": {
    "colab": {
     "base_uri": "https://localhost:8080/"
    },
    "executionInfo": {
     "elapsed": 601,
     "status": "ok",
     "timestamp": 1621228716168,
     "user": {
      "displayName": "HJ Kim",
      "photoUrl": "",
      "userId": "16634276932240017990"
     },
     "user_tz": -540
    },
    "id": "1y0063jcLHle",
    "outputId": "e82e19d6-c9b0-4219-dc31-49d6b36850cc"
   },
   "outputs": [
    {
     "data": {
      "text/plain": [
       "376"
      ]
     },
     "execution_count": 15,
     "metadata": {},
     "output_type": "execute_result"
    }
   ],
   "source": [
    "drinks['beer_servings'].max()"
   ]
  },
  {
   "cell_type": "markdown",
   "metadata": {
    "id": "dXAiJJ_XusCU"
   },
   "source": [
    "최댓값은 376이다. 이제 `beer_servings` 열의 값이 376인 데이터를 확인하자. "
   ]
  },
  {
   "cell_type": "code",
   "execution_count": 16,
   "metadata": {
    "colab": {
     "base_uri": "https://localhost:8080/",
     "height": 80
    },
    "executionInfo": {
     "elapsed": 750,
     "status": "ok",
     "timestamp": 1621228717950,
     "user": {
      "displayName": "HJ Kim",
      "photoUrl": "",
      "userId": "16634276932240017990"
     },
     "user_tz": -540
    },
    "id": "9MYqC09JLW1B",
    "outputId": "884c8755-b149-45e4-e7e5-143502dbb71d"
   },
   "outputs": [
    {
     "data": {
      "text/html": [
       "<div>\n",
       "<style scoped>\n",
       "    .dataframe tbody tr th:only-of-type {\n",
       "        vertical-align: middle;\n",
       "    }\n",
       "\n",
       "    .dataframe tbody tr th {\n",
       "        vertical-align: top;\n",
       "    }\n",
       "\n",
       "    .dataframe thead th {\n",
       "        text-align: right;\n",
       "    }\n",
       "</style>\n",
       "<table border=\"1\" class=\"dataframe\">\n",
       "  <thead>\n",
       "    <tr style=\"text-align: right;\">\n",
       "      <th></th>\n",
       "      <th>country</th>\n",
       "      <th>beer_servings</th>\n",
       "      <th>spirit_servings</th>\n",
       "      <th>wine_servings</th>\n",
       "      <th>total_litres_of_pure_alcohol</th>\n",
       "      <th>continent</th>\n",
       "    </tr>\n",
       "  </thead>\n",
       "  <tbody>\n",
       "    <tr>\n",
       "      <th>117</th>\n",
       "      <td>Namibia</td>\n",
       "      <td>376</td>\n",
       "      <td>3</td>\n",
       "      <td>1</td>\n",
       "      <td>6.8</td>\n",
       "      <td>AF</td>\n",
       "    </tr>\n",
       "  </tbody>\n",
       "</table>\n",
       "</div>"
      ],
      "text/plain": [
       "     country  beer_servings  spirit_servings  wine_servings  \\\n",
       "117  Namibia            376                3              1   \n",
       "\n",
       "     total_litres_of_pure_alcohol continent  \n",
       "117                           6.8        AF  "
      ]
     },
     "execution_count": 16,
     "metadata": {},
     "output_type": "execute_result"
    }
   ],
   "source": [
    "drinks[drinks.beer_servings == drinks.beer_servings.max()]"
   ]
  },
  {
   "cell_type": "markdown",
   "metadata": {
    "id": "HuL0QYoqvTog"
   },
   "source": [
    "### groupby()  \n",
    "\n",
    "데이터를 그룹별로 나누어 분석하고자 할 때, `groupby()`를 사용할 수 있다.  \n",
    "예를 들어, `drinks`를 대륙(continent)별로 분석하고 싶다면, 아래와 같이 코드를 작성하면 된다.   "
   ]
  },
  {
   "cell_type": "code",
   "execution_count": 17,
   "metadata": {
    "colab": {
     "base_uri": "https://localhost:8080/"
    },
    "executionInfo": {
     "elapsed": 916,
     "status": "ok",
     "timestamp": 1621228720252,
     "user": {
      "displayName": "HJ Kim",
      "photoUrl": "",
      "userId": "16634276932240017990"
     },
     "user_tz": -540
    },
    "id": "tJkNM0mMLWN4",
    "outputId": "95624bd8-3508-48af-d0df-0e3f8281d6c0"
   },
   "outputs": [
    {
     "data": {
      "text/plain": [
       "<pandas.core.groupby.generic.DataFrameGroupBy object at 0x7f1607ff66a0>"
      ]
     },
     "execution_count": 17,
     "metadata": {},
     "output_type": "execute_result"
    }
   ],
   "source": [
    "drinks_gp = drinks.groupby('continent')  #그룹을 만들 때 누락된 값(nan)은 무시됨. \n",
    "drinks_gp"
   ]
  },
  {
   "cell_type": "markdown",
   "metadata": {
    "id": "k1Cun4s42up1"
   },
   "source": [
    "`drinks_gp`은 `GroupBy`객체로, 그룹 연산을 위해 필요한 정보를 가지고 있다.    \n",
    "아래와 같이 `for ... in `문을 사용하면, 그룹명과 그 그룹에 해당하는 데이터를 튜플로 묶어 보여준다.  "
   ]
  },
  {
   "cell_type": "code",
   "execution_count": 18,
   "metadata": {
    "colab": {
     "base_uri": "https://localhost:8080/"
    },
    "executionInfo": {
     "elapsed": 723,
     "status": "ok",
     "timestamp": 1621228721884,
     "user": {
      "displayName": "HJ Kim",
      "photoUrl": "",
      "userId": "16634276932240017990"
     },
     "user_tz": -540
    },
    "id": "biIfzKVFLWSi",
    "outputId": "07efe9ad-4b23-4478-cc14-a5feb3992e80"
   },
   "outputs": [
    {
     "name": "stdout",
     "output_type": "stream",
     "text": [
      "('AF',                       country  beer_servings  spirit_servings  wine_servings  \\\n",
      "2                     Algeria             25                0             14   \n",
      "4                      Angola            217               57             45   \n",
      "18                      Benin             34                4             13   \n",
      "22                   Botswana            173               35             35   \n",
      "26               Burkina Faso             25                7              7   \n",
      "27                    Burundi             88                0              0   \n",
      "28              Cote d'Ivoire             37                1              7   \n",
      "29                 Cabo Verde            144               56             16   \n",
      "31                   Cameroon            147                1              4   \n",
      "33   Central African Republic             17                2              1   \n",
      "34                       Chad             15                1              1   \n",
      "38                    Comoros              1                3              1   \n",
      "39                      Congo             76                1              9   \n",
      "47                   DR Congo             32                3              1   \n",
      "49                   Djibouti             15               44              3   \n",
      "53                      Egypt              6                4              1   \n",
      "55          Equatorial Guinea             92                0            233   \n",
      "56                    Eritrea             18                0              0   \n",
      "58                   Ethiopia             20                3              0   \n",
      "62                      Gabon            347               98             59   \n",
      "63                     Gambia              8                0              1   \n",
      "66                      Ghana             31                3             10   \n",
      "70                     Guinea              9                0              2   \n",
      "71              Guinea-Bissau             28               31             21   \n",
      "88                      Kenya             58               22              2   \n",
      "95                    Lesotho             82               29              0   \n",
      "96                    Liberia             19              152              2   \n",
      "97                      Libya              0                0              0   \n",
      "100                Madagascar             26               15              4   \n",
      "101                    Malawi              8               11              1   \n",
      "104                      Mali              5                1              1   \n",
      "107                Mauritania              0                0              0   \n",
      "108                 Mauritius             98               31             18   \n",
      "114                   Morocco             12                6             10   \n",
      "115                Mozambique             47               18              5   \n",
      "117                   Namibia            376                3              1   \n",
      "123                     Niger              3                2              1   \n",
      "124                   Nigeria             42                5              2   \n",
      "142                    Rwanda             43                2              0   \n",
      "148       Sao Tome & Principe             56               38            140   \n",
      "150                   Senegal              9                1              7   \n",
      "152                Seychelles            157               25             51   \n",
      "153              Sierra Leone             25                3              2   \n",
      "158                   Somalia              0                0              0   \n",
      "159              South Africa            225               76             81   \n",
      "162                     Sudan              8               13              0   \n",
      "164                 Swaziland             90                2              2   \n",
      "172                      Togo             36                2             19   \n",
      "175                   Tunisia             51                3             20   \n",
      "179                    Uganda             45                9              0   \n",
      "183                  Tanzania             36                6              1   \n",
      "191                    Zambia             32               19              4   \n",
      "192                  Zimbabwe             64               18              4   \n",
      "\n",
      "     total_litres_of_pure_alcohol continent  \n",
      "2                             0.7        AF  \n",
      "4                             5.9        AF  \n",
      "18                            1.1        AF  \n",
      "22                            5.4        AF  \n",
      "26                            4.3        AF  \n",
      "27                            6.3        AF  \n",
      "28                            4.0        AF  \n",
      "29                            4.0        AF  \n",
      "31                            5.8        AF  \n",
      "33                            1.8        AF  \n",
      "34                            0.4        AF  \n",
      "38                            0.1        AF  \n",
      "39                            1.7        AF  \n",
      "47                            2.3        AF  \n",
      "49                            1.1        AF  \n",
      "53                            0.2        AF  \n",
      "55                            5.8        AF  \n",
      "56                            0.5        AF  \n",
      "58                            0.7        AF  \n",
      "62                            8.9        AF  \n",
      "63                            2.4        AF  \n",
      "66                            1.8        AF  \n",
      "70                            0.2        AF  \n",
      "71                            2.5        AF  \n",
      "88                            1.8        AF  \n",
      "95                            2.8        AF  \n",
      "96                            3.1        AF  \n",
      "97                            0.0        AF  \n",
      "100                           0.8        AF  \n",
      "101                           1.5        AF  \n",
      "104                           0.6        AF  \n",
      "107                           0.0        AF  \n",
      "108                           2.6        AF  \n",
      "114                           0.5        AF  \n",
      "115                           1.3        AF  \n",
      "117                           6.8        AF  \n",
      "123                           0.1        AF  \n",
      "124                           9.1        AF  \n",
      "142                           6.8        AF  \n",
      "148                           4.2        AF  \n",
      "150                           0.3        AF  \n",
      "152                           4.1        AF  \n",
      "153                           6.7        AF  \n",
      "158                           0.0        AF  \n",
      "159                           8.2        AF  \n",
      "162                           1.7        AF  \n",
      "164                           4.7        AF  \n",
      "172                           1.3        AF  \n",
      "175                           1.3        AF  \n",
      "179                           8.3        AF  \n",
      "183                           5.7        AF  \n",
      "191                           2.5        AF  \n",
      "192                           4.7        AF  )\n",
      "('AS',                   country  beer_servings  spirit_servings  wine_servings  \\\n",
      "0             Afghanistan              0                0              0   \n",
      "12                Bahrain             42               63              7   \n",
      "13             Bangladesh              0                0              0   \n",
      "19                 Bhutan             23                0              0   \n",
      "24                 Brunei             31                2              1   \n",
      "30               Cambodia             57               65              1   \n",
      "36                  China             79              192              8   \n",
      "46            North Korea              0                0              0   \n",
      "77                  India              9              114              0   \n",
      "78              Indonesia              5                1              0   \n",
      "79                   Iran              0                0              0   \n",
      "80                   Iraq              9                3              0   \n",
      "82                 Israel             63               69              9   \n",
      "85                  Japan             77              202             16   \n",
      "86                 Jordan              6               21              1   \n",
      "87             Kazakhstan            124              246             12   \n",
      "90                 Kuwait              0                0              0   \n",
      "91             Kyrgyzstan             31               97              6   \n",
      "92                   Laos             62                0            123   \n",
      "94                Lebanon             20               55             31   \n",
      "102              Malaysia             13                4              0   \n",
      "103              Maldives              0                0              0   \n",
      "112              Mongolia             77              189              8   \n",
      "116               Myanmar              5                1              0   \n",
      "119                 Nepal              5                6              0   \n",
      "127                  Oman             22               16              1   \n",
      "128              Pakistan              0                0              0   \n",
      "134           Philippines             71              186              1   \n",
      "137                 Qatar              1               42              7   \n",
      "138           South Korea            140               16              9   \n",
      "141    Russian Federation            247              326             73   \n",
      "149          Saudi Arabia              0                5              0   \n",
      "154             Singapore             60               12             11   \n",
      "161             Sri Lanka             16              104              0   \n",
      "167                 Syria              5               35             16   \n",
      "168            Tajikistan              2               15              0   \n",
      "169              Thailand             99              258              1   \n",
      "171           Timor-Leste              1                1              4   \n",
      "176                Turkey             51               22              7   \n",
      "177          Turkmenistan             19               71             32   \n",
      "181  United Arab Emirates             16              135              5   \n",
      "186            Uzbekistan             25              101              8   \n",
      "189               Vietnam            111                2              1   \n",
      "190                 Yemen              6                0              0   \n",
      "\n",
      "     total_litres_of_pure_alcohol continent  \n",
      "0                             0.0        AS  \n",
      "12                            2.0        AS  \n",
      "13                            0.0        AS  \n",
      "19                            0.4        AS  \n",
      "24                            0.6        AS  \n",
      "30                            2.2        AS  \n",
      "36                            5.0        AS  \n",
      "46                            0.0        AS  \n",
      "77                            2.2        AS  \n",
      "78                            0.1        AS  \n",
      "79                            0.0        AS  \n",
      "80                            0.2        AS  \n",
      "82                            2.5        AS  \n",
      "85                            7.0        AS  \n",
      "86                            0.5        AS  \n",
      "87                            6.8        AS  \n",
      "90                            0.0        AS  \n",
      "91                            2.4        AS  \n",
      "92                            6.2        AS  \n",
      "94                            1.9        AS  \n",
      "102                           0.3        AS  \n",
      "103                           0.0        AS  \n",
      "112                           4.9        AS  \n",
      "116                           0.1        AS  \n",
      "119                           0.2        AS  \n",
      "127                           0.7        AS  \n",
      "128                           0.0        AS  \n",
      "134                           4.6        AS  \n",
      "137                           0.9        AS  \n",
      "138                           9.8        AS  \n",
      "141                          11.5        AS  \n",
      "149                           0.1        AS  \n",
      "154                           1.5        AS  \n",
      "161                           2.2        AS  \n",
      "167                           1.0        AS  \n",
      "168                           0.3        AS  \n",
      "169                           6.4        AS  \n",
      "171                           0.1        AS  \n",
      "176                           1.4        AS  \n",
      "177                           2.2        AS  \n",
      "181                           2.8        AS  \n",
      "186                           2.4        AS  \n",
      "189                           2.0        AS  \n",
      "190                           0.1        AS  )\n",
      "('EU',                 country  beer_servings  spirit_servings  wine_servings  \\\n",
      "1               Albania             89              132             54   \n",
      "3               Andorra            245              138            312   \n",
      "7               Armenia             21              179             11   \n",
      "9               Austria            279               75            191   \n",
      "10           Azerbaijan             21               46              5   \n",
      "15              Belarus            142              373             42   \n",
      "16              Belgium            295               84            212   \n",
      "21   Bosnia-Herzegovina             76              173              8   \n",
      "25             Bulgaria            231              252             94   \n",
      "42              Croatia            230               87            254   \n",
      "44               Cyprus            192              154            113   \n",
      "45       Czech Republic            361              170            134   \n",
      "48              Denmark            224               81            278   \n",
      "57              Estonia            224              194             59   \n",
      "60              Finland            263              133             97   \n",
      "61               France            127              151            370   \n",
      "64              Georgia             52              100            149   \n",
      "65              Germany            346              117            175   \n",
      "67               Greece            133              112            218   \n",
      "75              Hungary            234              215            185   \n",
      "76              Iceland            233               61             78   \n",
      "81              Ireland            313              118            165   \n",
      "83                Italy             85               42            237   \n",
      "93               Latvia            281              216             62   \n",
      "98            Lithuania            343              244             56   \n",
      "99           Luxembourg            236              133            271   \n",
      "105               Malta            149              100            120   \n",
      "111              Monaco              0                0              0   \n",
      "113          Montenegro             31              114            128   \n",
      "120         Netherlands            251               88            190   \n",
      "126              Norway            169               71            129   \n",
      "135              Poland            343              215             56   \n",
      "136            Portugal            194               67            339   \n",
      "139             Moldova            109              226             18   \n",
      "140             Romania            297              122            167   \n",
      "147          San Marino              0                0              0   \n",
      "151              Serbia            283              131            127   \n",
      "155            Slovakia            196              293            116   \n",
      "156            Slovenia            270               51            276   \n",
      "160               Spain            284              157            112   \n",
      "165              Sweden            152               60            186   \n",
      "166         Switzerland            185              100            280   \n",
      "170           Macedonia            106               27             86   \n",
      "180             Ukraine            206              237             45   \n",
      "182      United Kingdom            219              126            195   \n",
      "\n",
      "     total_litres_of_pure_alcohol continent  \n",
      "1                             4.9        EU  \n",
      "3                            12.4        EU  \n",
      "7                             3.8        EU  \n",
      "9                             9.7        EU  \n",
      "10                            1.3        EU  \n",
      "15                           14.4        EU  \n",
      "16                           10.5        EU  \n",
      "21                            4.6        EU  \n",
      "25                           10.3        EU  \n",
      "42                           10.2        EU  \n",
      "44                            8.2        EU  \n",
      "45                           11.8        EU  \n",
      "48                           10.4        EU  \n",
      "57                            9.5        EU  \n",
      "60                           10.0        EU  \n",
      "61                           11.8        EU  \n",
      "64                            5.4        EU  \n",
      "65                           11.3        EU  \n",
      "67                            8.3        EU  \n",
      "75                           11.3        EU  \n",
      "76                            6.6        EU  \n",
      "81                           11.4        EU  \n",
      "83                            6.5        EU  \n",
      "93                           10.5        EU  \n",
      "98                           12.9        EU  \n",
      "99                           11.4        EU  \n",
      "105                           6.6        EU  \n",
      "111                           0.0        EU  \n",
      "113                           4.9        EU  \n",
      "120                           9.4        EU  \n",
      "126                           6.7        EU  \n",
      "135                          10.9        EU  \n",
      "136                          11.0        EU  \n",
      "139                           6.3        EU  \n",
      "140                          10.4        EU  \n",
      "147                           0.0        EU  \n",
      "151                           9.6        EU  \n",
      "155                          11.4        EU  \n",
      "156                          10.6        EU  \n",
      "160                          10.0        EU  \n",
      "165                           7.2        EU  \n",
      "166                          10.2        EU  \n",
      "170                           3.9        EU  \n",
      "180                           8.9        EU  \n",
      "182                          10.4        EU  )\n",
      "('OC',               country  beer_servings  spirit_servings  wine_servings  \\\n",
      "8           Australia            261               72            212   \n",
      "40       Cook Islands              0              254             74   \n",
      "59               Fiji             77               35              1   \n",
      "89           Kiribati             21               34              1   \n",
      "106  Marshall Islands              0                0              0   \n",
      "110        Micronesia             62               50             18   \n",
      "118             Nauru             49                0              8   \n",
      "121       New Zealand            203               79            175   \n",
      "125              Niue            188              200              7   \n",
      "129             Palau            306               63             23   \n",
      "131  Papua New Guinea             44               39              1   \n",
      "146             Samoa            105               18             24   \n",
      "157   Solomon Islands             56               11              1   \n",
      "173             Tonga             36               21              5   \n",
      "178            Tuvalu              6               41              9   \n",
      "187           Vanuatu             21               18             11   \n",
      "\n",
      "     total_litres_of_pure_alcohol continent  \n",
      "8                            10.4        OC  \n",
      "40                            5.9        OC  \n",
      "59                            2.0        OC  \n",
      "89                            1.0        OC  \n",
      "106                           0.0        OC  \n",
      "110                           2.3        OC  \n",
      "118                           1.0        OC  \n",
      "121                           9.3        OC  \n",
      "125                           7.0        OC  \n",
      "129                           6.9        OC  \n",
      "131                           1.5        OC  \n",
      "146                           2.6        OC  \n",
      "157                           1.2        OC  \n",
      "173                           1.1        OC  \n",
      "178                           1.0        OC  \n",
      "187                           0.9        OC  )\n",
      "('SA',        country  beer_servings  spirit_servings  wine_servings  \\\n",
      "6    Argentina            193               25            221   \n",
      "20     Bolivia            167               41              8   \n",
      "23      Brazil            245              145             16   \n",
      "35       Chile            130              124            172   \n",
      "37    Colombia            159               76              3   \n",
      "52     Ecuador            162               74              3   \n",
      "72      Guyana             93              302              1   \n",
      "132   Paraguay            213              117             74   \n",
      "133       Peru            163              160             21   \n",
      "163   Suriname            128              178              7   \n",
      "185    Uruguay            115               35            220   \n",
      "188  Venezuela            333              100              3   \n",
      "\n",
      "     total_litres_of_pure_alcohol continent  \n",
      "6                             8.3        SA  \n",
      "20                            3.8        SA  \n",
      "23                            7.2        SA  \n",
      "35                            7.6        SA  \n",
      "37                            4.2        SA  \n",
      "52                            4.2        SA  \n",
      "72                            7.1        SA  \n",
      "132                           7.3        SA  \n",
      "133                           6.1        SA  \n",
      "163                           5.6        SA  \n",
      "185                           6.6        SA  \n",
      "188                           7.7        SA  )\n"
     ]
    }
   ],
   "source": [
    "for gp in drinks_gp :\n",
    "    print(gp)"
   ]
  },
  {
   "cell_type": "markdown",
   "metadata": {
    "id": "sO_pp8JF6qkp"
   },
   "source": [
    "예를 들어, 대륙별 각 열의 평균이 알고 싶다면, `GroupBy` 객체에 `mean()` 메서드를 사용하면 된다. "
   ]
  },
  {
   "cell_type": "code",
   "execution_count": 19,
   "metadata": {
    "colab": {
     "base_uri": "https://localhost:8080/",
     "height": 235
    },
    "executionInfo": {
     "elapsed": 668,
     "status": "ok",
     "timestamp": 1621228724151,
     "user": {
      "displayName": "HJ Kim",
      "photoUrl": "",
      "userId": "16634276932240017990"
     },
     "user_tz": -540
    },
    "id": "zhhkZb_rzLXR",
    "outputId": "63738b55-a61e-407c-d2c9-d1355eedb789"
   },
   "outputs": [
    {
     "data": {
      "text/html": [
       "<div>\n",
       "<style scoped>\n",
       "    .dataframe tbody tr th:only-of-type {\n",
       "        vertical-align: middle;\n",
       "    }\n",
       "\n",
       "    .dataframe tbody tr th {\n",
       "        vertical-align: top;\n",
       "    }\n",
       "\n",
       "    .dataframe thead th {\n",
       "        text-align: right;\n",
       "    }\n",
       "</style>\n",
       "<table border=\"1\" class=\"dataframe\">\n",
       "  <thead>\n",
       "    <tr style=\"text-align: right;\">\n",
       "      <th></th>\n",
       "      <th>beer_servings</th>\n",
       "      <th>spirit_servings</th>\n",
       "      <th>wine_servings</th>\n",
       "      <th>total_litres_of_pure_alcohol</th>\n",
       "    </tr>\n",
       "    <tr>\n",
       "      <th>continent</th>\n",
       "      <th></th>\n",
       "      <th></th>\n",
       "      <th></th>\n",
       "      <th></th>\n",
       "    </tr>\n",
       "  </thead>\n",
       "  <tbody>\n",
       "    <tr>\n",
       "      <th>AF</th>\n",
       "      <td>61.471698</td>\n",
       "      <td>16.339623</td>\n",
       "      <td>16.264151</td>\n",
       "      <td>3.007547</td>\n",
       "    </tr>\n",
       "    <tr>\n",
       "      <th>AS</th>\n",
       "      <td>37.045455</td>\n",
       "      <td>60.840909</td>\n",
       "      <td>9.068182</td>\n",
       "      <td>2.170455</td>\n",
       "    </tr>\n",
       "    <tr>\n",
       "      <th>EU</th>\n",
       "      <td>193.777778</td>\n",
       "      <td>132.555556</td>\n",
       "      <td>142.222222</td>\n",
       "      <td>8.617778</td>\n",
       "    </tr>\n",
       "    <tr>\n",
       "      <th>OC</th>\n",
       "      <td>89.687500</td>\n",
       "      <td>58.437500</td>\n",
       "      <td>35.625000</td>\n",
       "      <td>3.381250</td>\n",
       "    </tr>\n",
       "    <tr>\n",
       "      <th>SA</th>\n",
       "      <td>175.083333</td>\n",
       "      <td>114.750000</td>\n",
       "      <td>62.416667</td>\n",
       "      <td>6.308333</td>\n",
       "    </tr>\n",
       "  </tbody>\n",
       "</table>\n",
       "</div>"
      ],
      "text/plain": [
       "           beer_servings  spirit_servings  wine_servings  \\\n",
       "continent                                                  \n",
       "AF             61.471698        16.339623      16.264151   \n",
       "AS             37.045455        60.840909       9.068182   \n",
       "EU            193.777778       132.555556     142.222222   \n",
       "OC             89.687500        58.437500      35.625000   \n",
       "SA            175.083333       114.750000      62.416667   \n",
       "\n",
       "           total_litres_of_pure_alcohol  \n",
       "continent                                \n",
       "AF                             3.007547  \n",
       "AS                             2.170455  \n",
       "EU                             8.617778  \n",
       "OC                             3.381250  \n",
       "SA                             6.308333  "
      ]
     },
     "execution_count": 19,
     "metadata": {},
     "output_type": "execute_result"
    }
   ],
   "source": [
    "drinks_gp.mean()"
   ]
  },
  {
   "cell_type": "markdown",
   "metadata": {
    "id": "snu1NFkS66Rb"
   },
   "source": [
    "그룹별 특정열에 대한 분석도 할 수 있다.  \n",
    "예를 들어, 대륙별 맥주 소비량의 평균이 알고 싶다면, 아래와 같이 코드를 작성하면 된다. "
   ]
  },
  {
   "cell_type": "code",
   "execution_count": 20,
   "metadata": {
    "colab": {
     "base_uri": "https://localhost:8080/"
    },
    "executionInfo": {
     "elapsed": 650,
     "status": "ok",
     "timestamp": 1621228726062,
     "user": {
      "displayName": "HJ Kim",
      "photoUrl": "",
      "userId": "16634276932240017990"
     },
     "user_tz": -540
    },
    "id": "Qxbt77SFLWYG",
    "outputId": "e0fd2f6e-7ef8-4a7d-ca89-24c1c1b0abd4"
   },
   "outputs": [
    {
     "data": {
      "text/plain": [
       "continent\n",
       "AF     61.471698\n",
       "AS     37.045455\n",
       "EU    193.777778\n",
       "OC     89.687500\n",
       "SA    175.083333\n",
       "Name: beer_servings, dtype: float64"
      ]
     },
     "execution_count": 20,
     "metadata": {},
     "output_type": "execute_result"
    }
   ],
   "source": [
    "beer_mean = drinks_gp.beer_servings.mean()\n",
    "beer_mean"
   ]
  },
  {
   "cell_type": "markdown",
   "metadata": {
    "id": "QTlH9V99_jMm"
   },
   "source": [
    "`median()` 메서드를 사용하여, 대륙별 맥주 소비량의 중앙값을 구할 수도 있다. "
   ]
  },
  {
   "cell_type": "code",
   "execution_count": 21,
   "metadata": {
    "colab": {
     "base_uri": "https://localhost:8080/"
    },
    "executionInfo": {
     "elapsed": 857,
     "status": "ok",
     "timestamp": 1621228730124,
     "user": {
      "displayName": "HJ Kim",
      "photoUrl": "",
      "userId": "16634276932240017990"
     },
     "user_tz": -540
    },
    "id": "xifOvGBEOWfE",
    "outputId": "82232528-55e3-43f0-d613-baa64fd78d92"
   },
   "outputs": [
    {
     "data": {
      "text/plain": [
       "continent\n",
       "AF     32.0\n",
       "AS     17.5\n",
       "EU    219.0\n",
       "OC     52.5\n",
       "SA    162.5\n",
       "Name: beer_servings, dtype: float64"
      ]
     },
     "execution_count": 21,
     "metadata": {},
     "output_type": "execute_result"
    }
   ],
   "source": [
    "beer_median = drinks_gp.beer_servings.median()\n",
    "beer_median"
   ]
  },
  {
   "cell_type": "markdown",
   "metadata": {
    "id": "HAEXpUnA_u9t"
   },
   "source": [
    "대륙별 와인 소비량의 평균을 확인해보자. "
   ]
  },
  {
   "cell_type": "code",
   "execution_count": 22,
   "metadata": {
    "colab": {
     "base_uri": "https://localhost:8080/"
    },
    "executionInfo": {
     "elapsed": 672,
     "status": "ok",
     "timestamp": 1621228731860,
     "user": {
      "displayName": "HJ Kim",
      "photoUrl": "",
      "userId": "16634276932240017990"
     },
     "user_tz": -540
    },
    "id": "MEKVv0SMOmma",
    "outputId": "4cdb973b-ee2b-4c89-a8f8-b1906bb046cb"
   },
   "outputs": [
    {
     "data": {
      "text/plain": [
       "continent\n",
       "AF     16.264151\n",
       "AS      9.068182\n",
       "EU    142.222222\n",
       "OC     35.625000\n",
       "SA     62.416667\n",
       "Name: wine_servings, dtype: float64"
      ]
     },
     "execution_count": 22,
     "metadata": {},
     "output_type": "execute_result"
    }
   ],
   "source": [
    "wine_mean = drinks_gp.wine_servings.mean()\n",
    "wine_mean"
   ]
  },
  {
   "cell_type": "markdown",
   "metadata": {
    "id": "s__SzYDY_16g"
   },
   "source": [
    "대륙별 와인 소비량의 중앙값도 확인해보자. "
   ]
  },
  {
   "cell_type": "code",
   "execution_count": 23,
   "metadata": {
    "colab": {
     "base_uri": "https://localhost:8080/"
    },
    "executionInfo": {
     "elapsed": 1388,
     "status": "ok",
     "timestamp": 1621228734228,
     "user": {
      "displayName": "HJ Kim",
      "photoUrl": "",
      "userId": "16634276932240017990"
     },
     "user_tz": -540
    },
    "id": "Mufs1ZQBOpvR",
    "outputId": "1e7bfe90-6125-4240-c4fa-5b91a28b0bbf"
   },
   "outputs": [
    {
     "data": {
      "text/plain": [
       "continent\n",
       "AF      2.0\n",
       "AS      1.0\n",
       "EU    128.0\n",
       "OC      8.5\n",
       "SA     12.0\n",
       "Name: wine_servings, dtype: float64"
      ]
     },
     "execution_count": 23,
     "metadata": {},
     "output_type": "execute_result"
    }
   ],
   "source": [
    "wine_median = drinks_gp.wine_servings.median()\n",
    "wine_median"
   ]
  },
  {
   "cell_type": "markdown",
   "metadata": {
    "id": "bv5gNuZmvIuI"
   },
   "source": [
    "## 데이터 시각화1   \n",
    "\n",
    "데이터 분석을 위해 기본적으로 하는 일 중 하나가 데이터 시각화이다. 데이터를 시각화하는 것은 어렵지 않지만, 적합한 시각화를 만드는 일은 매우 어려우며, 많은 훈련과 직관이 요구된다.  \n",
    "\n",
    "여기서는 데이터를 시각화하는 기본적인 두 가지 방법을 배운다.  \n",
    "\n",
    "* 막대 그래프 \n",
    "* 원 그래프\n"
   ]
  },
  {
   "cell_type": "markdown",
   "metadata": {
    "id": "VPQMXsh3o6gZ"
   },
   "source": [
    "### 막대 그래프  \n",
    "\n",
    "막대 그래프는 각 항목의 크기를 한 눈에 비교할 수 있도록 도와주는 그래프이다.  \n",
    "`plt.bar()` 를 이용하여 막대 그래프를 그릴 수 있다. "
   ]
  },
  {
   "cell_type": "code",
   "execution_count": 24,
   "metadata": {
    "colab": {
     "base_uri": "https://localhost:8080/",
     "height": 294
    },
    "executionInfo": {
     "elapsed": 916,
     "status": "ok",
     "timestamp": 1621233519799,
     "user": {
      "displayName": "HJ Kim",
      "photoUrl": "",
      "userId": "16634276932240017990"
     },
     "user_tz": -540
    },
    "id": "1p4FR6j4OWiz",
    "outputId": "1a7029aa-3fa2-47cd-d1c1-19dfde826baf"
   },
   "outputs": [
    {
     "data": {
      "image/png": "[encoded data removed]",
      "text/plain": [
       "<Figure size 432x288 with 2 Axes>"
      ]
     },
     "metadata": {
      "filenames": {
       "image/png": "/home/hj/pybook1/_build/jupyter_execute/ch17_53_0.png"
      },
      "needs_background": "light"
     },
     "output_type": "display_data"
    }
   ],
   "source": [
    "import matplotlib.pyplot as plt\n",
    "\n",
    "colors = ['gray', 'gray', 'gray', 'red', 'gray'] # 각 막대의 색을 담은 리스트\n",
    "\n",
    "fig = plt.figure() # 그래프를 그릴 도화지\n",
    "fig.suptitle('wine_servings', fontsize=20)  #큰 제목 더하기\n",
    "\n",
    "plt.subplot(1, 2, 1) # 도화지 분할\n",
    "plt.bar(wine_mean.index, wine_mean)  #막대 그래프 그리기\n",
    "plt.title('wine_mean')  # 제목 더하기\n",
    "\n",
    "plt.subplot(1, 2, 2) # 도화지 분할\n",
    "plt.bar(wine_median.index, wine_median, color = colors)  #막대 그래프 그리기, 색은 colors로 지정\n",
    "plt.title('wine_median') #제목 더하기\n",
    "\n",
    "plt.subplots_adjust(top = 0.80, wspace = 0.5) # 그래프간 간격 조절\n",
    "\n",
    "plt.show()"
   ]
  },
  {
   "cell_type": "markdown",
   "metadata": {
    "id": "753BOV_Fo-nf"
   },
   "source": [
    "### 원 그래프(파이 차트)  \n",
    "\n",
    "원 그래프는 각 항목이 전체에서 차지하는 비중을 한 눈에 알아볼 수 있도록 도와주는 그래프이다.  \n",
    "`plt.pie()` 를 이용하여 원 그래프를 그릴 수 있다. "
   ]
  },
  {
   "cell_type": "code",
   "execution_count": 25,
   "metadata": {
    "colab": {
     "base_uri": "https://localhost:8080/",
     "height": 245
    },
    "executionInfo": {
     "elapsed": 1123,
     "status": "ok",
     "timestamp": 1621233556524,
     "user": {
      "displayName": "HJ Kim",
      "photoUrl": "",
      "userId": "16634276932240017990"
     },
     "user_tz": -540
    },
    "id": "0zNoJCXoT1y5",
    "outputId": "d3542738-c031-4593-b59c-19983ac46125"
   },
   "outputs": [
    {
     "data": {
      "image/png": "[encoded data removed]",
      "text/plain": [
       "<Figure size 720x576 with 2 Axes>"
      ]
     },
     "metadata": {
      "filenames": {
       "image/png": "/home/hj/pybook1/_build/jupyter_execute/ch17_55_0.png"
      }
     },
     "output_type": "display_data"
    }
   ],
   "source": [
    "colors = ['silver', 'whitesmoke', 'lightgray', 'gold', 'gray'] # 각 조각의 색을 담은 리스트\n",
    "explode = [0.0, 0.0, 0.0, 0.2, 0.0]   #특정 조각을 돌출시켜 강조하기 위한 값 지정\n",
    "wedgeprops={'width': 0.7} \n",
    "\n",
    "fig = plt.figure(figsize = (10, 8)) #그래프를 그릴 도화지, figsize로 그래프의 크기 변경가능!\n",
    "fig.suptitle('beer_servings', fontsize=20) #큰 제목 더하기\n",
    "\n",
    "plt.subplot(1, 2, 1) #도화지 분할\n",
    "plt.pie(beer_mean, labels = beer_mean.index) #원 그래프 그리기, labels는 원 조각에 라벨 지정 \n",
    "plt.title('beer_mean') #제목 더하기\n",
    "\n",
    "plt.subplot(1, 2, 2) #도화지 분할\n",
    "\n",
    "# autopct은 각 조각의 전체 대비 백분율 표시 방법 지정\n",
    "# colors로 색 지정\n",
    "# explode는 특정 조각을 돌출시키기 위해 지정\n",
    "# 도넛 모양의 그래프를 그리고 싶다면, wedgeprops를 딕셔너리로 설정.  \n",
    "plt.pie(beer_median, autopct = '%0.1f%%', colors = colors, explode=explode, wedgeprops=wedgeprops) \n",
    "plt.title('beer_median') #제목 더하기\n",
    "plt.legend(beer_median.index, loc = (1, 0.5))\n",
    "\n",
    "plt.subplots_adjust(top = 0.90, wspace = 0.1) #그래프간 간격 조절\n",
    "\n",
    "plt.savefig('wine_servings.png') #그래프 저장하기\n",
    "\n",
    "plt.show()"
   ]
  },
  {
   "cell_type": "markdown",
   "metadata": {
    "id": "iS-n_J14zp7N"
   },
   "source": [
    "## 데이터 호출2\n",
    "\n",
    "\n",
    "`pd.read_csv()` 함수를 이용해, `ABdata.csv` 파일을 불러오자.  "
   ]
  },
  {
   "cell_type": "code",
   "execution_count": 26,
   "metadata": {
    "colab": {
     "base_uri": "https://localhost:8080/",
     "height": 419
    },
    "executionInfo": {
     "elapsed": 622,
     "status": "ok",
     "timestamp": 1621061601734,
     "user": {
      "displayName": "HJ Kim",
      "photoUrl": "",
      "userId": "16634276932240017990"
     },
     "user_tz": -540
    },
    "id": "oQ3zsV2yYqMw",
    "outputId": "7d5929ff-37b3-4b9b-bbbb-6616cf6a8206"
   },
   "outputs": [
    {
     "data": {
      "text/html": [
       "<div>\n",
       "<style scoped>\n",
       "    .dataframe tbody tr th:only-of-type {\n",
       "        vertical-align: middle;\n",
       "    }\n",
       "\n",
       "    .dataframe tbody tr th {\n",
       "        vertical-align: top;\n",
       "    }\n",
       "\n",
       "    .dataframe thead th {\n",
       "        text-align: right;\n",
       "    }\n",
       "</style>\n",
       "<table border=\"1\" class=\"dataframe\">\n",
       "  <thead>\n",
       "    <tr style=\"text-align: right;\">\n",
       "      <th></th>\n",
       "      <th>rng</th>\n",
       "      <th>A</th>\n",
       "      <th>B</th>\n",
       "      <th>gp</th>\n",
       "    </tr>\n",
       "  </thead>\n",
       "  <tbody>\n",
       "    <tr>\n",
       "      <th>0</th>\n",
       "      <td>2019-01-07</td>\n",
       "      <td>10.0</td>\n",
       "      <td>36.0</td>\n",
       "      <td>gp1</td>\n",
       "    </tr>\n",
       "    <tr>\n",
       "      <th>1</th>\n",
       "      <td>2019-01-14</td>\n",
       "      <td>NaN</td>\n",
       "      <td>21.0</td>\n",
       "      <td>gp1</td>\n",
       "    </tr>\n",
       "    <tr>\n",
       "      <th>2</th>\n",
       "      <td>2019-01-21</td>\n",
       "      <td>91.0</td>\n",
       "      <td>107.0</td>\n",
       "      <td>gp4</td>\n",
       "    </tr>\n",
       "    <tr>\n",
       "      <th>3</th>\n",
       "      <td>2019-01-28</td>\n",
       "      <td>15.0</td>\n",
       "      <td>39.0</td>\n",
       "      <td>gp2</td>\n",
       "    </tr>\n",
       "    <tr>\n",
       "      <th>4</th>\n",
       "      <td>2019-02-04</td>\n",
       "      <td>15.0</td>\n",
       "      <td>24.0</td>\n",
       "      <td>gp1</td>\n",
       "    </tr>\n",
       "    <tr>\n",
       "      <th>...</th>\n",
       "      <td>...</td>\n",
       "      <td>...</td>\n",
       "      <td>...</td>\n",
       "      <td>...</td>\n",
       "    </tr>\n",
       "    <tr>\n",
       "      <th>112</th>\n",
       "      <td>2021-03-01</td>\n",
       "      <td>1.0</td>\n",
       "      <td>29.0</td>\n",
       "      <td>gp1</td>\n",
       "    </tr>\n",
       "    <tr>\n",
       "      <th>113</th>\n",
       "      <td>2021-03-08</td>\n",
       "      <td>50.0</td>\n",
       "      <td>65.0</td>\n",
       "      <td>gp3</td>\n",
       "    </tr>\n",
       "    <tr>\n",
       "      <th>114</th>\n",
       "      <td>2021-03-15</td>\n",
       "      <td>15.0</td>\n",
       "      <td>53.0</td>\n",
       "      <td>gp2</td>\n",
       "    </tr>\n",
       "    <tr>\n",
       "      <th>115</th>\n",
       "      <td>2021-03-22</td>\n",
       "      <td>1.0</td>\n",
       "      <td>39.0</td>\n",
       "      <td>gp1</td>\n",
       "    </tr>\n",
       "    <tr>\n",
       "      <th>116</th>\n",
       "      <td>2021-03-29</td>\n",
       "      <td>58.0</td>\n",
       "      <td>61.0</td>\n",
       "      <td>gp3</td>\n",
       "    </tr>\n",
       "  </tbody>\n",
       "</table>\n",
       "<p>117 rows × 4 columns</p>\n",
       "</div>"
      ],
      "text/plain": [
       "            rng     A      B   gp\n",
       "0    2019-01-07  10.0   36.0  gp1\n",
       "1    2019-01-14   NaN   21.0  gp1\n",
       "2    2019-01-21  91.0  107.0  gp4\n",
       "3    2019-01-28  15.0   39.0  gp2\n",
       "4    2019-02-04  15.0   24.0  gp1\n",
       "..          ...   ...    ...  ...\n",
       "112  2021-03-01   1.0   29.0  gp1\n",
       "113  2021-03-08  50.0   65.0  gp3\n",
       "114  2021-03-15  15.0   53.0  gp2\n",
       "115  2021-03-22   1.0   39.0  gp1\n",
       "116  2021-03-29  58.0   61.0  gp3\n",
       "\n",
       "[117 rows x 4 columns]"
      ]
     },
     "execution_count": 26,
     "metadata": {},
     "output_type": "execute_result"
    }
   ],
   "source": [
    "import pandas as pd\n",
    "\n",
    "ab_df = pd.read_csv('ABdata.csv')\n",
    "ab_df"
   ]
  },
  {
   "cell_type": "markdown",
   "metadata": {
    "id": "PLj1-rICPt9s"
   },
   "source": [
    "특정 열을 인덱스로 사용하고 싶다면, `index_col`이라는 매개변수를 사용하면 된다.  \n",
    "예를 들어, 아래는 `rng`열을 인덱스로 사용하는 코드이다. "
   ]
  },
  {
   "cell_type": "code",
   "execution_count": 27,
   "metadata": {
    "colab": {
     "base_uri": "https://localhost:8080/",
     "height": 450
    },
    "executionInfo": {
     "elapsed": 647,
     "status": "ok",
     "timestamp": 1621061603547,
     "user": {
      "displayName": "HJ Kim",
      "photoUrl": "",
      "userId": "16634276932240017990"
     },
     "user_tz": -540
    },
    "id": "I2khtf8ebA0V",
    "outputId": "81517ea5-fe28-476c-d35b-02126fcbd407"
   },
   "outputs": [
    {
     "data": {
      "text/html": [
       "<div>\n",
       "<style scoped>\n",
       "    .dataframe tbody tr th:only-of-type {\n",
       "        vertical-align: middle;\n",
       "    }\n",
       "\n",
       "    .dataframe tbody tr th {\n",
       "        vertical-align: top;\n",
       "    }\n",
       "\n",
       "    .dataframe thead th {\n",
       "        text-align: right;\n",
       "    }\n",
       "</style>\n",
       "<table border=\"1\" class=\"dataframe\">\n",
       "  <thead>\n",
       "    <tr style=\"text-align: right;\">\n",
       "      <th></th>\n",
       "      <th>A</th>\n",
       "      <th>B</th>\n",
       "      <th>gp</th>\n",
       "    </tr>\n",
       "    <tr>\n",
       "      <th>rng</th>\n",
       "      <th></th>\n",
       "      <th></th>\n",
       "      <th></th>\n",
       "    </tr>\n",
       "  </thead>\n",
       "  <tbody>\n",
       "    <tr>\n",
       "      <th>2019-01-07</th>\n",
       "      <td>10.0</td>\n",
       "      <td>36.0</td>\n",
       "      <td>gp1</td>\n",
       "    </tr>\n",
       "    <tr>\n",
       "      <th>2019-01-14</th>\n",
       "      <td>NaN</td>\n",
       "      <td>21.0</td>\n",
       "      <td>gp1</td>\n",
       "    </tr>\n",
       "    <tr>\n",
       "      <th>2019-01-21</th>\n",
       "      <td>91.0</td>\n",
       "      <td>107.0</td>\n",
       "      <td>gp4</td>\n",
       "    </tr>\n",
       "    <tr>\n",
       "      <th>2019-01-28</th>\n",
       "      <td>15.0</td>\n",
       "      <td>39.0</td>\n",
       "      <td>gp2</td>\n",
       "    </tr>\n",
       "    <tr>\n",
       "      <th>2019-02-04</th>\n",
       "      <td>15.0</td>\n",
       "      <td>24.0</td>\n",
       "      <td>gp1</td>\n",
       "    </tr>\n",
       "    <tr>\n",
       "      <th>...</th>\n",
       "      <td>...</td>\n",
       "      <td>...</td>\n",
       "      <td>...</td>\n",
       "    </tr>\n",
       "    <tr>\n",
       "      <th>2021-03-01</th>\n",
       "      <td>1.0</td>\n",
       "      <td>29.0</td>\n",
       "      <td>gp1</td>\n",
       "    </tr>\n",
       "    <tr>\n",
       "      <th>2021-03-08</th>\n",
       "      <td>50.0</td>\n",
       "      <td>65.0</td>\n",
       "      <td>gp3</td>\n",
       "    </tr>\n",
       "    <tr>\n",
       "      <th>2021-03-15</th>\n",
       "      <td>15.0</td>\n",
       "      <td>53.0</td>\n",
       "      <td>gp2</td>\n",
       "    </tr>\n",
       "    <tr>\n",
       "      <th>2021-03-22</th>\n",
       "      <td>1.0</td>\n",
       "      <td>39.0</td>\n",
       "      <td>gp1</td>\n",
       "    </tr>\n",
       "    <tr>\n",
       "      <th>2021-03-29</th>\n",
       "      <td>58.0</td>\n",
       "      <td>61.0</td>\n",
       "      <td>gp3</td>\n",
       "    </tr>\n",
       "  </tbody>\n",
       "</table>\n",
       "<p>117 rows × 3 columns</p>\n",
       "</div>"
      ],
      "text/plain": [
       "               A      B   gp\n",
       "rng                         \n",
       "2019-01-07  10.0   36.0  gp1\n",
       "2019-01-14   NaN   21.0  gp1\n",
       "2019-01-21  91.0  107.0  gp4\n",
       "2019-01-28  15.0   39.0  gp2\n",
       "2019-02-04  15.0   24.0  gp1\n",
       "...          ...    ...  ...\n",
       "2021-03-01   1.0   29.0  gp1\n",
       "2021-03-08  50.0   65.0  gp3\n",
       "2021-03-15  15.0   53.0  gp2\n",
       "2021-03-22   1.0   39.0  gp1\n",
       "2021-03-29  58.0   61.0  gp3\n",
       "\n",
       "[117 rows x 3 columns]"
      ]
     },
     "execution_count": 27,
     "metadata": {},
     "output_type": "execute_result"
    }
   ],
   "source": [
    "ab_df_rng = pd.read_csv('ABdata.csv', index_col = 'rng')\n",
    "ab_df_rng"
   ]
  },
  {
   "cell_type": "markdown",
   "metadata": {
    "id": "RRvN4epOQOEG"
   },
   "source": [
    "`info()` 메서드로 데이터의 기본 정보 몇 가지를 확인해보자."
   ]
  },
  {
   "cell_type": "code",
   "execution_count": 28,
   "metadata": {
    "colab": {
     "base_uri": "https://localhost:8080/"
    },
    "executionInfo": {
     "elapsed": 781,
     "status": "ok",
     "timestamp": 1621061606373,
     "user": {
      "displayName": "HJ Kim",
      "photoUrl": "",
      "userId": "16634276932240017990"
     },
     "user_tz": -540
    },
    "id": "xxMwDbBwY4b6",
    "outputId": "93838aa5-24ce-4fd8-b7c7-4e3b584d32be"
   },
   "outputs": [
    {
     "name": "stdout",
     "output_type": "stream",
     "text": [
      "<class 'pandas.core.frame.DataFrame'>\n",
      "RangeIndex: 117 entries, 0 to 116\n",
      "Data columns (total 4 columns):\n",
      " #   Column  Non-Null Count  Dtype  \n",
      "---  ------  --------------  -----  \n",
      " 0   rng     117 non-null    object \n",
      " 1   A       107 non-null    float64\n",
      " 2   B       111 non-null    float64\n",
      " 3   gp      117 non-null    object \n",
      "dtypes: float64(2), object(2)\n",
      "memory usage: 3.8+ KB\n"
     ]
    }
   ],
   "source": [
    "ab_df.info()"
   ]
  },
  {
   "cell_type": "markdown",
   "metadata": {
    "id": "YqL2wfiAQUl4"
   },
   "source": [
    "`describe()` 메서드로 기초통계량을 확인해보자. "
   ]
  },
  {
   "cell_type": "code",
   "execution_count": 29,
   "metadata": {
    "colab": {
     "base_uri": "https://localhost:8080/",
     "height": 297
    },
    "executionInfo": {
     "elapsed": 727,
     "status": "ok",
     "timestamp": 1621061607821,
     "user": {
      "displayName": "HJ Kim",
      "photoUrl": "",
      "userId": "16634276932240017990"
     },
     "user_tz": -540
    },
    "id": "5gGJ8BFCcX1K",
    "outputId": "15106857-aa57-484a-b99a-a1853d6359e6"
   },
   "outputs": [
    {
     "data": {
      "text/html": [
       "<div>\n",
       "<style scoped>\n",
       "    .dataframe tbody tr th:only-of-type {\n",
       "        vertical-align: middle;\n",
       "    }\n",
       "\n",
       "    .dataframe tbody tr th {\n",
       "        vertical-align: top;\n",
       "    }\n",
       "\n",
       "    .dataframe thead th {\n",
       "        text-align: right;\n",
       "    }\n",
       "</style>\n",
       "<table border=\"1\" class=\"dataframe\">\n",
       "  <thead>\n",
       "    <tr style=\"text-align: right;\">\n",
       "      <th></th>\n",
       "      <th>A</th>\n",
       "      <th>B</th>\n",
       "    </tr>\n",
       "  </thead>\n",
       "  <tbody>\n",
       "    <tr>\n",
       "      <th>count</th>\n",
       "      <td>107.000000</td>\n",
       "      <td>111.000000</td>\n",
       "    </tr>\n",
       "    <tr>\n",
       "      <th>mean</th>\n",
       "      <td>37.607477</td>\n",
       "      <td>57.396396</td>\n",
       "    </tr>\n",
       "    <tr>\n",
       "      <th>std</th>\n",
       "      <td>25.648111</td>\n",
       "      <td>24.959705</td>\n",
       "    </tr>\n",
       "    <tr>\n",
       "      <th>min</th>\n",
       "      <td>1.000000</td>\n",
       "      <td>21.000000</td>\n",
       "    </tr>\n",
       "    <tr>\n",
       "      <th>25%</th>\n",
       "      <td>17.000000</td>\n",
       "      <td>38.500000</td>\n",
       "    </tr>\n",
       "    <tr>\n",
       "      <th>50%</th>\n",
       "      <td>35.000000</td>\n",
       "      <td>54.000000</td>\n",
       "    </tr>\n",
       "    <tr>\n",
       "      <th>75%</th>\n",
       "      <td>55.500000</td>\n",
       "      <td>72.000000</td>\n",
       "    </tr>\n",
       "    <tr>\n",
       "      <th>max</th>\n",
       "      <td>97.000000</td>\n",
       "      <td>119.000000</td>\n",
       "    </tr>\n",
       "  </tbody>\n",
       "</table>\n",
       "</div>"
      ],
      "text/plain": [
       "                A           B\n",
       "count  107.000000  111.000000\n",
       "mean    37.607477   57.396396\n",
       "std     25.648111   24.959705\n",
       "min      1.000000   21.000000\n",
       "25%     17.000000   38.500000\n",
       "50%     35.000000   54.000000\n",
       "75%     55.500000   72.000000\n",
       "max     97.000000  119.000000"
      ]
     },
     "execution_count": 29,
     "metadata": {},
     "output_type": "execute_result"
    }
   ],
   "source": [
    "ab_df.describe()"
   ]
  },
  {
   "cell_type": "markdown",
   "metadata": {
    "id": "8oNqrb-8zyTU"
   },
   "source": [
    "## 데이터 전처리  \n",
    "\n",
    "여러 개의 데이터를 합하는 방법과 결측치를 처리하는 방법을 살펴보자.   \n",
    "\n",
    "`pd.read_csv()` 함수를 이용해 `ABdata1.csv`파일을 불러오자. "
   ]
  },
  {
   "cell_type": "code",
   "execution_count": 30,
   "metadata": {
    "colab": {
     "base_uri": "https://localhost:8080/",
     "height": 173
    },
    "executionInfo": {
     "elapsed": 593,
     "status": "ok",
     "timestamp": 1621061610332,
     "user": {
      "displayName": "HJ Kim",
      "photoUrl": "",
      "userId": "16634276932240017990"
     },
     "user_tz": -540
    },
    "id": "vJeSmeUJjCBB",
    "outputId": "6329357b-471a-4ebd-fa90-f4078bd453dc"
   },
   "outputs": [
    {
     "data": {
      "text/html": [
       "<div>\n",
       "<style scoped>\n",
       "    .dataframe tbody tr th:only-of-type {\n",
       "        vertical-align: middle;\n",
       "    }\n",
       "\n",
       "    .dataframe tbody tr th {\n",
       "        vertical-align: top;\n",
       "    }\n",
       "\n",
       "    .dataframe thead th {\n",
       "        text-align: right;\n",
       "    }\n",
       "</style>\n",
       "<table border=\"1\" class=\"dataframe\">\n",
       "  <thead>\n",
       "    <tr style=\"text-align: right;\">\n",
       "      <th></th>\n",
       "      <th>rng</th>\n",
       "      <th>A</th>\n",
       "      <th>B</th>\n",
       "      <th>gp</th>\n",
       "    </tr>\n",
       "  </thead>\n",
       "  <tbody>\n",
       "    <tr>\n",
       "      <th>0</th>\n",
       "      <td>2021-04-05</td>\n",
       "      <td>12</td>\n",
       "      <td>34</td>\n",
       "      <td>gp1</td>\n",
       "    </tr>\n",
       "    <tr>\n",
       "      <th>1</th>\n",
       "      <td>2021-04-12</td>\n",
       "      <td>18</td>\n",
       "      <td>28</td>\n",
       "      <td>gp1</td>\n",
       "    </tr>\n",
       "    <tr>\n",
       "      <th>2</th>\n",
       "      <td>2021-04-19</td>\n",
       "      <td>11</td>\n",
       "      <td>26</td>\n",
       "      <td>gp3</td>\n",
       "    </tr>\n",
       "    <tr>\n",
       "      <th>3</th>\n",
       "      <td>2021-04-26</td>\n",
       "      <td>7</td>\n",
       "      <td>36</td>\n",
       "      <td>gp3</td>\n",
       "    </tr>\n",
       "  </tbody>\n",
       "</table>\n",
       "</div>"
      ],
      "text/plain": [
       "          rng   A   B   gp\n",
       "0  2021-04-05  12  34  gp1\n",
       "1  2021-04-12  18  28  gp1\n",
       "2  2021-04-19  11  26  gp3\n",
       "3  2021-04-26   7  36  gp3"
      ]
     },
     "execution_count": 30,
     "metadata": {},
     "output_type": "execute_result"
    }
   ],
   "source": [
    "ab_df1 = pd.read_csv('ABdata1.csv')\n",
    "ab_df1"
   ]
  },
  {
   "cell_type": "markdown",
   "metadata": {
    "id": "o2DnXqbQS0O9"
   },
   "source": [
    "**데이터프레임 합하기**\n",
    "\n",
    "`pd.concat()` 함수를 이용하면 여러 개의 데이터를 하나로 합할 수 있다.  \n",
    "예를 들어, `ab_df`와 `ab_df1`를 위아래(행방향)로 합하고 싶으면, 아래와 같이 코드를 작성하면 된다. "
   ]
  },
  {
   "cell_type": "code",
   "execution_count": 31,
   "metadata": {
    "colab": {
     "base_uri": "https://localhost:8080/",
     "height": 419
    },
    "executionInfo": {
     "elapsed": 760,
     "status": "ok",
     "timestamp": 1621061612552,
     "user": {
      "displayName": "HJ Kim",
      "photoUrl": "",
      "userId": "16634276932240017990"
     },
     "user_tz": -540
    },
    "id": "HYGH2fZqlhFP",
    "outputId": "ade6a95b-e482-4a80-f6b2-03675ab1f9c3"
   },
   "outputs": [
    {
     "data": {
      "text/html": [
       "<div>\n",
       "<style scoped>\n",
       "    .dataframe tbody tr th:only-of-type {\n",
       "        vertical-align: middle;\n",
       "    }\n",
       "\n",
       "    .dataframe tbody tr th {\n",
       "        vertical-align: top;\n",
       "    }\n",
       "\n",
       "    .dataframe thead th {\n",
       "        text-align: right;\n",
       "    }\n",
       "</style>\n",
       "<table border=\"1\" class=\"dataframe\">\n",
       "  <thead>\n",
       "    <tr style=\"text-align: right;\">\n",
       "      <th></th>\n",
       "      <th>rng</th>\n",
       "      <th>A</th>\n",
       "      <th>B</th>\n",
       "      <th>gp</th>\n",
       "    </tr>\n",
       "  </thead>\n",
       "  <tbody>\n",
       "    <tr>\n",
       "      <th>0</th>\n",
       "      <td>2019-01-07</td>\n",
       "      <td>10.0</td>\n",
       "      <td>36.0</td>\n",
       "      <td>gp1</td>\n",
       "    </tr>\n",
       "    <tr>\n",
       "      <th>1</th>\n",
       "      <td>2019-01-14</td>\n",
       "      <td>NaN</td>\n",
       "      <td>21.0</td>\n",
       "      <td>gp1</td>\n",
       "    </tr>\n",
       "    <tr>\n",
       "      <th>2</th>\n",
       "      <td>2019-01-21</td>\n",
       "      <td>91.0</td>\n",
       "      <td>107.0</td>\n",
       "      <td>gp4</td>\n",
       "    </tr>\n",
       "    <tr>\n",
       "      <th>3</th>\n",
       "      <td>2019-01-28</td>\n",
       "      <td>15.0</td>\n",
       "      <td>39.0</td>\n",
       "      <td>gp2</td>\n",
       "    </tr>\n",
       "    <tr>\n",
       "      <th>4</th>\n",
       "      <td>2019-02-04</td>\n",
       "      <td>15.0</td>\n",
       "      <td>24.0</td>\n",
       "      <td>gp1</td>\n",
       "    </tr>\n",
       "    <tr>\n",
       "      <th>...</th>\n",
       "      <td>...</td>\n",
       "      <td>...</td>\n",
       "      <td>...</td>\n",
       "      <td>...</td>\n",
       "    </tr>\n",
       "    <tr>\n",
       "      <th>116</th>\n",
       "      <td>2021-03-29</td>\n",
       "      <td>58.0</td>\n",
       "      <td>61.0</td>\n",
       "      <td>gp3</td>\n",
       "    </tr>\n",
       "    <tr>\n",
       "      <th>0</th>\n",
       "      <td>2021-04-05</td>\n",
       "      <td>12.0</td>\n",
       "      <td>34.0</td>\n",
       "      <td>gp1</td>\n",
       "    </tr>\n",
       "    <tr>\n",
       "      <th>1</th>\n",
       "      <td>2021-04-12</td>\n",
       "      <td>18.0</td>\n",
       "      <td>28.0</td>\n",
       "      <td>gp1</td>\n",
       "    </tr>\n",
       "    <tr>\n",
       "      <th>2</th>\n",
       "      <td>2021-04-19</td>\n",
       "      <td>11.0</td>\n",
       "      <td>26.0</td>\n",
       "      <td>gp3</td>\n",
       "    </tr>\n",
       "    <tr>\n",
       "      <th>3</th>\n",
       "      <td>2021-04-26</td>\n",
       "      <td>7.0</td>\n",
       "      <td>36.0</td>\n",
       "      <td>gp3</td>\n",
       "    </tr>\n",
       "  </tbody>\n",
       "</table>\n",
       "<p>121 rows × 4 columns</p>\n",
       "</div>"
      ],
      "text/plain": [
       "            rng     A      B   gp\n",
       "0    2019-01-07  10.0   36.0  gp1\n",
       "1    2019-01-14   NaN   21.0  gp1\n",
       "2    2019-01-21  91.0  107.0  gp4\n",
       "3    2019-01-28  15.0   39.0  gp2\n",
       "4    2019-02-04  15.0   24.0  gp1\n",
       "..          ...   ...    ...  ...\n",
       "116  2021-03-29  58.0   61.0  gp3\n",
       "0    2021-04-05  12.0   34.0  gp1\n",
       "1    2021-04-12  18.0   28.0  gp1\n",
       "2    2021-04-19  11.0   26.0  gp3\n",
       "3    2021-04-26   7.0   36.0  gp3\n",
       "\n",
       "[121 rows x 4 columns]"
      ]
     },
     "execution_count": 31,
     "metadata": {},
     "output_type": "execute_result"
    }
   ],
   "source": [
    "ab_df_concat = pd.concat([ab_df, ab_df1])\n",
    "ab_df_concat"
   ]
  },
  {
   "cell_type": "markdown",
   "metadata": {
    "id": "Dhe-chw1TiNf"
   },
   "source": [
    "합할 때 인덱스도 그대로 가져온다. 매개변수`ignore_index`를 `True`로 지정하면 인덱스를 재배열한다. "
   ]
  },
  {
   "cell_type": "code",
   "execution_count": 32,
   "metadata": {
    "colab": {
     "base_uri": "https://localhost:8080/",
     "height": 419
    },
    "executionInfo": {
     "elapsed": 682,
     "status": "ok",
     "timestamp": 1621061614664,
     "user": {
      "displayName": "HJ Kim",
      "photoUrl": "",
      "userId": "16634276932240017990"
     },
     "user_tz": -540
    },
    "id": "fW_4W7yiTciH",
    "outputId": "291e3c6a-f042-4fe7-f8c8-32c5b643eb57"
   },
   "outputs": [
    {
     "data": {
      "text/html": [
       "<div>\n",
       "<style scoped>\n",
       "    .dataframe tbody tr th:only-of-type {\n",
       "        vertical-align: middle;\n",
       "    }\n",
       "\n",
       "    .dataframe tbody tr th {\n",
       "        vertical-align: top;\n",
       "    }\n",
       "\n",
       "    .dataframe thead th {\n",
       "        text-align: right;\n",
       "    }\n",
       "</style>\n",
       "<table border=\"1\" class=\"dataframe\">\n",
       "  <thead>\n",
       "    <tr style=\"text-align: right;\">\n",
       "      <th></th>\n",
       "      <th>rng</th>\n",
       "      <th>A</th>\n",
       "      <th>B</th>\n",
       "      <th>gp</th>\n",
       "    </tr>\n",
       "  </thead>\n",
       "  <tbody>\n",
       "    <tr>\n",
       "      <th>0</th>\n",
       "      <td>2019-01-07</td>\n",
       "      <td>10.0</td>\n",
       "      <td>36.0</td>\n",
       "      <td>gp1</td>\n",
       "    </tr>\n",
       "    <tr>\n",
       "      <th>1</th>\n",
       "      <td>2019-01-14</td>\n",
       "      <td>NaN</td>\n",
       "      <td>21.0</td>\n",
       "      <td>gp1</td>\n",
       "    </tr>\n",
       "    <tr>\n",
       "      <th>2</th>\n",
       "      <td>2019-01-21</td>\n",
       "      <td>91.0</td>\n",
       "      <td>107.0</td>\n",
       "      <td>gp4</td>\n",
       "    </tr>\n",
       "    <tr>\n",
       "      <th>3</th>\n",
       "      <td>2019-01-28</td>\n",
       "      <td>15.0</td>\n",
       "      <td>39.0</td>\n",
       "      <td>gp2</td>\n",
       "    </tr>\n",
       "    <tr>\n",
       "      <th>4</th>\n",
       "      <td>2019-02-04</td>\n",
       "      <td>15.0</td>\n",
       "      <td>24.0</td>\n",
       "      <td>gp1</td>\n",
       "    </tr>\n",
       "    <tr>\n",
       "      <th>...</th>\n",
       "      <td>...</td>\n",
       "      <td>...</td>\n",
       "      <td>...</td>\n",
       "      <td>...</td>\n",
       "    </tr>\n",
       "    <tr>\n",
       "      <th>116</th>\n",
       "      <td>2021-03-29</td>\n",
       "      <td>58.0</td>\n",
       "      <td>61.0</td>\n",
       "      <td>gp3</td>\n",
       "    </tr>\n",
       "    <tr>\n",
       "      <th>117</th>\n",
       "      <td>2021-04-05</td>\n",
       "      <td>12.0</td>\n",
       "      <td>34.0</td>\n",
       "      <td>gp1</td>\n",
       "    </tr>\n",
       "    <tr>\n",
       "      <th>118</th>\n",
       "      <td>2021-04-12</td>\n",
       "      <td>18.0</td>\n",
       "      <td>28.0</td>\n",
       "      <td>gp1</td>\n",
       "    </tr>\n",
       "    <tr>\n",
       "      <th>119</th>\n",
       "      <td>2021-04-19</td>\n",
       "      <td>11.0</td>\n",
       "      <td>26.0</td>\n",
       "      <td>gp3</td>\n",
       "    </tr>\n",
       "    <tr>\n",
       "      <th>120</th>\n",
       "      <td>2021-04-26</td>\n",
       "      <td>7.0</td>\n",
       "      <td>36.0</td>\n",
       "      <td>gp3</td>\n",
       "    </tr>\n",
       "  </tbody>\n",
       "</table>\n",
       "<p>121 rows × 4 columns</p>\n",
       "</div>"
      ],
      "text/plain": [
       "            rng     A      B   gp\n",
       "0    2019-01-07  10.0   36.0  gp1\n",
       "1    2019-01-14   NaN   21.0  gp1\n",
       "2    2019-01-21  91.0  107.0  gp4\n",
       "3    2019-01-28  15.0   39.0  gp2\n",
       "4    2019-02-04  15.0   24.0  gp1\n",
       "..          ...   ...    ...  ...\n",
       "116  2021-03-29  58.0   61.0  gp3\n",
       "117  2021-04-05  12.0   34.0  gp1\n",
       "118  2021-04-12  18.0   28.0  gp1\n",
       "119  2021-04-19  11.0   26.0  gp3\n",
       "120  2021-04-26   7.0   36.0  gp3\n",
       "\n",
       "[121 rows x 4 columns]"
      ]
     },
     "execution_count": 32,
     "metadata": {},
     "output_type": "execute_result"
    }
   ],
   "source": [
    "ab_df_concat = pd.concat([ab_df, ab_df1], ignore_index=True)\n",
    "ab_df_concat"
   ]
  },
  {
   "cell_type": "markdown",
   "metadata": {
    "id": "WXQ-UuhbarDc"
   },
   "source": [
    "데이터를 좌우(열방향)로 합하는 방법도 살펴보자.  \n",
    "이를 위해 `ABdata2.csv`를 불러온다. "
   ]
  },
  {
   "cell_type": "code",
   "execution_count": 33,
   "metadata": {
    "colab": {
     "base_uri": "https://localhost:8080/",
     "height": 419
    },
    "executionInfo": {
     "elapsed": 590,
     "status": "ok",
     "timestamp": 1621061617515,
     "user": {
      "displayName": "HJ Kim",
      "photoUrl": "",
      "userId": "16634276932240017990"
     },
     "user_tz": -540
    },
    "id": "05XXqWSor6g_",
    "outputId": "f170fff4-2e75-46a4-b01f-7c6deaa1273a"
   },
   "outputs": [
    {
     "data": {
      "text/html": [
       "<div>\n",
       "<style scoped>\n",
       "    .dataframe tbody tr th:only-of-type {\n",
       "        vertical-align: middle;\n",
       "    }\n",
       "\n",
       "    .dataframe tbody tr th {\n",
       "        vertical-align: top;\n",
       "    }\n",
       "\n",
       "    .dataframe thead th {\n",
       "        text-align: right;\n",
       "    }\n",
       "</style>\n",
       "<table border=\"1\" class=\"dataframe\">\n",
       "  <thead>\n",
       "    <tr style=\"text-align: right;\">\n",
       "      <th></th>\n",
       "      <th>C</th>\n",
       "      <th>D</th>\n",
       "    </tr>\n",
       "  </thead>\n",
       "  <tbody>\n",
       "    <tr>\n",
       "      <th>0</th>\n",
       "      <td>80.0</td>\n",
       "      <td>NaN</td>\n",
       "    </tr>\n",
       "    <tr>\n",
       "      <th>1</th>\n",
       "      <td>18.0</td>\n",
       "      <td>NaN</td>\n",
       "    </tr>\n",
       "    <tr>\n",
       "      <th>2</th>\n",
       "      <td>68.0</td>\n",
       "      <td>NaN</td>\n",
       "    </tr>\n",
       "    <tr>\n",
       "      <th>3</th>\n",
       "      <td>89.0</td>\n",
       "      <td>78.0</td>\n",
       "    </tr>\n",
       "    <tr>\n",
       "      <th>4</th>\n",
       "      <td>12.0</td>\n",
       "      <td>48.0</td>\n",
       "    </tr>\n",
       "    <tr>\n",
       "      <th>...</th>\n",
       "      <td>...</td>\n",
       "      <td>...</td>\n",
       "    </tr>\n",
       "    <tr>\n",
       "      <th>116</th>\n",
       "      <td>22.0</td>\n",
       "      <td>NaN</td>\n",
       "    </tr>\n",
       "    <tr>\n",
       "      <th>117</th>\n",
       "      <td>65.0</td>\n",
       "      <td>NaN</td>\n",
       "    </tr>\n",
       "    <tr>\n",
       "      <th>118</th>\n",
       "      <td>65.0</td>\n",
       "      <td>NaN</td>\n",
       "    </tr>\n",
       "    <tr>\n",
       "      <th>119</th>\n",
       "      <td>84.0</td>\n",
       "      <td>NaN</td>\n",
       "    </tr>\n",
       "    <tr>\n",
       "      <th>120</th>\n",
       "      <td>6.0</td>\n",
       "      <td>98.0</td>\n",
       "    </tr>\n",
       "  </tbody>\n",
       "</table>\n",
       "<p>121 rows × 2 columns</p>\n",
       "</div>"
      ],
      "text/plain": [
       "        C     D\n",
       "0    80.0   NaN\n",
       "1    18.0   NaN\n",
       "2    68.0   NaN\n",
       "3    89.0  78.0\n",
       "4    12.0  48.0\n",
       "..    ...   ...\n",
       "116  22.0   NaN\n",
       "117  65.0   NaN\n",
       "118  65.0   NaN\n",
       "119  84.0   NaN\n",
       "120   6.0  98.0\n",
       "\n",
       "[121 rows x 2 columns]"
      ]
     },
     "execution_count": 33,
     "metadata": {},
     "output_type": "execute_result"
    }
   ],
   "source": [
    "ab_df2 = pd.read_csv('ABdata2.csv')\n",
    "ab_df2"
   ]
  },
  {
   "cell_type": "markdown",
   "metadata": {
    "id": "VG9SGiTma4JG"
   },
   "source": [
    "데이터를 좌우(열방향)로 합할 때는 아래와 같이 `axis`를 `1`로 지정하면 된다."
   ]
  },
  {
   "cell_type": "code",
   "execution_count": 34,
   "metadata": {
    "colab": {
     "base_uri": "https://localhost:8080/",
     "height": 419
    },
    "executionInfo": {
     "elapsed": 584,
     "status": "ok",
     "timestamp": 1621061620164,
     "user": {
      "displayName": "HJ Kim",
      "photoUrl": "",
      "userId": "16634276932240017990"
     },
     "user_tz": -540
    },
    "id": "MYyoBOAnsARQ",
    "outputId": "e92b5004-f9bb-4a0b-f449-8aa761d00d6f"
   },
   "outputs": [
    {
     "data": {
      "text/html": [
       "<div>\n",
       "<style scoped>\n",
       "    .dataframe tbody tr th:only-of-type {\n",
       "        vertical-align: middle;\n",
       "    }\n",
       "\n",
       "    .dataframe tbody tr th {\n",
       "        vertical-align: top;\n",
       "    }\n",
       "\n",
       "    .dataframe thead th {\n",
       "        text-align: right;\n",
       "    }\n",
       "</style>\n",
       "<table border=\"1\" class=\"dataframe\">\n",
       "  <thead>\n",
       "    <tr style=\"text-align: right;\">\n",
       "      <th></th>\n",
       "      <th>rng</th>\n",
       "      <th>A</th>\n",
       "      <th>B</th>\n",
       "      <th>gp</th>\n",
       "      <th>C</th>\n",
       "      <th>D</th>\n",
       "    </tr>\n",
       "  </thead>\n",
       "  <tbody>\n",
       "    <tr>\n",
       "      <th>0</th>\n",
       "      <td>2019-01-07</td>\n",
       "      <td>10.0</td>\n",
       "      <td>36.0</td>\n",
       "      <td>gp1</td>\n",
       "      <td>80.0</td>\n",
       "      <td>NaN</td>\n",
       "    </tr>\n",
       "    <tr>\n",
       "      <th>1</th>\n",
       "      <td>2019-01-14</td>\n",
       "      <td>NaN</td>\n",
       "      <td>21.0</td>\n",
       "      <td>gp1</td>\n",
       "      <td>18.0</td>\n",
       "      <td>NaN</td>\n",
       "    </tr>\n",
       "    <tr>\n",
       "      <th>2</th>\n",
       "      <td>2019-01-21</td>\n",
       "      <td>91.0</td>\n",
       "      <td>107.0</td>\n",
       "      <td>gp4</td>\n",
       "      <td>68.0</td>\n",
       "      <td>NaN</td>\n",
       "    </tr>\n",
       "    <tr>\n",
       "      <th>3</th>\n",
       "      <td>2019-01-28</td>\n",
       "      <td>15.0</td>\n",
       "      <td>39.0</td>\n",
       "      <td>gp2</td>\n",
       "      <td>89.0</td>\n",
       "      <td>78.0</td>\n",
       "    </tr>\n",
       "    <tr>\n",
       "      <th>4</th>\n",
       "      <td>2019-02-04</td>\n",
       "      <td>15.0</td>\n",
       "      <td>24.0</td>\n",
       "      <td>gp1</td>\n",
       "      <td>12.0</td>\n",
       "      <td>48.0</td>\n",
       "    </tr>\n",
       "    <tr>\n",
       "      <th>...</th>\n",
       "      <td>...</td>\n",
       "      <td>...</td>\n",
       "      <td>...</td>\n",
       "      <td>...</td>\n",
       "      <td>...</td>\n",
       "      <td>...</td>\n",
       "    </tr>\n",
       "    <tr>\n",
       "      <th>116</th>\n",
       "      <td>2021-03-29</td>\n",
       "      <td>58.0</td>\n",
       "      <td>61.0</td>\n",
       "      <td>gp3</td>\n",
       "      <td>22.0</td>\n",
       "      <td>NaN</td>\n",
       "    </tr>\n",
       "    <tr>\n",
       "      <th>117</th>\n",
       "      <td>2021-04-05</td>\n",
       "      <td>12.0</td>\n",
       "      <td>34.0</td>\n",
       "      <td>gp1</td>\n",
       "      <td>65.0</td>\n",
       "      <td>NaN</td>\n",
       "    </tr>\n",
       "    <tr>\n",
       "      <th>118</th>\n",
       "      <td>2021-04-12</td>\n",
       "      <td>18.0</td>\n",
       "      <td>28.0</td>\n",
       "      <td>gp1</td>\n",
       "      <td>65.0</td>\n",
       "      <td>NaN</td>\n",
       "    </tr>\n",
       "    <tr>\n",
       "      <th>119</th>\n",
       "      <td>2021-04-19</td>\n",
       "      <td>11.0</td>\n",
       "      <td>26.0</td>\n",
       "      <td>gp3</td>\n",
       "      <td>84.0</td>\n",
       "      <td>NaN</td>\n",
       "    </tr>\n",
       "    <tr>\n",
       "      <th>120</th>\n",
       "      <td>2021-04-26</td>\n",
       "      <td>7.0</td>\n",
       "      <td>36.0</td>\n",
       "      <td>gp3</td>\n",
       "      <td>6.0</td>\n",
       "      <td>98.0</td>\n",
       "    </tr>\n",
       "  </tbody>\n",
       "</table>\n",
       "<p>121 rows × 6 columns</p>\n",
       "</div>"
      ],
      "text/plain": [
       "            rng     A      B   gp     C     D\n",
       "0    2019-01-07  10.0   36.0  gp1  80.0   NaN\n",
       "1    2019-01-14   NaN   21.0  gp1  18.0   NaN\n",
       "2    2019-01-21  91.0  107.0  gp4  68.0   NaN\n",
       "3    2019-01-28  15.0   39.0  gp2  89.0  78.0\n",
       "4    2019-02-04  15.0   24.0  gp1  12.0  48.0\n",
       "..          ...   ...    ...  ...   ...   ...\n",
       "116  2021-03-29  58.0   61.0  gp3  22.0   NaN\n",
       "117  2021-04-05  12.0   34.0  gp1  65.0   NaN\n",
       "118  2021-04-12  18.0   28.0  gp1  65.0   NaN\n",
       "119  2021-04-19  11.0   26.0  gp3  84.0   NaN\n",
       "120  2021-04-26   7.0   36.0  gp3   6.0  98.0\n",
       "\n",
       "[121 rows x 6 columns]"
      ]
     },
     "execution_count": 34,
     "metadata": {},
     "output_type": "execute_result"
    }
   ],
   "source": [
    "df = pd.concat([ab_df_concat, ab_df2], axis=1)\n",
    "df"
   ]
  },
  {
   "cell_type": "markdown",
   "metadata": {
    "id": "vhQVrl2Cndwp"
   },
   "source": [
    "이제 합한 데이터프레임을 csv 파일로 저장해보자. \n",
    "\n",
    "`to_csv` 메소드를 이용하면, 데이터프레임을 csv 파일로 저장할 수 있다. 이때, 인덱스와 열 이름은 함께 저장되는데,   \n",
    "이를 포함하지 않으려면 아래와 같이 `index`와 `header`를 각각 `False`로 두면 된다. "
   ]
  },
  {
   "cell_type": "code",
   "execution_count": 35,
   "metadata": {
    "id": "pvfovBpAsp74"
   },
   "outputs": [],
   "source": [
    "df.to_csv('df.csv', index= False, header=False)"
   ]
  },
  {
   "cell_type": "markdown",
   "metadata": {
    "id": "D3kKYf4MUyOP"
   },
   "source": [
    "참고) `pd.merge()`를 사용하여 데이터프레임을 합할 수도 있다. \n",
    "예제와 함께 살펴보자. "
   ]
  },
  {
   "cell_type": "code",
   "execution_count": 36,
   "metadata": {
    "colab": {
     "base_uri": "https://localhost:8080/",
     "height": 111
    },
    "executionInfo": {
     "elapsed": 261,
     "status": "ok",
     "timestamp": 1637294941737,
     "user": {
      "displayName": "HJ Kim",
      "photoUrl": "https://lh3.googleusercontent.com/a/default-user=s64",
      "userId": "16634276932240017990"
     },
     "user_tz": -540
    },
    "id": "BZKIN8RLYeeU",
    "outputId": "7d078056-018c-4373-c751-7e3a743db9b8"
   },
   "outputs": [
    {
     "data": {
      "text/html": [
       "<div>\n",
       "<style scoped>\n",
       "    .dataframe tbody tr th:only-of-type {\n",
       "        vertical-align: middle;\n",
       "    }\n",
       "\n",
       "    .dataframe tbody tr th {\n",
       "        vertical-align: top;\n",
       "    }\n",
       "\n",
       "    .dataframe thead th {\n",
       "        text-align: right;\n",
       "    }\n",
       "</style>\n",
       "<table border=\"1\" class=\"dataframe\">\n",
       "  <thead>\n",
       "    <tr style=\"text-align: right;\">\n",
       "      <th></th>\n",
       "      <th>key</th>\n",
       "      <th>data1</th>\n",
       "      <th>data2</th>\n",
       "    </tr>\n",
       "  </thead>\n",
       "  <tbody>\n",
       "    <tr>\n",
       "      <th>0</th>\n",
       "      <td>a</td>\n",
       "      <td>5</td>\n",
       "      <td>2</td>\n",
       "    </tr>\n",
       "    <tr>\n",
       "      <th>1</th>\n",
       "      <td>c</td>\n",
       "      <td>15</td>\n",
       "      <td>3</td>\n",
       "    </tr>\n",
       "  </tbody>\n",
       "</table>\n",
       "</div>"
      ],
      "text/plain": [
       "  key  data1  data2\n",
       "0   a      5      2\n",
       "1   c     15      3"
      ]
     },
     "execution_count": 36,
     "metadata": {},
     "output_type": "execute_result"
    }
   ],
   "source": [
    "# 데이터프레임 df1과 df2를 만들자.\n",
    "df1 = pd.DataFrame({'key' : ['a', 'b', 'c', 'd'], 'data1' : [5, 10, 15, 20]})  \n",
    "df2 = pd.DataFrame({'key' : ['a', 'c', 'g', 'h', 'k'], 'data2' : [2, 3, 4, 5, 6]})\n",
    "\n",
    "# pd.merge()를 사용하면, 두 데이터프레임에 공통으로 있는 열을 기준으로 합해준다. \n",
    "df3 = pd.merge(df1, df2)\n",
    "df3"
   ]
  },
  {
   "cell_type": "code",
   "execution_count": 37,
   "metadata": {
    "colab": {
     "base_uri": "https://localhost:8080/",
     "height": 111
    },
    "executionInfo": {
     "elapsed": 8,
     "status": "ok",
     "timestamp": 1637294899850,
     "user": {
      "displayName": "HJ Kim",
      "photoUrl": "https://lh3.googleusercontent.com/a/default-user=s64",
      "userId": "16634276932240017990"
     },
     "user_tz": -540
    },
    "id": "1YytHqIRYJvO",
    "outputId": "87a71294-0933-42ee-dc1b-e64cba38d8ac"
   },
   "outputs": [
    {
     "data": {
      "text/html": [
       "<div>\n",
       "<style scoped>\n",
       "    .dataframe tbody tr th:only-of-type {\n",
       "        vertical-align: middle;\n",
       "    }\n",
       "\n",
       "    .dataframe tbody tr th {\n",
       "        vertical-align: top;\n",
       "    }\n",
       "\n",
       "    .dataframe thead th {\n",
       "        text-align: right;\n",
       "    }\n",
       "</style>\n",
       "<table border=\"1\" class=\"dataframe\">\n",
       "  <thead>\n",
       "    <tr style=\"text-align: right;\">\n",
       "      <th></th>\n",
       "      <th>key1</th>\n",
       "      <th>data1</th>\n",
       "      <th>key2</th>\n",
       "      <th>data2</th>\n",
       "    </tr>\n",
       "  </thead>\n",
       "  <tbody>\n",
       "    <tr>\n",
       "      <th>0</th>\n",
       "      <td>a</td>\n",
       "      <td>5</td>\n",
       "      <td>a</td>\n",
       "      <td>2</td>\n",
       "    </tr>\n",
       "    <tr>\n",
       "      <th>1</th>\n",
       "      <td>c</td>\n",
       "      <td>15</td>\n",
       "      <td>c</td>\n",
       "      <td>3</td>\n",
       "    </tr>\n",
       "  </tbody>\n",
       "</table>\n",
       "</div>"
      ],
      "text/plain": [
       "  key1  data1 key2  data2\n",
       "0    a      5    a      2\n",
       "1    c     15    c      3"
      ]
     },
     "execution_count": 37,
     "metadata": {},
     "output_type": "execute_result"
    }
   ],
   "source": [
    "df1 = pd.DataFrame({'key1' : ['a', 'b', 'c', 'd'], 'data1' : [5, 10, 15, 20]})\n",
    "df2 = pd.DataFrame({'key2' : ['a', 'c', 'g', 'h', 'k'], 'data2' : [2, 3, 4, 5, 6]})\n",
    "\n",
    "# 두 데이터프레임에 공통으로 있는 열이 없는 경우, 어느 열을 기준으로 할지 지정해줄 수 있다. \n",
    "# left_on에는 왼쪽 데이터프레임(df1)에서 기준으로 할 열(column)이름을, right_on에는 오른쪽 데이터프레임에서 기준으로 할 열(right_on)이름을 지정\n",
    "df3 = pd.merge(df1, df2, left_on = 'key1', right_on = 'key2')\n",
    "df3"
   ]
  },
  {
   "cell_type": "markdown",
   "metadata": {
    "id": "4cwxkoVebLL_"
   },
   "source": [
    "**결측치 처리**  \n",
    "\n",
    "데이터프레임 `df`에는 여러 결측치가 보인다. 각 열에 있는 결측치의 개수를 확인해보자. "
   ]
  },
  {
   "cell_type": "code",
   "execution_count": 38,
   "metadata": {
    "colab": {
     "base_uri": "https://localhost:8080/"
    },
    "executionInfo": {
     "elapsed": 605,
     "status": "ok",
     "timestamp": 1621061624396,
     "user": {
      "displayName": "HJ Kim",
      "photoUrl": "",
      "userId": "16634276932240017990"
     },
     "user_tz": -540
    },
    "id": "hUNM6JMp2Ggn",
    "outputId": "c4c109b2-b03e-4c3c-f0eb-81ab142fb675"
   },
   "outputs": [
    {
     "data": {
      "text/plain": [
       "rng     0\n",
       "A      10\n",
       "B       6\n",
       "gp      0\n",
       "C       4\n",
       "D      56\n",
       "dtype: int64"
      ]
     },
     "execution_count": 38,
     "metadata": {},
     "output_type": "execute_result"
    }
   ],
   "source": [
    "df.isnull().sum()"
   ]
  },
  {
   "cell_type": "markdown",
   "metadata": {
    "id": "QzkcA63SboPP"
   },
   "source": [
    "결측치가 많은 `D`열을 삭제하고자 할 때는 `del`을 이용한다. "
   ]
  },
  {
   "cell_type": "code",
   "execution_count": 39,
   "metadata": {
    "id": "Le7kvRfZ2dDi"
   },
   "outputs": [],
   "source": [
    "del df['D']"
   ]
  },
  {
   "cell_type": "markdown",
   "metadata": {
    "id": "aoRCEuYsbwsF"
   },
   "source": [
    "데이터프레임 `df`을 다시 확인해보자. "
   ]
  },
  {
   "cell_type": "code",
   "execution_count": 40,
   "metadata": {
    "colab": {
     "base_uri": "https://localhost:8080/",
     "height": 419
    },
    "executionInfo": {
     "elapsed": 602,
     "status": "ok",
     "timestamp": 1621061628175,
     "user": {
      "displayName": "HJ Kim",
      "photoUrl": "",
      "userId": "16634276932240017990"
     },
     "user_tz": -540
    },
    "id": "GbLzz0MR2fwQ",
    "outputId": "69ae6519-0620-4938-d1a8-867077a06a52"
   },
   "outputs": [
    {
     "data": {
      "text/html": [
       "<div>\n",
       "<style scoped>\n",
       "    .dataframe tbody tr th:only-of-type {\n",
       "        vertical-align: middle;\n",
       "    }\n",
       "\n",
       "    .dataframe tbody tr th {\n",
       "        vertical-align: top;\n",
       "    }\n",
       "\n",
       "    .dataframe thead th {\n",
       "        text-align: right;\n",
       "    }\n",
       "</style>\n",
       "<table border=\"1\" class=\"dataframe\">\n",
       "  <thead>\n",
       "    <tr style=\"text-align: right;\">\n",
       "      <th></th>\n",
       "      <th>rng</th>\n",
       "      <th>A</th>\n",
       "      <th>B</th>\n",
       "      <th>gp</th>\n",
       "      <th>C</th>\n",
       "    </tr>\n",
       "  </thead>\n",
       "  <tbody>\n",
       "    <tr>\n",
       "      <th>0</th>\n",
       "      <td>2019-01-07</td>\n",
       "      <td>10.0</td>\n",
       "      <td>36.0</td>\n",
       "      <td>gp1</td>\n",
       "      <td>80.0</td>\n",
       "    </tr>\n",
       "    <tr>\n",
       "      <th>1</th>\n",
       "      <td>2019-01-14</td>\n",
       "      <td>NaN</td>\n",
       "      <td>21.0</td>\n",
       "      <td>gp1</td>\n",
       "      <td>18.0</td>\n",
       "    </tr>\n",
       "    <tr>\n",
       "      <th>2</th>\n",
       "      <td>2019-01-21</td>\n",
       "      <td>91.0</td>\n",
       "      <td>107.0</td>\n",
       "      <td>gp4</td>\n",
       "      <td>68.0</td>\n",
       "    </tr>\n",
       "    <tr>\n",
       "      <th>3</th>\n",
       "      <td>2019-01-28</td>\n",
       "      <td>15.0</td>\n",
       "      <td>39.0</td>\n",
       "      <td>gp2</td>\n",
       "      <td>89.0</td>\n",
       "    </tr>\n",
       "    <tr>\n",
       "      <th>4</th>\n",
       "      <td>2019-02-04</td>\n",
       "      <td>15.0</td>\n",
       "      <td>24.0</td>\n",
       "      <td>gp1</td>\n",
       "      <td>12.0</td>\n",
       "    </tr>\n",
       "    <tr>\n",
       "      <th>...</th>\n",
       "      <td>...</td>\n",
       "      <td>...</td>\n",
       "      <td>...</td>\n",
       "      <td>...</td>\n",
       "      <td>...</td>\n",
       "    </tr>\n",
       "    <tr>\n",
       "      <th>116</th>\n",
       "      <td>2021-03-29</td>\n",
       "      <td>58.0</td>\n",
       "      <td>61.0</td>\n",
       "      <td>gp3</td>\n",
       "      <td>22.0</td>\n",
       "    </tr>\n",
       "    <tr>\n",
       "      <th>117</th>\n",
       "      <td>2021-04-05</td>\n",
       "      <td>12.0</td>\n",
       "      <td>34.0</td>\n",
       "      <td>gp1</td>\n",
       "      <td>65.0</td>\n",
       "    </tr>\n",
       "    <tr>\n",
       "      <th>118</th>\n",
       "      <td>2021-04-12</td>\n",
       "      <td>18.0</td>\n",
       "      <td>28.0</td>\n",
       "      <td>gp1</td>\n",
       "      <td>65.0</td>\n",
       "    </tr>\n",
       "    <tr>\n",
       "      <th>119</th>\n",
       "      <td>2021-04-19</td>\n",
       "      <td>11.0</td>\n",
       "      <td>26.0</td>\n",
       "      <td>gp3</td>\n",
       "      <td>84.0</td>\n",
       "    </tr>\n",
       "    <tr>\n",
       "      <th>120</th>\n",
       "      <td>2021-04-26</td>\n",
       "      <td>7.0</td>\n",
       "      <td>36.0</td>\n",
       "      <td>gp3</td>\n",
       "      <td>6.0</td>\n",
       "    </tr>\n",
       "  </tbody>\n",
       "</table>\n",
       "<p>121 rows × 5 columns</p>\n",
       "</div>"
      ],
      "text/plain": [
       "            rng     A      B   gp     C\n",
       "0    2019-01-07  10.0   36.0  gp1  80.0\n",
       "1    2019-01-14   NaN   21.0  gp1  18.0\n",
       "2    2019-01-21  91.0  107.0  gp4  68.0\n",
       "3    2019-01-28  15.0   39.0  gp2  89.0\n",
       "4    2019-02-04  15.0   24.0  gp1  12.0\n",
       "..          ...   ...    ...  ...   ...\n",
       "116  2021-03-29  58.0   61.0  gp3  22.0\n",
       "117  2021-04-05  12.0   34.0  gp1  65.0\n",
       "118  2021-04-12  18.0   28.0  gp1  65.0\n",
       "119  2021-04-19  11.0   26.0  gp3  84.0\n",
       "120  2021-04-26   7.0   36.0  gp3   6.0\n",
       "\n",
       "[121 rows x 5 columns]"
      ]
     },
     "execution_count": 40,
     "metadata": {},
     "output_type": "execute_result"
    }
   ],
   "source": [
    "df"
   ]
  },
  {
   "cell_type": "markdown",
   "metadata": {
    "id": "EESoqq7_b07T"
   },
   "source": [
    "`A`열에서 결측치인 데이터는 아래와 같이 확인 가능하다. "
   ]
  },
  {
   "cell_type": "code",
   "execution_count": 41,
   "metadata": {
    "colab": {
     "base_uri": "https://localhost:8080/",
     "height": 359
    },
    "executionInfo": {
     "elapsed": 582,
     "status": "ok",
     "timestamp": 1621061630692,
     "user": {
      "displayName": "HJ Kim",
      "photoUrl": "",
      "userId": "16634276932240017990"
     },
     "user_tz": -540
    },
    "id": "in2ysu9KFL5S",
    "outputId": "a27d55bd-8da0-42e0-81de-df40b0941c86"
   },
   "outputs": [
    {
     "data": {
      "text/html": [
       "<div>\n",
       "<style scoped>\n",
       "    .dataframe tbody tr th:only-of-type {\n",
       "        vertical-align: middle;\n",
       "    }\n",
       "\n",
       "    .dataframe tbody tr th {\n",
       "        vertical-align: top;\n",
       "    }\n",
       "\n",
       "    .dataframe thead th {\n",
       "        text-align: right;\n",
       "    }\n",
       "</style>\n",
       "<table border=\"1\" class=\"dataframe\">\n",
       "  <thead>\n",
       "    <tr style=\"text-align: right;\">\n",
       "      <th></th>\n",
       "      <th>rng</th>\n",
       "      <th>A</th>\n",
       "      <th>B</th>\n",
       "      <th>gp</th>\n",
       "      <th>C</th>\n",
       "    </tr>\n",
       "  </thead>\n",
       "  <tbody>\n",
       "    <tr>\n",
       "      <th>1</th>\n",
       "      <td>2019-01-14</td>\n",
       "      <td>NaN</td>\n",
       "      <td>21.0</td>\n",
       "      <td>gp1</td>\n",
       "      <td>18.0</td>\n",
       "    </tr>\n",
       "    <tr>\n",
       "      <th>9</th>\n",
       "      <td>2019-03-11</td>\n",
       "      <td>NaN</td>\n",
       "      <td>31.0</td>\n",
       "      <td>gp1</td>\n",
       "      <td>8.0</td>\n",
       "    </tr>\n",
       "    <tr>\n",
       "      <th>18</th>\n",
       "      <td>2019-05-13</td>\n",
       "      <td>NaN</td>\n",
       "      <td>42.0</td>\n",
       "      <td>gp2</td>\n",
       "      <td>29.0</td>\n",
       "    </tr>\n",
       "    <tr>\n",
       "      <th>24</th>\n",
       "      <td>2019-06-24</td>\n",
       "      <td>NaN</td>\n",
       "      <td>58.0</td>\n",
       "      <td>gp2</td>\n",
       "      <td>18.0</td>\n",
       "    </tr>\n",
       "    <tr>\n",
       "      <th>46</th>\n",
       "      <td>2019-11-25</td>\n",
       "      <td>NaN</td>\n",
       "      <td>53.0</td>\n",
       "      <td>gp2</td>\n",
       "      <td>15.0</td>\n",
       "    </tr>\n",
       "    <tr>\n",
       "      <th>56</th>\n",
       "      <td>2020-02-03</td>\n",
       "      <td>NaN</td>\n",
       "      <td>39.0</td>\n",
       "      <td>gp1</td>\n",
       "      <td>94.0</td>\n",
       "    </tr>\n",
       "    <tr>\n",
       "      <th>65</th>\n",
       "      <td>2020-04-06</td>\n",
       "      <td>NaN</td>\n",
       "      <td>37.0</td>\n",
       "      <td>gp1</td>\n",
       "      <td>46.0</td>\n",
       "    </tr>\n",
       "    <tr>\n",
       "      <th>68</th>\n",
       "      <td>2020-04-27</td>\n",
       "      <td>NaN</td>\n",
       "      <td>70.0</td>\n",
       "      <td>gp3</td>\n",
       "      <td>92.0</td>\n",
       "    </tr>\n",
       "    <tr>\n",
       "      <th>84</th>\n",
       "      <td>2020-08-17</td>\n",
       "      <td>NaN</td>\n",
       "      <td>55.0</td>\n",
       "      <td>gp3</td>\n",
       "      <td>89.0</td>\n",
       "    </tr>\n",
       "    <tr>\n",
       "      <th>98</th>\n",
       "      <td>2020-11-23</td>\n",
       "      <td>NaN</td>\n",
       "      <td>57.0</td>\n",
       "      <td>gp3</td>\n",
       "      <td>5.0</td>\n",
       "    </tr>\n",
       "  </tbody>\n",
       "</table>\n",
       "</div>"
      ],
      "text/plain": [
       "           rng   A     B   gp     C\n",
       "1   2019-01-14 NaN  21.0  gp1  18.0\n",
       "9   2019-03-11 NaN  31.0  gp1   8.0\n",
       "18  2019-05-13 NaN  42.0  gp2  29.0\n",
       "24  2019-06-24 NaN  58.0  gp2  18.0\n",
       "46  2019-11-25 NaN  53.0  gp2  15.0\n",
       "56  2020-02-03 NaN  39.0  gp1  94.0\n",
       "65  2020-04-06 NaN  37.0  gp1  46.0\n",
       "68  2020-04-27 NaN  70.0  gp3  92.0\n",
       "84  2020-08-17 NaN  55.0  gp3  89.0\n",
       "98  2020-11-23 NaN  57.0  gp3   5.0"
      ]
     },
     "execution_count": 41,
     "metadata": {},
     "output_type": "execute_result"
    }
   ],
   "source": [
    "df[df.A.isnull()]"
   ]
  },
  {
   "cell_type": "markdown",
   "metadata": {
    "id": "Xq_bgLudb6u3"
   },
   "source": [
    "결측치는 `fillna()`를 사용해 다른 값으로 대체할 수 있다. 인자로 대체하고 싶은 값을 사용하면 된다.  \n",
    "예를 들어, 모든 결측치를 0으로 변경하려면 `fillna()`의 인자로 0을 사용하면 된다.   \n",
    "확인하면, A열의 1번 인덱스 값은 `NaN`에서 0으로 변경되었다.  \n",
    "\n",
    "주의) 기존의 데이터프레임 `df`는 변경되지 않는다. "
   ]
  },
  {
   "cell_type": "code",
   "execution_count": 42,
   "metadata": {
    "colab": {
     "base_uri": "https://localhost:8080/",
     "height": 419
    },
    "executionInfo": {
     "elapsed": 771,
     "status": "ok",
     "timestamp": 1621061632994,
     "user": {
      "displayName": "HJ Kim",
      "photoUrl": "",
      "userId": "16634276932240017990"
     },
     "user_tz": -540
    },
    "id": "fkQ7x5w06nXa",
    "outputId": "6b0fad58-7439-453b-c5c3-d571cf35ccad"
   },
   "outputs": [
    {
     "data": {
      "text/html": [
       "<div>\n",
       "<style scoped>\n",
       "    .dataframe tbody tr th:only-of-type {\n",
       "        vertical-align: middle;\n",
       "    }\n",
       "\n",
       "    .dataframe tbody tr th {\n",
       "        vertical-align: top;\n",
       "    }\n",
       "\n",
       "    .dataframe thead th {\n",
       "        text-align: right;\n",
       "    }\n",
       "</style>\n",
       "<table border=\"1\" class=\"dataframe\">\n",
       "  <thead>\n",
       "    <tr style=\"text-align: right;\">\n",
       "      <th></th>\n",
       "      <th>rng</th>\n",
       "      <th>A</th>\n",
       "      <th>B</th>\n",
       "      <th>gp</th>\n",
       "      <th>C</th>\n",
       "    </tr>\n",
       "  </thead>\n",
       "  <tbody>\n",
       "    <tr>\n",
       "      <th>0</th>\n",
       "      <td>2019-01-07</td>\n",
       "      <td>10.0</td>\n",
       "      <td>36.0</td>\n",
       "      <td>gp1</td>\n",
       "      <td>80.0</td>\n",
       "    </tr>\n",
       "    <tr>\n",
       "      <th>1</th>\n",
       "      <td>2019-01-14</td>\n",
       "      <td>0.0</td>\n",
       "      <td>21.0</td>\n",
       "      <td>gp1</td>\n",
       "      <td>18.0</td>\n",
       "    </tr>\n",
       "    <tr>\n",
       "      <th>2</th>\n",
       "      <td>2019-01-21</td>\n",
       "      <td>91.0</td>\n",
       "      <td>107.0</td>\n",
       "      <td>gp4</td>\n",
       "      <td>68.0</td>\n",
       "    </tr>\n",
       "    <tr>\n",
       "      <th>3</th>\n",
       "      <td>2019-01-28</td>\n",
       "      <td>15.0</td>\n",
       "      <td>39.0</td>\n",
       "      <td>gp2</td>\n",
       "      <td>89.0</td>\n",
       "    </tr>\n",
       "    <tr>\n",
       "      <th>4</th>\n",
       "      <td>2019-02-04</td>\n",
       "      <td>15.0</td>\n",
       "      <td>24.0</td>\n",
       "      <td>gp1</td>\n",
       "      <td>12.0</td>\n",
       "    </tr>\n",
       "    <tr>\n",
       "      <th>...</th>\n",
       "      <td>...</td>\n",
       "      <td>...</td>\n",
       "      <td>...</td>\n",
       "      <td>...</td>\n",
       "      <td>...</td>\n",
       "    </tr>\n",
       "    <tr>\n",
       "      <th>116</th>\n",
       "      <td>2021-03-29</td>\n",
       "      <td>58.0</td>\n",
       "      <td>61.0</td>\n",
       "      <td>gp3</td>\n",
       "      <td>22.0</td>\n",
       "    </tr>\n",
       "    <tr>\n",
       "      <th>117</th>\n",
       "      <td>2021-04-05</td>\n",
       "      <td>12.0</td>\n",
       "      <td>34.0</td>\n",
       "      <td>gp1</td>\n",
       "      <td>65.0</td>\n",
       "    </tr>\n",
       "    <tr>\n",
       "      <th>118</th>\n",
       "      <td>2021-04-12</td>\n",
       "      <td>18.0</td>\n",
       "      <td>28.0</td>\n",
       "      <td>gp1</td>\n",
       "      <td>65.0</td>\n",
       "    </tr>\n",
       "    <tr>\n",
       "      <th>119</th>\n",
       "      <td>2021-04-19</td>\n",
       "      <td>11.0</td>\n",
       "      <td>26.0</td>\n",
       "      <td>gp3</td>\n",
       "      <td>84.0</td>\n",
       "    </tr>\n",
       "    <tr>\n",
       "      <th>120</th>\n",
       "      <td>2021-04-26</td>\n",
       "      <td>7.0</td>\n",
       "      <td>36.0</td>\n",
       "      <td>gp3</td>\n",
       "      <td>6.0</td>\n",
       "    </tr>\n",
       "  </tbody>\n",
       "</table>\n",
       "<p>121 rows × 5 columns</p>\n",
       "</div>"
      ],
      "text/plain": [
       "            rng     A      B   gp     C\n",
       "0    2019-01-07  10.0   36.0  gp1  80.0\n",
       "1    2019-01-14   0.0   21.0  gp1  18.0\n",
       "2    2019-01-21  91.0  107.0  gp4  68.0\n",
       "3    2019-01-28  15.0   39.0  gp2  89.0\n",
       "4    2019-02-04  15.0   24.0  gp1  12.0\n",
       "..          ...   ...    ...  ...   ...\n",
       "116  2021-03-29  58.0   61.0  gp3  22.0\n",
       "117  2021-04-05  12.0   34.0  gp1  65.0\n",
       "118  2021-04-12  18.0   28.0  gp1  65.0\n",
       "119  2021-04-19  11.0   26.0  gp3  84.0\n",
       "120  2021-04-26   7.0   36.0  gp3   6.0\n",
       "\n",
       "[121 rows x 5 columns]"
      ]
     },
     "execution_count": 42,
     "metadata": {},
     "output_type": "execute_result"
    }
   ],
   "source": [
    "df.fillna(0)"
   ]
  },
  {
   "cell_type": "markdown",
   "metadata": {
    "id": "dJ5rVsWrcTOS"
   },
   "source": [
    "`A`열에서 결측치인 데이터를 확인해보면, 모두 0으로 대체된 것을 볼 수 있다. "
   ]
  },
  {
   "cell_type": "code",
   "execution_count": 43,
   "metadata": {
    "colab": {
     "base_uri": "https://localhost:8080/",
     "height": 359
    },
    "executionInfo": {
     "elapsed": 608,
     "status": "ok",
     "timestamp": 1621061634816,
     "user": {
      "displayName": "HJ Kim",
      "photoUrl": "",
      "userId": "16634276932240017990"
     },
     "user_tz": -540
    },
    "id": "-AYJaocHGLmS",
    "outputId": "96ceedbc-5cb9-4627-e1bd-46781171fb29"
   },
   "outputs": [
    {
     "data": {
      "text/html": [
       "<div>\n",
       "<style scoped>\n",
       "    .dataframe tbody tr th:only-of-type {\n",
       "        vertical-align: middle;\n",
       "    }\n",
       "\n",
       "    .dataframe tbody tr th {\n",
       "        vertical-align: top;\n",
       "    }\n",
       "\n",
       "    .dataframe thead th {\n",
       "        text-align: right;\n",
       "    }\n",
       "</style>\n",
       "<table border=\"1\" class=\"dataframe\">\n",
       "  <thead>\n",
       "    <tr style=\"text-align: right;\">\n",
       "      <th></th>\n",
       "      <th>rng</th>\n",
       "      <th>A</th>\n",
       "      <th>B</th>\n",
       "      <th>gp</th>\n",
       "      <th>C</th>\n",
       "    </tr>\n",
       "  </thead>\n",
       "  <tbody>\n",
       "    <tr>\n",
       "      <th>1</th>\n",
       "      <td>2019-01-14</td>\n",
       "      <td>0.0</td>\n",
       "      <td>21.0</td>\n",
       "      <td>gp1</td>\n",
       "      <td>18.0</td>\n",
       "    </tr>\n",
       "    <tr>\n",
       "      <th>9</th>\n",
       "      <td>2019-03-11</td>\n",
       "      <td>0.0</td>\n",
       "      <td>31.0</td>\n",
       "      <td>gp1</td>\n",
       "      <td>8.0</td>\n",
       "    </tr>\n",
       "    <tr>\n",
       "      <th>18</th>\n",
       "      <td>2019-05-13</td>\n",
       "      <td>0.0</td>\n",
       "      <td>42.0</td>\n",
       "      <td>gp2</td>\n",
       "      <td>29.0</td>\n",
       "    </tr>\n",
       "    <tr>\n",
       "      <th>24</th>\n",
       "      <td>2019-06-24</td>\n",
       "      <td>0.0</td>\n",
       "      <td>58.0</td>\n",
       "      <td>gp2</td>\n",
       "      <td>18.0</td>\n",
       "    </tr>\n",
       "    <tr>\n",
       "      <th>46</th>\n",
       "      <td>2019-11-25</td>\n",
       "      <td>0.0</td>\n",
       "      <td>53.0</td>\n",
       "      <td>gp2</td>\n",
       "      <td>15.0</td>\n",
       "    </tr>\n",
       "    <tr>\n",
       "      <th>56</th>\n",
       "      <td>2020-02-03</td>\n",
       "      <td>0.0</td>\n",
       "      <td>39.0</td>\n",
       "      <td>gp1</td>\n",
       "      <td>94.0</td>\n",
       "    </tr>\n",
       "    <tr>\n",
       "      <th>65</th>\n",
       "      <td>2020-04-06</td>\n",
       "      <td>0.0</td>\n",
       "      <td>37.0</td>\n",
       "      <td>gp1</td>\n",
       "      <td>46.0</td>\n",
       "    </tr>\n",
       "    <tr>\n",
       "      <th>68</th>\n",
       "      <td>2020-04-27</td>\n",
       "      <td>0.0</td>\n",
       "      <td>70.0</td>\n",
       "      <td>gp3</td>\n",
       "      <td>92.0</td>\n",
       "    </tr>\n",
       "    <tr>\n",
       "      <th>84</th>\n",
       "      <td>2020-08-17</td>\n",
       "      <td>0.0</td>\n",
       "      <td>55.0</td>\n",
       "      <td>gp3</td>\n",
       "      <td>89.0</td>\n",
       "    </tr>\n",
       "    <tr>\n",
       "      <th>98</th>\n",
       "      <td>2020-11-23</td>\n",
       "      <td>0.0</td>\n",
       "      <td>57.0</td>\n",
       "      <td>gp3</td>\n",
       "      <td>5.0</td>\n",
       "    </tr>\n",
       "  </tbody>\n",
       "</table>\n",
       "</div>"
      ],
      "text/plain": [
       "           rng    A     B   gp     C\n",
       "1   2019-01-14  0.0  21.0  gp1  18.0\n",
       "9   2019-03-11  0.0  31.0  gp1   8.0\n",
       "18  2019-05-13  0.0  42.0  gp2  29.0\n",
       "24  2019-06-24  0.0  58.0  gp2  18.0\n",
       "46  2019-11-25  0.0  53.0  gp2  15.0\n",
       "56  2020-02-03  0.0  39.0  gp1  94.0\n",
       "65  2020-04-06  0.0  37.0  gp1  46.0\n",
       "68  2020-04-27  0.0  70.0  gp3  92.0\n",
       "84  2020-08-17  0.0  55.0  gp3  89.0\n",
       "98  2020-11-23  0.0  57.0  gp3   5.0"
      ]
     },
     "execution_count": 43,
     "metadata": {},
     "output_type": "execute_result"
    }
   ],
   "source": [
    "df.fillna(0)[df.A.isnull()]"
   ]
  },
  {
   "cell_type": "markdown",
   "metadata": {
    "id": "K1HjQYjQdGaP"
   },
   "source": [
    "`B`열에서 결측치인 데이터도 모두 0으로 대체되었다. \n",
    "\n"
   ]
  },
  {
   "cell_type": "code",
   "execution_count": 44,
   "metadata": {
    "colab": {
     "base_uri": "https://localhost:8080/",
     "height": 235
    },
    "executionInfo": {
     "elapsed": 755,
     "status": "ok",
     "timestamp": 1621061636910,
     "user": {
      "displayName": "HJ Kim",
      "photoUrl": "",
      "userId": "16634276932240017990"
     },
     "user_tz": -540
    },
    "id": "-OTxkHJMGRv0",
    "outputId": "9270449e-58ae-4a90-afbd-0bad5194376a"
   },
   "outputs": [
    {
     "data": {
      "text/html": [
       "<div>\n",
       "<style scoped>\n",
       "    .dataframe tbody tr th:only-of-type {\n",
       "        vertical-align: middle;\n",
       "    }\n",
       "\n",
       "    .dataframe tbody tr th {\n",
       "        vertical-align: top;\n",
       "    }\n",
       "\n",
       "    .dataframe thead th {\n",
       "        text-align: right;\n",
       "    }\n",
       "</style>\n",
       "<table border=\"1\" class=\"dataframe\">\n",
       "  <thead>\n",
       "    <tr style=\"text-align: right;\">\n",
       "      <th></th>\n",
       "      <th>rng</th>\n",
       "      <th>A</th>\n",
       "      <th>B</th>\n",
       "      <th>gp</th>\n",
       "      <th>C</th>\n",
       "    </tr>\n",
       "  </thead>\n",
       "  <tbody>\n",
       "    <tr>\n",
       "      <th>6</th>\n",
       "      <td>2019-02-18</td>\n",
       "      <td>13.0</td>\n",
       "      <td>0.0</td>\n",
       "      <td>gp1</td>\n",
       "      <td>13.0</td>\n",
       "    </tr>\n",
       "    <tr>\n",
       "      <th>15</th>\n",
       "      <td>2019-04-22</td>\n",
       "      <td>5.0</td>\n",
       "      <td>0.0</td>\n",
       "      <td>gp1</td>\n",
       "      <td>13.0</td>\n",
       "    </tr>\n",
       "    <tr>\n",
       "      <th>86</th>\n",
       "      <td>2020-08-31</td>\n",
       "      <td>18.0</td>\n",
       "      <td>0.0</td>\n",
       "      <td>gp2</td>\n",
       "      <td>52.0</td>\n",
       "    </tr>\n",
       "    <tr>\n",
       "      <th>93</th>\n",
       "      <td>2020-10-19</td>\n",
       "      <td>10.0</td>\n",
       "      <td>0.0</td>\n",
       "      <td>gp1</td>\n",
       "      <td>19.0</td>\n",
       "    </tr>\n",
       "    <tr>\n",
       "      <th>96</th>\n",
       "      <td>2020-11-09</td>\n",
       "      <td>36.0</td>\n",
       "      <td>0.0</td>\n",
       "      <td>gp2</td>\n",
       "      <td>45.0</td>\n",
       "    </tr>\n",
       "    <tr>\n",
       "      <th>101</th>\n",
       "      <td>2020-12-14</td>\n",
       "      <td>55.0</td>\n",
       "      <td>0.0</td>\n",
       "      <td>gp3</td>\n",
       "      <td>81.0</td>\n",
       "    </tr>\n",
       "  </tbody>\n",
       "</table>\n",
       "</div>"
      ],
      "text/plain": [
       "            rng     A    B   gp     C\n",
       "6    2019-02-18  13.0  0.0  gp1  13.0\n",
       "15   2019-04-22   5.0  0.0  gp1  13.0\n",
       "86   2020-08-31  18.0  0.0  gp2  52.0\n",
       "93   2020-10-19  10.0  0.0  gp1  19.0\n",
       "96   2020-11-09  36.0  0.0  gp2  45.0\n",
       "101  2020-12-14  55.0  0.0  gp3  81.0"
      ]
     },
     "execution_count": 44,
     "metadata": {},
     "output_type": "execute_result"
    }
   ],
   "source": [
    "df.fillna(0)[df.B.isnull()]"
   ]
  },
  {
   "cell_type": "markdown",
   "metadata": {
    "id": "gyEOy0mkdLEV"
   },
   "source": [
    "마찬가지로, `C`열에서 결측치인 데이터도 모두 0으로 대체되었다. "
   ]
  },
  {
   "cell_type": "code",
   "execution_count": 45,
   "metadata": {
    "colab": {
     "base_uri": "https://localhost:8080/",
     "height": 173
    },
    "executionInfo": {
     "elapsed": 943,
     "status": "ok",
     "timestamp": 1621061638600,
     "user": {
      "displayName": "HJ Kim",
      "photoUrl": "",
      "userId": "16634276932240017990"
     },
     "user_tz": -540
    },
    "id": "7uibjN_KGUDm",
    "outputId": "31b2d383-9a4a-409b-c0a1-572e98ccf9b3"
   },
   "outputs": [
    {
     "data": {
      "text/html": [
       "<div>\n",
       "<style scoped>\n",
       "    .dataframe tbody tr th:only-of-type {\n",
       "        vertical-align: middle;\n",
       "    }\n",
       "\n",
       "    .dataframe tbody tr th {\n",
       "        vertical-align: top;\n",
       "    }\n",
       "\n",
       "    .dataframe thead th {\n",
       "        text-align: right;\n",
       "    }\n",
       "</style>\n",
       "<table border=\"1\" class=\"dataframe\">\n",
       "  <thead>\n",
       "    <tr style=\"text-align: right;\">\n",
       "      <th></th>\n",
       "      <th>rng</th>\n",
       "      <th>A</th>\n",
       "      <th>B</th>\n",
       "      <th>gp</th>\n",
       "      <th>C</th>\n",
       "    </tr>\n",
       "  </thead>\n",
       "  <tbody>\n",
       "    <tr>\n",
       "      <th>7</th>\n",
       "      <td>2019-02-25</td>\n",
       "      <td>22.0</td>\n",
       "      <td>56.0</td>\n",
       "      <td>gp2</td>\n",
       "      <td>0.0</td>\n",
       "    </tr>\n",
       "    <tr>\n",
       "      <th>13</th>\n",
       "      <td>2019-04-08</td>\n",
       "      <td>6.0</td>\n",
       "      <td>34.0</td>\n",
       "      <td>gp1</td>\n",
       "      <td>0.0</td>\n",
       "    </tr>\n",
       "    <tr>\n",
       "      <th>26</th>\n",
       "      <td>2019-07-08</td>\n",
       "      <td>23.0</td>\n",
       "      <td>46.0</td>\n",
       "      <td>gp2</td>\n",
       "      <td>0.0</td>\n",
       "    </tr>\n",
       "    <tr>\n",
       "      <th>87</th>\n",
       "      <td>2020-09-07</td>\n",
       "      <td>36.0</td>\n",
       "      <td>39.0</td>\n",
       "      <td>gp2</td>\n",
       "      <td>0.0</td>\n",
       "    </tr>\n",
       "  </tbody>\n",
       "</table>\n",
       "</div>"
      ],
      "text/plain": [
       "           rng     A     B   gp    C\n",
       "7   2019-02-25  22.0  56.0  gp2  0.0\n",
       "13  2019-04-08   6.0  34.0  gp1  0.0\n",
       "26  2019-07-08  23.0  46.0  gp2  0.0\n",
       "87  2020-09-07  36.0  39.0  gp2  0.0"
      ]
     },
     "execution_count": 45,
     "metadata": {},
     "output_type": "execute_result"
    }
   ],
   "source": [
    "df.fillna(0)[df.C.isnull()]"
   ]
  },
  {
   "cell_type": "markdown",
   "metadata": {
    "id": "liCj_aDndQHU"
   },
   "source": [
    "`fillna()`함수의 `method`를 `ffill`로 지정하면, 결측치의 위치 위쪽으로부터 가장 가까운 값을 이용하여 결측치가 채워진다.  \n",
    "\n",
    "참고) ffill는 forward fill 방식의 줄임말이다. "
   ]
  },
  {
   "cell_type": "code",
   "execution_count": 46,
   "metadata": {
    "colab": {
     "base_uri": "https://localhost:8080/",
     "height": 419
    },
    "executionInfo": {
     "elapsed": 464,
     "status": "ok",
     "timestamp": 1621061639777,
     "user": {
      "displayName": "HJ Kim",
      "photoUrl": "",
      "userId": "16634276932240017990"
     },
     "user_tz": -540
    },
    "id": "FM2rLiZE--aT",
    "outputId": "618027ea-4a5f-4006-d7e1-68f9b0644e45"
   },
   "outputs": [
    {
     "data": {
      "text/html": [
       "<div>\n",
       "<style scoped>\n",
       "    .dataframe tbody tr th:only-of-type {\n",
       "        vertical-align: middle;\n",
       "    }\n",
       "\n",
       "    .dataframe tbody tr th {\n",
       "        vertical-align: top;\n",
       "    }\n",
       "\n",
       "    .dataframe thead th {\n",
       "        text-align: right;\n",
       "    }\n",
       "</style>\n",
       "<table border=\"1\" class=\"dataframe\">\n",
       "  <thead>\n",
       "    <tr style=\"text-align: right;\">\n",
       "      <th></th>\n",
       "      <th>rng</th>\n",
       "      <th>A</th>\n",
       "      <th>B</th>\n",
       "      <th>gp</th>\n",
       "      <th>C</th>\n",
       "    </tr>\n",
       "  </thead>\n",
       "  <tbody>\n",
       "    <tr>\n",
       "      <th>0</th>\n",
       "      <td>2019-01-07</td>\n",
       "      <td>10.0</td>\n",
       "      <td>36.0</td>\n",
       "      <td>gp1</td>\n",
       "      <td>80.0</td>\n",
       "    </tr>\n",
       "    <tr>\n",
       "      <th>1</th>\n",
       "      <td>2019-01-14</td>\n",
       "      <td>10.0</td>\n",
       "      <td>21.0</td>\n",
       "      <td>gp1</td>\n",
       "      <td>18.0</td>\n",
       "    </tr>\n",
       "    <tr>\n",
       "      <th>2</th>\n",
       "      <td>2019-01-21</td>\n",
       "      <td>91.0</td>\n",
       "      <td>107.0</td>\n",
       "      <td>gp4</td>\n",
       "      <td>68.0</td>\n",
       "    </tr>\n",
       "    <tr>\n",
       "      <th>3</th>\n",
       "      <td>2019-01-28</td>\n",
       "      <td>15.0</td>\n",
       "      <td>39.0</td>\n",
       "      <td>gp2</td>\n",
       "      <td>89.0</td>\n",
       "    </tr>\n",
       "    <tr>\n",
       "      <th>4</th>\n",
       "      <td>2019-02-04</td>\n",
       "      <td>15.0</td>\n",
       "      <td>24.0</td>\n",
       "      <td>gp1</td>\n",
       "      <td>12.0</td>\n",
       "    </tr>\n",
       "    <tr>\n",
       "      <th>...</th>\n",
       "      <td>...</td>\n",
       "      <td>...</td>\n",
       "      <td>...</td>\n",
       "      <td>...</td>\n",
       "      <td>...</td>\n",
       "    </tr>\n",
       "    <tr>\n",
       "      <th>116</th>\n",
       "      <td>2021-03-29</td>\n",
       "      <td>58.0</td>\n",
       "      <td>61.0</td>\n",
       "      <td>gp3</td>\n",
       "      <td>22.0</td>\n",
       "    </tr>\n",
       "    <tr>\n",
       "      <th>117</th>\n",
       "      <td>2021-04-05</td>\n",
       "      <td>12.0</td>\n",
       "      <td>34.0</td>\n",
       "      <td>gp1</td>\n",
       "      <td>65.0</td>\n",
       "    </tr>\n",
       "    <tr>\n",
       "      <th>118</th>\n",
       "      <td>2021-04-12</td>\n",
       "      <td>18.0</td>\n",
       "      <td>28.0</td>\n",
       "      <td>gp1</td>\n",
       "      <td>65.0</td>\n",
       "    </tr>\n",
       "    <tr>\n",
       "      <th>119</th>\n",
       "      <td>2021-04-19</td>\n",
       "      <td>11.0</td>\n",
       "      <td>26.0</td>\n",
       "      <td>gp3</td>\n",
       "      <td>84.0</td>\n",
       "    </tr>\n",
       "    <tr>\n",
       "      <th>120</th>\n",
       "      <td>2021-04-26</td>\n",
       "      <td>7.0</td>\n",
       "      <td>36.0</td>\n",
       "      <td>gp3</td>\n",
       "      <td>6.0</td>\n",
       "    </tr>\n",
       "  </tbody>\n",
       "</table>\n",
       "<p>121 rows × 5 columns</p>\n",
       "</div>"
      ],
      "text/plain": [
       "            rng     A      B   gp     C\n",
       "0    2019-01-07  10.0   36.0  gp1  80.0\n",
       "1    2019-01-14  10.0   21.0  gp1  18.0\n",
       "2    2019-01-21  91.0  107.0  gp4  68.0\n",
       "3    2019-01-28  15.0   39.0  gp2  89.0\n",
       "4    2019-02-04  15.0   24.0  gp1  12.0\n",
       "..          ...   ...    ...  ...   ...\n",
       "116  2021-03-29  58.0   61.0  gp3  22.0\n",
       "117  2021-04-05  12.0   34.0  gp1  65.0\n",
       "118  2021-04-12  18.0   28.0  gp1  65.0\n",
       "119  2021-04-19  11.0   26.0  gp3  84.0\n",
       "120  2021-04-26   7.0   36.0  gp3   6.0\n",
       "\n",
       "[121 rows x 5 columns]"
      ]
     },
     "execution_count": 46,
     "metadata": {},
     "output_type": "execute_result"
    }
   ],
   "source": [
    "df.fillna(method='ffill')"
   ]
  },
  {
   "cell_type": "markdown",
   "metadata": {
    "id": "DN9mYUeQewe2"
   },
   "source": [
    "잘 변경되었는지 몇 개 확인해보자.  \n",
    "`A`열의 1번 인덱스 값은 바로 위쪽 값인 10으로 대체되었고,  `B`열의 6번 인덱스 값도 바로 위의 값인 56으로 변경되었다. "
   ]
  },
  {
   "cell_type": "code",
   "execution_count": 47,
   "metadata": {
    "colab": {
     "base_uri": "https://localhost:8080/"
    },
    "executionInfo": {
     "elapsed": 627,
     "status": "ok",
     "timestamp": 1621061642155,
     "user": {
      "displayName": "HJ Kim",
      "photoUrl": "",
      "userId": "16634276932240017990"
     },
     "user_tz": -540
    },
    "id": "w2sogmqtGadF",
    "outputId": "164badbb-7ab8-4a36-b846-b860d98f4e96"
   },
   "outputs": [
    {
     "name": "stdout",
     "output_type": "stream",
     "text": [
      "          rng     A      B   gp     C\n",
      "0  2019-01-07  10.0   36.0  gp1  80.0\n",
      "1  2019-01-14   NaN   21.0  gp1  18.0\n",
      "2  2019-01-21  91.0  107.0  gp4  68.0\n",
      "3  2019-01-28  15.0   39.0  gp2  89.0\n",
      "4  2019-02-04  15.0   24.0  gp1  12.0\n",
      "5  2019-02-11  22.0   56.0  gp2  87.0\n",
      "6  2019-02-18  13.0    NaN  gp1  13.0\n",
      "7  2019-02-25  22.0   56.0  gp2   NaN\n",
      "8  2019-03-04  36.0   48.0  gp2  10.0\n",
      "9  2019-03-11   NaN   31.0  gp1   8.0\n",
      "=======================\n",
      "          rng     A      B   gp     C\n",
      "0  2019-01-07  10.0   36.0  gp1  80.0\n",
      "1  2019-01-14  10.0   21.0  gp1  18.0\n",
      "2  2019-01-21  91.0  107.0  gp4  68.0\n",
      "3  2019-01-28  15.0   39.0  gp2  89.0\n",
      "4  2019-02-04  15.0   24.0  gp1  12.0\n",
      "5  2019-02-11  22.0   56.0  gp2  87.0\n",
      "6  2019-02-18  13.0   56.0  gp1  13.0\n",
      "7  2019-02-25  22.0   56.0  gp2  13.0\n",
      "8  2019-03-04  36.0   48.0  gp2  10.0\n",
      "9  2019-03-11  36.0   31.0  gp1   8.0\n"
     ]
    }
   ],
   "source": [
    "print(df.head(10))\n",
    "print('=======================')\n",
    "print(df.fillna(method='ffill').head(10))"
   ]
  },
  {
   "cell_type": "markdown",
   "metadata": {
    "id": "Reb7nd-yfB9J"
   },
   "source": [
    "딕셔너리를 사용하여 각 열마다 다른 값을 채워 넣을 수도 있다.  \n",
    "예를 들어, 아래는 `A`열의 결측치는 0으로, `B`열의 결측치는 1로, `C`열의 결측치는 2로 변경하라는 코드이다. "
   ]
  },
  {
   "cell_type": "code",
   "execution_count": 48,
   "metadata": {
    "colab": {
     "base_uri": "https://localhost:8080/",
     "height": 419
    },
    "executionInfo": {
     "elapsed": 638,
     "status": "ok",
     "timestamp": 1621061644584,
     "user": {
      "displayName": "HJ Kim",
      "photoUrl": "",
      "userId": "16634276932240017990"
     },
     "user_tz": -540
    },
    "id": "M9REazU9_JH_",
    "outputId": "1facd230-fa3b-4f4d-d70f-b9f52d74b4e4"
   },
   "outputs": [
    {
     "data": {
      "text/html": [
       "<div>\n",
       "<style scoped>\n",
       "    .dataframe tbody tr th:only-of-type {\n",
       "        vertical-align: middle;\n",
       "    }\n",
       "\n",
       "    .dataframe tbody tr th {\n",
       "        vertical-align: top;\n",
       "    }\n",
       "\n",
       "    .dataframe thead th {\n",
       "        text-align: right;\n",
       "    }\n",
       "</style>\n",
       "<table border=\"1\" class=\"dataframe\">\n",
       "  <thead>\n",
       "    <tr style=\"text-align: right;\">\n",
       "      <th></th>\n",
       "      <th>rng</th>\n",
       "      <th>A</th>\n",
       "      <th>B</th>\n",
       "      <th>gp</th>\n",
       "      <th>C</th>\n",
       "    </tr>\n",
       "  </thead>\n",
       "  <tbody>\n",
       "    <tr>\n",
       "      <th>0</th>\n",
       "      <td>2019-01-07</td>\n",
       "      <td>10.0</td>\n",
       "      <td>36.0</td>\n",
       "      <td>gp1</td>\n",
       "      <td>80.0</td>\n",
       "    </tr>\n",
       "    <tr>\n",
       "      <th>1</th>\n",
       "      <td>2019-01-14</td>\n",
       "      <td>0.0</td>\n",
       "      <td>21.0</td>\n",
       "      <td>gp1</td>\n",
       "      <td>18.0</td>\n",
       "    </tr>\n",
       "    <tr>\n",
       "      <th>2</th>\n",
       "      <td>2019-01-21</td>\n",
       "      <td>91.0</td>\n",
       "      <td>107.0</td>\n",
       "      <td>gp4</td>\n",
       "      <td>68.0</td>\n",
       "    </tr>\n",
       "    <tr>\n",
       "      <th>3</th>\n",
       "      <td>2019-01-28</td>\n",
       "      <td>15.0</td>\n",
       "      <td>39.0</td>\n",
       "      <td>gp2</td>\n",
       "      <td>89.0</td>\n",
       "    </tr>\n",
       "    <tr>\n",
       "      <th>4</th>\n",
       "      <td>2019-02-04</td>\n",
       "      <td>15.0</td>\n",
       "      <td>24.0</td>\n",
       "      <td>gp1</td>\n",
       "      <td>12.0</td>\n",
       "    </tr>\n",
       "    <tr>\n",
       "      <th>...</th>\n",
       "      <td>...</td>\n",
       "      <td>...</td>\n",
       "      <td>...</td>\n",
       "      <td>...</td>\n",
       "      <td>...</td>\n",
       "    </tr>\n",
       "    <tr>\n",
       "      <th>116</th>\n",
       "      <td>2021-03-29</td>\n",
       "      <td>58.0</td>\n",
       "      <td>61.0</td>\n",
       "      <td>gp3</td>\n",
       "      <td>22.0</td>\n",
       "    </tr>\n",
       "    <tr>\n",
       "      <th>117</th>\n",
       "      <td>2021-04-05</td>\n",
       "      <td>12.0</td>\n",
       "      <td>34.0</td>\n",
       "      <td>gp1</td>\n",
       "      <td>65.0</td>\n",
       "    </tr>\n",
       "    <tr>\n",
       "      <th>118</th>\n",
       "      <td>2021-04-12</td>\n",
       "      <td>18.0</td>\n",
       "      <td>28.0</td>\n",
       "      <td>gp1</td>\n",
       "      <td>65.0</td>\n",
       "    </tr>\n",
       "    <tr>\n",
       "      <th>119</th>\n",
       "      <td>2021-04-19</td>\n",
       "      <td>11.0</td>\n",
       "      <td>26.0</td>\n",
       "      <td>gp3</td>\n",
       "      <td>84.0</td>\n",
       "    </tr>\n",
       "    <tr>\n",
       "      <th>120</th>\n",
       "      <td>2021-04-26</td>\n",
       "      <td>7.0</td>\n",
       "      <td>36.0</td>\n",
       "      <td>gp3</td>\n",
       "      <td>6.0</td>\n",
       "    </tr>\n",
       "  </tbody>\n",
       "</table>\n",
       "<p>121 rows × 5 columns</p>\n",
       "</div>"
      ],
      "text/plain": [
       "            rng     A      B   gp     C\n",
       "0    2019-01-07  10.0   36.0  gp1  80.0\n",
       "1    2019-01-14   0.0   21.0  gp1  18.0\n",
       "2    2019-01-21  91.0  107.0  gp4  68.0\n",
       "3    2019-01-28  15.0   39.0  gp2  89.0\n",
       "4    2019-02-04  15.0   24.0  gp1  12.0\n",
       "..          ...   ...    ...  ...   ...\n",
       "116  2021-03-29  58.0   61.0  gp3  22.0\n",
       "117  2021-04-05  12.0   34.0  gp1  65.0\n",
       "118  2021-04-12  18.0   28.0  gp1  65.0\n",
       "119  2021-04-19  11.0   26.0  gp3  84.0\n",
       "120  2021-04-26   7.0   36.0  gp3   6.0\n",
       "\n",
       "[121 rows x 5 columns]"
      ]
     },
     "execution_count": 48,
     "metadata": {},
     "output_type": "execute_result"
    }
   ],
   "source": [
    "values = {'A' : 0, 'B' : 1, 'C' : 2}\n",
    "df.fillna(value=values)"
   ]
  },
  {
   "cell_type": "markdown",
   "metadata": {
    "id": "F0cCTuitfTEA"
   },
   "source": [
    "`A`열에서 결측치인 데이터를 확인해보면, 모두 0으로 대체되었다."
   ]
  },
  {
   "cell_type": "code",
   "execution_count": 49,
   "metadata": {
    "colab": {
     "base_uri": "https://localhost:8080/",
     "height": 359
    },
    "executionInfo": {
     "elapsed": 1470,
     "status": "ok",
     "timestamp": 1621061647759,
     "user": {
      "displayName": "HJ Kim",
      "photoUrl": "",
      "userId": "16634276932240017990"
     },
     "user_tz": -540
    },
    "id": "-ZDdOmCiGu9F",
    "outputId": "5e813189-b94f-4058-e5a6-7b2992aac66c"
   },
   "outputs": [
    {
     "data": {
      "text/html": [
       "<div>\n",
       "<style scoped>\n",
       "    .dataframe tbody tr th:only-of-type {\n",
       "        vertical-align: middle;\n",
       "    }\n",
       "\n",
       "    .dataframe tbody tr th {\n",
       "        vertical-align: top;\n",
       "    }\n",
       "\n",
       "    .dataframe thead th {\n",
       "        text-align: right;\n",
       "    }\n",
       "</style>\n",
       "<table border=\"1\" class=\"dataframe\">\n",
       "  <thead>\n",
       "    <tr style=\"text-align: right;\">\n",
       "      <th></th>\n",
       "      <th>rng</th>\n",
       "      <th>A</th>\n",
       "      <th>B</th>\n",
       "      <th>gp</th>\n",
       "      <th>C</th>\n",
       "    </tr>\n",
       "  </thead>\n",
       "  <tbody>\n",
       "    <tr>\n",
       "      <th>1</th>\n",
       "      <td>2019-01-14</td>\n",
       "      <td>0.0</td>\n",
       "      <td>21.0</td>\n",
       "      <td>gp1</td>\n",
       "      <td>18.0</td>\n",
       "    </tr>\n",
       "    <tr>\n",
       "      <th>9</th>\n",
       "      <td>2019-03-11</td>\n",
       "      <td>0.0</td>\n",
       "      <td>31.0</td>\n",
       "      <td>gp1</td>\n",
       "      <td>8.0</td>\n",
       "    </tr>\n",
       "    <tr>\n",
       "      <th>18</th>\n",
       "      <td>2019-05-13</td>\n",
       "      <td>0.0</td>\n",
       "      <td>42.0</td>\n",
       "      <td>gp2</td>\n",
       "      <td>29.0</td>\n",
       "    </tr>\n",
       "    <tr>\n",
       "      <th>24</th>\n",
       "      <td>2019-06-24</td>\n",
       "      <td>0.0</td>\n",
       "      <td>58.0</td>\n",
       "      <td>gp2</td>\n",
       "      <td>18.0</td>\n",
       "    </tr>\n",
       "    <tr>\n",
       "      <th>46</th>\n",
       "      <td>2019-11-25</td>\n",
       "      <td>0.0</td>\n",
       "      <td>53.0</td>\n",
       "      <td>gp2</td>\n",
       "      <td>15.0</td>\n",
       "    </tr>\n",
       "    <tr>\n",
       "      <th>56</th>\n",
       "      <td>2020-02-03</td>\n",
       "      <td>0.0</td>\n",
       "      <td>39.0</td>\n",
       "      <td>gp1</td>\n",
       "      <td>94.0</td>\n",
       "    </tr>\n",
       "    <tr>\n",
       "      <th>65</th>\n",
       "      <td>2020-04-06</td>\n",
       "      <td>0.0</td>\n",
       "      <td>37.0</td>\n",
       "      <td>gp1</td>\n",
       "      <td>46.0</td>\n",
       "    </tr>\n",
       "    <tr>\n",
       "      <th>68</th>\n",
       "      <td>2020-04-27</td>\n",
       "      <td>0.0</td>\n",
       "      <td>70.0</td>\n",
       "      <td>gp3</td>\n",
       "      <td>92.0</td>\n",
       "    </tr>\n",
       "    <tr>\n",
       "      <th>84</th>\n",
       "      <td>2020-08-17</td>\n",
       "      <td>0.0</td>\n",
       "      <td>55.0</td>\n",
       "      <td>gp3</td>\n",
       "      <td>89.0</td>\n",
       "    </tr>\n",
       "    <tr>\n",
       "      <th>98</th>\n",
       "      <td>2020-11-23</td>\n",
       "      <td>0.0</td>\n",
       "      <td>57.0</td>\n",
       "      <td>gp3</td>\n",
       "      <td>5.0</td>\n",
       "    </tr>\n",
       "  </tbody>\n",
       "</table>\n",
       "</div>"
      ],
      "text/plain": [
       "           rng    A     B   gp     C\n",
       "1   2019-01-14  0.0  21.0  gp1  18.0\n",
       "9   2019-03-11  0.0  31.0  gp1   8.0\n",
       "18  2019-05-13  0.0  42.0  gp2  29.0\n",
       "24  2019-06-24  0.0  58.0  gp2  18.0\n",
       "46  2019-11-25  0.0  53.0  gp2  15.0\n",
       "56  2020-02-03  0.0  39.0  gp1  94.0\n",
       "65  2020-04-06  0.0  37.0  gp1  46.0\n",
       "68  2020-04-27  0.0  70.0  gp3  92.0\n",
       "84  2020-08-17  0.0  55.0  gp3  89.0\n",
       "98  2020-11-23  0.0  57.0  gp3   5.0"
      ]
     },
     "execution_count": 49,
     "metadata": {},
     "output_type": "execute_result"
    }
   ],
   "source": [
    "df.fillna(value=values)[df.A.isnull()]"
   ]
  },
  {
   "cell_type": "markdown",
   "metadata": {
    "id": "b_RNa9fBfW9g"
   },
   "source": [
    "`B`열에서 결측치는 모두 1로 채워졌다. "
   ]
  },
  {
   "cell_type": "code",
   "execution_count": 50,
   "metadata": {
    "colab": {
     "base_uri": "https://localhost:8080/",
     "height": 235
    },
    "executionInfo": {
     "elapsed": 580,
     "status": "ok",
     "timestamp": 1621061649642,
     "user": {
      "displayName": "HJ Kim",
      "photoUrl": "",
      "userId": "16634276932240017990"
     },
     "user_tz": -540
    },
    "id": "Y3_U2spSGzPx",
    "outputId": "60b9aa8f-ebac-4c69-e27d-d4f0b1531f9a"
   },
   "outputs": [
    {
     "data": {
      "text/html": [
       "<div>\n",
       "<style scoped>\n",
       "    .dataframe tbody tr th:only-of-type {\n",
       "        vertical-align: middle;\n",
       "    }\n",
       "\n",
       "    .dataframe tbody tr th {\n",
       "        vertical-align: top;\n",
       "    }\n",
       "\n",
       "    .dataframe thead th {\n",
       "        text-align: right;\n",
       "    }\n",
       "</style>\n",
       "<table border=\"1\" class=\"dataframe\">\n",
       "  <thead>\n",
       "    <tr style=\"text-align: right;\">\n",
       "      <th></th>\n",
       "      <th>rng</th>\n",
       "      <th>A</th>\n",
       "      <th>B</th>\n",
       "      <th>gp</th>\n",
       "      <th>C</th>\n",
       "    </tr>\n",
       "  </thead>\n",
       "  <tbody>\n",
       "    <tr>\n",
       "      <th>6</th>\n",
       "      <td>2019-02-18</td>\n",
       "      <td>13.0</td>\n",
       "      <td>1.0</td>\n",
       "      <td>gp1</td>\n",
       "      <td>13.0</td>\n",
       "    </tr>\n",
       "    <tr>\n",
       "      <th>15</th>\n",
       "      <td>2019-04-22</td>\n",
       "      <td>5.0</td>\n",
       "      <td>1.0</td>\n",
       "      <td>gp1</td>\n",
       "      <td>13.0</td>\n",
       "    </tr>\n",
       "    <tr>\n",
       "      <th>86</th>\n",
       "      <td>2020-08-31</td>\n",
       "      <td>18.0</td>\n",
       "      <td>1.0</td>\n",
       "      <td>gp2</td>\n",
       "      <td>52.0</td>\n",
       "    </tr>\n",
       "    <tr>\n",
       "      <th>93</th>\n",
       "      <td>2020-10-19</td>\n",
       "      <td>10.0</td>\n",
       "      <td>1.0</td>\n",
       "      <td>gp1</td>\n",
       "      <td>19.0</td>\n",
       "    </tr>\n",
       "    <tr>\n",
       "      <th>96</th>\n",
       "      <td>2020-11-09</td>\n",
       "      <td>36.0</td>\n",
       "      <td>1.0</td>\n",
       "      <td>gp2</td>\n",
       "      <td>45.0</td>\n",
       "    </tr>\n",
       "    <tr>\n",
       "      <th>101</th>\n",
       "      <td>2020-12-14</td>\n",
       "      <td>55.0</td>\n",
       "      <td>1.0</td>\n",
       "      <td>gp3</td>\n",
       "      <td>81.0</td>\n",
       "    </tr>\n",
       "  </tbody>\n",
       "</table>\n",
       "</div>"
      ],
      "text/plain": [
       "            rng     A    B   gp     C\n",
       "6    2019-02-18  13.0  1.0  gp1  13.0\n",
       "15   2019-04-22   5.0  1.0  gp1  13.0\n",
       "86   2020-08-31  18.0  1.0  gp2  52.0\n",
       "93   2020-10-19  10.0  1.0  gp1  19.0\n",
       "96   2020-11-09  36.0  1.0  gp2  45.0\n",
       "101  2020-12-14  55.0  1.0  gp3  81.0"
      ]
     },
     "execution_count": 50,
     "metadata": {},
     "output_type": "execute_result"
    }
   ],
   "source": [
    "df.fillna(value=values)[df.B.isnull()]"
   ]
  },
  {
   "cell_type": "markdown",
   "metadata": {
    "id": "QrELr335fdV0"
   },
   "source": [
    "`C`열에서 결측치는 모두 2로 변경되었다. "
   ]
  },
  {
   "cell_type": "code",
   "execution_count": 51,
   "metadata": {
    "colab": {
     "base_uri": "https://localhost:8080/",
     "height": 173
    },
    "executionInfo": {
     "elapsed": 592,
     "status": "ok",
     "timestamp": 1621061651989,
     "user": {
      "displayName": "HJ Kim",
      "photoUrl": "",
      "userId": "16634276932240017990"
     },
     "user_tz": -540
    },
    "id": "eTxYLVfoG1mB",
    "outputId": "06a298ec-f92c-48f0-ebeb-ef0c08a13b45"
   },
   "outputs": [
    {
     "data": {
      "text/html": [
       "<div>\n",
       "<style scoped>\n",
       "    .dataframe tbody tr th:only-of-type {\n",
       "        vertical-align: middle;\n",
       "    }\n",
       "\n",
       "    .dataframe tbody tr th {\n",
       "        vertical-align: top;\n",
       "    }\n",
       "\n",
       "    .dataframe thead th {\n",
       "        text-align: right;\n",
       "    }\n",
       "</style>\n",
       "<table border=\"1\" class=\"dataframe\">\n",
       "  <thead>\n",
       "    <tr style=\"text-align: right;\">\n",
       "      <th></th>\n",
       "      <th>rng</th>\n",
       "      <th>A</th>\n",
       "      <th>B</th>\n",
       "      <th>gp</th>\n",
       "      <th>C</th>\n",
       "    </tr>\n",
       "  </thead>\n",
       "  <tbody>\n",
       "    <tr>\n",
       "      <th>7</th>\n",
       "      <td>2019-02-25</td>\n",
       "      <td>22.0</td>\n",
       "      <td>56.0</td>\n",
       "      <td>gp2</td>\n",
       "      <td>2.0</td>\n",
       "    </tr>\n",
       "    <tr>\n",
       "      <th>13</th>\n",
       "      <td>2019-04-08</td>\n",
       "      <td>6.0</td>\n",
       "      <td>34.0</td>\n",
       "      <td>gp1</td>\n",
       "      <td>2.0</td>\n",
       "    </tr>\n",
       "    <tr>\n",
       "      <th>26</th>\n",
       "      <td>2019-07-08</td>\n",
       "      <td>23.0</td>\n",
       "      <td>46.0</td>\n",
       "      <td>gp2</td>\n",
       "      <td>2.0</td>\n",
       "    </tr>\n",
       "    <tr>\n",
       "      <th>87</th>\n",
       "      <td>2020-09-07</td>\n",
       "      <td>36.0</td>\n",
       "      <td>39.0</td>\n",
       "      <td>gp2</td>\n",
       "      <td>2.0</td>\n",
       "    </tr>\n",
       "  </tbody>\n",
       "</table>\n",
       "</div>"
      ],
      "text/plain": [
       "           rng     A     B   gp    C\n",
       "7   2019-02-25  22.0  56.0  gp2  2.0\n",
       "13  2019-04-08   6.0  34.0  gp1  2.0\n",
       "26  2019-07-08  23.0  46.0  gp2  2.0\n",
       "87  2020-09-07  36.0  39.0  gp2  2.0"
      ]
     },
     "execution_count": 51,
     "metadata": {},
     "output_type": "execute_result"
    }
   ],
   "source": [
    "df.fillna(value=values)[df.C.isnull()]"
   ]
  },
  {
   "cell_type": "markdown",
   "metadata": {
    "id": "NHgVwoJ_foXy"
   },
   "source": [
    "`fillna()` 함수를 사용했을 때 기존 데이터프레임은 변경되지 않는데, `inplace`를 `True`로 지정하면 기존의 데이터프레임을 변경할 수 있다. "
   ]
  },
  {
   "cell_type": "code",
   "execution_count": 52,
   "metadata": {
    "colab": {
     "base_uri": "https://localhost:8080/",
     "height": 419
    },
    "executionInfo": {
     "elapsed": 641,
     "status": "ok",
     "timestamp": 1621061654133,
     "user": {
      "displayName": "HJ Kim",
      "photoUrl": "",
      "userId": "16634276932240017990"
     },
     "user_tz": -540
    },
    "id": "TFuCdJDD_3IB",
    "outputId": "5e35d97e-0469-4bcd-dd8b-3ab0fd1fedf5"
   },
   "outputs": [
    {
     "data": {
      "text/html": [
       "<div>\n",
       "<style scoped>\n",
       "    .dataframe tbody tr th:only-of-type {\n",
       "        vertical-align: middle;\n",
       "    }\n",
       "\n",
       "    .dataframe tbody tr th {\n",
       "        vertical-align: top;\n",
       "    }\n",
       "\n",
       "    .dataframe thead th {\n",
       "        text-align: right;\n",
       "    }\n",
       "</style>\n",
       "<table border=\"1\" class=\"dataframe\">\n",
       "  <thead>\n",
       "    <tr style=\"text-align: right;\">\n",
       "      <th></th>\n",
       "      <th>rng</th>\n",
       "      <th>A</th>\n",
       "      <th>B</th>\n",
       "      <th>gp</th>\n",
       "      <th>C</th>\n",
       "    </tr>\n",
       "  </thead>\n",
       "  <tbody>\n",
       "    <tr>\n",
       "      <th>0</th>\n",
       "      <td>2019-01-07</td>\n",
       "      <td>10.0</td>\n",
       "      <td>36.0</td>\n",
       "      <td>gp1</td>\n",
       "      <td>80.0</td>\n",
       "    </tr>\n",
       "    <tr>\n",
       "      <th>1</th>\n",
       "      <td>2019-01-14</td>\n",
       "      <td>10.0</td>\n",
       "      <td>21.0</td>\n",
       "      <td>gp1</td>\n",
       "      <td>18.0</td>\n",
       "    </tr>\n",
       "    <tr>\n",
       "      <th>2</th>\n",
       "      <td>2019-01-21</td>\n",
       "      <td>91.0</td>\n",
       "      <td>107.0</td>\n",
       "      <td>gp4</td>\n",
       "      <td>68.0</td>\n",
       "    </tr>\n",
       "    <tr>\n",
       "      <th>3</th>\n",
       "      <td>2019-01-28</td>\n",
       "      <td>15.0</td>\n",
       "      <td>39.0</td>\n",
       "      <td>gp2</td>\n",
       "      <td>89.0</td>\n",
       "    </tr>\n",
       "    <tr>\n",
       "      <th>4</th>\n",
       "      <td>2019-02-04</td>\n",
       "      <td>15.0</td>\n",
       "      <td>24.0</td>\n",
       "      <td>gp1</td>\n",
       "      <td>12.0</td>\n",
       "    </tr>\n",
       "    <tr>\n",
       "      <th>...</th>\n",
       "      <td>...</td>\n",
       "      <td>...</td>\n",
       "      <td>...</td>\n",
       "      <td>...</td>\n",
       "      <td>...</td>\n",
       "    </tr>\n",
       "    <tr>\n",
       "      <th>116</th>\n",
       "      <td>2021-03-29</td>\n",
       "      <td>58.0</td>\n",
       "      <td>61.0</td>\n",
       "      <td>gp3</td>\n",
       "      <td>22.0</td>\n",
       "    </tr>\n",
       "    <tr>\n",
       "      <th>117</th>\n",
       "      <td>2021-04-05</td>\n",
       "      <td>12.0</td>\n",
       "      <td>34.0</td>\n",
       "      <td>gp1</td>\n",
       "      <td>65.0</td>\n",
       "    </tr>\n",
       "    <tr>\n",
       "      <th>118</th>\n",
       "      <td>2021-04-12</td>\n",
       "      <td>18.0</td>\n",
       "      <td>28.0</td>\n",
       "      <td>gp1</td>\n",
       "      <td>65.0</td>\n",
       "    </tr>\n",
       "    <tr>\n",
       "      <th>119</th>\n",
       "      <td>2021-04-19</td>\n",
       "      <td>11.0</td>\n",
       "      <td>26.0</td>\n",
       "      <td>gp3</td>\n",
       "      <td>84.0</td>\n",
       "    </tr>\n",
       "    <tr>\n",
       "      <th>120</th>\n",
       "      <td>2021-04-26</td>\n",
       "      <td>7.0</td>\n",
       "      <td>36.0</td>\n",
       "      <td>gp3</td>\n",
       "      <td>6.0</td>\n",
       "    </tr>\n",
       "  </tbody>\n",
       "</table>\n",
       "<p>121 rows × 5 columns</p>\n",
       "</div>"
      ],
      "text/plain": [
       "            rng     A      B   gp     C\n",
       "0    2019-01-07  10.0   36.0  gp1  80.0\n",
       "1    2019-01-14  10.0   21.0  gp1  18.0\n",
       "2    2019-01-21  91.0  107.0  gp4  68.0\n",
       "3    2019-01-28  15.0   39.0  gp2  89.0\n",
       "4    2019-02-04  15.0   24.0  gp1  12.0\n",
       "..          ...   ...    ...  ...   ...\n",
       "116  2021-03-29  58.0   61.0  gp3  22.0\n",
       "117  2021-04-05  12.0   34.0  gp1  65.0\n",
       "118  2021-04-12  18.0   28.0  gp1  65.0\n",
       "119  2021-04-19  11.0   26.0  gp3  84.0\n",
       "120  2021-04-26   7.0   36.0  gp3   6.0\n",
       "\n",
       "[121 rows x 5 columns]"
      ]
     },
     "execution_count": 52,
     "metadata": {},
     "output_type": "execute_result"
    }
   ],
   "source": [
    "df.fillna(method='ffill', inplace=True)\n",
    "df"
   ]
  },
  {
   "cell_type": "markdown",
   "metadata": {
    "id": "QVIl28nfvL3Z"
   },
   "source": [
    "## 데이터 시각화2  \n",
    "\n",
    "여기서는 데이터를 시각화하는 두 가지 방법을 살펴보자. \n",
    "\n",
    "* 선 그래프\n",
    "* 산점도 "
   ]
  },
  {
   "cell_type": "markdown",
   "metadata": {
    "id": "TlmqIQiYpELJ"
   },
   "source": [
    "### 선 그래프  \n",
    "\n",
    "선 그래프는 변화 추이를 살펴보는 것을 도와주는 그래프이다.  \n",
    "plt.plot() 를 이용하여 선 그래프를 그릴 수 있다.  \n",
    "\n",
    "예를 들어, 데이터프레임 `df`의 일부 자료로 선 그래프를 그려보자.  \n"
   ]
  },
  {
   "cell_type": "code",
   "execution_count": 53,
   "metadata": {
    "colab": {
     "base_uri": "https://localhost:8080/",
     "height": 303
    },
    "executionInfo": {
     "elapsed": 1001,
     "status": "ok",
     "timestamp": 1621061659397,
     "user": {
      "displayName": "HJ Kim",
      "photoUrl": "",
      "userId": "16634276932240017990"
     },
     "user_tz": -540
    },
    "id": "wrXkzSHEHLJO",
    "outputId": "92128149-553f-4e84-ddc1-d5366602c543"
   },
   "outputs": [
    {
     "data": {
      "image/png": "[encoded data removed]",
      "text/plain": [
       "<Figure size 432x288 with 1 Axes>"
      ]
     },
     "metadata": {
      "filenames": {
       "image/png": "/home/hj/pybook1/_build/jupyter_execute/ch17_111_0.png"
      },
      "needs_background": "light"
     },
     "output_type": "display_data"
    }
   ],
   "source": [
    "import matplotlib.pyplot as plt\n",
    "\n",
    "# x축에 rng열에 있는 연도 일부, y축에 A열에 있는 데이터 일부로 선 그래프 만들기\n",
    "plt.plot(df.rng[10:20], df.A[10:20], linestyle='--', marker = 'o', color = 'red') #선 스타일은 --로, 마커를 o로 두면, 각 점에 o가 표시됨, 선 색은 red\n",
    "plt.plot(df.rng[10:20], df.B[10:20], marker = 'x', color ='green') # 마커를 x로 두면, 각 점에 x가 표시됨, 선 색은 green\n",
    "plt.legend(('A', 'B'), loc=(1.05, 0.5))  #범례는 plt.legend()로 표시할 수 있음, loc를 이용해 위치 조정\n",
    "plt.xticks(range(10), df.rng[10:20], rotation=45)  #xticks()를 이용해 x축의 눈금을 변경. \n",
    "\n",
    "plt.show()"
   ]
  },
  {
   "cell_type": "markdown",
   "metadata": {
    "id": "boJPd-oOpHCa"
   },
   "source": [
    "### 산점도  \n",
    "\n",
    "산점도는 두 변수의 관계를 보여주는 데에 매우 적합한 그래프이다.   \n",
    "\n",
    "산점도를 그리기 전에 피어슨 상관계수(Pearson correlation coefficient)를 구해보자.  \n",
    "피어슨 상관계수는 두 변수 간의 관련성 정도를 나타낸다.  \n",
    "\n",
    "> 두 변수 X와 Y의 상관계수(r) = X와 Y가 함께 변하는 정도와 X와 Y가 따로 변하는 정도 사이의 비율 \n",
    "\n",
    "의미:\n",
    "* r = 1: X와 Y 가 완전히 동일.\n",
    "* r = 0: X와 Y가 아무 연관이 없음.\n",
    "* r = -1: X와 Y가 반대방향으로 완전히 동일.\n",
    "\n",
    "선형관계 설명에도 사용되며, 보통 아래와 같이 말한다. 물론, 예외가 존재한다. \n",
    "* -1.0 <= r < -0.7: 강한 음적 선형관계\n",
    "* -0.7 <= r < -0.3: 뚜렷한 음적 선형관계\n",
    "* -0.3 <= r < -0.1: 약한 음적 선형관계\n",
    "* -0.1 <= r <= 0.1: 거의 무시될 수 있는 관계\n",
    "* 0.1 < r <= +0.3: 약한 양적 선형관계\n",
    "* 0.3 < r <= 0.7: 뚜렷한 양적 선형관계\n",
    "* 0.7 < r <= 1.0: 강한 양적 선형관계\n"
   ]
  },
  {
   "cell_type": "markdown",
   "metadata": {
    "id": "eoTPUqN1obTQ"
   },
   "source": [
    "예를 들어, 데이터프레임 `df`의 `A`열과 `B`열의 피어슨 상관계수는 0.815357로 강한 양적 선형관계가 있을 것으로 보인다. "
   ]
  },
  {
   "cell_type": "code",
   "execution_count": 54,
   "metadata": {
    "colab": {
     "base_uri": "https://localhost:8080/",
     "height": 111
    },
    "executionInfo": {
     "elapsed": 661,
     "status": "ok",
     "timestamp": 1621061664312,
     "user": {
      "displayName": "HJ Kim",
      "photoUrl": "",
      "userId": "16634276932240017990"
     },
     "user_tz": -540
    },
    "id": "fevDh602LRmR",
    "outputId": "eed8a71e-3612-4ca3-e0f7-be2b3f8b061d"
   },
   "outputs": [
    {
     "data": {
      "text/html": [
       "<div>\n",
       "<style scoped>\n",
       "    .dataframe tbody tr th:only-of-type {\n",
       "        vertical-align: middle;\n",
       "    }\n",
       "\n",
       "    .dataframe tbody tr th {\n",
       "        vertical-align: top;\n",
       "    }\n",
       "\n",
       "    .dataframe thead th {\n",
       "        text-align: right;\n",
       "    }\n",
       "</style>\n",
       "<table border=\"1\" class=\"dataframe\">\n",
       "  <thead>\n",
       "    <tr style=\"text-align: right;\">\n",
       "      <th></th>\n",
       "      <th>A</th>\n",
       "      <th>B</th>\n",
       "    </tr>\n",
       "  </thead>\n",
       "  <tbody>\n",
       "    <tr>\n",
       "      <th>A</th>\n",
       "      <td>1.000000</td>\n",
       "      <td>0.815357</td>\n",
       "    </tr>\n",
       "    <tr>\n",
       "      <th>B</th>\n",
       "      <td>0.815357</td>\n",
       "      <td>1.000000</td>\n",
       "    </tr>\n",
       "  </tbody>\n",
       "</table>\n",
       "</div>"
      ],
      "text/plain": [
       "          A         B\n",
       "A  1.000000  0.815357\n",
       "B  0.815357  1.000000"
      ]
     },
     "execution_count": 54,
     "metadata": {},
     "output_type": "execute_result"
    }
   ],
   "source": [
    "corr = df[['A', 'B']].corr(method = 'pearson')\n",
    "corr"
   ]
  },
  {
   "cell_type": "markdown",
   "metadata": {
    "id": "6UZpXx_6rHZX"
   },
   "source": [
    "산점도를 그려서 확인해보자.  \n",
    "산점도는 `plt.scatter()`를 이용해서 그릴 수 있다. "
   ]
  },
  {
   "cell_type": "code",
   "execution_count": 55,
   "metadata": {
    "colab": {
     "base_uri": "https://localhost:8080/",
     "height": 279
    },
    "executionInfo": {
     "elapsed": 680,
     "status": "ok",
     "timestamp": 1621061666678,
     "user": {
      "displayName": "HJ Kim",
      "photoUrl": "",
      "userId": "16634276932240017990"
     },
     "user_tz": -540
    },
    "id": "hZ5HQbMgLX1R",
    "outputId": "2a43af5a-0c22-4390-c077-a60bf6e8ab68"
   },
   "outputs": [
    {
     "data": {
      "image/png": "[encoded data removed]",
      "text/plain": [
       "<Figure size 432x288 with 1 Axes>"
      ]
     },
     "metadata": {
      "filenames": {
       "image/png": "/home/hj/pybook1/_build/jupyter_execute/ch17_116_0.png"
      },
      "needs_background": "light"
     },
     "output_type": "display_data"
    }
   ],
   "source": [
    "plt.scatter(df['A'], df['B'])  #산점도 그리기\n",
    "plt.xlabel('A') #x축 라벨\n",
    "plt.ylabel('B') #y축 라벨\n",
    "\n",
    "plt.show()"
   ]
  },
  {
   "cell_type": "markdown",
   "metadata": {
    "id": "1K4NNpHGrXrd"
   },
   "source": [
    "그룹별로 다르게 색을 지정해보자.  \n",
    "`scatter()` 함수의 `s`를 지정하여 각 점의 크기를 변경할 수 있다.  \n",
    "예를 들어, 아래는 `C` 열에 따라 점의 크기가 달라진다. "
   ]
  },
  {
   "cell_type": "code",
   "execution_count": 56,
   "metadata": {
    "colab": {
     "base_uri": "https://localhost:8080/",
     "height": 279
    },
    "executionInfo": {
     "elapsed": 1031,
     "status": "ok",
     "timestamp": 1621061669370,
     "user": {
      "displayName": "HJ Kim",
      "photoUrl": "",
      "userId": "16634276932240017990"
     },
     "user_tz": -540
    },
    "id": "kiF1CSt4M6He",
    "outputId": "e0636f66-a37e-405a-edf7-a9a622a8f8a9"
   },
   "outputs": [
    {
     "data": {
      "image/png": "[encoded data removed]",
      "text/plain": [
       "<Figure size 432x288 with 1 Axes>"
      ]
     },
     "metadata": {
      "filenames": {
       "image/png": "/home/hj/pybook1/_build/jupyter_execute/ch17_118_0.png"
      },
      "needs_background": "light"
     },
     "output_type": "display_data"
    }
   ],
   "source": [
    "df_gp = df.groupby('gp')\n",
    "\n",
    "for name, group in df_gp :\n",
    "    plt.scatter(group.A, group.B, label = name, s = group.C)\n",
    "\n",
    "plt.xlabel('A')\n",
    "plt.ylabel('B')\n",
    "\n",
    "plt.legend()\n",
    "plt.show()"
   ]
  },
  {
   "cell_type": "markdown",
   "metadata": {
    "id": "acxOexXZpQ9c"
   },
   "source": [
    "### 움직이는 산점도"
   ]
  },
  {
   "cell_type": "markdown",
   "metadata": {
    "id": "5xAl27cZsZ3o"
   },
   "source": [
    "시간에 따라 움직이는 산점도를 그려보자.  \n",
    "데이터프레임 `df`는 아래와 같다. 이 데이터는 시간(Time)이 0일 때라고 가정하자. "
   ]
  },
  {
   "cell_type": "code",
   "execution_count": 57,
   "metadata": {
    "colab": {
     "base_uri": "https://localhost:8080/",
     "height": 419
    },
    "executionInfo": {
     "elapsed": 659,
     "status": "ok",
     "timestamp": 1621061673716,
     "user": {
      "displayName": "HJ Kim",
      "photoUrl": "",
      "userId": "16634276932240017990"
     },
     "user_tz": -540
    },
    "id": "hmdveFdwtYw0",
    "outputId": "c243bcd9-8c66-43f5-b2c0-5c25fb0c8fea"
   },
   "outputs": [
    {
     "data": {
      "text/html": [
       "<div>\n",
       "<style scoped>\n",
       "    .dataframe tbody tr th:only-of-type {\n",
       "        vertical-align: middle;\n",
       "    }\n",
       "\n",
       "    .dataframe tbody tr th {\n",
       "        vertical-align: top;\n",
       "    }\n",
       "\n",
       "    .dataframe thead th {\n",
       "        text-align: right;\n",
       "    }\n",
       "</style>\n",
       "<table border=\"1\" class=\"dataframe\">\n",
       "  <thead>\n",
       "    <tr style=\"text-align: right;\">\n",
       "      <th></th>\n",
       "      <th>rng</th>\n",
       "      <th>A</th>\n",
       "      <th>B</th>\n",
       "      <th>gp</th>\n",
       "      <th>C</th>\n",
       "    </tr>\n",
       "  </thead>\n",
       "  <tbody>\n",
       "    <tr>\n",
       "      <th>0</th>\n",
       "      <td>2019-01-07</td>\n",
       "      <td>10.0</td>\n",
       "      <td>36.0</td>\n",
       "      <td>gp1</td>\n",
       "      <td>80.0</td>\n",
       "    </tr>\n",
       "    <tr>\n",
       "      <th>1</th>\n",
       "      <td>2019-01-14</td>\n",
       "      <td>10.0</td>\n",
       "      <td>21.0</td>\n",
       "      <td>gp1</td>\n",
       "      <td>18.0</td>\n",
       "    </tr>\n",
       "    <tr>\n",
       "      <th>2</th>\n",
       "      <td>2019-01-21</td>\n",
       "      <td>91.0</td>\n",
       "      <td>107.0</td>\n",
       "      <td>gp4</td>\n",
       "      <td>68.0</td>\n",
       "    </tr>\n",
       "    <tr>\n",
       "      <th>3</th>\n",
       "      <td>2019-01-28</td>\n",
       "      <td>15.0</td>\n",
       "      <td>39.0</td>\n",
       "      <td>gp2</td>\n",
       "      <td>89.0</td>\n",
       "    </tr>\n",
       "    <tr>\n",
       "      <th>4</th>\n",
       "      <td>2019-02-04</td>\n",
       "      <td>15.0</td>\n",
       "      <td>24.0</td>\n",
       "      <td>gp1</td>\n",
       "      <td>12.0</td>\n",
       "    </tr>\n",
       "    <tr>\n",
       "      <th>...</th>\n",
       "      <td>...</td>\n",
       "      <td>...</td>\n",
       "      <td>...</td>\n",
       "      <td>...</td>\n",
       "      <td>...</td>\n",
       "    </tr>\n",
       "    <tr>\n",
       "      <th>116</th>\n",
       "      <td>2021-03-29</td>\n",
       "      <td>58.0</td>\n",
       "      <td>61.0</td>\n",
       "      <td>gp3</td>\n",
       "      <td>22.0</td>\n",
       "    </tr>\n",
       "    <tr>\n",
       "      <th>117</th>\n",
       "      <td>2021-04-05</td>\n",
       "      <td>12.0</td>\n",
       "      <td>34.0</td>\n",
       "      <td>gp1</td>\n",
       "      <td>65.0</td>\n",
       "    </tr>\n",
       "    <tr>\n",
       "      <th>118</th>\n",
       "      <td>2021-04-12</td>\n",
       "      <td>18.0</td>\n",
       "      <td>28.0</td>\n",
       "      <td>gp1</td>\n",
       "      <td>65.0</td>\n",
       "    </tr>\n",
       "    <tr>\n",
       "      <th>119</th>\n",
       "      <td>2021-04-19</td>\n",
       "      <td>11.0</td>\n",
       "      <td>26.0</td>\n",
       "      <td>gp3</td>\n",
       "      <td>84.0</td>\n",
       "    </tr>\n",
       "    <tr>\n",
       "      <th>120</th>\n",
       "      <td>2021-04-26</td>\n",
       "      <td>7.0</td>\n",
       "      <td>36.0</td>\n",
       "      <td>gp3</td>\n",
       "      <td>6.0</td>\n",
       "    </tr>\n",
       "  </tbody>\n",
       "</table>\n",
       "<p>121 rows × 5 columns</p>\n",
       "</div>"
      ],
      "text/plain": [
       "            rng     A      B   gp     C\n",
       "0    2019-01-07  10.0   36.0  gp1  80.0\n",
       "1    2019-01-14  10.0   21.0  gp1  18.0\n",
       "2    2019-01-21  91.0  107.0  gp4  68.0\n",
       "3    2019-01-28  15.0   39.0  gp2  89.0\n",
       "4    2019-02-04  15.0   24.0  gp1  12.0\n",
       "..          ...   ...    ...  ...   ...\n",
       "116  2021-03-29  58.0   61.0  gp3  22.0\n",
       "117  2021-04-05  12.0   34.0  gp1  65.0\n",
       "118  2021-04-12  18.0   28.0  gp1  65.0\n",
       "119  2021-04-19  11.0   26.0  gp3  84.0\n",
       "120  2021-04-26   7.0   36.0  gp3   6.0\n",
       "\n",
       "[121 rows x 5 columns]"
      ]
     },
     "execution_count": 57,
     "metadata": {},
     "output_type": "execute_result"
    }
   ],
   "source": [
    "df"
   ]
  },
  {
   "cell_type": "markdown",
   "metadata": {
    "id": "VmI-PbZZslKF"
   },
   "source": [
    "시간이 1, 2, 3, 4일 때는 데이터는 `ani.csv`에 담겨있다.  \n",
    "`df`에서 산점도를 그리는 데 필요한 열만 가져오고, 0이 들어 있는 `Time`열을 추가한 다음, `ani.csv`파일의 데이터와 합하자. "
   ]
  },
  {
   "cell_type": "code",
   "execution_count": 58,
   "metadata": {
    "colab": {
     "base_uri": "https://localhost:8080/",
     "height": 419
    },
    "executionInfo": {
     "elapsed": 624,
     "status": "ok",
     "timestamp": 1621061681254,
     "user": {
      "displayName": "HJ Kim",
      "photoUrl": "",
      "userId": "16634276932240017990"
     },
     "user_tz": -540
    },
    "id": "zTKn-K9WtADA",
    "outputId": "20165cb8-df85-41ea-a559-8c86b3b527c7"
   },
   "outputs": [
    {
     "data": {
      "text/html": [
       "<div>\n",
       "<style scoped>\n",
       "    .dataframe tbody tr th:only-of-type {\n",
       "        vertical-align: middle;\n",
       "    }\n",
       "\n",
       "    .dataframe tbody tr th {\n",
       "        vertical-align: top;\n",
       "    }\n",
       "\n",
       "    .dataframe thead th {\n",
       "        text-align: right;\n",
       "    }\n",
       "</style>\n",
       "<table border=\"1\" class=\"dataframe\">\n",
       "  <thead>\n",
       "    <tr style=\"text-align: right;\">\n",
       "      <th></th>\n",
       "      <th>A</th>\n",
       "      <th>B</th>\n",
       "      <th>C</th>\n",
       "      <th>gp</th>\n",
       "      <th>Time</th>\n",
       "    </tr>\n",
       "  </thead>\n",
       "  <tbody>\n",
       "    <tr>\n",
       "      <th>0</th>\n",
       "      <td>10.0</td>\n",
       "      <td>36.0</td>\n",
       "      <td>80.0</td>\n",
       "      <td>gp1</td>\n",
       "      <td>0</td>\n",
       "    </tr>\n",
       "    <tr>\n",
       "      <th>1</th>\n",
       "      <td>10.0</td>\n",
       "      <td>21.0</td>\n",
       "      <td>18.0</td>\n",
       "      <td>gp1</td>\n",
       "      <td>0</td>\n",
       "    </tr>\n",
       "    <tr>\n",
       "      <th>2</th>\n",
       "      <td>91.0</td>\n",
       "      <td>107.0</td>\n",
       "      <td>68.0</td>\n",
       "      <td>gp4</td>\n",
       "      <td>0</td>\n",
       "    </tr>\n",
       "    <tr>\n",
       "      <th>3</th>\n",
       "      <td>15.0</td>\n",
       "      <td>39.0</td>\n",
       "      <td>89.0</td>\n",
       "      <td>gp2</td>\n",
       "      <td>0</td>\n",
       "    </tr>\n",
       "    <tr>\n",
       "      <th>4</th>\n",
       "      <td>15.0</td>\n",
       "      <td>24.0</td>\n",
       "      <td>12.0</td>\n",
       "      <td>gp1</td>\n",
       "      <td>0</td>\n",
       "    </tr>\n",
       "    <tr>\n",
       "      <th>...</th>\n",
       "      <td>...</td>\n",
       "      <td>...</td>\n",
       "      <td>...</td>\n",
       "      <td>...</td>\n",
       "      <td>...</td>\n",
       "    </tr>\n",
       "    <tr>\n",
       "      <th>479</th>\n",
       "      <td>62.0</td>\n",
       "      <td>64.0</td>\n",
       "      <td>71.0</td>\n",
       "      <td>gp3</td>\n",
       "      <td>4</td>\n",
       "    </tr>\n",
       "    <tr>\n",
       "      <th>480</th>\n",
       "      <td>7.0</td>\n",
       "      <td>35.0</td>\n",
       "      <td>1.0</td>\n",
       "      <td>gp1</td>\n",
       "      <td>4</td>\n",
       "    </tr>\n",
       "    <tr>\n",
       "      <th>481</th>\n",
       "      <td>14.0</td>\n",
       "      <td>40.0</td>\n",
       "      <td>86.0</td>\n",
       "      <td>gp1</td>\n",
       "      <td>4</td>\n",
       "    </tr>\n",
       "    <tr>\n",
       "      <th>482</th>\n",
       "      <td>6.0</td>\n",
       "      <td>23.0</td>\n",
       "      <td>95.0</td>\n",
       "      <td>gp3</td>\n",
       "      <td>4</td>\n",
       "    </tr>\n",
       "    <tr>\n",
       "      <th>483</th>\n",
       "      <td>5.0</td>\n",
       "      <td>38.0</td>\n",
       "      <td>1.0</td>\n",
       "      <td>gp3</td>\n",
       "      <td>4</td>\n",
       "    </tr>\n",
       "  </tbody>\n",
       "</table>\n",
       "<p>605 rows × 5 columns</p>\n",
       "</div>"
      ],
      "text/plain": [
       "        A      B     C   gp  Time\n",
       "0    10.0   36.0  80.0  gp1     0\n",
       "1    10.0   21.0  18.0  gp1     0\n",
       "2    91.0  107.0  68.0  gp4     0\n",
       "3    15.0   39.0  89.0  gp2     0\n",
       "4    15.0   24.0  12.0  gp1     0\n",
       "..    ...    ...   ...  ...   ...\n",
       "479  62.0   64.0  71.0  gp3     4\n",
       "480   7.0   35.0   1.0  gp1     4\n",
       "481  14.0   40.0  86.0  gp1     4\n",
       "482   6.0   23.0  95.0  gp3     4\n",
       "483   5.0   38.0   1.0  gp3     4\n",
       "\n",
       "[605 rows x 5 columns]"
      ]
     },
     "execution_count": 58,
     "metadata": {},
     "output_type": "execute_result"
    }
   ],
   "source": [
    "ani = pd.read_csv('ani.csv')\n",
    "df_temp = df.copy()[['A', 'B', 'C', 'gp']]\n",
    "df_temp['Time'] = 0\n",
    "\n",
    "df_ani = pd.concat([df_temp, ani])\n",
    "df_ani"
   ]
  },
  {
   "cell_type": "markdown",
   "metadata": {
    "id": "QDkXL36Ttjej"
   },
   "source": [
    "움직이는 산점도를 그리기 위해 필요한 모듈을 임포트하자. "
   ]
  },
  {
   "cell_type": "code",
   "execution_count": 59,
   "metadata": {
    "id": "wzeuC6_k0iSp"
   },
   "outputs": [],
   "source": [
    "import matplotlib.animation as animation\n",
    "from IPython.display import HTML"
   ]
  },
  {
   "cell_type": "code",
   "execution_count": 60,
   "metadata": {
    "colab": {
     "base_uri": "https://localhost:8080/",
     "height": 299
    },
    "executionInfo": {
     "elapsed": 1059,
     "status": "ok",
     "timestamp": 1621068809306,
     "user": {
      "displayName": "HJ Kim",
      "photoUrl": "",
      "userId": "16634276932240017990"
     },
     "user_tz": -540
    },
    "id": "SElJPtaqa3ff",
    "outputId": "50b8708e-13a9-4ee2-aa44-2d6bfc56990b"
   },
   "outputs": [
    {
     "data": {
      "text/plain": [
       "<matplotlib.legend.Legend at 0x7f1603c27100>"
      ]
     },
     "execution_count": 60,
     "metadata": {},
     "output_type": "execute_result"
    },
    {
     "data": {
      "image/png": "[encoded data removed]",
      "text/plain": [
       "<Figure size 432x288 with 1 Axes>"
      ]
     },
     "metadata": {
      "filenames": {
       "image/png": "/home/hj/pybook1/_build/jupyter_execute/ch17_126_1.png"
      },
      "needs_background": "light"
     },
     "output_type": "display_data"
    }
   ],
   "source": [
    "fig = plt.figure()   #도화지 준비\n",
    "ax = fig.add_subplot()  \n",
    "title = ax.set_title('scatter plot') # 제목 달기 \n",
    "plt.axis([-10, 150, -10, 200]) # x축과 y축이 표시되는 범위 지정\n",
    "\n",
    "scats = []  \n",
    "df_ani_gp = df_ani.groupby('gp') # gp을 기준으로 그룹화\n",
    "\n",
    "# 정적 그래프를 만들기  \n",
    "for name, group in df_ani_gp : \n",
    "    scat = plt.scatter([], [],label = name)\n",
    "    scats.append(scat)\n",
    "\n",
    "plt.legend()"
   ]
  },
  {
   "cell_type": "markdown",
   "metadata": {},
   "source": [
    "```python\n",
    ">>> def update(i): # update 함수는 각 프레임에서 호출할 함수\n",
    "        for scat, (name, data) in zip(scats, df_ani_gp) :\n",
    "            sample = data[data['Time']==i] \n",
    "            scat.set_offsets(sample[['A', 'B']])  \n",
    "            scat.set_sizes(sample.C) \n",
    "            title.set_text('scatter plot, time={}'.format(i)) \n",
    "        return scats,\n",
    "# fig는 도화지, frames는 그릴 그림의 수, func은 각 프레임에서 호출할 함수\n",
    ">>> anim = animation.FuncAnimation(fig = fig, func = update, frames = 5) \n",
    ">>> HTML(anim.to_html5_video()) #코랩에서 애니메이션을 보기 위해 작성하는 코드\n",
    "```"
   ]
  },
  {
   "cell_type": "markdown",
   "metadata": {
    "id": "kdrf7Fawtsqt"
   },
   "source": [
    "만든 영상을 저장하는 코드는 아래와 같다.   \n",
    "```python\n",
    ">>> anim.save('ani.mp4')\n",
    "```"
   ]
  },
  {
   "cell_type": "markdown",
   "metadata": {
    "id": "tK_OlKiSvoJc"
   },
   "source": [
    "# 판다스2 요약 \n",
    "\n",
    "* 판다스 모듈 임포트 : `import pandas as pd`  \n",
    "* <font color=\"red\">csv 파일</font> 불러오기 : `pd.read_csv(파일이름)` 파일이름에는 경로를 포함하고, 문자열로 지정  \n",
    "  * 특정열을 인덱스로 사용 : `index_col` 지정\n",
    "  > \n",
    "  ```\n",
    "  pd.read_csv('ABdata.csv', index_col = 'rng')\n",
    "  ```\n",
    "* csv 파일로 저장 : `df.to_csv('df.csv', index= False, header=False)` #df의 인덱스와 열이름 함께 저장 안 함.\n",
    "---\n",
    "* 데이터프레임의 <font color=\"red\">기본정보 확인</font> : `df.info()`  \n",
    "* 데이터프레임의 <font color=\"red\">기초통계량</font>(빈도수, 평균, 최대최소 등) 확인 : `df.describe()`  \n",
    "---\n",
    "* <font color=\"red\">유일한 값</font> 확인 : `df.특정열이름.unique()`  \n",
    "* <font color=\"red\">유일한 값과 그 빈도수</font> : `df.특정열이름.value_counts()`\n",
    "* <font color=\"red\">최댓값 또는 최솟값</font> 확인 : `max()` 또는 `min()`  \n",
    "---\n",
    "* 특정열을 기준으로 <font color=\"red\">오름차순 정렬</font> : `df.sort_values('특정열이름')`  \n",
    "* 특정열을 기준으로 <font color=\"red\">내림차순 정렬</font> : `df.sort_values('특정열이름', ascending=False)`\n",
    "---  \n",
    "* <font color=\"red\">그룹별</font>로 나누기 : `df.groupby('기준이될특정열이름')`  \n",
    "\n",
    "> \n",
    "```\n",
    "df_gp = df.groupby('기준이될특정열이름') #특정열기준으로 그룹이 나뉨\n",
    "for gp in df_gp :\n",
    "    print(gp)     #그룹명과 그룹에 해당하는 데이터를 튜플로 묶어서 보여줌\n",
    "\n",
    "print(df_gp.mean()) #그룹별 평균을 보여줌.\n",
    "print(df_gp.median()) #그룹별 중앙값을 보여줌.\n",
    "```\n",
    "---\n",
    "* <font color=\"red\">데이터프레임 합하기</font> : `pd.concat()` 또는 `pd.merge()` 사용\n",
    "  * `pd.concat()` \n",
    "    * 위아래(<font color=\"red\">행방향</font>)으로 합하기 : `pd.concat([df1, df2])`\n",
    "    * <font color=\"red\">인덱스 재배열</font> : `pd.concat([df1, df2], ignore_index = True)`\n",
    "    * 좌우(<font color=\"red\">열방향</font>)으로 합하기 : `pd.concat([df1, df2], axis = 1)`\n",
    "\n",
    "  * `pd.merge()` \n",
    "    * 두 데이터프레임에 <font color=\"red\">공통으로 있는 열을 기준</font>으로 합하기 : `pd.merge(df1, df2)`\n",
    "    * <font color=\"red\">기준으로 할 열을 지정</font> 가능. `left_on`에는 왼쪽 데이터프레임(df1)에서 기준으로 할 열이름, `right_on`에는 오른쪽 데이터프레임(df2)에서 기준으로 할 열이름 \n",
    "    >\n",
    "    ```\n",
    "    pd.merge(df1, df2, left_on = 'key1', right_on = 'key2')\n",
    "    ```\n",
    "\n",
    "---\n",
    "* <font color=\"red\">결측치 처리<font color=\"red\">\n",
    "  * 특정열 <font color=\"red\">삭제</font> : `del 특정열`\n",
    "  * 결측치 다른 값으로 대체 : `df.fillna()`  \n",
    "    * 모두 <font color=\"red\">특정값</font>으로 대체 : `df.fillna(특정값)` #기존의 데이터프레임 변경 안됨 주의.\n",
    "    * 결측치 위치 <font color=\"red\">위쪽으로부터 가장 가까운 값</font> 넣기 : `df.fillna(method ='ffill')\n",
    "    ` \n",
    "    * <font color=\"red\">열마다 다른 값</font>으로 대체. 예를 들어, A열의 결측치는 0, B열의 결측치는 1, C열의 결측치는 2로 변경하고 싶다면, 아래 코드 이용. \n",
    "    > \n",
    "    ```\n",
    "    values = {'A' : 0, 'B' : 1, 'C' : 2}\n",
    "    df.fillna(value=values)\n",
    "    ```\n",
    "  * `fillna()`를 사용해도 기존 데이터프레임 변경 안 됨. 변경하고 싶다면, `inplace`를 `True`로 지정 \n",
    "  >\n",
    "  ```\n",
    "  df.fillna(method='ffill', inplace=True)\n",
    "  ```\n",
    "---\n",
    "* 상관계수. 예를 들어, df의 A열과 B열의 <font color=\"red\">피어슨 상관계수</font>  \n",
    ">\n",
    "```\n",
    "corr = df[['A', 'B']].corr(method = 'pearson')\n",
    "```"
   ]
  },
  {
   "cell_type": "markdown",
   "metadata": {
    "id": "M9L4AMGAy_kk"
   },
   "source": [
    "# 데이터 시각화 요약\n",
    "\n",
    "* 시각화 모듈 임포트 : `import matplotlib.pyplot as plt`\n",
    "---\n",
    "* 그래프 그릴 도화지 준비: `fig = plt.figure()`\n",
    "  * 도화지 사이즈 변경 : `fig = plt.figure(figsize = (10, 8))` #10과 8을 적당한 값으로 변경\n",
    "  * 도화지 분할 : `plt.subplot(1, 2, 1)` #도화지를 1x2크기로 나눈 다음 첫 번째 선택\n",
    "  * 분할된 그래프간 간격 조절 : `plt.subplots_adjust(top = 0.80, wspace = 0.5)` #top은 그래프들 위의 여백, wspace는 그래프 양 옆의 간격\n",
    "\n",
    "* 그래프 저장하기 : plt.savefig('파일이름.png')\n",
    "* 그래프 보이기 : `plt.show()`\n",
    "---\n",
    "* 큰 제목 넣기 : `plt.suptitle('제목')`  \n",
    "  * 제목 크기 변경 : `plt.suptitle('제목', fontsize=20)` #20을 적당한 값으로 변경  \n",
    "* 제목 넣기 : `plt.title('제목')`\n",
    "---\n",
    "* 범례표시 : `plt.legend(median.index, loc = (1, 0.5))` #loc의 숫자 변경하여, 범례 위치 지정     \n",
    "---\n",
    "* <font color ='red'>막대그래프</font> : `plt.bar(항목, 빈도)`\n",
    "  * 막대 색 변경 : `plt.bar(항목, 빈도, color = 색을담은배열)` \n",
    "  >\n",
    "  ```\n",
    "  colors = ['gray', 'gray', 'red']\n",
    "  plt.bar(median.index, median, color = colors) # 이때 항목이 3개여야 함. 항목의 수가 n라면, colors의 크기도 n개를 사용. \n",
    "  ```\n",
    "\n",
    "---\n",
    "* <font color=\"red\">원그래프(파이차트)</font> : `plt.pie(빈도)`  \n",
    "  * 원 조각에 라벨 지정 :  `plt.pie(빈도, labels = 각조각에대한라벨)` ex)  `plt.pie(median, labels = median.index)` \n",
    "  * 백분율 표시 방법 : `autopct` 지정 ex)  `plt.pie(median, labels = median.index, autopct = '%0.1f%%')` #소수점 아래 한 자리까지 표시. %기호도 넣기.\n",
    "  * 특정 조각 돌출 : `explode` 지정\n",
    "  >\n",
    "  ```\n",
    "  explode = [0.0, 0.2, 0.0, 0.0] #총 4조각이 있고, 2번째 조각을 돌출\n",
    "  plt.pie(median, labels = median.index, autopct = '%0.1f%%', explode=explode)\n",
    "  ```\n",
    "  * 도넛 모양 그래프 그리기 : `wedgeprops` 지정\n",
    "  >\n",
    "  ```\n",
    "  explode = [0.0, 0.2, 0.0, 0.0]\n",
    "  wedgeprops={'width': 0.7} #숫자 변경하면 그래프의 두께가 달라짐 \n",
    "  plt.pie(median, labels = median.index, autopct = '%0.1f%%', explode=explode, wedgeprops=wedgeprops)\n",
    "  ```\n",
    "\n",
    "---\n",
    "* <font color=\"red\">선그래프</font> : `plt.plot(x축데이터, y축데이터)` \n",
    "  * 선 스타일 변경 : `linestyle` 지정   ex) `plt.plot(x축데이터, y축데이터, linestyle ='--')`\n",
    "  * 마커 변경 : `marker` 지정 ex) `plt.plot(x축데이터, y축데이터, linestyle ='--', marker = 'o')`\n",
    "  * 선 색 변경 : `color` 지정 ex) `plt.plot(x축데이터, y축데이터, linestyle ='--', marker = 'o', color = 'red')`  \n",
    "* x축 눈금 변경 : `plt.xticks()`이용   \n",
    ">\n",
    "```\n",
    "plt.xticks(range(10), df.rng[10:20], rotation=45) #10개 구간으로 나눠서, df.rng의 10부터 19까지의 값을 넣음. 값을 45도 기울림\n",
    "```\n",
    "---\n",
    "* <font color=\"red\">산점도</font> : `plt.scatter(x축값, y축값)`\n",
    "  * x축 라벨 : `plt.xlabel('라벨')` \n",
    "  * y축 라벨 : `plt.ylabel('라벨')` \n",
    "  * 점의 크기 변경 : `s` 지정 \n",
    "  >\n",
    "  ```\n",
    "   plt.scatter(x축값, y축값, s = 각점의크기배열)\n",
    "  ```"
   ]
  }
 ],
 "metadata": {
  "colab": {
   "authorship_tag": "ABX9TyOzjK9NcV30YmCAmuzO62Wz",
   "collapsed_sections": [],
   "name": "강의노트13(판다스2).ipynb",
   "provenance": []
  },
  "kernelspec": {
   "display_name": "Python 3 (ipykernel)",
   "language": "python",
   "name": "python3"
  },
  "language_info": {
   "codemirror_mode": {
    "name": "ipython",
    "version": 3
   },
   "file_extension": ".py",
   "mimetype": "text/x-python",
   "name": "python",
   "nbconvert_exporter": "python",
   "pygments_lexer": "ipython3",
   "version": "3.8.10"
  }
 },
 "nbformat": 4,
 "nbformat_minor": 4
}