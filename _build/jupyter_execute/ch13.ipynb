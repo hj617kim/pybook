{
 "cells": [
  {
   "cell_type": "markdown",
   "metadata": {
    "id": "UVT2d7UfJwck"
   },
   "source": [
    "# 딕셔너리"
   ]
  },
  {
   "cell_type": "markdown",
   "metadata": {
    "id": "NyfIU-qOJ_Sp"
   },
   "source": [
    "파이썬에 내장되어 있는 컬렉션 자료형 중 딕셔너리에 대해서 알아보자.   \n",
    "\n",
    "**딕셔너리**(dictionary)는 키(keys)와 값(values)로 이루어진 쌍(pairs)들의 집합으로, 사전에서 단어의 뜻을 확인하는 방식과 유사하게 활용할 수 있는 자료구조를 가지고 있다. 예를 들어, 영어 사전에서 'world'란 단어의 뜻을 물으면 '세계'라는 뜻을 알려주는데, 이때 'world'는 키(key)에 해당하고, '세계'는 값(value)에 해당한다.  \n",
    "\n",
    "딕셔너리의 형식은 아래와 같다. \n",
    "> { key1 : value1, key2 : value2, key3 : value3, ... }  \n",
    "\n",
    "`key : value` 형태로 이루어진 여러 개의 쌍들이 중괄호(`{}`)로 묶여있고, 각 쌍들은 콤마(`,`)로 구분한다.   \n",
    "\n",
    "예를 들어, key가 `'hello'`, `'world'`이고, 각각의 key에 해당하는 value가 `'안녕'`, `'세계'`인 딕셔너리 `dic`를 만드는 코드는 아래와 같다. \n",
    "\n"
   ]
  },
  {
   "cell_type": "code",
   "execution_count": 1,
   "metadata": {
    "colab": {
     "base_uri": "https://localhost:8080/"
    },
    "executionInfo": {
     "elapsed": 1092,
     "status": "ok",
     "timestamp": 1617688936887,
     "user": {
      "displayName": "HJ Kim",
      "photoUrl": "",
      "userId": "16634276932240017990"
     },
     "user_tz": -540
    },
    "id": "aeQT6GX5Uhn6",
    "outputId": "25e851cb-adce-48ad-9093-d24ee8c81ab2"
   },
   "outputs": [
    {
     "data": {
      "text/plain": [
       "{'hello': '안녕', 'world': '세계'}"
      ]
     },
     "execution_count": 1,
     "metadata": {},
     "output_type": "execute_result"
    }
   ],
   "source": [
    "dic = {'hello' : '안녕', 'world' : '세계'}\n",
    "dic"
   ]
  },
  {
   "cell_type": "markdown",
   "metadata": {
    "id": "O_iYc5_jSjAV"
   },
   "source": [
    "참고)\n",
    "* key로는 불변자료형 사용. ex) 정수, 문자열 등등\n",
    "* value로는 불변자료형과 가변자료형 모두 사용 가능. ex) 정수, 문자열, 리스트 등등"
   ]
  },
  {
   "cell_type": "markdown",
   "metadata": {
    "id": "lPgIxB8SZoxA"
   },
   "source": [
    ":::{admonition} 주의   \n",
    ":class: caution  \n",
    "리스트는 key로 사용할 수 없다. 리스트는 가변자료형이다.\n",
    "\n",
    "```python\n",
    ">>> {[1, 2] : '안녕'}\n",
    "---------------------------------------------------------------------------\n",
    "TypeError                                 Traceback (most recent call last)\n",
    "<ipython-input-74-f085c9caea6b> in <module>()\n",
    "----> 1 {[1, 2] : '안녕'}\n",
    "\n",
    "TypeError: unhashable type: 'list'\n",
    "```\n",
    "::: "
   ]
  },
  {
   "cell_type": "markdown",
   "metadata": {
    "id": "ZA1-AXfaSjFm"
   },
   "source": [
    "키와 값으로 이루어진 쌍을 딕셔너리의 항목(item)이라 부른다.  \n",
    "딕셔너리에서 항목의 순서는 중요하지 않다. 그보다 어떤 key가 사용되었는지가 중요하다. "
   ]
  },
  {
   "cell_type": "markdown",
   "metadata": {
    "id": "d2IQXBPEekXy"
   },
   "source": [
    "## 인덱싱 \n",
    "\n",
    "딕셔너리에서 인덱싱은 키를 이용한다.  \n",
    "예를 들어, `'hello'`에 대응하는 value을 확인하고자 하면 다음과 같이 대괄호를 사용하는 인덱싱을 이용한다. \n"
   ]
  },
  {
   "cell_type": "code",
   "execution_count": 2,
   "metadata": {
    "colab": {
     "base_uri": "https://localhost:8080/"
    },
    "executionInfo": {
     "elapsed": 1038,
     "status": "ok",
     "timestamp": 1617688939412,
     "user": {
      "displayName": "HJ Kim",
      "photoUrl": "",
      "userId": "16634276932240017990"
     },
     "user_tz": -540
    },
    "id": "yoX-HwJndLmD",
    "outputId": "14bc9543-2e83-4c5a-f258-99b3d35d5c67"
   },
   "outputs": [
    {
     "name": "stdout",
     "output_type": "stream",
     "text": [
      "안녕\n"
     ]
    }
   ],
   "source": [
    "print(dic['hello'])"
   ]
  },
  {
   "cell_type": "markdown",
   "metadata": {
    "id": "N6mIPzP5ghgY"
   },
   "source": [
    "`world`에 대응하는 value는 아래와 같이 확인할 수 있다."
   ]
  },
  {
   "cell_type": "code",
   "execution_count": 3,
   "metadata": {
    "colab": {
     "base_uri": "https://localhost:8080/"
    },
    "executionInfo": {
     "elapsed": 1393,
     "status": "ok",
     "timestamp": 1617688940567,
     "user": {
      "displayName": "HJ Kim",
      "photoUrl": "",
      "userId": "16634276932240017990"
     },
     "user_tz": -540
    },
    "id": "WilJd_K2gXOc",
    "outputId": "f00bd071-dc15-446c-8c13-881bfa62563e"
   },
   "outputs": [
    {
     "name": "stdout",
     "output_type": "stream",
     "text": [
      "세계\n"
     ]
    }
   ],
   "source": [
    "print(dic['world'])"
   ]
  },
  {
   "cell_type": "markdown",
   "metadata": {
    "id": "RrHedO32gncU"
   },
   "source": [
    "만약, 존재하지 않는 key로 값을 추출하려고 하면, 에러가 발생한다. \n",
    "\n",
    "```python\n",
    ">>> dic['one']\n",
    "---------------------------------------------------------------------------\n",
    "KeyError                                  Traceback (most recent call last)\n",
    "<ipython-input-77-0af10b7cadba> in <module>()\n",
    "----> 1 dic['one']\n",
    "\n",
    "KeyError: 'one'\n",
    "```"
   ]
  },
  {
   "cell_type": "markdown",
   "metadata": {
    "id": "97EoMDzjaOgS"
   },
   "source": [
    "**빈 딕셔너리**  \n",
    "빈 딕셔너리는 아무것도 포함하지 않는 딕셔너리를 의미한다. 빈 딕셔너리를 생성하려면 `dict` 함수나 중괄호(`{}`)를 사용하면 된다. "
   ]
  },
  {
   "cell_type": "code",
   "execution_count": 4,
   "metadata": {
    "colab": {
     "base_uri": "https://localhost:8080/"
    },
    "executionInfo": {
     "elapsed": 623,
     "status": "ok",
     "timestamp": 1617688941383,
     "user": {
      "displayName": "HJ Kim",
      "photoUrl": "",
      "userId": "16634276932240017990"
     },
     "user_tz": -540
    },
    "id": "i9ne53Hsa1Qr",
    "outputId": "3ae06e76-1a5a-4ca4-99eb-ee84a2743218"
   },
   "outputs": [
    {
     "data": {
      "text/plain": [
       "{}"
      ]
     },
     "execution_count": 4,
     "metadata": {},
     "output_type": "execute_result"
    }
   ],
   "source": [
    "dic1 = dict()\n",
    "dic1"
   ]
  },
  {
   "cell_type": "code",
   "execution_count": 5,
   "metadata": {
    "colab": {
     "base_uri": "https://localhost:8080/"
    },
    "executionInfo": {
     "elapsed": 619,
     "status": "ok",
     "timestamp": 1617688941813,
     "user": {
      "displayName": "HJ Kim",
      "photoUrl": "",
      "userId": "16634276932240017990"
     },
     "user_tz": -540
    },
    "id": "iqSex5t7a4_T",
    "outputId": "9c5d6b81-f464-48bb-98c7-ef034231b683"
   },
   "outputs": [
    {
     "data": {
      "text/plain": [
       "{}"
      ]
     },
     "execution_count": 5,
     "metadata": {},
     "output_type": "execute_result"
    }
   ],
   "source": [
    "dic2 = {}\n",
    "dic2"
   ]
  },
  {
   "cell_type": "markdown",
   "metadata": {
    "id": "VfqfrCIvbE3y"
   },
   "source": [
    "### 항목(item) 추가  \n",
    "\n",
    "딕셔너리에 item을 추가하려면 대괄호를 사용한다.   \n",
    "> 딕셔너리변수명[key] = value\n",
    "\n",
    "예를 들어, 딕셔너리 `dic1`에 key와 value가 각각 `1`과 `'a'`인 항목을 추가하는 코드는 아래와 같다."
   ]
  },
  {
   "cell_type": "code",
   "execution_count": 6,
   "metadata": {
    "colab": {
     "base_uri": "https://localhost:8080/"
    },
    "executionInfo": {
     "elapsed": 912,
     "status": "ok",
     "timestamp": 1617688943096,
     "user": {
      "displayName": "HJ Kim",
      "photoUrl": "",
      "userId": "16634276932240017990"
     },
     "user_tz": -540
    },
    "id": "AG-DoWWQVB7M",
    "outputId": "d6fa7587-47c3-4fd8-96ab-ed00fc16b8b1"
   },
   "outputs": [
    {
     "data": {
      "text/plain": [
       "{1: 'a'}"
      ]
     },
     "execution_count": 6,
     "metadata": {},
     "output_type": "execute_result"
    }
   ],
   "source": [
    "dic1[1] = 'a'\n",
    "dic1"
   ]
  },
  {
   "cell_type": "markdown",
   "metadata": {
    "id": "v5vyxQvZdbN3"
   },
   "source": [
    "아래의 항목을 더 추가해보자.  \n",
    "\n",
    "|key|value|\n",
    "|:---:|:-----:|\n",
    "| 2 | 'b' |\n",
    "| 3 | [1, 2, 3] |\n",
    "| 'one' | '일' |"
   ]
  },
  {
   "cell_type": "code",
   "execution_count": 7,
   "metadata": {
    "colab": {
     "base_uri": "https://localhost:8080/"
    },
    "executionInfo": {
     "elapsed": 685,
     "status": "ok",
     "timestamp": 1617688943979,
     "user": {
      "displayName": "HJ Kim",
      "photoUrl": "",
      "userId": "16634276932240017990"
     },
     "user_tz": -540
    },
    "id": "6j2VauG9cMdu",
    "outputId": "23f837b9-b760-4f84-8cbb-949117566be0"
   },
   "outputs": [
    {
     "data": {
      "text/plain": [
       "{1: 'a', 2: 'b', 3: [1, 2, 3], 'one': '일'}"
      ]
     },
     "execution_count": 7,
     "metadata": {},
     "output_type": "execute_result"
    }
   ],
   "source": [
    "dic1[2] = 'b'\n",
    "dic1[3] = [1, 2, 3]\n",
    "dic1['one'] = '일'\n",
    "\n",
    "dic1"
   ]
  },
  {
   "cell_type": "markdown",
   "metadata": {
    "id": "tYuwZOkGfMCh"
   },
   "source": [
    "이미 사용하고 있는 key를 가진 항목을 추가하면, 그 key로 저장된 이전 value는 사라진다. "
   ]
  },
  {
   "cell_type": "code",
   "execution_count": 8,
   "metadata": {
    "colab": {
     "base_uri": "https://localhost:8080/"
    },
    "executionInfo": {
     "elapsed": 523,
     "status": "ok",
     "timestamp": 1617688945668,
     "user": {
      "displayName": "HJ Kim",
      "photoUrl": "",
      "userId": "16634276932240017990"
     },
     "user_tz": -540
    },
    "id": "RpDf8ttzg9GC",
    "outputId": "8ca62645-251f-4bdd-d074-03ce87ed0880"
   },
   "outputs": [
    {
     "name": "stdout",
     "output_type": "stream",
     "text": [
      "이전 dic1 {1: 'a', 2: 'b', 3: [1, 2, 3], 'one': '일'}\n",
      "이후 dic1 {1: 'a', 2: 'abc', 3: [1, 2, 3], 'one': '일'}\n"
     ]
    }
   ],
   "source": [
    "print('이전 dic1', dic1)\n",
    "dic1[2] = 'abc'\n",
    "print('이후 dic1', dic1)"
   ]
  },
  {
   "cell_type": "markdown",
   "metadata": {
    "id": "lwXlLqsOmVpm"
   },
   "source": [
    "### 항목(item) 삭제  \n",
    "\n",
    "항목은 `del` 함수를 이용해서 삭제할 수 있다."
   ]
  },
  {
   "cell_type": "code",
   "execution_count": 9,
   "metadata": {
    "colab": {
     "base_uri": "https://localhost:8080/"
    },
    "executionInfo": {
     "elapsed": 914,
     "status": "ok",
     "timestamp": 1617688947112,
     "user": {
      "displayName": "HJ Kim",
      "photoUrl": "",
      "userId": "16634276932240017990"
     },
     "user_tz": -540
    },
    "id": "_2OlkxJugvzq",
    "outputId": "2cdf2599-b4bb-4560-cf30-b0405b144351"
   },
   "outputs": [
    {
     "name": "stdout",
     "output_type": "stream",
     "text": [
      "{1: 'a', 2: 'abc', 3: [1, 2, 3], 'one': '일'}\n"
     ]
    }
   ],
   "source": [
    "print(dic1)"
   ]
  },
  {
   "cell_type": "code",
   "execution_count": 10,
   "metadata": {
    "id": "lySfjmPimm7R"
   },
   "outputs": [],
   "source": [
    "del dic1['one']"
   ]
  },
  {
   "cell_type": "code",
   "execution_count": 11,
   "metadata": {
    "colab": {
     "base_uri": "https://localhost:8080/"
    },
    "executionInfo": {
     "elapsed": 618,
     "status": "ok",
     "timestamp": 1617688947839,
     "user": {
      "displayName": "HJ Kim",
      "photoUrl": "",
      "userId": "16634276932240017990"
     },
     "user_tz": -540
    },
    "id": "lPM3LUC4mpr7",
    "outputId": "3f7d3b5d-7a0d-46f8-a95b-e8ee36da0fad"
   },
   "outputs": [
    {
     "name": "stdout",
     "output_type": "stream",
     "text": [
      "{1: 'a', 2: 'abc', 3: [1, 2, 3]}\n"
     ]
    }
   ],
   "source": [
    "print(dic1)"
   ]
  },
  {
   "cell_type": "markdown",
   "metadata": {
    "id": "kNcVhzAGmslt"
   },
   "source": [
    "## 딕셔너리의 길이(len)\n",
    "\n",
    "딕셔너리의 길이는 `len()` 함수를 이용해서 확인할 수 있다. "
   ]
  },
  {
   "cell_type": "code",
   "execution_count": 12,
   "metadata": {
    "colab": {
     "base_uri": "https://localhost:8080/"
    },
    "executionInfo": {
     "elapsed": 956,
     "status": "ok",
     "timestamp": 1617688954990,
     "user": {
      "displayName": "HJ Kim",
      "photoUrl": "",
      "userId": "16634276932240017990"
     },
     "user_tz": -540
    },
    "id": "LVSM7zvSmq9p",
    "outputId": "5f9f1be3-9081-4506-f71f-fbe10d2c534b"
   },
   "outputs": [
    {
     "data": {
      "text/plain": [
       "1"
      ]
     },
     "execution_count": 12,
     "metadata": {},
     "output_type": "execute_result"
    }
   ],
   "source": [
    "len({1:2})"
   ]
  },
  {
   "cell_type": "code",
   "execution_count": 13,
   "metadata": {
    "colab": {
     "base_uri": "https://localhost:8080/"
    },
    "executionInfo": {
     "elapsed": 873,
     "status": "ok",
     "timestamp": 1617688956116,
     "user": {
      "displayName": "HJ Kim",
      "photoUrl": "",
      "userId": "16634276932240017990"
     },
     "user_tz": -540
    },
    "id": "-kfogCC0nHoK",
    "outputId": "fb26959f-53d0-40c0-e559-79b713cac311"
   },
   "outputs": [
    {
     "name": "stdout",
     "output_type": "stream",
     "text": [
      "{'a': 1, 'b': 2, 'c': 3}\n",
      "3\n"
     ]
    }
   ],
   "source": [
    "dic3 = {'a' : 1, 'b' : 2, 'c' : 3}\n",
    "print(dic3)\n",
    "print(len(dic3))"
   ]
  },
  {
   "cell_type": "markdown",
   "metadata": {
    "id": "skqioNeunU44"
   },
   "source": [
    "## `in` 연산자\n",
    "\n",
    "특정 key가 사전에 사용되었는지 여부를 확인하기 위해 `in` 연산자를 사용할 수 있다.  \n",
    "\n",
    "주의) key로 사용되었는가 여부만 판단한다."
   ]
  },
  {
   "cell_type": "code",
   "execution_count": 14,
   "metadata": {
    "colab": {
     "base_uri": "https://localhost:8080/"
    },
    "executionInfo": {
     "elapsed": 1124,
     "status": "ok",
     "timestamp": 1617688957443,
     "user": {
      "displayName": "HJ Kim",
      "photoUrl": "",
      "userId": "16634276932240017990"
     },
     "user_tz": -540
    },
    "id": "Qu5dEffYnSGo",
    "outputId": "f328ffd1-8aaf-4d54-858b-e78ed48ef881"
   },
   "outputs": [
    {
     "data": {
      "text/plain": [
       "True"
      ]
     },
     "execution_count": 14,
     "metadata": {},
     "output_type": "execute_result"
    }
   ],
   "source": [
    "'b' in dic3"
   ]
  },
  {
   "cell_type": "code",
   "execution_count": 15,
   "metadata": {
    "colab": {
     "base_uri": "https://localhost:8080/"
    },
    "executionInfo": {
     "elapsed": 803,
     "status": "ok",
     "timestamp": 1617688957792,
     "user": {
      "displayName": "HJ Kim",
      "photoUrl": "",
      "userId": "16634276932240017990"
     },
     "user_tz": -540
    },
    "id": "KNf7P6UMnuqd",
    "outputId": "2947bd14-0027-48ea-bf87-6e2cf1870f3a"
   },
   "outputs": [
    {
     "data": {
      "text/plain": [
       "False"
      ]
     },
     "execution_count": 15,
     "metadata": {},
     "output_type": "execute_result"
    }
   ],
   "source": [
    "'k' in dic3"
   ]
  },
  {
   "cell_type": "markdown",
   "metadata": {
    "id": "fqHdgBZ9v8nh"
   },
   "source": [
    "## 딕셔너리 관련 메소드"
   ]
  },
  {
   "cell_type": "markdown",
   "metadata": {
    "id": "Rr5fHMQtn6fW"
   },
   "source": [
    "* `keys` 메소드는 사전에 사용된 key들을 모두 모아서 리스트와 비슷한 자료형을 만들어서 리턴한다.  \n",
    "주의) 리스트와 다르지만 매우 비슷하다. 단, `append()`, `remove()` 등과 같은 리스트 메소드를 사용할 수 없다. "
   ]
  },
  {
   "cell_type": "code",
   "execution_count": 16,
   "metadata": {
    "colab": {
     "base_uri": "https://localhost:8080/"
    },
    "executionInfo": {
     "elapsed": 1396,
     "status": "ok",
     "timestamp": 1617688959910,
     "user": {
      "displayName": "HJ Kim",
      "photoUrl": "",
      "userId": "16634276932240017990"
     },
     "user_tz": -540
    },
    "id": "wEZY8uiMnwt4",
    "outputId": "d5b2d752-6f9a-4999-d604-9946bffa7ccb"
   },
   "outputs": [
    {
     "name": "stdout",
     "output_type": "stream",
     "text": [
      "dict_keys(['a', 'b', 'c'])\n"
     ]
    }
   ],
   "source": [
    "dic3_keys = dic3.keys()\n",
    "print(dic3_keys)"
   ]
  },
  {
   "cell_type": "markdown",
   "metadata": {
    "id": "lJblc4XloWc9"
   },
   "source": [
    "아래 두 코드는 동일한 일을 수행한다. "
   ]
  },
  {
   "cell_type": "code",
   "execution_count": 17,
   "metadata": {
    "colab": {
     "base_uri": "https://localhost:8080/"
    },
    "executionInfo": {
     "elapsed": 972,
     "status": "ok",
     "timestamp": 1617688960516,
     "user": {
      "displayName": "HJ Kim",
      "photoUrl": "",
      "userId": "16634276932240017990"
     },
     "user_tz": -540
    },
    "id": "o230QkoToVgq",
    "outputId": "0adbef0d-440f-4dd5-83c0-3a308e4382e2"
   },
   "outputs": [
    {
     "data": {
      "text/plain": [
       "True"
      ]
     },
     "execution_count": 17,
     "metadata": {},
     "output_type": "execute_result"
    }
   ],
   "source": [
    "'a' in dic3 "
   ]
  },
  {
   "cell_type": "code",
   "execution_count": 18,
   "metadata": {
    "colab": {
     "base_uri": "https://localhost:8080/"
    },
    "executionInfo": {
     "elapsed": 996,
     "status": "ok",
     "timestamp": 1617688960983,
     "user": {
      "displayName": "HJ Kim",
      "photoUrl": "",
      "userId": "16634276932240017990"
     },
     "user_tz": -540
    },
    "id": "apQ-92BWocc3",
    "outputId": "5e548bad-f76a-4f36-946a-1a81d38a2a70"
   },
   "outputs": [
    {
     "data": {
      "text/plain": [
       "True"
      ]
     },
     "execution_count": 18,
     "metadata": {},
     "output_type": "execute_result"
    }
   ],
   "source": [
    "'a' in dic3.keys()"
   ]
  },
  {
   "cell_type": "markdown",
   "metadata": {
    "id": "1XhfAbLnoh-z"
   },
   "source": [
    "* `values` 메소드는 사전에 사용된 value들을 모두 모아서 리스트와 비슷한 자료형을 만들어서 리턴한다.  \n",
    "주의) 리스트와는 다르지만 매우 비슷하다.  단, `append()`, `remove()` 등과 같은 리스트 메소드를 사용할 수 없다.  "
   ]
  },
  {
   "cell_type": "code",
   "execution_count": 19,
   "metadata": {
    "colab": {
     "base_uri": "https://localhost:8080/"
    },
    "executionInfo": {
     "elapsed": 1142,
     "status": "ok",
     "timestamp": 1617688962026,
     "user": {
      "displayName": "HJ Kim",
      "photoUrl": "",
      "userId": "16634276932240017990"
     },
     "user_tz": -540
    },
    "id": "BNcfm7Vrof5n",
    "outputId": "c56c3804-317d-4962-8263-c243df9b884c"
   },
   "outputs": [
    {
     "name": "stdout",
     "output_type": "stream",
     "text": [
      "dict_values([1, 2, 3])\n"
     ]
    }
   ],
   "source": [
    "dic3_values = dic3.values()\n",
    "print(dic3_values)"
   ]
  },
  {
   "cell_type": "markdown",
   "metadata": {
    "id": "9y4pJRmlo0k9"
   },
   "source": [
    "value로 사용되었는가 여부를 확인하려면, `values` 메소드를 활용하면 된다. "
   ]
  },
  {
   "cell_type": "code",
   "execution_count": 20,
   "metadata": {
    "colab": {
     "base_uri": "https://localhost:8080/"
    },
    "executionInfo": {
     "elapsed": 796,
     "status": "ok",
     "timestamp": 1617688962566,
     "user": {
      "displayName": "HJ Kim",
      "photoUrl": "",
      "userId": "16634276932240017990"
     },
     "user_tz": -540
    },
    "id": "_IyOXaELozPb",
    "outputId": "62b009e7-4cbd-4615-fd64-43e586e55d7a"
   },
   "outputs": [
    {
     "data": {
      "text/plain": [
       "True"
      ]
     },
     "execution_count": 20,
     "metadata": {},
     "output_type": "execute_result"
    }
   ],
   "source": [
    "3 in dic3.values()"
   ]
  },
  {
   "cell_type": "code",
   "execution_count": 21,
   "metadata": {
    "colab": {
     "base_uri": "https://localhost:8080/"
    },
    "executionInfo": {
     "elapsed": 816,
     "status": "ok",
     "timestamp": 1617688962975,
     "user": {
      "displayName": "HJ Kim",
      "photoUrl": "",
      "userId": "16634276932240017990"
     },
     "user_tz": -540
    },
    "id": "_HPK7DU2pAJo",
    "outputId": "c8c180c3-441e-49c1-b7d0-a93d2b859f7f"
   },
   "outputs": [
    {
     "data": {
      "text/plain": [
       "False"
      ]
     },
     "execution_count": 21,
     "metadata": {},
     "output_type": "execute_result"
    }
   ],
   "source": [
    "'삼' in dic3.values()"
   ]
  },
  {
   "cell_type": "markdown",
   "metadata": {
    "id": "PcXNafcFp2Ti"
   },
   "source": [
    "* `items()` 메소드는 사전에 사용된 key와 value의 쌍을 튜플로 묶어 리스트와 비슷한 자료형으로 만들어서 리턴한다. \n",
    "\n",
    "참고) 튜플은 뒤에서 다룬다. "
   ]
  },
  {
   "cell_type": "code",
   "execution_count": 22,
   "metadata": {
    "colab": {
     "base_uri": "https://localhost:8080/"
    },
    "executionInfo": {
     "elapsed": 1115,
     "status": "ok",
     "timestamp": 1617688964145,
     "user": {
      "displayName": "HJ Kim",
      "photoUrl": "",
      "userId": "16634276932240017990"
     },
     "user_tz": -540
    },
    "id": "iObU5JS9pT6I",
    "outputId": "4f6a6ddb-df3a-48ef-bbf0-58ee466c2179"
   },
   "outputs": [
    {
     "data": {
      "text/plain": [
       "dict_items([('a', 1), ('b', 2), ('c', 3)])"
      ]
     },
     "execution_count": 22,
     "metadata": {},
     "output_type": "execute_result"
    }
   ],
   "source": [
    "dic3_items = dic3.items()\n",
    "dic3_items"
   ]
  },
  {
   "cell_type": "markdown",
   "metadata": {
    "id": "4x-BwSlIqwnS"
   },
   "source": [
    "* `get()` 메소드는 key에 대응되는 value를 리턴한다. "
   ]
  },
  {
   "cell_type": "code",
   "execution_count": 23,
   "metadata": {
    "colab": {
     "base_uri": "https://localhost:8080/"
    },
    "executionInfo": {
     "elapsed": 620,
     "status": "ok",
     "timestamp": 1617688964518,
     "user": {
      "displayName": "HJ Kim",
      "photoUrl": "",
      "userId": "16634276932240017990"
     },
     "user_tz": -540
    },
    "id": "f9LX7RfsqjVL",
    "outputId": "9441aad9-91ab-485a-b6bd-2d817805e8c6"
   },
   "outputs": [
    {
     "data": {
      "text/plain": [
       "{'a': 1, 'b': 2, 'c': 3}"
      ]
     },
     "execution_count": 23,
     "metadata": {},
     "output_type": "execute_result"
    }
   ],
   "source": [
    "dic3"
   ]
  },
  {
   "cell_type": "code",
   "execution_count": 24,
   "metadata": {
    "colab": {
     "base_uri": "https://localhost:8080/"
    },
    "executionInfo": {
     "elapsed": 585,
     "status": "ok",
     "timestamp": 1617688964983,
     "user": {
      "displayName": "HJ Kim",
      "photoUrl": "",
      "userId": "16634276932240017990"
     },
     "user_tz": -540
    },
    "id": "BZ68JHXYsi7D",
    "outputId": "15b2b955-8947-4958-d77b-93b10ba93db1"
   },
   "outputs": [
    {
     "data": {
      "text/plain": [
       "3"
      ]
     },
     "execution_count": 24,
     "metadata": {},
     "output_type": "execute_result"
    }
   ],
   "source": [
    "dic3.get('c')"
   ]
  },
  {
   "cell_type": "markdown",
   "metadata": {
    "id": "JlRfCQETsnS3"
   },
   "source": [
    "인덱싱과 달리 `get()`메소드는 존재하지 않는 key를 사용했을 때 `None`을 리턴한다.\n",
    "\n",
    "```python\n",
    ">>> print(dic3['h'])\n",
    "---------------------------------------------------------------------------\n",
    "KeyError                                  Traceback (most recent call last)\n",
    "<ipython-input-99-6145c62fb0a4> in <module>()\n",
    "----> 1 print(dic3['h'])\n",
    "\n",
    "KeyError: 'h'\n",
    "```"
   ]
  },
  {
   "cell_type": "code",
   "execution_count": 25,
   "metadata": {
    "colab": {
     "base_uri": "https://localhost:8080/"
    },
    "executionInfo": {
     "elapsed": 1093,
     "status": "ok",
     "timestamp": 1617688966817,
     "user": {
      "displayName": "HJ Kim",
      "photoUrl": "",
      "userId": "16634276932240017990"
     },
     "user_tz": -540
    },
    "id": "weZiw5YXsls4",
    "outputId": "5edc125c-fcc6-409d-f619-e7cf10a8733b"
   },
   "outputs": [
    {
     "name": "stdout",
     "output_type": "stream",
     "text": [
      "None\n"
     ]
    }
   ],
   "source": [
    "print(dic3.get('h'))"
   ]
  },
  {
   "cell_type": "markdown",
   "metadata": {
    "id": "hfR1sXjrxAiq"
   },
   "source": [
    "* `update()` 메소드는 하나의 딕셔너리를 다른 자료형과 합칠 수 있다. "
   ]
  },
  {
   "cell_type": "code",
   "execution_count": 26,
   "metadata": {
    "colab": {
     "base_uri": "https://localhost:8080/"
    },
    "executionInfo": {
     "elapsed": 593,
     "status": "ok",
     "timestamp": 1617688967299,
     "user": {
      "displayName": "HJ Kim",
      "photoUrl": "",
      "userId": "16634276932240017990"
     },
     "user_tz": -540
    },
    "id": "ix1ycBsoxT80",
    "outputId": "8dc662d3-ee15-4793-bd62-3a0e315f27f4"
   },
   "outputs": [
    {
     "name": "stdout",
     "output_type": "stream",
     "text": [
      "dic1 {1: 'a', 2: 'abc', 3: [1, 2, 3]}\n",
      "dic3 {'a': 1, 'b': 2, 'c': 3}\n"
     ]
    }
   ],
   "source": [
    "print(\"dic1\", dic1)\n",
    "print(\"dic3\", dic3)"
   ]
  },
  {
   "cell_type": "code",
   "execution_count": 27,
   "metadata": {
    "colab": {
     "base_uri": "https://localhost:8080/"
    },
    "executionInfo": {
     "elapsed": 1060,
     "status": "ok",
     "timestamp": 1617688968399,
     "user": {
      "displayName": "HJ Kim",
      "photoUrl": "",
      "userId": "16634276932240017990"
     },
     "user_tz": -540
    },
    "id": "eejEJfqUxbDB",
    "outputId": "16370b61-648c-4b2f-b697-584338fe4d48"
   },
   "outputs": [
    {
     "data": {
      "text/plain": [
       "{'a': 1, 'b': 2, 'c': 3, 1: 'a', 2: 'abc', 3: [1, 2, 3]}"
      ]
     },
     "execution_count": 27,
     "metadata": {},
     "output_type": "execute_result"
    }
   ],
   "source": [
    "dic3.update(dic1)\n",
    "dic3"
   ]
  },
  {
   "cell_type": "markdown",
   "metadata": {
    "id": "-_bqDUGKwblS"
   },
   "source": [
    "* `pop()` 메소드는 key에 해당하는 항목을 삭제한다."
   ]
  },
  {
   "cell_type": "code",
   "execution_count": 28,
   "metadata": {
    "colab": {
     "base_uri": "https://localhost:8080/"
    },
    "executionInfo": {
     "elapsed": 654,
     "status": "ok",
     "timestamp": 1617688969681,
     "user": {
      "displayName": "HJ Kim",
      "photoUrl": "",
      "userId": "16634276932240017990"
     },
     "user_tz": -540
    },
    "id": "0B_ej-uKwkkN",
    "outputId": "baf5e3d5-f3eb-47f1-a316-2448a27124da"
   },
   "outputs": [
    {
     "data": {
      "text/plain": [
       "{'a': 1, 'b': 2, 'c': 3, 1: 'a', 2: 'abc', 3: [1, 2, 3]}"
      ]
     },
     "execution_count": 28,
     "metadata": {},
     "output_type": "execute_result"
    }
   ],
   "source": [
    "dic3"
   ]
  },
  {
   "cell_type": "code",
   "execution_count": 29,
   "metadata": {
    "colab": {
     "base_uri": "https://localhost:8080/"
    },
    "executionInfo": {
     "elapsed": 653,
     "status": "ok",
     "timestamp": 1617688970213,
     "user": {
      "displayName": "HJ Kim",
      "photoUrl": "",
      "userId": "16634276932240017990"
     },
     "user_tz": -540
    },
    "id": "q5p5BuXCwndM",
    "outputId": "3ef606c3-1d3f-41c9-9f9c-711ab8ae01cc"
   },
   "outputs": [
    {
     "data": {
      "text/plain": [
       "{'b': 2, 'c': 3, 1: 'a', 2: 'abc', 3: [1, 2, 3]}"
      ]
     },
     "execution_count": 29,
     "metadata": {},
     "output_type": "execute_result"
    }
   ],
   "source": [
    "dic3.pop('a')\n",
    "dic3"
   ]
  },
  {
   "cell_type": "markdown",
   "metadata": {
    "id": "sDtLyRvewsyg"
   },
   "source": [
    "key가 존재하지 않으면 에러가 발생한다.   \n",
    "\n",
    "```python\n",
    ">>> dic3.pop('j')\n",
    "---------------------------------------------------------------------------\n",
    "KeyError                                  Traceback (most recent call last)\n",
    "<ipython-input-105-85ca1bd838c3> in <module>()\n",
    "----> 1 dic3.pop('j')\n",
    "\n",
    "KeyError: 'j'\n",
    "```"
   ]
  },
  {
   "cell_type": "markdown",
   "metadata": {
    "id": "rQ3ERQOZt53e"
   },
   "source": [
    "* `clear()` 메소드는 딕셔너리 안의 모든 항목들을 삭제하여 빈 딕셔너리를 만든다."
   ]
  },
  {
   "cell_type": "code",
   "execution_count": 30,
   "metadata": {
    "colab": {
     "base_uri": "https://localhost:8080/"
    },
    "executionInfo": {
     "elapsed": 616,
     "status": "ok",
     "timestamp": 1617688972736,
     "user": {
      "displayName": "HJ Kim",
      "photoUrl": "",
      "userId": "16634276932240017990"
     },
     "user_tz": -540
    },
    "id": "Aq8ao6Jhs7T3",
    "outputId": "c784aaad-c7ff-4e16-a744-6e0557e28717"
   },
   "outputs": [
    {
     "data": {
      "text/plain": [
       "{'b': 2, 'c': 3, 1: 'a', 2: 'abc', 3: [1, 2, 3]}"
      ]
     },
     "execution_count": 30,
     "metadata": {},
     "output_type": "execute_result"
    }
   ],
   "source": [
    "dic3"
   ]
  },
  {
   "cell_type": "code",
   "execution_count": 31,
   "metadata": {
    "id": "mjqcJ0h1uIkP"
   },
   "outputs": [],
   "source": [
    "dic3.clear()"
   ]
  },
  {
   "cell_type": "code",
   "execution_count": 32,
   "metadata": {
    "colab": {
     "base_uri": "https://localhost:8080/"
    },
    "executionInfo": {
     "elapsed": 781,
     "status": "ok",
     "timestamp": 1617688977883,
     "user": {
      "displayName": "HJ Kim",
      "photoUrl": "",
      "userId": "16634276932240017990"
     },
     "user_tz": -540
    },
    "id": "EtkVOQUsuLAu",
    "outputId": "dd6553cf-7724-492a-888f-99ded7b8749c"
   },
   "outputs": [
    {
     "data": {
      "text/plain": [
       "{}"
      ]
     },
     "execution_count": 32,
     "metadata": {},
     "output_type": "execute_result"
    }
   ],
   "source": [
    "dic3"
   ]
  },
  {
   "cell_type": "markdown",
   "metadata": {
    "id": "vlc8ljRHuoOk"
   },
   "source": [
    "## 딕셔너리 자료형 반복문\n",
    "\n",
    "딕셔너리를 반복문에 활용할 수 있다.  \n",
    "\n",
    "예제를 통해 살펴보자. 아래는 서울, 수원, 제주의 현재 온도 정보를 담은 딕셔너리다. "
   ]
  },
  {
   "cell_type": "code",
   "execution_count": 33,
   "metadata": {
    "colab": {
     "base_uri": "https://localhost:8080/"
    },
    "executionInfo": {
     "elapsed": 802,
     "status": "ok",
     "timestamp": 1617690046759,
     "user": {
      "displayName": "HJ Kim",
      "photoUrl": "",
      "userId": "16634276932240017990"
     },
     "user_tz": -540
    },
    "id": "ZiZ-Lj-WuLzX",
    "outputId": "7107a276-6d7f-4b58-f556-d0c79033f519"
   },
   "outputs": [
    {
     "data": {
      "text/plain": [
       "{'Seoul': 17, 'Suwon': 19, 'Jeju': 24}"
      ]
     },
     "execution_count": 33,
     "metadata": {},
     "output_type": "execute_result"
    }
   ],
   "source": [
    "city_temp = {'Seoul' : 17, 'Suwon' : 19, 'Jeju' : 24}\n",
    "city_temp"
   ]
  },
  {
   "cell_type": "markdown",
   "metadata": {
    "id": "zkxD2qx610Nm"
   },
   "source": [
    "다음과 같이 도시와 온도를 반복문을 사용하여 보여줄 수 있다."
   ]
  },
  {
   "cell_type": "code",
   "execution_count": 34,
   "metadata": {
    "colab": {
     "base_uri": "https://localhost:8080/"
    },
    "executionInfo": {
     "elapsed": 762,
     "status": "ok",
     "timestamp": 1617690174423,
     "user": {
      "displayName": "HJ Kim",
      "photoUrl": "",
      "userId": "16634276932240017990"
     },
     "user_tz": -540
    },
    "id": "B6H9RuYc1y22",
    "outputId": "7190643e-cfd3-4db0-b4cd-d3d7f8e0e8e9"
   },
   "outputs": [
    {
     "name": "stdout",
     "output_type": "stream",
     "text": [
      "Seoul 의 온도는  17 도 이다.\n",
      "Suwon 의 온도는  19 도 이다.\n",
      "Jeju 의 온도는  24 도 이다.\n"
     ]
    }
   ],
   "source": [
    "for key in city_temp.keys() :\n",
    "    print(key, \"의 온도는 \", city_temp[key], \"도 이다.\")"
   ]
  },
  {
   "cell_type": "markdown",
   "metadata": {
    "id": "d9qLTCdr2T_8"
   },
   "source": [
    "이때 `keys` 메소드를 사용하지 않아도 된다. "
   ]
  },
  {
   "cell_type": "code",
   "execution_count": 35,
   "metadata": {
    "colab": {
     "base_uri": "https://localhost:8080/"
    },
    "executionInfo": {
     "elapsed": 873,
     "status": "ok",
     "timestamp": 1617690211043,
     "user": {
      "displayName": "HJ Kim",
      "photoUrl": "",
      "userId": "16634276932240017990"
     },
     "user_tz": -540
    },
    "id": "zJ8dMQBm2SBj",
    "outputId": "303cc729-baa6-4383-cfe8-62f7c0017c32"
   },
   "outputs": [
    {
     "name": "stdout",
     "output_type": "stream",
     "text": [
      "Seoul 의 온도는  17 도 이다.\n",
      "Suwon 의 온도는  19 도 이다.\n",
      "Jeju 의 온도는  24 도 이다.\n"
     ]
    }
   ],
   "source": [
    "for key in city_temp :\n",
    "    print(key, \"의 온도는 \", city_temp[key], \"도 이다.\")"
   ]
  },
  {
   "cell_type": "markdown",
   "metadata": {
    "id": "oe_dD82sQmYn"
   },
   "source": [
    "````{prf:example}\n",
    ":label: dict_ex01\n",
    "아래 `game_score`에는 어느 경기에 참여한 선수들의 점수가 담겨 있다.  \n",
    "\n",
    "```\n",
    "game_score = \"playerA 90, playerB 75, playerC 97, playerD 69, playerE 85, playerF 88, playerG 87\"\n",
    "```\n",
    "\n",
    "점수 순으로 정렬하여 아래의 형식으로 말하여라. \n",
    "\n",
    ">`O등은 playerO이고, 점수는 OO점입니다.`\n",
    "\n",
    "````\n"
   ]
  },
  {
   "cell_type": "markdown",
   "metadata": {
    "id": "ToJf9b6iyhEs"
   },
   "source": [
    "참고) `sorted()`함수는 원래의 리스트를 건드리지 않으면서 정렬된 리스트를 생성해준다. 이때 만약 내림차순으로 정렬하려면 `reverse = True`라는 키워드 인자를 추가한다."
   ]
  },
  {
   "cell_type": "code",
   "execution_count": 36,
   "metadata": {
    "colab": {
     "base_uri": "https://localhost:8080/"
    },
    "executionInfo": {
     "elapsed": 625,
     "status": "ok",
     "timestamp": 1617940804184,
     "user": {
      "displayName": "HJ Kim",
      "photoUrl": "",
      "userId": "16634276932240017990"
     },
     "user_tz": -540
    },
    "id": "ptPQ8iIVT_7X",
    "outputId": "106dce3e-b22d-4f3b-932e-298184e16e35"
   },
   "outputs": [
    {
     "name": "stdout",
     "output_type": "stream",
     "text": [
      "1 등은 playerC 이고, 점수는  97 입니다.\n",
      "2 등은 playerA 이고, 점수는  90 입니다.\n",
      "3 등은 playerF 이고, 점수는  88 입니다.\n",
      "4 등은 playerG 이고, 점수는  87 입니다.\n",
      "5 등은 playerE 이고, 점수는  85 입니다.\n",
      "6 등은 playerB 이고, 점수는  75 입니다.\n",
      "7 등은 playerD 이고, 점수는  69 입니다.\n"
     ]
    }
   ],
   "source": [
    "game_score = \"playerA 90, playerB 75, playerC 97, playerD 69, playerE 85, playerF 88, playerG 87\"\n",
    "game_score_dic = {}\n",
    "\n",
    "for i in game_score.split(\", \") :\n",
    "    player, score = i.split()\n",
    "    game_score_dic[int(score)] = player\n",
    "\n",
    "sorted_keys = sorted(game_score_dic.keys(), reverse = True)\n",
    "\n",
    "count = 1\n",
    "for key in sorted_keys :\n",
    "    print(count,\"등은\",game_score_dic[key], \"이고, 점수는 \", key, \"입니다.\")\n",
    "    count += 1"
   ]
  },
  {
   "cell_type": "code",
   "execution_count": null,
   "metadata": {},
   "outputs": [],
   "source": []
  }
 ],
 "metadata": {
  "colab": {
   "authorship_tag": "ABX9TyNchybK8wmnYf+N2IK1mScJ",
   "collapsed_sections": [],
   "name": "강의노트7(딕셔너리).ipynb",
   "provenance": []
  },
  "kernelspec": {
   "display_name": "Python 3 (ipykernel)",
   "language": "python",
   "name": "python3"
  },
  "language_info": {
   "codemirror_mode": {
    "name": "ipython",
    "version": 3
   },
   "file_extension": ".py",
   "mimetype": "text/x-python",
   "name": "python",
   "nbconvert_exporter": "python",
   "pygments_lexer": "ipython3",
   "version": "3.8.10"
  }
 },
 "nbformat": 4,
 "nbformat_minor": 4
}