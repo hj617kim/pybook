{
 "cells": [
  {
   "cell_type": "markdown",
   "id": "4aee45cb-9637-4e0d-aa3d-5439345eb4c4",
   "metadata": {},
   "source": [
    "# 웹 사이트에서 데이터 가져오기"
   ]
  },
  {
   "cell_type": "markdown",
   "id": "c1f5fcd8-27d0-49c3-8445-7a8225558402",
   "metadata": {},
   "source": [
    "웹 사이트에서 원하는 데이터를 확인하는 방법을 살펴보자.  \n",
    "\n",
    "\n",
    "파이썬은 웹 사이트에 있는 데이터를 다루기 위해 다양한 함수를 제공하는데, 여기서는 `urllib.request` 모듈의 `urlopen` 함수를 소개한다. \n",
    "\n",
    "참고) `urllib`는 URL 작업을 위한 여러 모듈을 모은 패키지로, 그중에서 `urllib.request` 모듈은 URL에서 데이터를 가져오는 기능을 제공한다. \n",
    "\n",
    "참고) URL(Uniform Resource Locator)은 인터넷에서 웹 페이지, 이미지, 비디오 등 리소스의 위치를 가리키는 문자열을 말한다.   \n",
    "예를 들어, 아래와 같은 것들이 URL이다.  \n",
    "ex) https://movie.naver.com/movie/sdb/rank/rmovie.naver\n",
    "\n",
    "\n",
    "참고) 패키지와 모듈\n",
    "* 특정 분야와 연관된 함수들을 기능별로 분류하여 분류된 함수들끼리 하나의 파이썬 코드 파일에 저장.  \n",
    "이렇게 저장된 코드파일을 **모듈**이라 부름.\n",
    "* **패키지**(package) : 특정 분야와 연관된 모듈을 모아놓은 폴더. 라이브러리라고도 부름."
   ]
  },
  {
   "cell_type": "markdown",
   "id": "ee674a16-3365-4226-a252-426db813d6a9",
   "metadata": {},
   "source": [
    "## `urllib.request` 모듈의 `urlopen` 함수\n",
    "\n",
    "* `urlopen()` 함수는 지정된 웹 페이지의 소스코드를 가져와서 리턴값으로 내주는 함수. \n"
   ]
  },
  {
   "cell_type": "markdown",
   "id": "b542a184-990d-45cd-aa40-8997906524d8",
   "metadata": {},
   "source": [
    "`urlopen` 함수를 이용하여 <a ref = \"https://movie.naver.com/movie/sdb/rank/rmovie.naver\">네이버 영화</a>의 웹 페이지 소스코드를 확인해보자.  \n",
    "\n",
    "웹 페이지 주소는 아래와 같다. \n",
    "> https://movie.naver.com/movie/sdb/rank/rmovie.naver"
   ]
  },
  {
   "cell_type": "markdown",
   "id": "dfec3c9e-886a-4fc5-8db5-767e14f2c8a0",
   "metadata": {},
   "source": [
    "### 웹 페이지 HTML 소스코드\n",
    "\n",
    "웹 페이지의 소스코드는 무엇일까? 예를 들어, <a ref = \"https://movie.naver.com/movie/sdb/rank/rmovie.naver\">네이버 영화</a>에 방문했을 때 웹 브라우저가 우리에게 보여주는 것은 **HTML**이라는 웹 페이지 개발 전용 프로그래밍 언어로 작성된 해당 웹 페이지의 **소스코드**(source code)를 예쁘게 포장해서 보여주는 것이다.   \n",
    "\n",
    "웹 페이지 소스코드 확인법은 웹 브라우저에 따라 다르다. 크롬 브라우저의 경우, 마우스 오른쪽 버튼을 누른 후 '페이지 소스 보기(V)'를 선택하여 확인하거나 F12를 눌러 확인할 수 있다."
   ]
  },
  {
   "cell_type": "markdown",
   "id": "46fc7956-4478-46a3-9668-e4f9177e907b",
   "metadata": {},
   "source": [
    "<div align=\"center\"><img src=\"https://raw.githubusercontent.com/hj617kim/pybook/master/images/ch15/movie01.png\" style=\"width:700px;\"></div>"
   ]
  },
  {
   "cell_type": "markdown",
   "id": "59b5f71e-0e6b-474c-8405-1dd2bade07ea",
   "metadata": {},
   "source": [
    "네이버 영화의 웹페이지 소스코드는 아래와 같다.   \n",
    "<div align=\"center\"><img src=\"https://raw.githubusercontent.com/hj617kim/pybook/master/images/ch15/movie02.png\" style=\"width:700px;\"></div>  \n",
    "\n",
    "위 그림에서 보이는 소스코드는 영화 제목 정보뿐만 아니라 `<html>, <head>, <title>, <link>, <h2>, <p>` 등 폰트, 글자 크기, 주소 링크, 문단 구성 등과 관련된 웹 페이지 설정 옵션 지정을 위한 HTML 언어 명령문도 포함하고 있다.  \n",
    "이렇듯 웹 브라우저는 소스코드에 포함된 정보와 웹 페이지 설정 옵션을 함께 고려하여 적절한 방식으로 내용을 사용자에게 전달한다. "
   ]
  },
  {
   "cell_type": "markdown",
   "id": "5a5a7ff6-af71-448f-8c9a-4a07f205c5c8",
   "metadata": {},
   "source": [
    "### 웹 페이지 소스코드 가져오기\n",
    "\n",
    "`urlopen()` 함수를 사용하려면, 먼저 `urllib.request` 모듈을 임포트해야 한다."
   ]
  },
  {
   "cell_type": "code",
   "execution_count": 1,
   "id": "5d0c8de2-d758-4ed8-911c-3655637eaab6",
   "metadata": {},
   "outputs": [],
   "source": [
    "import urllib.request"
   ]
  },
  {
   "cell_type": "markdown",
   "id": "8bb75e50-259a-464f-af3e-7783b32a76b0",
   "metadata": {},
   "source": [
    "`urlopen()` 함수를 사용하여 웹 페이지의 HTML 소스코드를 가져오는 코드는 아래와 같다."
   ]
  },
  {
   "cell_type": "code",
   "execution_count": 2,
   "id": "488ea135-84fd-4b0f-96f7-a9f114cb5251",
   "metadata": {},
   "outputs": [],
   "source": [
    "# 웹 페이지 주소 저장\n",
    "url = \"https://movie.naver.com/movie/sdb/rank/rmovie.naver\"\n",
    "\n",
    "# 웹 페이지 소스코드 가져오기\n",
    "page = urllib.request.urlopen(url)"
   ]
  },
  {
   "cell_type": "markdown",
   "id": "e84561a7-bb21-4fe3-b047-ec601c60cd3a",
   "metadata": {},
   "source": [
    "이제 page 변수에는 urlopen 함수가 읽어와서 내주는 값이 저장된다. 이 내주는 값에는 웹 사이트의 HTML 소스코드가 포함되어 있다.   \n",
    "\n",
    "내용을 확인해보자. "
   ]
  },
  {
   "cell_type": "code",
   "execution_count": 3,
   "id": "401f2528-f901-4040-af1f-f79ac556b896",
   "metadata": {},
   "outputs": [],
   "source": [
    "# utf8로 디코딩해서 html 소스코드를 하나의 문자열로 저장\n",
    "text = page.read().decode('utf8')\n",
    "# text"
   ]
  },
  {
   "cell_type": "markdown",
   "id": "39ff6083-7f21-4088-adf0-f860fb241493",
   "metadata": {},
   "source": [
    "참고)  \n",
    "* 디코드(decode) : 보통 암호를 푼다. 즉, 원래대로 돌려놓는다는 의미로 사용.\n",
    "* utf8 : 문자 인코딩(암호화)하는 방식으로, 프로그래밍 언어 분야에서 거의 표준으로 사용되는 인코딩 방식.  \n",
    "* 최근 utf8을 사용하는 것을 권장하나 아직 euc-kr(혹은 cp949)을 사용하는 경우도 있다."
   ]
  },
  {
   "cell_type": "markdown",
   "id": "3fbba98c-d439-4029-9478-1d10b092a2a1",
   "metadata": {},
   "source": [
    "`print()` 함수를 사용하면, 문자열 자료형을 나타내는 따옴표를 보여주지 않는다.  \n",
    "또, 줄바꿈 기호(\\n) 등을 직접 보여주는 대신에 실제로 줄바꿈을 하여 격식을 갖춘 문장으로 보여준다. "
   ]
  },
  {
   "cell_type": "code",
   "execution_count": 4,
   "id": "8b453207-b487-4cde-9337-fefd6c67cced",
   "metadata": {},
   "outputs": [],
   "source": [
    "# print(text)"
   ]
  },
  {
   "cell_type": "markdown",
   "id": "4a7026af-3a9a-4273-a79f-1711431ed37f",
   "metadata": {},
   "source": [
    "### 문자열로 저장된 데이터에서 필요한 정보 확인하기\n",
    "\n",
    "앞서 `text` 변수에 할당된 HTML 소스코드도 하나의 문자열이다. "
   ]
  },
  {
   "cell_type": "code",
   "execution_count": 5,
   "id": "248ce9fa-6afe-472d-a582-7be3b3a32d31",
   "metadata": {},
   "outputs": [
    {
     "data": {
      "text/plain": [
       "str"
      ]
     },
     "execution_count": 5,
     "metadata": {},
     "output_type": "execute_result"
    }
   ],
   "source": [
    "type(text)"
   ]
  },
  {
   "cell_type": "markdown",
   "id": "e41baff7-66c8-4097-8b2b-4c327e874b87",
   "metadata": {},
   "source": [
    "따라서 문자열 인덱싱, 슬라이싱 또는 여러 문자열 메소드를 사용하여 HTML 소스코드에서 필요한 정보를 확인할 수 있다.  \n",
    "\n",
    "예를 들어, 위 문자열에서 1위 영화 제목을 추출해보자.  \n",
    "주의 : 영화 순위는 변할 수 있다.  "
   ]
  },
  {
   "cell_type": "markdown",
   "id": "dac61063-5b97-4d43-8e4d-da5b8b78439c",
   "metadata": {},
   "source": [
    "**슬라이싱**   \n",
    "`<html` 부터 0, 1, 2, 3, 4, ... 등으로 하나씩 인덱스를 세어보면, 영화 제목은 13235번 인덱스 값부터 시작하여 13242번 인덱스 값인 것을 알 수 있다.  \n",
    "이제 슬라이싱을 사용하여, 영화 제목을 확인하면 아래와 같다.  "
   ]
  },
  {
   "cell_type": "code",
   "execution_count": 6,
   "id": "bbc66e1e-5480-4d97-9a53-306f06644ea3",
   "metadata": {},
   "outputs": [
    {
     "data": {
      "text/plain": [
       "'탑건: 매버릭'"
      ]
     },
     "execution_count": 6,
     "metadata": {},
     "output_type": "execute_result"
    }
   ],
   "source": [
    "text[13235:13242]"
   ]
  },
  {
   "cell_type": "markdown",
   "id": "487d15fc-5bc9-4ec3-bb34-9762ad804ff4",
   "metadata": {},
   "source": [
    "그런데 위와 같이 수동으로 인덱스를 확인하는 방식에는 다음과 같은 문제가 있다.  \n",
    "* 셈이 틀릴 수 있다. \n",
    "* 문자열이 길 경우 셈 자체가 불가능할 수 있다. \n",
    "* 문자열이 조금만 변경되어도 새로 처음부터 세어야 하기 때문에 재활용이 불가능하다."
   ]
  },
  {
   "cell_type": "markdown",
   "id": "19885c26-1abf-4f1f-8f23-49ac746a2889",
   "metadata": {},
   "source": [
    "**find 메소드 활용**  \n",
    "\n",
    "수동으로 인덱스를 확인하는 방법의 한계를 극복하기 위해서 `find`라는 문자열 메소드를 사용할 수도 있다. \n",
    "\n",
    "* `str.find(sub[, start [, end]])` 메소드는 부분 문자열 `sub`가 `str[start:end]` 내에 등장하는 가장 작은 문자열의 인덱스를 돌려준다.   \n",
    "`start`와 `end`는 생략 가능하다. `sub`이 없으면, -1를 돌려준다.\n",
    "\n",
    "\n",
    "참고) `find()`메소드는 주로 `sub` 의 위치를 알아야 할 경우에 사용한다. `sub`가 부분 문자열인지 확인하고 싶다면, `in` 연산자를 사용한다.  \n"
   ]
  },
  {
   "cell_type": "code",
   "execution_count": 7,
   "id": "7b0aa554-5417-4fa6-aa96-aca5041ef2f2",
   "metadata": {},
   "outputs": [
    {
     "name": "stdout",
     "output_type": "stream",
     "text": [
      "7\n",
      "-1\n",
      "4\n",
      "24\n",
      "-1\n"
     ]
    }
   ],
   "source": [
    "words = \"Python is a general purpose programming language.\"\n",
    "\n",
    "print(words.find('is')) # words 내에 is가 등장하는 가장 작은 문자열의 인덱스를 돌려줌.  \n",
    "print(words.find('fun')) # words 내에 fun은 없으므로 -1를 돌려줌.\n",
    "print(words.find('o'))  # 여러 번 등장하면 가장 작은 인덱스를 돌려줌.\n",
    "print(words.find('o', 5))  # 콤마(,) 뒤에 숫자가 하나면 start를 의미. 'o'가 words[5:] 내에 등장하는 가장 작은 문자열의 인덱스를 돌려줌. \n",
    "print(words.find('o', 5, 9)) # 'o'가 words[5:9] 내에 등장하는 가장 작은 문자열의 인덱스를 돌려줌. 없다면, -1를 돌려줌."
   ]
  },
  {
   "cell_type": "markdown",
   "id": "53f12afa-228c-4dcd-b714-d6fd2c8fa0a4",
   "metadata": {},
   "source": [
    "## `BeautifulSoup`   \n",
    "\n",
    "HTML에서 원하는 데이터를 추출하기 위해 `bs4`모듈의 `BeautifulSoup` 클래스를 소개한다. \n",
    "\n",
    "여기서 클래스에 대한 자세한 설명은 하지 않는다. 예제를 통해서 `BeautifulSoup`의 기본적인 사용법을 살펴보자.\n",
    "\n",
    "> `BeautifulSoup(html, 'html.parser')`  \n",
    "\n",
    "`BeautifulSoup`의 첫 번째 매개변수에는 분석하고 싶은 HTML를, 두 번째 매개변수에는 분석할 분석기(parser)의 종류를 지정한다.  \n",
    "여기서는 HTML를 분석하기 위해 `html.parser`를 사용한다.\n",
    "\n",
    "참고) Beautiful Soup(줄여서 bs)은 HTML를 분석해주는 라이브러리이다. 이 라이브러리를 이용하여 HTML에서 원하는 데이터를 추출할 수 있다. \n",
    "\n",
    "참고) Google Colab에는 Beautiful Soup이 이미 설치되어 있다.  \n",
    "\n",
    "우선, `BeautifulSoup`을 임포트하자."
   ]
  },
  {
   "cell_type": "code",
   "execution_count": 8,
   "id": "b5e59d74-a240-4632-8442-b93682e74764",
   "metadata": {},
   "outputs": [],
   "source": [
    "from bs4 import BeautifulSoup"
   ]
  },
  {
   "cell_type": "markdown",
   "id": "0d4d9480-751f-47cf-988a-2df5a3c28108",
   "metadata": {},
   "source": [
    "분석할 HTML을 지정하자. \n",
    "여기서는 웹 사이트로부터 HTML를 가져오는 것이 아니라 문자열로 만들어서 사용한다."
   ]
  },
  {
   "cell_type": "code",
   "execution_count": 9,
   "id": "c9ac04b0-b2c5-453e-958b-4b142f8539ff",
   "metadata": {},
   "outputs": [],
   "source": [
    "html = \"\"\"\n",
    "<html><head><title>컴퓨팅 기초</title></head>\n",
    "<body>\n",
    "<p class=\"title\"><b>컴퓨팅 기초</b></p>\n",
    "\n",
    "<p class=\"body\"> 컴퓨터 과학을 처음 접하는 학생들에게 프로그래밍의 기초와 컴퓨팅 사고력, 그리고 데이터 처리를 소개한다. \n",
    "<a href=\"http://example.com/a\" class=\"item\" id=\"link1\">기본 <strong>자료형</strong></a>\n",
    "<a href=\"http://example.com/b\" class=\"item\" id=\"link2\">조건문과 반복문</a>\n",
    "<a href=\"http://example.com/c\" class=\"item\" id=\"link3\">오류 및 예외처리</a>\n",
    "이하 생략\n",
    "</p>\n",
    "<p class=\"body\">...</p>\n",
    "</body></html>\n",
    "\"\"\""
   ]
  },
  {
   "cell_type": "markdown",
   "id": "1cee8097-6904-4c72-a849-9b2c2f400048",
   "metadata": {},
   "source": [
    "`BeautifulSoup`을 사용하여 HTML를 분석하자."
   ]
  },
  {
   "cell_type": "code",
   "execution_count": 10,
   "id": "1528457b-19fa-40f7-8c6f-05b352098239",
   "metadata": {},
   "outputs": [
    {
     "data": {
      "text/plain": [
       "\n",
       "<html><head><title>컴퓨팅 기초</title></head>\n",
       "<body>\n",
       "<p class=\"title\"><b>컴퓨팅 기초</b></p>\n",
       "<p class=\"body\"> 컴퓨터 과학을 처음 접하는 학생들에게 프로그래밍의 기초와 컴퓨팅 사고력, 그리고 데이터 처리를 소개한다. \n",
       "<a class=\"item\" href=\"http://example.com/a\" id=\"link1\">기본 <strong>자료형</strong></a>\n",
       "<a class=\"item\" href=\"http://example.com/b\" id=\"link2\">조건문과 반복문</a>\n",
       "<a class=\"item\" href=\"http://example.com/c\" id=\"link3\">오류 및 예외처리</a>\n",
       "이하 생략\n",
       "</p>\n",
       "<p class=\"body\">...</p>\n",
       "</body></html>"
      ]
     },
     "execution_count": 10,
     "metadata": {},
     "output_type": "execute_result"
    }
   ],
   "source": [
    "soup = BeautifulSoup(html, 'html.parser')\n",
    "soup"
   ]
  },
  {
   "cell_type": "markdown",
   "id": "23063782-4eb5-4b85-8ba5-eb03f44323a7",
   "metadata": {},
   "source": [
    "이제 원하는 부분을 추출해보자. 마침표(.)를 이용해서 원하는 값에 접근할 수 있다. \n",
    "\n",
    "예를 들어, `soup.b` 이라고 하면, `<b>` 태그에 접근한 것이다. "
   ]
  },
  {
   "cell_type": "code",
   "execution_count": 11,
   "id": "026caba5-b088-4f3b-9ee7-261e527fb775",
   "metadata": {},
   "outputs": [
    {
     "data": {
      "text/plain": [
       "<b>컴퓨팅 기초</b>"
      ]
     },
     "execution_count": 11,
     "metadata": {},
     "output_type": "execute_result"
    }
   ],
   "source": [
    "b_tag = soup.b\n",
    "b_tag"
   ]
  },
  {
   "cell_type": "markdown",
   "id": "e8922368-94d9-4788-9f21-c68299fb086b",
   "metadata": {},
   "source": [
    "### `string` \n",
    "\n",
    "태그 안에 있는 텍스트를 출력하려면, `.string`을 해주면 된다.  \n",
    "예를 들어, 위의 `<b>`안에 있는 텍스트를 출력하려면 아래와 같이 코드를 작성하면 된다. "
   ]
  },
  {
   "cell_type": "code",
   "execution_count": 12,
   "id": "a9c4bd76-03ae-4fa0-ba25-ca3cd2743b87",
   "metadata": {},
   "outputs": [
    {
     "name": "stdout",
     "output_type": "stream",
     "text": [
      "컴퓨팅 기초\n",
      "<class 'bs4.element.NavigableString'>\n"
     ]
    }
   ],
   "source": [
    "print(b_tag.string)\n",
    "print(type(b_tag.string)) #타입은 NavigableString이다."
   ]
  },
  {
   "cell_type": "markdown",
   "id": "715fa472-4930-48d3-a643-e60ea3f8847f",
   "metadata": {},
   "source": [
    "자료형을 `NavigableString`에서 `str`로 변경하고 싶다면, `str()` 함수를 사용하면 된다. "
   ]
  },
  {
   "cell_type": "code",
   "execution_count": 13,
   "id": "7cfa2213-8d31-4ebe-9a50-4cefe366ec7b",
   "metadata": {},
   "outputs": [
    {
     "name": "stdout",
     "output_type": "stream",
     "text": [
      "컴퓨팅 기초\n",
      "<class 'str'>\n"
     ]
    }
   ],
   "source": [
    "b_tag_str = str(b_tag.string)\n",
    "print(b_tag_str)\n",
    "print(type(b_tag_str))"
   ]
  },
  {
   "cell_type": "markdown",
   "id": "17d09026-6101-4bde-abb2-e6612abaf552",
   "metadata": {},
   "source": [
    "한 문자열을 다른 문자열로 변경하고 싶다면, `replace_with()`를 사용하면 된다."
   ]
  },
  {
   "cell_type": "code",
   "execution_count": 14,
   "id": "174672ea-63e5-4725-b0c0-19ada9d38861",
   "metadata": {},
   "outputs": [
    {
     "name": "stdout",
     "output_type": "stream",
     "text": [
      "기존 :  컴퓨팅 기초\n",
      "변경 :  컴퓨팅 핵심\n"
     ]
    }
   ],
   "source": [
    "print('기존 : ', b_tag.string)\n",
    "b_tag.string.replace_with('컴퓨팅 핵심')\n",
    "print('변경 : ', b_tag.string)"
   ]
  },
  {
   "cell_type": "code",
   "execution_count": 15,
   "id": "14d30384-7956-4baa-ae9d-9d2aa7b72756",
   "metadata": {},
   "outputs": [
    {
     "data": {
      "text/plain": [
       "\n",
       "<html><head><title>컴퓨팅 기초</title></head>\n",
       "<body>\n",
       "<p class=\"title\"><b>컴퓨팅 핵심</b></p>\n",
       "<p class=\"body\"> 컴퓨터 과학을 처음 접하는 학생들에게 프로그래밍의 기초와 컴퓨팅 사고력, 그리고 데이터 처리를 소개한다. \n",
       "<a class=\"item\" href=\"http://example.com/a\" id=\"link1\">기본 <strong>자료형</strong></a>\n",
       "<a class=\"item\" href=\"http://example.com/b\" id=\"link2\">조건문과 반복문</a>\n",
       "<a class=\"item\" href=\"http://example.com/c\" id=\"link3\">오류 및 예외처리</a>\n",
       "이하 생략\n",
       "</p>\n",
       "<p class=\"body\">...</p>\n",
       "</body></html>"
      ]
     },
     "execution_count": 15,
     "metadata": {},
     "output_type": "execute_result"
    }
   ],
   "source": [
    "soup"
   ]
  },
  {
   "cell_type": "markdown",
   "id": "691fb376-0d68-46b3-8123-5e8220f29bb1",
   "metadata": {},
   "source": [
    "조금 더 연습해보자. 예를 들어, `<head>` 에 접근하려면 어떻게 하면 될까?  \n",
    "아래와 같이 코드를 작성하면 된다.  "
   ]
  },
  {
   "cell_type": "code",
   "execution_count": 16,
   "id": "5bfe972a-f9eb-4f35-b0ba-e2f1fb4423ab",
   "metadata": {},
   "outputs": [
    {
     "data": {
      "text/plain": [
       "<head><title>컴퓨팅 기초</title></head>"
      ]
     },
     "execution_count": 16,
     "metadata": {},
     "output_type": "execute_result"
    }
   ],
   "source": [
    "soup.head"
   ]
  },
  {
   "cell_type": "markdown",
   "id": "7af65e5b-1d90-402f-827a-16817cf6609f",
   "metadata": {},
   "source": [
    "비슷하게 `<title>` 에 접근하려면, 아래와 같이 하면 된다."
   ]
  },
  {
   "cell_type": "code",
   "execution_count": 17,
   "id": "c2390cde-80db-4990-9040-f3efdfd7b2c7",
   "metadata": {},
   "outputs": [
    {
     "data": {
      "text/plain": [
       "<title>컴퓨팅 기초</title>"
      ]
     },
     "execution_count": 17,
     "metadata": {},
     "output_type": "execute_result"
    }
   ],
   "source": [
    "soup.title"
   ]
  },
  {
   "cell_type": "markdown",
   "id": "ecaa5352-e4d3-4467-ad6e-f2f08e1e1822",
   "metadata": {},
   "source": [
    "특정 태그 아래에 있는 태그에 접근할 수도 있다.   \n",
    "예를 들어, `soup.body.b`는 `<body>` 아래 `<b>`에 접근한 것이다.  "
   ]
  },
  {
   "cell_type": "code",
   "execution_count": 18,
   "id": "bef3fada-6c10-4dbf-9c42-ec7c88b7e43c",
   "metadata": {},
   "outputs": [
    {
     "data": {
      "text/plain": [
       "<b>컴퓨팅 핵심</b>"
      ]
     },
     "execution_count": 18,
     "metadata": {},
     "output_type": "execute_result"
    }
   ],
   "source": [
    "soup.body.b"
   ]
  },
  {
   "cell_type": "markdown",
   "id": "e69903e0-44fc-45d1-aa67-6c27a4e5b73f",
   "metadata": {},
   "source": [
    "만약 해당 태그가 여러 개 있다면, 가장 앞에 있는 태그를 추출한다.   \n",
    "예를 들어, `<a>` 태그는 여러 개 있는데 `soup.a`라고 접근하면 가장 앞에 있는 값에 접근하는 것을 볼 수 있다. "
   ]
  },
  {
   "cell_type": "code",
   "execution_count": 19,
   "id": "a51d57f7-a6c9-482a-84b5-7592fa94904f",
   "metadata": {},
   "outputs": [
    {
     "data": {
      "text/plain": [
       "<a class=\"item\" href=\"http://example.com/a\" id=\"link1\">기본 <strong>자료형</strong></a>"
      ]
     },
     "execution_count": 19,
     "metadata": {},
     "output_type": "execute_result"
    }
   ],
   "source": [
    "soup.a"
   ]
  },
  {
   "cell_type": "markdown",
   "id": "b550f762-b795-4a5f-af43-03980fe2f15a",
   "metadata": {},
   "source": [
    "### `find_all()`"
   ]
  },
  {
   "cell_type": "markdown",
   "id": "8788c8fb-eade-4101-be1e-08747137fddf",
   "metadata": {},
   "source": [
    "여러 개의 `<a>` 태그를 한 번에 가져오고 싶다면, `find_all()` 를 사용하면 된다."
   ]
  },
  {
   "cell_type": "code",
   "execution_count": 20,
   "id": "e87ca2a2-0e27-4d4e-8c15-afaa9a4f3e23",
   "metadata": {},
   "outputs": [
    {
     "data": {
      "text/plain": [
       "[<a class=\"item\" href=\"http://example.com/a\" id=\"link1\">기본 <strong>자료형</strong></a>,\n",
       " <a class=\"item\" href=\"http://example.com/b\" id=\"link2\">조건문과 반복문</a>,\n",
       " <a class=\"item\" href=\"http://example.com/c\" id=\"link3\">오류 및 예외처리</a>]"
      ]
     },
     "execution_count": 20,
     "metadata": {},
     "output_type": "execute_result"
    }
   ],
   "source": [
    "soup.find_all('a')"
   ]
  },
  {
   "cell_type": "code",
   "execution_count": 21,
   "id": "28888cb8-3ea7-4e65-8a01-34e5234b48d0",
   "metadata": {},
   "outputs": [
    {
     "data": {
      "text/plain": [
       "bs4.element.ResultSet"
      ]
     },
     "execution_count": 21,
     "metadata": {},
     "output_type": "execute_result"
    }
   ],
   "source": [
    "type(soup.find_all('a')) #타입은 ResultSet으로, 리스트와 비슷하게 다루면 된다."
   ]
  },
  {
   "cell_type": "code",
   "execution_count": 22,
   "id": "cf7303bc-cfda-422a-a037-cbc1157d9ba8",
   "metadata": {},
   "outputs": [
    {
     "data": {
      "text/plain": [
       "<a class=\"item\" href=\"http://example.com/b\" id=\"link2\">조건문과 반복문</a>"
      ]
     },
     "execution_count": 22,
     "metadata": {},
     "output_type": "execute_result"
    }
   ],
   "source": [
    "#예를 들어, 1번 인덱스 값을 가져오고 싶다면 아래와 같이 코드를 작성하면 된다.\n",
    "soup.find_all('a')[1]"
   ]
  },
  {
   "cell_type": "markdown",
   "id": "df25ffe4-1ca8-4f83-829c-54c182a885b7",
   "metadata": {},
   "source": [
    "\n",
    "### `contents`"
   ]
  },
  {
   "cell_type": "markdown",
   "id": "d6b46ed3-c779-406d-a1e5-a8ec2d95c57a",
   "metadata": {},
   "source": [
    "`contents`를 사용하면 자식 태그를 담은 리스트를 반환한다. \n",
    "\n",
    "참고) 아래와 같이 한 태그(`<parent>`)가 다른 태그(`<child>`)를 감싸고 있다면, 감싼 태그`<parent>`를 부모 태그, 감싸진 태그`<child>`를 자식 태그라고 말한다.  \n",
    "```\n",
    "<parent>\n",
    "    <child></child>\n",
    "</parent>\n",
    "```\n",
    "주의) `<parent>`와 `<child>`는 설명을 위해 적은 것으로, 이런 이름의 태그는 없다. "
   ]
  },
  {
   "cell_type": "code",
   "execution_count": 23,
   "id": "372cfdc7-1ee0-432a-bed4-4a6acee3379f",
   "metadata": {},
   "outputs": [
    {
     "name": "stdout",
     "output_type": "stream",
     "text": [
      "<a class=\"item\" href=\"http://example.com/a\" id=\"link1\">기본 <strong>자료형</strong></a>\n",
      "['기본 ', <strong>자료형</strong>]\n"
     ]
    }
   ],
   "source": [
    "print(soup.a)\n",
    "print(soup.a.contents)"
   ]
  },
  {
   "cell_type": "code",
   "execution_count": 24,
   "id": "a27e35fa-3a24-4470-bae2-66b57a76177f",
   "metadata": {},
   "outputs": [
    {
     "data": {
      "text/plain": [
       "'기본 '"
      ]
     },
     "execution_count": 24,
     "metadata": {},
     "output_type": "execute_result"
    }
   ],
   "source": [
    "soup.a.contents[0]"
   ]
  },
  {
   "cell_type": "code",
   "execution_count": 25,
   "id": "b663df47-1f43-411e-9653-fc9a62cc0b6b",
   "metadata": {},
   "outputs": [
    {
     "data": {
      "text/plain": [
       "'자료형'"
      ]
     },
     "execution_count": 25,
     "metadata": {},
     "output_type": "execute_result"
    }
   ],
   "source": [
    "soup.a.contents[1].string"
   ]
  },
  {
   "cell_type": "markdown",
   "id": "20388bad-18c9-43ff-8305-92c4a523598c",
   "metadata": {},
   "source": [
    "`soup.a`로 접근한 요소 안의 텍스트를 확인해보자.   \n",
    "참고) `.string`을 사용하면 태그 안의 텍스트를 확인할 수 있지만, 태그 안에 다른 태그가 있다면 `None`을 반환한다."
   ]
  },
  {
   "cell_type": "code",
   "execution_count": 26,
   "id": "d09c6a7a-2953-48e3-903d-e01becc114fb",
   "metadata": {},
   "outputs": [
    {
     "name": "stdout",
     "output_type": "stream",
     "text": [
      "<a class=\"item\" href=\"http://example.com/a\" id=\"link1\">기본 <strong>자료형</strong></a>\n",
      "None\n"
     ]
    }
   ],
   "source": [
    "print(soup.a)\n",
    "print(soup.a.string)"
   ]
  },
  {
   "cell_type": "markdown",
   "id": "63d1d6b7-33d0-4328-b326-6194afcab90c",
   "metadata": {},
   "source": [
    "### `strings`"
   ]
  },
  {
   "cell_type": "markdown",
   "id": "2c7ff7e9-7a14-4118-8a46-e38108e27579",
   "metadata": {},
   "source": [
    "태그 안에 다른 태그가 있을 때, 태그 안의 텍스트를 확인하고 싶다면 아래와 같이 `for... in`과 함께 `strings`를 사용하면 된다. "
   ]
  },
  {
   "cell_type": "code",
   "execution_count": 27,
   "id": "e7a2de84-bc9c-440d-bf8c-17669adfc9ce",
   "metadata": {},
   "outputs": [
    {
     "name": "stdout",
     "output_type": "stream",
     "text": [
      "'기본 '\n",
      "'자료형'\n"
     ]
    }
   ],
   "source": [
    "for string in soup.a.strings :\n",
    "    print(repr(string))"
   ]
  },
  {
   "cell_type": "markdown",
   "id": "2ef13c3e-a47b-4490-b236-41ebfa4728ef",
   "metadata": {},
   "source": [
    "`soup`에 있는 텍스트도 확인해보자. "
   ]
  },
  {
   "cell_type": "code",
   "execution_count": 28,
   "id": "0070a8a3-5778-4743-b041-351bbeb24f39",
   "metadata": {},
   "outputs": [
    {
     "name": "stdout",
     "output_type": "stream",
     "text": [
      "'\\n'\n",
      "'컴퓨팅 기초'\n",
      "'\\n'\n",
      "'\\n'\n",
      "'컴퓨팅 핵심'\n",
      "'\\n'\n",
      "' 컴퓨터 과학을 처음 접하는 학생들에게 프로그래밍의 기초와 컴퓨팅 사고력, 그리고 데이터 처리를 소개한다. \\n'\n",
      "'기본 '\n",
      "'자료형'\n",
      "'\\n'\n",
      "'조건문과 반복문'\n",
      "'\\n'\n",
      "'오류 및 예외처리'\n",
      "'\\n이하 생략\\n'\n",
      "'\\n'\n",
      "'...'\n",
      "'\\n'\n",
      "'\\n'\n"
     ]
    }
   ],
   "source": [
    "# repr함수를 사용하여, 특수 문자들의 기능을 제거한 채로 출력하자.\n",
    "for string in soup.strings :\n",
    "    print(repr(string))"
   ]
  },
  {
   "cell_type": "markdown",
   "id": "177936cd-011c-4fff-b013-2637aa9b6ede",
   "metadata": {},
   "source": [
    "### `stripped_strings`"
   ]
  },
  {
   "cell_type": "markdown",
   "id": "76ede419-5223-4852-b07d-51f603c59ab2",
   "metadata": {},
   "source": [
    "위의 출력된 결과를 보면, 줄바꿈(\\n)이나 스페이스와 같은 `whitespace`가 포함되어 있다.   \n",
    "이를 제거하여 출력하고 싶다면, `strings` 대신 `stripped_strings`를 사용하면 된다. "
   ]
  },
  {
   "cell_type": "code",
   "execution_count": 29,
   "id": "ac5f9bd6-0d64-4418-bd8e-4bfe62000fc0",
   "metadata": {},
   "outputs": [
    {
     "name": "stdout",
     "output_type": "stream",
     "text": [
      "'컴퓨팅 기초'\n",
      "'컴퓨팅 핵심'\n",
      "'컴퓨터 과학을 처음 접하는 학생들에게 프로그래밍의 기초와 컴퓨팅 사고력, 그리고 데이터 처리를 소개한다.'\n",
      "'기본'\n",
      "'자료형'\n",
      "'조건문과 반복문'\n",
      "'오류 및 예외처리'\n",
      "'이하 생략'\n",
      "'...'\n"
     ]
    }
   ],
   "source": [
    "for string in soup.stripped_strings :\n",
    "    print(repr(string))"
   ]
  },
  {
   "cell_type": "markdown",
   "id": "11da5ea1-3673-4c5c-8a53-b73896dcad77",
   "metadata": {},
   "source": [
    "### `next_sibling`과 `previous_sibling`\n",
    "\n",
    "어느 태그의 형제 태그에 접근하고 싶다면, `next_sibling`과 `previous_sibling`을 사용하면 된다. \n",
    "\n",
    "참고) 같은 부모 태그를 갖는 태그들을 형제(sibling)이라고 말한다.\n"
   ]
  },
  {
   "cell_type": "code",
   "execution_count": 30,
   "id": "f952f7fc-6e77-4103-925a-a443cd81a719",
   "metadata": {},
   "outputs": [
    {
     "name": "stdout",
     "output_type": "stream",
     "text": [
      "<a class=\"item\" href=\"http://example.com/a\" id=\"link1\">기본 <strong>자료형</strong></a>\n",
      "\n",
      "\n",
      "<a class=\"item\" href=\"http://example.com/b\" id=\"link2\">조건문과 반복문</a>\n"
     ]
    }
   ],
   "source": [
    "print(soup.a)\n",
    "print(soup.a.next_sibling) # </a> 뒤에 줄바꿈 또는 공백있다면, 그것이 추출된다. \n",
    "print(soup.a.next_sibling.next_sibling)# next_sibling을 한 번 더 사용하면 두 번째 <a> 태그를 추출"
   ]
  },
  {
   "cell_type": "code",
   "execution_count": 31,
   "id": "6c255c0f-577b-4ad3-8b11-08220d6f78fa",
   "metadata": {},
   "outputs": [
    {
     "name": "stdout",
     "output_type": "stream",
     "text": [
      " 컴퓨터 과학을 처음 접하는 학생들에게 프로그래밍의 기초와 컴퓨팅 사고력, 그리고 데이터 처리를 소개한다. \n",
      "\n"
     ]
    }
   ],
   "source": [
    "print(soup.a.previous_sibling) # previous_sibling를 사용하면 이전 형제에 접근한다. "
   ]
  },
  {
   "cell_type": "markdown",
   "id": "cced35cd-3512-4970-8af0-4fba4fa19608",
   "metadata": {},
   "source": [
    "원하는 값에 접근하는 다른 방법을 계속 살펴보자."
   ]
  },
  {
   "cell_type": "markdown",
   "id": "b2474a89-92ea-42dc-9a5b-51be8c100c90",
   "metadata": {},
   "source": [
    "### id로 요소를 찾는 방법 - `find()`"
   ]
  },
  {
   "cell_type": "markdown",
   "id": "f066bf85-7727-4427-888c-b4039f0150da",
   "metadata": {},
   "source": [
    "`find()` 에 `id = '값'` 형태로 매개변수를 지정해서 원하는 값에 접근할 수도 있다. \n",
    "\n",
    "참고) 태그에는 class와 id라는 속성을 사용할 수도 있다.   \n",
    "예를 들어, 아래 `<a>`태그의 class는 item이고, id는 link1이다.   \n",
    "```\n",
    "<a class=\"item\" href=\"http://example.com/a\" id=\"link1\">기본 <strong>자료형</strong></a>\n",
    "```"
   ]
  },
  {
   "cell_type": "code",
   "execution_count": 32,
   "id": "49e36507-0e34-4a19-a4d2-a244daa68afc",
   "metadata": {},
   "outputs": [
    {
     "data": {
      "text/plain": [
       "<a class=\"item\" href=\"http://example.com/a\" id=\"link1\">기본 <strong>자료형</strong></a>"
      ]
     },
     "execution_count": 32,
     "metadata": {},
     "output_type": "execute_result"
    }
   ],
   "source": [
    "# 아래 a태그의 id는 link1이다.\n",
    "soup.a"
   ]
  },
  {
   "cell_type": "code",
   "execution_count": 33,
   "id": "331ae70e-ec6e-4fba-8632-8db806cc4b22",
   "metadata": {},
   "outputs": [
    {
     "name": "stdout",
     "output_type": "stream",
     "text": [
      "<a class=\"item\" href=\"http://example.com/a\" id=\"link1\">기본 <strong>자료형</strong></a>\n",
      "<a class=\"item\" href=\"http://example.com/b\" id=\"link2\">조건문과 반복문</a>\n",
      "조건문과 반복문\n"
     ]
    }
   ],
   "source": [
    "print(soup.find(id = 'link1'))\n",
    "print(soup.find(id = 'link2'))\n",
    "print(soup.find(id = 'link2').string)"
   ]
  },
  {
   "cell_type": "markdown",
   "id": "4d1d2af8-e48f-4653-a5c4-ae3e2952b8b2",
   "metadata": {},
   "source": [
    "해당 id를 가진 요소를 찾지 못하면 `None`를 반환한다."
   ]
  },
  {
   "cell_type": "code",
   "execution_count": 34,
   "id": "a2a62a61-a609-45a7-95e5-ee951a855297",
   "metadata": {},
   "outputs": [
    {
     "name": "stdout",
     "output_type": "stream",
     "text": [
      "None\n"
     ]
    }
   ],
   "source": [
    "print(soup.find(id = 'snu'))"
   ]
  },
  {
   "cell_type": "markdown",
   "id": "8c83d34d-93a1-44d5-b90b-b1a45b990904",
   "metadata": {},
   "source": [
    "### CSS 선택자 사용하기 - `select_one()`, `select()`"
   ]
  },
  {
   "cell_type": "markdown",
   "id": "0325cdb4-c7a8-4cd3-93e2-a12c0b9dabee",
   "metadata": {},
   "source": [
    "CSS 선택자를 사용하여 원하는 값에 접근할 수 있다. \n",
    "\n",
    "참고) CSS(Cascading Style Sheets)는 웹 페이지를 꾸미려고 작성하는 코드이다.  \n",
    "참고) CSS 선택자(selector)는 CSS를 적용하고자 하는 HTML 요소를 말한다.   \n",
    "참고) 예를 들어,\n",
    "* `a` : 모든 `<a>`태그를 가리키는 선택자 \n",
    "* `.item` : class가 `item`인 모든 태그를 가리키는 선택자\n",
    "* `#link1` : id가 `link1`인 태그를 가리키는 선택자\n",
    "\n",
    "이를 위해 `select_one()`나 `select()` 메소드를 사용할 수 있다.  \n",
    "\n",
    "* `soup.select_one(선택자)` : CSS 선택자로 요소 하나를 추출\n",
    "* `soup.select(선택자)` : CSS 선택자로 요소 여러 개를 리스트로 추출  \n",
    "\n",
    "\n",
    "개발자 도구(F12)에서 CSS 선택자를 확인할 수도 있다. 태그를 선택한 상태에서 마우스 오른쪽 버튼을 클릭하면 팝업 창이 뜬다. 여기서 Copy > Copy selector 를 클릭하면 선택한 요소의 CSS 선택자가 복사된다.\n",
    "\n",
    "\n",
    "예를 들어, 복사된 CSS 선택자가 \n",
    "* `body > h2` : `<body>`태그의 자식 태그 중 `<h2>`태그를 선택\n",
    "* `body > p:nth-child(3)` : `<body>`태그의 자식 태그 중 3번째이면서 `<p>`태그인 것을 선택  \n",
    "\n",
    "참고) `nth-child(n)`라는 것은 n번째 자식 요소를 의미한다.  \n",
    "참고) CSS 선택자에서 콜론(:) 뒤에 붙은 것의 대다수는 BeautifulSoup에서 지원하지 않는다.  \n",
    "`nth-of-type(n)`은 지원하는데, 예를 들어, `p:nth-of-type(n)`는 n번째 `<p>`라는 의미이다.\n"
   ]
  },
  {
   "cell_type": "markdown",
   "id": "b3745729-b535-4fd4-ba9e-f8ae01274647",
   "metadata": {},
   "source": [
    "이제 예제와 함께 `select_one()`를 살펴보자. "
   ]
  },
  {
   "cell_type": "code",
   "execution_count": 35,
   "id": "94aebca6-730f-4aad-b6d5-e7a0ac73ff11",
   "metadata": {},
   "outputs": [
    {
     "data": {
      "text/plain": [
       "\n",
       "<html><head><title>컴퓨팅 기초</title></head>\n",
       "<body>\n",
       "<p class=\"title\"><b>컴퓨팅 핵심</b></p>\n",
       "<p class=\"body\"> 컴퓨터 과학을 처음 접하는 학생들에게 프로그래밍의 기초와 컴퓨팅 사고력, 그리고 데이터 처리를 소개한다. \n",
       "<a class=\"item\" href=\"http://example.com/a\" id=\"link1\">기본 <strong>자료형</strong></a>\n",
       "<a class=\"item\" href=\"http://example.com/b\" id=\"link2\">조건문과 반복문</a>\n",
       "<a class=\"item\" href=\"http://example.com/c\" id=\"link3\">오류 및 예외처리</a>\n",
       "이하 생략\n",
       "</p>\n",
       "<p class=\"body\">...</p>\n",
       "</body></html>"
      ]
     },
     "execution_count": 35,
     "metadata": {},
     "output_type": "execute_result"
    }
   ],
   "source": [
    "soup"
   ]
  },
  {
   "cell_type": "code",
   "execution_count": 36,
   "id": "789cf2a0-10f6-4099-b1a1-31d32f53d233",
   "metadata": {},
   "outputs": [
    {
     "name": "stdout",
     "output_type": "stream",
     "text": [
      "<p class=\"title\"><b>컴퓨팅 핵심</b></p>\n",
      "<p class=\"title\"><b>컴퓨팅 핵심</b></p>\n"
     ]
    }
   ],
   "source": [
    "print(soup.select_one('p'))\n",
    "print(soup.select_one('p.title')) #p 다음에 공백이 없다."
   ]
  },
  {
   "cell_type": "code",
   "execution_count": 37,
   "id": "419d40fa-b943-4e17-8765-5ceb93ec5507",
   "metadata": {},
   "outputs": [
    {
     "name": "stdout",
     "output_type": "stream",
     "text": [
      "<p class=\"body\"> 컴퓨터 과학을 처음 접하는 학생들에게 프로그래밍의 기초와 컴퓨팅 사고력, 그리고 데이터 처리를 소개한다. \n",
      "<a class=\"item\" href=\"http://example.com/a\" id=\"link1\">기본 <strong>자료형</strong></a>\n",
      "<a class=\"item\" href=\"http://example.com/b\" id=\"link2\">조건문과 반복문</a>\n",
      "<a class=\"item\" href=\"http://example.com/c\" id=\"link3\">오류 및 예외처리</a>\n",
      "이하 생략\n",
      "</p>\n"
     ]
    }
   ],
   "source": [
    "print(soup.select_one('p.body'))"
   ]
  },
  {
   "cell_type": "markdown",
   "id": "00f5ac63-45a5-41c8-b08f-a3455f2c612f",
   "metadata": {},
   "source": [
    "만약 해당 태그가 여러 개 있다면, 가장 앞에 있는 태그를 추출한다."
   ]
  },
  {
   "cell_type": "code",
   "execution_count": 38,
   "id": "6ef9d0d2-3897-4f83-b2c4-ab7ab7945c55",
   "metadata": {},
   "outputs": [
    {
     "name": "stdout",
     "output_type": "stream",
     "text": [
      "<a class=\"item\" href=\"http://example.com/a\" id=\"link1\">기본 <strong>자료형</strong></a>\n"
     ]
    }
   ],
   "source": [
    "print(soup.select_one('a.item'))  #a 다음에 공백이 없다."
   ]
  },
  {
   "cell_type": "markdown",
   "id": "52be702c-fd46-4f27-abab-722fb2fdfd09",
   "metadata": {},
   "source": [
    "여러 개의 `<a>` 태그를 한 번에 가져오고 싶다면, `select()`를 사용한다. "
   ]
  },
  {
   "cell_type": "code",
   "execution_count": 39,
   "id": "8b218efd-6e2d-4582-b848-3591b5a93cde",
   "metadata": {},
   "outputs": [
    {
     "name": "stdout",
     "output_type": "stream",
     "text": [
      "[<a class=\"item\" href=\"http://example.com/a\" id=\"link1\">기본 <strong>자료형</strong></a>, <a class=\"item\" href=\"http://example.com/b\" id=\"link2\">조건문과 반복문</a>, <a class=\"item\" href=\"http://example.com/c\" id=\"link3\">오류 및 예외처리</a>]\n"
     ]
    }
   ],
   "source": [
    "print(soup.select('a.item'))"
   ]
  },
  {
   "cell_type": "code",
   "execution_count": 40,
   "id": "65559332-31de-4570-ba02-ead91ec57f12",
   "metadata": {},
   "outputs": [
    {
     "name": "stdout",
     "output_type": "stream",
     "text": [
      "<a class=\"item\" href=\"http://example.com/a\" id=\"link1\">기본 <strong>자료형</strong></a>\n",
      "<a class=\"item\" href=\"http://example.com/b\" id=\"link2\">조건문과 반복문</a>\n",
      "<a class=\"item\" href=\"http://example.com/c\" id=\"link3\">오류 및 예외처리</a>\n"
     ]
    }
   ],
   "source": [
    "item_list = soup.select('a.item')\n",
    "for li in item_list :\n",
    "    print(li)"
   ]
  },
  {
   "cell_type": "code",
   "execution_count": 41,
   "id": "88ad4e94-db61-4d5a-bb38-809f826a6250",
   "metadata": {},
   "outputs": [
    {
     "name": "stdout",
     "output_type": "stream",
     "text": [
      "<a class=\"item\" href=\"http://example.com/a\" id=\"link1\">기본 <strong>자료형</strong></a>\n",
      "<a class=\"item\" href=\"http://example.com/b\" id=\"link2\">조건문과 반복문</a>\n"
     ]
    },
    {
     "name": "stdout",
     "output_type": "stream",
     "text": [
      "<a class=\"item\" href=\"http://example.com/c\" id=\"link3\">오류 및 예외처리</a>\n"
     ]
    }
   ],
   "source": [
    "for i in soup.select('p .item'):  #p 다음에 공백이 있다.\n",
    "    print(i)"
   ]
  },
  {
   "cell_type": "code",
   "execution_count": 42,
   "id": "ca26698c-409f-46c3-ae27-54397b538f31",
   "metadata": {},
   "outputs": [
    {
     "name": "stdout",
     "output_type": "stream",
     "text": [
      "<a class=\"item\" href=\"http://example.com/b\" id=\"link2\">조건문과 반복문</a>\n"
     ]
    }
   ],
   "source": [
    "# 아래의 코드를 실행하면 어떤 요소가 선택될까?\n",
    "print(soup.select_one('p.body > #link2'))"
   ]
  },
  {
   "cell_type": "markdown",
   "id": "109c2200-4128-4701-96fc-8a01e77da1ac",
   "metadata": {},
   "source": [
    "# 요약    \n",
    "\n",
    "* 웹페이지의 소스코드 가져오는 방법\n",
    "```\n",
    "import urllib.request # 모듈 임포트\n",
    "url = 웹페이지 주소를 문자열로 저장  \n",
    "page = urllib.request.urlopen(url)  # 웹 페이지 소스코드 가져오기  \n",
    "text = page.read().decode('utf8') # 오류 발생시 utf8 대신 euc-kr 또는 cp949   사용  \n",
    "```\n",
    "\n",
    "* `BeautifulSoup`\n",
    "```\n",
    "from bs4 import BeautifulSoup # 모듈 임포트\n",
    "soup = BeautifulSoup(html, 'html.parser') # html에는 분석할 소스코드  \n",
    "```\n",
    "  * 마침표(`.`)을 이용하여 원하는 값에 접근. ex) `soup.b`하면 b태그에 접근함.\n",
    "  * `.string`을 하면, 태그 안의 텍스트 확인 가능. ex) `soup.b.string`\n",
    "  * `find_all()` : 인자로 들어온 태그를 모두 가져옴. ex) `soup.find_all('a')`하면 a태그를 모두 가져와서 리스트로 반환.\n",
    "  * `.contents` 사용하면 자식 태그를 담은 리스트 반환. ex) `soup.a.contents`\n",
    "  * `for..in`과 함께 `strings` 사용하면, 태그 안에 다른 태그가 있어도 텍스트 확인 가능. ex) `for s in soup.a.strings : print(repr(s))`\n",
    "  * `repr()` : 특수 문자들의 기능을 제거한 채로 출력  \n",
    "  * `for..in`과 함께 `stripped_strings`사용하면, 공백들을 제거하여 출력함. ex) `for s in soup.a.stripped_strings : print(repr(s))`  \n",
    "  * `next_sibling`과 `previous_sibling`은 어느 태그의 형제 태그에 접근  \n",
    "  * `find()`에 `id = '값'` 형태로 원하는 값에 접근 가능. ex) `soup.find(id = 'link1')`  \n",
    "  * `soup.select_one(선택자)` : CSS 선택자로 요소 하나를 추출. ex) `soup.select_one('a.item')`\n",
    "  * `soup.select(선택자)` : CSS 선택자로 요소 여러 개를 리스트로 추출. ex) `soup.select('a.item')`"
   ]
  }
 ],
 "metadata": {
  "kernelspec": {
   "display_name": "Python 3 (ipykernel)",
   "language": "python",
   "name": "python3"
  },
  "language_info": {
   "codemirror_mode": {
    "name": "ipython",
    "version": 3
   },
   "file_extension": ".py",
   "mimetype": "text/x-python",
   "name": "python",
   "nbconvert_exporter": "python",
   "pygments_lexer": "ipython3",
   "version": "3.8.10"
  }
 },
 "nbformat": 4,
 "nbformat_minor": 5
}