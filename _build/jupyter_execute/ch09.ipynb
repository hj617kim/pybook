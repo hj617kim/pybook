{
 "cells": [
  {
   "cell_type": "markdown",
   "metadata": {
    "id": "GTXSplGy7z7Y"
   },
   "source": [
    "# 오류 및 예외처리"
   ]
  },
  {
   "cell_type": "markdown",
   "metadata": {
    "id": "wBtJSoG-eZr9"
   },
   "source": [
    "아래의 코드는 정수를 입력받아 그 정수의 제곱을 출력하는 내용을 담고 있다. 코드를 실행하면 숫자를 입력하라는 창이 나오고, 여기에 정수 6을 입력하면 정상적으로 작동한다. 하지만, 예를 들어, 3.5를 입력하면 값 오류(value error)가 발생한다. `int()` 함수는 정수모양의 문자열에만 사용할 수 있기 때문이다.  \n",
    "\n",
    "```python\n",
    ">>> int_num = int(input(\"정수를 입력하세요 : \"))\n",
    "정수를 입력하세요 : 6\n",
    ">>> print(\"입력한 정수\", int_num, \"의 제곱은\", int_num**2, \"입니다.\")\n",
    "입력한 정수 6 의 제곱은 36 입니다.\n",
    "```\n",
    "\n",
    "```python\n",
    ">>> int_num = int(input(\"정수를 입력하세요 : \"))\n",
    "정수를 입력하세요 : 3.5\n",
    "---------------------------------------------------------------------------\n",
    "ValueError                                Traceback (most recent call last)\n",
    "<ipython-input-16-451164c00bbc> in <module>()\n",
    "----> 1 int_num = int(input(\"정수를 입력하세요 : \"))\n",
    "      2 print(\"입력한 정수\", int_num, \"의 제곱은\", int_num**2, \"입니다.\")\n",
    "\n",
    "ValueError: invalid literal for int() with base 10: '3.5'\n",
    "```\n"
   ]
  },
  {
   "cell_type": "markdown",
   "metadata": {
    "id": "1bk7M8fFmRqc"
   },
   "source": [
    "프로그램을 만들다보면 여러 오류가 발생할 수 있다. 파이썬은 오류가 발생하면 오류 메시지를 보여주며 프로그램을 중단한다. 하지만 때로는 오류를 다른 방식으로 처리하고 싶을 때도 있다. 여기서 그에 대한 해결책을 다루고자 한다. "
   ]
  },
  {
   "cell_type": "markdown",
   "metadata": {
    "id": "NNlBrtGzu-gH"
   },
   "source": [
    "## 오류\n",
    "\n"
   ]
  },
  {
   "cell_type": "markdown",
   "metadata": {
    "id": "FRnomx8Ym-4w"
   },
   "source": [
    "오류를 처리하는 방법을 살펴보기 전에, 발생할 수 있는 오류 몇 가지를 살펴보자. 오류의 종류를 파악하면 어디서 왜 오류가 발생하였는지를 보다 쉽게 파악하여 코드를 수정할 수 있게 된다.  \n",
    "\n",
    "다음의 코드들은 모두 오류를 발생시킨다."
   ]
  },
  {
   "cell_type": "markdown",
   "metadata": {
    "id": "xU0URcq3wIt6"
   },
   "source": [
    "**문법 오류** \n",
    "\n",
    "> `\"Hello, world`\n",
    "\n",
    "주의) 문자열 양 끝의 큰따옴표(또는 작은따옴표)가 짝이 맞아야 한다.  \n",
    "\n",
    "```python\n",
    ">>> \"Hello, world\n",
    "  File \"<ipython-input-19-a5674619cc6b>\", line 1\n",
    "    \"Hello, world\n",
    "                 ^\n",
    "SyntaxError: EOL while scanning string literal\n",
    "```"
   ]
  },
  {
   "cell_type": "markdown",
   "metadata": {
    "id": "ZvuJcxcPwh8l"
   },
   "source": [
    "오류 메시지를 간단히 살펴보자. \n",
    "\n",
    "* `File \"<ipython-input-19-a5674619cc6b>\", line 1`  \n",
    "1번 줄에서 오류 발생\n",
    "\n",
    "* \n",
    "```\n",
    "    \"Hello, world\n",
    "                 ^\n",
    "```\n",
    "오류 발생 위치 명시\n",
    "\n",
    "* `SyntaxError: EOL while scanning string literal`  \n",
    "오류 종류 표시 : 문법 오류(SyntaxError) "
   ]
  },
  {
   "cell_type": "markdown",
   "metadata": {
    "id": "HCpUmgdKvrB6"
   },
   "source": [
    "**0으로 나누기 오류**\n",
    "> `3 / 0` \n",
    "\n",
    "주의) 0으로 나눌 수 없다."
   ]
  },
  {
   "cell_type": "markdown",
   "metadata": {},
   "source": [
    "```python\n",
    ">>> print(3/0)\n",
    "---------------------------------------------------------------------------\n",
    "ZeroDivisionError                         Traceback (most recent call last)\n",
    "<ipython-input-18-01a2217119a3> in <module>()\n",
    "----> 1 print(3/0)\n",
    "\n",
    "ZeroDivisionError: division by zero\n",
    "```"
   ]
  },
  {
   "cell_type": "markdown",
   "metadata": {
    "id": "vbqFBv-Sv3Sd"
   },
   "source": [
    "**들여쓰기 문법 오류**\n",
    "\n",
    ">\n",
    "```\n",
    "for i in range(5) :\n",
    "  i -= 2\n",
    "    print(i)\n",
    "```\n",
    "\n",
    "주의) 2번 줄과 3번 줄의 들여쓰기 정도가 동일해야 한다."
   ]
  },
  {
   "cell_type": "markdown",
   "metadata": {},
   "source": [
    "```python\n",
    ">>> for i in range(5) :\n",
    "      i -= 2\n",
    "        print(i)\n",
    "  File \"<ipython-input-22-2f6d86e4660a>\", line 3\n",
    "    print(i)\n",
    "    ^\n",
    "IndentationError: unexpected indent\n",
    "```"
   ]
  },
  {
   "cell_type": "markdown",
   "metadata": {
    "id": "hm01x0DAx1ko"
   },
   "source": [
    "**자료형 오류**\n",
    "\n",
    "아래의 연산은 모두 오류를 발생시킨다.\n",
    "\n",
    ">\n",
    "```\n",
    "'cat' - 'dog'\n",
    "'cat' * 'dog'\n",
    "'cat' / 'dog'  \n",
    "```\n",
    ">\n",
    "```\n",
    "'cat' + 2\n",
    "'cat' - 2\n",
    "'cat' / 2\n",
    "```\n",
    "\n",
    "주의) 문자열끼리의 합, 문자열과 정수의 곱셈만 정의되어 있다."
   ]
  },
  {
   "cell_type": "markdown",
   "metadata": {},
   "source": [
    "```python\n",
    ">>> 'cat' - 'dog'\n",
    "---------------------------------------------------------------------------\n",
    "TypeError                                 Traceback (most recent call last)\n",
    "<ipython-input-23-47e5dc8c518e> in <module>()\n",
    "----> 1 'cat' - 'dog'\n",
    "\n",
    "TypeError: unsupported operand type(s) for -: 'str' and 'str'\n",
    "```"
   ]
  },
  {
   "cell_type": "markdown",
   "metadata": {
    "id": "Qwmij7-3yyI1"
   },
   "source": [
    "**이름 오류**\n",
    "\n",
    ">`print(dog)`\n",
    "\n",
    "주의) 미리 선언된 변수만 사용할 수 있다."
   ]
  },
  {
   "cell_type": "markdown",
   "metadata": {},
   "source": [
    "```python\n",
    ">>> print(dog)\n",
    "---------------------------------------------------------------------------\n",
    "NameError                                 Traceback (most recent call last)\n",
    "<ipython-input-24-6857f2fb20da> in <module>()\n",
    "----> 1 print(dog)\n",
    "\n",
    "NameError: name 'dog' is not defined\n",
    "```"
   ]
  },
  {
   "cell_type": "markdown",
   "metadata": {
    "id": "qpwklm5YzAGK"
   },
   "source": [
    "**인덱스 오류**\n",
    "\n",
    ">\n",
    "```\n",
    "a_word = \"hello\"\n",
    "a_word[20]\n",
    "```\n",
    "\n",
    "주의) 인덱스는 문자열의 길이보다 작은 수만 사용할 수 있다."
   ]
  },
  {
   "cell_type": "markdown",
   "metadata": {},
   "source": [
    "```python\n",
    ">>> a_word = \"hello world\"\n",
    ">>> a_word[20]\n",
    "---------------------------------------------------------------------------\n",
    "IndexError                                Traceback (most recent call last)\n",
    "<ipython-input-27-d2dfe20b8f53> in <module>()\n",
    "      1 a_word = \"hello world\"\n",
    "----> 2 a_word[20]\n",
    "\n",
    "IndexError: string index out of range\n",
    "```"
   ]
  },
  {
   "cell_type": "markdown",
   "metadata": {
    "id": "Hnd7h6_GzX9B"
   },
   "source": [
    "**값 오류**\n",
    ">`int(a_word)`\n",
    "\n",
    "주의) `int()` 함수는 정수모양의 문자열만 처리할 수 있다."
   ]
  },
  {
   "cell_type": "markdown",
   "metadata": {},
   "source": [
    "```python\n",
    ">>> int(a_word)\n",
    "---------------------------------------------------------------------------\n",
    "ValueError                                Traceback (most recent call last)\n",
    "<ipython-input-28-412cfee654a9> in <module>()\n",
    "----> 1 int(a_word)\n",
    "\n",
    "ValueError: invalid literal for int() with base 10: 'hello world'\n",
    "```"
   ]
  },
  {
   "cell_type": "markdown",
   "metadata": {
    "id": "TyPE81WB0A2O"
   },
   "source": [
    "**속성 오류**\n",
    "\n",
    ">`a_word.split().strip()`\n",
    "\n",
    "주의) `a_word`는 문자열이지만, `a_word.split()`는 리스트이다.  \n",
    "리스트에는 `strip()` 메소드가 없다. 리스트는 이후에 다룬다."
   ]
  },
  {
   "cell_type": "markdown",
   "metadata": {},
   "source": [
    "```python\n",
    ">>> a_word.split().strip()\n",
    "---------------------------------------------------------------------------\n",
    "AttributeError                            Traceback (most recent call last)\n",
    "<ipython-input-30-09c69b8a8996> in <module>()\n",
    "----> 1 a_word.split().strip()\n",
    "\n",
    "AttributeError: 'list' object has no attribute 'strip'\n",
    "```"
   ]
  },
  {
   "cell_type": "markdown",
   "metadata": {
    "id": "4PXkJGM21vRN"
   },
   "source": [
    "지금 살펴본 오류 외에도 다양한 오류가 발생할 수 있다. 그때마다 스스로 오류의 내용과 원인을 확인해 나가는 과정이 필요하다."
   ]
  },
  {
   "cell_type": "markdown",
   "metadata": {
    "id": "_GfbV-7e2Z4o"
   },
   "source": [
    "## 예외처리\n",
    "\n",
    "프로그램 중간에 오류가 발생할 수 있는 경우를 미리 생각하여 대비하는 과정을 **예외처리(exception handling)** 라고 부른다.  \n",
    "\n",
    "예를 들어, 오류가 발생하더라도 오류발생 이전까지 생성된 정보들을 저장하거나, 오류발생 이유를 조금 더 자세히 다루거나, 아니면 오류발생에 대한 보다 자세한 정보를 사용자에게 알려주기 위해 예외처리를 사용한다.  \n",
    "\n",
    "사용방식은 다음과 같다.\n",
    ">\n",
    "```\n",
    "try :\n",
    "    코드1\n",
    "except :\n",
    "    코드2\n",
    "```\n",
    "\n",
    "* 먼저 코드1 부분을 실행한다.\n",
    "* 코드1 부분이 실행되면서 오류가 발생하지 않으면 코드2 부분은 무시하고 다음으로 넘어간다.\n",
    "* 코드1 부분이 실행되면서 오류가 발생하면 더이상 진행하지 않고 바로 코드2 부분을 실행한다."
   ]
  },
  {
   "cell_type": "markdown",
   "metadata": {
    "id": "YeTa7cJ45t53"
   },
   "source": [
    "예시를 통해 살펴보자.  \n",
    "\n",
    "아래의 코드는 문법적 오류는 없지만, 정수가 아닌 값을 입력하면 값 오류(value error)가 발생한다. "
   ]
  },
  {
   "cell_type": "markdown",
   "metadata": {},
   "source": [
    "```python\n",
    ">>> int_num = int(input(\"정수를 입력하세요 : \"))\n",
    "정수를 입력하세요 : 3.5\n",
    "---------------------------------------------------------------------------\n",
    "ValueError                                Traceback (most recent call last)\n",
    "<ipython-input-31-451164c00bbc> in <module>()\n",
    "----> 1 int_num = int(input(\"정수를 입력하세요 : \"))\n",
    "      2 print(\"입력한 정수\", int_num, \"의 제곱은\", int_num**2, \"입니다.\")\n",
    "\n",
    "ValueError: invalid literal for int() with base 10: '3.5'\n",
    "```"
   ]
  },
  {
   "cell_type": "markdown",
   "metadata": {
    "id": "QNf6yYWZ6P0Z"
   },
   "source": [
    "이런 경우, `try...except` 문을 이용하여 예외처리를 할 수 있다.  \n",
    "\n",
    "예를 들어, 정수가 아닌 값을 입력하면, `\"정수를 입력해야 합니다.\"`라는 문구를 출력할 수 있다."
   ]
  },
  {
   "cell_type": "markdown",
   "metadata": {},
   "source": [
    "```python\n",
    ">>> num = input(\"정수를 입력하세요: \")\n",
    "정수를 입력하세요: 6\n",
    ">>> try :\n",
    "        int_num = int(num)\n",
    "        print(\"입력한 정수\", int_num, \"의 제곱은\", int_num**2, \"입니다.\")\n",
    "    except :\n",
    "        print(\"정수를 입력해야 합니다.\")\n",
    "입력한 정수 6 의 제곱은 36 입니다.\n",
    "```"
   ]
  },
  {
   "cell_type": "markdown",
   "metadata": {
    "colab": {
     "base_uri": "https://localhost:8080/"
    },
    "executionInfo": {
     "elapsed": 4804,
     "status": "ok",
     "timestamp": 1615879759521,
     "user": {
      "displayName": "HJ Kim",
      "photoUrl": "",
      "userId": "16634276932240017990"
     },
     "user_tz": -540
    },
    "id": "_hFqbnGo6HsN",
    "outputId": "ebbe5884-2086-4359-f41c-ef6f8a471a59"
   },
   "source": [
    "```python\n",
    ">>> num = input(\"정수를 입력하세요: \")\n",
    "정수를 입력하세요: 3.5\n",
    ">>> try :\n",
    "        int_num = int(num)\n",
    "        print(\"입력한 정수\", int_num, \"의 제곱은\", int_num**2, \"입니다.\")\n",
    "    except :\n",
    "        print(\"정수를 입력해야 합니다.\")\n",
    "정수를 입력해야 합니다.\n",
    "```"
   ]
  },
  {
   "cell_type": "markdown",
   "metadata": {
    "id": "JwOZM0rm8KpF"
   },
   "source": [
    "올바른 값이 나올 때까지 입력을 요구할 수도 있다. "
   ]
  },
  {
   "cell_type": "markdown",
   "metadata": {},
   "source": [
    "```python\n",
    ">>> while True :\n",
    "        try :\n",
    "            int_num = int(input(\"정수를 입력하세요: \"))\n",
    "            print(\"입력한 정수\", int_num, \"의 제곱은\", int_num**2, \"입니다.\")\n",
    "            break\n",
    "        except :\n",
    "            print(\"정수를 입력해야 합니다.\")\n",
    "정수를 입력하세요: 3.5\n",
    "정수를 입력해야 합니다.\n",
    "정수를 입력하세요: 3.7\n",
    "정수를 입력해야 합니다.\n",
    "정수를 입력하세요: 6\n",
    "입력한 정수 6 의 제곱은 36 입니다.\n",
    "```"
   ]
  },
  {
   "cell_type": "markdown",
   "metadata": {
    "id": "_0wYjpCS8lHU"
   },
   "source": [
    "참고) `break`는 가장 가까이서 둘러싸는 하나의 `for`나 `while` 루프로부터 빠져나가게 만든다. "
   ]
  },
  {
   "cell_type": "markdown",
   "metadata": {
    "id": "oNu9gllW-bKa"
   },
   "source": [
    "오류 종류에 맞추어 다양한 대처를 하기 위해서는 오류의 종류를 명시하여 예외처리를 하면된다. 예제를 통해 살펴보자.\n",
    "예제는 0이 아닌 정수를 입력받아 10을 입력받은 수로 나눈 값을 출력하는 코드로, 입력 값에 따라 다른 오류가 발생하고 그에 상응하는 방식으로 예외처리를 한다. "
   ]
  },
  {
   "cell_type": "markdown",
   "metadata": {
    "id": "wDKFxtdT_lt4"
   },
   "source": [
    "**값 오류(ValueError)의 경우**"
   ]
  },
  {
   "cell_type": "markdown",
   "metadata": {},
   "source": [
    "```python\n",
    ">>> num = input(\"0이 아닌 정수를 입력하세요 : \")\n",
    "0이 아닌 정수를 입력하세요 : 3.5\n",
    ">>> try :\n",
    "        int_num = int(num)\n",
    "        ans = 10 /int_num\n",
    "        print(\"결과는\", ans, \"입니다.\")\n",
    "    except ValueError:\n",
    "        print(\"정수를 입력하세요.\")\n",
    "    except ZeroDivisionError:\n",
    "        print(\"0은 입력할 수 없습니다. \")\n",
    "정수를 입력하세요.\n",
    "```"
   ]
  },
  {
   "cell_type": "markdown",
   "metadata": {
    "id": "4Z3fOiPE_vWw"
   },
   "source": [
    "**0으로 나누기 오류(ZeroDivisionError)의 경우**"
   ]
  },
  {
   "cell_type": "markdown",
   "metadata": {},
   "source": [
    "```python\n",
    ">>> num = input(\"0이 아닌 정수를 입력하세요 : \")\n",
    "0이 아닌 정수를 입력하세요 : 0\n",
    ">>> try :\n",
    "        int_num = int(num)\n",
    "        ans = 10 /int_num\n",
    "        print(\"결과는\", ans, \"입니다.\")\n",
    "    except ValueError:\n",
    "        print(\"정수를 입력하세요.\")\n",
    "    except ZeroDivisionError:\n",
    "        print(\"0은 입력할 수 없습니다. \")\n",
    "0은 입력할 수 없습니다. \n",
    "```"
   ]
  },
  {
   "cell_type": "markdown",
   "metadata": {
    "id": "6sJX9lTfAH2X"
   },
   "source": [
    "주의) 오류의 종류를 틀리게 명시하면 예외처리가 제대로 동작하지 않는다."
   ]
  },
  {
   "cell_type": "markdown",
   "metadata": {},
   "source": [
    "```python\n",
    ">>> try :\n",
    "        a = 3 / 0\n",
    "    except ValueError :\n",
    "        print(\"This program stops here.\")\n",
    "---------------------------------------------------------------------------\n",
    "ZeroDivisionError                         Traceback (most recent call last)\n",
    "<ipython-input-39-c743ddb96f59> in <module>()\n",
    "      1 try :\n",
    "----> 2   a = 3 / 0\n",
    "      3 except ValueError :\n",
    "      4   print(\"This program stops here.\")\n",
    "\n",
    "ZeroDivisionError: division by zero\n",
    "```"
   ]
  },
  {
   "cell_type": "markdown",
   "metadata": {
    "id": "dZBUxSeo9oId"
   },
   "source": [
    "## 예외 일으키기\n",
    "\n",
    "강제로 오류를 발생시키고 싶다면 `raise` 명령어를 사용하면 된다. \n"
   ]
  },
  {
   "cell_type": "markdown",
   "metadata": {},
   "source": [
    "```python\n",
    ">>> raise\n",
    "---------------------------------------------------------------------------\n",
    "RuntimeError                              Traceback (most recent call last)\n",
    "<ipython-input-10-9c9a2cba73bf> in <module>()\n",
    "----> 1 raise\n",
    "\n",
    "RuntimeError: No active exception to reraise\n",
    "```"
   ]
  },
  {
   "cell_type": "markdown",
   "metadata": {},
   "source": [
    "```python\n",
    ">>> raise ValueError\n",
    "---------------------------------------------------------------------------\n",
    "ValueError                                Traceback (most recent call last)\n",
    "<ipython-input-6-e4c8e09828d5> in <module>()\n",
    "----> 1 raise ValueError\n",
    "\n",
    "ValueError: \n",
    "```"
   ]
  },
  {
   "cell_type": "markdown",
   "metadata": {},
   "source": [
    "```python\n",
    ">>> raise NameError('name_err')\n",
    "---------------------------------------------------------------------------\n",
    "NameError                                 Traceback (most recent call last)\n",
    "<ipython-input-7-53219af79342> in <module>()\n",
    "----> 1 raise NameError('name_err')\n",
    "\n",
    "NameError: name_err\n",
    "```"
   ]
  },
  {
   "cell_type": "markdown",
   "metadata": {
    "id": "CVnQM-LVI5XS"
   },
   "source": [
    "## 코드의 안전성 문제\n",
    "\n",
    "문법 오류 또는 실행 중 오류가 발생하지 않더라도 **코드의 안전성**이 보장되지는 않는다. 즉, 오류가 발생하지 않더라도 코드를 실행했을 때 기대하는 결과가 나오지 않을 수도 있으니 주의해야 한다. "
   ]
  },
  {
   "cell_type": "markdown",
   "metadata": {
    "id": "ZA3R2cXSVWJG"
   },
   "source": [
    "아래의 코드는 입력받은 정수의 제곱을 출력해주는 코드를 제대로 구현하지 못한 경우를 다룬다. "
   ]
  },
  {
   "cell_type": "markdown",
   "metadata": {},
   "source": [
    "```python\n",
    ">>> int_num = int(input(\"정수를 입력하세요 : \"))\n",
    "정수를 입력하세요 : 3\n",
    ">>> print(\"입력한 정수\", int_num, \"의 제곱은\", int_num, \"입니다.\")\n",
    "입력한 정수 3 의 제곱은 3 입니다.\n",
    "```"
   ]
  }
 ],
 "metadata": {
  "colab": {
   "authorship_tag": "ABX9TyPI+TDbsk5hto0Fk5faFdZq",
   "collapsed_sections": [],
   "name": "강의노트5(입출력&오류예외처리).ipynb",
   "provenance": []
  },
  "kernelspec": {
   "display_name": "Python 3 (ipykernel)",
   "language": "python",
   "name": "python3"
  },
  "language_info": {
   "codemirror_mode": {
    "name": "ipython",
    "version": 3
   },
   "file_extension": ".py",
   "mimetype": "text/x-python",
   "name": "python",
   "nbconvert_exporter": "python",
   "pygments_lexer": "ipython3",
   "version": "3.8.10"
  }
 },
 "nbformat": 4,
 "nbformat_minor": 4
}