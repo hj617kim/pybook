{
 "cells": [
  {
   "cell_type": "markdown",
   "metadata": {
    "id": "cmz_2EJ-mjcW"
   },
   "source": [
    "# 리스트"
   ]
  },
  {
   "cell_type": "markdown",
   "metadata": {
    "id": "gpu293613Hm5"
   },
   "source": [
    "개별 데이터를 따로따로 처리하기 보다는 하나로 묶어서 처리해야 편리한 경우가 있다. 파이썬은 많은 데이터를 하나로 묶어서 처리할 수 있는 다양한 자료형을 제공하는데, 여기서는 리스트 자료형을 살펴보자. "
   ]
  },
  {
   "cell_type": "markdown",
   "metadata": {
    "id": "KTK2k0h63rmy"
   },
   "source": [
    "**리스트**<font size=\"2\">list</font>는 파이썬에서 사용할 수 있는 **임의의** 값들을 모아서 하나의 값으로 취급하는 자료형으로, 리스트의 형식은 다음과 같다.  \n",
    "\n",
    "> [항목1, 항목2, 항목3, ..., 항목n]\n",
    "\n",
    "대괄호(`[]`)를 사용하고, 각 항목은 콤마(,)로 구분한다. \n",
    "\n"
   ]
  },
  {
   "cell_type": "markdown",
   "metadata": {
    "id": "2sCm-zDb4lAN"
   },
   "source": [
    "예를 들어, 1부터 10이하의 짝수를 담은 리스트 `even_numbers`를 만드는 코드는 아래와 같다."
   ]
  },
  {
   "cell_type": "code",
   "execution_count": null,
   "metadata": {
    "id": "diYqDYI54xx3"
   },
   "outputs": [],
   "source": [
    "even_numbers = [2, 4, 6, 8, 10]"
   ]
  },
  {
   "cell_type": "markdown",
   "metadata": {
    "id": "vCeU8NCz6n-v"
   },
   "source": [
    "비슷하게, 문자열 a, b, c를 담은 리스트 `list_abc`는 아래와 같다."
   ]
  },
  {
   "cell_type": "code",
   "execution_count": null,
   "metadata": {
    "id": "WNi2hqvu-shf"
   },
   "outputs": [],
   "source": [
    "list_abc = ['a', 'b', 'c']"
   ]
  },
  {
   "cell_type": "markdown",
   "metadata": {
    "id": "H-XyY79o1ykk"
   },
   "source": [
    "\n",
    "\n",
    "리스트는 아래와 같이 서로 다른 자료형의 항목들을 포함할 수 있지만, 항목들이 모두 같은 자료형인 경우를 많이 사용한다. "
   ]
  },
  {
   "cell_type": "code",
   "execution_count": null,
   "metadata": {
    "colab": {
     "base_uri": "https://localhost:8080/"
    },
    "executionInfo": {
     "elapsed": 851,
     "status": "ok",
     "timestamp": 1617258435644,
     "user": {
      "displayName": "HJ Kim",
      "photoUrl": "",
      "userId": "16634276932240017990"
     },
     "user_tz": -540
    },
    "id": "TRF_4j_zwctJ",
    "outputId": "b562abdb-9a8b-4fdf-dcd2-6fdab61ed766"
   },
   "outputs": [
    {
     "data": {
      "text/plain": [
       "[1, 3.5, 'abc', True, [1, 2]]"
      ]
     },
     "execution_count": 3,
     "metadata": {
      "tags": []
     },
     "output_type": "execute_result"
    }
   ],
   "source": [
    "mixed_list = [1, 3.5, \"abc\", True, [1, 2]]\n",
    "mixed_list"
   ]
  },
  {
   "cell_type": "markdown",
   "metadata": {
    "id": "icMCiog2BlxR"
   },
   "source": [
    "참고) 리스트는 중첩을 허용한다. 위의 `mixed_list`의 다섯째 항목은 리스트`[1, 2]` 이다. "
   ]
  },
  {
   "cell_type": "markdown",
   "metadata": {
    "id": "0uFI7RQg8PM0"
   },
   "source": [
    "리스트에 포함된 항목들 사이의 순서는 중요하다. 리스트 항목의 순서 또는 개수가 다르면 서로 다른 것으로 처리된다."
   ]
  },
  {
   "cell_type": "code",
   "execution_count": null,
   "metadata": {
    "colab": {
     "base_uri": "https://localhost:8080/"
    },
    "executionInfo": {
     "elapsed": 1251,
     "status": "ok",
     "timestamp": 1617258436054,
     "user": {
      "displayName": "HJ Kim",
      "photoUrl": "",
      "userId": "16634276932240017990"
     },
     "user_tz": -540
    },
    "id": "Nag8v6kE8cDS",
    "outputId": "8fdf87f7-1fc1-4847-a84f-76ce6d0ee407"
   },
   "outputs": [
    {
     "data": {
      "text/plain": [
       "False"
      ]
     },
     "execution_count": 4,
     "metadata": {
      "tags": []
     },
     "output_type": "execute_result"
    }
   ],
   "source": [
    "[1, 2] == [2, 1]"
   ]
  },
  {
   "cell_type": "code",
   "execution_count": null,
   "metadata": {
    "colab": {
     "base_uri": "https://localhost:8080/"
    },
    "executionInfo": {
     "elapsed": 1240,
     "status": "ok",
     "timestamp": 1617258436055,
     "user": {
      "displayName": "HJ Kim",
      "photoUrl": "",
      "userId": "16634276932240017990"
     },
     "user_tz": -540
    },
    "id": "t5m_GhDY8fjb",
    "outputId": "e94a0557-2fdd-481b-d0dd-6d94f9e104e6"
   },
   "outputs": [
    {
     "data": {
      "text/plain": [
       "False"
      ]
     },
     "execution_count": 5,
     "metadata": {
      "tags": []
     },
     "output_type": "execute_result"
    }
   ],
   "source": [
    "[1] == [1, 1]"
   ]
  },
  {
   "cell_type": "markdown",
   "metadata": {
    "id": "YF8bBknU--kZ"
   },
   "source": [
    "## 리스트 연산\n",
    "\n",
    "리스트는 사칙연산 중 덧셈과 곱셈 연산자를 사용할 수 있다. "
   ]
  },
  {
   "cell_type": "code",
   "execution_count": null,
   "metadata": {
    "colab": {
     "base_uri": "https://localhost:8080/"
    },
    "executionInfo": {
     "elapsed": 1228,
     "status": "ok",
     "timestamp": 1617258436056,
     "user": {
      "displayName": "HJ Kim",
      "photoUrl": "",
      "userId": "16634276932240017990"
     },
     "user_tz": -540
    },
    "id": "Qh-BCvQb3Aij",
    "outputId": "992a6913-c25b-488b-a9b5-c61b26336fcf"
   },
   "outputs": [
    {
     "data": {
      "text/plain": [
       "[1, 2, 2, 3, 4]"
      ]
     },
     "execution_count": 6,
     "metadata": {
      "tags": []
     },
     "output_type": "execute_result"
    }
   ],
   "source": [
    "[1, 2] + [2, 3, 4]"
   ]
  },
  {
   "cell_type": "code",
   "execution_count": null,
   "metadata": {
    "colab": {
     "base_uri": "https://localhost:8080/"
    },
    "executionInfo": {
     "elapsed": 1050,
     "status": "ok",
     "timestamp": 1617258436434,
     "user": {
      "displayName": "HJ Kim",
      "photoUrl": "",
      "userId": "16634276932240017990"
     },
     "user_tz": -540
    },
    "id": "QZO1Ps0d_YQ0",
    "outputId": "456bc398-672d-418a-b7a0-84cf4b3a7a54"
   },
   "outputs": [
    {
     "data": {
      "text/plain": [
       "[1, 2, 3, 1, 2, 3, 1, 2, 3]"
      ]
     },
     "execution_count": 7,
     "metadata": {
      "tags": []
     },
     "output_type": "execute_result"
    }
   ],
   "source": [
    "[1, 2, 3] * 3"
   ]
  },
  {
   "cell_type": "markdown",
   "metadata": {
    "id": "Otp1qMAv_kIy"
   },
   "source": [
    "## 리스트의 길이\n",
    "\n",
    "리스트의 길이는 `len()` 함수를 이용하여 확인할 수 있다. "
   ]
  },
  {
   "cell_type": "code",
   "execution_count": null,
   "metadata": {
    "colab": {
     "base_uri": "https://localhost:8080/"
    },
    "executionInfo": {
     "elapsed": 640,
     "status": "ok",
     "timestamp": 1617258437002,
     "user": {
      "displayName": "HJ Kim",
      "photoUrl": "",
      "userId": "16634276932240017990"
     },
     "user_tz": -540
    },
    "id": "dlV9kyiM_aQR",
    "outputId": "a31fbf35-5c16-46ec-cf3e-b12c05bf1ef2"
   },
   "outputs": [
    {
     "data": {
      "text/plain": [
       "2"
      ]
     },
     "execution_count": 8,
     "metadata": {
      "tags": []
     },
     "output_type": "execute_result"
    }
   ],
   "source": [
    "len([1, 2])"
   ]
  },
  {
   "cell_type": "code",
   "execution_count": null,
   "metadata": {
    "colab": {
     "base_uri": "https://localhost:8080/"
    },
    "executionInfo": {
     "elapsed": 1004,
     "status": "ok",
     "timestamp": 1617258438086,
     "user": {
      "displayName": "HJ Kim",
      "photoUrl": "",
      "userId": "16634276932240017990"
     },
     "user_tz": -540
    },
    "id": "1D4MkKzE_3Rg",
    "outputId": "ba27ec83-2133-4df8-c432-365365f2a356"
   },
   "outputs": [
    {
     "data": {
      "text/plain": [
       "3"
      ]
     },
     "execution_count": 9,
     "metadata": {
      "tags": []
     },
     "output_type": "execute_result"
    }
   ],
   "source": [
    "list_abc = [\"a\", \"b\", \"c\"]\n",
    "len(list_abc)"
   ]
  },
  {
   "cell_type": "markdown",
   "metadata": {
    "id": "-9TN5pRmAq0N"
   },
   "source": [
    "## 리스트의 인덱싱과 슬라이싱\n",
    "\n",
    "리스트도 문자열처럼 인덱싱과 슬라이싱이 가능하다. "
   ]
  },
  {
   "cell_type": "markdown",
   "metadata": {
    "id": "gD9QqVz4GXoq"
   },
   "source": [
    "### 인덱싱"
   ]
  },
  {
   "cell_type": "markdown",
   "metadata": {
    "id": "h4Rlqmj6Pxb9"
   },
   "source": [
    "인덱스는 0부터 시작하며, 오른쪽으로 한 항목씩 이동할 때마다 증가한다.  \n",
    "\n",
    "예제를 통해 살펴보자."
   ]
  },
  {
   "cell_type": "code",
   "execution_count": null,
   "metadata": {
    "colab": {
     "base_uri": "https://localhost:8080/"
    },
    "executionInfo": {
     "elapsed": 728,
     "status": "ok",
     "timestamp": 1617258439601,
     "user": {
      "displayName": "HJ Kim",
      "photoUrl": "",
      "userId": "16634276932240017990"
     },
     "user_tz": -540
    },
    "id": "WSHXZWZlPYQt",
    "outputId": "1760bead-9ec4-47c7-b6c8-121797c56860"
   },
   "outputs": [
    {
     "data": {
      "text/plain": [
       "[1, 2, 3, 4, 5]"
      ]
     },
     "execution_count": 10,
     "metadata": {
      "tags": []
     },
     "output_type": "execute_result"
    }
   ],
   "source": [
    "a = [1, 2, 3, 4, 5]\n",
    "a"
   ]
  },
  {
   "cell_type": "markdown",
   "metadata": {
    "id": "Gw1PPpe-PdLH"
   },
   "source": [
    "특정 인덱스에 위치한 항목의 정보는 다음과 같이 확인한다. \n",
    "\n",
    "* 0번 인덱스 값, 즉 첫째 항목"
   ]
  },
  {
   "cell_type": "code",
   "execution_count": null,
   "metadata": {
    "colab": {
     "base_uri": "https://localhost:8080/"
    },
    "executionInfo": {
     "elapsed": 971,
     "status": "ok",
     "timestamp": 1617258441076,
     "user": {
      "displayName": "HJ Kim",
      "photoUrl": "",
      "userId": "16634276932240017990"
     },
     "user_tz": -540
    },
    "id": "MWy-RtfJQEr4",
    "outputId": "7869ef6c-6c90-4e02-ee9a-a692931baeda"
   },
   "outputs": [
    {
     "data": {
      "text/plain": [
       "1"
      ]
     },
     "execution_count": 11,
     "metadata": {
      "tags": []
     },
     "output_type": "execute_result"
    }
   ],
   "source": [
    "a[0]"
   ]
  },
  {
   "cell_type": "markdown",
   "metadata": {
    "id": "p4uLeWZyQGiH"
   },
   "source": [
    "* 1번 인덱스 값, 즉 둘째 항목"
   ]
  },
  {
   "cell_type": "code",
   "execution_count": null,
   "metadata": {
    "colab": {
     "base_uri": "https://localhost:8080/"
    },
    "executionInfo": {
     "elapsed": 636,
     "status": "ok",
     "timestamp": 1617258441841,
     "user": {
      "displayName": "HJ Kim",
      "photoUrl": "",
      "userId": "16634276932240017990"
     },
     "user_tz": -540
    },
    "id": "lfR9aZ7lQgg8",
    "outputId": "b3f7def7-c21f-45d2-90a7-2ba4d175782d"
   },
   "outputs": [
    {
     "data": {
      "text/plain": [
       "2"
      ]
     },
     "execution_count": 12,
     "metadata": {
      "tags": []
     },
     "output_type": "execute_result"
    }
   ],
   "source": [
    "a[1]"
   ]
  },
  {
   "cell_type": "markdown",
   "metadata": {
    "id": "kVIl7jL6Qisn"
   },
   "source": [
    "* -1번 인덱스 값, 즉 가장 오른쪽 항목"
   ]
  },
  {
   "cell_type": "code",
   "execution_count": null,
   "metadata": {
    "colab": {
     "base_uri": "https://localhost:8080/"
    },
    "executionInfo": {
     "elapsed": 548,
     "status": "ok",
     "timestamp": 1617258442769,
     "user": {
      "displayName": "HJ Kim",
      "photoUrl": "",
      "userId": "16634276932240017990"
     },
     "user_tz": -540
    },
    "id": "vqDCKLGsRB5H",
    "outputId": "6d63eba9-d506-442a-bd76-9853aa62ab6b"
   },
   "outputs": [
    {
     "data": {
      "text/plain": [
       "5"
      ]
     },
     "execution_count": 13,
     "metadata": {
      "tags": []
     },
     "output_type": "execute_result"
    }
   ],
   "source": [
    "a[-1]"
   ]
  },
  {
   "cell_type": "markdown",
   "metadata": {
    "id": "2huNl8BFREGv"
   },
   "source": [
    "등등.  \n",
    "\n",
    "문자열과 마찬가지로, 리스트의 길이보다 같거나 큰 인덱스를 사용하면 오류가 발생한다. 리스트의 길이는 `len()` 함수를 이용하여 확인할 수 있다."
   ]
  },
  {
   "cell_type": "markdown",
   "metadata": {},
   "source": [
    "```python\n",
    ">>> a[10]\n",
    "---------------------------------------------------------------------------\n",
    "IndexError                                Traceback (most recent call last)\n",
    "<ipython-input-14-7c7cb9812849> in <module>()\n",
    "----> 1 a[10]\n",
    "\n",
    "IndexError: list index out of range\n",
    "```"
   ]
  },
  {
   "cell_type": "markdown",
   "metadata": {
    "id": "BAio2wf5RkaE"
   },
   "source": [
    "0번 인덱스 값 `a[0]`와 2번 인덱스 값 `a[2]`를 더하고 싶다면 아래와 같이 하면 된다. \n"
   ]
  },
  {
   "cell_type": "code",
   "execution_count": null,
   "metadata": {
    "colab": {
     "base_uri": "https://localhost:8080/"
    },
    "executionInfo": {
     "elapsed": 591,
     "status": "ok",
     "timestamp": 1617258445661,
     "user": {
      "displayName": "HJ Kim",
      "photoUrl": "",
      "userId": "16634276932240017990"
     },
     "user_tz": -540
    },
    "id": "ycXlE0KkR76-",
    "outputId": "a45ba31c-1c2d-4967-dba6-2592a55c2f04"
   },
   "outputs": [
    {
     "data": {
      "text/plain": [
       "4"
      ]
     },
     "execution_count": 15,
     "metadata": {
      "tags": []
     },
     "output_type": "execute_result"
    }
   ],
   "source": [
    "a[0] + a[2]"
   ]
  },
  {
   "cell_type": "markdown",
   "metadata": {
    "id": "OqsPmCnxR-Yz"
   },
   "source": [
    "주의) `a[0]`와 `a[2]`의 자료형은 정수형으로 덧셈 연산이 가능하다."
   ]
  },
  {
   "cell_type": "code",
   "execution_count": null,
   "metadata": {
    "colab": {
     "base_uri": "https://localhost:8080/"
    },
    "executionInfo": {
     "elapsed": 638,
     "status": "ok",
     "timestamp": 1617258447169,
     "user": {
      "displayName": "HJ Kim",
      "photoUrl": "",
      "userId": "16634276932240017990"
     },
     "user_tz": -540
    },
    "id": "5C9rHSNHSHaF",
    "outputId": "876d6efe-fdfd-4074-d1eb-2d8b9f651bd9"
   },
   "outputs": [
    {
     "name": "stdout",
     "output_type": "stream",
     "text": [
      "<class 'int'>\n",
      "<class 'int'>\n"
     ]
    }
   ],
   "source": [
    "print(type(a[0]))\n",
    "print(type(a[2]))"
   ]
  },
  {
   "cell_type": "markdown",
   "metadata": {
    "id": "vu_Hjh_mXktI"
   },
   "source": [
    "````{prf:example}\n",
    ":label: list_ex01\n",
    "리스트는 중첩을 허용한다. 아래 리스트는 3중 리스트이다. \n",
    "\n",
    "`a_nested_list = [1, 2, [3, 4], [[5, 6, 7], 8]]`\n",
    "````"
   ]
  },
  {
   "cell_type": "markdown",
   "metadata": {},
   "source": [
    "* 위 리스트에서 2를 인덱스로 얻는 방법은?"
   ]
  },
  {
   "cell_type": "code",
   "execution_count": null,
   "metadata": {
    "colab": {
     "base_uri": "https://localhost:8080/"
    },
    "executionInfo": {
     "elapsed": 623,
     "status": "ok",
     "timestamp": 1617258448682,
     "user": {
      "displayName": "HJ Kim",
      "photoUrl": "",
      "userId": "16634276932240017990"
     },
     "user_tz": -540
    },
    "id": "1q8EcMN8YDeV",
    "outputId": "4affc197-6892-456b-a96d-3f97b14dce43"
   },
   "outputs": [
    {
     "data": {
      "text/plain": [
       "2"
      ]
     },
     "execution_count": 17,
     "metadata": {
      "tags": []
     },
     "output_type": "execute_result"
    }
   ],
   "source": [
    "a_nested_list = [1, 2, [3, 4], [[5, 6, 7], 8]]\n",
    "a_nested_list[1]"
   ]
  },
  {
   "cell_type": "markdown",
   "metadata": {
    "id": "-TAx5Qc9YHzP"
   },
   "source": [
    "* `[3, 4]`를 인덱스로 얻는 방법은?"
   ]
  },
  {
   "cell_type": "code",
   "execution_count": null,
   "metadata": {
    "colab": {
     "base_uri": "https://localhost:8080/"
    },
    "executionInfo": {
     "elapsed": 669,
     "status": "ok",
     "timestamp": 1617258450443,
     "user": {
      "displayName": "HJ Kim",
      "photoUrl": "",
      "userId": "16634276932240017990"
     },
     "user_tz": -540
    },
    "id": "1az89C2zYNYq",
    "outputId": "9e877e18-4cc9-48f2-acf1-1c484c1a2d3e"
   },
   "outputs": [
    {
     "data": {
      "text/plain": [
       "[3, 4]"
      ]
     },
     "execution_count": 18,
     "metadata": {
      "tags": []
     },
     "output_type": "execute_result"
    }
   ],
   "source": [
    "a_nested_list[2]"
   ]
  },
  {
   "cell_type": "markdown",
   "metadata": {
    "id": "c9Pa_heIYR6V"
   },
   "source": [
    "* `3`을 인덱스로 얻는 방법은?"
   ]
  },
  {
   "cell_type": "markdown",
   "metadata": {
    "id": "NZHHurscYwQS"
   },
   "source": [
    "인덱스를 연속해서 적용하면 된다."
   ]
  },
  {
   "cell_type": "code",
   "execution_count": null,
   "metadata": {
    "colab": {
     "base_uri": "https://localhost:8080/"
    },
    "executionInfo": {
     "elapsed": 592,
     "status": "ok",
     "timestamp": 1617258452307,
     "user": {
      "displayName": "HJ Kim",
      "photoUrl": "",
      "userId": "16634276932240017990"
     },
     "user_tz": -540
    },
    "id": "rzUTWiG9YV1D",
    "outputId": "8f49fad8-10d4-4906-ba22-6241b245bec3"
   },
   "outputs": [
    {
     "data": {
      "text/plain": [
       "3"
      ]
     },
     "execution_count": 19,
     "metadata": {
      "tags": []
     },
     "output_type": "execute_result"
    }
   ],
   "source": [
    "a_nested_list[2][0]"
   ]
  },
  {
   "cell_type": "markdown",
   "metadata": {
    "id": "dCXcmRcLYcM4"
   },
   "source": [
    "* `[5, 6, 7]`을 인덱스로 얻는 방법은?"
   ]
  },
  {
   "cell_type": "code",
   "execution_count": null,
   "metadata": {
    "colab": {
     "base_uri": "https://localhost:8080/"
    },
    "executionInfo": {
     "elapsed": 688,
     "status": "ok",
     "timestamp": 1617258453587,
     "user": {
      "displayName": "HJ Kim",
      "photoUrl": "",
      "userId": "16634276932240017990"
     },
     "user_tz": -540
    },
    "id": "5vBAF9P0YiBH",
    "outputId": "aa38179d-0316-41a7-ce29-1db8452f4491"
   },
   "outputs": [
    {
     "data": {
      "text/plain": [
       "[5, 6, 7]"
      ]
     },
     "execution_count": 20,
     "metadata": {
      "tags": []
     },
     "output_type": "execute_result"
    }
   ],
   "source": [
    "a_nested_list[3][0]"
   ]
  },
  {
   "cell_type": "markdown",
   "metadata": {
    "id": "aO68JbV1Ylc6"
   },
   "source": [
    "* `7`을 인덱스로 얻는 방법은?"
   ]
  },
  {
   "cell_type": "code",
   "execution_count": null,
   "metadata": {
    "colab": {
     "base_uri": "https://localhost:8080/"
    },
    "executionInfo": {
     "elapsed": 793,
     "status": "ok",
     "timestamp": 1617258454891,
     "user": {
      "displayName": "HJ Kim",
      "photoUrl": "",
      "userId": "16634276932240017990"
     },
     "user_tz": -540
    },
    "id": "BJfqNXJ0YprI",
    "outputId": "683a4744-8b81-40b9-96cc-c73e3ba3bcfd"
   },
   "outputs": [
    {
     "data": {
      "text/plain": [
       "7"
      ]
     },
     "execution_count": 21,
     "metadata": {
      "tags": []
     },
     "output_type": "execute_result"
    }
   ],
   "source": [
    "a_nested_list[3][0][2]"
   ]
  },
  {
   "cell_type": "markdown",
   "metadata": {
    "id": "JR_xNZnhZu-6"
   },
   "source": [
    "**빈 리스트**  \n",
    "빈 리스트는 아무 것도 포함하지 않는 리스트를 의미한다. \n",
    "빈 리스트는 아래와 같이 작성할 수 있다. "
   ]
  },
  {
   "cell_type": "code",
   "execution_count": null,
   "metadata": {
    "id": "aU03mCx_aReC"
   },
   "outputs": [],
   "source": [
    "empty_list = []\n",
    "empty_list1 = list()"
   ]
  },
  {
   "cell_type": "markdown",
   "metadata": {
    "id": "1pfBhm34agNf"
   },
   "source": [
    "빈 리스트의 길이는 0이다."
   ]
  },
  {
   "cell_type": "code",
   "execution_count": null,
   "metadata": {
    "colab": {
     "base_uri": "https://localhost:8080/"
    },
    "executionInfo": {
     "elapsed": 575,
     "status": "ok",
     "timestamp": 1617258458341,
     "user": {
      "displayName": "HJ Kim",
      "photoUrl": "",
      "userId": "16634276932240017990"
     },
     "user_tz": -540
    },
    "id": "r0qgNQZzaytH",
    "outputId": "20342f97-2ebd-42f5-f5b5-0a2e574b6bcf"
   },
   "outputs": [
    {
     "data": {
      "text/plain": [
       "0"
      ]
     },
     "execution_count": 23,
     "metadata": {
      "tags": []
     },
     "output_type": "execute_result"
    }
   ],
   "source": [
    "len(empty_list)"
   ]
  },
  {
   "cell_type": "markdown",
   "metadata": {
    "id": "aiWQKsEMa1dk"
   },
   "source": [
    "빈 리스트는 아무 것도 포함하지 않는다. 따라서 0번 인덱스 값도 없다.  \n",
    "\n",
    "```python\n",
    ">>> empty_list[0]\n",
    "---------------------------------------------------------------------------\n",
    "IndexError                                Traceback (most recent call last)\n",
    "<ipython-input-24-dcfcc1be2c42> in <module>()\n",
    "----> 1 empty_list[0]\n",
    "\n",
    "IndexError: list index out of range\n",
    "```"
   ]
  },
  {
   "cell_type": "markdown",
   "metadata": {
    "id": "5jff3Yz0a-hQ"
   },
   "source": [
    "주의) 반면에 아래 리스트는 빈 리스트가 아니다."
   ]
  },
  {
   "cell_type": "code",
   "execution_count": null,
   "metadata": {
    "id": "0-024NzibBtB"
   },
   "outputs": [],
   "source": [
    "a_singleton = [[]]"
   ]
  },
  {
   "cell_type": "markdown",
   "metadata": {
    "id": "VASOdgugbE82"
   },
   "source": [
    "위 리스트는 빈 리스트를 포함한 리스트이다. 따라서 길이가 1이다. "
   ]
  },
  {
   "cell_type": "code",
   "execution_count": null,
   "metadata": {
    "colab": {
     "base_uri": "https://localhost:8080/"
    },
    "executionInfo": {
     "elapsed": 572,
     "status": "ok",
     "timestamp": 1617258464253,
     "user": {
      "displayName": "HJ Kim",
      "photoUrl": "",
      "userId": "16634276932240017990"
     },
     "user_tz": -540
    },
    "id": "FPhaPEUxbIlq",
    "outputId": "f4ceb289-1312-48e6-c3c0-31dd66bb7f25"
   },
   "outputs": [
    {
     "data": {
      "text/plain": [
       "1"
      ]
     },
     "execution_count": 26,
     "metadata": {
      "tags": []
     },
     "output_type": "execute_result"
    }
   ],
   "source": [
    "len(a_singleton)"
   ]
  },
  {
   "cell_type": "markdown",
   "metadata": {
    "id": "hzrhpG8cbLMK"
   },
   "source": [
    "포함된 유일한 항목은 빈 리스트이다."
   ]
  },
  {
   "cell_type": "code",
   "execution_count": null,
   "metadata": {
    "colab": {
     "base_uri": "https://localhost:8080/"
    },
    "executionInfo": {
     "elapsed": 675,
     "status": "ok",
     "timestamp": 1617258465964,
     "user": {
      "displayName": "HJ Kim",
      "photoUrl": "",
      "userId": "16634276932240017990"
     },
     "user_tz": -540
    },
    "id": "p0IVsSVxbOEv",
    "outputId": "c1f10d6a-fcdd-4a64-df64-4c6e3a568fba"
   },
   "outputs": [
    {
     "data": {
      "text/plain": [
       "[]"
      ]
     },
     "execution_count": 27,
     "metadata": {
      "tags": []
     },
     "output_type": "execute_result"
    }
   ],
   "source": [
    "a_singleton[0]"
   ]
  },
  {
   "cell_type": "markdown",
   "metadata": {
    "id": "H5w2jKqx5ugm"
   },
   "source": [
    "[note] `list()` 함수의 인자로 문자열을 넣으면, 각 문자를 항목으로 갖는 리스트를 반환한다. "
   ]
  },
  {
   "cell_type": "code",
   "execution_count": null,
   "metadata": {
    "colab": {
     "base_uri": "https://localhost:8080/"
    },
    "executionInfo": {
     "elapsed": 6,
     "status": "ok",
     "timestamp": 1625106653588,
     "user": {
      "displayName": "HJ Kim",
      "photoUrl": "",
      "userId": "16634276932240017990"
     },
     "user_tz": -540
    },
    "id": "NCcd7WEj52lC",
    "outputId": "5ba6c75d-72f4-4f4c-bc86-6a444647d6f7"
   },
   "outputs": [
    {
     "data": {
      "text/plain": [
       "['a', 'b', 'c', 'd', 'e']"
      ]
     },
     "execution_count": 1,
     "metadata": {
      "tags": []
     },
     "output_type": "execute_result"
    }
   ],
   "source": [
    "list('abcde')"
   ]
  },
  {
   "cell_type": "markdown",
   "metadata": {
    "id": "_Xli61sAGZ3B"
   },
   "source": [
    "### 슬라이싱"
   ]
  },
  {
   "cell_type": "markdown",
   "metadata": {
    "id": "DsAX6swOZTmO"
   },
   "source": [
    "문자열과 마찬가지로 리스트에서도 슬라이싱을 할 수 있다. 사용법도 동일하다.  \n",
    "예제를 통해서 살펴보자. "
   ]
  },
  {
   "cell_type": "code",
   "execution_count": null,
   "metadata": {
    "colab": {
     "base_uri": "https://localhost:8080/"
    },
    "executionInfo": {
     "elapsed": 573,
     "status": "ok",
     "timestamp": 1617258467921,
     "user": {
      "displayName": "HJ Kim",
      "photoUrl": "",
      "userId": "16634276932240017990"
     },
     "user_tz": -540
    },
    "id": "EUkc_X67f2lw",
    "outputId": "a55f0e63-977f-4627-eb95-4d3f7476f49b"
   },
   "outputs": [
    {
     "data": {
      "text/plain": [
       "[1, 2]"
      ]
     },
     "execution_count": 28,
     "metadata": {
      "tags": []
     },
     "output_type": "execute_result"
    }
   ],
   "source": [
    "a = [1, 2, 3, 4, 5]\n",
    "\n",
    "a[0 : 2] # 처음부터 2번 인덱스 전까지 추출"
   ]
  },
  {
   "cell_type": "code",
   "execution_count": null,
   "metadata": {
    "colab": {
     "base_uri": "https://localhost:8080/"
    },
    "executionInfo": {
     "elapsed": 893,
     "status": "ok",
     "timestamp": 1617258469057,
     "user": {
      "displayName": "HJ Kim",
      "photoUrl": "",
      "userId": "16634276932240017990"
     },
     "user_tz": -540
    },
    "id": "DkoSWqSuh52L",
    "outputId": "1f8dfcf2-c0f8-4097-b9c7-9d918e8b8763"
   },
   "outputs": [
    {
     "name": "stdout",
     "output_type": "stream",
     "text": [
      "[1, 2]\n",
      "<class 'list'>\n"
     ]
    }
   ],
   "source": [
    "b = a[0 : 2]  # 변수 b에 할당\n",
    "print(b)\n",
    "print(type(b))  # 자료형은 리스트"
   ]
  },
  {
   "cell_type": "code",
   "execution_count": null,
   "metadata": {
    "colab": {
     "base_uri": "https://localhost:8080/"
    },
    "executionInfo": {
     "elapsed": 555,
     "status": "ok",
     "timestamp": 1617258469807,
     "user": {
      "displayName": "HJ Kim",
      "photoUrl": "",
      "userId": "16634276932240017990"
     },
     "user_tz": -540
    },
    "id": "s0_qQOCciFh5",
    "outputId": "069980c4-e4b1-4a84-e053-80e9b54de980"
   },
   "outputs": [
    {
     "data": {
      "text/plain": [
       "[3, 4, 5]"
      ]
     },
     "execution_count": 30,
     "metadata": {
      "tags": []
     },
     "output_type": "execute_result"
    }
   ],
   "source": [
    "a[2 : ]  # 2번 인덱스부터 끝까지 추출"
   ]
  },
  {
   "cell_type": "code",
   "execution_count": null,
   "metadata": {
    "colab": {
     "base_uri": "https://localhost:8080/"
    },
    "executionInfo": {
     "elapsed": 610,
     "status": "ok",
     "timestamp": 1617258470781,
     "user": {
      "displayName": "HJ Kim",
      "photoUrl": "",
      "userId": "16634276932240017990"
     },
     "user_tz": -540
    },
    "id": "mU_LymNhiKln",
    "outputId": "ebb6b648-27ee-442d-c85c-efa16aa209d7"
   },
   "outputs": [
    {
     "data": {
      "text/plain": [
       "[1, 2]"
      ]
     },
     "execution_count": 31,
     "metadata": {
      "tags": []
     },
     "output_type": "execute_result"
    }
   ],
   "source": [
    "a[ : 2]  # 처음부터 2번 인덱스 전까지 추출"
   ]
  },
  {
   "cell_type": "markdown",
   "metadata": {
    "id": "8VzG1eNUiBHK"
   },
   "source": [
    "중첩 리스트에서도 슬라이싱 방법은 똑같이 적용된다. "
   ]
  },
  {
   "cell_type": "code",
   "execution_count": null,
   "metadata": {
    "colab": {
     "base_uri": "https://localhost:8080/"
    },
    "executionInfo": {
     "elapsed": 599,
     "status": "ok",
     "timestamp": 1617258473325,
     "user": {
      "displayName": "HJ Kim",
      "photoUrl": "",
      "userId": "16634276932240017990"
     },
     "user_tz": -540
    },
    "id": "l10JyPJ6ifqM",
    "outputId": "fcada4c1-238d-45b2-8ff3-355c3b55f720"
   },
   "outputs": [
    {
     "data": {
      "text/plain": [
       "[2, [3, 4]]"
      ]
     },
     "execution_count": 32,
     "metadata": {
      "tags": []
     },
     "output_type": "execute_result"
    }
   ],
   "source": [
    "c = [1, 2, [3, 4], [[5, 6], 7, 8, 9]]\n",
    "c[1 : 3] # 1번 인덱스 값과 2번 인덱스 값을 포함한 리스트 "
   ]
  },
  {
   "cell_type": "code",
   "execution_count": null,
   "metadata": {
    "colab": {
     "base_uri": "https://localhost:8080/"
    },
    "executionInfo": {
     "elapsed": 927,
     "status": "ok",
     "timestamp": 1617258474673,
     "user": {
      "displayName": "HJ Kim",
      "photoUrl": "",
      "userId": "16634276932240017990"
     },
     "user_tz": -540
    },
    "id": "6b2pxPpbi-8-",
    "outputId": "3e25effe-9313-46a7-a593-dea54e52ae60"
   },
   "outputs": [
    {
     "data": {
      "text/plain": [
       "[8, 9]"
      ]
     },
     "execution_count": 33,
     "metadata": {
      "tags": []
     },
     "output_type": "execute_result"
    }
   ],
   "source": [
    "c[3][2: ] # c[3]은 [[5, 6], 7, 8, 9]이다."
   ]
  },
  {
   "cell_type": "markdown",
   "metadata": {
    "id": "gHnf318WHPvq"
   },
   "source": [
    "## 가변 자료형\n",
    "\n",
    "파이썬의 문자열 자료형의 값들은 한 번 정해지면 변경이 불가능하다. 반면 리스트는 수정 가능하다. 이러한 자료형을 가변자료형이라 부른다. \n",
    "\n",
    "예를 들어, 앞에서 배운 인덱싱과 슬라이싱을 사용하여 수정할 수 있다. "
   ]
  },
  {
   "cell_type": "code",
   "execution_count": null,
   "metadata": {
    "colab": {
     "base_uri": "https://localhost:8080/"
    },
    "executionInfo": {
     "elapsed": 906,
     "status": "ok",
     "timestamp": 1617258476535,
     "user": {
      "displayName": "HJ Kim",
      "photoUrl": "",
      "userId": "16634276932240017990"
     },
     "user_tz": -540
    },
    "id": "Ar3dw4LKxjaz",
    "outputId": "8a06e1dc-1448-487a-9d7e-ae3fde6fa229"
   },
   "outputs": [
    {
     "data": {
      "text/plain": [
       "[1, 2, 3, 4, 5]"
      ]
     },
     "execution_count": 34,
     "metadata": {
      "tags": []
     },
     "output_type": "execute_result"
    }
   ],
   "source": [
    "a = [1, 2, 3, 4, 5]\n",
    "a"
   ]
  },
  {
   "cell_type": "markdown",
   "metadata": {
    "id": "RdXtHrS4zOKu"
   },
   "source": [
    "인덱싱을 사용하여 아래와 같이 `a[1]`을 `2`에서 `10`으로 변경할 수 있다. "
   ]
  },
  {
   "cell_type": "code",
   "execution_count": null,
   "metadata": {
    "colab": {
     "base_uri": "https://localhost:8080/"
    },
    "executionInfo": {
     "elapsed": 882,
     "status": "ok",
     "timestamp": 1617258478753,
     "user": {
      "displayName": "HJ Kim",
      "photoUrl": "",
      "userId": "16634276932240017990"
     },
     "user_tz": -540
    },
    "id": "_J389lNIzMlF",
    "outputId": "ac479d02-4072-430f-da7a-a17b0349e2b2"
   },
   "outputs": [
    {
     "data": {
      "text/plain": [
       "[1, 10, 3, 4, 5]"
      ]
     },
     "execution_count": 35,
     "metadata": {
      "tags": []
     },
     "output_type": "execute_result"
    }
   ],
   "source": [
    "a[1] = 10\n",
    "a"
   ]
  },
  {
   "cell_type": "markdown",
   "metadata": {
    "id": "8KV2MHBu0Ban"
   },
   "source": [
    "슬라이싱을 사용하여 2번 인덱스 값부터 4번 인덱스 값 전까지를 11과 12로 변경해보자. "
   ]
  },
  {
   "cell_type": "code",
   "execution_count": null,
   "metadata": {
    "colab": {
     "base_uri": "https://localhost:8080/"
    },
    "executionInfo": {
     "elapsed": 573,
     "status": "ok",
     "timestamp": 1617258481040,
     "user": {
      "displayName": "HJ Kim",
      "photoUrl": "",
      "userId": "16634276932240017990"
     },
     "user_tz": -540
    },
    "id": "grIMmDM2zxa9",
    "outputId": "f3ec402c-6942-4a84-f1e6-aaab8dd259b5"
   },
   "outputs": [
    {
     "data": {
      "text/plain": [
       "[1, 10, 11, 12, 5]"
      ]
     },
     "execution_count": 36,
     "metadata": {
      "tags": []
     },
     "output_type": "execute_result"
    }
   ],
   "source": [
    "a[2:4] = [11, 12]\n",
    "a"
   ]
  },
  {
   "cell_type": "markdown",
   "metadata": {
    "id": "S5WTsqCw46ly"
   },
   "source": [
    "한편, 슬라이싱을 사용하여 2번 인덱스 값부터 5번 인덱스 값 전까지를 11과 12로 변경하면, 아래와 같다."
   ]
  },
  {
   "cell_type": "code",
   "execution_count": null,
   "metadata": {
    "colab": {
     "base_uri": "https://localhost:8080/"
    },
    "executionInfo": {
     "elapsed": 711,
     "status": "ok",
     "timestamp": 1617258482935,
     "user": {
      "displayName": "HJ Kim",
      "photoUrl": "",
      "userId": "16634276932240017990"
     },
     "user_tz": -540
    },
    "id": "AB-kmryy463s",
    "outputId": "4c2bf276-b72c-4637-f66c-a2b773f7b06c"
   },
   "outputs": [
    {
     "data": {
      "text/plain": [
       "[1, 2, 11, 12]"
      ]
     },
     "execution_count": 37,
     "metadata": {
      "tags": []
     },
     "output_type": "execute_result"
    }
   ],
   "source": [
    "a = [1, 2, 3, 4, 5]\n",
    "a[2 : 5] = [11, 12]\n",
    "a"
   ]
  },
  {
   "cell_type": "markdown",
   "metadata": {},
   "source": [
    ":::{admonition} 주의  \n",
    ":class: caution  \n",
    "문자열은 인덱싱과 슬라이싱을 사용하여 값을 변경할 수 없다.\n",
    "```python\n",
    ">>> a_word = \"hello\"\n",
    ">>> print(a_word[0])\n",
    "h\n",
    ">>> a_word[0] = \"H\"\n",
    "---------------------------------------------------------------------------\n",
    "TypeError                                 Traceback (most recent call last)\n",
    "<ipython-input-39-f2dd4f08a29e> in <module>()\n",
    "----> 1 a_word[0] = \"H\"\n",
    "\n",
    "TypeError: 'str' object does not support item assignment\n",
    "```\n",
    ":::\n"
   ]
  },
  {
   "cell_type": "markdown",
   "metadata": {
    "id": "JKbBQWvIGf2o"
   },
   "source": [
    "**인덱싱과 슬라이싱의 차이**\n",
    "\n",
    "인덱싱과 슬라이싱은 작동방식이 다르다. 예제를 통해 살펴보자.  \n",
    "\n",
    "동물들의 리스트 `animals`를 아래와 같이 정의하자."
   ]
  },
  {
   "cell_type": "code",
   "execution_count": null,
   "metadata": {
    "id": "ffE7tjnH__Ty"
   },
   "outputs": [],
   "source": [
    "animals = ['dog', 'cat', 'pig']"
   ]
  },
  {
   "cell_type": "markdown",
   "metadata": {
    "id": "2DBbM_0g64wf"
   },
   "source": [
    "이제 인덱싱을 사용하여 1번 인덱스 값으로 `cat` 대신 새로운 리스트인 `['tiger', 'lion', 'rabbit']`를 지정해보자. "
   ]
  },
  {
   "cell_type": "code",
   "execution_count": null,
   "metadata": {
    "id": "A3Vu52Ji7DAx"
   },
   "outputs": [],
   "source": [
    "animals[1] = ['tiger', 'lion', 'rabbit']"
   ]
  },
  {
   "cell_type": "markdown",
   "metadata": {
    "id": "zCFuzcJB7TbM"
   },
   "source": [
    "그러면 `animals`는 2중 리스트가 된다."
   ]
  },
  {
   "cell_type": "code",
   "execution_count": null,
   "metadata": {
    "colab": {
     "base_uri": "https://localhost:8080/"
    },
    "executionInfo": {
     "elapsed": 568,
     "status": "ok",
     "timestamp": 1617258492270,
     "user": {
      "displayName": "HJ Kim",
      "photoUrl": "",
      "userId": "16634276932240017990"
     },
     "user_tz": -540
    },
    "id": "RaqR2knF7Xfo",
    "outputId": "d4d7ed88-455c-428c-c190-067c007303c6"
   },
   "outputs": [
    {
     "data": {
      "text/plain": [
       "['dog', ['tiger', 'lion', 'rabbit'], 'pig']"
      ]
     },
     "execution_count": 42,
     "metadata": {
      "tags": []
     },
     "output_type": "execute_result"
    }
   ],
   "source": [
    "animals"
   ]
  },
  {
   "cell_type": "markdown",
   "metadata": {
    "id": "Wo4Udr4s7Y71"
   },
   "source": [
    "반면에 아래와 같이 슬라이싱을 사용하면 전혀 다른 결과를 얻는다."
   ]
  },
  {
   "cell_type": "code",
   "execution_count": null,
   "metadata": {
    "id": "1J7cumCX7chs"
   },
   "outputs": [],
   "source": [
    "animals = ['dog', 'cat', 'pig']\n",
    "animals[1:2] = ['tiger', 'lion', 'rabbit']"
   ]
  },
  {
   "cell_type": "markdown",
   "metadata": {
    "id": "LVWop_FH7kH7"
   },
   "source": [
    "슬라이싱을 활용하면 2중 리스트 대신에 확장된 리스트를 얻게 된다."
   ]
  },
  {
   "cell_type": "code",
   "execution_count": null,
   "metadata": {
    "colab": {
     "base_uri": "https://localhost:8080/"
    },
    "executionInfo": {
     "elapsed": 616,
     "status": "ok",
     "timestamp": 1617258496168,
     "user": {
      "displayName": "HJ Kim",
      "photoUrl": "",
      "userId": "16634276932240017990"
     },
     "user_tz": -540
    },
    "id": "nuKuE0UW7ost",
    "outputId": "95cf9419-5eee-446c-9418-65910d80f646"
   },
   "outputs": [
    {
     "data": {
      "text/plain": [
       "['dog', 'tiger', 'lion', 'rabbit', 'pig']"
      ]
     },
     "execution_count": 44,
     "metadata": {
      "tags": []
     },
     "output_type": "execute_result"
    }
   ],
   "source": [
    "animals"
   ]
  },
  {
   "cell_type": "markdown",
   "metadata": {
    "id": "QVVD21N67rNo"
   },
   "source": [
    "슬라이싱을 활용하여 특정 항목을 삭제할 수도 있다. 예를 들어, 2번과 3번 인덱스 값인 `tiger`와 `lion`을 삭제하고 싶다면 아래와 같이 할 수 있다. "
   ]
  },
  {
   "cell_type": "code",
   "execution_count": null,
   "metadata": {
    "colab": {
     "base_uri": "https://localhost:8080/"
    },
    "executionInfo": {
     "elapsed": 554,
     "status": "ok",
     "timestamp": 1617258498364,
     "user": {
      "displayName": "HJ Kim",
      "photoUrl": "",
      "userId": "16634276932240017990"
     },
     "user_tz": -540
    },
    "id": "MpG5yiiA73rS",
    "outputId": "589b2b1f-f314-48c9-8605-36242c3e8009"
   },
   "outputs": [
    {
     "data": {
      "text/plain": [
       "['dog', 'tiger', 'pig']"
      ]
     },
     "execution_count": 45,
     "metadata": {
      "tags": []
     },
     "output_type": "execute_result"
    }
   ],
   "source": [
    "animals[2:4] = []\n",
    "animals"
   ]
  },
  {
   "cell_type": "markdown",
   "metadata": {
    "id": "jjV4BUawGo15"
   },
   "source": [
    "## 리스트 관련 메서드\n",
    "\n",
    "여기서는 많이 사용되는 리스트와 관련된 메서드를 몇 개 소개한다.\n",
    "\n",
    "* `append()`\n",
    "* `extend()`\n",
    "* `remove()`\n",
    "* `index()`\n",
    "* `pop()`\n",
    "* `insert()`\n",
    "* `reverse()`\n",
    "* `sort()`\n",
    "* `count()`\n",
    "\n",
    "그리고 `del` 명령문을 소개한다. "
   ]
  },
  {
   "cell_type": "markdown",
   "metadata": {
    "id": "WxENDylQ9QQ5"
   },
   "source": [
    "예제를 통해 각 메서드의 활용법을 간략하게 확인한다.  \n",
    "먼저, `animals` 변수에 동물들을 저장한다."
   ]
  },
  {
   "cell_type": "code",
   "execution_count": null,
   "metadata": {
    "id": "JzUA_d-B9Y1D"
   },
   "outputs": [],
   "source": [
    "animals = ['dog', 'cat', 'pig']"
   ]
  },
  {
   "cell_type": "markdown",
   "metadata": {
    "id": "M2QHLg8P9hEp"
   },
   "source": [
    "* `append()` 메서드는 리스트의 끝에 항목을 하나 추가한다. "
   ]
  },
  {
   "cell_type": "code",
   "execution_count": null,
   "metadata": {
    "colab": {
     "base_uri": "https://localhost:8080/"
    },
    "executionInfo": {
     "elapsed": 578,
     "status": "ok",
     "timestamp": 1617258505411,
     "user": {
      "displayName": "HJ Kim",
      "photoUrl": "",
      "userId": "16634276932240017990"
     },
     "user_tz": -540
    },
    "id": "9BS2Pn199sw-",
    "outputId": "6c36f019-a714-459a-a365-a8d7580308aa"
   },
   "outputs": [
    {
     "data": {
      "text/plain": [
       "['dog', 'cat', 'pig', 'tiger']"
      ]
     },
     "execution_count": 47,
     "metadata": {
      "tags": []
     },
     "output_type": "execute_result"
    }
   ],
   "source": [
    "animals.append('tiger')\n",
    "animals"
   ]
  },
  {
   "cell_type": "markdown",
   "metadata": {
    "id": "coVumJfu92xw"
   },
   "source": [
    "주의) 동시에 여러 개의 항목을 추가할 때 `append()` 메서드를 아래처럼 이용하면 된다고 생각하면 안된다. "
   ]
  },
  {
   "cell_type": "code",
   "execution_count": null,
   "metadata": {
    "colab": {
     "base_uri": "https://localhost:8080/"
    },
    "executionInfo": {
     "elapsed": 706,
     "status": "ok",
     "timestamp": 1617258507762,
     "user": {
      "displayName": "HJ Kim",
      "photoUrl": "",
      "userId": "16634276932240017990"
     },
     "user_tz": -540
    },
    "id": "q_UYgIGM-DJJ",
    "outputId": "a9a86038-228a-4da8-c44c-d0fb6dfa11f5"
   },
   "outputs": [
    {
     "data": {
      "text/plain": [
       "['dog', 'cat', 'pig', 'tiger', ['eagle', 'bear']]"
      ]
     },
     "execution_count": 48,
     "metadata": {
      "tags": []
     },
     "output_type": "execute_result"
    }
   ],
   "source": [
    "animals.append(['eagle', 'bear'])\n",
    "animals"
   ]
  },
  {
   "cell_type": "markdown",
   "metadata": {
    "id": "lk-ClSFn-Jsn"
   },
   "source": [
    "위에서는 원래의 리스트에 다른 리스트 하나를 마지막 항목으로 추가한 것이다.  \n",
    "이것이 아니라 `eagle`과 `bear` 두 개의 항목을 원래의 리스트에 추가하고자 한다면, `append()` 메서드를 두 번 적용하거나 아니면 `extend()` 메서드를 사용하면 된다."
   ]
  },
  {
   "cell_type": "markdown",
   "metadata": {
    "id": "7i4vfTOk-jip"
   },
   "source": [
    "* `extend()` 메서드는 리스트를 연결하여 확장시켜준다. "
   ]
  },
  {
   "cell_type": "code",
   "execution_count": null,
   "metadata": {
    "colab": {
     "base_uri": "https://localhost:8080/"
    },
    "executionInfo": {
     "elapsed": 582,
     "status": "ok",
     "timestamp": 1617258510480,
     "user": {
      "displayName": "HJ Kim",
      "photoUrl": "",
      "userId": "16634276932240017990"
     },
     "user_tz": -540
    },
    "id": "CMgJFoej-hYZ",
    "outputId": "56690f9f-0dc6-4d15-bc10-9d84bcf21f54"
   },
   "outputs": [
    {
     "data": {
      "text/plain": [
       "['dog', 'cat', 'pig', 'eagle', 'bear']"
      ]
     },
     "execution_count": 49,
     "metadata": {
      "tags": []
     },
     "output_type": "execute_result"
    }
   ],
   "source": [
    "animals = ['dog', 'cat', 'pig']\n",
    "animals.extend(['eagle', 'bear'])\n",
    "animals"
   ]
  },
  {
   "cell_type": "markdown",
   "metadata": {
    "id": "IrjVwIT7AigZ"
   },
   "source": [
    "두 개의 리스트를 덧셈 기호를 이용하여 확장할 수도 있지만, 원래의 리스트를 변경하는 것이 아니라 새로운 리스트를 생성한다. \n",
    "\n"
   ]
  },
  {
   "cell_type": "markdown",
   "metadata": {
    "id": "Sx4AiMb4AwVI"
   },
   "source": [
    "* `index()` 메서드는 리스트에 포함된 항목의 인덱스를 리턴한다."
   ]
  },
  {
   "cell_type": "code",
   "execution_count": null,
   "metadata": {
    "colab": {
     "base_uri": "https://localhost:8080/"
    },
    "executionInfo": {
     "elapsed": 576,
     "status": "ok",
     "timestamp": 1617258514430,
     "user": {
      "displayName": "HJ Kim",
      "photoUrl": "",
      "userId": "16634276932240017990"
     },
     "user_tz": -540
    },
    "id": "kVdLEIdFEKEZ",
    "outputId": "b2295330-f1e5-44d2-f932-6c98f2e316ff"
   },
   "outputs": [
    {
     "data": {
      "text/plain": [
       "2"
      ]
     },
     "execution_count": 50,
     "metadata": {
      "tags": []
     },
     "output_type": "execute_result"
    }
   ],
   "source": [
    "animals.index('pig')"
   ]
  },
  {
   "cell_type": "markdown",
   "metadata": {
    "id": "3zuq5MTZETMu"
   },
   "source": [
    "참고) 문자열에도 `index()` 메서드가 있고, 사용 방법은 동일하다."
   ]
  },
  {
   "cell_type": "code",
   "execution_count": null,
   "metadata": {
    "colab": {
     "base_uri": "https://localhost:8080/"
    },
    "executionInfo": {
     "elapsed": 553,
     "status": "ok",
     "timestamp": 1617258518124,
     "user": {
      "displayName": "HJ Kim",
      "photoUrl": "",
      "userId": "16634276932240017990"
     },
     "user_tz": -540
    },
    "id": "CbLqphSyEatV",
    "outputId": "787802b4-d431-48f1-bc36-e900596dc2a2"
   },
   "outputs": [
    {
     "data": {
      "text/plain": [
       "7"
      ]
     },
     "execution_count": 51,
     "metadata": {
      "tags": []
     },
     "output_type": "execute_result"
    }
   ],
   "source": [
    "\"Hello, world\".index('w')"
   ]
  },
  {
   "cell_type": "markdown",
   "metadata": {
    "id": "seTD0m_HEoEO"
   },
   "source": [
    "주의) 만약에 `pig`가 여러 번 포함되어 있다면, `index()` 메서드는 가장 작은 인덱스를 리턴한다."
   ]
  },
  {
   "cell_type": "code",
   "execution_count": null,
   "metadata": {
    "colab": {
     "base_uri": "https://localhost:8080/"
    },
    "executionInfo": {
     "elapsed": 572,
     "status": "ok",
     "timestamp": 1617258519989,
     "user": {
      "displayName": "HJ Kim",
      "photoUrl": "",
      "userId": "16634276932240017990"
     },
     "user_tz": -540
    },
    "id": "MvqHgX5YEyMK",
    "outputId": "d6b64107-7b7a-4dc0-f069-79ec7abb4db8"
   },
   "outputs": [
    {
     "data": {
      "text/plain": [
       "['dog', 'cat', 'pig', 'eagle', 'bear', 'pig']"
      ]
     },
     "execution_count": 52,
     "metadata": {
      "tags": []
     },
     "output_type": "execute_result"
    }
   ],
   "source": [
    "animals.append('pig') \n",
    "animals"
   ]
  },
  {
   "cell_type": "code",
   "execution_count": null,
   "metadata": {
    "colab": {
     "base_uri": "https://localhost:8080/"
    },
    "executionInfo": {
     "elapsed": 583,
     "status": "ok",
     "timestamp": 1617258522348,
     "user": {
      "displayName": "HJ Kim",
      "photoUrl": "",
      "userId": "16634276932240017990"
     },
     "user_tz": -540
    },
    "id": "ZN_QgSgJE9Lv",
    "outputId": "aea57e77-2ae9-45a7-cd42-6e55c556bfee"
   },
   "outputs": [
    {
     "data": {
      "text/plain": [
       "2"
      ]
     },
     "execution_count": 53,
     "metadata": {
      "tags": []
     },
     "output_type": "execute_result"
    }
   ],
   "source": [
    "animals.index('pig')"
   ]
  },
  {
   "cell_type": "markdown",
   "metadata": {
    "id": "liWuFKEGFJ9x"
   },
   "source": [
    "* `insert()` 메서드는 특정 인덱스 위치에 항목을 삽입한다. "
   ]
  },
  {
   "cell_type": "code",
   "execution_count": null,
   "metadata": {
    "colab": {
     "base_uri": "https://localhost:8080/"
    },
    "executionInfo": {
     "elapsed": 581,
     "status": "ok",
     "timestamp": 1617258524799,
     "user": {
      "displayName": "HJ Kim",
      "photoUrl": "",
      "userId": "16634276932240017990"
     },
     "user_tz": -540
    },
    "id": "Th6OCuFEFz5g",
    "outputId": "07ff6cc6-fc81-46c8-ad7f-4853863c989b"
   },
   "outputs": [
    {
     "data": {
      "text/plain": [
       "['dog', 'cat', 'pig', 'hamster', 'eagle', 'bear', 'pig']"
      ]
     },
     "execution_count": 54,
     "metadata": {
      "tags": []
     },
     "output_type": "execute_result"
    }
   ],
   "source": [
    "animals.insert(3, 'hamster')\n",
    "animals"
   ]
  },
  {
   "cell_type": "markdown",
   "metadata": {
    "id": "YEYfwyBZGdTw"
   },
   "source": [
    "* `remove()` 메서드는 리스트에서 첫 번째로 나오는 항목을 삭제한다."
   ]
  },
  {
   "cell_type": "code",
   "execution_count": null,
   "metadata": {
    "id": "ZGn6I522GyyR"
   },
   "outputs": [],
   "source": [
    "animals.remove('pig')"
   ]
  },
  {
   "cell_type": "code",
   "execution_count": null,
   "metadata": {
    "colab": {
     "base_uri": "https://localhost:8080/"
    },
    "executionInfo": {
     "elapsed": 556,
     "status": "ok",
     "timestamp": 1617258537984,
     "user": {
      "displayName": "HJ Kim",
      "photoUrl": "",
      "userId": "16634276932240017990"
     },
     "user_tz": -540
    },
    "id": "j8o_MmekGy6P",
    "outputId": "d81563a3-f100-40a5-f75a-a883da2ae44c"
   },
   "outputs": [
    {
     "data": {
      "text/plain": [
       "['dog', 'cat', 'hamster', 'eagle', 'bear', 'pig']"
      ]
     },
     "execution_count": 56,
     "metadata": {
      "tags": []
     },
     "output_type": "execute_result"
    }
   ],
   "source": [
    "animals"
   ]
  },
  {
   "cell_type": "markdown",
   "metadata": {
    "id": "LztQaqhTKbdj"
   },
   "source": [
    ":::{admonition} 주의   \n",
    ":class: caution  \n",
    "`remove()`, `index()` 등은 삭제 또는 찾고자 하는 항목이 없을 경우 오류를 발생시킨다.\n",
    "\n",
    "```python\n",
    ">>> animals.remove('leopard')\n",
    "---------------------------------------------------------------------------\n",
    "ValueError                                Traceback (most recent call last)\n",
    "<ipython-input-61-0b619603060a> in <module>()\n",
    "----> 1 animals.remove('leopard')\n",
    "\n",
    "ValueError: list.remove(x): x not in list\n",
    "```\n",
    ":::\n"
   ]
  },
  {
   "cell_type": "markdown",
   "metadata": {
    "id": "p5z_exzpH3bT"
   },
   "source": [
    "* `pop()` 메서드는 인자가 없을 경우 맨 끝에 위치한 항목을 삭제하며, 인덱스를 인자로 사용하면 해당 항목을 삭제한다.  \n",
    "주의) 인덱스 번호를 모를 경우에 특정 항목을 삭제하고자 한다면, `remove()` 메서드를 사용한다."
   ]
  },
  {
   "cell_type": "code",
   "execution_count": null,
   "metadata": {
    "colab": {
     "base_uri": "https://localhost:8080/",
     "height": 35
    },
    "executionInfo": {
     "elapsed": 667,
     "status": "ok",
     "timestamp": 1617259058732,
     "user": {
      "displayName": "HJ Kim",
      "photoUrl": "",
      "userId": "16634276932240017990"
     },
     "user_tz": -540
    },
    "id": "6oGiQjV9Hu8q",
    "outputId": "a293442d-2b91-40bd-e323-24e682ed4256"
   },
   "outputs": [
    {
     "data": {
      "application/vnd.google.colaboratory.intrinsic+json": {
       "type": "string"
      },
      "text/plain": [
       "'pig'"
      ]
     },
     "execution_count": 57,
     "metadata": {
      "tags": []
     },
     "output_type": "execute_result"
    }
   ],
   "source": [
    "animals.pop()"
   ]
  },
  {
   "cell_type": "code",
   "execution_count": null,
   "metadata": {
    "colab": {
     "base_uri": "https://localhost:8080/"
    },
    "executionInfo": {
     "elapsed": 810,
     "status": "ok",
     "timestamp": 1617259069897,
     "user": {
      "displayName": "HJ Kim",
      "photoUrl": "",
      "userId": "16634276932240017990"
     },
     "user_tz": -540
    },
    "id": "bUl0zJaWHvH7",
    "outputId": "3e55ba8f-3fe7-4909-d5c8-47adf411643e"
   },
   "outputs": [
    {
     "data": {
      "text/plain": [
       "['dog', 'cat', 'hamster', 'eagle', 'bear']"
      ]
     },
     "execution_count": 58,
     "metadata": {
      "tags": []
     },
     "output_type": "execute_result"
    }
   ],
   "source": [
    "animals"
   ]
  },
  {
   "cell_type": "code",
   "execution_count": null,
   "metadata": {
    "colab": {
     "base_uri": "https://localhost:8080/",
     "height": 35
    },
    "executionInfo": {
     "elapsed": 587,
     "status": "ok",
     "timestamp": 1617259087406,
     "user": {
      "displayName": "HJ Kim",
      "photoUrl": "",
      "userId": "16634276932240017990"
     },
     "user_tz": -540
    },
    "id": "Z1bAlmS5JxSj",
    "outputId": "db4ff9fc-930f-4e3f-85a1-f152ec10ac2f"
   },
   "outputs": [
    {
     "data": {
      "application/vnd.google.colaboratory.intrinsic+json": {
       "type": "string"
      },
      "text/plain": [
       "'hamster'"
      ]
     },
     "execution_count": 59,
     "metadata": {
      "tags": []
     },
     "output_type": "execute_result"
    }
   ],
   "source": [
    "animals.pop(2)"
   ]
  },
  {
   "cell_type": "code",
   "execution_count": null,
   "metadata": {
    "colab": {
     "base_uri": "https://localhost:8080/"
    },
    "executionInfo": {
     "elapsed": 573,
     "status": "ok",
     "timestamp": 1617259091823,
     "user": {
      "displayName": "HJ Kim",
      "photoUrl": "",
      "userId": "16634276932240017990"
     },
     "user_tz": -540
    },
    "id": "AyBuyoViJ0xm",
    "outputId": "2cb86d44-daf1-430c-d6bc-8d3e965df565"
   },
   "outputs": [
    {
     "data": {
      "text/plain": [
       "['dog', 'cat', 'eagle', 'bear']"
      ]
     },
     "execution_count": 60,
     "metadata": {
      "tags": []
     },
     "output_type": "execute_result"
    }
   ],
   "source": [
    "animals"
   ]
  },
  {
   "cell_type": "markdown",
   "metadata": {
    "id": "XFg9UiVcGKLO"
   },
   "source": [
    "주의) 각 메서드의 리턴값에 주의해야 한다.\n",
    "* `pop()` : 리스트에서 삭제한 항목을 리턴한다.\n",
    "* `append()`, `remove()`, `insert()` 등은 기존의 리스트를 변경하지만 리턴값은 `None`, 즉 아무 것도 리턴하지 않는다."
   ]
  },
  {
   "cell_type": "markdown",
   "metadata": {
    "id": "j3NZ7j-EKyj5"
   },
   "source": [
    "이외에도 `del` 명령문을 이용하여 리스트의 일부 또는 전체를 삭제할 수 있다.  \n",
    "주의) `del` 명령문은 매우 주의해서 사용해야 한다. 잘못하면 데이터 자체를 메모리에서 삭제시킬 수도 있다. "
   ]
  },
  {
   "cell_type": "code",
   "execution_count": null,
   "metadata": {
    "colab": {
     "base_uri": "https://localhost:8080/"
    },
    "executionInfo": {
     "elapsed": 583,
     "status": "ok",
     "timestamp": 1617259413196,
     "user": {
      "displayName": "HJ Kim",
      "photoUrl": "",
      "userId": "16634276932240017990"
     },
     "user_tz": -540
    },
    "id": "PtutRJtvLApe",
    "outputId": "eea58d02-7676-40e2-df3e-88f702ba9815"
   },
   "outputs": [
    {
     "data": {
      "text/plain": [
       "['dog', 'cat', 'eagle']"
      ]
     },
     "execution_count": 62,
     "metadata": {
      "tags": []
     },
     "output_type": "execute_result"
    }
   ],
   "source": [
    "del animals[-1]\n",
    "animals"
   ]
  },
  {
   "cell_type": "markdown",
   "metadata": {},
   "source": [
    "```python\n",
    ">>> animals_sample = ['dog']\n",
    ">>> animals_sample\n",
    "['dog']\n",
    "```\n",
    "\n",
    "```python\n",
    ">>> del animals_sample\n",
    "```\n",
    "\n",
    "```python\n",
    ">>> animals_sample\n",
    "---------------------------------------------------------------------------\n",
    "NameError                                 Traceback (most recent call last)\n",
    "<ipython-input-66-4c8b6fb25c0d> in <module>()\n",
    "----> 1 animals_sample\n",
    "\n",
    "NameError: name 'animals_sample' is not defined\n",
    "```"
   ]
  },
  {
   "cell_type": "markdown",
   "metadata": {
    "id": "aUvcz7yOMK4a"
   },
   "source": [
    "* `reverse()` 메서드는 리스트의 순서를 뒤집는다."
   ]
  },
  {
   "cell_type": "code",
   "execution_count": null,
   "metadata": {
    "colab": {
     "base_uri": "https://localhost:8080/"
    },
    "executionInfo": {
     "elapsed": 567,
     "status": "ok",
     "timestamp": 1617259744359,
     "user": {
      "displayName": "HJ Kim",
      "photoUrl": "",
      "userId": "16634276932240017990"
     },
     "user_tz": -540
    },
    "id": "KC4i0gueMQMZ",
    "outputId": "50a7b2e1-e033-462a-bf8d-4e2dc7b2acc5"
   },
   "outputs": [
    {
     "name": "stdout",
     "output_type": "stream",
     "text": [
      "기존 동물 리스트 ['dog', 'cat', 'eagle']\n",
      "뒤집어진 동물 리스트 ['eagle', 'cat', 'dog']\n"
     ]
    }
   ],
   "source": [
    "print('기존 동물 리스트', animals)\n",
    "animals.reverse()\n",
    "print('뒤집어진 동물 리스트', animals)"
   ]
  },
  {
   "cell_type": "markdown",
   "metadata": {
    "id": "sGkKcyThKEVR"
   },
   "source": [
    "* `sort()` 메서드를 이용하여 리스트의 항목들을 정렬할 수 있다.  \n",
    "  * 숫자의 경우는 크기 순서대로\n",
    "  * 문자열의 경우는 사전식으로 "
   ]
  },
  {
   "cell_type": "code",
   "execution_count": null,
   "metadata": {
    "colab": {
     "base_uri": "https://localhost:8080/"
    },
    "executionInfo": {
     "elapsed": 590,
     "status": "ok",
     "timestamp": 1617259750778,
     "user": {
      "displayName": "HJ Kim",
      "photoUrl": "",
      "userId": "16634276932240017990"
     },
     "user_tz": -540
    },
    "id": "CKPTok49L6SZ",
    "outputId": "4ee0a85c-a62b-4ccf-f445-7659a86e4afc"
   },
   "outputs": [
    {
     "name": "stdout",
     "output_type": "stream",
     "text": [
      "기존 동물 리스트 ['eagle', 'cat', 'dog']\n",
      "정렬된 동물 리스트 ['cat', 'dog', 'eagle']\n"
     ]
    }
   ],
   "source": [
    "print('기존 동물 리스트', animals)\n",
    "animals.sort()\n",
    "print('정렬된 동물 리스트', animals)"
   ]
  },
  {
   "cell_type": "markdown",
   "metadata": {
    "id": "4qD3aLroMZKx"
   },
   "source": [
    "주의) `sort()`와 `reverse()` 메서드는 원래의 리스트 자체를 변경한다.  \n"
   ]
  },
  {
   "cell_type": "markdown",
   "metadata": {
    "id": "zxyAUcxTRKNV"
   },
   "source": [
    "* `count()` 메서드는 리스트 안에 있는 특정 항목의 개수를 리턴한다."
   ]
  },
  {
   "cell_type": "code",
   "execution_count": null,
   "metadata": {
    "colab": {
     "base_uri": "https://localhost:8080/"
    },
    "executionInfo": {
     "elapsed": 985,
     "status": "ok",
     "timestamp": 1617261535200,
     "user": {
      "displayName": "HJ Kim",
      "photoUrl": "",
      "userId": "16634276932240017990"
     },
     "user_tz": -540
    },
    "id": "P1VGwYbLTBll",
    "outputId": "ccc8cfef-d681-4841-c65a-20c3c404c092"
   },
   "outputs": [
    {
     "data": {
      "text/plain": [
       "['cat', 'dog', 'eagle', 'anaconda', 'pig', 'pig', 'pig']"
      ]
     },
     "execution_count": 71,
     "metadata": {
      "tags": []
     },
     "output_type": "execute_result"
    }
   ],
   "source": [
    "animals.extend(['pig', 'pig', 'pig'])\n",
    "animals"
   ]
  },
  {
   "cell_type": "code",
   "execution_count": null,
   "metadata": {
    "colab": {
     "base_uri": "https://localhost:8080/"
    },
    "executionInfo": {
     "elapsed": 496,
     "status": "ok",
     "timestamp": 1617261555699,
     "user": {
      "displayName": "HJ Kim",
      "photoUrl": "",
      "userId": "16634276932240017990"
     },
     "user_tz": -540
    },
    "id": "7vpk5MfATKrb",
    "outputId": "3d879eae-0e10-4d15-bbf7-a1be6e7fc072"
   },
   "outputs": [
    {
     "data": {
      "text/plain": [
       "3"
      ]
     },
     "execution_count": 73,
     "metadata": {
      "tags": []
     },
     "output_type": "execute_result"
    }
   ],
   "source": [
    "animals.count('pig')"
   ]
  },
  {
   "cell_type": "markdown",
   "metadata": {
    "id": "ClUtxh57HHue"
   },
   "source": [
    "## 리스트 조건제시법\n",
    "\n",
    "주어진 리스트를 이용하여 특정 성질을 만족하는 새로운 리스트를 생성하고자 할 때, **리스트 조건제시법**(List Comprehension)을 활용하면 매우 효율적인 코딩을 할 수 있다.  \n",
    "\n",
    "리스트 조건제시법은 집합을 정의할 때 사용하는 조건제시법과 매우 유사하다.  \n",
    "예를 들어, 0과 10사이에 있는 홀수들의 제곱을 원소로 갖는 집합을 정의하려면 두 가지 방법을 활용할 수 있다.  \n",
    "\n",
    "* 원소나열법  \n",
    "$\\{1, \\ 9, \\ 25, \\ 49, \\ 81\\}$\n",
    "\n",
    "* 조건제시법  \n",
    "$\\{ x^2 \\ |\\ 0 \\le x \\le 10, \\ 단 \\ x는 \\ 홀수 \\}$\n",
    "\n",
    "여기서는 조건제시법을 활용하여 새로운 리스트를 생성하는 방법을 알아본다."
   ]
  },
  {
   "cell_type": "markdown",
   "metadata": {
    "id": "Rl_wi1fDXA_b"
   },
   "source": [
    "0과 10사이에 있는 홀수들의 제곱을 순서대로 담고 있는 리스트는 어떻게 구현할까? "
   ]
  },
  {
   "cell_type": "code",
   "execution_count": null,
   "metadata": {
    "colab": {
     "base_uri": "https://localhost:8080/"
    },
    "executionInfo": {
     "elapsed": 546,
     "status": "ok",
     "timestamp": 1617262645007,
     "user": {
      "displayName": "HJ Kim",
      "photoUrl": "",
      "userId": "16634276932240017990"
     },
     "user_tz": -540
    },
    "id": "AbklM5lhV7ra",
    "outputId": "f6e94c60-ab04-4989-d702-a7e00be82ed7"
   },
   "outputs": [
    {
     "data": {
      "text/plain": [
       "[1, 9, 25, 49, 81]"
      ]
     },
     "execution_count": 75,
     "metadata": {
      "tags": []
     },
     "output_type": "execute_result"
    }
   ],
   "source": [
    "squares = [1, 9, 25, 49, 81]\n",
    "squares"
   ]
  },
  {
   "cell_type": "markdown",
   "metadata": {
    "id": "XMuNrghbXaDN"
   },
   "source": [
    "반복문을 활용할 수도 있다.  \n",
    "* `while` 반복문 : 리스트의 `append()` 메서드를 활용한다. "
   ]
  },
  {
   "cell_type": "code",
   "execution_count": 1,
   "metadata": {
    "colab": {
     "base_uri": "https://localhost:8080/"
    },
    "executionInfo": {
     "elapsed": 623,
     "status": "ok",
     "timestamp": 1617262770954,
     "user": {
      "displayName": "HJ Kim",
      "photoUrl": "",
      "userId": "16634276932240017990"
     },
     "user_tz": -540
    },
    "id": "i9E_mgdRXYyr",
    "outputId": "3ad568cf-2da6-41d4-d548-58b2c945bb6b"
   },
   "outputs": [
    {
     "name": "stdout",
     "output_type": "stream",
     "text": [
      "[1, 9, 25, 49, 81]\n"
     ]
    }
   ],
   "source": [
    "i = 0\n",
    "squares = []\n",
    "\n",
    "while i <= 10 :\n",
    "    if i % 2 == 1 :\n",
    "        squares.append(i**2)\n",
    "    i += 1\n",
    "\n",
    "print(squares)"
   ]
  },
  {
   "cell_type": "markdown",
   "metadata": {
    "id": "JkxuVymJX4zh"
   },
   "source": [
    "* `for` 반복문 : `range()` 함수를 활용한다."
   ]
  },
  {
   "cell_type": "code",
   "execution_count": 2,
   "metadata": {
    "colab": {
     "base_uri": "https://localhost:8080/"
    },
    "executionInfo": {
     "elapsed": 603,
     "status": "ok",
     "timestamp": 1617262895170,
     "user": {
      "displayName": "HJ Kim",
      "photoUrl": "",
      "userId": "16634276932240017990"
     },
     "user_tz": -540
    },
    "id": "NPShhLGdX104",
    "outputId": "18ae37f2-03cd-4cfa-fc0f-1e792ea7cb7f"
   },
   "outputs": [
    {
     "name": "stdout",
     "output_type": "stream",
     "text": [
      "[1, 9, 25, 49, 81]\n"
     ]
    }
   ],
   "source": [
    "squares = []\n",
    "\n",
    "for k in range(11) :\n",
    "    if k % 2 == 1 :\n",
    "        squares.append(k**2)\n",
    "\n",
    "print(squares)"
   ]
  },
  {
   "cell_type": "markdown",
   "metadata": {
    "id": "9kklHxE_YLjT"
   },
   "source": [
    "주의) 위의 코드는 `k`라는 변수를 만들고, 이는 반복문이 종료된 다음에도 남아 있다. "
   ]
  },
  {
   "cell_type": "code",
   "execution_count": null,
   "metadata": {
    "colab": {
     "base_uri": "https://localhost:8080/"
    },
    "executionInfo": {
     "elapsed": 1018,
     "status": "ok",
     "timestamp": 1617262986164,
     "user": {
      "displayName": "HJ Kim",
      "photoUrl": "",
      "userId": "16634276932240017990"
     },
     "user_tz": -540
    },
    "id": "jjx9TQBaYJ1a",
    "outputId": "5fdafb69-078f-489b-fd61-2c2659589e25"
   },
   "outputs": [
    {
     "name": "stdout",
     "output_type": "stream",
     "text": [
      "10\n"
     ]
    }
   ],
   "source": [
    "print(k)"
   ]
  },
  {
   "cell_type": "markdown",
   "metadata": {
    "id": "X13GdmXpY55V"
   },
   "source": [
    "이제 리스트를 좀 더 간결하고 읽기 쉽게 정의하는 방법인 리스트 조건제시법을 살펴보자.  \n",
    "\n",
    "리스트 조건제시법은 집합 정의에 사용되는 조건제시법과 매우 비슷하게 작동한다. 예를 들어, 0부터 10 사이의 홀수들의 제곱을 순서대로 항목으로 갖는 리스트를 생성하는 과정을 통해 조건제시법을 살펴보자.  \n",
    "\n",
    "* 0부터 10 사이의 홀수들의 제곱을 원소로 갖는 집합을 조건제시법으로 표현한다.  \n",
    "> `{ x^2  | 0 <= x <= 10, 단 x는 홀수}`\n",
    "\n",
    "* 집합 기호를 리스트 기호로 대체한다.  \n",
    "> `[ x^2  | 0 <= x <= 10, 단 x는 홀수]`\n",
    "\n",
    "* 집합의 짝대기($|$) 기호는 `for` 로 대체한다.  \n",
    "> `[ x^2  for 0 <= x <= 10, 단 x는 홀수]`\n",
    "\n",
    "* 짝대기 기호 왼편에 위치한 `x^2`를 파이썬 수식으로 변경한다. 즉, `x ** 2`로 변경한다.   \n",
    "> `[ x**2  for 0 <= x <= 10, 단 x는 홀수]`\n",
    "\n",
    "* 짝대기 기호 오른편에 위치하고, 변수 `x`가 어느 범위에서 움직이는지를 설명하는 부등식인 `0 <= x <= 10` 부분을 파이썬 수식으로 변경한다. 주로, 기존에 정의된 리스트를 사용하거나 `range()` 함수를 사용하여 범위를 `x in ...` 형식으로 지정한다.   \n",
    "> `[ x**2  for x in range(11), 단 x는 홀수]`\n",
    "\n",
    "* 마지막으로 변수 `x`에 대한 제한조건인 `단 x는 홀수` 부분을 파이썬의 `if` 문장으로 변경한다. 예를 들어, `x는 홀수`는 파이썬의 `x % 2 == 1`로 나타낼 수 있다.   \n",
    "> `[ x**2  for x in range(11) if x % 2 == 1]`\n"
   ]
  },
  {
   "cell_type": "code",
   "execution_count": null,
   "metadata": {
    "colab": {
     "base_uri": "https://localhost:8080/"
    },
    "executionInfo": {
     "elapsed": 531,
     "status": "ok",
     "timestamp": 1617264086547,
     "user": {
      "displayName": "HJ Kim",
      "photoUrl": "",
      "userId": "16634276932240017990"
     },
     "user_tz": -540
    },
    "id": "4-5uUqrGYr9Z",
    "outputId": "334a12f8-4ea6-40b2-ec3a-0014f9104933"
   },
   "outputs": [
    {
     "data": {
      "text/plain": [
       "[1, 9, 25, 49, 81]"
      ]
     },
     "execution_count": 81,
     "metadata": {
      "tags": []
     },
     "output_type": "execute_result"
    }
   ],
   "source": [
    "squares = [x**2 for x in range(11) if x % 2 == 1]\n",
    "squares"
   ]
  },
  {
   "cell_type": "markdown",
   "metadata": {
    "id": "raQCvN4dc6Np"
   },
   "source": [
    "ex) 0부터 10사이에 홀수들을 항목으로 갖는 리스트를 조건제시법으로 생성하여라. "
   ]
  },
  {
   "cell_type": "code",
   "execution_count": null,
   "metadata": {
    "colab": {
     "base_uri": "https://localhost:8080/"
    },
    "executionInfo": {
     "elapsed": 768,
     "status": "ok",
     "timestamp": 1617264178524,
     "user": {
      "displayName": "HJ Kim",
      "photoUrl": "",
      "userId": "16634276932240017990"
     },
     "user_tz": -540
    },
    "id": "HKzSCwxYc4uc",
    "outputId": "96563cf3-4e82-4de5-8cdd-e019e360c41e"
   },
   "outputs": [
    {
     "data": {
      "text/plain": [
       "[1, 3, 5, 7, 9]"
      ]
     },
     "execution_count": 83,
     "metadata": {
      "tags": []
     },
     "output_type": "execute_result"
    }
   ],
   "source": [
    "odd_10 = [x for x in range(11) if x % 2 == 1]\n",
    "odd_10"
   ]
  },
  {
   "cell_type": "markdown",
   "metadata": {
    "id": "hh7zCpsGdZsI"
   },
   "source": [
    "아래와 같이 코드를 작성할 수도 있다."
   ]
  },
  {
   "cell_type": "code",
   "execution_count": null,
   "metadata": {
    "colab": {
     "base_uri": "https://localhost:8080/"
    },
    "executionInfo": {
     "elapsed": 447,
     "status": "ok",
     "timestamp": 1617375229488,
     "user": {
      "displayName": "HJ Kim",
      "photoUrl": "",
      "userId": "16634276932240017990"
     },
     "user_tz": -540
    },
    "id": "12LE4UBTdKFJ",
    "outputId": "94152942-aa15-42a2-b4c6-64daf395190e"
   },
   "outputs": [
    {
     "data": {
      "text/plain": [
       "[1, 3, 5, 7, 9]"
      ]
     },
     "execution_count": 3,
     "metadata": {
      "tags": []
     },
     "output_type": "execute_result"
    }
   ],
   "source": [
    "odd_10 = [2*x + 1 for x in range(5)]\n",
    "odd_10"
   ]
  },
  {
   "cell_type": "markdown",
   "metadata": {
    "id": "cWtTkjnrEP56"
   },
   "source": [
    "ex) 0부터 10사이의 홀수들의 세제곱을 항목으로 갖는 리스트를 조건제시법으로 구현하여라."
   ]
  },
  {
   "cell_type": "code",
   "execution_count": null,
   "metadata": {
    "colab": {
     "base_uri": "https://localhost:8080/"
    },
    "executionInfo": {
     "elapsed": 680,
     "status": "ok",
     "timestamp": 1617375170044,
     "user": {
      "displayName": "HJ Kim",
      "photoUrl": "",
      "userId": "16634276932240017990"
     },
     "user_tz": -540
    },
    "id": "pbR7QbDAEV_M",
    "outputId": "4f33b8bd-b0f8-4a25-c88d-b4aa8445e42c"
   },
   "outputs": [
    {
     "data": {
      "text/plain": [
       "[1, 27, 125, 343, 729]"
      ]
     },
     "execution_count": 1,
     "metadata": {
      "tags": []
     },
     "output_type": "execute_result"
    }
   ],
   "source": [
    "odd_10_cube = [x**3 for x in range(11) if x % 2 == 1]\n",
    "odd_10_cube"
   ]
  },
  {
   "cell_type": "markdown",
   "metadata": {
    "id": "OJOJtc0rEptr"
   },
   "source": [
    "아래와 같이 기존에 정의된 리스트를 사용할 수도 있다."
   ]
  },
  {
   "cell_type": "code",
   "execution_count": null,
   "metadata": {
    "colab": {
     "base_uri": "https://localhost:8080/"
    },
    "executionInfo": {
     "elapsed": 577,
     "status": "ok",
     "timestamp": 1617375233214,
     "user": {
      "displayName": "HJ Kim",
      "photoUrl": "",
      "userId": "16634276932240017990"
     },
     "user_tz": -540
    },
    "id": "ZVxYgXj4Eumt",
    "outputId": "0bc08ba4-9af7-4c63-ab46-ccf87bb608f5"
   },
   "outputs": [
    {
     "data": {
      "text/plain": [
       "[1, 27, 125, 343, 729]"
      ]
     },
     "execution_count": 4,
     "metadata": {
      "tags": []
     },
     "output_type": "execute_result"
    }
   ],
   "source": [
    "odd_10_cube = [x**3 for x in odd_10]\n",
    "odd_10_cube"
   ]
  },
  {
   "cell_type": "markdown",
   "metadata": {
    "id": "LFGVLeLZdoEE"
   },
   "source": [
    "ex) 수학에서 사용되는 대표적인 지수함수인 $f(x) = e^x$ 는 `math` 모듈의 `exp()`로 정의되어 있다. 아래 리스트를 조건제시법으로 구현하여라.  \n",
    "\n",
    "<center> $[e^1, e^3, e^5, e^7, e^9]$ </center>\n",
    "\n",
    "주의) $e$의 값은 대략 2.718 정도이다. "
   ]
  },
  {
   "cell_type": "code",
   "execution_count": null,
   "metadata": {
    "id": "6e_A2ZjedQOR"
   },
   "outputs": [],
   "source": [
    "from math import exp"
   ]
  },
  {
   "cell_type": "code",
   "execution_count": null,
   "metadata": {
    "colab": {
     "base_uri": "https://localhost:8080/"
    },
    "executionInfo": {
     "elapsed": 546,
     "status": "ok",
     "timestamp": 1617264485620,
     "user": {
      "displayName": "HJ Kim",
      "photoUrl": "",
      "userId": "16634276932240017990"
     },
     "user_tz": -540
    },
    "id": "oDnIzLQIeV7z",
    "outputId": "e15a869e-6743-4dd4-adb7-16a7441cc11a"
   },
   "outputs": [
    {
     "data": {
      "text/plain": [
       "[2.718281828459045,\n",
       " 20.085536923187668,\n",
       " 148.4131591025766,\n",
       " 1096.6331584284585,\n",
       " 8103.083927575384]"
      ]
     },
     "execution_count": 87,
     "metadata": {
      "tags": []
     },
     "output_type": "execute_result"
    }
   ],
   "source": [
    "[exp(n) for n in range(10) if n % 2 == 1]"
   ]
  }
 ],
 "metadata": {
  "colab": {
   "authorship_tag": "ABX9TyPY7oFBTj7aWMGdW7F5xyJl",
   "collapsed_sections": [],
   "name": "강의노트7(리스트).ipynb",
   "provenance": []
  },
  "kernelspec": {
   "display_name": "Python 3 (ipykernel)",
   "language": "python",
   "name": "python3"
  },
  "language_info": {
   "codemirror_mode": {
    "name": "ipython",
    "version": 3
   },
   "file_extension": ".py",
   "mimetype": "text/x-python",
   "name": "python",
   "nbconvert_exporter": "python",
   "pygments_lexer": "ipython3",
   "version": "3.8.10"
  }
 },
 "nbformat": 4,
 "nbformat_minor": 4
}
