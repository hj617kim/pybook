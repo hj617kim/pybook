{
 "cells": [
  {
   "cell_type": "markdown",
   "id": "7ab6c937-c679-4b26-b9c0-657658a45d42",
   "metadata": {},
   "source": [
    "# 문자열"
   ]
  },
  {
   "cell_type": "markdown",
   "id": "5b5c14d7-9efb-4f69-8a2d-10dae405eaaa",
   "metadata": {},
   "source": [
    "## 문자열 인덱싱"
   ]
  },
  {
   "cell_type": "markdown",
   "id": "4b6edaee-7d47-4a23-8401-45b56f31a9f3",
   "metadata": {},
   "source": [
    "문자열에 사용되는 모든 문자의 위치는 인덱스<font size=\"2\">index</font>라는 고유한 번호를 갖는다. 인덱스는 0부터 시작하며, 오른쪽으로 한 문자씩 이동할 때마다 증가한다."
   ]
  },
  {
   "cell_type": "markdown",
   "id": "ccb4cb8b-99f0-439f-8ef8-a0b0437e6631",
   "metadata": {},
   "source": [
    ":::{admonition} 주의  \n",
    ":class: caution  \n",
    "파이썬을 포함해서 많은 대부분의 프로그래밍 언어에서 인덱싱은 0부터 시작한다. 따라서 첫 째 문자를 확인하고자 할 때는 1이 아닌 0을 인덱스로 사용해야 한다.  ㄹ\n",
    ":::"
   ]
  },
  {
   "cell_type": "markdown",
   "id": "375e7417-de63-4653-a34e-6b33c45826f2",
   "metadata": {},
   "source": [
    "예제를 통해 인덱스와 친숙해질 필요가 있다."
   ]
  },
  {
   "cell_type": "code",
   "execution_count": 2,
   "id": "b9dd0bee-83d9-4b7d-9da4-9b308cba3d90",
   "metadata": {},
   "outputs": [],
   "source": [
    "a_food = \"kebap\""
   ]
  },
  {
   "cell_type": "markdown",
   "id": "0da8138c-7c51-4ef2-bc77-b17f787da17a",
   "metadata": {},
   "source": [
    "특정 인덱스에 위치한 문자의 정보는 다음과 같이 확인한다.\n",
    "* 0번 인덱스 값, 즉 첫째 문자"
   ]
  },
  {
   "cell_type": "code",
   "execution_count": 3,
   "id": "0aa71b58-3a5f-47c2-bfd6-cc1934f70f8c",
   "metadata": {},
   "outputs": [
    {
     "data": {
      "text/plain": [
       "'k'"
      ]
     },
     "execution_count": 3,
     "metadata": {},
     "output_type": "execute_result"
    }
   ],
   "source": [
    "a_food[0]"
   ]
  },
  {
   "cell_type": "markdown",
   "id": "1230de86-27be-4054-b5a1-c608f9d57bd5",
   "metadata": {
    "id": "GiUV9C9Cycjn"
   },
   "source": [
    "* 1번 인덱스 값, 즉 둘째 문자"
   ]
  },
  {
   "cell_type": "code",
   "execution_count": null,
   "id": "9f39ad92-2701-4617-84a2-8b7c39913640",
   "metadata": {
    "colab": {
     "base_uri": "https://localhost:8080/",
     "height": 35
    },
    "executionInfo": {
     "elapsed": 557,
     "status": "ok",
     "timestamp": 1614837066321,
     "user": {
      "displayName": "HJ Kim",
      "photoUrl": "",
      "userId": "16634276932240017990"
     },
     "user_tz": -540
    },
    "id": "LWk5BgYFyYk1",
    "outputId": "503d86b3-9ab8-4a9a-c772-fcb506f26592"
   },
   "outputs": [
    {
     "data": {
      "application/vnd.google.colaboratory.intrinsic+json": {
       "type": "string"
      },
      "text/plain": [
       "'e'"
      ]
     },
     "execution_count": 33,
     "metadata": {
      "tags": []
     },
     "output_type": "execute_result"
    }
   ],
   "source": [
    "a_food[1]"
   ]
  },
  {
   "cell_type": "markdown",
   "id": "cb4a3b55-8a23-4d31-8577-3acf155f3225",
   "metadata": {
    "id": "Jrnvar7ZykcQ"
   },
   "source": [
    "* 2번 인덱스 값, 즉 셋째 문자"
   ]
  },
  {
   "cell_type": "code",
   "execution_count": null,
   "id": "570ad661-7355-4009-a406-f93040c44406",
   "metadata": {
    "colab": {
     "base_uri": "https://localhost:8080/",
     "height": 35
    },
    "executionInfo": {
     "elapsed": 595,
     "status": "ok",
     "timestamp": 1614837107463,
     "user": {
      "displayName": "HJ Kim",
      "photoUrl": "",
      "userId": "16634276932240017990"
     },
     "user_tz": -540
    },
    "id": "Joko7nf9yie1",
    "outputId": "b352aba2-2390-481f-e9f4-f116541cc0ae"
   },
   "outputs": [
    {
     "data": {
      "application/vnd.google.colaboratory.intrinsic+json": {
       "type": "string"
      },
      "text/plain": [
       "'b'"
      ]
     },
     "execution_count": 34,
     "metadata": {
      "tags": []
     },
     "output_type": "execute_result"
    }
   ],
   "source": [
    "a_food[2]"
   ]
  },
  {
   "cell_type": "markdown",
   "id": "0f87e03b-356e-4408-b01b-1df09f2022c8",
   "metadata": {
    "id": "LHi1DSsxyutL"
   },
   "source": [
    "등등.\n",
    "\n",
    "\n",
    "**-1번 인덱스**  \n",
    "문자열이 길 경우 맨 오른쪽에 위치한 문자의 인덱스 번호를 확인하기가 어렵다. 그래서 파이썬에서는 -1을 마지막 문자의 인덱스로 사용한다.  \n",
    "즉, 맨 오른편의 인덱스는 -1이고, 그 왼편은 -2, 등등으로 진행한다. "
   ]
  },
  {
   "cell_type": "code",
   "execution_count": null,
   "id": "e7e67f69-1e02-4185-8491-2bafa41b1ff5",
   "metadata": {
    "colab": {
     "base_uri": "https://localhost:8080/",
     "height": 35
    },
    "executionInfo": {
     "elapsed": 670,
     "status": "ok",
     "timestamp": 1614837199254,
     "user": {
      "displayName": "HJ Kim",
      "photoUrl": "",
      "userId": "16634276932240017990"
     },
     "user_tz": -540
    },
    "id": "m3x-qZJkysh1",
    "outputId": "f63f23bb-d690-4c71-ce3d-219dd0a96aec"
   },
   "outputs": [
    {
     "data": {
      "application/vnd.google.colaboratory.intrinsic+json": {
       "type": "string"
      },
      "text/plain": [
       "'p'"
      ]
     },
     "execution_count": 35,
     "metadata": {
      "tags": []
     },
     "output_type": "execute_result"
    }
   ],
   "source": [
    "a_food[-1]"
   ]
  },
  {
   "cell_type": "code",
   "execution_count": null,
   "id": "857bfc1f-27da-4ae6-9f8e-f1be87173117",
   "metadata": {
    "colab": {
     "base_uri": "https://localhost:8080/",
     "height": 35
    },
    "executionInfo": {
     "elapsed": 975,
     "status": "ok",
     "timestamp": 1614837218991,
     "user": {
      "displayName": "HJ Kim",
      "photoUrl": "",
      "userId": "16634276932240017990"
     },
     "user_tz": -540
    },
    "id": "6BVX1OUZzC61",
    "outputId": "9c26c716-94bf-4cd3-86da-0b469c717d76"
   },
   "outputs": [
    {
     "data": {
      "application/vnd.google.colaboratory.intrinsic+json": {
       "type": "string"
      },
      "text/plain": [
       "'a'"
      ]
     },
     "execution_count": 36,
     "metadata": {
      "tags": []
     },
     "output_type": "execute_result"
    }
   ],
   "source": [
    "a_food[-2]"
   ]
  },
  {
   "cell_type": "markdown",
   "id": "42662099-e00d-42dc-baee-2e56c1b99b60",
   "metadata": {
    "id": "MC4F4fImzJSa"
   },
   "source": [
    "등등.  \n",
    "<br>\n",
    "\n",
    "**문자열의 길이와 인덱스**\n",
    "\n",
    "문자열의 길이보다 같거나 큰 인덱스를 사용하면 오류가 발생한다. 문자열의 길이는 `len()` 함수를 이용하여 확인할 수 있다.\n",
    "```python\n",
    ">>> a_food[5]\n",
    "---------------------------------------------------------------------------\n",
    "IndexError                                Traceback (most recent call last)\n",
    "<ipython-input-37-d133e021743e> in <module>()\n",
    "----> 1 a_food[5]\n",
    "\n",
    "IndexError: string index out of range\n",
    "```"
   ]
  },
  {
   "cell_type": "code",
   "execution_count": null,
   "id": "2e12a4fc-c190-45e4-b2cd-1d758395d0a0",
   "metadata": {
    "colab": {
     "base_uri": "https://localhost:8080/"
    },
    "executionInfo": {
     "elapsed": 711,
     "status": "ok",
     "timestamp": 1614837630510,
     "user": {
      "displayName": "HJ Kim",
      "photoUrl": "",
      "userId": "16634276932240017990"
     },
     "user_tz": -540
    },
    "id": "hjOdN6Ek0pYs",
    "outputId": "8edb0349-0a43-405e-caa3-03c049f0af02"
   },
   "outputs": [
    {
     "data": {
      "text/plain": [
       "5"
      ]
     },
     "execution_count": 38,
     "metadata": {
      "tags": []
     },
     "output_type": "execute_result"
    }
   ],
   "source": [
    "len(a_food)"
   ]
  },
  {
   "cell_type": "markdown",
   "id": "35809bba-7f80-43a6-b20d-541e283edf0a",
   "metadata": {
    "id": "5PrjBzw00y83"
   },
   "source": [
    "## 슬라이싱\n",
    "\n",
    "문자열의 하나의 문자가 아닌 특정 구간 및 부분을 추출하고자 할 경우 슬라이싱을 사용한다. 슬라이싱은 다음과 같이 실행한다.\n",
    "\n",
    "> 문자열변수[시작인덱스 : 끝인덱스 : 계단(step)]\n",
    "\n",
    "* 시작인덱스 : 해당 인덱스부터 문자를 추출한다.\n",
    "* 끝인덱스 : 해당 인덱스 전까지 문자를 추출한다. \n",
    "* 계단(step) : 시작인덱스부터 몇 계단씩 건너뛰며 문자를 추출할지 결정한다. 예를 들어, 계단값이 2라면 하나 건너 추출한다.  "
   ]
  },
  {
   "cell_type": "code",
   "execution_count": null,
   "id": "e237ad13-084d-4eb0-acd7-41c9eef64f9a",
   "metadata": {
    "colab": {
     "base_uri": "https://localhost:8080/",
     "height": 35
    },
    "executionInfo": {
     "elapsed": 573,
     "status": "ok",
     "timestamp": 1614837804906,
     "user": {
      "displayName": "HJ Kim",
      "photoUrl": "",
      "userId": "16634276932240017990"
     },
     "user_tz": -540
    },
    "id": "AIOS685O0sMM",
    "outputId": "4cafd6ed-376a-49f6-dd15-a40662df6d49"
   },
   "outputs": [
    {
     "data": {
      "application/vnd.google.colaboratory.intrinsic+json": {
       "type": "string"
      },
      "text/plain": [
       "'kebap'"
      ]
     },
     "execution_count": 39,
     "metadata": {
      "tags": []
     },
     "output_type": "execute_result"
    }
   ],
   "source": [
    "a_food"
   ]
  },
  {
   "cell_type": "markdown",
   "id": "1d572157-2cdc-4534-a50e-dda08eba7917",
   "metadata": {
    "id": "reZFCvS-1Zjb"
   },
   "source": [
    "`kebap`에서 `ke` 부분을 추출하고 싶다면 다음과 같이 하면 된다."
   ]
  },
  {
   "cell_type": "code",
   "execution_count": null,
   "id": "fd13fb1b-c58b-4b14-9d7d-10e2bdded06a",
   "metadata": {
    "colab": {
     "base_uri": "https://localhost:8080/",
     "height": 35
    },
    "executionInfo": {
     "elapsed": 613,
     "status": "ok",
     "timestamp": 1614837854481,
     "user": {
      "displayName": "HJ Kim",
      "photoUrl": "",
      "userId": "16634276932240017990"
     },
     "user_tz": -540
    },
    "id": "JJC517O31Wy4",
    "outputId": "54f871c0-27e6-47a1-de5c-6fc46a89d3f2"
   },
   "outputs": [
    {
     "data": {
      "application/vnd.google.colaboratory.intrinsic+json": {
       "type": "string"
      },
      "text/plain": [
       "'ke'"
      ]
     },
     "execution_count": 40,
     "metadata": {
      "tags": []
     },
     "output_type": "execute_result"
    }
   ],
   "source": [
    "a_food[0 : 2 : 1]"
   ]
  },
  {
   "cell_type": "markdown",
   "id": "00d79616-47d4-4fd9-9a99-33714f25abf4",
   "metadata": {
    "id": "4UvS0DW91kA8"
   },
   "source": [
    "즉, 문자열 처음부터 2번 인덱스 전까지, 즉 두 번째 문자까지 모두 추출하는 것이다. 반면에 하나씩 건너서 추출하려면 다음과 같이 하면 된다. "
   ]
  },
  {
   "cell_type": "code",
   "execution_count": null,
   "id": "c51e0a24-119c-4fce-b121-0d18592a06dd",
   "metadata": {
    "colab": {
     "base_uri": "https://localhost:8080/",
     "height": 35
    },
    "executionInfo": {
     "elapsed": 613,
     "status": "ok",
     "timestamp": 1614837916492,
     "user": {
      "displayName": "HJ Kim",
      "photoUrl": "",
      "userId": "16634276932240017990"
     },
     "user_tz": -540
    },
    "id": "IdKkVw9x1i5s",
    "outputId": "035b0b39-ac6f-4df1-f559-ae42e99eb471"
   },
   "outputs": [
    {
     "data": {
      "application/vnd.google.colaboratory.intrinsic+json": {
       "type": "string"
      },
      "text/plain": [
       "'kb'"
      ]
     },
     "execution_count": 42,
     "metadata": {
      "tags": []
     },
     "output_type": "execute_result"
    }
   ],
   "source": [
    "a_food[0 : 4 : 2]"
   ]
  },
  {
   "cell_type": "markdown",
   "id": "25f8e452-a82f-4430-9ff4-09456cbfad46",
   "metadata": {
    "id": "k2ZfBaY328IS"
   },
   "source": [
    "시작인덱스, 끝인덱스, 계단 각각의 인자는 경우에 따라 생략될 수도 있다. 그럴 때는 각각의 위치에 기본값(default)이 들어 있는 것으로 처리되며, 기본값은 다음과 같다.\n",
    "\n",
    "* `시작인덱스`의 기본값 = `0`\n",
    "* `끝인덱스`의 기본값 = 문자열의 길이\n",
    "* `계단`의 기본값 = `1`"
   ]
  },
  {
   "cell_type": "code",
   "execution_count": null,
   "id": "f7d19631-2714-460e-a0e8-1bc2aec2a865",
   "metadata": {
    "colab": {
     "base_uri": "https://localhost:8080/",
     "height": 35
    },
    "executionInfo": {
     "elapsed": 615,
     "status": "ok",
     "timestamp": 1614838384578,
     "user": {
      "displayName": "HJ Kim",
      "photoUrl": "",
      "userId": "16634276932240017990"
     },
     "user_tz": -540
    },
    "id": "Wq9ETyve1wTM",
    "outputId": "758adf9a-57fa-4af2-c20a-2fad46dbeae0"
   },
   "outputs": [
    {
     "data": {
      "application/vnd.google.colaboratory.intrinsic+json": {
       "type": "string"
      },
      "text/plain": [
       "'ke'"
      ]
     },
     "execution_count": 43,
     "metadata": {
      "tags": []
     },
     "output_type": "execute_result"
    }
   ],
   "source": [
    "a_food[0 : 2]"
   ]
  },
  {
   "cell_type": "code",
   "execution_count": null,
   "id": "27ae2e51-f79b-4c22-a3a5-d3a8f62ae500",
   "metadata": {
    "colab": {
     "base_uri": "https://localhost:8080/",
     "height": 35
    },
    "executionInfo": {
     "elapsed": 610,
     "status": "ok",
     "timestamp": 1614838392906,
     "user": {
      "displayName": "HJ Kim",
      "photoUrl": "",
      "userId": "16634276932240017990"
     },
     "user_tz": -540
    },
    "id": "ZlOTBHjb3kUX",
    "outputId": "a1d947a0-d9b6-4cde-8393-3921c56549af"
   },
   "outputs": [
    {
     "data": {
      "application/vnd.google.colaboratory.intrinsic+json": {
       "type": "string"
      },
      "text/plain": [
       "'ke'"
      ]
     },
     "execution_count": 44,
     "metadata": {
      "tags": []
     },
     "output_type": "execute_result"
    }
   ],
   "source": [
    "a_food[ : 2]"
   ]
  },
  {
   "cell_type": "code",
   "execution_count": null,
   "id": "ea8111cc-4ecb-43da-88b9-b011500ecab4",
   "metadata": {
    "colab": {
     "base_uri": "https://localhost:8080/",
     "height": 35
    },
    "executionInfo": {
     "elapsed": 680,
     "status": "ok",
     "timestamp": 1614838402833,
     "user": {
      "displayName": "HJ Kim",
      "photoUrl": "",
      "userId": "16634276932240017990"
     },
     "user_tz": -540
    },
    "id": "V9fTfxfr3mWl",
    "outputId": "0544a596-800a-4b71-b3b5-e606d45941f5"
   },
   "outputs": [
    {
     "data": {
      "application/vnd.google.colaboratory.intrinsic+json": {
       "type": "string"
      },
      "text/plain": [
       "'kb'"
      ]
     },
     "execution_count": 45,
     "metadata": {
      "tags": []
     },
     "output_type": "execute_result"
    }
   ],
   "source": [
    "a_food[ : 4 : 2]"
   ]
  },
  {
   "cell_type": "code",
   "execution_count": null,
   "id": "52e0579c-003c-4bb8-8575-35bb8ad47262",
   "metadata": {
    "colab": {
     "base_uri": "https://localhost:8080/",
     "height": 35
    },
    "executionInfo": {
     "elapsed": 630,
     "status": "ok",
     "timestamp": 1614838414257,
     "user": {
      "displayName": "HJ Kim",
      "photoUrl": "",
      "userId": "16634276932240017990"
     },
     "user_tz": -540
    },
    "id": "JwyYmASn3owl",
    "outputId": "44932d0a-2fee-4f04-c896-ce38f44f08ba"
   },
   "outputs": [
    {
     "data": {
      "application/vnd.google.colaboratory.intrinsic+json": {
       "type": "string"
      },
      "text/plain": [
       "'kbp'"
      ]
     },
     "execution_count": 46,
     "metadata": {
      "tags": []
     },
     "output_type": "execute_result"
    }
   ],
   "source": [
    "a_food[ : : 2]"
   ]
  },
  {
   "cell_type": "markdown",
   "id": "c006d0e3-2497-4c09-8bbb-a31fa6aa97c7",
   "metadata": {
    "id": "1g9CM3fc3tPU"
   },
   "source": [
    "양수와 음수를 인덱스로 섞어서 사용할 수도 있다."
   ]
  },
  {
   "cell_type": "code",
   "execution_count": null,
   "id": "f0f5ab03-cae4-44a2-ab95-c597c092ea19",
   "metadata": {
    "colab": {
     "base_uri": "https://localhost:8080/",
     "height": 35
    },
    "executionInfo": {
     "elapsed": 586,
     "status": "ok",
     "timestamp": 1614838442813,
     "user": {
      "displayName": "HJ Kim",
      "photoUrl": "",
      "userId": "16634276932240017990"
     },
     "user_tz": -540
    },
    "id": "2v4sCel73rkF",
    "outputId": "548001cd-6a1b-46f7-b1d4-57ddef4dbebb"
   },
   "outputs": [
    {
     "data": {
      "application/vnd.google.colaboratory.intrinsic+json": {
       "type": "string"
      },
      "text/plain": [
       "'kb'"
      ]
     },
     "execution_count": 47,
     "metadata": {
      "tags": []
     },
     "output_type": "execute_result"
    }
   ],
   "source": [
    "a_food[ : -1 : 2]"
   ]
  },
  {
   "cell_type": "markdown",
   "id": "a85c9c0b-fe2f-4e28-a33a-9ea4f9a29483",
   "metadata": {
    "id": "x5f03A9V32zy"
   },
   "source": [
    "주의 : -1은 문자열의 끝인덱스를 의미한다.  \n",
    "\n",
    "끝인덱스가 문자열의 길이보다 클 수도 있다. 다만 문자열의 길이만큼만 문자를 확인하다. "
   ]
  },
  {
   "cell_type": "code",
   "execution_count": null,
   "id": "690f8a52-5659-4e96-afc3-7d16dcc29d9b",
   "metadata": {
    "colab": {
     "base_uri": "https://localhost:8080/",
     "height": 35
    },
    "executionInfo": {
     "elapsed": 573,
     "status": "ok",
     "timestamp": 1614838517346,
     "user": {
      "displayName": "HJ Kim",
      "photoUrl": "",
      "userId": "16634276932240017990"
     },
     "user_tz": -540
    },
    "id": "E5W1d6yb3yi1",
    "outputId": "80f4344d-adbe-4622-8a09-1fd9daa285ae"
   },
   "outputs": [
    {
     "data": {
      "application/vnd.google.colaboratory.intrinsic+json": {
       "type": "string"
      },
      "text/plain": [
       "'kebap'"
      ]
     },
     "execution_count": 48,
     "metadata": {
      "tags": []
     },
     "output_type": "execute_result"
    }
   ],
   "source": [
    "a_food[: 10]"
   ]
  },
  {
   "cell_type": "markdown",
   "id": "9e6e8017-940a-4452-a97a-7ba7122630aa",
   "metadata": {
    "id": "SisBxWXN4GMI"
   },
   "source": [
    "아래와 같이 아무것도 입력하지 않으면 해당 문자열 전체를 추출한다."
   ]
  },
  {
   "cell_type": "code",
   "execution_count": null,
   "id": "c4f9d02f-cc05-45ac-8d38-291cac4aad4a",
   "metadata": {
    "colab": {
     "base_uri": "https://localhost:8080/",
     "height": 35
    },
    "executionInfo": {
     "elapsed": 588,
     "status": "ok",
     "timestamp": 1614838546252,
     "user": {
      "displayName": "HJ Kim",
      "photoUrl": "",
      "userId": "16634276932240017990"
     },
     "user_tz": -540
    },
    "id": "ZjKeSt3V4EvV",
    "outputId": "42bee550-89aa-4818-972d-bbdc7667e5ec"
   },
   "outputs": [
    {
     "data": {
      "application/vnd.google.colaboratory.intrinsic+json": {
       "type": "string"
      },
      "text/plain": [
       "'kebap'"
      ]
     },
     "execution_count": 49,
     "metadata": {
      "tags": []
     },
     "output_type": "execute_result"
    }
   ],
   "source": [
    "a_food[:]"
   ]
  },
  {
   "cell_type": "markdown",
   "id": "0e83060d-e436-4ee2-a8b6-623cbe4baeec",
   "metadata": {
    "id": "dgy1RtXv4NKo"
   },
   "source": [
    "시작인덱스의 값이 끝인덱스 값보다 같거나 작아야 제대로 추출한다. 그렇지 않으면 공문자열이 추출된다."
   ]
  },
  {
   "cell_type": "code",
   "execution_count": null,
   "id": "8ba66499-e467-4d19-a457-c96f53042fa5",
   "metadata": {
    "colab": {
     "base_uri": "https://localhost:8080/",
     "height": 35
    },
    "executionInfo": {
     "elapsed": 596,
     "status": "ok",
     "timestamp": 1614838588009,
     "user": {
      "displayName": "HJ Kim",
      "photoUrl": "",
      "userId": "16634276932240017990"
     },
     "user_tz": -540
    },
    "id": "q9q9S3O14Ly8",
    "outputId": "18b4245e-03b4-476f-a3a4-46f8054942fc"
   },
   "outputs": [
    {
     "data": {
      "application/vnd.google.colaboratory.intrinsic+json": {
       "type": "string"
      },
      "text/plain": [
       "''"
      ]
     },
     "execution_count": 50,
     "metadata": {
      "tags": []
     },
     "output_type": "execute_result"
    }
   ],
   "source": [
    "a_food[3 : 1]"
   ]
  },
  {
   "cell_type": "markdown",
   "id": "d4aef7a5-7e0d-42bd-a106-a92deacf6b90",
   "metadata": {
    "id": "tL6QBFeg4Yl0"
   },
   "source": [
    "이유는 슬라이싱은 기본적으로 작은 인덱스에서 큰 인덱스 방향으로 확인하기 때문이다. 역순으로 추출하고자 한다면 계단을 음수로 사용하면 된다."
   ]
  },
  {
   "cell_type": "code",
   "execution_count": null,
   "id": "3bde3146-3aba-4705-82fa-0f94a1358eb5",
   "metadata": {
    "colab": {
     "base_uri": "https://localhost:8080/",
     "height": 35
    },
    "executionInfo": {
     "elapsed": 628,
     "status": "ok",
     "timestamp": 1614838647392,
     "user": {
      "displayName": "HJ Kim",
      "photoUrl": "",
      "userId": "16634276932240017990"
     },
     "user_tz": -540
    },
    "id": "U5moAGNZ4V_L",
    "outputId": "dbd34707-764d-4a73-e9ac-914df26142d5"
   },
   "outputs": [
    {
     "data": {
      "application/vnd.google.colaboratory.intrinsic+json": {
       "type": "string"
      },
      "text/plain": [
       "'ab'"
      ]
     },
     "execution_count": 51,
     "metadata": {
      "tags": []
     },
     "output_type": "execute_result"
    }
   ],
   "source": [
    "a_food[3 : 1 : -1]"
   ]
  },
  {
   "cell_type": "code",
   "execution_count": null,
   "id": "77f96858-6e37-4170-a6fe-3cfb31faf2ba",
   "metadata": {
    "colab": {
     "base_uri": "https://localhost:8080/",
     "height": 35
    },
    "executionInfo": {
     "elapsed": 650,
     "status": "ok",
     "timestamp": 1614838665409,
     "user": {
      "displayName": "HJ Kim",
      "photoUrl": "",
      "userId": "16634276932240017990"
     },
     "user_tz": -540
    },
    "id": "hz1n2zbC4ker",
    "outputId": "adfe237e-fa42-46eb-ab04-9a9c7f6bc581"
   },
   "outputs": [
    {
     "data": {
      "application/vnd.google.colaboratory.intrinsic+json": {
       "type": "string"
      },
      "text/plain": [
       "'pabek'"
      ]
     },
     "execution_count": 52,
     "metadata": {
      "tags": []
     },
     "output_type": "execute_result"
    }
   ],
   "source": [
    "a_food[-1 : : -1]"
   ]
  },
  {
   "cell_type": "markdown",
   "id": "8417c7ad-c1c4-429d-9f36-c29e88ebd1f3",
   "metadata": {
    "id": "jztL-_Wd81l2"
   },
   "source": [
    "## 문자열 관련 메소드\n",
    "\n",
    "문자열 자료형에만 사용하는 함수들이 있다. 이와같이 특정 자료형에만 사용하는 함수들을 메소드(method)라 부른다.  \n",
    "\n",
    "보다 자세한 설명은 여기서는 하지 않는다. 다만 특정 자료형을 잘 다루기 위해서는 어떤 경우에 어떤 메소드를 유용하게 활용할 수 있는지를 잘 파악해두는 것이 매우 중요하다는 점만 강조한다. \n"
   ]
  },
  {
   "cell_type": "markdown",
   "id": "0fb82231-031b-4cc7-990e-c6d4131c69ad",
   "metadata": {
    "id": "uSTq4LGT9k5P"
   },
   "source": [
    "### 메소드 호출방법\n",
    "\n",
    "예를 들어, `banana` 문자열을 이용하여 `BANANA`처럼 모두 대문자로만 구성된 문자열을 생성하고자 한다면 `upper`라는 메소드를 아래와 같이 사용한다.\n",
    "\n",
    "> `'banana'.upper()` \n",
    "\n",
    "메소드는 일반적인 함수들과는 달리, 특정 자료형의 값이 먼저 언급된 다음에 호출된다. "
   ]
  },
  {
   "cell_type": "markdown",
   "id": "81238304-8cc0-4f7f-b9e8-cb5cb86ede3e",
   "metadata": {
    "id": "YlZbPRF4_dDV"
   },
   "source": [
    "### 문자열 메소드 추가 예제\n",
    "\n",
    "`upper()` 메소드 이외에 문자열과 관련된 메소드는 매우 많다. 여기서는 가장 많이 사용되는 메소드 몇 개를 소개하고자 한다. \n",
    "\n",
    "* `strip()`\n",
    "* `split()`\n",
    "* `replace()`\n",
    "* `upper()`\n",
    "* `lower()`\n",
    "* `capitalize()`\n",
    "* `title()`\n",
    "* `startswith()`\n",
    "* `endswith()`\n",
    "\n",
    "예제를 통해 각 메소드의 활용법을 간략하게 확인한다. \n",
    "\n",
    "먼저 `week_days` 변수에 요일들을 저장한다."
   ]
  },
  {
   "cell_type": "code",
   "execution_count": null,
   "id": "e19e8278-b641-4084-9f23-0f0d3881f61c",
   "metadata": {
    "id": "r5Kx4W-F4o30"
   },
   "outputs": [],
   "source": [
    "week_days = \" Mon, Tue, Wed, Thu, Fri, Sat, Sun \""
   ]
  },
  {
   "cell_type": "markdown",
   "id": "2e83536f-46f9-471a-8a87-3ba508c161b9",
   "metadata": {
    "id": "phhtkQ9uBqfW"
   },
   "source": [
    "* `strip()` 메소드는 문자열의 양 끝을 지정한 문자열 기준으로 삭제하는 방식으로 정리한다. \n",
    "예를 들어, 문자열 양 끝에 있는 스페이스를 삭제하고자 할 경우 아래와 같이 실행한다. "
   ]
  },
  {
   "cell_type": "code",
   "execution_count": null,
   "id": "24d39a95-c13c-4582-b2bb-43655f3778c5",
   "metadata": {
    "colab": {
     "base_uri": "https://localhost:8080/",
     "height": 35
    },
    "executionInfo": {
     "elapsed": 583,
     "status": "ok",
     "timestamp": 1614841127759,
     "user": {
      "displayName": "HJ Kim",
      "photoUrl": "",
      "userId": "16634276932240017990"
     },
     "user_tz": -540
    },
    "id": "Kl9OJTw7B5U8",
    "outputId": "d8523501-b01c-493f-eebb-befb5a33a2e9"
   },
   "outputs": [
    {
     "data": {
      "application/vnd.google.colaboratory.intrinsic+json": {
       "type": "string"
      },
      "text/plain": [
       "'Mon, Tue, Wed, Thu, Fri, Sat, Sun'"
      ]
     },
     "execution_count": 60,
     "metadata": {
      "tags": []
     },
     "output_type": "execute_result"
    }
   ],
   "source": [
    "week_days.strip(\" \")"
   ]
  },
  {
   "cell_type": "markdown",
   "id": "00292d98-a6cb-4eec-af72-63bab81673da",
   "metadata": {
    "id": "oJP-BhxkCIRo"
   },
   "source": [
    "`strip()` 메소드를 인자 없이 호출하는 경우와 동일하다. "
   ]
  },
  {
   "cell_type": "code",
   "execution_count": null,
   "id": "2c4e998c-4112-4231-b22e-d9b290fd2e32",
   "metadata": {
    "colab": {
     "base_uri": "https://localhost:8080/",
     "height": 35
    },
    "executionInfo": {
     "elapsed": 592,
     "status": "ok",
     "timestamp": 1614841197200,
     "user": {
      "displayName": "HJ Kim",
      "photoUrl": "",
      "userId": "16634276932240017990"
     },
     "user_tz": -540
    },
    "id": "cGosY_UCCCC9",
    "outputId": "b834a383-a188-4243-90e4-1c0fdb8280fb"
   },
   "outputs": [
    {
     "data": {
      "application/vnd.google.colaboratory.intrinsic+json": {
       "type": "string"
      },
      "text/plain": [
       "'Mon, Tue, Wed, Thu, Fri, Sat, Sun'"
      ]
     },
     "execution_count": 61,
     "metadata": {
      "tags": []
     },
     "output_type": "execute_result"
    }
   ],
   "source": [
    "week_days.strip()"
   ]
  },
  {
   "cell_type": "markdown",
   "id": "257d5115-5f3c-4f64-930d-f28b656e0732",
   "metadata": {
    "id": "FIHx8VOxCVLy"
   },
   "source": [
    "* `split()` 메소드는 지정된 부분문자열을 기준으로 문자열을 쪼개어 문자열들의 리스트로 반환한다. 리스트 자료형은 이후에 자세히 다룬다.  \n",
    "\n",
    "아래의 예제는 `\", \"`, 즉 콤마와 스페이스를 기준으로 문자열을 쪼갠다."
   ]
  },
  {
   "cell_type": "code",
   "execution_count": null,
   "id": "bf6b4fe5-8457-415f-b3a7-ac573ec84df7",
   "metadata": {
    "colab": {
     "base_uri": "https://localhost:8080/"
    },
    "executionInfo": {
     "elapsed": 597,
     "status": "ok",
     "timestamp": 1614841294637,
     "user": {
      "displayName": "HJ Kim",
      "photoUrl": "",
      "userId": "16634276932240017990"
     },
     "user_tz": -540
    },
    "id": "qZrdwixFCS_2",
    "outputId": "26248c28-13b4-4766-d346-ad5471934b1c"
   },
   "outputs": [
    {
     "data": {
      "text/plain": [
       "[' Mon', 'Tue', 'Wed', 'Thu', 'Fri', 'Sat', 'Sun ']"
      ]
     },
     "execution_count": 62,
     "metadata": {
      "tags": []
     },
     "output_type": "execute_result"
    }
   ],
   "source": [
    "week_days.split(\", \")"
   ]
  },
  {
   "cell_type": "markdown",
   "id": "d6f27d92-72ff-4d79-9526-b2865938ca71",
   "metadata": {
    "id": "gIQ9WDMdCsRL"
   },
   "source": [
    "두 개 이상의 메소드를 조합해서 활용할 수도 있다.  \n",
    "예를 들어, `strip()` 메소드를 먼저 실행한 다음에 그 결과에 `split()` 메소드를 실행하면 좀 더 산뜻한 결과를 얻을 수 있다. "
   ]
  },
  {
   "cell_type": "code",
   "execution_count": null,
   "id": "7435f764-a89e-4ed4-8d57-b10b9f11ab21",
   "metadata": {
    "colab": {
     "base_uri": "https://localhost:8080/"
    },
    "executionInfo": {
     "elapsed": 593,
     "status": "ok",
     "timestamp": 1614841384017,
     "user": {
      "displayName": "HJ Kim",
      "photoUrl": "",
      "userId": "16634276932240017990"
     },
     "user_tz": -540
    },
    "id": "5g1FWGqVCqyV",
    "outputId": "cb129566-4e3b-4883-cd2a-d8aa5a91410f"
   },
   "outputs": [
    {
     "data": {
      "text/plain": [
       "['Mon', 'Tue', 'Wed', 'Thu', 'Fri', 'Sat', 'Sun']"
      ]
     },
     "execution_count": 63,
     "metadata": {
      "tags": []
     },
     "output_type": "execute_result"
    }
   ],
   "source": [
    "week_days.strip(\" \").split(\", \")"
   ]
  },
  {
   "cell_type": "markdown",
   "id": "d22dc57c-a984-4770-a45e-5602154c61f9",
   "metadata": {},
   "source": [
    ":::{admonition} 주의  \n",
    ":class: caution  \n",
    "아래와 같이 `split()` 메소드를 실행한 다음에 그 결과에 `strip()` 메소드를 실행하면 오류가 발생한다. 앞에서 언급한 것처럼 `split()` 메소드는 지정된 부분문자열을 기준으로 문자열을 쪼개어 문자열들의 리스트로 반환하고, 리스트에는 `strip()` 메소드가 없기 때문이다.\n",
    "\n",
    "```python\n",
    ">>> week_days.split(\", \").strip(\" \")\n",
    "---------------------------------------------------------------------------\n",
    "AttributeError                            Traceback (most recent call last)\n",
    "<ipython-input-64-df2f84ecfaf8> in <module>()\n",
    "----> 1 week_days.split(\", \").strip(\" \")\n",
    "\n",
    "AttributeError: 'list' object has no attribute 'strip'\n",
    "```\n",
    ":::\n"
   ]
  },
  {
   "cell_type": "markdown",
   "id": "3dbdffa4-0473-472f-a0c8-f791e0c0fd07",
   "metadata": {
    "id": "nun1hRtSFm4R"
   },
   "source": [
    "* `replace()` 메소드는 하나의 문자열을 다른 문자열로 대체한다. \n",
    " \n",
    "예를 들어, `\" Mon\"`을 `Mon`으로 대체할 경우 아래와 같이 실행한다."
   ]
  },
  {
   "cell_type": "code",
   "execution_count": null,
   "id": "d2e64ee5-72d7-4157-a3fa-a5690e9a09ad",
   "metadata": {
    "colab": {
     "base_uri": "https://localhost:8080/",
     "height": 35
    },
    "executionInfo": {
     "elapsed": 615,
     "status": "ok",
     "timestamp": 1614842233937,
     "user": {
      "displayName": "HJ Kim",
      "photoUrl": "",
      "userId": "16634276932240017990"
     },
     "user_tz": -540
    },
    "id": "YfCbnt2mFinK",
    "outputId": "b964b7b2-0304-41b5-966f-9b7cf3775749"
   },
   "outputs": [
    {
     "data": {
      "application/vnd.google.colaboratory.intrinsic+json": {
       "type": "string"
      },
      "text/plain": [
       "'Mon, Tue, Wed, Thu, Fri, Sat, Sun '"
      ]
     },
     "execution_count": 65,
     "metadata": {
      "tags": []
     },
     "output_type": "execute_result"
    }
   ],
   "source": [
    "week_days.replace(\" Mon\", \"Mon\")"
   ]
  },
  {
   "cell_type": "markdown",
   "id": "5768fea9-4a96-4d55-8167-1bc5d3443818",
   "metadata": {
    "id": "PNxqHMf3GRqa"
   },
   "source": [
    "* `upper()` 메소드는 모든 문자를 대문자로 변환시킨다. "
   ]
  },
  {
   "cell_type": "code",
   "execution_count": null,
   "id": "7c732ecb-57ab-476d-a5ed-282c639415c1",
   "metadata": {
    "colab": {
     "base_uri": "https://localhost:8080/",
     "height": 35
    },
    "executionInfo": {
     "elapsed": 579,
     "status": "ok",
     "timestamp": 1614842278613,
     "user": {
      "displayName": "HJ Kim",
      "photoUrl": "",
      "userId": "16634276932240017990"
     },
     "user_tz": -540
    },
    "id": "ZreK3g6uGQGc",
    "outputId": "d542bf59-38db-4ebc-df9d-c9d89cd1d8fc"
   },
   "outputs": [
    {
     "data": {
      "application/vnd.google.colaboratory.intrinsic+json": {
       "type": "string"
      },
      "text/plain": [
       "' MON, TUE, WED, THU, FRI, SAT, SUN '"
      ]
     },
     "execution_count": 66,
     "metadata": {
      "tags": []
     },
     "output_type": "execute_result"
    }
   ],
   "source": [
    "week_days.upper()"
   ]
  },
  {
   "cell_type": "code",
   "execution_count": null,
   "id": "62c02a8a-84c8-4eff-8525-bbb437bec433",
   "metadata": {
    "colab": {
     "base_uri": "https://localhost:8080/",
     "height": 35
    },
    "executionInfo": {
     "elapsed": 888,
     "status": "ok",
     "timestamp": 1614842296944,
     "user": {
      "displayName": "HJ Kim",
      "photoUrl": "",
      "userId": "16634276932240017990"
     },
     "user_tz": -540
    },
    "id": "tIDhOqAoGbA9",
    "outputId": "c4c45e6c-3775-4d1a-cdbe-d2789abd7b28"
   },
   "outputs": [
    {
     "data": {
      "application/vnd.google.colaboratory.intrinsic+json": {
       "type": "string"
      },
      "text/plain": [
       "'MON, TUE, WED, THU, FRI, SAT, SUN'"
      ]
     },
     "execution_count": 67,
     "metadata": {
      "tags": []
     },
     "output_type": "execute_result"
    }
   ],
   "source": [
    "week_days.strip().upper()"
   ]
  },
  {
   "cell_type": "markdown",
   "id": "b2b334db-ca12-4fd6-b725-6d508a85a0f7",
   "metadata": {
    "id": "If_KLF46Ghzc"
   },
   "source": [
    "* `lower()` 메소드는 모든 문자를 소문자로 변환시킨다."
   ]
  },
  {
   "cell_type": "code",
   "execution_count": null,
   "id": "973ebd03-65e9-49bd-b5cc-b6851ff053f2",
   "metadata": {
    "colab": {
     "base_uri": "https://localhost:8080/",
     "height": 35
    },
    "executionInfo": {
     "elapsed": 580,
     "status": "ok",
     "timestamp": 1614842333637,
     "user": {
      "displayName": "HJ Kim",
      "photoUrl": "",
      "userId": "16634276932240017990"
     },
     "user_tz": -540
    },
    "id": "xX7o0ELPGfau",
    "outputId": "18e72762-5c99-4314-f50c-8033e56c92fc"
   },
   "outputs": [
    {
     "data": {
      "application/vnd.google.colaboratory.intrinsic+json": {
       "type": "string"
      },
      "text/plain": [
       "' mon, tue, wed, thu, fri, sat, sun '"
      ]
     },
     "execution_count": 68,
     "metadata": {
      "tags": []
     },
     "output_type": "execute_result"
    }
   ],
   "source": [
    "week_days.lower()"
   ]
  },
  {
   "cell_type": "code",
   "execution_count": null,
   "id": "792933b4-dcb0-44c8-80d9-18df450e04bd",
   "metadata": {
    "colab": {
     "base_uri": "https://localhost:8080/",
     "height": 35
    },
    "executionInfo": {
     "elapsed": 603,
     "status": "ok",
     "timestamp": 1614842363447,
     "user": {
      "displayName": "HJ Kim",
      "photoUrl": "",
      "userId": "16634276932240017990"
     },
     "user_tz": -540
    },
    "id": "2Qc3N5TtGs2e",
    "outputId": "bcc9b520-64b3-4d27-9c39-9969025689ba"
   },
   "outputs": [
    {
     "data": {
      "application/vnd.google.colaboratory.intrinsic+json": {
       "type": "string"
      },
      "text/plain": [
       "'mon, tue, wed, thu, fri, sat, sun'"
      ]
     },
     "execution_count": 69,
     "metadata": {
      "tags": []
     },
     "output_type": "execute_result"
    }
   ],
   "source": [
    "week_days.strip().lower()"
   ]
  },
  {
   "cell_type": "code",
   "execution_count": null,
   "id": "de2e3070-267e-41b7-9915-e1a2be679d9d",
   "metadata": {
    "colab": {
     "base_uri": "https://localhost:8080/"
    },
    "executionInfo": {
     "elapsed": 623,
     "status": "ok",
     "timestamp": 1614842389770,
     "user": {
      "displayName": "HJ Kim",
      "photoUrl": "",
      "userId": "16634276932240017990"
     },
     "user_tz": -540
    },
    "id": "95x5SwNqGxP-",
    "outputId": "06114cf7-06a8-4554-cd0d-c11f50dc8884"
   },
   "outputs": [
    {
     "data": {
      "text/plain": [
       "['mon', 'tue', 'wed', 'thu', 'fri', 'sat', 'sun']"
      ]
     },
     "execution_count": 70,
     "metadata": {
      "tags": []
     },
     "output_type": "execute_result"
    }
   ],
   "source": [
    "week_days.strip().lower().split(\", \")"
   ]
  },
  {
   "cell_type": "markdown",
   "id": "4b869a9c-6383-4dd6-af14-779a4895deb0",
   "metadata": {
    "id": "9bhV4ww8Gply"
   },
   "source": [
    "* `caplitalize()` 메소드는 제일 첫 문자를 대문자로 변환시킨다.  \n",
    "\n",
    "아래 예제는 변화가 없어 보인다. 이유는 첫 문자가 스페이스이기 때문이다."
   ]
  },
  {
   "cell_type": "code",
   "execution_count": null,
   "id": "57b6382c-b607-434c-a8ef-99e237756a1a",
   "metadata": {
    "colab": {
     "base_uri": "https://localhost:8080/",
     "height": 35
    },
    "executionInfo": {
     "elapsed": 582,
     "status": "ok",
     "timestamp": 1614842457558,
     "user": {
      "displayName": "HJ Kim",
      "photoUrl": "",
      "userId": "16634276932240017990"
     },
     "user_tz": -540
    },
    "id": "bUXb0Y3FGoct",
    "outputId": "d05d5c52-c8cd-47b3-dc8d-54e8022bd6b3"
   },
   "outputs": [
    {
     "data": {
      "application/vnd.google.colaboratory.intrinsic+json": {
       "type": "string"
      },
      "text/plain": [
       "' mon, tue, wed, thu, fri, sat, sun '"
      ]
     },
     "execution_count": 71,
     "metadata": {
      "tags": []
     },
     "output_type": "execute_result"
    }
   ],
   "source": [
    "week_days.capitalize()"
   ]
  },
  {
   "cell_type": "code",
   "execution_count": null,
   "id": "1c53b530-8d13-4263-a866-a1c767fa9805",
   "metadata": {
    "colab": {
     "base_uri": "https://localhost:8080/",
     "height": 35
    },
    "executionInfo": {
     "elapsed": 635,
     "status": "ok",
     "timestamp": 1614842477450,
     "user": {
      "displayName": "HJ Kim",
      "photoUrl": "",
      "userId": "16634276932240017990"
     },
     "user_tz": -540
    },
    "id": "8puRDSuYHGtE",
    "outputId": "c3ebaf82-ef23-4f33-8b91-18dd68376112"
   },
   "outputs": [
    {
     "data": {
      "application/vnd.google.colaboratory.intrinsic+json": {
       "type": "string"
      },
      "text/plain": [
       "'Mon, tue, wed, thu, fri, sat, sun'"
      ]
     },
     "execution_count": 72,
     "metadata": {
      "tags": []
     },
     "output_type": "execute_result"
    }
   ],
   "source": [
    "week_days.strip().capitalize()"
   ]
  },
  {
   "cell_type": "markdown",
   "id": "b34ca45b-1b72-428a-9b54-e5130888f095",
   "metadata": {
    "id": "z6eNsb8MHRWz"
   },
   "source": [
    "* `title()` 메소드는 각각의 단어의 첫 문자를 대문자로 변환시킨다.  \n",
    "\n",
    "참고 : 영문 책의 타이틀은 각 단어의 첫 알파벳이 대문자로 쓰여진 경우가 많다. "
   ]
  },
  {
   "cell_type": "code",
   "execution_count": null,
   "id": "db8c3568-69fb-4b57-ae1a-d697d3f25bed",
   "metadata": {
    "colab": {
     "base_uri": "https://localhost:8080/",
     "height": 35
    },
    "executionInfo": {
     "elapsed": 557,
     "status": "ok",
     "timestamp": 1614842594189,
     "user": {
      "displayName": "HJ Kim",
      "photoUrl": "",
      "userId": "16634276932240017990"
     },
     "user_tz": -540
    },
    "id": "qGOMI2ULHLjG",
    "outputId": "e1ddee10-c679-4d3a-af5b-6e1a519109ac"
   },
   "outputs": [
    {
     "data": {
      "application/vnd.google.colaboratory.intrinsic+json": {
       "type": "string"
      },
      "text/plain": [
       "' Mon, Tue, Wed, Thu, Fri, Sat, Sun '"
      ]
     },
     "execution_count": 73,
     "metadata": {
      "tags": []
     },
     "output_type": "execute_result"
    }
   ],
   "source": [
    "week_days.title()"
   ]
  },
  {
   "cell_type": "code",
   "execution_count": null,
   "id": "8f054456-b905-4743-bfa6-a0cacd4e4189",
   "metadata": {
    "colab": {
     "base_uri": "https://localhost:8080/",
     "height": 35
    },
    "executionInfo": {
     "elapsed": 609,
     "status": "ok",
     "timestamp": 1614842612563,
     "user": {
      "displayName": "HJ Kim",
      "photoUrl": "",
      "userId": "16634276932240017990"
     },
     "user_tz": -540
    },
    "id": "_1xmBli3HoEL",
    "outputId": "b015d8ef-84d5-4a63-e709-cb613172f1dd"
   },
   "outputs": [
    {
     "data": {
      "application/vnd.google.colaboratory.intrinsic+json": {
       "type": "string"
      },
      "text/plain": [
       "'Mon, Tue, Wed, Thu, Fri, Sat, Sun'"
      ]
     },
     "execution_count": 74,
     "metadata": {
      "tags": []
     },
     "output_type": "execute_result"
    }
   ],
   "source": [
    "week_days.strip().title()"
   ]
  },
  {
   "cell_type": "markdown",
   "id": "8912717a-fc23-44ca-b691-0106082b23a1",
   "metadata": {
    "id": "ZLfkHCKzHvF5"
   },
   "source": [
    "* `startswith()` 메소드는 문자열이 특정 문자열로 시작하는지 여부를 판단해준다."
   ]
  },
  {
   "cell_type": "code",
   "execution_count": null,
   "id": "953b24cc-f8dd-4013-8818-b37d2c34e93d",
   "metadata": {
    "colab": {
     "base_uri": "https://localhost:8080/"
    },
    "executionInfo": {
     "elapsed": 665,
     "status": "ok",
     "timestamp": 1614842657410,
     "user": {
      "displayName": "HJ Kim",
      "photoUrl": "",
      "userId": "16634276932240017990"
     },
     "user_tz": -540
    },
    "id": "abfrneHIHsil",
    "outputId": "f237bfe6-9290-4b27-b93b-22e25a9f1bfd"
   },
   "outputs": [
    {
     "data": {
      "text/plain": [
       "True"
      ]
     },
     "execution_count": 75,
     "metadata": {
      "tags": []
     },
     "output_type": "execute_result"
    }
   ],
   "source": [
    "week_days.startswith(\" M\")"
   ]
  },
  {
   "cell_type": "markdown",
   "id": "9ca14741-b975-4747-9f04-4489448bb2e9",
   "metadata": {
    "id": "cmBi66mOH4yR"
   },
   "source": [
    "* `endswith()` 메소드는 문자열이 특정 문자열로 끝나는지 여부를 판단해준다."
   ]
  },
  {
   "cell_type": "code",
   "execution_count": null,
   "id": "a0ee57c3-890b-47d4-89eb-3d1172f112ea",
   "metadata": {
    "colab": {
     "base_uri": "https://localhost:8080/"
    },
    "executionInfo": {
     "elapsed": 611,
     "status": "ok",
     "timestamp": 1614842704956,
     "user": {
      "displayName": "HJ Kim",
      "photoUrl": "",
      "userId": "16634276932240017990"
     },
     "user_tz": -540
    },
    "id": "zpbFB-zrH3eV",
    "outputId": "d663017b-fa97-4c22-a221-b2ff92cd8ea7"
   },
   "outputs": [
    {
     "data": {
      "text/plain": [
       "True"
      ]
     },
     "execution_count": 76,
     "metadata": {
      "tags": []
     },
     "output_type": "execute_result"
    }
   ],
   "source": [
    "week_days.endswith(\"n \")"
   ]
  },
  {
   "cell_type": "markdown",
   "id": "39b9bfc1-7c61-4ecd-aac1-a15a75990139",
   "metadata": {
    "id": "mmPvJrFOIFWu"
   },
   "source": [
    "## 불변 자료형\n",
    "\n",
    "파이썬의 문자열 자료형의 값들은 변경이 불가능하다. 앞서 `week_days`에 할당된 문자열에 다양한 메소드를 적용하여 새로운 문자열을 생성하였지만 `week_days`에 할당된 문자열 자체는 전혀 변하지 않았음을 아래와 같이 확인할 수 있다. "
   ]
  },
  {
   "cell_type": "code",
   "execution_count": null,
   "id": "51c416e4-53e1-4c7e-b5af-6f4d6970e41a",
   "metadata": {
    "colab": {
     "base_uri": "https://localhost:8080/",
     "height": 35
    },
    "executionInfo": {
     "elapsed": 1034,
     "status": "ok",
     "timestamp": 1614843320059,
     "user": {
      "displayName": "HJ Kim",
      "photoUrl": "",
      "userId": "16634276932240017990"
     },
     "user_tz": -540
    },
    "id": "uSd77qJKIDGM",
    "outputId": "a1da0c89-3b52-4ac9-ef53-8806c4c1a5ab"
   },
   "outputs": [
    {
     "data": {
      "application/vnd.google.colaboratory.intrinsic+json": {
       "type": "string"
      },
      "text/plain": [
       "' Mon, Tue, Wed, Thu, Fri, Sat, Sun '"
      ]
     },
     "execution_count": 77,
     "metadata": {
      "tags": []
     },
     "output_type": "execute_result"
    }
   ],
   "source": [
    "week_days"
   ]
  },
  {
   "cell_type": "markdown",
   "id": "dde8ac5c-f0ff-4112-8252-e5ec64bf813b",
   "metadata": {
    "id": "ljfkQO4HKaDj"
   },
   "source": [
    "이와 같이 한 번 정해지면 절대 변경이 불가능한 자료형을 불변(immutable) 자료형이라 부른다.  \n",
    "주어진 문자열을 이용하여 새로운 문자열을 생성하고 활용하려면 새로운 변수에 저장하여 활용해야 한다."
   ]
  },
  {
   "cell_type": "code",
   "execution_count": null,
   "id": "b6bd52b6-c694-433d-9f2f-69e1618044cf",
   "metadata": {
    "id": "AJq3Hpw-KZKO"
   },
   "outputs": [],
   "source": [
    "stripped_week_days = week_days.strip()"
   ]
  },
  {
   "cell_type": "code",
   "execution_count": null,
   "id": "9c1053e3-d7c1-4c9b-88ed-d7292de66fd4",
   "metadata": {
    "colab": {
     "base_uri": "https://localhost:8080/",
     "height": 35
    },
    "executionInfo": {
     "elapsed": 578,
     "status": "ok",
     "timestamp": 1614843396429,
     "user": {
      "displayName": "HJ Kim",
      "photoUrl": "",
      "userId": "16634276932240017990"
     },
     "user_tz": -540
    },
    "id": "LD3e-wejKpw1",
    "outputId": "353f278b-aac7-42e5-c06d-2155187f0150"
   },
   "outputs": [
    {
     "data": {
      "application/vnd.google.colaboratory.intrinsic+json": {
       "type": "string"
      },
      "text/plain": [
       "'Mon, Tue, Wed, Thu, Fri, Sat, Sun'"
      ]
     },
     "execution_count": 79,
     "metadata": {
      "tags": []
     },
     "output_type": "execute_result"
    }
   ],
   "source": [
    "stripped_week_days"
   ]
  },
  {
   "cell_type": "markdown",
   "id": "f22d9561-634e-4e03-b7cf-6f0d876c1c6b",
   "metadata": {
    "id": "dCD-g9C6q46I"
   },
   "source": [
    "## 문자열 포매팅(String formatting)"
   ]
  },
  {
   "cell_type": "markdown",
   "id": "41f823ae-8785-44e2-8073-0785234a12ca",
   "metadata": {
    "id": "ergoH6iv_1ue"
   },
   "source": [
    "### str.format()  \n",
    "\n",
    "`format()`메소드를 사용하면, 문자열의 중괄호(`{}`)가 `format()`의 인자로 변경된다. 예제와 함께 살펴보자. "
   ]
  },
  {
   "cell_type": "code",
   "execution_count": null,
   "id": "754bc1f9-24b8-4693-8375-99fa9fec050f",
   "metadata": {
    "colab": {
     "base_uri": "https://localhost:8080/",
     "height": 35
    },
    "executionInfo": {
     "elapsed": 4,
     "status": "ok",
     "timestamp": 1640322984334,
     "user": {
      "displayName": "HJ Kim",
      "photoUrl": "https://lh3.googleusercontent.com/a/default-user=s64",
      "userId": "16634276932240017990"
     },
     "user_tz": -540
    },
    "id": "AyZDT4PnHxn_",
    "outputId": "5315e0b2-7db7-4b9d-a462-c0820bc1277b"
   },
   "outputs": [
    {
     "data": {
      "application/vnd.google.colaboratory.intrinsic+json": {
       "type": "string"
      },
      "text/plain": [
       "'alice님, 안녕하세요.'"
      ]
     },
     "execution_count": 25,
     "metadata": {},
     "output_type": "execute_result"
    }
   ],
   "source": [
    "'{}님, 안녕하세요.'.format('alice')"
   ]
  },
  {
   "cell_type": "code",
   "execution_count": null,
   "id": "7676d75b-e7ee-4421-a8e7-37075cdc603e",
   "metadata": {
    "colab": {
     "base_uri": "https://localhost:8080/",
     "height": 35
    },
    "executionInfo": {
     "elapsed": 15,
     "status": "ok",
     "timestamp": 1640309301516,
     "user": {
      "displayName": "HJ Kim",
      "photoUrl": "https://lh3.googleusercontent.com/a/default-user=s64",
      "userId": "16634276932240017990"
     },
     "user_tz": -540
    },
    "id": "joBaoxsCC-uP",
    "outputId": "423d18fe-c9cf-4d00-b895-54c3834a2550"
   },
   "outputs": [
    {
     "data": {
      "application/vnd.google.colaboratory.intrinsic+json": {
       "type": "string"
      },
      "text/plain": [
       "'alice님, 안녕하세요.'"
      ]
     },
     "execution_count": 2,
     "metadata": {},
     "output_type": "execute_result"
    }
   ],
   "source": [
    "name = 'alice'\n",
    "'{}님, 안녕하세요.'.format(name)"
   ]
  },
  {
   "cell_type": "code",
   "execution_count": null,
   "id": "04470105-844e-475f-92dc-4919f8c88fca",
   "metadata": {
    "colab": {
     "base_uri": "https://localhost:8080/",
     "height": 35
    },
    "executionInfo": {
     "elapsed": 308,
     "status": "ok",
     "timestamp": 1640310544950,
     "user": {
      "displayName": "HJ Kim",
      "photoUrl": "https://lh3.googleusercontent.com/a/default-user=s64",
      "userId": "16634276932240017990"
     },
     "user_tz": -540
    },
    "id": "nxT1r4nOH7nA",
    "outputId": "845c74cb-9d6e-4f11-e4e7-7354ecb403e3"
   },
   "outputs": [
    {
     "data": {
      "application/vnd.google.colaboratory.intrinsic+json": {
       "type": "string"
      },
      "text/plain": [
       "'alice는 10살이다.'"
      ]
     },
     "execution_count": 4,
     "metadata": {},
     "output_type": "execute_result"
    }
   ],
   "source": [
    "age = 10\n",
    "'alice는 {}살이다.'.format(age)"
   ]
  },
  {
   "cell_type": "markdown",
   "id": "c67da9c9-74a2-4c99-86b5-d8282d80773b",
   "metadata": {
    "id": "F65xY2Wt5EJk"
   },
   "source": [
    "여러 개의 값을 변경할 때는 콤마(,)로 구분해서 적어준다. "
   ]
  },
  {
   "cell_type": "code",
   "execution_count": null,
   "id": "5e2d1f9d-1a06-44d9-9100-20173a49c987",
   "metadata": {
    "colab": {
     "base_uri": "https://localhost:8080/",
     "height": 35
    },
    "executionInfo": {
     "elapsed": 407,
     "status": "ok",
     "timestamp": 1640310581808,
     "user": {
      "displayName": "HJ Kim",
      "photoUrl": "https://lh3.googleusercontent.com/a/default-user=s64",
      "userId": "16634276932240017990"
     },
     "user_tz": -540
    },
    "id": "weXwqat_HsWl",
    "outputId": "9426a2d5-2db2-4a0b-eaa7-e8777f52fc8b"
   },
   "outputs": [
    {
     "data": {
      "application/vnd.google.colaboratory.intrinsic+json": {
       "type": "string"
      },
      "text/plain": [
       "'alice는 10살이다.'"
      ]
     },
     "execution_count": 5,
     "metadata": {},
     "output_type": "execute_result"
    }
   ],
   "source": [
    "name = 'alice'\n",
    "age = 10\n",
    "'{}는 {}살이다.'.format(name, age)"
   ]
  },
  {
   "cell_type": "markdown",
   "id": "7c2975fb-9ddc-4502-b2a8-b2e65c7976d5",
   "metadata": {
    "id": "MG46-fG75C2d"
   },
   "source": [
    "인덱스 항목을 사용하여 넣어줄 위치를 지정할 수도 있다."
   ]
  },
  {
   "cell_type": "code",
   "execution_count": null,
   "id": "6edabb9c-75c3-40bc-870b-170209a87c80",
   "metadata": {
    "colab": {
     "base_uri": "https://localhost:8080/"
    },
    "executionInfo": {
     "elapsed": 3,
     "status": "ok",
     "timestamp": 1640324488677,
     "user": {
      "displayName": "HJ Kim",
      "photoUrl": "https://lh3.googleusercontent.com/a/default-user=s64",
      "userId": "16634276932240017990"
     },
     "user_tz": -540
    },
    "id": "NARmkwIW0Kqq",
    "outputId": "545695bc-2ff8-4229-a540-07b4fe89738d"
   },
   "outputs": [
    {
     "name": "stdout",
     "output_type": "stream",
     "text": [
      "alice와 bob는 친구다.\n",
      "alice와 bob는 친구다.\n",
      "bob와 alice는 친구다.\n"
     ]
    }
   ],
   "source": [
    "name1 = 'alice'\n",
    "name2 = 'bob'\n",
    "print('{}와 {}는 친구다.'.format(name1, name2))\n",
    "print('{0}와 {1}는 친구다.'.format(name1, name2))\n",
    "print('{1}와 {0}는 친구다.'.format(name1, name2))"
   ]
  },
  {
   "cell_type": "markdown",
   "id": "3323c036-34f5-483a-9633-394e626409d7",
   "metadata": {
    "id": "Tv2p0etW2WBi"
   },
   "source": [
    "**소수점 표현**  \n",
    "`:`뒤에 소수점아래 몇 번째 자리까지 출력할지를 적어주면, 그 만큼을 보여준다.  \n",
    "예제와 함께 살펴보자. \n",
    "* `.`은 소수점을 의미하고, 소수점 뒤의 숫자는 소수점 뒤에 나올 숫자의 개수다.  \n"
   ]
  },
  {
   "cell_type": "code",
   "execution_count": null,
   "id": "c2b05ecb-0900-486c-b72d-ff193d7c12a2",
   "metadata": {
    "colab": {
     "base_uri": "https://localhost:8080/"
    },
    "executionInfo": {
     "elapsed": 7,
     "status": "ok",
     "timestamp": 1640325892455,
     "user": {
      "displayName": "HJ Kim",
      "photoUrl": "https://lh3.googleusercontent.com/a/default-user=s64",
      "userId": "16634276932240017990"
     },
     "user_tz": -540
    },
    "id": "P0u61sidI1m0",
    "outputId": "8a68a2f0-c3e0-427d-dab2-560b6a600d4e"
   },
   "outputs": [
    {
     "name": "stdout",
     "output_type": "stream",
     "text": [
      "0.1\n",
      "0.12\n",
      "0.123\n",
      "0.12346\n"
     ]
    }
   ],
   "source": [
    "num = 0.123456789\n",
    "print('{0:.1f}'.format(num))\n",
    "print('{0:.2f}'.format(num))\n",
    "print('{0:.3f}'.format(num))\n",
    "print('{0:.5f}'.format(num)) # 소수점 아래 여섯 번째 자리에서 반올림"
   ]
  },
  {
   "cell_type": "markdown",
   "id": "662308ff-2d5c-4a10-a150-61287a50799f",
   "metadata": {
    "id": "VVZtoMFX_6fe"
   },
   "source": [
    "### f-string    \n",
    "문자열에 `f` 를 붙이면, 문자열 포매팅 기능을 사용할 수 있다.  \n",
    "예제와 함께 살펴보자.  "
   ]
  },
  {
   "cell_type": "code",
   "execution_count": null,
   "id": "46bd303a-b928-46f2-af42-fced239c0cd8",
   "metadata": {
    "colab": {
     "base_uri": "https://localhost:8080/",
     "height": 35
    },
    "executionInfo": {
     "elapsed": 8,
     "status": "ok",
     "timestamp": 1640321810708,
     "user": {
      "displayName": "HJ Kim",
      "photoUrl": "https://lh3.googleusercontent.com/a/default-user=s64",
      "userId": "16634276932240017990"
     },
     "user_tz": -540
    },
    "id": "QFAg5ygwzFbK",
    "outputId": "2c75e945-7623-4e57-a4db-8c5e99fe1df2"
   },
   "outputs": [
    {
     "data": {
      "application/vnd.google.colaboratory.intrinsic+json": {
       "type": "string"
      },
      "text/plain": [
       "'alice님, 안녕하세요.'"
      ]
     },
     "execution_count": 2,
     "metadata": {},
     "output_type": "execute_result"
    }
   ],
   "source": [
    "name = 'alice'\n",
    "f'{name}님, 안녕하세요.'"
   ]
  },
  {
   "cell_type": "code",
   "execution_count": null,
   "id": "e16b6a6c-902b-4560-8fcc-7acc330c0981",
   "metadata": {
    "colab": {
     "base_uri": "https://localhost:8080/",
     "height": 35
    },
    "executionInfo": {
     "elapsed": 260,
     "status": "ok",
     "timestamp": 1640321834814,
     "user": {
      "displayName": "HJ Kim",
      "photoUrl": "https://lh3.googleusercontent.com/a/default-user=s64",
      "userId": "16634276932240017990"
     },
     "user_tz": -540
    },
    "id": "Gep6bkoYzH2b",
    "outputId": "f5c877a4-a419-4365-9b82-b4f9e005ad14"
   },
   "outputs": [
    {
     "data": {
      "application/vnd.google.colaboratory.intrinsic+json": {
       "type": "string"
      },
      "text/plain": [
       "'alice는 10살이다.'"
      ]
     },
     "execution_count": 4,
     "metadata": {},
     "output_type": "execute_result"
    }
   ],
   "source": [
    "age = 10\n",
    "f'alice는 {age}살이다.'"
   ]
  },
  {
   "cell_type": "code",
   "execution_count": null,
   "id": "e7b7da4f-241a-4370-b643-edcf76003661",
   "metadata": {
    "colab": {
     "base_uri": "https://localhost:8080/",
     "height": 35
    },
    "executionInfo": {
     "elapsed": 263,
     "status": "ok",
     "timestamp": 1640321856900,
     "user": {
      "displayName": "HJ Kim",
      "photoUrl": "https://lh3.googleusercontent.com/a/default-user=s64",
      "userId": "16634276932240017990"
     },
     "user_tz": -540
    },
    "id": "82trUqTpzMlS",
    "outputId": "411fd5ba-e3b4-42f6-ec4b-2d4615f5bb83"
   },
   "outputs": [
    {
     "data": {
      "application/vnd.google.colaboratory.intrinsic+json": {
       "type": "string"
      },
      "text/plain": [
       "'alice는 10살이다.'"
      ]
     },
     "execution_count": 6,
     "metadata": {},
     "output_type": "execute_result"
    }
   ],
   "source": [
    "name = 'alice'\n",
    "age = 10\n",
    "f'{name}는 {age}살이다.'"
   ]
  },
  {
   "cell_type": "markdown",
   "id": "8b081fe6-7ead-445c-a16c-4286ec7f33f3",
   "metadata": {
    "id": "gExl_ASv9GHF"
   },
   "source": [
    "`{}`안에 변수와 수식(+, -, *, / 등)을 함께 사용하는 것도 가능하다. "
   ]
  },
  {
   "cell_type": "code",
   "execution_count": null,
   "id": "c2e95741-bf5d-4384-83ce-7ed58e0f653c",
   "metadata": {
    "colab": {
     "base_uri": "https://localhost:8080/",
     "height": 35
    },
    "executionInfo": {
     "elapsed": 270,
     "status": "ok",
     "timestamp": 1640321936826,
     "user": {
      "displayName": "HJ Kim",
      "photoUrl": "https://lh3.googleusercontent.com/a/default-user=s64",
      "userId": "16634276932240017990"
     },
     "user_tz": -540
    },
    "id": "om8ro-LozSLS",
    "outputId": "c0760388-5a6d-4f80-fb76-6c262be486ca"
   },
   "outputs": [
    {
     "data": {
      "application/vnd.google.colaboratory.intrinsic+json": {
       "type": "string"
      },
      "text/plain": [
       "'alice의 동생은 7살이다'"
      ]
     },
     "execution_count": 8,
     "metadata": {},
     "output_type": "execute_result"
    }
   ],
   "source": [
    "name = 'alice'\n",
    "age = 10\n",
    "f'{name}의 동생은 {age - 3}살이다'"
   ]
  },
  {
   "cell_type": "code",
   "execution_count": null,
   "id": "67684fa2-ef91-4358-926b-9734e3775932",
   "metadata": {
    "colab": {
     "base_uri": "https://localhost:8080/"
    },
    "executionInfo": {
     "elapsed": 4,
     "status": "ok",
     "timestamp": 1640323729481,
     "user": {
      "displayName": "HJ Kim",
      "photoUrl": "https://lh3.googleusercontent.com/a/default-user=s64",
      "userId": "16634276932240017990"
     },
     "user_tz": -540
    },
    "id": "qO5LiFOgzjQX",
    "outputId": "3092cc48-31d6-4b1c-ad1c-5e151e292332"
   },
   "outputs": [
    {
     "name": "stdout",
     "output_type": "stream",
     "text": [
      "0.1\n",
      "0.12\n",
      "0.123\n"
     ]
    }
   ],
   "source": [
    "num = 0.123456789\n",
    "print(f'{num:.1f}')\n",
    "print(f'{num:.2f}')\n",
    "print(f'{num:.3f}')"
   ]
  }
 ],
 "metadata": {
  "kernelspec": {
   "display_name": "Python 3 (ipykernel)",
   "language": "python",
   "name": "python3"
  },
  "language_info": {
   "codemirror_mode": {
    "name": "ipython",
    "version": 3
   },
   "file_extension": ".py",
   "mimetype": "text/x-python",
   "name": "python",
   "nbconvert_exporter": "python",
   "pygments_lexer": "ipython3",
   "version": "3.8.10"
  }
 },
 "nbformat": 4,
 "nbformat_minor": 5
}
