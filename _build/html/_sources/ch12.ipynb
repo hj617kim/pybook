{
 "cells": [
  {
   "cell_type": "markdown",
   "metadata": {
    "id": "ymEEAGPH1I3s"
   },
   "source": [
    "# 튜플\n",
    "\n",
    "파이썬에 내장되어 있는 컬렉션 자료형 중에서 튜플에 대해 알아 보자.  \n",
    "튜플은 리스트와 거의 비슷하지만, 수정 불가능(immutable)하다는 점이 다르다."
   ]
  },
  {
   "cell_type": "markdown",
   "metadata": {
    "id": "KOADdRmN15PC"
   },
   "source": [
    "튜플의 형식은 아래와 같다. \n",
    "\n",
    "> `(항목1, 항목2, 항목3, ...  항목n)`\n",
    "\n",
    "소괄호(`()`)를 사용하고, 각 항목은 콤마(,)로 구분한다. "
   ]
  },
  {
   "cell_type": "markdown",
   "metadata": {
    "id": "ieE1qEyT2ZO0"
   },
   "source": [
    "예를 들어, 1부터 10이하의 짝수를 담은 튜플 `even_numbers_tuple`를 만드는 코드는 아래와 같다. "
   ]
  },
  {
   "cell_type": "code",
   "execution_count": null,
   "metadata": {
    "colab": {
     "base_uri": "https://localhost:8080/"
    },
    "executionInfo": {
     "elapsed": 979,
     "status": "ok",
     "timestamp": 1617941909769,
     "user": {
      "displayName": "HJ Kim",
      "photoUrl": "",
      "userId": "16634276932240017990"
     },
     "user_tz": -540
    },
    "id": "CTQmQiFJyeai",
    "outputId": "937a0c36-f65f-4939-997d-c9cd5ca76e54"
   },
   "outputs": [
    {
     "data": {
      "text/plain": [
       "(2, 4, 6, 8, 10)"
      ]
     },
     "execution_count": 15,
     "metadata": {
      "tags": []
     },
     "output_type": "execute_result"
    }
   ],
   "source": [
    "even_numbers_tuple = (2, 4, 6, 8, 10)\n",
    "even_numbers_tuple"
   ]
  },
  {
   "cell_type": "markdown",
   "metadata": {
    "id": "Pgrb8txQ2oCM"
   },
   "source": [
    "비슷하게, 문자열 a, b, c를 담은 리스트 `tuple_abc`는 아래와 같다. "
   ]
  },
  {
   "cell_type": "code",
   "execution_count": null,
   "metadata": {
    "colab": {
     "base_uri": "https://localhost:8080/"
    },
    "executionInfo": {
     "elapsed": 837,
     "status": "ok",
     "timestamp": 1617941959627,
     "user": {
      "displayName": "HJ Kim",
      "photoUrl": "",
      "userId": "16634276932240017990"
     },
     "user_tz": -540
    },
    "id": "RPZDtZCN2kz5",
    "outputId": "96d154a7-d83a-4e3e-d0c5-1d479a4626e4"
   },
   "outputs": [
    {
     "data": {
      "text/plain": [
       "('a', 'b', 'c')"
      ]
     },
     "execution_count": 16,
     "metadata": {
      "tags": []
     },
     "output_type": "execute_result"
    }
   ],
   "source": [
    "tuple_abc = ('a', 'b', 'c')\n",
    "tuple_abc"
   ]
  },
  {
   "cell_type": "markdown",
   "metadata": {
    "id": "uJ9ps87u2zz0"
   },
   "source": [
    "리스트와 마찬가지로, 튜플도 서로 다른 자료형의 항목들을 포함할 수 있다."
   ]
  },
  {
   "cell_type": "code",
   "execution_count": null,
   "metadata": {
    "colab": {
     "base_uri": "https://localhost:8080/"
    },
    "executionInfo": {
     "elapsed": 1089,
     "status": "ok",
     "timestamp": 1617942029709,
     "user": {
      "displayName": "HJ Kim",
      "photoUrl": "",
      "userId": "16634276932240017990"
     },
     "user_tz": -540
    },
    "id": "BH7wX8P82xAn",
    "outputId": "3b5a76cf-7270-41a5-ac37-231df9ceacdb"
   },
   "outputs": [
    {
     "data": {
      "text/plain": [
       "(1, 'abc', [2.5, 4.5], (1, 2))"
      ]
     },
     "execution_count": 17,
     "metadata": {
      "tags": []
     },
     "output_type": "execute_result"
    }
   ],
   "source": [
    "mixed_tuple = (1, 'abc', [2.5, 4.5], (1, 2))\n",
    "mixed_tuple "
   ]
  },
  {
   "cell_type": "markdown",
   "metadata": {
    "id": "r6GVPNSB3K1Q"
   },
   "source": [
    "참고) 튜플도 중첩을 허용한다. "
   ]
  },
  {
   "cell_type": "markdown",
   "metadata": {
    "id": "GCa1sh433dSb"
   },
   "source": [
    "주의) 한 개의 항목을 가진 튜플을 만들 때는 항목 뒤에 콤마(,)를 반드시 붙여야 한다. "
   ]
  },
  {
   "cell_type": "code",
   "execution_count": null,
   "metadata": {
    "colab": {
     "base_uri": "https://localhost:8080/"
    },
    "executionInfo": {
     "elapsed": 404,
     "status": "ok",
     "timestamp": 1617942624192,
     "user": {
      "displayName": "HJ Kim",
      "photoUrl": "",
      "userId": "16634276932240017990"
     },
     "user_tz": -540
    },
    "id": "AoFI3uZU3CEX",
    "outputId": "15029acc-d282-46d4-8f24-05ce07ac233e"
   },
   "outputs": [
    {
     "name": "stdout",
     "output_type": "stream",
     "text": [
      "1\n",
      "<class 'int'>\n"
     ]
    }
   ],
   "source": [
    "a = (1)\n",
    "print(a)\n",
    "print(type(a))"
   ]
  },
  {
   "cell_type": "code",
   "execution_count": null,
   "metadata": {
    "colab": {
     "base_uri": "https://localhost:8080/"
    },
    "executionInfo": {
     "elapsed": 588,
     "status": "ok",
     "timestamp": 1617942651452,
     "user": {
      "displayName": "HJ Kim",
      "photoUrl": "",
      "userId": "16634276932240017990"
     },
     "user_tz": -540
    },
    "id": "UDahXeMd5TUw",
    "outputId": "b85ee37d-56c2-4247-96bb-6db5982f9a83"
   },
   "outputs": [
    {
     "name": "stdout",
     "output_type": "stream",
     "text": [
      "(1,)\n",
      "<class 'tuple'>\n"
     ]
    }
   ],
   "source": [
    "a_tuple = (1, )\n",
    "print(a_tuple)\n",
    "print(type(a_tuple))"
   ]
  },
  {
   "cell_type": "markdown",
   "metadata": {
    "id": "uIEym_uv5f4C"
   },
   "source": [
    "참고) 튜플을 만들 때 소괄호를 생략해도 된다. 하지만 기본적으로 소괄호를 사용한다. "
   ]
  },
  {
   "cell_type": "code",
   "execution_count": null,
   "metadata": {
    "colab": {
     "base_uri": "https://localhost:8080/"
    },
    "executionInfo": {
     "elapsed": 1157,
     "status": "ok",
     "timestamp": 1617942711345,
     "user": {
      "displayName": "HJ Kim",
      "photoUrl": "",
      "userId": "16634276932240017990"
     },
     "user_tz": -540
    },
    "id": "1eGTA7me5Ybm",
    "outputId": "483ff31b-5d7d-43ed-8dcf-1e358455682d"
   },
   "outputs": [
    {
     "name": "stdout",
     "output_type": "stream",
     "text": [
      "(10, 20, 30)\n",
      "<class 'tuple'>\n"
     ]
    }
   ],
   "source": [
    "b_tuple = 10, 20, 30\n",
    "print(b_tuple)\n",
    "print(type(b_tuple))"
   ]
  },
  {
   "cell_type": "markdown",
   "metadata": {
    "id": "wq-5DFLI5zt6"
   },
   "source": [
    "## 튜플 연산\n",
    "\n",
    "튜플은 사칙연산 중 덧셈과 곱셈 연산자를 사용할 수 있다."
   ]
  },
  {
   "cell_type": "code",
   "execution_count": null,
   "metadata": {
    "colab": {
     "base_uri": "https://localhost:8080/"
    },
    "executionInfo": {
     "elapsed": 589,
     "status": "ok",
     "timestamp": 1617942790617,
     "user": {
      "displayName": "HJ Kim",
      "photoUrl": "",
      "userId": "16634276932240017990"
     },
     "user_tz": -540
    },
    "id": "492j6r2s5r6u",
    "outputId": "5d05b137-73c0-4add-aa5c-67f755fd59c7"
   },
   "outputs": [
    {
     "data": {
      "text/plain": [
       "(1, 2, 2, 3, 4)"
      ]
     },
     "execution_count": 23,
     "metadata": {
      "tags": []
     },
     "output_type": "execute_result"
    }
   ],
   "source": [
    "(1, 2) + (2, 3, 4)"
   ]
  },
  {
   "cell_type": "code",
   "execution_count": null,
   "metadata": {
    "colab": {
     "base_uri": "https://localhost:8080/"
    },
    "executionInfo": {
     "elapsed": 586,
     "status": "ok",
     "timestamp": 1617942798463,
     "user": {
      "displayName": "HJ Kim",
      "photoUrl": "",
      "userId": "16634276932240017990"
     },
     "user_tz": -540
    },
    "id": "sM2-KKql579W",
    "outputId": "e262a150-22b3-44aa-af92-15f2876cb51d"
   },
   "outputs": [
    {
     "data": {
      "text/plain": [
       "(1, 2, 3, 1, 2, 3, 1, 2, 3)"
      ]
     },
     "execution_count": 24,
     "metadata": {
      "tags": []
     },
     "output_type": "execute_result"
    }
   ],
   "source": [
    "(1, 2, 3) * 3"
   ]
  },
  {
   "cell_type": "markdown",
   "metadata": {
    "id": "CniO5Ekp5-4w"
   },
   "source": [
    "## 튜플의 길이\n",
    "\n",
    "튜플의 길이는 `len()` 함수를 이용하여 확인할 수 있다."
   ]
  },
  {
   "cell_type": "code",
   "execution_count": null,
   "metadata": {
    "colab": {
     "base_uri": "https://localhost:8080/"
    },
    "executionInfo": {
     "elapsed": 611,
     "status": "ok",
     "timestamp": 1617942836898,
     "user": {
      "displayName": "HJ Kim",
      "photoUrl": "",
      "userId": "16634276932240017990"
     },
     "user_tz": -540
    },
    "id": "r_HByhu-5932",
    "outputId": "59d48129-3e5f-4e55-dc77-e73c919da827"
   },
   "outputs": [
    {
     "data": {
      "text/plain": [
       "2"
      ]
     },
     "execution_count": 25,
     "metadata": {
      "tags": []
     },
     "output_type": "execute_result"
    }
   ],
   "source": [
    "len((1, 2))"
   ]
  },
  {
   "cell_type": "code",
   "execution_count": null,
   "metadata": {
    "colab": {
     "base_uri": "https://localhost:8080/"
    },
    "executionInfo": {
     "elapsed": 648,
     "status": "ok",
     "timestamp": 1617942861212,
     "user": {
      "displayName": "HJ Kim",
      "photoUrl": "",
      "userId": "16634276932240017990"
     },
     "user_tz": -540
    },
    "id": "-LsM_n6U6HQG",
    "outputId": "91026c57-72be-4716-9b29-5745bcfa39e3"
   },
   "outputs": [
    {
     "data": {
      "text/plain": [
       "3"
      ]
     },
     "execution_count": 26,
     "metadata": {
      "tags": []
     },
     "output_type": "execute_result"
    }
   ],
   "source": [
    "tuple_abc = (\"a\", \"b\", \"c\")\n",
    "len(tuple_abc)"
   ]
  },
  {
   "cell_type": "markdown",
   "metadata": {
    "id": "_eTDTB3h6OF9"
   },
   "source": [
    "## 튜플의 인덱싱과 슬라이싱 \n",
    "\n",
    "튜플도 문자열처럼 인덱싱과 슬라이싱을 이용하여 각각의 항목 또는 여러 개의 항목에 대한 정보를 추출할 수 있다. "
   ]
  },
  {
   "cell_type": "markdown",
   "metadata": {
    "id": "DsJJtr7479SV"
   },
   "source": [
    "### 인덱싱\n",
    "\n",
    "인덱스는 0부터 시작하며, 오른쪽으로 한 항목씩 이동할 때마다 증가한다.  \n",
    "예제를 통해 살펴보자. "
   ]
  },
  {
   "cell_type": "code",
   "execution_count": null,
   "metadata": {
    "colab": {
     "base_uri": "https://localhost:8080/"
    },
    "executionInfo": {
     "elapsed": 956,
     "status": "ok",
     "timestamp": 1617943376256,
     "user": {
      "displayName": "HJ Kim",
      "photoUrl": "",
      "userId": "16634276932240017990"
     },
     "user_tz": -540
    },
    "id": "80OqLMOz6NEm",
    "outputId": "a6e793ec-b8c8-4fdf-b5d4-e1b069f4a55a"
   },
   "outputs": [
    {
     "data": {
      "text/plain": [
       "(1, 2, 3, 4, 5)"
      ]
     },
     "execution_count": 28,
     "metadata": {
      "tags": []
     },
     "output_type": "execute_result"
    }
   ],
   "source": [
    "a_tuple = (1, 2, 3, 4, 5)\n",
    "a_tuple"
   ]
  },
  {
   "cell_type": "markdown",
   "metadata": {
    "id": "FCsKyYV88Ng9"
   },
   "source": [
    "2번 인덱스 값(즉, 셋째 항목)은 다음과 같이 확인한다."
   ]
  },
  {
   "cell_type": "code",
   "execution_count": null,
   "metadata": {
    "colab": {
     "base_uri": "https://localhost:8080/"
    },
    "executionInfo": {
     "elapsed": 772,
     "status": "ok",
     "timestamp": 1617943421250,
     "user": {
      "displayName": "HJ Kim",
      "photoUrl": "",
      "userId": "16634276932240017990"
     },
     "user_tz": -540
    },
    "id": "QgCDaNA88JbQ",
    "outputId": "5d25b0f6-930e-474a-8371-bcf1c27bb6d9"
   },
   "outputs": [
    {
     "data": {
      "text/plain": [
       "3"
      ]
     },
     "execution_count": 29,
     "metadata": {
      "tags": []
     },
     "output_type": "execute_result"
    }
   ],
   "source": [
    "a_tuple[2]"
   ]
  },
  {
   "cell_type": "markdown",
   "metadata": {
    "id": "oZwjZWIu8Z7x"
   },
   "source": [
    "가장 오른쪽 항목은 다음과 같이 확인한다. "
   ]
  },
  {
   "cell_type": "code",
   "execution_count": null,
   "metadata": {
    "colab": {
     "base_uri": "https://localhost:8080/"
    },
    "executionInfo": {
     "elapsed": 704,
     "status": "ok",
     "timestamp": 1617943456647,
     "user": {
      "displayName": "HJ Kim",
      "photoUrl": "",
      "userId": "16634276932240017990"
     },
     "user_tz": -540
    },
    "id": "RfdWnSjj8V4G",
    "outputId": "de4be3bd-7af7-41ef-d6b0-8e0822802b6c"
   },
   "outputs": [
    {
     "data": {
      "text/plain": [
       "5"
      ]
     },
     "execution_count": 30,
     "metadata": {
      "tags": []
     },
     "output_type": "execute_result"
    }
   ],
   "source": [
    "a_tuple[-1]"
   ]
  },
  {
   "cell_type": "markdown",
   "metadata": {
    "id": "7ldIL0aE8fOq"
   },
   "source": [
    "문자열, 리스트와 마찬가지로 튜플의 길이보다 같거나 큰 인덱스를 사용하면 오류가 발생한다.  \n",
    "```python\n",
    ">>> a_tuple[5]\n",
    "a_tuple[5]\n",
    "---------------------------------------------------------------------------\n",
    "IndexError                                Traceback (most recent call last)\n",
    "<ipython-input-31-980543bad505> in <module>()\n",
    "----> 1 a_tuple[5]\n",
    "\n",
    "IndexError: tuple index out of range\n",
    "```"
   ]
  },
  {
   "cell_type": "markdown",
   "metadata": {
    "id": "0BJn_wt39JQd"
   },
   "source": [
    "1번 인덱스 값 `a_tuple[1]`과 2번 인덱스 값 `a_tuple[2]`를 곱하고 싶다면, 아래와 같이 할 수 있다. "
   ]
  },
  {
   "cell_type": "code",
   "execution_count": null,
   "metadata": {
    "colab": {
     "base_uri": "https://localhost:8080/"
    },
    "executionInfo": {
     "elapsed": 654,
     "status": "ok",
     "timestamp": 1617943691584,
     "user": {
      "displayName": "HJ Kim",
      "photoUrl": "",
      "userId": "16634276932240017990"
     },
     "user_tz": -540
    },
    "id": "Toanzg9P85jm",
    "outputId": "396de1d3-ed97-4c9d-e8ce-b44aef16dcf2"
   },
   "outputs": [
    {
     "data": {
      "text/plain": [
       "6"
      ]
     },
     "execution_count": 33,
     "metadata": {
      "tags": []
     },
     "output_type": "execute_result"
    }
   ],
   "source": [
    "a_tuple[1] * a_tuple[2]"
   ]
  },
  {
   "cell_type": "markdown",
   "metadata": {
    "id": "-OxeLlOx9Ykd"
   },
   "source": [
    "주의) `a_tuple[1]`와 `a_tuple[2]`의 자료형은 정수형으로 곱셈 연산이 가능하다. "
   ]
  },
  {
   "cell_type": "code",
   "execution_count": null,
   "metadata": {
    "colab": {
     "base_uri": "https://localhost:8080/"
    },
    "executionInfo": {
     "elapsed": 619,
     "status": "ok",
     "timestamp": 1617943742787,
     "user": {
      "displayName": "HJ Kim",
      "photoUrl": "",
      "userId": "16634276932240017990"
     },
     "user_tz": -540
    },
    "id": "vn58plNz9X5-",
    "outputId": "fca2fb9f-150a-43a6-ca1b-343f60a6723d"
   },
   "outputs": [
    {
     "name": "stdout",
     "output_type": "stream",
     "text": [
      "<class 'int'>\n",
      "<class 'int'>\n"
     ]
    }
   ],
   "source": [
    "print(type(a_tuple[1]))\n",
    "print(type(a_tuple[2]))"
   ]
  },
  {
   "cell_type": "markdown",
   "metadata": {
    "id": "IkEh6P9C9lxr"
   },
   "source": [
    "ex) 튜플은 중첩을 허용한다. 아래 튜플은 3중 튜플이다.   \n",
    "`a_nested_tuple = (1, 2, (3, 4, (5, 6, 7)), 8)` \n",
    "\n",
    "위 튜플에서 5를 인덱스로 얻는 방법은?  \n",
    "참고) 인덱싱을 연속해서 적용하면 된다."
   ]
  },
  {
   "cell_type": "code",
   "execution_count": null,
   "metadata": {
    "colab": {
     "base_uri": "https://localhost:8080/"
    },
    "executionInfo": {
     "elapsed": 595,
     "status": "ok",
     "timestamp": 1617943846160,
     "user": {
      "displayName": "HJ Kim",
      "photoUrl": "",
      "userId": "16634276932240017990"
     },
     "user_tz": -540
    },
    "id": "LrjmEUCa9kam",
    "outputId": "2e542492-9f0b-48bd-b329-2b9d8c4dbd8d"
   },
   "outputs": [
    {
     "data": {
      "text/plain": [
       "5"
      ]
     },
     "execution_count": 37,
     "metadata": {
      "tags": []
     },
     "output_type": "execute_result"
    }
   ],
   "source": [
    "a_nested_tuple = (1, 2, (3, 4, (5, 6, 7)), 8)\n",
    "a_nested_tuple[2][2][0]"
   ]
  },
  {
   "cell_type": "markdown",
   "metadata": {
    "id": "nBrTfqrI9-zv"
   },
   "source": [
    "### 슬라이싱"
   ]
  },
  {
   "cell_type": "markdown",
   "metadata": {
    "id": "7ItjaB_N_OoD"
   },
   "source": [
    "문자열, 리스트와 마찬가지로 튜플에서도 슬라이싱을 할 수 있다. 사용법도 동일하다.  \n",
    "예제를 통해 살펴보자 "
   ]
  },
  {
   "cell_type": "code",
   "execution_count": null,
   "metadata": {
    "colab": {
     "base_uri": "https://localhost:8080/"
    },
    "executionInfo": {
     "elapsed": 818,
     "status": "ok",
     "timestamp": 1617944247830,
     "user": {
      "displayName": "HJ Kim",
      "photoUrl": "",
      "userId": "16634276932240017990"
     },
     "user_tz": -540
    },
    "id": "_EnggoS1_eWm",
    "outputId": "dc87ebf9-7640-45bf-fdb9-0b54cb9a4e72"
   },
   "outputs": [
    {
     "data": {
      "text/plain": [
       "(1, 2)"
      ]
     },
     "execution_count": 42,
     "metadata": {
      "tags": []
     },
     "output_type": "execute_result"
    }
   ],
   "source": [
    "a = (1, 2, 3, 4, 5)\n",
    "a[0 : 2] # 처음부터 2번 인덱스 전까지 추출"
   ]
  },
  {
   "cell_type": "code",
   "execution_count": null,
   "metadata": {
    "colab": {
     "base_uri": "https://localhost:8080/"
    },
    "executionInfo": {
     "elapsed": 743,
     "status": "ok",
     "timestamp": 1617944343365,
     "user": {
      "displayName": "HJ Kim",
      "photoUrl": "",
      "userId": "16634276932240017990"
     },
     "user_tz": -540
    },
    "id": "Sk2tBpnb_0rK",
    "outputId": "70fe93e6-05e3-4888-d14f-a799f641b114"
   },
   "outputs": [
    {
     "data": {
      "text/plain": [
       "(1, 2)"
      ]
     },
     "execution_count": 43,
     "metadata": {
      "tags": []
     },
     "output_type": "execute_result"
    }
   ],
   "source": [
    "a[:2] #처음부터 2번 인덱스 전까지 추출"
   ]
  },
  {
   "cell_type": "code",
   "execution_count": null,
   "metadata": {
    "colab": {
     "base_uri": "https://localhost:8080/"
    },
    "executionInfo": {
     "elapsed": 588,
     "status": "ok",
     "timestamp": 1617944359221,
     "user": {
      "displayName": "HJ Kim",
      "photoUrl": "",
      "userId": "16634276932240017990"
     },
     "user_tz": -540
    },
    "id": "UR_zBsF0_5eD",
    "outputId": "ae8377c5-939c-448f-ca2b-0a7f045dd766"
   },
   "outputs": [
    {
     "data": {
      "text/plain": [
       "(1, 3, 5)"
      ]
     },
     "execution_count": 44,
     "metadata": {
      "tags": []
     },
     "output_type": "execute_result"
    }
   ],
   "source": [
    "a[::2] #처음부터 하나씩 건너 추출"
   ]
  },
  {
   "cell_type": "markdown",
   "metadata": {
    "id": "IHtT-sCT_iuh"
   },
   "source": [
    "중첩 튜플에서도 슬라이싱 방법은 똑같이 적용된다."
   ]
  },
  {
   "cell_type": "markdown",
   "metadata": {
    "id": "buSsN7B7-d-h"
   },
   "source": [
    "## `tuple()` 함수\n",
    "\n",
    "`tuple()` 함수를 이용하면 문자열 또는 리스트를 튜플로 만들 수 있다. "
   ]
  },
  {
   "cell_type": "markdown",
   "metadata": {
    "id": "NLAM2omj-5sM"
   },
   "source": [
    "* 인자로 문자열을 넣으면, 각 문자를 항목으로 갖는 튜플이 만들어진다. "
   ]
  },
  {
   "cell_type": "code",
   "execution_count": null,
   "metadata": {
    "colab": {
     "base_uri": "https://localhost:8080/"
    },
    "executionInfo": {
     "elapsed": 722,
     "status": "ok",
     "timestamp": 1617943909876,
     "user": {
      "displayName": "HJ Kim",
      "photoUrl": "",
      "userId": "16634276932240017990"
     },
     "user_tz": -540
    },
    "id": "HT2Efo3T97I-",
    "outputId": "6ad40078-bbe5-4c7d-ed2f-4cd4b5c619d9"
   },
   "outputs": [
    {
     "data": {
      "text/plain": [
       "('a', 'b', 'c')"
      ]
     },
     "execution_count": 38,
     "metadata": {
      "tags": []
     },
     "output_type": "execute_result"
    }
   ],
   "source": [
    "tuple(\"abc\")"
   ]
  },
  {
   "cell_type": "markdown",
   "metadata": {
    "id": "TvaQMtVL_AjR"
   },
   "source": [
    "* 인자로 리스트를 넣으면, 리스트와 항목이 같은 튜플이 만들어진다. "
   ]
  },
  {
   "cell_type": "code",
   "execution_count": null,
   "metadata": {
    "colab": {
     "base_uri": "https://localhost:8080/"
    },
    "executionInfo": {
     "elapsed": 673,
     "status": "ok",
     "timestamp": 1617943916901,
     "user": {
      "displayName": "HJ Kim",
      "photoUrl": "",
      "userId": "16634276932240017990"
     },
     "user_tz": -540
    },
    "id": "0-WbKw9s-NLm",
    "outputId": "15b6bdd8-7209-42e0-975d-23e3c0dabfd5"
   },
   "outputs": [
    {
     "data": {
      "text/plain": [
       "(1, 2, 3)"
      ]
     },
     "execution_count": 39,
     "metadata": {
      "tags": []
     },
     "output_type": "execute_result"
    }
   ],
   "source": [
    "tuple([1, 2, 3])"
   ]
  },
  {
   "cell_type": "markdown",
   "metadata": {
    "id": "U7kH3IFZ-rAL"
   },
   "source": [
    "* 인자를 넣지 않으면 아무 것도 포함하지 않는 빈 튜플이 만들어진다."
   ]
  },
  {
   "cell_type": "code",
   "execution_count": null,
   "metadata": {
    "colab": {
     "base_uri": "https://localhost:8080/"
    },
    "executionInfo": {
     "elapsed": 711,
     "status": "ok",
     "timestamp": 1617944058976,
     "user": {
      "displayName": "HJ Kim",
      "photoUrl": "",
      "userId": "16634276932240017990"
     },
     "user_tz": -540
    },
    "id": "ETTwzGgr-rXw",
    "outputId": "ca8f2c92-818c-4578-f3fb-b8aa99088859"
   },
   "outputs": [
    {
     "data": {
      "text/plain": [
       "()"
      ]
     },
     "execution_count": 41,
     "metadata": {
      "tags": []
     },
     "output_type": "execute_result"
    }
   ],
   "source": [
    "empty_tuple = tuple()\n",
    "empty_tuple"
   ]
  },
  {
   "cell_type": "markdown",
   "metadata": {
    "id": "v9fUv5ey_tB6"
   },
   "source": [
    "## 불변자료형\n",
    "\n",
    "튜플은 불변 자료형이다. 그래서 리스트와는 달리 인덱싱을 사용하여 튜플 특정 항목의 값을 변경할 수 없다.  \n",
    "\n",
    "```python\n",
    ">>> a = (1, 2, 3, 4, 5)\n",
    ">>> print(a)\n",
    "(1, 2, 3, 4, 5)\n",
    "```\n",
    "\n",
    "```python\n",
    ">>> a[1] = 3\n",
    "---------------------------------------------------------------------------\n",
    "TypeError                                 Traceback (most recent call last)\n",
    "<ipython-input-46-23f2cf2bdf70> in <module>()\n",
    "----> 1 a[1] = 3\n",
    "\n",
    "TypeError: 'tuple' object does not support item assignment\n",
    "```"
   ]
  },
  {
   "cell_type": "markdown",
   "metadata": {
    "id": "Yk9RMiF7A7zA"
   },
   "source": [
    "`del` 함수를 사용하여 튜플의 항목을 삭제하려고 해도 오류가 발생한다.   \n",
    "\n",
    "```python\n",
    ">>> del a[1]\n",
    "---------------------------------------------------------------------------\n",
    "TypeError                                 Traceback (most recent call last)\n",
    "<ipython-input-47-d982d7dc2a95> in <module>()\n",
    "----> 1 del a[1]\n",
    "\n",
    "TypeError: 'tuple' object doesn't support item deletion\n",
    "```"
   ]
  },
  {
   "cell_type": "markdown",
   "metadata": {
    "id": "2UlX7ty5AxpC"
   },
   "source": [
    "## 튜플 관련 메소드 \n",
    "\n",
    "튜플 자료형은 불변 자료형이라서 메소드가 별로 없다. 많이 사용되는 두 개의 메소드를 살펴보자.  \n",
    "* `count()`\n",
    "* `index()`"
   ]
  },
  {
   "cell_type": "markdown",
   "metadata": {
    "id": "dGQxW5oBBJYb"
   },
   "source": [
    "예제를 통해 각 메소드의 활용법을 간략하게 확인하다.  \n",
    "먼저, 튜플을 하나 만들자. "
   ]
  },
  {
   "cell_type": "code",
   "execution_count": null,
   "metadata": {
    "colab": {
     "base_uri": "https://localhost:8080/"
    },
    "executionInfo": {
     "elapsed": 1040,
     "status": "ok",
     "timestamp": 1617944787728,
     "user": {
      "displayName": "HJ Kim",
      "photoUrl": "",
      "userId": "16634276932240017990"
     },
     "user_tz": -540
    },
    "id": "hGYAH0oXBagZ",
    "outputId": "1fd1d00a-68dc-49ce-a858-2c2b7dd2e929"
   },
   "outputs": [
    {
     "data": {
      "text/plain": [
       "(1, 2, 3, 1, 2, 4, 5, 6, 3, 4, 5, 6)"
      ]
     },
     "execution_count": 48,
     "metadata": {
      "tags": []
     },
     "output_type": "execute_result"
    }
   ],
   "source": [
    "numbers = (1, 2, 3, 1, 2, 4, 5, 6, 3, 4, 5, 6)\n",
    "numbers"
   ]
  },
  {
   "cell_type": "markdown",
   "metadata": {
    "id": "wrYjn-waBkwJ"
   },
   "source": [
    "* `count()` 메소드는 튜플에 포함된 특정 항목이 몇 번 나타나는지를 세어준다."
   ]
  },
  {
   "cell_type": "code",
   "execution_count": null,
   "metadata": {
    "colab": {
     "base_uri": "https://localhost:8080/"
    },
    "executionInfo": {
     "elapsed": 566,
     "status": "ok",
     "timestamp": 1617944826748,
     "user": {
      "displayName": "HJ Kim",
      "photoUrl": "",
      "userId": "16634276932240017990"
     },
     "user_tz": -540
    },
    "id": "t7LZoDlHATiF",
    "outputId": "6cf5d719-13c0-4eab-a6d5-0245c01d7f10"
   },
   "outputs": [
    {
     "data": {
      "text/plain": [
       "2"
      ]
     },
     "execution_count": 49,
     "metadata": {
      "tags": []
     },
     "output_type": "execute_result"
    }
   ],
   "source": [
    "numbers.count(1)"
   ]
  },
  {
   "cell_type": "markdown",
   "metadata": {
    "id": "L18lHSrABuLr"
   },
   "source": [
    "* `index()` 메소드는 특정 항목의 인덱스가 몇 번인지 확인해준다. "
   ]
  },
  {
   "cell_type": "code",
   "execution_count": null,
   "metadata": {
    "colab": {
     "base_uri": "https://localhost:8080/"
    },
    "executionInfo": {
     "elapsed": 577,
     "status": "ok",
     "timestamp": 1617944859190,
     "user": {
      "displayName": "HJ Kim",
      "photoUrl": "",
      "userId": "16634276932240017990"
     },
     "user_tz": -540
    },
    "id": "EtnqERb8BtD-",
    "outputId": "2c7c5756-e70a-40de-9e4f-6a9019b3df71"
   },
   "outputs": [
    {
     "data": {
      "text/plain": [
       "1"
      ]
     },
     "execution_count": 50,
     "metadata": {
      "tags": []
     },
     "output_type": "execute_result"
    }
   ],
   "source": [
    "numbers.index(2)"
   ]
  },
  {
   "cell_type": "markdown",
   "metadata": {
    "id": "1m--7SUYB2Oj"
   },
   "source": [
    "참고) 여러 번 포함되어 있다면, `index()` 메소드는 가장 작은 인덱스를 리턴한다. "
   ]
  },
  {
   "cell_type": "markdown",
   "metadata": {
    "id": "aJx7ibDBC76Y"
   },
   "source": [
    "## 튜플 자료형 활용"
   ]
  },
  {
   "cell_type": "markdown",
   "metadata": {
    "id": "TzT_LcjSDV1f"
   },
   "source": [
    "* 절대로 변경되지 않거나 변경되어서는 안 되는 값들을 저장할 때 사용.  \n",
    "ex) 생년월일, 학번 등등  \n"
   ]
  },
  {
   "cell_type": "code",
   "execution_count": null,
   "metadata": {
    "colab": {
     "base_uri": "https://localhost:8080/"
    },
    "executionInfo": {
     "elapsed": 580,
     "status": "ok",
     "timestamp": 1617945391865,
     "user": {
      "displayName": "HJ Kim",
      "photoUrl": "",
      "userId": "16634276932240017990"
     },
     "user_tz": -540
    },
    "id": "KcZM20kGB0-l",
    "outputId": "14aa98fa-b001-42ce-e2f4-16674614f63a"
   },
   "outputs": [
    {
     "data": {
      "text/plain": [
       "(2000, 12, 18)"
      ]
     },
     "execution_count": 51,
     "metadata": {
      "tags": []
     },
     "output_type": "execute_result"
    }
   ],
   "source": [
    "alice_birth = (2000, 12, 18)\n",
    "alice_birth"
   ]
  },
  {
   "cell_type": "markdown",
   "metadata": {
    "id": "IbS7ZtnzD31T"
   },
   "source": [
    "* 여러 개의 변수들에 여러 개의 값들을 한 줄에 동시에 할당하기 위해 사용"
   ]
  },
  {
   "cell_type": "code",
   "execution_count": null,
   "metadata": {
    "colab": {
     "base_uri": "https://localhost:8080/"
    },
    "executionInfo": {
     "elapsed": 638,
     "status": "ok",
     "timestamp": 1617945424225,
     "user": {
      "displayName": "HJ Kim",
      "photoUrl": "",
      "userId": "16634276932240017990"
     },
     "user_tz": -540
    },
    "id": "yhSu4rzKD3Bv",
    "outputId": "84cd1f39-23e7-4bd7-d239-1d8fccb5df47"
   },
   "outputs": [
    {
     "name": "stdout",
     "output_type": "stream",
     "text": [
      "1\n",
      "2\n"
     ]
    }
   ],
   "source": [
    "a, b = 1, 2\n",
    "print(a)\n",
    "print(b)"
   ]
  },
  {
   "cell_type": "markdown",
   "metadata": {
    "id": "r5Y_l-pSEAQr"
   },
   "source": [
    "튜플을 이용하면 두 변수에 할당된 값을 스왑(swap)하는 것이 매우 간단하다."
   ]
  },
  {
   "cell_type": "code",
   "execution_count": null,
   "metadata": {
    "colab": {
     "base_uri": "https://localhost:8080/"
    },
    "executionInfo": {
     "elapsed": 394,
     "status": "ok",
     "timestamp": 1617945455988,
     "user": {
      "displayName": "HJ Kim",
      "photoUrl": "",
      "userId": "16634276932240017990"
     },
     "user_tz": -540
    },
    "id": "03nnYBr7D-CN",
    "outputId": "da7d698e-581b-42d5-ef11-afe61eb29ffc"
   },
   "outputs": [
    {
     "name": "stdout",
     "output_type": "stream",
     "text": [
      "2\n",
      "1\n"
     ]
    }
   ],
   "source": [
    "a, b = b, a\n",
    "print(a)\n",
    "print(b)"
   ]
  },
  {
   "cell_type": "markdown",
   "metadata": {
    "id": "xAr1zFNuEMsQ"
   },
   "source": [
    "* 여러 개의 값들을 리턴하는 함수를 정의할 때 사용  \n",
    "\n",
    "함수의 리턴값은 무조건 하나이다. 예를 들어, 정수를 입력받아 입력받은 값의 제곱과 세제곱을 동시에 리턴하는 함수는 정의할 수 없다. 하지만, 두 개의 값을 튜플로 묶어서 하나의 값으로 리턴할 수는 있다.  \n",
    "\n",
    "주의) 튜플을 만들 때, 소괄호 기호는 생략 가능하다. "
   ]
  },
  {
   "cell_type": "code",
   "execution_count": 2,
   "metadata": {
    "id": "w2T919BsEGpU"
   },
   "outputs": [],
   "source": [
    "def f(x) :\n",
    "    return x**2, x**3"
   ]
  },
  {
   "cell_type": "code",
   "execution_count": null,
   "metadata": {
    "colab": {
     "base_uri": "https://localhost:8080/"
    },
    "executionInfo": {
     "elapsed": 725,
     "status": "ok",
     "timestamp": 1617945690830,
     "user": {
      "displayName": "HJ Kim",
      "photoUrl": "",
      "userId": "16634276932240017990"
     },
     "user_tz": -540
    },
    "id": "wGMrWkQVE7eh",
    "outputId": "8a303a30-a1e8-494c-b6ed-5f68e4cd1221"
   },
   "outputs": [
    {
     "name": "stdout",
     "output_type": "stream",
     "text": [
      "(4, 8)\n",
      "<class 'tuple'>\n"
     ]
    }
   ],
   "source": [
    "print(f(2))\n",
    "print(type(f(2)))"
   ]
  },
  {
   "cell_type": "markdown",
   "metadata": {
    "id": "F-LAVXh4EwT4"
   },
   "source": [
    "이제 아래와 같이 리턴값 각각의 항목을 변수에 할당하여 사용할 수 있다. "
   ]
  },
  {
   "cell_type": "code",
   "execution_count": null,
   "metadata": {
    "colab": {
     "base_uri": "https://localhost:8080/"
    },
    "executionInfo": {
     "elapsed": 1901,
     "status": "ok",
     "timestamp": 1617945651966,
     "user": {
      "displayName": "HJ Kim",
      "photoUrl": "",
      "userId": "16634276932240017990"
     },
     "user_tz": -540
    },
    "id": "UAUEjXzLEv0t",
    "outputId": "4f2899ec-a192-4851-9443-487ecea3a242"
   },
   "outputs": [
    {
     "name": "stdout",
     "output_type": "stream",
     "text": [
      "4\n",
      "8\n"
     ]
    }
   ],
   "source": [
    "a, b = f(2)\n",
    "print(a)\n",
    "print(b)"
   ]
  }
 ],
 "metadata": {
  "colab": {
   "authorship_tag": "ABX9TyOXzJk4Sd/baFSGQu3vmMB8",
   "collapsed_sections": [],
   "name": "강의노트6(튜플).ipynb",
   "provenance": []
  },
  "kernelspec": {
   "display_name": "Python 3 (ipykernel)",
   "language": "python",
   "name": "python3"
  },
  "language_info": {
   "codemirror_mode": {
    "name": "ipython",
    "version": 3
   },
   "file_extension": ".py",
   "mimetype": "text/x-python",
   "name": "python",
   "nbconvert_exporter": "python",
   "pygments_lexer": "ipython3",
   "version": "3.8.10"
  }
 },
 "nbformat": 4,
 "nbformat_minor": 4
}
