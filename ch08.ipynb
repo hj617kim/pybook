{
 "cells": [
  {
   "cell_type": "markdown",
   "metadata": {
    "id": "TvFBAjyK-G1l"
   },
   "source": [
    "# 입력과 출력\n",
    "\n",
    "\n",
    "\n",
    "\n"
   ]
  },
  {
   "cell_type": "markdown",
   "metadata": {
    "id": "1QMqz3aTOwoF"
   },
   "source": [
    "## 입력\n",
    "\n",
    "어떤 일은 사용자가 입력한 값을 사용해야 할 때가 있다.  \n",
    "예를 들어, 숫자맞히기 게임을 생각해보자. 숫자맞히기 게임은 말 그대로 참여자가 정해진 숫자를 맞히는 게임으로 반드시 사용자로부터 값을 입력받아야 한다.  \n",
    "  \n",
    "  \n",
    "이런 경우 사용자의 입력은 `input()` 함수를 사용하여 받을 수 있다.  \n",
    "\n",
    "`input()`을 입력하고 코드를 실행하면, 아래에 값을 입력하라는 창이 나온다. 그곳에 Hello, world! 라고 입력하고 엔터Enter를 누르면 입력한 문자열이 그대로 출력된다. "
   ]
  },
  {
   "cell_type": "markdown",
   "metadata": {},
   "source": [
    "```python\n",
    ">>> input()\n",
    "Hello, world!\n",
    "'Hello, world!'\n",
    "```"
   ]
  },
  {
   "cell_type": "markdown",
   "metadata": {
    "id": "wiqMUhgfSBkx"
   },
   "source": [
    "`input()` 함수로 입력받은 값은 변수에 할당하여 사용할 수도 있다. \n",
    "\n",
    "```python\n",
    ">>> hi = input()\n",
    "Hello, world!\n",
    ">>> print(hi)\n",
    "Hello, world!\n",
    "```\n"
   ]
  },
  {
   "cell_type": "markdown",
   "metadata": {
    "id": "qzob5fW4SecL"
   },
   "source": [
    "이때 `input()` 함수로 입력받은 값은 문자열(str)이다."
   ]
  },
  {
   "cell_type": "markdown",
   "metadata": {},
   "source": [
    "```python\n",
    ">>> type(hi)\n",
    "str\n",
    "```\n",
    "\n",
    "```python\n",
    ">>> num = input() #123\n",
    "123\n",
    ">>> print(type(num))\n",
    "<class 'str'>\n",
    "```"
   ]
  },
  {
   "cell_type": "markdown",
   "metadata": {
    "id": "YWjZ9idESzBF"
   },
   "source": [
    "사용자에게 무엇을 입력할지 알려주고 싶다면 아래와 같이 할 수 있다.\n",
    "\n",
    "```python\n",
    ">>> print(\"정수를 입력하세요!\")\n",
    "정수를 입력하세요!\n",
    ">>> num1 = input()\n",
    "123\n",
    ">>> print(\"입력한 정수는\", num1, \"입니다.\")\n",
    "입력한 정수는 123 입니다.\n",
    "```\n",
    "\n",
    "```python\n",
    ">>> num2 = input(\"정수를 입력하세요 : \")\n",
    "정수를 입력하세요 : 321\n",
    ">>> print(\"입력한 정수는\", num2, \"입니다.\")\n",
    "입력한 정수는 321 입니다.\n",
    "```"
   ]
  },
  {
   "cell_type": "markdown",
   "metadata": {
    "id": "os1LDma28eut"
   },
   "source": [
    "예제를 통해 `input()` 함수에 대해 더 살펴보자."
   ]
  },
  {
   "cell_type": "markdown",
   "metadata": {
    "id": "VuX2ACeuV0hQ"
   },
   "source": [
    "ex1) `input()` 함수를 이용하여 사용자로부터 정수를 입력받아, 그 정수의 제곱을 출력하는 코드를 작성하여라."
   ]
  },
  {
   "cell_type": "markdown",
   "metadata": {},
   "source": [
    "```python\n",
    ">>> num3 = input(\"정수를 입력하세요 : \")\n",
    "정수를 입력하세요 : 6\n",
    ">>> print(\"입력한 정수\", num3, \"의 제곱은\", int(num3)**2, \"입니다.\")\n",
    "입력한 숫자 6 의 제곱은 36 입니다.\n",
    "```"
   ]
  },
  {
   "cell_type": "markdown",
   "metadata": {
    "id": "4dFdvgqTWbfP"
   },
   "source": [
    "주의) `input()`함수로 입력받은 값은 문자열이다. "
   ]
  },
  {
   "cell_type": "markdown",
   "metadata": {
    "id": "e9ipuJUbWzxo"
   },
   "source": [
    "ex2) 사용자로부터 자연수를 입력받아, 그 자연수의 약수를 출력하는 코드를 작성하여라.  \n",
    "\n",
    "```python\n",
    ">>> num4 = int(input(\"자연수를 입력하세요 : \"))\n",
    "자연수를 입력하세요 : 6\n",
    ">>> for i in range(1, num4 + 1) :\n",
    "        if num4 % i == 0:\n",
    "            print(i)\n",
    "1\n",
    "2\n",
    "3\n",
    "6\n",
    "```"
   ]
  },
  {
   "cell_type": "markdown",
   "metadata": {
    "id": "_2Z1mK5jfnZy"
   },
   "source": [
    "ex3) 두 정수를 입력받아, 두 정수의 합을 출력하는 코드를 작성하여라.\n",
    "\n",
    "```python\n",
    ">>> numA = int(input(\"정수를 입력하세요 : \"))\n",
    "정수를 입력하세요 : 5\n",
    ">>> numB = int(input(\"정수를 입력하세요 : \"))\n",
    "정수를 입력하세요 : 9\n",
    ">>> print(numA, \"+\", numB, \"= \", numA + numB)\n",
    "5 + 9 =  14\n",
    "```"
   ]
  },
  {
   "cell_type": "markdown",
   "metadata": {
    "id": "e5NqDJ8IgNxT"
   },
   "source": [
    "아래와 같이 두 정수를 한 번에 입력받을 수도 있다."
   ]
  },
  {
   "cell_type": "markdown",
   "metadata": {},
   "source": [
    "```python\n",
    ">>> numA, numB = input(\"두 정수를 콤마(,)로 구분하여 입력하세요 : \").split(\",\")\n",
    "두 정수를 콤마(,)로 구분하여 입력하세요 : 5,9\n",
    ">>> print(numA, \"+\", numB, \"= \", int(numA) + int(numB))\n",
    "5 + 9 =  14\n",
    "```"
   ]
  },
  {
   "cell_type": "markdown",
   "metadata": {
    "id": "7pHbvWkChq2y"
   },
   "source": [
    "`map()` 함수를 활용하여 `numA`, `numB` 각각에 `int` 함수를 자동으로 적용할 수 있다.  \n",
    "\n",
    "```python\n",
    ">>> numA, numB = map(int, input(\"두 정수를 콤마(,)로 구분하여 입력하세요 : \").split(\",\"))\n",
    "두 정수를 콤마(,)로 구분하여 입력하세요 : 5,9\n",
    ">>> print(numA, \"+\", numB, \"= \", numA + numB)\n",
    "5 + 9 =  14\n",
    "```"
   ]
  },
  {
   "cell_type": "markdown",
   "metadata": {
    "id": "t60tKhW9Z8iq"
   },
   "source": [
    "## 출력"
   ]
  },
  {
   "cell_type": "markdown",
   "metadata": {
    "id": "vMveHjip-pbf"
   },
   "source": [
    "그 동안 출력을 위해 `print()` 함수를 사용하였다. 예를 들어, 문자열 Hello World 를 출력하고 싶다면, 아래와 같이 코드를 작성하면 된다."
   ]
  },
  {
   "cell_type": "code",
   "execution_count": null,
   "metadata": {
    "colab": {
     "base_uri": "https://localhost:8080/"
    },
    "executionInfo": {
     "elapsed": 1028,
     "status": "ok",
     "timestamp": 1615866702874,
     "user": {
      "displayName": "HJ Kim",
      "photoUrl": "",
      "userId": "16634276932240017990"
     },
     "user_tz": -540
    },
    "id": "moEDND2DeIDQ",
    "outputId": "77dcbce6-ae7c-43cb-9d1c-dfc892c418ff"
   },
   "outputs": [
    {
     "name": "stdout",
     "output_type": "stream",
     "text": [
      "Hello, World\n"
     ]
    }
   ],
   "source": [
    "print(\"Hello, World\")"
   ]
  },
  {
   "cell_type": "markdown",
   "metadata": {
    "id": "CVzzM4tSKB-R"
   },
   "source": [
    "이제 `print()` 함수에 대해서 조금 더 살펴보자."
   ]
  },
  {
   "cell_type": "markdown",
   "metadata": {
    "id": "RV_5oNLDKwu_"
   },
   "source": [
    "* 큰따옴표(또는 작은따옴표)로 둘러싸인 문자열을 연속해서 사용하면 문자열에서 +연산을 한 것과 동일한 결과를 출력해준다."
   ]
  },
  {
   "cell_type": "code",
   "execution_count": null,
   "metadata": {
    "colab": {
     "base_uri": "https://localhost:8080/"
    },
    "executionInfo": {
     "elapsed": 926,
     "status": "ok",
     "timestamp": 1615866779662,
     "user": {
      "displayName": "HJ Kim",
      "photoUrl": "",
      "userId": "16634276932240017990"
     },
     "user_tz": -540
    },
    "id": "XfZgncb-CLkX",
    "outputId": "01cde028-a2cb-4329-e6ba-9f0dadde3737"
   },
   "outputs": [
    {
     "name": "stdout",
     "output_type": "stream",
     "text": [
      "Hello World\n"
     ]
    }
   ],
   "source": [
    "print(\"Hello \"\"World\")"
   ]
  },
  {
   "cell_type": "code",
   "execution_count": null,
   "metadata": {
    "colab": {
     "base_uri": "https://localhost:8080/"
    },
    "executionInfo": {
     "elapsed": 878,
     "status": "ok",
     "timestamp": 1615866796590,
     "user": {
      "displayName": "HJ Kim",
      "photoUrl": "",
      "userId": "16634276932240017990"
     },
     "user_tz": -540
    },
    "id": "4pDSfN0SKmhe",
    "outputId": "ff66a938-d7f6-4d89-c9be-6097ab0266b3"
   },
   "outputs": [
    {
     "name": "stdout",
     "output_type": "stream",
     "text": [
      "Hello World\n"
     ]
    }
   ],
   "source": [
    "print('Hello ''World')"
   ]
  },
  {
   "cell_type": "code",
   "execution_count": null,
   "metadata": {
    "colab": {
     "base_uri": "https://localhost:8080/"
    },
    "executionInfo": {
     "elapsed": 745,
     "status": "ok",
     "timestamp": 1616036932535,
     "user": {
      "displayName": "HJ Kim",
      "photoUrl": "",
      "userId": "16634276932240017990"
     },
     "user_tz": -540
    },
    "id": "CdYsuWlLTmCN",
    "outputId": "3df5c464-9792-4fa6-d164-a071aa9d04e8"
   },
   "outputs": [
    {
     "name": "stdout",
     "output_type": "stream",
     "text": [
      "Hello World\n"
     ]
    }
   ],
   "source": [
    "print('Hello '\"World\")"
   ]
  },
  {
   "cell_type": "code",
   "execution_count": null,
   "metadata": {
    "colab": {
     "base_uri": "https://localhost:8080/"
    },
    "executionInfo": {
     "elapsed": 879,
     "status": "ok",
     "timestamp": 1615866819183,
     "user": {
      "displayName": "HJ Kim",
      "photoUrl": "",
      "userId": "16634276932240017990"
     },
     "user_tz": -540
    },
    "id": "cfwQARSJKraX",
    "outputId": "9ddc6fe0-d854-4a30-858d-de37efba978b"
   },
   "outputs": [
    {
     "name": "stdout",
     "output_type": "stream",
     "text": [
      "Hello World\n"
     ]
    }
   ],
   "source": [
    "print(\"Hello \" + \"World\")"
   ]
  },
  {
   "cell_type": "markdown",
   "metadata": {
    "id": "9VVJVXOcLQva"
   },
   "source": [
    "* 문자열 사이에 콤마(,)를 사용하면 띄어쓰기를 할 수 있다."
   ]
  },
  {
   "cell_type": "code",
   "execution_count": null,
   "metadata": {
    "colab": {
     "base_uri": "https://localhost:8080/"
    },
    "executionInfo": {
     "elapsed": 1398,
     "status": "ok",
     "timestamp": 1615867030783,
     "user": {
      "displayName": "HJ Kim",
      "photoUrl": "",
      "userId": "16634276932240017990"
     },
     "user_tz": -540
    },
    "id": "-6tzm6dqLfLH",
    "outputId": "df060654-c831-45a3-b918-09d2d0bbae41"
   },
   "outputs": [
    {
     "name": "stdout",
     "output_type": "stream",
     "text": [
      "Hello World\n"
     ]
    }
   ],
   "source": [
    "print(\"Hello\", \"World\")"
   ]
  },
  {
   "cell_type": "markdown",
   "metadata": {
    "id": "k_BK0bK7OmfT"
   },
   "source": [
    "* 인자들 사이에 구분자를 넣고 싶다면, `sep`을 변경하면 된다. `sep`의 기본값은 공백이다."
   ]
  },
  {
   "cell_type": "code",
   "execution_count": null,
   "metadata": {
    "colab": {
     "base_uri": "https://localhost:8080/"
    },
    "executionInfo": {
     "elapsed": 999,
     "status": "ok",
     "timestamp": 1615870006238,
     "user": {
      "displayName": "HJ Kim",
      "photoUrl": "",
      "userId": "16634276932240017990"
     },
     "user_tz": -540
    },
    "id": "4N2iV6NoWvQQ",
    "outputId": "2348e89b-2054-471e-d93f-4e5d4d8febb6"
   },
   "outputs": [
    {
     "name": "stdout",
     "output_type": "stream",
     "text": [
      "010-1234-5678\n"
     ]
    }
   ],
   "source": [
    "print(\"010\", \"1234\", \"5678\", sep = \"-\")"
   ]
  },
  {
   "cell_type": "code",
   "execution_count": null,
   "metadata": {
    "colab": {
     "base_uri": "https://localhost:8080/"
    },
    "executionInfo": {
     "elapsed": 906,
     "status": "ok",
     "timestamp": 1615870110818,
     "user": {
      "displayName": "HJ Kim",
      "photoUrl": "",
      "userId": "16634276932240017990"
     },
     "user_tz": -540
    },
    "id": "zUvaBRhgW6ta",
    "outputId": "e63f8498-c831-495b-ece4-377c9c3913d1"
   },
   "outputs": [
    {
     "name": "stdout",
     "output_type": "stream",
     "text": [
      "Hello, World\n"
     ]
    }
   ],
   "source": [
    "print(\"Hello\", \"World\", sep = \", \")"
   ]
  },
  {
   "cell_type": "markdown",
   "metadata": {
    "id": "XATtKAiUXUiT"
   },
   "source": [
    "* 마지막에 출력할 문자를 변경하고 싶다면, `end`를 변경하면 된다. `end`의 기본값은 줄바꿈(`\\n`)이다."
   ]
  },
  {
   "cell_type": "code",
   "execution_count": null,
   "metadata": {
    "colab": {
     "base_uri": "https://localhost:8080/"
    },
    "executionInfo": {
     "elapsed": 917,
     "status": "ok",
     "timestamp": 1615870471585,
     "user": {
      "displayName": "HJ Kim",
      "photoUrl": "",
      "userId": "16634276932240017990"
     },
     "user_tz": -540
    },
    "id": "dgTW6KfPYE5o",
    "outputId": "b0e7a9c1-3447-48df-b0c3-0080c4a86f95"
   },
   "outputs": [
    {
     "name": "stdout",
     "output_type": "stream",
     "text": [
      "a\n",
      "bc\td\n"
     ]
    }
   ],
   "source": [
    "print(\"a\")\n",
    "print(\"b\", end = \"\")\n",
    "print(\"c\", end = \"\\t\")\n",
    "print(\"d\")"
   ]
  }
 ],
 "metadata": {
  "colab": {
   "authorship_tag": "ABX9TyPI+TDbsk5hto0Fk5faFdZq",
   "collapsed_sections": [],
   "name": "강의노트5(입출력&오류예외처리).ipynb",
   "provenance": []
  },
  "kernelspec": {
   "display_name": "Python 3 (ipykernel)",
   "language": "python",
   "name": "python3"
  },
  "language_info": {
   "codemirror_mode": {
    "name": "ipython",
    "version": 3
   },
   "file_extension": ".py",
   "mimetype": "text/x-python",
   "name": "python",
   "nbconvert_exporter": "python",
   "pygments_lexer": "ipython3",
   "version": "3.8.10"
  }
 },
 "nbformat": 4,
 "nbformat_minor": 4
}
