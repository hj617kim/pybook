{
 "cells": [
  {
   "cell_type": "markdown",
   "metadata": {
    "id": "s2_vYooAyvOY"
   },
   "source": [
    "# 넘파이(Numpy)\n"
   ]
  },
  {
   "cell_type": "markdown",
   "metadata": {
    "id": "3zmt0_ekS2An"
   },
   "source": [
    "Numpy는 Numerical Python의 줄임말로, 다음의 특징을 가지고 있다.  \n",
    "\n",
    "* 다차원 어레이(array) 지원\n",
    "* 빠른 처리 속도\n",
    "* 과학용 수치 계산에 활용 용이\n",
    "\n",
    "여기서는 넘파이 모듈의 기본 사용법을 소개한다. "
   ]
  },
  {
   "cell_type": "markdown",
   "metadata": {
    "id": "Oz09ctbRW3u4"
   },
   "source": [
    "## numpy 모듈 임포트하기  \n",
    "\n",
    "넘파이 모듈을 사용하려면 먼저 numpy 모듈을 추가 설치해야 한다. 하지만 구글 코랩에는 numpy가 이미 설치되어 있고, 넘파이 모듈을 임포트하기만 하면 된다.  \n",
    "\n",
    "numpy 모듈의 약칭으로 np를 관례적으로 사용한다.  "
   ]
  },
  {
   "cell_type": "code",
   "execution_count": 1,
   "metadata": {
    "id": "qpbh5TBuXOg2"
   },
   "outputs": [],
   "source": [
    "import numpy as np"
   ]
  },
  {
   "cell_type": "markdown",
   "metadata": {
    "id": "Zg2JBRgES2Je"
   },
   "source": [
    "## 넘파이 어레이(Array)\n",
    "\n",
    "넘파이 모듈에서 가장 주요한 요소는 어레이(array)이다. 어레이의 사용법은 기본적으로 리스트와 비슷하다.  \n"
   ]
  },
  {
   "cell_type": "markdown",
   "metadata": {
    "id": "6SjEYTUhaO5l"
   },
   "source": [
    "### 어레이 생성하기  \n",
    "\n",
    "**수동 생성**  \n",
    "\n",
    "수동으로 1차원 어레이 생성하기   \n",
    "\n",
    "예를 들어, 0, 1, 2, 3으로 구성된 어레이를 생성하고자 하면 `array` 함수를 사용하면 된다.  "
   ]
  },
  {
   "cell_type": "code",
   "execution_count": 2,
   "metadata": {
    "id": "2tzVy1TtaU0I"
   },
   "outputs": [],
   "source": [
    "a_1dim = np.array([0, 1, 2, 3])"
   ]
  },
  {
   "cell_type": "markdown",
   "metadata": {
    "id": "XXtWA0MIaquW"
   },
   "source": [
    "어레이의 모양과 활용은 리스트와 비슷하다."
   ]
  },
  {
   "cell_type": "code",
   "execution_count": 3,
   "metadata": {
    "colab": {
     "base_uri": "https://localhost:8080/"
    },
    "executionInfo": {
     "elapsed": 3354,
     "status": "ok",
     "timestamp": 1620638546326,
     "user": {
      "displayName": "HJ Kim",
      "photoUrl": "",
      "userId": "16634276932240017990"
     },
     "user_tz": -540
    },
    "id": "2SS1dHjCaqKM",
    "outputId": "12fb506d-dc89-48bc-96ac-71adf900e0b5"
   },
   "outputs": [
    {
     "name": "stdout",
     "output_type": "stream",
     "text": [
      "[0 1 2 3]\n"
     ]
    }
   ],
   "source": [
    "print(a_1dim)"
   ]
  },
  {
   "cell_type": "markdown",
   "metadata": {
    "id": "jW6ZXezmavjI"
   },
   "source": [
    "하지만 자료형은 넘파이 모듈에서 정의된 ndarray이다. "
   ]
  },
  {
   "cell_type": "code",
   "execution_count": null,
   "metadata": {
    "colab": {
     "base_uri": "https://localhost:8080/"
    },
    "executionInfo": {
     "elapsed": 3333,
     "status": "ok",
     "timestamp": 1620638546327,
     "user": {
      "displayName": "HJ Kim",
      "photoUrl": "",
      "userId": "16634276932240017990"
     },
     "user_tz": -540
    },
    "id": "C01sTNrWa0De",
    "outputId": "e354ce21-7899-4bbb-a7a7-03037c787070"
   },
   "outputs": [
    {
     "name": "stdout",
     "output_type": "stream",
     "text": [
      "<class 'numpy.ndarray'>\n"
     ]
    }
   ],
   "source": [
    "print(type(a_1dim))"
   ]
  },
  {
   "cell_type": "markdown",
   "metadata": {
    "id": "bugkf2xua437"
   },
   "source": [
    "`array` 함수는 리스트와 더불어 튜플도 입력받는다. 리스트와 튜플 중 어느 것을 써도 리턴값은 언제나 어레이이다. "
   ]
  },
  {
   "cell_type": "code",
   "execution_count": null,
   "metadata": {
    "colab": {
     "base_uri": "https://localhost:8080/"
    },
    "executionInfo": {
     "elapsed": 4884,
     "status": "ok",
     "timestamp": 1620638547899,
     "user": {
      "displayName": "HJ Kim",
      "photoUrl": "",
      "userId": "16634276932240017990"
     },
     "user_tz": -540
    },
    "id": "zIi0FVyXbBlg",
    "outputId": "f860a1a8-070f-4e0a-edb0-235bcec6d439"
   },
   "outputs": [
    {
     "name": "stdout",
     "output_type": "stream",
     "text": [
      "[0 1 2 3]\n",
      "<class 'numpy.ndarray'>\n"
     ]
    }
   ],
   "source": [
    "a = np.array((0, 1, 2, 3))\n",
    "print(a)\n",
    "print(type(a))"
   ]
  },
  {
   "cell_type": "markdown",
   "metadata": {
    "id": "DuRyZNE6bJh2"
   },
   "source": [
    "`a_1dim`과 `a`가 동일한 항목으로 구성된 에러이임을 아래와 같이 확인할 수 있다. "
   ]
  },
  {
   "cell_type": "code",
   "execution_count": null,
   "metadata": {
    "colab": {
     "base_uri": "https://localhost:8080/"
    },
    "executionInfo": {
     "elapsed": 4864,
     "status": "ok",
     "timestamp": 1620638547900,
     "user": {
      "displayName": "HJ Kim",
      "photoUrl": "",
      "userId": "16634276932240017990"
     },
     "user_tz": -540
    },
    "id": "nFKzRbtebRg0",
    "outputId": "42d550e6-842d-4abf-ba45-10092d262ef6"
   },
   "outputs": [
    {
     "data": {
      "text/plain": [
       "array([ True,  True,  True,  True])"
      ]
     },
     "execution_count": 6,
     "metadata": {
      "tags": []
     },
     "output_type": "execute_result"
    }
   ],
   "source": [
    "b = (a_1dim == a)\n",
    "b"
   ]
  },
  {
   "cell_type": "markdown",
   "metadata": {
    "id": "ZAuzqxOZbU7j"
   },
   "source": [
    "주의) 어레이 사이의 비교는 각 항목별로 실행된다. `a_1dim == a`의 실행 결과는 새로운 어레이이며, 각 항목별로 비교한 결과인 불리언(bool) 값을 갖게 된다.   \n",
    "\n",
    "주의) 리스트나 튜플과는 달리, 어레이의 각 항목들은 모두 동일한 자료형이어야 한다.  \n",
    "\n",
    "**어레이 항목의 자료형**  \n",
    "어레이 항목의 자료형은 `dtype` 속성을 이용하여 확인할 수 있다. \n"
   ]
  },
  {
   "cell_type": "code",
   "execution_count": null,
   "metadata": {
    "colab": {
     "base_uri": "https://localhost:8080/"
    },
    "executionInfo": {
     "elapsed": 4843,
     "status": "ok",
     "timestamp": 1620638547901,
     "user": {
      "displayName": "HJ Kim",
      "photoUrl": "",
      "userId": "16634276932240017990"
     },
     "user_tz": -540
    },
    "id": "TzImzhbrcwJb",
    "outputId": "9412b047-e56f-4bb9-c656-293c5707b995"
   },
   "outputs": [
    {
     "name": "stdout",
     "output_type": "stream",
     "text": [
      "int64\n",
      "int64\n",
      "bool\n"
     ]
    }
   ],
   "source": [
    "print(a_1dim.dtype) #변수 a_1dim에 할당된 어레이에는 int형 숫자들이 들어 있음.\n",
    "print(a.dtype) \n",
    "print(b.dtype) #변수 b에 할당된 어레이에는 불리언(bool) 값들이 들어 있음. "
   ]
  },
  {
   "cell_type": "markdown",
   "metadata": {
    "id": "314MT3uGc0an"
   },
   "source": [
    "어레이를 생성할 때, 아래와 같이 `dtype`을 사용하여 어레이 항목의 자료형을 지정할 수도 있다. "
   ]
  },
  {
   "cell_type": "code",
   "execution_count": null,
   "metadata": {
    "colab": {
     "base_uri": "https://localhost:8080/"
    },
    "executionInfo": {
     "elapsed": 340,
     "status": "ok",
     "timestamp": 1636642821032,
     "user": {
      "displayName": "­김현주 / 강의조교수 / 기초교육원",
      "photoUrl": "https://lh3.googleusercontent.com/a/default-user=s64",
      "userId": "14128530573454238310"
     },
     "user_tz": -540
    },
    "id": "Pj09nLnLdZd1",
    "outputId": "e5081ef4-5161-4514-9dc0-ed037156acd0"
   },
   "outputs": [
    {
     "name": "stdout",
     "output_type": "stream",
     "text": [
      "[0 1 2 3]\n",
      "int64\n"
     ]
    }
   ],
   "source": [
    "c = np.array(('0', '1', '2', '3'), dtype = 'int')\n",
    "print(c)\n",
    "print(c.dtype)"
   ]
  },
  {
   "cell_type": "markdown",
   "metadata": {
    "id": "dAEe49V4XRQQ"
   },
   "source": [
    "**생성된 어레이의 차원 확인**  \n",
    "`a_1dim`에는 1차원 어레이가 할당되었다. 차원 정보는 `ndim`이라는 속성에 담겨져 있다. "
   ]
  },
  {
   "cell_type": "code",
   "execution_count": null,
   "metadata": {
    "colab": {
     "base_uri": "https://localhost:8080/"
    },
    "executionInfo": {
     "elapsed": 4817,
     "status": "ok",
     "timestamp": 1620638547902,
     "user": {
      "displayName": "HJ Kim",
      "photoUrl": "",
      "userId": "16634276932240017990"
     },
     "user_tz": -540
    },
    "id": "filhqfGpjllL",
    "outputId": "4fbdfd15-f685-40dd-a75c-d7af6f9bc6ac"
   },
   "outputs": [
    {
     "data": {
      "text/plain": [
       "1"
      ]
     },
     "execution_count": 8,
     "metadata": {
      "tags": []
     },
     "output_type": "execute_result"
    }
   ],
   "source": [
    "a_1dim.ndim"
   ]
  },
  {
   "cell_type": "markdown",
   "metadata": {
    "id": "D2tIqe0KXRTz"
   },
   "source": [
    "**생성된 어레이의 모양(shape) 확인**  \n",
    "생성된 어레이의 모양(shape)은 `shape`이라는 속성을 이용하여 확인한다. "
   ]
  },
  {
   "cell_type": "code",
   "execution_count": null,
   "metadata": {
    "colab": {
     "base_uri": "https://localhost:8080/"
    },
    "executionInfo": {
     "elapsed": 4788,
     "status": "ok",
     "timestamp": 1620638547902,
     "user": {
      "displayName": "HJ Kim",
      "photoUrl": "",
      "userId": "16634276932240017990"
     },
     "user_tz": -540
    },
    "id": "Fb2U0z1hkKhq",
    "outputId": "854b1329-6613-4d59-cc5d-3ee3374051e2"
   },
   "outputs": [
    {
     "data": {
      "text/plain": [
       "(4,)"
      ]
     },
     "execution_count": 9,
     "metadata": {
      "tags": []
     },
     "output_type": "execute_result"
    }
   ],
   "source": [
    "a_1dim.shape"
   ]
  },
  {
   "cell_type": "markdown",
   "metadata": {
    "id": "LF6udT7QkN_l"
   },
   "source": [
    "변수 `a_1dim`에 할당된 어레이인 `array([0, 1, 2, 3])`는 1차원 어레이이며, 길이가 4이다. "
   ]
  },
  {
   "cell_type": "markdown",
   "metadata": {
    "id": "2i190mpeXRXV"
   },
   "source": [
    "**수동으로 2차원 어레이 생성하기**  \n",
    "\n",
    "예를 들어, 아래와 같은 3×2 행렬을 2차원 어레이로 구현할 수 있다.  \n",
    "\n",
    "$$\\begin{pmatrix} 0 & 1 \\\\ 2 & 3 \\\\ 4 & 5 \\end{pmatrix}$$\n",
    "\n"
   ]
  },
  {
   "cell_type": "code",
   "execution_count": null,
   "metadata": {
    "colab": {
     "base_uri": "https://localhost:8080/"
    },
    "executionInfo": {
     "elapsed": 4760,
     "status": "ok",
     "timestamp": 1620638547903,
     "user": {
      "displayName": "HJ Kim",
      "photoUrl": "",
      "userId": "16634276932240017990"
     },
     "user_tz": -540
    },
    "id": "zx_peGO1lQGN",
    "outputId": "f989dd18-b6e8-47dc-bcc4-997f42597800"
   },
   "outputs": [
    {
     "data": {
      "text/plain": [
       "array([[0, 1],\n",
       "       [2, 3],\n",
       "       [4, 5]])"
      ]
     },
     "execution_count": 10,
     "metadata": {
      "tags": []
     },
     "output_type": "execute_result"
    }
   ],
   "source": [
    "a_2dim = np.array([[0, 1], [2, 3], [4, 5]])\n",
    "a_2dim"
   ]
  },
  {
   "cell_type": "markdown",
   "metadata": {
    "id": "4DXYUbeBXRap"
   },
   "source": [
    "즉, 앞서 언급된 행렬의 첫째 행이 위 어레이의 첫 번째 리스트로, 그리고 둘째 행이 어레이의 두 번째 리스트에 해당한다.  \n",
    "\n",
    "`ndim` 을 이용하여 어레이의 차원을 확인해보자. "
   ]
  },
  {
   "cell_type": "code",
   "execution_count": null,
   "metadata": {
    "colab": {
     "base_uri": "https://localhost:8080/"
    },
    "executionInfo": {
     "elapsed": 4739,
     "status": "ok",
     "timestamp": 1620638547903,
     "user": {
      "displayName": "HJ Kim",
      "photoUrl": "",
      "userId": "16634276932240017990"
     },
     "user_tz": -540
    },
    "id": "i4VIuMZkloq9",
    "outputId": "1dc36b32-8996-408a-d8e0-4273f05f15fa"
   },
   "outputs": [
    {
     "data": {
      "text/plain": [
       "2"
      ]
     },
     "execution_count": 11,
     "metadata": {
      "tags": []
     },
     "output_type": "execute_result"
    }
   ],
   "source": [
    "a_2dim.ndim"
   ]
  },
  {
   "cell_type": "markdown",
   "metadata": {
    "id": "g5fzrZcgXRfe"
   },
   "source": [
    "변수 `a_2dim`에 할당된 어레이의 모양(shape)은 3×2 행렬에 해당하는 (3, 2)이다. "
   ]
  },
  {
   "cell_type": "code",
   "execution_count": null,
   "metadata": {
    "colab": {
     "base_uri": "https://localhost:8080/"
    },
    "executionInfo": {
     "elapsed": 4717,
     "status": "ok",
     "timestamp": 1620638547904,
     "user": {
      "displayName": "HJ Kim",
      "photoUrl": "",
      "userId": "16634276932240017990"
     },
     "user_tz": -540
    },
    "id": "wnlJE8UYl3QU",
    "outputId": "86423384-a9db-4f5c-b14e-0f5533305f7f"
   },
   "outputs": [
    {
     "data": {
      "text/plain": [
       "(3, 2)"
      ]
     },
     "execution_count": 12,
     "metadata": {
      "tags": []
     },
     "output_type": "execute_result"
    }
   ],
   "source": [
    "a_2dim.shape"
   ]
  },
  {
   "cell_type": "markdown",
   "metadata": {
    "id": "-H1yQgnylY_0"
   },
   "source": [
    "주의) `len` 함수는 마치 리스트의 길이를 리턴해주는 것처럼 어레이 인자를 받으면, 첫 번째 차원의 길이를 리턴한다. "
   ]
  },
  {
   "cell_type": "code",
   "execution_count": null,
   "metadata": {
    "colab": {
     "base_uri": "https://localhost:8080/"
    },
    "executionInfo": {
     "elapsed": 4696,
     "status": "ok",
     "timestamp": 1620638547905,
     "user": {
      "displayName": "HJ Kim",
      "photoUrl": "",
      "userId": "16634276932240017990"
     },
     "user_tz": -540
    },
    "id": "BYUu1D2IqxsA",
    "outputId": "94415d70-f654-4b83-9708-cb824b52eefa"
   },
   "outputs": [
    {
     "name": "stdout",
     "output_type": "stream",
     "text": [
      "[[0 1]\n",
      " [2 3]\n",
      " [4 5]]\n",
      "3\n"
     ]
    }
   ],
   "source": [
    "print(a_2dim)\n",
    "print(len(a_2dim))"
   ]
  },
  {
   "cell_type": "markdown",
   "metadata": {
    "id": "z6CzQUeilZCv"
   },
   "source": [
    "주의) 넘파이 모듈에는 어레이 모양 정보를 리턴하는 `shape()`라는 함수가 따로 존재한다. 이 함수는 어레이의 `shape` 속성 정보를 리턴한다. "
   ]
  },
  {
   "cell_type": "code",
   "execution_count": null,
   "metadata": {
    "colab": {
     "base_uri": "https://localhost:8080/"
    },
    "executionInfo": {
     "elapsed": 4674,
     "status": "ok",
     "timestamp": 1620638547905,
     "user": {
      "displayName": "HJ Kim",
      "photoUrl": "",
      "userId": "16634276932240017990"
     },
     "user_tz": -540
    },
    "id": "4U3qJEk8rEVO",
    "outputId": "d139ab86-018b-4301-c747-258c393e0ec1"
   },
   "outputs": [
    {
     "data": {
      "text/plain": [
       "(3, 2)"
      ]
     },
     "execution_count": 14,
     "metadata": {
      "tags": []
     },
     "output_type": "execute_result"
    }
   ],
   "source": [
    "np.shape(a_2dim)"
   ]
  },
  {
   "cell_type": "markdown",
   "metadata": {
    "id": "TvVIwOM_lZFk"
   },
   "source": [
    "ex) `len()` 함수와 `np.shape()` 함수, 그리고 `ndim` 사이에는 어떤 관계가 있을까?"
   ]
  },
  {
   "cell_type": "markdown",
   "metadata": {
    "id": "8N-k10WxrVGU"
   },
   "source": [
    "* `np.shape()` 함수의 리턴값의 첫 번째 인자가 `len()` 함수의 리턴값과 동일하다. "
   ]
  },
  {
   "cell_type": "code",
   "execution_count": null,
   "metadata": {
    "colab": {
     "base_uri": "https://localhost:8080/"
    },
    "executionInfo": {
     "elapsed": 4656,
     "status": "ok",
     "timestamp": 1620638547906,
     "user": {
      "displayName": "HJ Kim",
      "photoUrl": "",
      "userId": "16634276932240017990"
     },
     "user_tz": -540
    },
    "id": "Z2ufdJVgrT3R",
    "outputId": "54fbe237-3188-4fe1-82d5-9256504553bb"
   },
   "outputs": [
    {
     "data": {
      "text/plain": [
       "True"
      ]
     },
     "execution_count": 15,
     "metadata": {
      "tags": []
     },
     "output_type": "execute_result"
    }
   ],
   "source": [
    "np.shape(a_2dim)[0] == len(a_2dim)"
   ]
  },
  {
   "cell_type": "markdown",
   "metadata": {
    "id": "jk9SOmHYlZIv"
   },
   "source": [
    "* `ndim` 속성 값은 `np.shape()` 함수의 리턴값인 튜플의 길이와 동일하다. "
   ]
  },
  {
   "cell_type": "code",
   "execution_count": null,
   "metadata": {
    "colab": {
     "base_uri": "https://localhost:8080/"
    },
    "executionInfo": {
     "elapsed": 4633,
     "status": "ok",
     "timestamp": 1620638547907,
     "user": {
      "displayName": "HJ Kim",
      "photoUrl": "",
      "userId": "16634276932240017990"
     },
     "user_tz": -540
    },
    "id": "qaD_VWBmrocF",
    "outputId": "8cba30f1-f819-426b-b82a-bfc860916d44"
   },
   "outputs": [
    {
     "data": {
      "text/plain": [
       "True"
      ]
     },
     "execution_count": 16,
     "metadata": {
      "tags": []
     },
     "output_type": "execute_result"
    }
   ],
   "source": [
    "len(np.shape(a_2dim)) == a_2dim.ndim"
   ]
  },
  {
   "cell_type": "markdown",
   "metadata": {
    "id": "XZ5kcy03ruU4"
   },
   "source": [
    "**자동 생성**  \n",
    "\n",
    "실제로 우리가 사용하는 데이터는 매우 크기 때문에 수동으로 어레이를 생성하는 방법은 실전에서는 거의 사용하지 못한다. 이제 보다 간단하게 원하는 어레이를 생성하는 방법을 살펴보자.  \n"
   ]
  },
  {
   "cell_type": "markdown",
   "metadata": {
    "id": "iR_0RSkJruYH"
   },
   "source": [
    "**arange() 함수 활용**  \n",
    "넘파이의 `arange()` 함수는 `range()`함수와 기본적으로 동일하게 작동한다. 다만 리스트가 아닌 어레이를 리턴한다. "
   ]
  },
  {
   "cell_type": "code",
   "execution_count": null,
   "metadata": {
    "colab": {
     "base_uri": "https://localhost:8080/"
    },
    "executionInfo": {
     "elapsed": 4607,
     "status": "ok",
     "timestamp": 1620638547907,
     "user": {
      "displayName": "HJ Kim",
      "photoUrl": "",
      "userId": "16634276932240017990"
     },
     "user_tz": -540
    },
    "id": "htJAdaLkgZhE",
    "outputId": "3799116e-8279-49b8-841e-380745972256"
   },
   "outputs": [
    {
     "data": {
      "text/plain": [
       "array([0, 1, 2, 3, 4, 5, 6, 7, 8, 9])"
      ]
     },
     "execution_count": 17,
     "metadata": {
      "tags": []
     },
     "output_type": "execute_result"
    }
   ],
   "source": [
    "a = np.arange(10)  # range(10)와 동일\n",
    "a "
   ]
  },
  {
   "cell_type": "code",
   "execution_count": null,
   "metadata": {
    "colab": {
     "base_uri": "https://localhost:8080/"
    },
    "executionInfo": {
     "elapsed": 4588,
     "status": "ok",
     "timestamp": 1620638547908,
     "user": {
      "displayName": "HJ Kim",
      "photoUrl": "",
      "userId": "16634276932240017990"
     },
     "user_tz": -540
    },
    "id": "8QD1hVeUgfLK",
    "outputId": "42d19c1d-0b09-4860-81c8-b69751203465"
   },
   "outputs": [
    {
     "data": {
      "text/plain": [
       "array([1, 3, 5, 7])"
      ]
     },
     "execution_count": 18,
     "metadata": {
      "tags": []
     },
     "output_type": "execute_result"
    }
   ],
   "source": [
    "b = np.arange(1, 9, 2) # range(1, 9, 2)와 동일\n",
    "b"
   ]
  },
  {
   "cell_type": "markdown",
   "metadata": {
    "id": "50rSRVEjrucb"
   },
   "source": [
    "**linspace() 함수 활용**  \n",
    "`linspace()`함수를 사용하여 특정 구간을 일정한 크기로 쪼개어 어레이를 생성할 수 있다. 예를 들어, 0과 1 구간을 6개의 점으로 균등하게 쪼개어 어레이를 만들려면 아래와 같이 실행하면 된다. "
   ]
  },
  {
   "cell_type": "code",
   "execution_count": null,
   "metadata": {
    "colab": {
     "base_uri": "https://localhost:8080/"
    },
    "executionInfo": {
     "elapsed": 4566,
     "status": "ok",
     "timestamp": 1620638547908,
     "user": {
      "displayName": "HJ Kim",
      "photoUrl": "",
      "userId": "16634276932240017990"
     },
     "user_tz": -540
    },
    "id": "H9D2-xbMk1qM",
    "outputId": "bb8c45d6-6885-4532-9167-891ae79a628f"
   },
   "outputs": [
    {
     "data": {
      "text/plain": [
       "array([0. , 0.2, 0.4, 0.6, 0.8, 1. ])"
      ]
     },
     "execution_count": 19,
     "metadata": {
      "tags": []
     },
     "output_type": "execute_result"
    }
   ],
   "source": [
    "d = np.linspace(0, 1, 6)\n",
    "d"
   ]
  },
  {
   "cell_type": "markdown",
   "metadata": {
    "id": "151USBF8gr85"
   },
   "source": [
    "반면에 구간의 오른쪽 끝을 제외하고 6개의 점으로 균등하게 쪼개어 어레이를 만들려면 아래와 같이 실행하면 된다. "
   ]
  },
  {
   "cell_type": "code",
   "execution_count": null,
   "metadata": {
    "colab": {
     "base_uri": "https://localhost:8080/"
    },
    "executionInfo": {
     "elapsed": 4548,
     "status": "ok",
     "timestamp": 1620638547909,
     "user": {
      "displayName": "HJ Kim",
      "photoUrl": "",
      "userId": "16634276932240017990"
     },
     "user_tz": -540
    },
    "id": "sMcyJmhOk_6J",
    "outputId": "b2087484-ea16-4abc-ff38-35c634095715"
   },
   "outputs": [
    {
     "data": {
      "text/plain": [
       "array([0.        , 0.16666667, 0.33333333, 0.5       , 0.66666667,\n",
       "       0.83333333])"
      ]
     },
     "execution_count": 20,
     "metadata": {
      "tags": []
     },
     "output_type": "execute_result"
    }
   ],
   "source": [
    "e = np.linspace(0, 1, 6, endpoint = False)\n",
    "e"
   ]
  },
  {
   "cell_type": "markdown",
   "metadata": {
    "id": "S-kyILDugsAq"
   },
   "source": [
    "주의) 위의 결과는 아래 결과에서 마지막 구간을 생략한 결과와 동일하다. \n"
   ]
  },
  {
   "cell_type": "code",
   "execution_count": null,
   "metadata": {
    "colab": {
     "base_uri": "https://localhost:8080/"
    },
    "executionInfo": {
     "elapsed": 4380,
     "status": "ok",
     "timestamp": 1620638547909,
     "user": {
      "displayName": "HJ Kim",
      "photoUrl": "",
      "userId": "16634276932240017990"
     },
     "user_tz": -540
    },
    "id": "Y-9w6lnvlekr",
    "outputId": "047bca7b-2ed1-4313-c680-4d5c5820d70d"
   },
   "outputs": [
    {
     "data": {
      "text/plain": [
       "array([0.        , 0.16666667, 0.33333333, 0.5       , 0.66666667,\n",
       "       0.83333333, 1.        ])"
      ]
     },
     "execution_count": 21,
     "metadata": {
      "tags": []
     },
     "output_type": "execute_result"
    }
   ],
   "source": [
    "f = np.linspace(0, 1, 7)\n",
    "f"
   ]
  },
  {
   "cell_type": "markdown",
   "metadata": {
    "id": "OJun6-tWgsEH"
   },
   "source": [
    "**1로 채워진 어레이 생성**  \n",
    "`ones()` 함수는 원하는 모양의 어레이를 생성한다. 다만, 모든 항목은 1로 채워진다. 예를 들어, 1로 채워진 3×4 모양의 2차원 행렬에 대응하는 어레이는 아래와 같이 생성한다.  \n",
    "\n",
    "주의) 인자는 원하는 모양(shape)의 튜플을 사용한다. "
   ]
  },
  {
   "cell_type": "code",
   "execution_count": null,
   "metadata": {
    "colab": {
     "base_uri": "https://localhost:8080/"
    },
    "executionInfo": {
     "elapsed": 3713,
     "status": "ok",
     "timestamp": 1620638547910,
     "user": {
      "displayName": "HJ Kim",
      "photoUrl": "",
      "userId": "16634276932240017990"
     },
     "user_tz": -540
    },
    "id": "bH6_iFxEnJte",
    "outputId": "ee337e82-0492-4d8a-d5d2-71d459a6f8ec"
   },
   "outputs": [
    {
     "data": {
      "text/plain": [
       "array([[1., 1., 1., 1.],\n",
       "       [1., 1., 1., 1.],\n",
       "       [1., 1., 1., 1.]])"
      ]
     },
     "execution_count": 22,
     "metadata": {
      "tags": []
     },
     "output_type": "execute_result"
    }
   ],
   "source": [
    "g = np.ones((3, 4))\n",
    "g"
   ]
  },
  {
   "cell_type": "markdown",
   "metadata": {
    "id": "8NAkCCBSgsIG"
   },
   "source": [
    "**0으로 채워진 어레이 생성**  \n",
    "`zeros()` 함수는 원하는 모양의 어레이를 생성한다. 다만, 모든 항목은 0으로 채워진다. 예를 들어, 0으로 채워진 2×3 모양의 2차원 행렬에 대응하는 어레이는 아래와 같이 생성한다.  \n",
    "\n",
    "주의) 인자는 원하는 모양(shape)의 튜플을 사용한다. "
   ]
  },
  {
   "cell_type": "code",
   "execution_count": null,
   "metadata": {
    "colab": {
     "base_uri": "https://localhost:8080/"
    },
    "executionInfo": {
     "elapsed": 2802,
     "status": "ok",
     "timestamp": 1620638547910,
     "user": {
      "displayName": "HJ Kim",
      "photoUrl": "",
      "userId": "16634276932240017990"
     },
     "user_tz": -540
    },
    "id": "3vVBZ_nDneyc",
    "outputId": "3c604383-8f8e-42ba-f5df-97b8479b60a6"
   },
   "outputs": [
    {
     "data": {
      "text/plain": [
       "array([[0., 0., 0.],\n",
       "       [0., 0., 0.]])"
      ]
     },
     "execution_count": 23,
     "metadata": {
      "tags": []
     },
     "output_type": "execute_result"
    }
   ],
   "source": [
    "h = np.zeros((2, 3))\n",
    "h"
   ]
  },
  {
   "cell_type": "markdown",
   "metadata": {
    "id": "YXj98WB5ruf4"
   },
   "source": [
    "**단위행렬 생성**  \n",
    "선형대수에서 중요한 역할을 수행하는 단위행렬(unit matrix)은 대각선은 1로 채우고 나머지는 모두 0으로 채워진다. `eye()` 함수를 이용하여 원하는 모양의 단위행렬에 해당하는 어레이를 생성할 수 있다.  \n",
    "\n",
    "주의) 인자는 원하는 모양(shape)의 어레이의 길이(len)를 사용한다. "
   ]
  },
  {
   "cell_type": "code",
   "execution_count": null,
   "metadata": {
    "colab": {
     "base_uri": "https://localhost:8080/"
    },
    "executionInfo": {
     "elapsed": 2177,
     "status": "ok",
     "timestamp": 1620638547911,
     "user": {
      "displayName": "HJ Kim",
      "photoUrl": "",
      "userId": "16634276932240017990"
     },
     "user_tz": -540
    },
    "id": "RoGQ3P_Dn4JN",
    "outputId": "febbc2f3-94d1-4265-bd10-f3a5d0f7384a"
   },
   "outputs": [
    {
     "data": {
      "text/plain": [
       "array([[1., 0., 0., 0.],\n",
       "       [0., 1., 0., 0.],\n",
       "       [0., 0., 1., 0.],\n",
       "       [0., 0., 0., 1.]])"
      ]
     },
     "execution_count": 24,
     "metadata": {
      "tags": []
     },
     "output_type": "execute_result"
    }
   ],
   "source": [
    "i = np.eye(4)\n",
    "i"
   ]
  },
  {
   "cell_type": "markdown",
   "metadata": {
    "id": "j0Rk4KvsniRh"
   },
   "source": [
    "**`diag()`함수 활용**  \n",
    "\n",
    "숫자들의 리스트가 주어졌을 경우, 리스트(또는 튜플, 1차원 어레이)의 항목들을 대각선 값으로 갖는 어레이를 구현할 수 있다. "
   ]
  },
  {
   "cell_type": "code",
   "execution_count": null,
   "metadata": {
    "colab": {
     "base_uri": "https://localhost:8080/"
    },
    "executionInfo": {
     "elapsed": 5697,
     "status": "ok",
     "timestamp": 1620638552126,
     "user": {
      "displayName": "HJ Kim",
      "photoUrl": "",
      "userId": "16634276932240017990"
     },
     "user_tz": -540
    },
    "id": "1G8gFaY1ohHl",
    "outputId": "00b28a39-06db-4c9e-e850-07c927c80c4a"
   },
   "outputs": [
    {
     "data": {
      "text/plain": [
       "array([[1, 0, 0, 0],\n",
       "       [0, 2, 0, 0],\n",
       "       [0, 0, 3, 0],\n",
       "       [0, 0, 0, 4]])"
      ]
     },
     "execution_count": 25,
     "metadata": {
      "tags": []
     },
     "output_type": "execute_result"
    }
   ],
   "source": [
    "j1 = np.diag([1, 2, 3, 4])\n",
    "j1"
   ]
  },
  {
   "cell_type": "code",
   "execution_count": null,
   "metadata": {
    "colab": {
     "base_uri": "https://localhost:8080/"
    },
    "executionInfo": {
     "elapsed": 5264,
     "status": "ok",
     "timestamp": 1620638552127,
     "user": {
      "displayName": "HJ Kim",
      "photoUrl": "",
      "userId": "16634276932240017990"
     },
     "user_tz": -540
    },
    "id": "YB9MzejKonCM",
    "outputId": "3e126281-2809-410e-997b-aaecec79927e"
   },
   "outputs": [
    {
     "data": {
      "text/plain": [
       "array([[1, 0, 0, 0],\n",
       "       [0, 2, 0, 0],\n",
       "       [0, 0, 3, 0],\n",
       "       [0, 0, 0, 4]])"
      ]
     },
     "execution_count": 26,
     "metadata": {
      "tags": []
     },
     "output_type": "execute_result"
    }
   ],
   "source": [
    "j2 = np.diag((1, 2, 3, 4))\n",
    "j2"
   ]
  },
  {
   "cell_type": "code",
   "execution_count": null,
   "metadata": {
    "colab": {
     "base_uri": "https://localhost:8080/"
    },
    "executionInfo": {
     "elapsed": 4941,
     "status": "ok",
     "timestamp": 1620638552127,
     "user": {
      "displayName": "HJ Kim",
      "photoUrl": "",
      "userId": "16634276932240017990"
     },
     "user_tz": -540
    },
    "id": "k9dMSz9voq2C",
    "outputId": "f49f105b-ceaf-4305-e95b-4e17a5645d77"
   },
   "outputs": [
    {
     "data": {
      "text/plain": [
       "array([[1, 0, 0, 0],\n",
       "       [0, 2, 0, 0],\n",
       "       [0, 0, 3, 0],\n",
       "       [0, 0, 0, 4]])"
      ]
     },
     "execution_count": 27,
     "metadata": {
      "tags": []
     },
     "output_type": "execute_result"
    }
   ],
   "source": [
    "j3 = np.diag(np.arange(1, 5))\n",
    "j3"
   ]
  },
  {
   "cell_type": "markdown",
   "metadata": {
    "id": "hY0z7UMzniU6"
   },
   "source": [
    "생성된 어레이는 모두 동일하다. "
   ]
  },
  {
   "cell_type": "code",
   "execution_count": null,
   "metadata": {
    "colab": {
     "base_uri": "https://localhost:8080/"
    },
    "executionInfo": {
     "elapsed": 4914,
     "status": "ok",
     "timestamp": 1620638552924,
     "user": {
      "displayName": "HJ Kim",
      "photoUrl": "",
      "userId": "16634276932240017990"
     },
     "user_tz": -540
    },
    "id": "3vova-yNo0lh",
    "outputId": "ad329df4-683f-4a93-c519-8be488a16551"
   },
   "outputs": [
    {
     "data": {
      "text/plain": [
       "array([[ True,  True,  True,  True],\n",
       "       [ True,  True,  True,  True],\n",
       "       [ True,  True,  True,  True],\n",
       "       [ True,  True,  True,  True]])"
      ]
     },
     "execution_count": 28,
     "metadata": {
      "tags": []
     },
     "output_type": "execute_result"
    }
   ],
   "source": [
    "j1 == j2"
   ]
  },
  {
   "cell_type": "code",
   "execution_count": null,
   "metadata": {
    "colab": {
     "base_uri": "https://localhost:8080/"
    },
    "executionInfo": {
     "elapsed": 4538,
     "status": "ok",
     "timestamp": 1620638552924,
     "user": {
      "displayName": "HJ Kim",
      "photoUrl": "",
      "userId": "16634276932240017990"
     },
     "user_tz": -540
    },
    "id": "4-kRzDlpo26n",
    "outputId": "98e707ba-7e72-4220-8540-c53d0c92c2e5"
   },
   "outputs": [
    {
     "data": {
      "text/plain": [
       "array([[ True,  True,  True,  True],\n",
       "       [ True,  True,  True,  True],\n",
       "       [ True,  True,  True,  True],\n",
       "       [ True,  True,  True,  True]])"
      ]
     },
     "execution_count": 29,
     "metadata": {
      "tags": []
     },
     "output_type": "execute_result"
    }
   ],
   "source": [
    "j2 == j3"
   ]
  },
  {
   "cell_type": "markdown",
   "metadata": {
    "id": "GEaqNn63oxwh"
   },
   "source": [
    "**난수로 구성된 어레이**  \n",
    "\n",
    "난수(random number)로 구성된 어레이를 생성하기 위해 `numpy.random` 모듈에 있는 `rand()`, `randn()` 함수를 활용할 수 있다.  \n",
    "* `numpy.random.rand()` 함수 : 균등분포를 사용하여 지정된 수만큼 [0,1) 구간에서 난수를 구한다.  \n",
    "* `numpy.random.randn()` 함수 : 표준정규분포 방식을 사용하여 지정된 수만큼 난수를 구한다.  \n",
    "\n",
    "각 함수의 인자는 원하는 모양(shape)에 해당하는 튜플이다. \n",
    "\n",
    "주의) `numpy.ones()` 또는 `numpy.zeros()` 함수들과는 달리 추가로 괄호를 사용하지 않는다. "
   ]
  },
  {
   "cell_type": "markdown",
   "metadata": {
    "id": "2G1Qfa8Ipq2Z"
   },
   "source": [
    "* 1차원 난수 어레이 생성"
   ]
  },
  {
   "cell_type": "code",
   "execution_count": null,
   "metadata": {
    "colab": {
     "base_uri": "https://localhost:8080/"
    },
    "executionInfo": {
     "elapsed": 3555,
     "status": "ok",
     "timestamp": 1620638552925,
     "user": {
      "displayName": "HJ Kim",
      "photoUrl": "",
      "userId": "16634276932240017990"
     },
     "user_tz": -540
    },
    "id": "G69wQs9FptaG",
    "outputId": "cf63826c-ac4e-4f90-e285-00e582ebd082"
   },
   "outputs": [
    {
     "data": {
      "text/plain": [
       "array([0.89596385, 0.90591049, 0.77298142, 0.95865485])"
      ]
     },
     "execution_count": 30,
     "metadata": {
      "tags": []
     },
     "output_type": "execute_result"
    }
   ],
   "source": [
    "k = np.random.rand(4)\n",
    "k"
   ]
  },
  {
   "cell_type": "markdown",
   "metadata": {
    "id": "crXINMTvpy15"
   },
   "source": [
    "* 2차원 난수 어레이 생성"
   ]
  },
  {
   "cell_type": "code",
   "execution_count": null,
   "metadata": {
    "colab": {
     "base_uri": "https://localhost:8080/"
    },
    "executionInfo": {
     "elapsed": 2818,
     "status": "ok",
     "timestamp": 1620638552926,
     "user": {
      "displayName": "HJ Kim",
      "photoUrl": "",
      "userId": "16634276932240017990"
     },
     "user_tz": -540
    },
    "id": "qImA-psSp1ia",
    "outputId": "b9bdc3a9-3139-41e0-d026-d16d2d09417a"
   },
   "outputs": [
    {
     "data": {
      "text/plain": [
       "array([[0.81717716, 0.88408798, 0.67111318],\n",
       "       [0.05590227, 0.21689414, 0.39424727]])"
      ]
     },
     "execution_count": 31,
     "metadata": {
      "tags": []
     },
     "output_type": "execute_result"
    }
   ],
   "source": [
    "k1 = np.random.rand(2, 3)\n",
    "k1"
   ]
  },
  {
   "cell_type": "markdown",
   "metadata": {
    "id": "b06Ec-PCp5uS"
   },
   "source": [
    "동일한 일을 `np.random.randn()` 함수를 활용하여 할 수 있다. "
   ]
  },
  {
   "cell_type": "code",
   "execution_count": null,
   "metadata": {
    "colab": {
     "base_uri": "https://localhost:8080/"
    },
    "executionInfo": {
     "elapsed": 2167,
     "status": "ok",
     "timestamp": 1620638552926,
     "user": {
      "displayName": "HJ Kim",
      "photoUrl": "",
      "userId": "16634276932240017990"
     },
     "user_tz": -540
    },
    "id": "PT3vuXU2qElE",
    "outputId": "63aa5522-2784-48e8-88dd-208bbc5695c4"
   },
   "outputs": [
    {
     "data": {
      "text/plain": [
       "array([-1.19097806,  0.79125158,  0.0652025 ,  0.5250378 ])"
      ]
     },
     "execution_count": 32,
     "metadata": {
      "tags": []
     },
     "output_type": "execute_result"
    }
   ],
   "source": [
    "l = np.random.randn(4)\n",
    "l"
   ]
  },
  {
   "cell_type": "code",
   "execution_count": null,
   "metadata": {
    "colab": {
     "base_uri": "https://localhost:8080/"
    },
    "executionInfo": {
     "elapsed": 1814,
     "status": "ok",
     "timestamp": 1620638552927,
     "user": {
      "displayName": "HJ Kim",
      "photoUrl": "",
      "userId": "16634276932240017990"
     },
     "user_tz": -540
    },
    "id": "YOIr6JVBqU2k",
    "outputId": "b20c0739-1a1f-4e9a-9c21-4c8849476d2d"
   },
   "outputs": [
    {
     "data": {
      "text/plain": [
       "array([[ 0.06595284,  1.74801134, -1.73757625],\n",
       "       [ 0.06598547, -1.42549234,  0.32110842]])"
      ]
     },
     "execution_count": 33,
     "metadata": {
      "tags": []
     },
     "output_type": "execute_result"
    }
   ],
   "source": [
    "l1 = np.random.randn(2, 3)\n",
    "l1"
   ]
  },
  {
   "cell_type": "markdown",
   "metadata": {
    "id": "8FxXuwL9ruj6"
   },
   "source": [
    "### 넘파이 어레이의 장점 : 빠른 처리 속도  \n",
    "\n",
    "어레이는 리스트보다 빠르게 데이터를 처리한다. 아래의 예제는 5천만 개의 홀수들의 제곱으로 이루어진 리스트와 어레이를 조작하는 속도를 비교한 것이다. 어레이를 이용하는 경우가 몇 십배 이상 빠름을 확인할 수 있다.  "
   ]
  },
  {
   "cell_type": "code",
   "execution_count": null,
   "metadata": {
    "colab": {
     "base_uri": "https://localhost:8080/"
    },
    "executionInfo": {
     "elapsed": 17417,
     "status": "ok",
     "timestamp": 1620638569428,
     "user": {
      "displayName": "HJ Kim",
      "photoUrl": "",
      "userId": "16634276932240017990"
     },
     "user_tz": -540
    },
    "id": "cbKTRwgHfIM5",
    "outputId": "7023bfbf-2cc4-4e8c-bfb9-81061185a3f5"
   },
   "outputs": [
    {
     "name": "stdout",
     "output_type": "stream",
     "text": [
      "15.87542724609375\n"
     ]
    }
   ],
   "source": [
    "import time\n",
    "\n",
    "start_time = time.time()\n",
    "a_list = range(0, 100000000, 2)\n",
    "a_list_square = [i**2 for i in a_list]\n",
    "end_time = time.time()\n",
    "\n",
    "list_time = end_time - start_time\n",
    "print(list_time)"
   ]
  },
  {
   "cell_type": "code",
   "execution_count": null,
   "metadata": {
    "colab": {
     "base_uri": "https://localhost:8080/"
    },
    "executionInfo": {
     "elapsed": 18615,
     "status": "ok",
     "timestamp": 1620638570909,
     "user": {
      "displayName": "HJ Kim",
      "photoUrl": "",
      "userId": "16634276932240017990"
     },
     "user_tz": -540
    },
    "id": "qEB3AK7hfKh0",
    "outputId": "80e28ee9-b63b-4d95-a11e-8aaf87a936eb"
   },
   "outputs": [
    {
     "name": "stdout",
     "output_type": "stream",
     "text": [
      "0.28598618507385254\n"
     ]
    }
   ],
   "source": [
    "import time\n",
    "\n",
    "start_time = time.time()\n",
    "an_array = np.arange(0, 100000000, 2)\n",
    "an_array**2\n",
    "end_time = time.time()\n",
    "\n",
    "array_time = end_time - start_time\n",
    "print(array_time)"
   ]
  },
  {
   "cell_type": "markdown",
   "metadata": {
    "id": "ZXEjazKYf2UK"
   },
   "source": [
    "주의) 어레이 관련 연산은 기본적으로 각 항목별로 실행된다. 따라서 `a**2`은 각 항목을 제곱하라는 의미이다. "
   ]
  },
  {
   "cell_type": "markdown",
   "metadata": {
    "id": "Op9E8EIYdSoN"
   },
   "source": [
    "### 어레이 연산"
   ]
  },
  {
   "cell_type": "markdown",
   "metadata": {
    "id": "zvGgHlOAPa0D"
   },
   "source": [
    "참고) `reshape()`는 어레이의 모양을 변경할 때 사용한다. "
   ]
  },
  {
   "cell_type": "code",
   "execution_count": null,
   "metadata": {
    "colab": {
     "base_uri": "https://localhost:8080/"
    },
    "executionInfo": {
     "elapsed": 17068,
     "status": "ok",
     "timestamp": 1620638570910,
     "user": {
      "displayName": "HJ Kim",
      "photoUrl": "",
      "userId": "16634276932240017990"
     },
     "user_tz": -540
    },
    "id": "23V4uJrIdXdn",
    "outputId": "633b11cc-6f41-4526-a8a9-b35eef8f7510"
   },
   "outputs": [
    {
     "data": {
      "text/plain": [
       "array([[0, 1, 2],\n",
       "       [3, 4, 5]])"
      ]
     },
     "execution_count": 36,
     "metadata": {
      "tags": []
     },
     "output_type": "execute_result"
    }
   ],
   "source": [
    "arr1 = np.arange(6).reshape((2, 3))\n",
    "arr1"
   ]
  },
  {
   "cell_type": "code",
   "execution_count": null,
   "metadata": {
    "colab": {
     "base_uri": "https://localhost:8080/"
    },
    "executionInfo": {
     "elapsed": 16646,
     "status": "ok",
     "timestamp": 1620638570911,
     "user": {
      "displayName": "HJ Kim",
      "photoUrl": "",
      "userId": "16634276932240017990"
     },
     "user_tz": -540
    },
    "id": "AFlc3TNOd4g9",
    "outputId": "fcd9bb7d-9677-4890-ebc9-f34ae35c7b68"
   },
   "outputs": [
    {
     "data": {
      "text/plain": [
       "array([[ 6,  7,  8],\n",
       "       [ 9, 10, 11]])"
      ]
     },
     "execution_count": 37,
     "metadata": {
      "tags": []
     },
     "output_type": "execute_result"
    }
   ],
   "source": [
    "arr2 = np.arange(6, 12).reshape((2, 3))\n",
    "arr2"
   ]
  },
  {
   "cell_type": "code",
   "execution_count": null,
   "metadata": {
    "colab": {
     "base_uri": "https://localhost:8080/"
    },
    "executionInfo": {
     "elapsed": 16242,
     "status": "ok",
     "timestamp": 1620638570911,
     "user": {
      "displayName": "HJ Kim",
      "photoUrl": "",
      "userId": "16634276932240017990"
     },
     "user_tz": -540
    },
    "id": "6YEchNOmdyhI",
    "outputId": "e4533a95-1467-4f06-cada-7888032a1068"
   },
   "outputs": [
    {
     "data": {
      "text/plain": [
       "array([[ 6,  8, 10],\n",
       "       [12, 14, 16]])"
      ]
     },
     "execution_count": 38,
     "metadata": {
      "tags": []
     },
     "output_type": "execute_result"
    }
   ],
   "source": [
    "arr1 + arr2"
   ]
  },
  {
   "cell_type": "code",
   "execution_count": null,
   "metadata": {
    "colab": {
     "base_uri": "https://localhost:8080/"
    },
    "executionInfo": {
     "elapsed": 15820,
     "status": "ok",
     "timestamp": 1620638570912,
     "user": {
      "displayName": "HJ Kim",
      "photoUrl": "",
      "userId": "16634276932240017990"
     },
     "user_tz": -540
    },
    "id": "AY543YOheEQk",
    "outputId": "2d6bed77-0837-44d4-c2fd-f015f45678af"
   },
   "outputs": [
    {
     "data": {
      "text/plain": [
       "array([[-6, -6, -6],\n",
       "       [-6, -6, -6]])"
      ]
     },
     "execution_count": 39,
     "metadata": {
      "tags": []
     },
     "output_type": "execute_result"
    }
   ],
   "source": [
    "arr1 - arr2"
   ]
  },
  {
   "cell_type": "code",
   "execution_count": null,
   "metadata": {
    "colab": {
     "base_uri": "https://localhost:8080/"
    },
    "executionInfo": {
     "elapsed": 15308,
     "status": "ok",
     "timestamp": 1620638570913,
     "user": {
      "displayName": "HJ Kim",
      "photoUrl": "",
      "userId": "16634276932240017990"
     },
     "user_tz": -540
    },
    "id": "OqHA0gvgeIZE",
    "outputId": "e60e6790-ac91-42a2-f23a-b192c16efa8e"
   },
   "outputs": [
    {
     "data": {
      "text/plain": [
       "array([[ 0,  7, 16],\n",
       "       [27, 40, 55]])"
      ]
     },
     "execution_count": 40,
     "metadata": {
      "tags": []
     },
     "output_type": "execute_result"
    }
   ],
   "source": [
    "arr1 * arr2"
   ]
  },
  {
   "cell_type": "code",
   "execution_count": null,
   "metadata": {
    "colab": {
     "base_uri": "https://localhost:8080/"
    },
    "executionInfo": {
     "elapsed": 14933,
     "status": "ok",
     "timestamp": 1620638570913,
     "user": {
      "displayName": "HJ Kim",
      "photoUrl": "",
      "userId": "16634276932240017990"
     },
     "user_tz": -540
    },
    "id": "5-vBwhSWeMLa",
    "outputId": "e3e0b87a-122e-4f38-ecff-42f2b574c7d3"
   },
   "outputs": [
    {
     "data": {
      "text/plain": [
       "array([[0.        , 0.14285714, 0.25      ],\n",
       "       [0.33333333, 0.4       , 0.45454545]])"
      ]
     },
     "execution_count": 41,
     "metadata": {
      "tags": []
     },
     "output_type": "execute_result"
    }
   ],
   "source": [
    "arr1 /arr2"
   ]
  },
  {
   "cell_type": "code",
   "execution_count": null,
   "metadata": {
    "colab": {
     "base_uri": "https://localhost:8080/"
    },
    "executionInfo": {
     "elapsed": 14537,
     "status": "ok",
     "timestamp": 1620638570914,
     "user": {
      "displayName": "HJ Kim",
      "photoUrl": "",
      "userId": "16634276932240017990"
     },
     "user_tz": -540
    },
    "id": "TZQi-IDPeXb0",
    "outputId": "d33bbc67-3da0-4d0b-eb23-a12ba60770eb"
   },
   "outputs": [
    {
     "data": {
      "text/plain": [
       "array([[2, 3, 4],\n",
       "       [5, 6, 7]])"
      ]
     },
     "execution_count": 42,
     "metadata": {
      "tags": []
     },
     "output_type": "execute_result"
    }
   ],
   "source": [
    "arr1 + 2"
   ]
  },
  {
   "cell_type": "code",
   "execution_count": null,
   "metadata": {
    "colab": {
     "base_uri": "https://localhost:8080/"
    },
    "executionInfo": {
     "elapsed": 14102,
     "status": "ok",
     "timestamp": 1620638570915,
     "user": {
      "displayName": "HJ Kim",
      "photoUrl": "",
      "userId": "16634276932240017990"
     },
     "user_tz": -540
    },
    "id": "jAXg2iWjegME",
    "outputId": "f12deede-2beb-4b9b-bd05-c9716a644a80"
   },
   "outputs": [
    {
     "data": {
      "text/plain": [
       "array([[-2, -1,  0],\n",
       "       [ 1,  2,  3]])"
      ]
     },
     "execution_count": 43,
     "metadata": {
      "tags": []
     },
     "output_type": "execute_result"
    }
   ],
   "source": [
    "arr1 - 2"
   ]
  },
  {
   "cell_type": "code",
   "execution_count": null,
   "metadata": {
    "colab": {
     "base_uri": "https://localhost:8080/"
    },
    "executionInfo": {
     "elapsed": 13675,
     "status": "ok",
     "timestamp": 1620638570916,
     "user": {
      "displayName": "HJ Kim",
      "photoUrl": "",
      "userId": "16634276932240017990"
     },
     "user_tz": -540
    },
    "id": "mICDmpC_eidH",
    "outputId": "72a8098b-596e-464f-e9ec-074c5ddd7a42"
   },
   "outputs": [
    {
     "data": {
      "text/plain": [
       "array([[ 0,  2,  4],\n",
       "       [ 6,  8, 10]])"
      ]
     },
     "execution_count": 44,
     "metadata": {
      "tags": []
     },
     "output_type": "execute_result"
    }
   ],
   "source": [
    "arr1 * 2"
   ]
  },
  {
   "cell_type": "code",
   "execution_count": null,
   "metadata": {
    "colab": {
     "base_uri": "https://localhost:8080/"
    },
    "executionInfo": {
     "elapsed": 13311,
     "status": "ok",
     "timestamp": 1620638570917,
     "user": {
      "displayName": "HJ Kim",
      "photoUrl": "",
      "userId": "16634276932240017990"
     },
     "user_tz": -540
    },
    "id": "2s1HnvVYekIU",
    "outputId": "0ab20e17-258c-4b95-b491-568f4ecd8094"
   },
   "outputs": [
    {
     "data": {
      "text/plain": [
       "array([[0. , 0.5, 1. ],\n",
       "       [1.5, 2. , 2.5]])"
      ]
     },
     "execution_count": 45,
     "metadata": {
      "tags": []
     },
     "output_type": "execute_result"
    }
   ],
   "source": [
    "arr1 / 2"
   ]
  },
  {
   "cell_type": "markdown",
   "metadata": {
    "id": "dxIV1GdvfDg1"
   },
   "source": [
    "### 어레이 인덱싱과 슬라이싱  \n",
    "\n",
    "\n",
    "**1차원 어레이**"
   ]
  },
  {
   "cell_type": "code",
   "execution_count": null,
   "metadata": {
    "colab": {
     "base_uri": "https://localhost:8080/"
    },
    "executionInfo": {
     "elapsed": 12521,
     "status": "ok",
     "timestamp": 1620638570918,
     "user": {
      "displayName": "HJ Kim",
      "photoUrl": "",
      "userId": "16634276932240017990"
     },
     "user_tz": -540
    },
    "id": "kkMzIgg3fNpk",
    "outputId": "0c7f8f41-c87d-4a65-fa64-2de3b0e77a23"
   },
   "outputs": [
    {
     "data": {
      "text/plain": [
       "array([0, 1, 2, 3, 4, 5, 6, 7, 8, 9])"
      ]
     },
     "execution_count": 46,
     "metadata": {
      "tags": []
     },
     "output_type": "execute_result"
    }
   ],
   "source": [
    "arr = np.arange(10)\n",
    "arr"
   ]
  },
  {
   "cell_type": "code",
   "execution_count": null,
   "metadata": {
    "colab": {
     "base_uri": "https://localhost:8080/"
    },
    "executionInfo": {
     "elapsed": 12308,
     "status": "ok",
     "timestamp": 1620638570919,
     "user": {
      "displayName": "HJ Kim",
      "photoUrl": "",
      "userId": "16634276932240017990"
     },
     "user_tz": -540
    },
    "id": "8pcf8PtvfQ6J",
    "outputId": "41d6d9d3-7a15-4e8e-fad7-75a5d3e7bfdc"
   },
   "outputs": [
    {
     "data": {
      "text/plain": [
       "7"
      ]
     },
     "execution_count": 47,
     "metadata": {
      "tags": []
     },
     "output_type": "execute_result"
    }
   ],
   "source": [
    "arr[7]"
   ]
  },
  {
   "cell_type": "code",
   "execution_count": null,
   "metadata": {
    "colab": {
     "base_uri": "https://localhost:8080/"
    },
    "executionInfo": {
     "elapsed": 11947,
     "status": "ok",
     "timestamp": 1620638570920,
     "user": {
      "displayName": "HJ Kim",
      "photoUrl": "",
      "userId": "16634276932240017990"
     },
     "user_tz": -540
    },
    "id": "v75wwTsPfTlW",
    "outputId": "d7a68986-fe82-443f-cadc-832e5ad4a159"
   },
   "outputs": [
    {
     "data": {
      "text/plain": [
       "array([1, 2, 3, 4])"
      ]
     },
     "execution_count": 48,
     "metadata": {
      "tags": []
     },
     "output_type": "execute_result"
    }
   ],
   "source": [
    "arr[1 : 5]"
   ]
  },
  {
   "cell_type": "code",
   "execution_count": null,
   "metadata": {
    "colab": {
     "base_uri": "https://localhost:8080/"
    },
    "executionInfo": {
     "elapsed": 11663,
     "status": "ok",
     "timestamp": 1620638570921,
     "user": {
      "displayName": "HJ Kim",
      "photoUrl": "",
      "userId": "16634276932240017990"
     },
     "user_tz": -540
    },
    "id": "bW1oi5s1fYBQ",
    "outputId": "9558da89-20a0-4a26-da58-9e9baaa0044e"
   },
   "outputs": [
    {
     "data": {
      "text/plain": [
       "array([ 0, 10, 10, 10, 10,  5,  6,  7,  8,  9])"
      ]
     },
     "execution_count": 49,
     "metadata": {
      "tags": []
     },
     "output_type": "execute_result"
    }
   ],
   "source": [
    "arr[1 : 5] = 10\n",
    "arr"
   ]
  },
  {
   "cell_type": "code",
   "execution_count": null,
   "metadata": {
    "colab": {
     "base_uri": "https://localhost:8080/"
    },
    "executionInfo": {
     "elapsed": 11336,
     "status": "ok",
     "timestamp": 1620638570922,
     "user": {
      "displayName": "HJ Kim",
      "photoUrl": "",
      "userId": "16634276932240017990"
     },
     "user_tz": -540
    },
    "id": "sb122M6wfgPQ",
    "outputId": "b997cab9-db0b-4058-da5e-2aae09e9a01e"
   },
   "outputs": [
    {
     "name": "stdout",
     "output_type": "stream",
     "text": [
      "arr :  [ 0 10 10 10 10  5  6  7  8  9]\n",
      "arr_copy :  [ 0 30 30 30 30  5  6  7  8  9]\n"
     ]
    }
   ],
   "source": [
    "arr_copy = arr.copy()\n",
    "arr_copy[1 : 5] = 30\n",
    "print('arr : ', arr)\n",
    "print('arr_copy : ', arr_copy)"
   ]
  },
  {
   "cell_type": "markdown",
   "metadata": {
    "id": "0Qi9CcZbf_hc"
   },
   "source": [
    "**2차원 어레이**"
   ]
  },
  {
   "cell_type": "code",
   "execution_count": null,
   "metadata": {
    "colab": {
     "base_uri": "https://localhost:8080/"
    },
    "executionInfo": {
     "elapsed": 10515,
     "status": "ok",
     "timestamp": 1620638570923,
     "user": {
      "displayName": "HJ Kim",
      "photoUrl": "",
      "userId": "16634276932240017990"
     },
     "user_tz": -540
    },
    "id": "JwlD6E-IgF0C",
    "outputId": "c186bb72-6ed0-455a-a9c7-054a3227a8cc"
   },
   "outputs": [
    {
     "data": {
      "text/plain": [
       "array([[ 0,  1,  2,  3,  4],\n",
       "       [ 5,  6,  7,  8,  9],\n",
       "       [10, 11, 12, 13, 14],\n",
       "       [15, 16, 17, 18, 19],\n",
       "       [20, 21, 22, 23, 24]])"
      ]
     },
     "execution_count": 51,
     "metadata": {
      "tags": []
     },
     "output_type": "execute_result"
    }
   ],
   "source": [
    "arr2d = np.arange(25).reshape((5, 5))\n",
    "arr2d"
   ]
  },
  {
   "cell_type": "code",
   "execution_count": null,
   "metadata": {
    "colab": {
     "base_uri": "https://localhost:8080/"
    },
    "executionInfo": {
     "elapsed": 10300,
     "status": "ok",
     "timestamp": 1620638570924,
     "user": {
      "displayName": "HJ Kim",
      "photoUrl": "",
      "userId": "16634276932240017990"
     },
     "user_tz": -540
    },
    "id": "6LbuYxiYgZl_",
    "outputId": "9b44b48f-39be-46d5-cad3-e267e1f0c08c"
   },
   "outputs": [
    {
     "data": {
      "text/plain": [
       "array([5, 6, 7, 8, 9])"
      ]
     },
     "execution_count": 52,
     "metadata": {
      "tags": []
     },
     "output_type": "execute_result"
    }
   ],
   "source": [
    "arr2d[1]"
   ]
  },
  {
   "cell_type": "code",
   "execution_count": null,
   "metadata": {
    "colab": {
     "base_uri": "https://localhost:8080/"
    },
    "executionInfo": {
     "elapsed": 10045,
     "status": "ok",
     "timestamp": 1620638570926,
     "user": {
      "displayName": "HJ Kim",
      "photoUrl": "",
      "userId": "16634276932240017990"
     },
     "user_tz": -540
    },
    "id": "IvvEiASugdn-",
    "outputId": "7fec182f-3da5-4fbb-b2f4-d2a17f36f6a2"
   },
   "outputs": [
    {
     "name": "stdout",
     "output_type": "stream",
     "text": [
      "7\n",
      "7\n"
     ]
    }
   ],
   "source": [
    "print(arr2d[1][2])\n",
    "print(arr2d[1, 2])"
   ]
  },
  {
   "cell_type": "code",
   "execution_count": null,
   "metadata": {
    "colab": {
     "base_uri": "https://localhost:8080/"
    },
    "executionInfo": {
     "elapsed": 9703,
     "status": "ok",
     "timestamp": 1620638570926,
     "user": {
      "displayName": "HJ Kim",
      "photoUrl": "",
      "userId": "16634276932240017990"
     },
     "user_tz": -540
    },
    "id": "suiugHJ-gzIF",
    "outputId": "d3ac9a8d-9e7a-4eb0-d23a-44bc4c47aadb"
   },
   "outputs": [
    {
     "data": {
      "text/plain": [
       "array([[ 5,  6,  7,  8,  9],\n",
       "       [10, 11, 12, 13, 14],\n",
       "       [15, 16, 17, 18, 19]])"
      ]
     },
     "execution_count": 54,
     "metadata": {
      "tags": []
     },
     "output_type": "execute_result"
    }
   ],
   "source": [
    "arr2d[1:4]"
   ]
  },
  {
   "cell_type": "code",
   "execution_count": null,
   "metadata": {
    "colab": {
     "base_uri": "https://localhost:8080/"
    },
    "executionInfo": {
     "elapsed": 9409,
     "status": "ok",
     "timestamp": 1620638570927,
     "user": {
      "displayName": "HJ Kim",
      "photoUrl": "",
      "userId": "16634276932240017990"
     },
     "user_tz": -540
    },
    "id": "GDXBNkZmhB7n",
    "outputId": "b7317843-60c7-4f03-93e3-742e20b87cdc"
   },
   "outputs": [
    {
     "data": {
      "text/plain": [
       "array([[3, 4],\n",
       "       [8, 9]])"
      ]
     },
     "execution_count": 55,
     "metadata": {
      "tags": []
     },
     "output_type": "execute_result"
    }
   ],
   "source": [
    "arr2d[:2, 3:]"
   ]
  },
  {
   "cell_type": "markdown",
   "metadata": {
    "id": "b0cg47xjhZT4"
   },
   "source": [
    "**불리언 인덱싱과 슬라이싱**"
   ]
  },
  {
   "cell_type": "code",
   "execution_count": null,
   "metadata": {
    "colab": {
     "base_uri": "https://localhost:8080/"
    },
    "executionInfo": {
     "elapsed": 8816,
     "status": "ok",
     "timestamp": 1620638570928,
     "user": {
      "displayName": "HJ Kim",
      "photoUrl": "",
      "userId": "16634276932240017990"
     },
     "user_tz": -540
    },
    "id": "Ek1iqkinhYpS",
    "outputId": "369018ac-5ee9-4a22-e9c0-3e47b2df5cf0"
   },
   "outputs": [
    {
     "name": "stdout",
     "output_type": "stream",
     "text": [
      "[0 1 2 3 4 5 6 7 8 9]\n",
      "[ True  True  True  True  True False False False False False]\n",
      "[0 1 2 3 4]\n",
      "[100 100 100 100 100   5   6   7   8   9]\n"
     ]
    }
   ],
   "source": [
    "arr = np.arange(10)\n",
    "print(arr)\n",
    "print(arr < 5)\n",
    "print(arr[arr < 5])\n",
    "arr[arr < 5] = 100\n",
    "print(arr)"
   ]
  },
  {
   "cell_type": "markdown",
   "metadata": {
    "id": "7I-Koa9Mjxb6"
   },
   "source": [
    "여러 개의 불리언 조건을 조합하여 사용할 때는 `and`와 `or` 대신 `&` 와  `|`을 사용해야 한다. "
   ]
  },
  {
   "cell_type": "markdown",
   "metadata": {},
   "source": [
    "```python\n",
    ">>> (arr < 10) and (arr > 6)\n",
    "\n",
    "---------------------------------------------------------------------------\n",
    "ValueError                                Traceback (most recent call last)\n",
    "<ipython-input-57-477c5a4f8d5c> in <module>()\n",
    "----> 1 (arr < 10) and (arr > 6)\n",
    "\n",
    "ValueError: The truth value of an array with more than one element is ambiguous. Use a.any() or a.all()\n",
    "```"
   ]
  },
  {
   "cell_type": "code",
   "execution_count": null,
   "metadata": {
    "colab": {
     "base_uri": "https://localhost:8080/"
    },
    "executionInfo": {
     "elapsed": 867,
     "status": "ok",
     "timestamp": 1620638596151,
     "user": {
      "displayName": "HJ Kim",
      "photoUrl": "",
      "userId": "16634276932240017990"
     },
     "user_tz": -540
    },
    "id": "IvYlqW3KjgH6",
    "outputId": "71a4be05-2ccd-422b-beb5-c7edfab385ee"
   },
   "outputs": [
    {
     "data": {
      "text/plain": [
       "array([False, False, False, False, False, False, False,  True,  True,\n",
       "        True])"
      ]
     },
     "execution_count": 62,
     "metadata": {
      "tags": []
     },
     "output_type": "execute_result"
    }
   ],
   "source": [
    "(arr < 10) & (arr > 6)"
   ]
  },
  {
   "cell_type": "markdown",
   "metadata": {
    "id": "usOgwsEPj8iE"
   },
   "source": [
    "### 전치(transpose)함수  \n",
    "\n",
    "전치함수는 행과 열을 서로 바꾼다."
   ]
  },
  {
   "cell_type": "code",
   "execution_count": null,
   "metadata": {
    "colab": {
     "base_uri": "https://localhost:8080/"
    },
    "executionInfo": {
     "elapsed": 959,
     "status": "ok",
     "timestamp": 1620638597497,
     "user": {
      "displayName": "HJ Kim",
      "photoUrl": "",
      "userId": "16634276932240017990"
     },
     "user_tz": -540
    },
    "id": "1ywbq1RpkAhQ",
    "outputId": "c7434592-1b57-4dda-fa7c-f36b188066c2"
   },
   "outputs": [
    {
     "data": {
      "text/plain": [
       "array([[ 0,  1,  2],\n",
       "       [ 3,  4,  5],\n",
       "       [ 6,  7,  8],\n",
       "       [ 9, 10, 11]])"
      ]
     },
     "execution_count": 63,
     "metadata": {
      "tags": []
     },
     "output_type": "execute_result"
    }
   ],
   "source": [
    "arr = np.arange(12).reshape((4, 3))\n",
    "arr"
   ]
  },
  {
   "cell_type": "code",
   "execution_count": null,
   "metadata": {
    "colab": {
     "base_uri": "https://localhost:8080/"
    },
    "executionInfo": {
     "elapsed": 687,
     "status": "ok",
     "timestamp": 1620638597842,
     "user": {
      "displayName": "HJ Kim",
      "photoUrl": "",
      "userId": "16634276932240017990"
     },
     "user_tz": -540
    },
    "id": "np4_VhzZkH69",
    "outputId": "6246b0bc-9f09-49a3-82cb-40a7941af9d7"
   },
   "outputs": [
    {
     "data": {
      "text/plain": [
       "array([[ 0,  3,  6,  9],\n",
       "       [ 1,  4,  7, 10],\n",
       "       [ 2,  5,  8, 11]])"
      ]
     },
     "execution_count": 64,
     "metadata": {
      "tags": []
     },
     "output_type": "execute_result"
    }
   ],
   "source": [
    "arr.T"
   ]
  },
  {
   "cell_type": "markdown",
   "metadata": {
    "id": "J_7WQsnrBGaz"
   },
   "source": [
    "## 넘파이 활용 : 함수 그래프 그리기  \n",
    "\n",
    "예제) $y = x^2$ 그래프를 그려보자.  \n",
    "\n"
   ]
  },
  {
   "cell_type": "markdown",
   "metadata": {
    "id": "YcHSft2hEag3"
   },
   "source": [
    "그래프를 그리기 위해 `matplotlib.pyplot`이라는 모듈을 이용한다. 이 모듈은 보통 `plt`라고 줄여서 부른다. "
   ]
  },
  {
   "cell_type": "code",
   "execution_count": null,
   "metadata": {
    "colab": {
     "base_uri": "https://localhost:8080/",
     "height": 35
    },
    "executionInfo": {
     "elapsed": 1591,
     "status": "ok",
     "timestamp": 1620638600347,
     "user": {
      "displayName": "HJ Kim",
      "photoUrl": "",
      "userId": "16634276932240017990"
     },
     "user_tz": -540
    },
    "id": "YgyhdhDIETfg",
    "outputId": "476d5b43-fc7e-43da-b5f4-bc7b3fc7a85e"
   },
   "outputs": [
    {
     "data": {
      "text/plain": [
       "<Figure size 432x288 with 0 Axes>"
      ]
     },
     "metadata": {
      "tags": []
     },
     "output_type": "display_data"
    }
   ],
   "source": [
    "import matplotlib.pyplot as plt\n",
    "\n",
    "# 그림을 그리기 위한 도화지 준비\n",
    "fig = plt.figure()"
   ]
  },
  {
   "cell_type": "markdown",
   "metadata": {
    "id": "ZFaHYe0JEWoc"
   },
   "source": [
    "그래프는 x좌표와 y좌표로 이루어진 점들을 연결하여 만들려고 한다. 점을 많이 찍을 수록 보다 정확한 그래프를 그릴 수 있다.     \n",
    "이를 위해 x축의 구간을 정한다. 예를 들어, `[-1, 1]`구간으로 하자. 이제 그 구간을 균등하게 쪼개어 x축 상에 30개의 x좌표를 구해보자. "
   ]
  },
  {
   "cell_type": "code",
   "execution_count": null,
   "metadata": {
    "colab": {
     "base_uri": "https://localhost:8080/"
    },
    "executionInfo": {
     "elapsed": 899,
     "status": "ok",
     "timestamp": 1620638600904,
     "user": {
      "displayName": "HJ Kim",
      "photoUrl": "",
      "userId": "16634276932240017990"
     },
     "user_tz": -540
    },
    "id": "klZ7BCzJDLX_",
    "outputId": "7ebb2282-99f1-4f6f-c9bf-65b483b521a0"
   },
   "outputs": [
    {
     "data": {
      "text/plain": [
       "array([-1.        , -0.93103448, -0.86206897, -0.79310345, -0.72413793,\n",
       "       -0.65517241, -0.5862069 , -0.51724138, -0.44827586, -0.37931034,\n",
       "       -0.31034483, -0.24137931, -0.17241379, -0.10344828, -0.03448276,\n",
       "        0.03448276,  0.10344828,  0.17241379,  0.24137931,  0.31034483,\n",
       "        0.37931034,  0.44827586,  0.51724138,  0.5862069 ,  0.65517241,\n",
       "        0.72413793,  0.79310345,  0.86206897,  0.93103448,  1.        ])"
      ]
     },
     "execution_count": 66,
     "metadata": {
      "tags": []
     },
     "output_type": "execute_result"
    }
   ],
   "source": [
    "xs = np.linspace(-1, 1, 30)\n",
    "xs"
   ]
  },
  {
   "cell_type": "markdown",
   "metadata": {
    "id": "Xjdca4L2DSCV"
   },
   "source": [
    "이제 $y = x^2$ 함수를 정의하자. "
   ]
  },
  {
   "cell_type": "code",
   "execution_count": null,
   "metadata": {
    "id": "C6CwrCRbDRSl"
   },
   "outputs": [],
   "source": [
    "def square(x) :\n",
    "    return x ** 2"
   ]
  },
  {
   "cell_type": "markdown",
   "metadata": {
    "id": "iVYIgrVKDdNy"
   },
   "source": [
    "이제 x 좌표값들에 대응하는 y좌표값들을 구하자. "
   ]
  },
  {
   "cell_type": "code",
   "execution_count": null,
   "metadata": {
    "colab": {
     "base_uri": "https://localhost:8080/"
    },
    "executionInfo": {
     "elapsed": 1559,
     "status": "ok",
     "timestamp": 1620638603808,
     "user": {
      "displayName": "HJ Kim",
      "photoUrl": "",
      "userId": "16634276932240017990"
     },
     "user_tz": -540
    },
    "id": "HZFCQFtqDckh",
    "outputId": "8e569162-2274-49f7-8cda-75bd8a2c61dc"
   },
   "outputs": [
    {
     "data": {
      "text/plain": [
       "array([1.        , 0.86682521, 0.7431629 , 0.62901308, 0.52437574,\n",
       "       0.42925089, 0.34363853, 0.26753864, 0.20095125, 0.14387634,\n",
       "       0.09631391, 0.05826397, 0.02972652, 0.01070155, 0.00118906,\n",
       "       0.00118906, 0.01070155, 0.02972652, 0.05826397, 0.09631391,\n",
       "       0.14387634, 0.20095125, 0.26753864, 0.34363853, 0.42925089,\n",
       "       0.52437574, 0.62901308, 0.7431629 , 0.86682521, 1.        ])"
      ]
     },
     "execution_count": 68,
     "metadata": {
      "tags": []
     },
     "output_type": "execute_result"
    }
   ],
   "source": [
    "ys = square(xs)\n",
    "ys"
   ]
  },
  {
   "cell_type": "markdown",
   "metadata": {
    "id": "f88fyI8bDkeN"
   },
   "source": [
    "주의) `ys`를 아래와 같이 선언할 수도 있다. "
   ]
  },
  {
   "cell_type": "code",
   "execution_count": null,
   "metadata": {
    "colab": {
     "base_uri": "https://localhost:8080/"
    },
    "executionInfo": {
     "elapsed": 1019,
     "status": "ok",
     "timestamp": 1620638604250,
     "user": {
      "displayName": "HJ Kim",
      "photoUrl": "",
      "userId": "16634276932240017990"
     },
     "user_tz": -540
    },
    "id": "_J9hFmjTDnaT",
    "outputId": "5d29d684-01a7-40cd-e86c-3c8834146d27"
   },
   "outputs": [
    {
     "data": {
      "text/plain": [
       "array([1.        , 0.86682521, 0.7431629 , 0.62901308, 0.52437574,\n",
       "       0.42925089, 0.34363853, 0.26753864, 0.20095125, 0.14387634,\n",
       "       0.09631391, 0.05826397, 0.02972652, 0.01070155, 0.00118906,\n",
       "       0.00118906, 0.01070155, 0.02972652, 0.05826397, 0.09631391,\n",
       "       0.14387634, 0.20095125, 0.26753864, 0.34363853, 0.42925089,\n",
       "       0.52437574, 0.62901308, 0.7431629 , 0.86682521, 1.        ])"
      ]
     },
     "execution_count": 69,
     "metadata": {
      "tags": []
     },
     "output_type": "execute_result"
    }
   ],
   "source": [
    "ys = xs ** 2\n",
    "ys"
   ]
  },
  {
   "cell_type": "markdown",
   "metadata": {
    "id": "Ze6DkTLUDvXx"
   },
   "source": [
    "이제 각각 `xs`와 `ys`로 이루어진 x좌표값과 y좌표값들을 이용하여 제곱함수의 그래프를 그려보자. "
   ]
  },
  {
   "cell_type": "code",
   "execution_count": null,
   "metadata": {
    "colab": {
     "base_uri": "https://localhost:8080/",
     "height": 265
    },
    "executionInfo": {
     "elapsed": 1731,
     "status": "ok",
     "timestamp": 1620638606061,
     "user": {
      "displayName": "HJ Kim",
      "photoUrl": "",
      "userId": "16634276932240017990"
     },
     "user_tz": -540
    },
    "id": "eDrAOf6qD8UE",
    "outputId": "016588f6-024a-422b-c5b5-e1c05553adb9"
   },
   "outputs": [
    {
     "data": {
      "image/png": "[encoded data removed]",
      "text/plain": [
       "<Figure size 432x288 with 1 Axes>"
      ]
     },
     "metadata": {
      "needs_background": "light",
      "tags": []
     },
     "output_type": "display_data"
    }
   ],
   "source": [
    "plt.plot(xs, ys)\n",
    "plt.plot(xs, ys, 'o')\n",
    "plt.show()"
   ]
  },
  {
   "cell_type": "markdown",
   "metadata": {
    "id": "wP5B2Ypxkn0w"
   },
   "source": [
    "# 판다스(Pandas)"
   ]
  },
  {
   "cell_type": "markdown",
   "metadata": {
    "id": "B3LP0j_VnHTl"
   },
   "source": [
    "Pandas는 데이터 분석을 위한 라이브러리로, 구조화된 데이터를 빠르고 쉽게 가공할 수 있는 함수들을 제공한다. "
   ]
  },
  {
   "cell_type": "markdown",
   "metadata": {
    "id": "4sKcu7VWk6VK"
   },
   "source": [
    "## pandas 모듈 임포트하기  \n",
    "\n",
    "구글 코랩에는 pandas가 이미 설치되어 있다. 사용하기 위해 판다스 모듈을 임포트하자.  \n",
    " \n",
    " pandas 모듈의 약칭으로 pd를 관례적으로 사용한다.  "
   ]
  },
  {
   "cell_type": "code",
   "execution_count": null,
   "metadata": {
    "id": "LqAe0WMXlJRp"
   },
   "outputs": [],
   "source": [
    "import pandas as pd"
   ]
  },
  {
   "cell_type": "markdown",
   "metadata": {
    "id": "rQNp5KQZk6ZM"
   },
   "source": [
    "## 판다스 시리즈(Series)   \n",
    "\n",
    "Series는 넘파이에서 제공하는 1차원 배열과 비슷하지만, 인덱스(index)라고 하는 배열의 데이터에 연관된 이름을 가지고 있다.  \n",
    "\n"
   ]
  },
  {
   "cell_type": "markdown",
   "metadata": {
    "id": "CIMplGsespWE"
   },
   "source": [
    "### 시리즈 생성하기  \n",
    "\n",
    "예를 들어, 1, 3, 6, 5으로 구성된 시리즈를 생성하고자 하면 `Series()`를 사용하면 된다. "
   ]
  },
  {
   "cell_type": "code",
   "execution_count": null,
   "metadata": {
    "colab": {
     "base_uri": "https://localhost:8080/"
    },
    "executionInfo": {
     "elapsed": 900,
     "status": "ok",
     "timestamp": 1620638608792,
     "user": {
      "displayName": "HJ Kim",
      "photoUrl": "",
      "userId": "16634276932240017990"
     },
     "user_tz": -540
    },
    "id": "y__LNb1cl2yt",
    "outputId": "1ee183c4-eff2-45d9-b33c-362d74a7db7b"
   },
   "outputs": [
    {
     "data": {
      "text/plain": [
       "0    1\n",
       "1    3\n",
       "2    6\n",
       "3    5\n",
       "dtype: int64"
      ]
     },
     "execution_count": 72,
     "metadata": {
      "tags": []
     },
     "output_type": "execute_result"
    }
   ],
   "source": [
    "sr = pd.Series([1, 3, 6, 5]) \n",
    "sr"
   ]
  },
  {
   "cell_type": "code",
   "execution_count": null,
   "metadata": {
    "colab": {
     "base_uri": "https://localhost:8080/"
    },
    "executionInfo": {
     "elapsed": 818,
     "status": "ok",
     "timestamp": 1620638609325,
     "user": {
      "displayName": "HJ Kim",
      "photoUrl": "",
      "userId": "16634276932240017990"
     },
     "user_tz": -540
    },
    "id": "GmUg5MhB0Jjw",
    "outputId": "f2734b28-3fae-4ddf-db2b-1a2005e43387"
   },
   "outputs": [
    {
     "data": {
      "text/plain": [
       "pandas.core.series.Series"
      ]
     },
     "execution_count": 73,
     "metadata": {
      "tags": []
     },
     "output_type": "execute_result"
    }
   ],
   "source": [
    "type(sr)"
   ]
  },
  {
   "cell_type": "markdown",
   "metadata": {
    "id": "33wWCw0Lt5Jb"
   },
   "source": [
    "**values와 index**  \n",
    "\n",
    "시리즈의 배열과 인덱스는 `values`와 `index` 속성을 통해 얻을 수 있다. "
   ]
  },
  {
   "cell_type": "code",
   "execution_count": null,
   "metadata": {
    "colab": {
     "base_uri": "https://localhost:8080/"
    },
    "executionInfo": {
     "elapsed": 959,
     "status": "ok",
     "timestamp": 1620638610600,
     "user": {
      "displayName": "HJ Kim",
      "photoUrl": "",
      "userId": "16634276932240017990"
     },
     "user_tz": -540
    },
    "id": "SsnpQT_FzjPG",
    "outputId": "25d9feb8-b945-4898-a83a-64ce74a071db"
   },
   "outputs": [
    {
     "data": {
      "text/plain": [
       "array([1, 3, 6, 5])"
      ]
     },
     "execution_count": 74,
     "metadata": {
      "tags": []
     },
     "output_type": "execute_result"
    }
   ],
   "source": [
    "sr.values"
   ]
  },
  {
   "cell_type": "code",
   "execution_count": null,
   "metadata": {
    "colab": {
     "base_uri": "https://localhost:8080/"
    },
    "executionInfo": {
     "elapsed": 1926,
     "status": "ok",
     "timestamp": 1620638612176,
     "user": {
      "displayName": "HJ Kim",
      "photoUrl": "",
      "userId": "16634276932240017990"
     },
     "user_tz": -540
    },
    "id": "o1c2Zvi0zlT1",
    "outputId": "9f322ce5-87a2-463a-b068-bdd9a74bdb86"
   },
   "outputs": [
    {
     "data": {
      "text/plain": [
       "RangeIndex(start=0, stop=4, step=1)"
      ]
     },
     "execution_count": 75,
     "metadata": {
      "tags": []
     },
     "output_type": "execute_result"
    }
   ],
   "source": [
    "sr.index"
   ]
  },
  {
   "cell_type": "markdown",
   "metadata": {
    "id": "9Lbu7EbluhUt"
   },
   "source": [
    "**인덱스**  \n",
    "\n",
    "인덱스를 지정하지 않으면, 기본 인덱스는 0에서 n-1 (n은 데이터의 길이)까지의 정수가 된다. 인덱스는 아래와 같이 시리즈를 생성할 때 지정할 수도 있다."
   ]
  },
  {
   "cell_type": "code",
   "execution_count": null,
   "metadata": {
    "colab": {
     "base_uri": "https://localhost:8080/"
    },
    "executionInfo": {
     "elapsed": 1261,
     "status": "ok",
     "timestamp": 1620638612580,
     "user": {
      "displayName": "HJ Kim",
      "photoUrl": "",
      "userId": "16634276932240017990"
     },
     "user_tz": -540
    },
    "id": "Sv1wjXLxzpMC",
    "outputId": "5bf43c25-4018-42c8-f82c-120ba6107367"
   },
   "outputs": [
    {
     "data": {
      "text/plain": [
       "b    1\n",
       "c    3\n",
       "a    6\n",
       "d    5\n",
       "dtype: int64"
      ]
     },
     "execution_count": 76,
     "metadata": {
      "tags": []
     },
     "output_type": "execute_result"
    }
   ],
   "source": [
    "sr1 = pd.Series([1, 3, 6, 5], index = ['b', 'c', 'a', 'd'])\n",
    "sr1"
   ]
  },
  {
   "cell_type": "markdown",
   "metadata": {
    "id": "p1cxTX2KxQf7"
   },
   "source": [
    "인덱스를 이용해서 값에 접근하거나 추가할 수 있다. "
   ]
  },
  {
   "cell_type": "code",
   "execution_count": null,
   "metadata": {
    "colab": {
     "base_uri": "https://localhost:8080/"
    },
    "executionInfo": {
     "elapsed": 760,
     "status": "ok",
     "timestamp": 1620638613196,
     "user": {
      "displayName": "HJ Kim",
      "photoUrl": "",
      "userId": "16634276932240017990"
     },
     "user_tz": -540
    },
    "id": "BSjmBxkBz8cw",
    "outputId": "bcde4c10-078e-4c3c-d827-12b386e849ee"
   },
   "outputs": [
    {
     "data": {
      "text/plain": [
       "6"
      ]
     },
     "execution_count": 77,
     "metadata": {
      "tags": []
     },
     "output_type": "execute_result"
    }
   ],
   "source": [
    "sr1['a']"
   ]
  },
  {
   "cell_type": "code",
   "execution_count": null,
   "metadata": {
    "colab": {
     "base_uri": "https://localhost:8080/"
    },
    "executionInfo": {
     "elapsed": 652,
     "status": "ok",
     "timestamp": 1620638613633,
     "user": {
      "displayName": "HJ Kim",
      "photoUrl": "",
      "userId": "16634276932240017990"
     },
     "user_tz": -540
    },
    "id": "ZqJXiUoZ4Whb",
    "outputId": "ee1b7ea1-3a05-403e-96ce-1201ded7b664"
   },
   "outputs": [
    {
     "data": {
      "text/plain": [
       "b     1\n",
       "c     3\n",
       "a     6\n",
       "d     5\n",
       "k    10\n",
       "dtype: int64"
      ]
     },
     "execution_count": 78,
     "metadata": {
      "tags": []
     },
     "output_type": "execute_result"
    }
   ],
   "source": [
    "sr1['k'] = 10\n",
    "sr1"
   ]
  },
  {
   "cell_type": "code",
   "execution_count": null,
   "metadata": {
    "colab": {
     "base_uri": "https://localhost:8080/"
    },
    "executionInfo": {
     "elapsed": 1483,
     "status": "ok",
     "timestamp": 1620638615048,
     "user": {
      "displayName": "HJ Kim",
      "photoUrl": "",
      "userId": "16634276932240017990"
     },
     "user_tz": -540
    },
    "id": "WnxH4BUC4y1c",
    "outputId": "2bc1fc0a-6b9f-4113-ed58-52f5d0d2cc99"
   },
   "outputs": [
    {
     "data": {
      "text/plain": [
       "c    3\n",
       "a    6\n",
       "d    5\n",
       "dtype: int64"
      ]
     },
     "execution_count": 79,
     "metadata": {
      "tags": []
     },
     "output_type": "execute_result"
    }
   ],
   "source": [
    "sr1['c':'d'] #주의) 끝 값을 포함!"
   ]
  },
  {
   "cell_type": "code",
   "execution_count": null,
   "metadata": {
    "colab": {
     "base_uri": "https://localhost:8080/"
    },
    "executionInfo": {
     "elapsed": 970,
     "status": "ok",
     "timestamp": 1620638615049,
     "user": {
      "displayName": "HJ Kim",
      "photoUrl": "",
      "userId": "16634276932240017990"
     },
     "user_tz": -540
    },
    "id": "sJ-dPfxx0EbB",
    "outputId": "76fab16f-e4a5-461a-d5fd-11fb483b83bf"
   },
   "outputs": [
    {
     "data": {
      "text/plain": [
       "c    3\n",
       "b    1\n",
       "dtype: int64"
      ]
     },
     "execution_count": 80,
     "metadata": {
      "tags": []
     },
     "output_type": "execute_result"
    }
   ],
   "source": [
    "sr1[['c', 'b']]"
   ]
  },
  {
   "cell_type": "markdown",
   "metadata": {
    "id": "VyG_0uMZ5-F9"
   },
   "source": [
    "**불리언 인덱싱**  \n",
    "\n",
    "불리언으로 값을 선택할 수도 있다. "
   ]
  },
  {
   "cell_type": "code",
   "execution_count": null,
   "metadata": {
    "colab": {
     "base_uri": "https://localhost:8080/"
    },
    "executionInfo": {
     "elapsed": 1367,
     "status": "ok",
     "timestamp": 1620638616583,
     "user": {
      "displayName": "HJ Kim",
      "photoUrl": "",
      "userId": "16634276932240017990"
     },
     "user_tz": -540
    },
    "id": "LdyG4a6J3Vsv",
    "outputId": "86c94d4e-9ec5-48a1-c57c-7fb45a5dfe97"
   },
   "outputs": [
    {
     "data": {
      "text/plain": [
       "b    False\n",
       "c    False\n",
       "a     True\n",
       "d     True\n",
       "k     True\n",
       "dtype: bool"
      ]
     },
     "execution_count": 81,
     "metadata": {
      "tags": []
     },
     "output_type": "execute_result"
    }
   ],
   "source": [
    "sr1 > 3"
   ]
  },
  {
   "cell_type": "code",
   "execution_count": null,
   "metadata": {
    "colab": {
     "base_uri": "https://localhost:8080/"
    },
    "executionInfo": {
     "elapsed": 1240,
     "status": "ok",
     "timestamp": 1620638616962,
     "user": {
      "displayName": "HJ Kim",
      "photoUrl": "",
      "userId": "16634276932240017990"
     },
     "user_tz": -540
    },
    "id": "hoH2Mw4i3pU3",
    "outputId": "bdf12a0f-3464-45f0-d8bd-154dc8366125"
   },
   "outputs": [
    {
     "data": {
      "text/plain": [
       "a     6\n",
       "d     5\n",
       "k    10\n",
       "dtype: int64"
      ]
     },
     "execution_count": 82,
     "metadata": {
      "tags": []
     },
     "output_type": "execute_result"
    }
   ],
   "source": [
    "sr1[sr1 > 3]"
   ]
  },
  {
   "cell_type": "markdown",
   "metadata": {
    "id": "KSB67DwfBE-z"
   },
   "source": [
    "Series를 생성하는 방법을 계속 살펴보자. \n",
    "\n"
   ]
  },
  {
   "cell_type": "code",
   "execution_count": null,
   "metadata": {
    "colab": {
     "base_uri": "https://localhost:8080/"
    },
    "executionInfo": {
     "elapsed": 908,
     "status": "ok",
     "timestamp": 1620638617659,
     "user": {
      "displayName": "HJ Kim",
      "photoUrl": "",
      "userId": "16634276932240017990"
     },
     "user_tz": -540
    },
    "id": "Zdknu0xs07sz",
    "outputId": "d5699cdc-fbe9-44d7-8bac-4cf44502468f"
   },
   "outputs": [
    {
     "data": {
      "text/plain": [
       "0    1\n",
       "1    3\n",
       "2    6\n",
       "3    5\n",
       "dtype: int64"
      ]
     },
     "execution_count": 83,
     "metadata": {
      "tags": []
     },
     "output_type": "execute_result"
    }
   ],
   "source": [
    "#튜플로도 Series 생성 가능\n",
    "sr2 = pd.Series((1, 3, 6, 5))\n",
    "sr2"
   ]
  },
  {
   "cell_type": "code",
   "execution_count": null,
   "metadata": {
    "colab": {
     "base_uri": "https://localhost:8080/"
    },
    "executionInfo": {
     "elapsed": 980,
     "status": "ok",
     "timestamp": 1620638618223,
     "user": {
      "displayName": "HJ Kim",
      "photoUrl": "",
      "userId": "16634276932240017990"
     },
     "user_tz": -540
    },
    "id": "r8Y3SgQt1BcF",
    "outputId": "3d430a32-ff92-48ad-cbcf-dce5e873af49"
   },
   "outputs": [
    {
     "data": {
      "text/plain": [
       "0    1\n",
       "1    3\n",
       "2    6\n",
       "3    5\n",
       "dtype: int64"
      ]
     },
     "execution_count": 84,
     "metadata": {
      "tags": []
     },
     "output_type": "execute_result"
    }
   ],
   "source": [
    "#넘파이 어레이로도 Series 생성 가능\n",
    "sr3 = pd.Series(np.array([1, 3, 6, 5]))\n",
    "sr3"
   ]
  },
  {
   "cell_type": "code",
   "execution_count": null,
   "metadata": {
    "colab": {
     "base_uri": "https://localhost:8080/"
    },
    "executionInfo": {
     "elapsed": 847,
     "status": "ok",
     "timestamp": 1620638618661,
     "user": {
      "displayName": "HJ Kim",
      "photoUrl": "",
      "userId": "16634276932240017990"
     },
     "user_tz": -540
    },
    "id": "-QsIenRv1Jko",
    "outputId": "90ce9ab2-3267-487f-b19e-7930d7d94e20"
   },
   "outputs": [
    {
     "data": {
      "text/plain": [
       "b    1\n",
       "c    3\n",
       "a    6\n",
       "d    5\n",
       "dtype: int64"
      ]
     },
     "execution_count": 85,
     "metadata": {
      "tags": []
     },
     "output_type": "execute_result"
    }
   ],
   "source": [
    "# 딕셔너리로도 Series 생성 가능\n",
    "# key는 인덱스, value는 값 \n",
    "sdata = {'b' : 1, 'c' : 3, 'a' : 6, 'd' : 5}\n",
    "sr4 = pd.Series(sdata)\n",
    "sr4"
   ]
  },
  {
   "cell_type": "code",
   "execution_count": null,
   "metadata": {
    "colab": {
     "base_uri": "https://localhost:8080/"
    },
    "executionInfo": {
     "elapsed": 979,
     "status": "ok",
     "timestamp": 1620638619349,
     "user": {
      "displayName": "HJ Kim",
      "photoUrl": "",
      "userId": "16634276932240017990"
     },
     "user_tz": -540
    },
    "id": "Sw9V_Diw1snx",
    "outputId": "41b1dfe6-a9f4-4dbb-8909-c8bc478aa08a"
   },
   "outputs": [
    {
     "data": {
      "text/plain": [
       "a    6.0\n",
       "b    1.0\n",
       "c    3.0\n",
       "d    5.0\n",
       "e    NaN\n",
       "dtype: float64"
      ]
     },
     "execution_count": 86,
     "metadata": {
      "tags": []
     },
     "output_type": "execute_result"
    }
   ],
   "source": [
    "# 딕셔너리로 Series를 생성할 때 \n",
    "# 인덱스를 지정하면, 원하는 데이터를 추출할 수 있다. \n",
    "# \n",
    "# 예제에서는 sdata에 e는 key가 아니므로 NaN으로 표시된다.\n",
    "my_index = ['a', 'b', 'c', 'd', 'e']\n",
    "sr5 = pd.Series(sdata, index = my_index)\n",
    "sr5"
   ]
  },
  {
   "cell_type": "markdown",
   "metadata": {
    "id": "sqNdyWzqk6gK"
   },
   "source": [
    "참고) `NaN`은 not a number로, pandas에서는 누락된 값(결측치)을 의미한다. \n"
   ]
  },
  {
   "cell_type": "markdown",
   "metadata": {
    "id": "akbBmTvIMq9m"
   },
   "source": [
    "**isnull과 notnull**  \n",
    "\n",
    "`isnull`과 `notnull`은 누락된 데이터를 찾을 때 사용한다. \n",
    "* `isnull()` : 누락된 데이터는 `True`, 아니면 `False`를 반환\n",
    "* `notnull()` : 누락된 데이터는 `False`, 아니면 `True`를 반환"
   ]
  },
  {
   "cell_type": "code",
   "execution_count": null,
   "metadata": {
    "colab": {
     "base_uri": "https://localhost:8080/"
    },
    "executionInfo": {
     "elapsed": 1098,
     "status": "ok",
     "timestamp": 1620638621083,
     "user": {
      "displayName": "HJ Kim",
      "photoUrl": "",
      "userId": "16634276932240017990"
     },
     "user_tz": -540
    },
    "id": "WEtaJn2A321h",
    "outputId": "888e15e2-9882-4579-d557-85b988f8a21b"
   },
   "outputs": [
    {
     "data": {
      "text/plain": [
       "a    False\n",
       "b    False\n",
       "c    False\n",
       "d    False\n",
       "e     True\n",
       "dtype: bool"
      ]
     },
     "execution_count": 87,
     "metadata": {
      "tags": []
     },
     "output_type": "execute_result"
    }
   ],
   "source": [
    "pd.isnull(sr5)"
   ]
  },
  {
   "cell_type": "code",
   "execution_count": null,
   "metadata": {
    "colab": {
     "base_uri": "https://localhost:8080/"
    },
    "executionInfo": {
     "elapsed": 883,
     "status": "ok",
     "timestamp": 1620638621582,
     "user": {
      "displayName": "HJ Kim",
      "photoUrl": "",
      "userId": "16634276932240017990"
     },
     "user_tz": -540
    },
    "id": "ux1CaD7x36XP",
    "outputId": "fd8c5010-a4d3-46b7-c601-cbdf792a2838"
   },
   "outputs": [
    {
     "data": {
      "text/plain": [
       "a     True\n",
       "b     True\n",
       "c     True\n",
       "d     True\n",
       "e    False\n",
       "dtype: bool"
      ]
     },
     "execution_count": 88,
     "metadata": {
      "tags": []
     },
     "output_type": "execute_result"
    }
   ],
   "source": [
    "pd.notnull(sr5)"
   ]
  },
  {
   "cell_type": "markdown",
   "metadata": {
    "id": "fT01PskjlD0n"
   },
   "source": [
    "`isnull()`과 `notnull()` 메소드를 사용해도 같은 결과가 나온다. "
   ]
  },
  {
   "cell_type": "code",
   "execution_count": null,
   "metadata": {
    "colab": {
     "base_uri": "https://localhost:8080/"
    },
    "executionInfo": {
     "elapsed": 857,
     "status": "ok",
     "timestamp": 1620638622738,
     "user": {
      "displayName": "HJ Kim",
      "photoUrl": "",
      "userId": "16634276932240017990"
     },
     "user_tz": -540
    },
    "id": "8iQIwR8Ck-BF",
    "outputId": "1d8045f2-6622-4378-f2b2-faaac89d8874"
   },
   "outputs": [
    {
     "data": {
      "text/plain": [
       "a    False\n",
       "b    False\n",
       "c    False\n",
       "d    False\n",
       "e     True\n",
       "dtype: bool"
      ]
     },
     "execution_count": 89,
     "metadata": {
      "tags": []
     },
     "output_type": "execute_result"
    }
   ],
   "source": [
    "sr5.isnull()"
   ]
  },
  {
   "cell_type": "code",
   "execution_count": null,
   "metadata": {
    "colab": {
     "base_uri": "https://localhost:8080/"
    },
    "executionInfo": {
     "elapsed": 1066,
     "status": "ok",
     "timestamp": 1620638623496,
     "user": {
      "displayName": "HJ Kim",
      "photoUrl": "",
      "userId": "16634276932240017990"
     },
     "user_tz": -540
    },
    "id": "-oYkhZanlAss",
    "outputId": "5b7c3e3c-13b4-4079-e7c6-eb8a525d6b80"
   },
   "outputs": [
    {
     "data": {
      "text/plain": [
       "a     True\n",
       "b     True\n",
       "c     True\n",
       "d     True\n",
       "e    False\n",
       "dtype: bool"
      ]
     },
     "execution_count": 90,
     "metadata": {
      "tags": []
     },
     "output_type": "execute_result"
    }
   ],
   "source": [
    "sr5.notnull()"
   ]
  },
  {
   "cell_type": "markdown",
   "metadata": {
    "id": "gbpLfnlSk6p8"
   },
   "source": [
    "## 판다스 데이터프레임(DataFrame)"
   ]
  },
  {
   "cell_type": "markdown",
   "metadata": {
    "id": "hs2lriJZPR1Z"
   },
   "source": [
    "DataFrame은 스프레드 시트처럼 2차원 데이터 구조로 여러 개의 열(column)을 가지고 있는데, 각 열은 숫자, 문자열, 불리언 등을 담을 수 있다. "
   ]
  },
  {
   "cell_type": "markdown",
   "metadata": {
    "id": "HwzYWZVAUJ3U"
   },
   "source": [
    "### 데이터프레임 생성하기  \n",
    "\n",
    "데이터프레임을 생성하고 싶다면, `DataFrame()`을 사용하면 된다.  \n",
    "아래는 딕셔너리를 이용하여 데이터프레임을 생성하는 예시이다. \n"
   ]
  },
  {
   "cell_type": "code",
   "execution_count": null,
   "metadata": {
    "colab": {
     "base_uri": "https://localhost:8080/",
     "height": 173
    },
    "executionInfo": {
     "elapsed": 737,
     "status": "ok",
     "timestamp": 1620540256761,
     "user": {
      "displayName": "HJ Kim",
      "photoUrl": "",
      "userId": "16634276932240017990"
     },
     "user_tz": -540
    },
    "id": "PrjuOWj94mt1",
    "outputId": "12733d05-b5b5-4afa-ca97-0d0311a9dea1"
   },
   "outputs": [
    {
     "data": {
      "text/html": [
       "<div>\n",
       "<style scoped>\n",
       "    .dataframe tbody tr th:only-of-type {\n",
       "        vertical-align: middle;\n",
       "    }\n",
       "\n",
       "    .dataframe tbody tr th {\n",
       "        vertical-align: top;\n",
       "    }\n",
       "\n",
       "    .dataframe thead th {\n",
       "        text-align: right;\n",
       "    }\n",
       "</style>\n",
       "<table border=\"1\" class=\"dataframe\">\n",
       "  <thead>\n",
       "    <tr style=\"text-align: right;\">\n",
       "      <th></th>\n",
       "      <th>col1</th>\n",
       "      <th>col2</th>\n",
       "      <th>col3</th>\n",
       "    </tr>\n",
       "  </thead>\n",
       "  <tbody>\n",
       "    <tr>\n",
       "      <th>0</th>\n",
       "      <td>1</td>\n",
       "      <td>5</td>\n",
       "      <td>9</td>\n",
       "    </tr>\n",
       "    <tr>\n",
       "      <th>1</th>\n",
       "      <td>2</td>\n",
       "      <td>6</td>\n",
       "      <td>10</td>\n",
       "    </tr>\n",
       "    <tr>\n",
       "      <th>2</th>\n",
       "      <td>3</td>\n",
       "      <td>7</td>\n",
       "      <td>11</td>\n",
       "    </tr>\n",
       "    <tr>\n",
       "      <th>3</th>\n",
       "      <td>4</td>\n",
       "      <td>8</td>\n",
       "      <td>12</td>\n",
       "    </tr>\n",
       "  </tbody>\n",
       "</table>\n",
       "</div>"
      ],
      "text/plain": [
       "   col1  col2  col3\n",
       "0     1     5     9\n",
       "1     2     6    10\n",
       "2     3     7    11\n",
       "3     4     8    12"
      ]
     },
     "execution_count": 211,
     "metadata": {
      "tags": []
     },
     "output_type": "execute_result"
    }
   ],
   "source": [
    "data = {'col1' : [1, 2, 3, 4], 'col2' : [5, 6, 7, 8], 'col3' : [9, 10, 11, 12]}\n",
    "df = pd.DataFrame(data)\n",
    "df"
   ]
  },
  {
   "cell_type": "markdown",
   "metadata": {
    "id": "y5qr_G_D4MXK"
   },
   "source": [
    "**dtypes**  \n",
    "각 열의 자료형은 `dtypes` 속성을 이용하여 확인할 수 있다."
   ]
  },
  {
   "cell_type": "code",
   "execution_count": null,
   "metadata": {
    "colab": {
     "base_uri": "https://localhost:8080/"
    },
    "executionInfo": {
     "elapsed": 779,
     "status": "ok",
     "timestamp": 1620540258624,
     "user": {
      "displayName": "HJ Kim",
      "photoUrl": "",
      "userId": "16634276932240017990"
     },
     "user_tz": -540
    },
    "id": "H_pzjdfxSH97",
    "outputId": "fe79bd10-0bf0-4dc9-9f27-674f0c76c38a"
   },
   "outputs": [
    {
     "data": {
      "text/plain": [
       "col1    int64\n",
       "col2    int64\n",
       "col3    int64\n",
       "dtype: object"
      ]
     },
     "execution_count": 212,
     "metadata": {
      "tags": []
     },
     "output_type": "execute_result"
    }
   ],
   "source": [
    "df.dtypes"
   ]
  },
  {
   "cell_type": "markdown",
   "metadata": {
    "id": "FMZI8Och40hG"
   },
   "source": [
    "**columns**  \n",
    "원하는 순서로 `columns`를 지정하면 원하는 순서를 가진 데이터프레임이 만들어진다. "
   ]
  },
  {
   "cell_type": "code",
   "execution_count": null,
   "metadata": {
    "colab": {
     "base_uri": "https://localhost:8080/",
     "height": 173
    },
    "executionInfo": {
     "elapsed": 1088,
     "status": "ok",
     "timestamp": 1620540259823,
     "user": {
      "displayName": "HJ Kim",
      "photoUrl": "",
      "userId": "16634276932240017990"
     },
     "user_tz": -540
    },
    "id": "Wc-0OZqUSu5H",
    "outputId": "0d4721b2-8806-48cb-846e-d90d9641e97c"
   },
   "outputs": [
    {
     "data": {
      "text/html": [
       "<div>\n",
       "<style scoped>\n",
       "    .dataframe tbody tr th:only-of-type {\n",
       "        vertical-align: middle;\n",
       "    }\n",
       "\n",
       "    .dataframe tbody tr th {\n",
       "        vertical-align: top;\n",
       "    }\n",
       "\n",
       "    .dataframe thead th {\n",
       "        text-align: right;\n",
       "    }\n",
       "</style>\n",
       "<table border=\"1\" class=\"dataframe\">\n",
       "  <thead>\n",
       "    <tr style=\"text-align: right;\">\n",
       "      <th></th>\n",
       "      <th>col1</th>\n",
       "      <th>col2</th>\n",
       "    </tr>\n",
       "  </thead>\n",
       "  <tbody>\n",
       "    <tr>\n",
       "      <th>0</th>\n",
       "      <td>1</td>\n",
       "      <td>5</td>\n",
       "    </tr>\n",
       "    <tr>\n",
       "      <th>1</th>\n",
       "      <td>2</td>\n",
       "      <td>6</td>\n",
       "    </tr>\n",
       "    <tr>\n",
       "      <th>2</th>\n",
       "      <td>3</td>\n",
       "      <td>7</td>\n",
       "    </tr>\n",
       "    <tr>\n",
       "      <th>3</th>\n",
       "      <td>4</td>\n",
       "      <td>8</td>\n",
       "    </tr>\n",
       "  </tbody>\n",
       "</table>\n",
       "</div>"
      ],
      "text/plain": [
       "   col1  col2\n",
       "0     1     5\n",
       "1     2     6\n",
       "2     3     7\n",
       "3     4     8"
      ]
     },
     "execution_count": 213,
     "metadata": {
      "tags": []
     },
     "output_type": "execute_result"
    }
   ],
   "source": [
    "df1 = pd.DataFrame(data, columns = ['col1', 'col2'])\n",
    "df1"
   ]
  },
  {
   "cell_type": "markdown",
   "metadata": {
    "id": "vi4UHZev5IKn"
   },
   "source": [
    "이때 `columns`에 `data`의 key가 아닌 값을 넣으면 `NaN`이 저장된다."
   ]
  },
  {
   "cell_type": "code",
   "execution_count": null,
   "metadata": {
    "colab": {
     "base_uri": "https://localhost:8080/",
     "height": 173
    },
    "executionInfo": {
     "elapsed": 757,
     "status": "ok",
     "timestamp": 1620540260452,
     "user": {
      "displayName": "HJ Kim",
      "photoUrl": "",
      "userId": "16634276932240017990"
     },
     "user_tz": -540
    },
    "id": "LuPzRJueTdzg",
    "outputId": "bcaac1ab-5f76-471a-963e-891bd4e792c3"
   },
   "outputs": [
    {
     "data": {
      "text/html": [
       "<div>\n",
       "<style scoped>\n",
       "    .dataframe tbody tr th:only-of-type {\n",
       "        vertical-align: middle;\n",
       "    }\n",
       "\n",
       "    .dataframe tbody tr th {\n",
       "        vertical-align: top;\n",
       "    }\n",
       "\n",
       "    .dataframe thead th {\n",
       "        text-align: right;\n",
       "    }\n",
       "</style>\n",
       "<table border=\"1\" class=\"dataframe\">\n",
       "  <thead>\n",
       "    <tr style=\"text-align: right;\">\n",
       "      <th></th>\n",
       "      <th>col1</th>\n",
       "      <th>col2</th>\n",
       "      <th>col4</th>\n",
       "    </tr>\n",
       "  </thead>\n",
       "  <tbody>\n",
       "    <tr>\n",
       "      <th>0</th>\n",
       "      <td>1</td>\n",
       "      <td>5</td>\n",
       "      <td>NaN</td>\n",
       "    </tr>\n",
       "    <tr>\n",
       "      <th>1</th>\n",
       "      <td>2</td>\n",
       "      <td>6</td>\n",
       "      <td>NaN</td>\n",
       "    </tr>\n",
       "    <tr>\n",
       "      <th>2</th>\n",
       "      <td>3</td>\n",
       "      <td>7</td>\n",
       "      <td>NaN</td>\n",
       "    </tr>\n",
       "    <tr>\n",
       "      <th>3</th>\n",
       "      <td>4</td>\n",
       "      <td>8</td>\n",
       "      <td>NaN</td>\n",
       "    </tr>\n",
       "  </tbody>\n",
       "</table>\n",
       "</div>"
      ],
      "text/plain": [
       "   col1  col2 col4\n",
       "0     1     5  NaN\n",
       "1     2     6  NaN\n",
       "2     3     7  NaN\n",
       "3     4     8  NaN"
      ]
     },
     "execution_count": 214,
     "metadata": {
      "tags": []
     },
     "output_type": "execute_result"
    }
   ],
   "source": [
    "df2 = pd.DataFrame(data, columns = ['col1', 'col2', 'col4'])\n",
    "df2"
   ]
  },
  {
   "cell_type": "markdown",
   "metadata": {
    "id": "BQkG9KKY6Dk_"
   },
   "source": [
    "데이터프레임의 칼럼들은 `columns` 속성을 이용하여 얻을 수 있다. "
   ]
  },
  {
   "cell_type": "code",
   "execution_count": null,
   "metadata": {
    "colab": {
     "base_uri": "https://localhost:8080/"
    },
    "executionInfo": {
     "elapsed": 1234,
     "status": "ok",
     "timestamp": 1620540261911,
     "user": {
      "displayName": "HJ Kim",
      "photoUrl": "",
      "userId": "16634276932240017990"
     },
     "user_tz": -540
    },
    "id": "ZESAo_16VI21",
    "outputId": "9e678846-6d1f-4a10-e012-a338d6f2e9b9"
   },
   "outputs": [
    {
     "data": {
      "text/plain": [
       "Index(['col1', 'col2', 'col4'], dtype='object')"
      ]
     },
     "execution_count": 215,
     "metadata": {
      "tags": []
     },
     "output_type": "execute_result"
    }
   ],
   "source": [
    "df2.columns"
   ]
  },
  {
   "cell_type": "markdown",
   "metadata": {
    "id": "hwO2GgaW6S_M"
   },
   "source": [
    "중첩된 딕셔너리를 이용하여 데이터프레임을 생성할 수도 있는데,   \n",
    "이때는 바깥에 있는 딕셔너리의 key가 열(column)이 되고, 안에 있는 딕셔너리의 키는 행(row)이 된다. "
   ]
  },
  {
   "cell_type": "code",
   "execution_count": null,
   "metadata": {
    "colab": {
     "base_uri": "https://localhost:8080/",
     "height": 142
    },
    "executionInfo": {
     "elapsed": 1390,
     "status": "ok",
     "timestamp": 1620540262938,
     "user": {
      "displayName": "HJ Kim",
      "photoUrl": "",
      "userId": "16634276932240017990"
     },
     "user_tz": -540
    },
    "id": "fMer3LGMYQTq",
    "outputId": "2d4ccc49-fc0b-4f9a-c010-5b3c2604bc2c"
   },
   "outputs": [
    {
     "data": {
      "text/html": [
       "<div>\n",
       "<style scoped>\n",
       "    .dataframe tbody tr th:only-of-type {\n",
       "        vertical-align: middle;\n",
       "    }\n",
       "\n",
       "    .dataframe tbody tr th {\n",
       "        vertical-align: top;\n",
       "    }\n",
       "\n",
       "    .dataframe thead th {\n",
       "        text-align: right;\n",
       "    }\n",
       "</style>\n",
       "<table border=\"1\" class=\"dataframe\">\n",
       "  <thead>\n",
       "    <tr style=\"text-align: right;\">\n",
       "      <th></th>\n",
       "      <th>one</th>\n",
       "      <th>two</th>\n",
       "    </tr>\n",
       "  </thead>\n",
       "  <tbody>\n",
       "    <tr>\n",
       "      <th>2019</th>\n",
       "      <td>1</td>\n",
       "      <td>NaN</td>\n",
       "    </tr>\n",
       "    <tr>\n",
       "      <th>2020</th>\n",
       "      <td>11</td>\n",
       "      <td>22.0</td>\n",
       "    </tr>\n",
       "    <tr>\n",
       "      <th>2021</th>\n",
       "      <td>111</td>\n",
       "      <td>222.0</td>\n",
       "    </tr>\n",
       "  </tbody>\n",
       "</table>\n",
       "</div>"
      ],
      "text/plain": [
       "      one    two\n",
       "2019    1    NaN\n",
       "2020   11   22.0\n",
       "2021  111  222.0"
      ]
     },
     "execution_count": 216,
     "metadata": {
      "tags": []
     },
     "output_type": "execute_result"
    }
   ],
   "source": [
    "data1 = {'one' : {2019:1, 2020:11, 2021:111}, 'two' : {2020:22, 2021:222}}\n",
    "df3 = pd.DataFrame(data1)\n",
    "df3"
   ]
  },
  {
   "cell_type": "markdown",
   "metadata": {
    "id": "qodnxZv4642Y"
   },
   "source": [
    "넘파이 어레이를 사용해서 아래와 같이 데이터프레임을 생성할 수도 있다.  \n",
    "`columns`를 지정하지 않으면, 열의 이름은 0에서 n-1 (n은 열의 길이)까지의 정수가 된다"
   ]
  },
  {
   "cell_type": "code",
   "execution_count": null,
   "metadata": {
    "colab": {
     "base_uri": "https://localhost:8080/",
     "height": 142
    },
    "executionInfo": {
     "elapsed": 922,
     "status": "ok",
     "timestamp": 1620540263442,
     "user": {
      "displayName": "HJ Kim",
      "photoUrl": "",
      "userId": "16634276932240017990"
     },
     "user_tz": -540
    },
    "id": "MTFb0hM77LAL",
    "outputId": "e13ae241-8eda-488b-e87f-20a8c8e49499"
   },
   "outputs": [
    {
     "data": {
      "text/html": [
       "<div>\n",
       "<style scoped>\n",
       "    .dataframe tbody tr th:only-of-type {\n",
       "        vertical-align: middle;\n",
       "    }\n",
       "\n",
       "    .dataframe tbody tr th {\n",
       "        vertical-align: top;\n",
       "    }\n",
       "\n",
       "    .dataframe thead th {\n",
       "        text-align: right;\n",
       "    }\n",
       "</style>\n",
       "<table border=\"1\" class=\"dataframe\">\n",
       "  <thead>\n",
       "    <tr style=\"text-align: right;\">\n",
       "      <th></th>\n",
       "      <th>0</th>\n",
       "      <th>1</th>\n",
       "      <th>2</th>\n",
       "    </tr>\n",
       "  </thead>\n",
       "  <tbody>\n",
       "    <tr>\n",
       "      <th>0</th>\n",
       "      <td>1</td>\n",
       "      <td>2</td>\n",
       "      <td>3</td>\n",
       "    </tr>\n",
       "    <tr>\n",
       "      <th>1</th>\n",
       "      <td>4</td>\n",
       "      <td>5</td>\n",
       "      <td>6</td>\n",
       "    </tr>\n",
       "    <tr>\n",
       "      <th>2</th>\n",
       "      <td>7</td>\n",
       "      <td>8</td>\n",
       "      <td>9</td>\n",
       "    </tr>\n",
       "  </tbody>\n",
       "</table>\n",
       "</div>"
      ],
      "text/plain": [
       "   0  1  2\n",
       "0  1  2  3\n",
       "1  4  5  6\n",
       "2  7  8  9"
      ]
     },
     "execution_count": 217,
     "metadata": {
      "tags": []
     },
     "output_type": "execute_result"
    }
   ],
   "source": [
    "df4 = pd.DataFrame(np.array([[1, 2, 3], [4, 5, 6], [7, 8, 9]]))\n",
    "df4"
   ]
  },
  {
   "cell_type": "code",
   "execution_count": null,
   "metadata": {
    "colab": {
     "base_uri": "https://localhost:8080/",
     "height": 142
    },
    "executionInfo": {
     "elapsed": 1538,
     "status": "ok",
     "timestamp": 1620540264628,
     "user": {
      "displayName": "HJ Kim",
      "photoUrl": "",
      "userId": "16634276932240017990"
     },
     "user_tz": -540
    },
    "id": "KIty3zv8SPNu",
    "outputId": "e43ec96f-6545-47a7-80c3-59d8596a0dcf"
   },
   "outputs": [
    {
     "data": {
      "text/html": [
       "<div>\n",
       "<style scoped>\n",
       "    .dataframe tbody tr th:only-of-type {\n",
       "        vertical-align: middle;\n",
       "    }\n",
       "\n",
       "    .dataframe tbody tr th {\n",
       "        vertical-align: top;\n",
       "    }\n",
       "\n",
       "    .dataframe thead th {\n",
       "        text-align: right;\n",
       "    }\n",
       "</style>\n",
       "<table border=\"1\" class=\"dataframe\">\n",
       "  <thead>\n",
       "    <tr style=\"text-align: right;\">\n",
       "      <th></th>\n",
       "      <th>a</th>\n",
       "      <th>b</th>\n",
       "      <th>c</th>\n",
       "    </tr>\n",
       "  </thead>\n",
       "  <tbody>\n",
       "    <tr>\n",
       "      <th>0</th>\n",
       "      <td>1</td>\n",
       "      <td>2</td>\n",
       "      <td>3</td>\n",
       "    </tr>\n",
       "    <tr>\n",
       "      <th>1</th>\n",
       "      <td>4</td>\n",
       "      <td>5</td>\n",
       "      <td>6</td>\n",
       "    </tr>\n",
       "    <tr>\n",
       "      <th>2</th>\n",
       "      <td>7</td>\n",
       "      <td>8</td>\n",
       "      <td>9</td>\n",
       "    </tr>\n",
       "  </tbody>\n",
       "</table>\n",
       "</div>"
      ],
      "text/plain": [
       "   a  b  c\n",
       "0  1  2  3\n",
       "1  4  5  6\n",
       "2  7  8  9"
      ]
     },
     "execution_count": 218,
     "metadata": {
      "tags": []
     },
     "output_type": "execute_result"
    }
   ],
   "source": [
    "df4 = pd.DataFrame(np.array([[1, 2, 3], [4, 5, 6], [7, 8, 9]]), columns=['a', 'b', 'c'])\n",
    "df4"
   ]
  },
  {
   "cell_type": "markdown",
   "metadata": {
    "id": "IHWaXrCF7_iR"
   },
   "source": [
    "여러 개의 리스트를 합하여 데이터프레임을 생성할 수도 있다.  \n",
    "\n",
    "아래의 코드에서는 두 개의 리스트를 합하여 이름과 점수를 쌍으로 묶기 위해서 `zip` 함수를 이용한다. \n",
    "\n",
    "* `zip` 함수의 리턴값은 `zip` 클래스의 객체이다.\n",
    "  * `zip` 객체는 순서쌍들의 리스트와 비슷하다. \n",
    "  * 다만 리스트처럼 색인을 사용하여 직접 항목을 선택할 수는 없다. \n",
    "* `zip` 객체를 리스트 자료형으로 형변환하면 쌍들의 리스트로 활용할 수 있으며, 여기서는 이 기능을 활용한다. "
   ]
  },
  {
   "cell_type": "code",
   "execution_count": null,
   "metadata": {
    "colab": {
     "base_uri": "https://localhost:8080/"
    },
    "executionInfo": {
     "elapsed": 838,
     "status": "ok",
     "timestamp": 1620547915415,
     "user": {
      "displayName": "HJ Kim",
      "photoUrl": "",
      "userId": "16634276932240017990"
     },
     "user_tz": -540
    },
    "id": "DGPHjvGSUAxh",
    "outputId": "578bb441-8d20-4275-cf1f-dc0a89a3f4e6"
   },
   "outputs": [
    {
     "name": "stdout",
     "output_type": "stream",
     "text": [
      "[('Alice', 84), ('Bob', 25), ('Carol', 55), ('David', 98)]\n",
      "    name  score\n",
      "0  Alice     84\n",
      "1    Bob     25\n",
      "2  Carol     55\n",
      "3  David     98\n"
     ]
    }
   ],
   "source": [
    "name = ['Alice', 'Bob', 'Carol', 'David']\n",
    "score = [84, 25, 55, 98, 59]\n",
    "\n",
    "dataSet = list(zip(name, score))\n",
    "print(dataSet)\n",
    "\n",
    "df5 = pd.DataFrame(dataSet, columns = ['name', 'score'])\n",
    "print(df5)"
   ]
  },
  {
   "cell_type": "markdown",
   "metadata": {
    "id": "mOsNx-FU9Bkv"
   },
   "source": [
    "**index**  \n",
    "\n",
    "Series와 마찬가지로 DataFrame도 인덱스를 지정할 수 있다. "
   ]
  },
  {
   "cell_type": "code",
   "execution_count": null,
   "metadata": {
    "colab": {
     "base_uri": "https://localhost:8080/"
    },
    "executionInfo": {
     "elapsed": 718,
     "status": "ok",
     "timestamp": 1620547919669,
     "user": {
      "displayName": "HJ Kim",
      "photoUrl": "",
      "userId": "16634276932240017990"
     },
     "user_tz": -540
    },
    "id": "SLTXK223VrrK",
    "outputId": "78166222-dc02-4b3d-b381-aee6b81b0668"
   },
   "outputs": [
    {
     "name": "stdout",
     "output_type": "stream",
     "text": [
      "[('Alice', 84), ('Bob', 25), ('Carol', 55), ('David', 98)]\n",
      "        name  score\n",
      "one    Alice     84\n",
      "two      Bob     25\n",
      "three  Carol     55\n",
      "four   David     98\n"
     ]
    }
   ],
   "source": [
    "name = ['Alice', 'Bob', 'Carol', 'David']\n",
    "score = [84, 25, 55, 98, 59]\n",
    "idx = ['one', 'two', 'three', 'four']\n",
    "\n",
    "dataSet = list(zip(name, score))\n",
    "print(dataSet)\n",
    "\n",
    "df6 = pd.DataFrame(dataSet, columns = ['name', 'score'], index = idx)\n",
    "print(df6)"
   ]
  },
  {
   "cell_type": "markdown",
   "metadata": {
    "id": "JPzGtsT6-o4J"
   },
   "source": [
    "데이터프레임의 값에 접근하는 방법을 살펴보자.  "
   ]
  },
  {
   "cell_type": "code",
   "execution_count": null,
   "metadata": {
    "colab": {
     "base_uri": "https://localhost:8080/",
     "height": 173
    },
    "executionInfo": {
     "elapsed": 733,
     "status": "ok",
     "timestamp": 1620540267573,
     "user": {
      "displayName": "HJ Kim",
      "photoUrl": "",
      "userId": "16634276932240017990"
     },
     "user_tz": -540
    },
    "id": "qMDKyYjpkSjk",
    "outputId": "796f61b2-68a3-4f2b-a5f6-61e044f608d9"
   },
   "outputs": [
    {
     "data": {
      "text/html": [
       "<div>\n",
       "<style scoped>\n",
       "    .dataframe tbody tr th:only-of-type {\n",
       "        vertical-align: middle;\n",
       "    }\n",
       "\n",
       "    .dataframe tbody tr th {\n",
       "        vertical-align: top;\n",
       "    }\n",
       "\n",
       "    .dataframe thead th {\n",
       "        text-align: right;\n",
       "    }\n",
       "</style>\n",
       "<table border=\"1\" class=\"dataframe\">\n",
       "  <thead>\n",
       "    <tr style=\"text-align: right;\">\n",
       "      <th></th>\n",
       "      <th>col1</th>\n",
       "      <th>col2</th>\n",
       "      <th>col3</th>\n",
       "    </tr>\n",
       "  </thead>\n",
       "  <tbody>\n",
       "    <tr>\n",
       "      <th>0</th>\n",
       "      <td>1</td>\n",
       "      <td>5</td>\n",
       "      <td>9</td>\n",
       "    </tr>\n",
       "    <tr>\n",
       "      <th>1</th>\n",
       "      <td>2</td>\n",
       "      <td>6</td>\n",
       "      <td>10</td>\n",
       "    </tr>\n",
       "    <tr>\n",
       "      <th>2</th>\n",
       "      <td>3</td>\n",
       "      <td>7</td>\n",
       "      <td>11</td>\n",
       "    </tr>\n",
       "    <tr>\n",
       "      <th>3</th>\n",
       "      <td>4</td>\n",
       "      <td>8</td>\n",
       "      <td>12</td>\n",
       "    </tr>\n",
       "  </tbody>\n",
       "</table>\n",
       "</div>"
      ],
      "text/plain": [
       "   col1  col2  col3\n",
       "0     1     5     9\n",
       "1     2     6    10\n",
       "2     3     7    11\n",
       "3     4     8    12"
      ]
     },
     "execution_count": 221,
     "metadata": {
      "tags": []
     },
     "output_type": "execute_result"
    }
   ],
   "source": [
    "df"
   ]
  },
  {
   "cell_type": "markdown",
   "metadata": {
    "id": "o7XEPanW-8uF"
   },
   "source": [
    "데이터프레임의 열은 아래와 같이 딕셔너리 형식의 표기법이나 속성 형식으로 접근할 수 있다.   \n",
    "\n",
    "> `데이터프레임명[열의이름]`   \n",
    "> `데이터프레임명.열의이름`"
   ]
  },
  {
   "cell_type": "code",
   "execution_count": null,
   "metadata": {
    "colab": {
     "base_uri": "https://localhost:8080/"
    },
    "executionInfo": {
     "elapsed": 1087,
     "status": "ok",
     "timestamp": 1620540269665,
     "user": {
      "displayName": "HJ Kim",
      "photoUrl": "",
      "userId": "16634276932240017990"
     },
     "user_tz": -540
    },
    "id": "Ew5eXjrYVPFr",
    "outputId": "bc05dad9-5165-4e30-d038-f0e557f364b9"
   },
   "outputs": [
    {
     "data": {
      "text/plain": [
       "0    5\n",
       "1    6\n",
       "2    7\n",
       "3    8\n",
       "Name: col2, dtype: int64"
      ]
     },
     "execution_count": 222,
     "metadata": {
      "tags": []
     },
     "output_type": "execute_result"
    }
   ],
   "source": [
    "df['col2']"
   ]
  },
  {
   "cell_type": "code",
   "execution_count": null,
   "metadata": {
    "colab": {
     "base_uri": "https://localhost:8080/"
    },
    "executionInfo": {
     "elapsed": 765,
     "status": "ok",
     "timestamp": 1620540270117,
     "user": {
      "displayName": "HJ Kim",
      "photoUrl": "",
      "userId": "16634276932240017990"
     },
     "user_tz": -540
    },
    "id": "EUPxTp7bVYHm",
    "outputId": "c65196a9-e86e-4643-f117-15d47b29aaa1"
   },
   "outputs": [
    {
     "data": {
      "text/plain": [
       "0    5\n",
       "1    6\n",
       "2    7\n",
       "3    8\n",
       "Name: col2, dtype: int64"
      ]
     },
     "execution_count": 223,
     "metadata": {
      "tags": []
     },
     "output_type": "execute_result"
    }
   ],
   "source": [
    "df.col2"
   ]
  },
  {
   "cell_type": "markdown",
   "metadata": {
    "id": "6oNFrFfA_pHA"
   },
   "source": [
    "**loc**  \n",
    "\n",
    "loc를 이용해서 행(row) 또는 열(column)에 접근하는 방법을 살펴보자.  \n",
    "\n",
    "`df.loc[인덱스명]` 은 인덱스명에 해당하는 행을 추출하라는 의미이다.   "
   ]
  },
  {
   "cell_type": "code",
   "execution_count": null,
   "metadata": {
    "colab": {
     "base_uri": "https://localhost:8080/"
    },
    "executionInfo": {
     "elapsed": 693,
     "status": "ok",
     "timestamp": 1620540271858,
     "user": {
      "displayName": "HJ Kim",
      "photoUrl": "",
      "userId": "16634276932240017990"
     },
     "user_tz": -540
    },
    "id": "ExkU472vkXfG",
    "outputId": "2e482300-f019-4d66-90e2-ee5b57f257df"
   },
   "outputs": [
    {
     "data": {
      "text/plain": [
       "col1     3\n",
       "col2     7\n",
       "col3    11\n",
       "Name: 2, dtype: int64"
      ]
     },
     "execution_count": 224,
     "metadata": {
      "tags": []
     },
     "output_type": "execute_result"
    }
   ],
   "source": [
    "df.loc[2]"
   ]
  },
  {
   "cell_type": "markdown",
   "metadata": {
    "id": "wkS_mSoNcTCL"
   },
   "source": [
    "`df6`의 인덱스는 one, two, three, four이다. "
   ]
  },
  {
   "cell_type": "code",
   "execution_count": null,
   "metadata": {
    "colab": {
     "base_uri": "https://localhost:8080/"
    },
    "executionInfo": {
     "elapsed": 874,
     "status": "ok",
     "timestamp": 1620540273587,
     "user": {
      "displayName": "HJ Kim",
      "photoUrl": "",
      "userId": "16634276932240017990"
     },
     "user_tz": -540
    },
    "id": "9w2o7IR6cWc5",
    "outputId": "eab90611-34a3-4dca-fd20-f5c28737ba4e"
   },
   "outputs": [
    {
     "data": {
      "text/plain": [
       "Index(['one', 'two', 'three', 'four'], dtype='object')"
      ]
     },
     "execution_count": 225,
     "metadata": {
      "tags": []
     },
     "output_type": "execute_result"
    }
   ],
   "source": [
    "df6.index"
   ]
  },
  {
   "cell_type": "markdown",
   "metadata": {
    "id": "1SkwPFuCcd1Q"
   },
   "source": [
    "`df6.loc['three']` 를 하면 인덱스명이 three인 행을 추출할 수 있다. \n"
   ]
  },
  {
   "cell_type": "code",
   "execution_count": null,
   "metadata": {
    "colab": {
     "base_uri": "https://localhost:8080/"
    },
    "executionInfo": {
     "elapsed": 814,
     "status": "ok",
     "timestamp": 1620540275638,
     "user": {
      "displayName": "HJ Kim",
      "photoUrl": "",
      "userId": "16634276932240017990"
     },
     "user_tz": -540
    },
    "id": "LhP9qN7nV7J5",
    "outputId": "ee94cba6-b826-4f7f-fdb4-446137f1c120"
   },
   "outputs": [
    {
     "name": "stdout",
     "output_type": "stream",
     "text": [
      "        name  score\n",
      "one    alice     84\n",
      "two      bob     25\n",
      "three  Carol     55\n",
      "four   David     98\n",
      "=========================\n",
      "name     Carol\n",
      "score       55\n",
      "Name: three, dtype: object\n"
     ]
    }
   ],
   "source": [
    "print(df6)\n",
    "print('=========================')\n",
    "print(df6.loc['three'])"
   ]
  },
  {
   "cell_type": "markdown",
   "metadata": {
    "id": "oWuKJlXjjma8"
   },
   "source": [
    "`df.loc[인덱스명, 열의이름]` 을 하면, 해당 인덱스와 열의 값을 추출할 수 있다. "
   ]
  },
  {
   "cell_type": "code",
   "execution_count": null,
   "metadata": {
    "colab": {
     "base_uri": "https://localhost:8080/"
    },
    "executionInfo": {
     "elapsed": 697,
     "status": "ok",
     "timestamp": 1620540277216,
     "user": {
      "displayName": "HJ Kim",
      "photoUrl": "",
      "userId": "16634276932240017990"
     },
     "user_tz": -540
    },
    "id": "2IpTirX6ePn6",
    "outputId": "841c4b87-6ad0-496b-9f78-96b020536fd0"
   },
   "outputs": [
    {
     "data": {
      "text/plain": [
       "7"
      ]
     },
     "execution_count": 227,
     "metadata": {
      "tags": []
     },
     "output_type": "execute_result"
    }
   ],
   "source": [
    "df.loc[2, 'col2']"
   ]
  },
  {
   "cell_type": "markdown",
   "metadata": {
    "id": "5edAGyI-j23B"
   },
   "source": [
    "여러 개의 행과 열을 선택하고 싶다면, 슬라이싱이나 리스트를 이용하면 된다. "
   ]
  },
  {
   "cell_type": "code",
   "execution_count": null,
   "metadata": {
    "colab": {
     "base_uri": "https://localhost:8080/"
    },
    "executionInfo": {
     "elapsed": 743,
     "status": "ok",
     "timestamp": 1620540278750,
     "user": {
      "displayName": "HJ Kim",
      "photoUrl": "",
      "userId": "16634276932240017990"
     },
     "user_tz": -540
    },
    "id": "ZzN4TTgXka17",
    "outputId": "dfd3fdaf-e5f7-4ddf-c9be-36c90fa3b270"
   },
   "outputs": [
    {
     "data": {
      "text/plain": [
       "1    6\n",
       "2    7\n",
       "3    8\n",
       "Name: col2, dtype: int64"
      ]
     },
     "execution_count": 228,
     "metadata": {
      "tags": []
     },
     "output_type": "execute_result"
    }
   ],
   "source": [
    "df.loc[1:3, 'col2']  #주의) 끝포함"
   ]
  },
  {
   "cell_type": "code",
   "execution_count": null,
   "metadata": {
    "colab": {
     "base_uri": "https://localhost:8080/"
    },
    "executionInfo": {
     "elapsed": 569,
     "status": "ok",
     "timestamp": 1620540279215,
     "user": {
      "displayName": "HJ Kim",
      "photoUrl": "",
      "userId": "16634276932240017990"
     },
     "user_tz": -540
    },
    "id": "tBpWcCLXlMEC",
    "outputId": "8d165289-db14-4d9d-96f8-2e4c0ded03dd"
   },
   "outputs": [
    {
     "data": {
      "text/plain": [
       "1    6\n",
       "2    7\n",
       "3    8\n",
       "Name: col2, dtype: int64"
      ]
     },
     "execution_count": 229,
     "metadata": {
      "tags": []
     },
     "output_type": "execute_result"
    }
   ],
   "source": [
    "df.loc[[1, 2, 3], 'col2']"
   ]
  },
  {
   "cell_type": "code",
   "execution_count": null,
   "metadata": {
    "colab": {
     "base_uri": "https://localhost:8080/",
     "height": 142
    },
    "executionInfo": {
     "elapsed": 645,
     "status": "ok",
     "timestamp": 1620540280396,
     "user": {
      "displayName": "HJ Kim",
      "photoUrl": "",
      "userId": "16634276932240017990"
     },
     "user_tz": -540
    },
    "id": "M3RSy9RclpRI",
    "outputId": "699e6781-d320-4813-a670-a3421e5799b0"
   },
   "outputs": [
    {
     "data": {
      "text/html": [
       "<div>\n",
       "<style scoped>\n",
       "    .dataframe tbody tr th:only-of-type {\n",
       "        vertical-align: middle;\n",
       "    }\n",
       "\n",
       "    .dataframe tbody tr th {\n",
       "        vertical-align: top;\n",
       "    }\n",
       "\n",
       "    .dataframe thead th {\n",
       "        text-align: right;\n",
       "    }\n",
       "</style>\n",
       "<table border=\"1\" class=\"dataframe\">\n",
       "  <thead>\n",
       "    <tr style=\"text-align: right;\">\n",
       "      <th></th>\n",
       "      <th>col2</th>\n",
       "      <th>col3</th>\n",
       "    </tr>\n",
       "  </thead>\n",
       "  <tbody>\n",
       "    <tr>\n",
       "      <th>1</th>\n",
       "      <td>6</td>\n",
       "      <td>10</td>\n",
       "    </tr>\n",
       "    <tr>\n",
       "      <th>2</th>\n",
       "      <td>7</td>\n",
       "      <td>11</td>\n",
       "    </tr>\n",
       "    <tr>\n",
       "      <th>3</th>\n",
       "      <td>8</td>\n",
       "      <td>12</td>\n",
       "    </tr>\n",
       "  </tbody>\n",
       "</table>\n",
       "</div>"
      ],
      "text/plain": [
       "   col2  col3\n",
       "1     6    10\n",
       "2     7    11\n",
       "3     8    12"
      ]
     },
     "execution_count": 230,
     "metadata": {
      "tags": []
     },
     "output_type": "execute_result"
    }
   ],
   "source": [
    "df.loc[1:3, 'col2' : 'col3']"
   ]
  },
  {
   "cell_type": "code",
   "execution_count": null,
   "metadata": {
    "colab": {
     "base_uri": "https://localhost:8080/",
     "height": 142
    },
    "executionInfo": {
     "elapsed": 763,
     "status": "ok",
     "timestamp": 1620540281700,
     "user": {
      "displayName": "HJ Kim",
      "photoUrl": "",
      "userId": "16634276932240017990"
     },
     "user_tz": -540
    },
    "id": "iJPQ8pUpky7F",
    "outputId": "c05f3bf0-c6e9-4978-804b-eb2c15f13417"
   },
   "outputs": [
    {
     "data": {
      "text/html": [
       "<div>\n",
       "<style scoped>\n",
       "    .dataframe tbody tr th:only-of-type {\n",
       "        vertical-align: middle;\n",
       "    }\n",
       "\n",
       "    .dataframe tbody tr th {\n",
       "        vertical-align: top;\n",
       "    }\n",
       "\n",
       "    .dataframe thead th {\n",
       "        text-align: right;\n",
       "    }\n",
       "</style>\n",
       "<table border=\"1\" class=\"dataframe\">\n",
       "  <thead>\n",
       "    <tr style=\"text-align: right;\">\n",
       "      <th></th>\n",
       "      <th>col2</th>\n",
       "      <th>col3</th>\n",
       "    </tr>\n",
       "  </thead>\n",
       "  <tbody>\n",
       "    <tr>\n",
       "      <th>1</th>\n",
       "      <td>6</td>\n",
       "      <td>10</td>\n",
       "    </tr>\n",
       "    <tr>\n",
       "      <th>2</th>\n",
       "      <td>7</td>\n",
       "      <td>11</td>\n",
       "    </tr>\n",
       "    <tr>\n",
       "      <th>3</th>\n",
       "      <td>8</td>\n",
       "      <td>12</td>\n",
       "    </tr>\n",
       "  </tbody>\n",
       "</table>\n",
       "</div>"
      ],
      "text/plain": [
       "   col2  col3\n",
       "1     6    10\n",
       "2     7    11\n",
       "3     8    12"
      ]
     },
     "execution_count": 231,
     "metadata": {
      "tags": []
     },
     "output_type": "execute_result"
    }
   ],
   "source": [
    "df.loc[1:3, ['col2', 'col3']]"
   ]
  },
  {
   "cell_type": "markdown",
   "metadata": {
    "id": "JrWBL_VAmAIx"
   },
   "source": [
    "**불리언 인덱싱**  \n",
    "\n",
    "Series처럼 불리언으로 값을 선택할 수도 있다.  \n"
   ]
  },
  {
   "cell_type": "code",
   "execution_count": null,
   "metadata": {
    "colab": {
     "base_uri": "https://localhost:8080/"
    },
    "executionInfo": {
     "elapsed": 898,
     "status": "ok",
     "timestamp": 1620540284210,
     "user": {
      "displayName": "HJ Kim",
      "photoUrl": "",
      "userId": "16634276932240017990"
     },
     "user_tz": -540
    },
    "id": "NRclC4tdmQ_b",
    "outputId": "21cfa3e3-b01a-43d7-80d1-94b738a96887"
   },
   "outputs": [
    {
     "name": "stdout",
     "output_type": "stream",
     "text": [
      "   col1  col2  col3\n",
      "0     1     5     9\n",
      "1     2     6    10\n",
      "2     3     7    11\n",
      "3     4     8    12\n",
      "=============================\n",
      "    col1   col2   col3\n",
      "0  False  False  False\n",
      "1  False  False  False\n",
      "2  False  False   True\n",
      "3  False  False   True\n",
      "=============================\n",
      "0    False\n",
      "1    False\n",
      "2     True\n",
      "3     True\n",
      "Name: col3, dtype: bool\n",
      "=============================\n",
      "   col1  col2  col3\n",
      "2     3     7    11\n",
      "3     4     8    12\n"
     ]
    }
   ],
   "source": [
    "print(df)\n",
    "print('=============================')\n",
    "print(df > 10)\n",
    "print('=============================')\n",
    "print(df.col3 > 10)\n",
    "print('=============================')\n",
    "print(df[df.col3 > 10])"
   ]
  },
  {
   "cell_type": "markdown",
   "metadata": {
    "id": "MMakwVoNqBTg"
   },
   "source": [
    "**len() 함수**  \n",
    "  \n",
    "데이터프레임의 길이는 `len()` 함수로 구할 수 있다."
   ]
  },
  {
   "cell_type": "code",
   "execution_count": null,
   "metadata": {
    "colab": {
     "base_uri": "https://localhost:8080/"
    },
    "executionInfo": {
     "elapsed": 751,
     "status": "ok",
     "timestamp": 1620540286419,
     "user": {
      "displayName": "HJ Kim",
      "photoUrl": "",
      "userId": "16634276932240017990"
     },
     "user_tz": -540
    },
    "id": "j5wP2fSfgzXu",
    "outputId": "f15eeb93-36d0-474a-e853-e5e19d71c89e"
   },
   "outputs": [
    {
     "data": {
      "text/plain": [
       "4"
      ]
     },
     "execution_count": 233,
     "metadata": {
      "tags": []
     },
     "output_type": "execute_result"
    }
   ],
   "source": [
    "len(df)"
   ]
  },
  {
   "cell_type": "markdown",
   "metadata": {
    "id": "DJxkLSn0qKSG"
   },
   "source": [
    "**head와 tail**  \n",
    "\n",
    "데이터를 확인하기 위해 `head`와 `tail`를 사용할 수 있다. \n",
    "\n",
    "* `head()` : 처음 5개의 행을 보여준다. 인자를 입력하면, 처음부터 그 만큼의 행을 보여준다.   \n",
    "* `tail()` : 끝 5개의 행을 보여준다. 인자를 입력하면, 끝에서부터 그 만큼의 행을 보여준다. "
   ]
  },
  {
   "cell_type": "code",
   "execution_count": null,
   "metadata": {
    "colab": {
     "base_uri": "https://localhost:8080/",
     "height": 111
    },
    "executionInfo": {
     "elapsed": 463,
     "status": "ok",
     "timestamp": 1620540287861,
     "user": {
      "displayName": "HJ Kim",
      "photoUrl": "",
      "userId": "16634276932240017990"
     },
     "user_tz": -540
    },
    "id": "F67hL9LUXX3M",
    "outputId": "566c531b-c40c-4015-bade-d65709c93229"
   },
   "outputs": [
    {
     "data": {
      "text/html": [
       "<div>\n",
       "<style scoped>\n",
       "    .dataframe tbody tr th:only-of-type {\n",
       "        vertical-align: middle;\n",
       "    }\n",
       "\n",
       "    .dataframe tbody tr th {\n",
       "        vertical-align: top;\n",
       "    }\n",
       "\n",
       "    .dataframe thead th {\n",
       "        text-align: right;\n",
       "    }\n",
       "</style>\n",
       "<table border=\"1\" class=\"dataframe\">\n",
       "  <thead>\n",
       "    <tr style=\"text-align: right;\">\n",
       "      <th></th>\n",
       "      <th>col1</th>\n",
       "      <th>col2</th>\n",
       "      <th>col3</th>\n",
       "    </tr>\n",
       "  </thead>\n",
       "  <tbody>\n",
       "    <tr>\n",
       "      <th>0</th>\n",
       "      <td>1</td>\n",
       "      <td>5</td>\n",
       "      <td>9</td>\n",
       "    </tr>\n",
       "    <tr>\n",
       "      <th>1</th>\n",
       "      <td>2</td>\n",
       "      <td>6</td>\n",
       "      <td>10</td>\n",
       "    </tr>\n",
       "  </tbody>\n",
       "</table>\n",
       "</div>"
      ],
      "text/plain": [
       "   col1  col2  col3\n",
       "0     1     5     9\n",
       "1     2     6    10"
      ]
     },
     "execution_count": 234,
     "metadata": {
      "tags": []
     },
     "output_type": "execute_result"
    }
   ],
   "source": [
    "df.head(2)"
   ]
  },
  {
   "cell_type": "code",
   "execution_count": null,
   "metadata": {
    "colab": {
     "base_uri": "https://localhost:8080/",
     "height": 142
    },
    "executionInfo": {
     "elapsed": 780,
     "status": "ok",
     "timestamp": 1620540289060,
     "user": {
      "displayName": "HJ Kim",
      "photoUrl": "",
      "userId": "16634276932240017990"
     },
     "user_tz": -540
    },
    "id": "BykdMKIJXqUq",
    "outputId": "29cbc3da-e963-4243-efca-3e58cc43bd23"
   },
   "outputs": [
    {
     "data": {
      "text/html": [
       "<div>\n",
       "<style scoped>\n",
       "    .dataframe tbody tr th:only-of-type {\n",
       "        vertical-align: middle;\n",
       "    }\n",
       "\n",
       "    .dataframe tbody tr th {\n",
       "        vertical-align: top;\n",
       "    }\n",
       "\n",
       "    .dataframe thead th {\n",
       "        text-align: right;\n",
       "    }\n",
       "</style>\n",
       "<table border=\"1\" class=\"dataframe\">\n",
       "  <thead>\n",
       "    <tr style=\"text-align: right;\">\n",
       "      <th></th>\n",
       "      <th>col1</th>\n",
       "      <th>col2</th>\n",
       "      <th>col3</th>\n",
       "    </tr>\n",
       "  </thead>\n",
       "  <tbody>\n",
       "    <tr>\n",
       "      <th>1</th>\n",
       "      <td>2</td>\n",
       "      <td>6</td>\n",
       "      <td>10</td>\n",
       "    </tr>\n",
       "    <tr>\n",
       "      <th>2</th>\n",
       "      <td>3</td>\n",
       "      <td>7</td>\n",
       "      <td>11</td>\n",
       "    </tr>\n",
       "    <tr>\n",
       "      <th>3</th>\n",
       "      <td>4</td>\n",
       "      <td>8</td>\n",
       "      <td>12</td>\n",
       "    </tr>\n",
       "  </tbody>\n",
       "</table>\n",
       "</div>"
      ],
      "text/plain": [
       "   col1  col2  col3\n",
       "1     2     6    10\n",
       "2     3     7    11\n",
       "3     4     8    12"
      ]
     },
     "execution_count": 235,
     "metadata": {
      "tags": []
     },
     "output_type": "execute_result"
    }
   ],
   "source": [
    "df.tail(3)"
   ]
  },
  {
   "cell_type": "markdown",
   "metadata": {
    "id": "r3rpCbLGq1-k"
   },
   "source": [
    "**sum()**  \n",
    "\n",
    "`sum()`은 합을 계산해주는 메소드로, 각 열별 합을 보여준다.  \n",
    "이 메소드에 아래와 같이 `axis`를 1로 주면, 행을 합을 보여준다.  \n"
   ]
  },
  {
   "cell_type": "code",
   "execution_count": null,
   "metadata": {
    "colab": {
     "base_uri": "https://localhost:8080/"
    },
    "executionInfo": {
     "elapsed": 709,
     "status": "ok",
     "timestamp": 1620540290967,
     "user": {
      "displayName": "HJ Kim",
      "photoUrl": "",
      "userId": "16634276932240017990"
     },
     "user_tz": -540
    },
    "id": "njeP4dd8i4Br",
    "outputId": "db0608f9-70bd-433e-ab03-207f58e165ad"
   },
   "outputs": [
    {
     "name": "stdout",
     "output_type": "stream",
     "text": [
      "col1    10\n",
      "col2    26\n",
      "col3    42\n",
      "dtype: int64\n",
      "==============\n",
      "10\n",
      "==============\n",
      "0    15\n",
      "1    18\n",
      "2    21\n",
      "3    24\n",
      "dtype: int64\n"
     ]
    }
   ],
   "source": [
    "print(df.sum()) #열의 합\n",
    "print('==============')\n",
    "print(df.col1.sum()) # col1 열의 합\n",
    "print('==============')\n",
    "print(df.sum(axis = 1)) #행의 합"
   ]
  },
  {
   "cell_type": "markdown",
   "metadata": {
    "id": "TtiI3eqYrsdY"
   },
   "source": [
    "**열(column) 추가**  \n",
    "\n",
    "열을 추가하는 연습을 해보자.  \n",
    "\n",
    "모든 행이 같은 값을 갖는 열을 추가하려면 아래와 같이 하면 된다.   \n",
    "\n",
    "> `데이터프레임명[열의이름] = 값`  \n",
    "\n",
    "예를 들어, 모든 행이 10인 col4열과 모든 행이 NaN인 col5열을 추가하는 코드는 아래와 같다.  "
   ]
  },
  {
   "cell_type": "code",
   "execution_count": null,
   "metadata": {
    "colab": {
     "base_uri": "https://localhost:8080/",
     "height": 173
    },
    "executionInfo": {
     "elapsed": 742,
     "status": "ok",
     "timestamp": 1620540293224,
     "user": {
      "displayName": "HJ Kim",
      "photoUrl": "",
      "userId": "16634276932240017990"
     },
     "user_tz": -540
    },
    "id": "SzLGEAGqWqjs",
    "outputId": "b143c8fb-06a3-4d59-dd56-074ca4c3fc48"
   },
   "outputs": [
    {
     "data": {
      "text/html": [
       "<div>\n",
       "<style scoped>\n",
       "    .dataframe tbody tr th:only-of-type {\n",
       "        vertical-align: middle;\n",
       "    }\n",
       "\n",
       "    .dataframe tbody tr th {\n",
       "        vertical-align: top;\n",
       "    }\n",
       "\n",
       "    .dataframe thead th {\n",
       "        text-align: right;\n",
       "    }\n",
       "</style>\n",
       "<table border=\"1\" class=\"dataframe\">\n",
       "  <thead>\n",
       "    <tr style=\"text-align: right;\">\n",
       "      <th></th>\n",
       "      <th>col1</th>\n",
       "      <th>col2</th>\n",
       "      <th>col3</th>\n",
       "      <th>col4</th>\n",
       "      <th>col5</th>\n",
       "    </tr>\n",
       "  </thead>\n",
       "  <tbody>\n",
       "    <tr>\n",
       "      <th>0</th>\n",
       "      <td>1</td>\n",
       "      <td>5</td>\n",
       "      <td>9</td>\n",
       "      <td>10</td>\n",
       "      <td>NaN</td>\n",
       "    </tr>\n",
       "    <tr>\n",
       "      <th>1</th>\n",
       "      <td>2</td>\n",
       "      <td>6</td>\n",
       "      <td>10</td>\n",
       "      <td>10</td>\n",
       "      <td>NaN</td>\n",
       "    </tr>\n",
       "    <tr>\n",
       "      <th>2</th>\n",
       "      <td>3</td>\n",
       "      <td>7</td>\n",
       "      <td>11</td>\n",
       "      <td>10</td>\n",
       "      <td>NaN</td>\n",
       "    </tr>\n",
       "    <tr>\n",
       "      <th>3</th>\n",
       "      <td>4</td>\n",
       "      <td>8</td>\n",
       "      <td>12</td>\n",
       "      <td>10</td>\n",
       "      <td>NaN</td>\n",
       "    </tr>\n",
       "  </tbody>\n",
       "</table>\n",
       "</div>"
      ],
      "text/plain": [
       "   col1  col2  col3  col4  col5\n",
       "0     1     5     9    10   NaN\n",
       "1     2     6    10    10   NaN\n",
       "2     3     7    11    10   NaN\n",
       "3     4     8    12    10   NaN"
      ]
     },
     "execution_count": 237,
     "metadata": {
      "tags": []
     },
     "output_type": "execute_result"
    }
   ],
   "source": [
    "df['col4'] = 10\n",
    "df['col5'] = np.nan\n",
    "df"
   ]
  },
  {
   "cell_type": "markdown",
   "metadata": {
    "id": "OVP0wDiJvIHB"
   },
   "source": [
    "위에서 값 대신 배열을 대입하면, 행 각각의 값은 배열 각각의 값이 된다. "
   ]
  },
  {
   "cell_type": "code",
   "execution_count": null,
   "metadata": {
    "colab": {
     "base_uri": "https://localhost:8080/",
     "height": 173
    },
    "executionInfo": {
     "elapsed": 791,
     "status": "ok",
     "timestamp": 1620540295557,
     "user": {
      "displayName": "HJ Kim",
      "photoUrl": "",
      "userId": "16634276932240017990"
     },
     "user_tz": -540
    },
    "id": "13zvxDALuPey",
    "outputId": "73c756ee-1d13-43c1-f3c8-9ed0c8f26736"
   },
   "outputs": [
    {
     "data": {
      "text/html": [
       "<div>\n",
       "<style scoped>\n",
       "    .dataframe tbody tr th:only-of-type {\n",
       "        vertical-align: middle;\n",
       "    }\n",
       "\n",
       "    .dataframe tbody tr th {\n",
       "        vertical-align: top;\n",
       "    }\n",
       "\n",
       "    .dataframe thead th {\n",
       "        text-align: right;\n",
       "    }\n",
       "</style>\n",
       "<table border=\"1\" class=\"dataframe\">\n",
       "  <thead>\n",
       "    <tr style=\"text-align: right;\">\n",
       "      <th></th>\n",
       "      <th>col1</th>\n",
       "      <th>col2</th>\n",
       "      <th>col3</th>\n",
       "      <th>col4</th>\n",
       "      <th>col5</th>\n",
       "      <th>col6</th>\n",
       "      <th>col7</th>\n",
       "    </tr>\n",
       "  </thead>\n",
       "  <tbody>\n",
       "    <tr>\n",
       "      <th>0</th>\n",
       "      <td>1</td>\n",
       "      <td>5</td>\n",
       "      <td>9</td>\n",
       "      <td>10</td>\n",
       "      <td>NaN</td>\n",
       "      <td>1</td>\n",
       "      <td>5</td>\n",
       "    </tr>\n",
       "    <tr>\n",
       "      <th>1</th>\n",
       "      <td>2</td>\n",
       "      <td>6</td>\n",
       "      <td>10</td>\n",
       "      <td>10</td>\n",
       "      <td>NaN</td>\n",
       "      <td>2</td>\n",
       "      <td>4</td>\n",
       "    </tr>\n",
       "    <tr>\n",
       "      <th>2</th>\n",
       "      <td>3</td>\n",
       "      <td>7</td>\n",
       "      <td>11</td>\n",
       "      <td>10</td>\n",
       "      <td>NaN</td>\n",
       "      <td>3</td>\n",
       "      <td>3</td>\n",
       "    </tr>\n",
       "    <tr>\n",
       "      <th>3</th>\n",
       "      <td>4</td>\n",
       "      <td>8</td>\n",
       "      <td>12</td>\n",
       "      <td>10</td>\n",
       "      <td>NaN</td>\n",
       "      <td>4</td>\n",
       "      <td>2</td>\n",
       "    </tr>\n",
       "  </tbody>\n",
       "</table>\n",
       "</div>"
      ],
      "text/plain": [
       "   col1  col2  col3  col4  col5  col6  col7\n",
       "0     1     5     9    10   NaN     1     5\n",
       "1     2     6    10    10   NaN     2     4\n",
       "2     3     7    11    10   NaN     3     3\n",
       "3     4     8    12    10   NaN     4     2"
      ]
     },
     "execution_count": 238,
     "metadata": {
      "tags": []
     },
     "output_type": "execute_result"
    }
   ],
   "source": [
    "df['col6'] = np.arange(1, 5)\n",
    "df['col7'] = np.array([5, 4, 3, 2])\n",
    "df"
   ]
  },
  {
   "cell_type": "markdown",
   "metadata": {
    "id": "w6NFe4JPvhXf"
   },
   "source": [
    "물론 `loc`을 이용하여 데이터프레임의 일부를 선택한 다음 값을 변경할 수도 있다.  \n",
    "예를 들어, 인덱스가 1, 2인 행과 col3인 열의 값을 NaN으로 변경하려면 아래와 같이 코드를 작성하면 된다.   \n",
    "\n",
    "주의) 슬라이싱에서 끝 값이 포함되는 것을 주의하자."
   ]
  },
  {
   "cell_type": "code",
   "execution_count": null,
   "metadata": {
    "colab": {
     "base_uri": "https://localhost:8080/",
     "height": 173
    },
    "executionInfo": {
     "elapsed": 760,
     "status": "ok",
     "timestamp": 1620540300154,
     "user": {
      "displayName": "HJ Kim",
      "photoUrl": "",
      "userId": "16634276932240017990"
     },
     "user_tz": -540
    },
    "id": "r9ycZp95la86",
    "outputId": "d3f44391-cbff-4321-b4d2-59fddd94c193"
   },
   "outputs": [
    {
     "data": {
      "text/html": [
       "<div>\n",
       "<style scoped>\n",
       "    .dataframe tbody tr th:only-of-type {\n",
       "        vertical-align: middle;\n",
       "    }\n",
       "\n",
       "    .dataframe tbody tr th {\n",
       "        vertical-align: top;\n",
       "    }\n",
       "\n",
       "    .dataframe thead th {\n",
       "        text-align: right;\n",
       "    }\n",
       "</style>\n",
       "<table border=\"1\" class=\"dataframe\">\n",
       "  <thead>\n",
       "    <tr style=\"text-align: right;\">\n",
       "      <th></th>\n",
       "      <th>col1</th>\n",
       "      <th>col2</th>\n",
       "      <th>col3</th>\n",
       "      <th>col4</th>\n",
       "      <th>col5</th>\n",
       "      <th>col6</th>\n",
       "      <th>col7</th>\n",
       "    </tr>\n",
       "  </thead>\n",
       "  <tbody>\n",
       "    <tr>\n",
       "      <th>0</th>\n",
       "      <td>1</td>\n",
       "      <td>5</td>\n",
       "      <td>9.0</td>\n",
       "      <td>10</td>\n",
       "      <td>NaN</td>\n",
       "      <td>1</td>\n",
       "      <td>5</td>\n",
       "    </tr>\n",
       "    <tr>\n",
       "      <th>1</th>\n",
       "      <td>2</td>\n",
       "      <td>6</td>\n",
       "      <td>NaN</td>\n",
       "      <td>10</td>\n",
       "      <td>NaN</td>\n",
       "      <td>2</td>\n",
       "      <td>4</td>\n",
       "    </tr>\n",
       "    <tr>\n",
       "      <th>2</th>\n",
       "      <td>3</td>\n",
       "      <td>7</td>\n",
       "      <td>NaN</td>\n",
       "      <td>10</td>\n",
       "      <td>NaN</td>\n",
       "      <td>3</td>\n",
       "      <td>3</td>\n",
       "    </tr>\n",
       "    <tr>\n",
       "      <th>3</th>\n",
       "      <td>4</td>\n",
       "      <td>8</td>\n",
       "      <td>12.0</td>\n",
       "      <td>10</td>\n",
       "      <td>NaN</td>\n",
       "      <td>4</td>\n",
       "      <td>2</td>\n",
       "    </tr>\n",
       "  </tbody>\n",
       "</table>\n",
       "</div>"
      ],
      "text/plain": [
       "   col1  col2  col3  col4  col5  col6  col7\n",
       "0     1     5   9.0    10   NaN     1     5\n",
       "1     2     6   NaN    10   NaN     2     4\n",
       "2     3     7   NaN    10   NaN     3     3\n",
       "3     4     8  12.0    10   NaN     4     2"
      ]
     },
     "execution_count": 239,
     "metadata": {
      "tags": []
     },
     "output_type": "execute_result"
    }
   ],
   "source": [
    "df.loc[1:2, 'col3'] = np.nan\n",
    "df"
   ]
  },
  {
   "cell_type": "markdown",
   "metadata": {
    "id": "WHVkb7Z_v4cR"
   },
   "source": [
    "**isnull과 notnull**  \n",
    "\n",
    "Series과 마찬가지로 `isnull()`과 `notnull()`을 사용하여 누락된 데이터를 확인할 수 있다. "
   ]
  },
  {
   "cell_type": "code",
   "execution_count": null,
   "metadata": {
    "colab": {
     "base_uri": "https://localhost:8080/",
     "height": 173
    },
    "executionInfo": {
     "elapsed": 744,
     "status": "ok",
     "timestamp": 1620540301854,
     "user": {
      "displayName": "HJ Kim",
      "photoUrl": "",
      "userId": "16634276932240017990"
     },
     "user_tz": -540
    },
    "id": "Hp142_F_mAFn",
    "outputId": "a76c12e7-408f-4a61-f109-3e5d6efaf794"
   },
   "outputs": [
    {
     "data": {
      "text/html": [
       "<div>\n",
       "<style scoped>\n",
       "    .dataframe tbody tr th:only-of-type {\n",
       "        vertical-align: middle;\n",
       "    }\n",
       "\n",
       "    .dataframe tbody tr th {\n",
       "        vertical-align: top;\n",
       "    }\n",
       "\n",
       "    .dataframe thead th {\n",
       "        text-align: right;\n",
       "    }\n",
       "</style>\n",
       "<table border=\"1\" class=\"dataframe\">\n",
       "  <thead>\n",
       "    <tr style=\"text-align: right;\">\n",
       "      <th></th>\n",
       "      <th>col1</th>\n",
       "      <th>col2</th>\n",
       "      <th>col3</th>\n",
       "      <th>col4</th>\n",
       "      <th>col5</th>\n",
       "      <th>col6</th>\n",
       "      <th>col7</th>\n",
       "    </tr>\n",
       "  </thead>\n",
       "  <tbody>\n",
       "    <tr>\n",
       "      <th>0</th>\n",
       "      <td>False</td>\n",
       "      <td>False</td>\n",
       "      <td>False</td>\n",
       "      <td>False</td>\n",
       "      <td>True</td>\n",
       "      <td>False</td>\n",
       "      <td>False</td>\n",
       "    </tr>\n",
       "    <tr>\n",
       "      <th>1</th>\n",
       "      <td>False</td>\n",
       "      <td>False</td>\n",
       "      <td>True</td>\n",
       "      <td>False</td>\n",
       "      <td>True</td>\n",
       "      <td>False</td>\n",
       "      <td>False</td>\n",
       "    </tr>\n",
       "    <tr>\n",
       "      <th>2</th>\n",
       "      <td>False</td>\n",
       "      <td>False</td>\n",
       "      <td>True</td>\n",
       "      <td>False</td>\n",
       "      <td>True</td>\n",
       "      <td>False</td>\n",
       "      <td>False</td>\n",
       "    </tr>\n",
       "    <tr>\n",
       "      <th>3</th>\n",
       "      <td>False</td>\n",
       "      <td>False</td>\n",
       "      <td>False</td>\n",
       "      <td>False</td>\n",
       "      <td>True</td>\n",
       "      <td>False</td>\n",
       "      <td>False</td>\n",
       "    </tr>\n",
       "  </tbody>\n",
       "</table>\n",
       "</div>"
      ],
      "text/plain": [
       "    col1   col2   col3   col4  col5   col6   col7\n",
       "0  False  False  False  False  True  False  False\n",
       "1  False  False   True  False  True  False  False\n",
       "2  False  False   True  False  True  False  False\n",
       "3  False  False  False  False  True  False  False"
      ]
     },
     "execution_count": 240,
     "metadata": {
      "tags": []
     },
     "output_type": "execute_result"
    }
   ],
   "source": [
    "df.isnull()"
   ]
  },
  {
   "cell_type": "code",
   "execution_count": null,
   "metadata": {
    "colab": {
     "base_uri": "https://localhost:8080/",
     "height": 173
    },
    "executionInfo": {
     "elapsed": 484,
     "status": "ok",
     "timestamp": 1620540302996,
     "user": {
      "displayName": "HJ Kim",
      "photoUrl": "",
      "userId": "16634276932240017990"
     },
     "user_tz": -540
    },
    "id": "7PEFS6FHmEwx",
    "outputId": "ca588b8c-f40f-4a30-ccb0-b67b1588774c"
   },
   "outputs": [
    {
     "data": {
      "text/html": [
       "<div>\n",
       "<style scoped>\n",
       "    .dataframe tbody tr th:only-of-type {\n",
       "        vertical-align: middle;\n",
       "    }\n",
       "\n",
       "    .dataframe tbody tr th {\n",
       "        vertical-align: top;\n",
       "    }\n",
       "\n",
       "    .dataframe thead th {\n",
       "        text-align: right;\n",
       "    }\n",
       "</style>\n",
       "<table border=\"1\" class=\"dataframe\">\n",
       "  <thead>\n",
       "    <tr style=\"text-align: right;\">\n",
       "      <th></th>\n",
       "      <th>col1</th>\n",
       "      <th>col2</th>\n",
       "      <th>col3</th>\n",
       "      <th>col4</th>\n",
       "      <th>col5</th>\n",
       "      <th>col6</th>\n",
       "      <th>col7</th>\n",
       "    </tr>\n",
       "  </thead>\n",
       "  <tbody>\n",
       "    <tr>\n",
       "      <th>0</th>\n",
       "      <td>True</td>\n",
       "      <td>True</td>\n",
       "      <td>True</td>\n",
       "      <td>True</td>\n",
       "      <td>False</td>\n",
       "      <td>True</td>\n",
       "      <td>True</td>\n",
       "    </tr>\n",
       "    <tr>\n",
       "      <th>1</th>\n",
       "      <td>True</td>\n",
       "      <td>True</td>\n",
       "      <td>False</td>\n",
       "      <td>True</td>\n",
       "      <td>False</td>\n",
       "      <td>True</td>\n",
       "      <td>True</td>\n",
       "    </tr>\n",
       "    <tr>\n",
       "      <th>2</th>\n",
       "      <td>True</td>\n",
       "      <td>True</td>\n",
       "      <td>False</td>\n",
       "      <td>True</td>\n",
       "      <td>False</td>\n",
       "      <td>True</td>\n",
       "      <td>True</td>\n",
       "    </tr>\n",
       "    <tr>\n",
       "      <th>3</th>\n",
       "      <td>True</td>\n",
       "      <td>True</td>\n",
       "      <td>True</td>\n",
       "      <td>True</td>\n",
       "      <td>False</td>\n",
       "      <td>True</td>\n",
       "      <td>True</td>\n",
       "    </tr>\n",
       "  </tbody>\n",
       "</table>\n",
       "</div>"
      ],
      "text/plain": [
       "   col1  col2   col3  col4   col5  col6  col7\n",
       "0  True  True   True  True  False  True  True\n",
       "1  True  True  False  True  False  True  True\n",
       "2  True  True  False  True  False  True  True\n",
       "3  True  True   True  True  False  True  True"
      ]
     },
     "execution_count": 241,
     "metadata": {
      "tags": []
     },
     "output_type": "execute_result"
    }
   ],
   "source": [
    "df.notnull()"
   ]
  },
  {
   "cell_type": "markdown",
   "metadata": {
    "id": "4TE_i1vdwHss"
   },
   "source": [
    "열별 누락된 데이터의 개수가 궁금하다면, `df.notnull().sum()`을 하면 된다. "
   ]
  },
  {
   "cell_type": "code",
   "execution_count": null,
   "metadata": {
    "colab": {
     "base_uri": "https://localhost:8080/"
    },
    "executionInfo": {
     "elapsed": 571,
     "status": "ok",
     "timestamp": 1620540304366,
     "user": {
      "displayName": "HJ Kim",
      "photoUrl": "",
      "userId": "16634276932240017990"
     },
     "user_tz": -540
    },
    "id": "wtfiBCtjmIXX",
    "outputId": "035e455d-2589-4e56-d288-d1fb3d7291ee"
   },
   "outputs": [
    {
     "data": {
      "text/plain": [
       "col1    4\n",
       "col2    4\n",
       "col3    2\n",
       "col4    4\n",
       "col5    0\n",
       "col6    4\n",
       "col7    4\n",
       "dtype: int64"
      ]
     },
     "execution_count": 242,
     "metadata": {
      "tags": []
     },
     "output_type": "execute_result"
    }
   ],
   "source": [
    "df.notnull().sum()"
   ]
  },
  {
   "cell_type": "markdown",
   "metadata": {
    "id": "rP423B4Ik632"
   },
   "source": [
    "예제를 살펴보자. \n",
    "\n",
    "예제) 아래의 딕셔너리 `data`를 이용해 데이터프레임 `df`를 생성하여라. \n",
    "\n",
    "```\n",
    "data = {'A' : [1, 2, 3, 4, 5, 6], 'B' : [0, 2, 4, 6, 8, 10], 'C' : [2, 2, 2, 2, 2, 2]}\n",
    "```\n"
   ]
  },
  {
   "cell_type": "code",
   "execution_count": null,
   "metadata": {
    "colab": {
     "base_uri": "https://localhost:8080/",
     "height": 235
    },
    "executionInfo": {
     "elapsed": 448,
     "status": "ok",
     "timestamp": 1620540306293,
     "user": {
      "displayName": "HJ Kim",
      "photoUrl": "",
      "userId": "16634276932240017990"
     },
     "user_tz": -540
    },
    "id": "CAEDmeB__Z1_",
    "outputId": "60cda4b9-1b14-4dab-a930-8d481dd01ba7"
   },
   "outputs": [
    {
     "data": {
      "text/html": [
       "<div>\n",
       "<style scoped>\n",
       "    .dataframe tbody tr th:only-of-type {\n",
       "        vertical-align: middle;\n",
       "    }\n",
       "\n",
       "    .dataframe tbody tr th {\n",
       "        vertical-align: top;\n",
       "    }\n",
       "\n",
       "    .dataframe thead th {\n",
       "        text-align: right;\n",
       "    }\n",
       "</style>\n",
       "<table border=\"1\" class=\"dataframe\">\n",
       "  <thead>\n",
       "    <tr style=\"text-align: right;\">\n",
       "      <th></th>\n",
       "      <th>A</th>\n",
       "      <th>B</th>\n",
       "      <th>C</th>\n",
       "    </tr>\n",
       "  </thead>\n",
       "  <tbody>\n",
       "    <tr>\n",
       "      <th>0</th>\n",
       "      <td>1</td>\n",
       "      <td>0</td>\n",
       "      <td>2</td>\n",
       "    </tr>\n",
       "    <tr>\n",
       "      <th>1</th>\n",
       "      <td>2</td>\n",
       "      <td>2</td>\n",
       "      <td>2</td>\n",
       "    </tr>\n",
       "    <tr>\n",
       "      <th>2</th>\n",
       "      <td>3</td>\n",
       "      <td>4</td>\n",
       "      <td>2</td>\n",
       "    </tr>\n",
       "    <tr>\n",
       "      <th>3</th>\n",
       "      <td>4</td>\n",
       "      <td>6</td>\n",
       "      <td>2</td>\n",
       "    </tr>\n",
       "    <tr>\n",
       "      <th>4</th>\n",
       "      <td>5</td>\n",
       "      <td>8</td>\n",
       "      <td>2</td>\n",
       "    </tr>\n",
       "    <tr>\n",
       "      <th>5</th>\n",
       "      <td>6</td>\n",
       "      <td>10</td>\n",
       "      <td>2</td>\n",
       "    </tr>\n",
       "  </tbody>\n",
       "</table>\n",
       "</div>"
      ],
      "text/plain": [
       "   A   B  C\n",
       "0  1   0  2\n",
       "1  2   2  2\n",
       "2  3   4  2\n",
       "3  4   6  2\n",
       "4  5   8  2\n",
       "5  6  10  2"
      ]
     },
     "execution_count": 243,
     "metadata": {
      "tags": []
     },
     "output_type": "execute_result"
    }
   ],
   "source": [
    "data = {'A' : [1, 2, 3, 4, 5, 6], 'B' : [0, 2, 4, 6, 8, 10], 'C' : [2, 2, 2, 2, 2, 2]}\n",
    "df1 = pd.DataFrame(data)\n",
    "df1"
   ]
  },
  {
   "cell_type": "markdown",
   "metadata": {
    "id": "tn0zTxPyx9yb"
   },
   "source": [
    "* 데이터프레임을 복사한 다음 사용하고 싶다면, `copy()`를 사용하면 된다. "
   ]
  },
  {
   "cell_type": "code",
   "execution_count": null,
   "metadata": {
    "colab": {
     "base_uri": "https://localhost:8080/",
     "height": 235
    },
    "executionInfo": {
     "elapsed": 802,
     "status": "ok",
     "timestamp": 1620540308584,
     "user": {
      "displayName": "HJ Kim",
      "photoUrl": "",
      "userId": "16634276932240017990"
     },
     "user_tz": -540
    },
    "id": "4-r4Qbgx__DJ",
    "outputId": "36ba3732-3de6-4d9f-866a-5a4bc81cef39"
   },
   "outputs": [
    {
     "data": {
      "text/html": [
       "<div>\n",
       "<style scoped>\n",
       "    .dataframe tbody tr th:only-of-type {\n",
       "        vertical-align: middle;\n",
       "    }\n",
       "\n",
       "    .dataframe tbody tr th {\n",
       "        vertical-align: top;\n",
       "    }\n",
       "\n",
       "    .dataframe thead th {\n",
       "        text-align: right;\n",
       "    }\n",
       "</style>\n",
       "<table border=\"1\" class=\"dataframe\">\n",
       "  <thead>\n",
       "    <tr style=\"text-align: right;\">\n",
       "      <th></th>\n",
       "      <th>A</th>\n",
       "      <th>B</th>\n",
       "      <th>C</th>\n",
       "    </tr>\n",
       "  </thead>\n",
       "  <tbody>\n",
       "    <tr>\n",
       "      <th>0</th>\n",
       "      <td>1</td>\n",
       "      <td>0</td>\n",
       "      <td>2</td>\n",
       "    </tr>\n",
       "    <tr>\n",
       "      <th>1</th>\n",
       "      <td>2</td>\n",
       "      <td>2</td>\n",
       "      <td>2</td>\n",
       "    </tr>\n",
       "    <tr>\n",
       "      <th>2</th>\n",
       "      <td>3</td>\n",
       "      <td>4</td>\n",
       "      <td>2</td>\n",
       "    </tr>\n",
       "    <tr>\n",
       "      <th>3</th>\n",
       "      <td>4</td>\n",
       "      <td>6</td>\n",
       "      <td>2</td>\n",
       "    </tr>\n",
       "    <tr>\n",
       "      <th>4</th>\n",
       "      <td>5</td>\n",
       "      <td>8</td>\n",
       "      <td>2</td>\n",
       "    </tr>\n",
       "    <tr>\n",
       "      <th>5</th>\n",
       "      <td>6</td>\n",
       "      <td>10</td>\n",
       "      <td>2</td>\n",
       "    </tr>\n",
       "  </tbody>\n",
       "</table>\n",
       "</div>"
      ],
      "text/plain": [
       "   A   B  C\n",
       "0  1   0  2\n",
       "1  2   2  2\n",
       "2  3   4  2\n",
       "3  4   6  2\n",
       "4  5   8  2\n",
       "5  6  10  2"
      ]
     },
     "execution_count": 244,
     "metadata": {
      "tags": []
     },
     "output_type": "execute_result"
    }
   ],
   "source": [
    "df = df1.copy()\n",
    "df"
   ]
  },
  {
   "cell_type": "markdown",
   "metadata": {
    "id": "Q2LB5SMxyIb4"
   },
   "source": [
    "예제) 위에서 만든 `df`에서 인덱스는 4, 5이면서 열은 A인 값들을 `np.nan`으로 변경하여라. "
   ]
  },
  {
   "cell_type": "code",
   "execution_count": null,
   "metadata": {
    "colab": {
     "base_uri": "https://localhost:8080/",
     "height": 235
    },
    "executionInfo": {
     "elapsed": 638,
     "status": "ok",
     "timestamp": 1620540309865,
     "user": {
      "displayName": "HJ Kim",
      "photoUrl": "",
      "userId": "16634276932240017990"
     },
     "user_tz": -540
    },
    "id": "XO0EohT7_o0w",
    "outputId": "d98b46c4-584b-45db-e4b7-177fcbb61b41"
   },
   "outputs": [
    {
     "data": {
      "text/html": [
       "<div>\n",
       "<style scoped>\n",
       "    .dataframe tbody tr th:only-of-type {\n",
       "        vertical-align: middle;\n",
       "    }\n",
       "\n",
       "    .dataframe tbody tr th {\n",
       "        vertical-align: top;\n",
       "    }\n",
       "\n",
       "    .dataframe thead th {\n",
       "        text-align: right;\n",
       "    }\n",
       "</style>\n",
       "<table border=\"1\" class=\"dataframe\">\n",
       "  <thead>\n",
       "    <tr style=\"text-align: right;\">\n",
       "      <th></th>\n",
       "      <th>A</th>\n",
       "      <th>B</th>\n",
       "      <th>C</th>\n",
       "    </tr>\n",
       "  </thead>\n",
       "  <tbody>\n",
       "    <tr>\n",
       "      <th>0</th>\n",
       "      <td>1.0</td>\n",
       "      <td>0</td>\n",
       "      <td>2</td>\n",
       "    </tr>\n",
       "    <tr>\n",
       "      <th>1</th>\n",
       "      <td>2.0</td>\n",
       "      <td>2</td>\n",
       "      <td>2</td>\n",
       "    </tr>\n",
       "    <tr>\n",
       "      <th>2</th>\n",
       "      <td>3.0</td>\n",
       "      <td>4</td>\n",
       "      <td>2</td>\n",
       "    </tr>\n",
       "    <tr>\n",
       "      <th>3</th>\n",
       "      <td>4.0</td>\n",
       "      <td>6</td>\n",
       "      <td>2</td>\n",
       "    </tr>\n",
       "    <tr>\n",
       "      <th>4</th>\n",
       "      <td>NaN</td>\n",
       "      <td>8</td>\n",
       "      <td>2</td>\n",
       "    </tr>\n",
       "    <tr>\n",
       "      <th>5</th>\n",
       "      <td>NaN</td>\n",
       "      <td>10</td>\n",
       "      <td>2</td>\n",
       "    </tr>\n",
       "  </tbody>\n",
       "</table>\n",
       "</div>"
      ],
      "text/plain": [
       "     A   B  C\n",
       "0  1.0   0  2\n",
       "1  2.0   2  2\n",
       "2  3.0   4  2\n",
       "3  4.0   6  2\n",
       "4  NaN   8  2\n",
       "5  NaN  10  2"
      ]
     },
     "execution_count": 245,
     "metadata": {
      "tags": []
     },
     "output_type": "execute_result"
    }
   ],
   "source": [
    "df.loc[4:5, 'A'] = np.nan\n",
    "df"
   ]
  },
  {
   "cell_type": "markdown",
   "metadata": {
    "id": "Dg3pwXI-ykJW"
   },
   "source": [
    "예제) 위에서 만든 `df`에서 인덱스는 2, 3, 4, 5이면서 열은 C인 값들을 `np.nan`으로 변경하여라. "
   ]
  },
  {
   "cell_type": "code",
   "execution_count": null,
   "metadata": {
    "colab": {
     "base_uri": "https://localhost:8080/",
     "height": 235
    },
    "executionInfo": {
     "elapsed": 921,
     "status": "ok",
     "timestamp": 1620540311178,
     "user": {
      "displayName": "HJ Kim",
      "photoUrl": "",
      "userId": "16634276932240017990"
     },
     "user_tz": -540
    },
    "id": "1TsqbtBx_wKC",
    "outputId": "b40c4801-5fe3-4944-a5a6-7fb6144f9425"
   },
   "outputs": [
    {
     "data": {
      "text/html": [
       "<div>\n",
       "<style scoped>\n",
       "    .dataframe tbody tr th:only-of-type {\n",
       "        vertical-align: middle;\n",
       "    }\n",
       "\n",
       "    .dataframe tbody tr th {\n",
       "        vertical-align: top;\n",
       "    }\n",
       "\n",
       "    .dataframe thead th {\n",
       "        text-align: right;\n",
       "    }\n",
       "</style>\n",
       "<table border=\"1\" class=\"dataframe\">\n",
       "  <thead>\n",
       "    <tr style=\"text-align: right;\">\n",
       "      <th></th>\n",
       "      <th>A</th>\n",
       "      <th>B</th>\n",
       "      <th>C</th>\n",
       "    </tr>\n",
       "  </thead>\n",
       "  <tbody>\n",
       "    <tr>\n",
       "      <th>0</th>\n",
       "      <td>1.0</td>\n",
       "      <td>0</td>\n",
       "      <td>2.0</td>\n",
       "    </tr>\n",
       "    <tr>\n",
       "      <th>1</th>\n",
       "      <td>2.0</td>\n",
       "      <td>2</td>\n",
       "      <td>2.0</td>\n",
       "    </tr>\n",
       "    <tr>\n",
       "      <th>2</th>\n",
       "      <td>3.0</td>\n",
       "      <td>4</td>\n",
       "      <td>NaN</td>\n",
       "    </tr>\n",
       "    <tr>\n",
       "      <th>3</th>\n",
       "      <td>4.0</td>\n",
       "      <td>6</td>\n",
       "      <td>NaN</td>\n",
       "    </tr>\n",
       "    <tr>\n",
       "      <th>4</th>\n",
       "      <td>NaN</td>\n",
       "      <td>8</td>\n",
       "      <td>NaN</td>\n",
       "    </tr>\n",
       "    <tr>\n",
       "      <th>5</th>\n",
       "      <td>NaN</td>\n",
       "      <td>10</td>\n",
       "      <td>NaN</td>\n",
       "    </tr>\n",
       "  </tbody>\n",
       "</table>\n",
       "</div>"
      ],
      "text/plain": [
       "     A   B    C\n",
       "0  1.0   0  2.0\n",
       "1  2.0   2  2.0\n",
       "2  3.0   4  NaN\n",
       "3  4.0   6  NaN\n",
       "4  NaN   8  NaN\n",
       "5  NaN  10  NaN"
      ]
     },
     "execution_count": 246,
     "metadata": {
      "tags": []
     },
     "output_type": "execute_result"
    }
   ],
   "source": [
    "df.loc[2:5, 'C'] = np.nan\n",
    "df"
   ]
  },
  {
   "cell_type": "markdown",
   "metadata": {
    "id": "WYVgiOTAysp8"
   },
   "source": [
    "예제) 위에서 만든 `df`에서 누락된 값이 2개 이하인 열을 추출하여라. "
   ]
  },
  {
   "cell_type": "code",
   "execution_count": null,
   "metadata": {
    "colab": {
     "base_uri": "https://localhost:8080/",
     "height": 235
    },
    "executionInfo": {
     "elapsed": 824,
     "status": "ok",
     "timestamp": 1620540312099,
     "user": {
      "displayName": "HJ Kim",
      "photoUrl": "",
      "userId": "16634276932240017990"
     },
     "user_tz": -540
    },
    "id": "fJOnQEgv_4cw",
    "outputId": "b9c157cb-cce2-447a-cd6c-db203f3dfdb2"
   },
   "outputs": [
    {
     "data": {
      "text/html": [
       "<div>\n",
       "<style scoped>\n",
       "    .dataframe tbody tr th:only-of-type {\n",
       "        vertical-align: middle;\n",
       "    }\n",
       "\n",
       "    .dataframe tbody tr th {\n",
       "        vertical-align: top;\n",
       "    }\n",
       "\n",
       "    .dataframe thead th {\n",
       "        text-align: right;\n",
       "    }\n",
       "</style>\n",
       "<table border=\"1\" class=\"dataframe\">\n",
       "  <thead>\n",
       "    <tr style=\"text-align: right;\">\n",
       "      <th></th>\n",
       "      <th>A</th>\n",
       "      <th>B</th>\n",
       "      <th>C</th>\n",
       "    </tr>\n",
       "  </thead>\n",
       "  <tbody>\n",
       "    <tr>\n",
       "      <th>0</th>\n",
       "      <td>False</td>\n",
       "      <td>False</td>\n",
       "      <td>False</td>\n",
       "    </tr>\n",
       "    <tr>\n",
       "      <th>1</th>\n",
       "      <td>False</td>\n",
       "      <td>False</td>\n",
       "      <td>False</td>\n",
       "    </tr>\n",
       "    <tr>\n",
       "      <th>2</th>\n",
       "      <td>False</td>\n",
       "      <td>False</td>\n",
       "      <td>True</td>\n",
       "    </tr>\n",
       "    <tr>\n",
       "      <th>3</th>\n",
       "      <td>False</td>\n",
       "      <td>False</td>\n",
       "      <td>True</td>\n",
       "    </tr>\n",
       "    <tr>\n",
       "      <th>4</th>\n",
       "      <td>True</td>\n",
       "      <td>False</td>\n",
       "      <td>True</td>\n",
       "    </tr>\n",
       "    <tr>\n",
       "      <th>5</th>\n",
       "      <td>True</td>\n",
       "      <td>False</td>\n",
       "      <td>True</td>\n",
       "    </tr>\n",
       "  </tbody>\n",
       "</table>\n",
       "</div>"
      ],
      "text/plain": [
       "       A      B      C\n",
       "0  False  False  False\n",
       "1  False  False  False\n",
       "2  False  False   True\n",
       "3  False  False   True\n",
       "4   True  False   True\n",
       "5   True  False   True"
      ]
     },
     "execution_count": 247,
     "metadata": {
      "tags": []
     },
     "output_type": "execute_result"
    }
   ],
   "source": [
    "df.isnull()"
   ]
  },
  {
   "cell_type": "code",
   "execution_count": null,
   "metadata": {
    "colab": {
     "base_uri": "https://localhost:8080/"
    },
    "executionInfo": {
     "elapsed": 694,
     "status": "ok",
     "timestamp": 1620540313290,
     "user": {
      "displayName": "HJ Kim",
      "photoUrl": "",
      "userId": "16634276932240017990"
     },
     "user_tz": -540
    },
    "id": "XJ9PeWc9ARsI",
    "outputId": "280ac509-53a8-4c16-c731-d9a60b6472c6"
   },
   "outputs": [
    {
     "data": {
      "text/plain": [
       "A    2\n",
       "B    0\n",
       "C    4\n",
       "dtype: int64"
      ]
     },
     "execution_count": 248,
     "metadata": {
      "tags": []
     },
     "output_type": "execute_result"
    }
   ],
   "source": [
    "df.isnull().sum()"
   ]
  },
  {
   "cell_type": "code",
   "execution_count": null,
   "metadata": {
    "colab": {
     "base_uri": "https://localhost:8080/",
     "height": 235
    },
    "executionInfo": {
     "elapsed": 914,
     "status": "ok",
     "timestamp": 1620540314613,
     "user": {
      "displayName": "HJ Kim",
      "photoUrl": "",
      "userId": "16634276932240017990"
     },
     "user_tz": -540
    },
    "id": "0apWs42eAZcH",
    "outputId": "a58c43cc-3d96-458c-e9d0-5c561ae50809"
   },
   "outputs": [
    {
     "data": {
      "text/html": [
       "<div>\n",
       "<style scoped>\n",
       "    .dataframe tbody tr th:only-of-type {\n",
       "        vertical-align: middle;\n",
       "    }\n",
       "\n",
       "    .dataframe tbody tr th {\n",
       "        vertical-align: top;\n",
       "    }\n",
       "\n",
       "    .dataframe thead th {\n",
       "        text-align: right;\n",
       "    }\n",
       "</style>\n",
       "<table border=\"1\" class=\"dataframe\">\n",
       "  <thead>\n",
       "    <tr style=\"text-align: right;\">\n",
       "      <th></th>\n",
       "      <th>A</th>\n",
       "      <th>B</th>\n",
       "    </tr>\n",
       "  </thead>\n",
       "  <tbody>\n",
       "    <tr>\n",
       "      <th>0</th>\n",
       "      <td>1.0</td>\n",
       "      <td>0</td>\n",
       "    </tr>\n",
       "    <tr>\n",
       "      <th>1</th>\n",
       "      <td>2.0</td>\n",
       "      <td>2</td>\n",
       "    </tr>\n",
       "    <tr>\n",
       "      <th>2</th>\n",
       "      <td>3.0</td>\n",
       "      <td>4</td>\n",
       "    </tr>\n",
       "    <tr>\n",
       "      <th>3</th>\n",
       "      <td>4.0</td>\n",
       "      <td>6</td>\n",
       "    </tr>\n",
       "    <tr>\n",
       "      <th>4</th>\n",
       "      <td>NaN</td>\n",
       "      <td>8</td>\n",
       "    </tr>\n",
       "    <tr>\n",
       "      <th>5</th>\n",
       "      <td>NaN</td>\n",
       "      <td>10</td>\n",
       "    </tr>\n",
       "  </tbody>\n",
       "</table>\n",
       "</div>"
      ],
      "text/plain": [
       "     A   B\n",
       "0  1.0   0\n",
       "1  2.0   2\n",
       "2  3.0   4\n",
       "3  4.0   6\n",
       "4  NaN   8\n",
       "5  NaN  10"
      ]
     },
     "execution_count": 249,
     "metadata": {
      "tags": []
     },
     "output_type": "execute_result"
    }
   ],
   "source": [
    "df.loc[:, df.isnull().sum() < 3]"
   ]
  },
  {
   "cell_type": "markdown",
   "metadata": {
    "id": "tFx3yd26B458"
   },
   "source": [
    "# 넘파이Numpy 요약\n",
    "\n",
    "* 넘파이 <font color=\"red\">모듈 임포트</font> : `import numpy as np`\n",
    "* 넘파이 <font color=\"red\">어레이 생성</font>\n",
    "    * 수동 생성 : `np.array()` 이용. 인자로는 리스트, 튜플 사용 가능\n",
    "    * 자동 생성  \n",
    "      * `np.arange()` : `range()`함수와 사용법 비슷. 예) `np.arange(3)` #[0, 1, 2]    \n",
    "      * `np.ones()` : 1로 채워진 어레이 생성. 예) `np.ones((3, 4))` #모든 항목이 1인 3*4모양의 2차원 행렬에 대응하는 어레이   \n",
    "      * `np.zeros()` : 0으로 채워진 어레이 생성. 예) `np.zeros((3, 4))`  #모든 항목이 0인 3*4모양의 2차원 행렬에 대응하는 어레이  \n",
    "      * `np.eye()` : 대각선은 1이고, 나머지는 0인 단위행렬에 해당하는 어레이 생성. 예) `np.eye(3)`  \n",
    "      * `np.diag()` : 대각선 외에는 모두0인 대각행렬에 해당하는 어레이 생성. 인자로는 리스트, 튜플, 넘파이 어레이 사용 가능. 예) `np.diag([1, 2, 3, 4])`  \n",
    "      * `np.random.rand()` : 균등분포 방식 사용한 난수로 구성된 어레이 생성. 예) `np.random.rand(3)` 또는 `np.random.rand(2, 3)`  \n",
    "      * `np.random.randn()` : 표준정규분포 방식 사용한 난수로 구성된 어레이 생성. 예) `np.random.randn(3)` 또는 `np.random.randn(2, 3)`  \n",
    "\n",
    "* 넘파이 어레이 항목의 <font color=\"red\">자료형 확인</font> : `dtype`속성 이용. 예) `arr.dtype`\n",
    "* 넘파이 어레이 <font color=\"red\">차원 확인</font> : `shape`속성 확인 또는 `np.shape()`함수 사용. 예) `arr.shape` 또는 `np.shape(arr)`\n",
    "\n",
    "* 넘파이 어레이 <font color=\"red\">모양 변경</font> : `reshape()`. 예) `arr.reshape((2, 3))` #어레이를 2*3모양으로 변경 \n",
    "* 넘파이 <font color=\"red\">어레이 연산</font> : `+`, `-`, `*`, `/` 가능. 각 항목별로 연산함. \n",
    "* 넘파이 어레이 <font color=\"red\">인덱싱과 슬라이싱</font> : `[]`사용. <font color=\"blue\">슬라이싱에서는 끝점 모두 포함!!!</font> 예) 2차원 어레이 `arr2d`에서 `arr2d[1:4]`는 1번 행부터 4번 행까지 추출, `arr2d[:2, 3:]`는 행은 처음부터 2행이고, 열은 3열부터 끝까지를 반복하는 항목 추출. \n",
    "* 넘파이 어레이 <font color=\"red\">불리언 인덱싱</font> : 예) `arr < 5`는 어레이의 항목이 5보다 작으면 `True` 아니면 `False`반환. `arr[arr < 5]`를 하면, `arr < 5`가 True인 항목 추출   \n",
    "  * <font color=\"red\">여러 개의 불리언 조건을 조합</font>할 때는 `and`, `or` 대신 `&`와 `|` 사용. \n",
    "\n",
    "* 넘파이 어레이의 <font color=\"red\">행과 열을 서로 바꿀 때</font>는 `T` 사용. 예) `arr.T`\n",
    "\n",
    "* 넘파이 어레이 <font color=\"red\">복사</font> : `copy()` 메서드 사용. 예) `arr.copy()`"
   ]
  },
  {
   "cell_type": "markdown",
   "metadata": {
    "id": "IARVttk2B83c"
   },
   "source": [
    "# 판다스Pandas 요약[시리즈]\n",
    "\n",
    "* 판다스 <font color=\"red\">모듈 임포트</font> : `import pandas as pd`\n",
    "* <font color=\"red\">시리즈 생성</font> : `pd.Series()`이용. 인자로는 리스트, 튜플, 넘파이 어레이, 딕셔너리 사용 가능. 시리즈 생성할 때, 인덱스를 지정하지 않으면 0에서 n-1의 기본 인덱스로 지정. 예) `pd.Series(자료)`\n",
    "  * `pd.Series([1, 2, 3])` \n",
    "  * `pd.Series((1, 2, 3), index = ['a', 'b', 'c'])`\n",
    "  * `pd.Series({'b' : 1, 'c' : 3, 'a' : 6, 'd' : 5})` : key는 인덱스, value는 값\n",
    "\n",
    "\n",
    "* 시리즈 <font color=\"red\">배열과 인덱스 가져오기</font> : `values`와 `index` 속성 이용. 예) `sr.values`, `sr.index` \n",
    "* 시리즈 <font color=\"red\">인덱싱과 슬라이싱</font> : 인덱스 이용. 예) `sr[인덱스]` \n",
    "  * `sr['a']` : `a`가 인덱스인 경우 \n",
    "  * `sr[0]` : `0`이 인덱스인 경우 \n",
    "  * `sr[['c', 'd']]` : 리스트로 여러 개 인덱스 사용 가능 \n",
    "  * `sr['c' : 'd']` : 인덱스 `c`부터 `d`까지. 끝 값 포함!!!.\n",
    "* 시리즈 <font color=\"red\">불리언 인덱싱</font> : `sr[sr > 3]` # `sr`의 항목이 3보다 큰 항목을 가져옴.  \n",
    "* `NaN` : not a number로 누락된 값 또는 <font color=\"red\">결측치</font>를 의미함.  \n",
    "* `pd.isnull()` 또는 `isnull()`메서드: 누락된 데이터는 `True`, 아니면 `False`를 반환. 예) `pd.isnull(sr)` 또는 `sr.isnull()`\n",
    "* `pd.notnull()` 또는 `notnull()`메서드: 누락된 데이터는 `False`, 아니면 `True`를 반환. 예) `pd.notnull(sr)` 또는 `sr.notnull()`\n",
    "* 시리즈 <font color=\"red\">복사</font> : `copy()` 메서드 사용. 예) `sr.copy()`"
   ]
  },
  {
   "cell_type": "markdown",
   "metadata": {
    "id": "bG5xIevyMyyv"
   },
   "source": [
    "# 판다스Pandas 요약[데이터프레임]\n",
    "\n",
    "* 판다스 <font color=\"red\">모듈 임포트</font> : `import pandas as pd`\n",
    "* <font color=\"red\">데이터프레임 생성</font> : `pd.DataFrame()` 이용. 예) `pd.DataFrame(자료)`  \n",
    "  * `pd.DataFrame({'col1' : [1, 2, 3, 4], 'col2' : [5, 6, 7, 8], 'col3' : [9, 10, 11, 12]})` : key는 열column이름, value는 각 열의 값. \n",
    "  * `pd.DataFrame({'one' : {2019:1, 2020:11, 2021:111}, 'two' : {2020:22, 2021:222}})` : 바깥에 있는 딕셔너리의 key가 데이터 프레임의 열column이 되고, 안에 있는 딕셔너리의 키는 딕셔너리의 행row(인덱스).  \n",
    "  * 여러 개의 리스트를 합하여 데이터프레임 생성하는 방법 : `zip()` 함수 이용. \n",
    "    * `pd.DataFrame(zip(리스트1, 리스트2, ..., 리스트n))`\n",
    "    \n",
    "\n",
    "* 데이터 프레임의 각 <font color=\"red\">열의 자료형 확인</font> : `dtypes` 속성 이용. 예) `df.dtypes`\n",
    "* 데이터 프레임의 <font color=\"red\">열 이름 확인</font> : `columns` 속성 이용. 예) `df.columns`  \n",
    "* 원하는 <font color=\"red\">열 지정하기</font> : `columns` 속성 지정. 예)  `pd.DataFrame(data, columns = ['col1', 'col2'])`   \n",
    "\n",
    "* 데이터프레임의 <font color=\"red\">인덱스 확인</font> : `index` 이용. 예) `df.index`  \n",
    "* <font color=\"red\">인덱스 지정하기</font> : `index` 속성 지정. 예)  `pd.DataFrame(data, index = ['a', 'b', 'c'])`   \n",
    "\n",
    "* 데이터프레임의 <font color=\"red\">특정 열에 접근</font>하기\n",
    "  * `df[열의이름]`  예) `df['col2']`\n",
    "  * `df.열의이름`   예) `df.col2`   #열의 이름에 공백이 있을 때는 이 방식 사용 못함. \n",
    "\n",
    "* 데이터프레임의 <font color=\"red\">특정 행(인덱스) 또는 열에 접근</font>하기 : `loc[]`이용\n",
    "  * `df.loc[인덱스명]` : 인덱스명에 해당하는 행 추출. 예) `df.loc[2]`, `df.loc['two']`\n",
    "  * `df.loc[인덱스명, 열의이름]` : 해당 인덱스와 열인 값을 추출. 예) `df.loc[2, 'col2']` \n",
    "  * 여러 개의 행(인덱스)과 열을 선택하고 싶다면, 슬라이싱이나 리스트 이용. 예) `df.loc[1:3, 'col2']` : 행은 1부터 3이면서 열은 col2인 값을 선택 , `df.loc[[1, 2], ['col1', 'col2']]`\n",
    "\n",
    "* <font color=\"red\">불리언 인덱싱</font>\n",
    "  * `df[df.col3 > 10]` : `df`의 col3열의 10보다 큰 자료들을 추출\n",
    "\n",
    "* 데이터프레임 <font color=\"red\">열 추가</font>: `데이터프레임명[열의이름] = 값`\n",
    "\n",
    "* 데이터프레임 <font color=\"red\">길이 확인</font> : `len()` 함수 이용. 예) `len(df)`\n",
    "* <font color=\"red\">데이터 확인</font> \n",
    "  * `head()` : 처음 5개의 행을 보여준다. 인자를 입력하면, 처음부터 그 만큼의 행을 보여준다. 예) `df.head()` 또는 `df.head(10)`  \n",
    "  * `tail()` : 끝 5개의 행을 보여준다. 인자를 입력하면, 끝에서부터 그 만큼의 행을 보여준다. 예) `df.tail()`  \n",
    "  * 인덱싱, 슬라이싱으로도 확인 가능. 예) `df[:10]`\n",
    "\n",
    "* 데이터프레임의 <font color=\"red\">열 또는 행의 합 구하기</font> : `sum()` 메서드\n",
    "  * `df.sum()` : 열의 합\n",
    "  * `df.sum(axis = 1)` : 행의 합\n",
    "\n",
    "* `pd.isnull()` 또는 `isnull()`메서드: <font color=\"red\">누락된 데이터</font>는 `True`, 아니면 `False`를 반환. 예) `pd.isnull(df)` 또는 `df.isnull()`\n",
    "* `pd.notnull()` 또는 `notnull()`메서드: 누락된 데이터는 `False`, 아니면 `True`를 반환. 예) `pd.notnull(df)` 또는 `df.notnull()`\n",
    "\n",
    "* 열별로 <font color=\"red\">누락된 데이터의 개수</font>가 궁금하면 : `df.notnull().sum()`\n",
    "\n",
    "* 데이터프레임 <font color=\"red\">복사</font> : `copy()` 메서드 사용. 예) `df.copy()`\n"
   ]
  }
 ],
 "metadata": {
  "colab": {
   "authorship_tag": "ABX9TyNrEYxOfWM642/HNdf9/W9x",
   "collapsed_sections": [],
   "name": "강의노트12(넘파이&판다스1).ipynb",
   "provenance": []
  },
  "kernelspec": {
   "display_name": "Python 3 (ipykernel)",
   "language": "python",
   "name": "python3"
  },
  "language_info": {
   "codemirror_mode": {
    "name": "ipython",
    "version": 3
   },
   "file_extension": ".py",
   "mimetype": "text/x-python",
   "name": "python",
   "nbconvert_exporter": "python",
   "pygments_lexer": "ipython3",
   "version": "3.8.10"
  }
 },
 "nbformat": 4,
 "nbformat_minor": 4
}
