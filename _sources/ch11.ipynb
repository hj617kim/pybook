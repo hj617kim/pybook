{
 "cells": [
  {
   "cell_type": "markdown",
   "id": "20bc3eaa-21bb-48a8-a793-8990d9bfeef0",
   "metadata": {},
   "source": [
    "# 모음 자료형"
   ]
  },
  {
   "cell_type": "markdown",
   "id": "a33b01f6-89fe-4845-b67e-f43db3e87f5e",
   "metadata": {},
   "source": [
    "이번 장에서는 여러 개의 값을 묶어 하나의 값으로 다루는 기본 모음 자료형<font size = \"2\">Collection Data Types</font>에 대해서 살펴보자.  \n",
    "\n",
    "* 시퀀스형 <font size = \"2\">Sequence Tpyes</font>\n",
    "    * 불변 시퀀스 <font size = \"2\">Immutable Sequences</font>\n",
    "        * 문자열 <font size = \"2\">`str`</font>\n",
    "        * 튜플 <font size = \"2\">`tuple`</font> \n",
    "    * 가변 시퀀스 <font size = \"2\">Mutable Sequence</font>\n",
    "        * 리스트 <font size = \"2\">`list`</font>\n",
    "* 집합형 <font size = \"2\">Set Types</font>\n",
    "    * 집합 <font size = \"2\">`set`</font>  \n",
    "  \n",
    "* 매핑형 <font size = \"2\">Mapping Types</font>\n",
    "    * 사전 <font size = \"2\">`dict`</font>"
   ]
  },
  {
   "cell_type": "markdown",
   "id": "9b66cbde-3455-4978-b598-ef413c8bbd78",
   "metadata": {},
   "source": [
    ":::{admonition} 참고  \n",
    ":class: info    \n",
    "한 번 정해지면 절대 변경이 불가능한 자료형을 불변<font size = \"2\">immutable</font> 자료형, 변경이 가능한 자료형을 가변<font size = \"2\">mutable</font> 자료형이라 부른다.   \n",
    "\n",
    "|자료형|불변/가변|\n",
    "|:----------:|:----------:|\n",
    "|정수 `int`|불변|\n",
    "|부동소수점 `float`|불변|\n",
    "|불리언 `bool`|불변|\n",
    "|문자열 `str`|불변|\n",
    "|리스트 `list`|가변|\n",
    "|튜플 `tuple`|불변|\n",
    "|집합 `set`|가변|\n",
    "|사전 `dict`|가변|  \n",
    "\n",
    ":::"
   ]
  },
  {
   "cell_type": "markdown",
   "id": "2b26c8d6-5021-4c43-ba5f-40f24c8f4eef",
   "metadata": {},
   "source": [
    "## 시퀀스형"
   ]
  },
  {
   "cell_type": "markdown",
   "id": "9cb71813-6d38-490d-baaf-2fcedd9f1c8c",
   "metadata": {},
   "source": [
    "시퀀스형 <font size = \"2\">Sequence Types 또는 순차 자료형</font>은 값들 사이에 순서를 가지고 있고, 항목의 중복 사용을 허용하는 모음 자료형이다.  \n",
    "예를 들어, 문자열 `str`, 리스트 `list`, 튜플 `tuple` 등이 시퀀스형이다.  "
   ]
  },
  {
   "cell_type": "markdown",
   "id": "2716c583-6763-4139-9441-ad37cdcba697",
   "metadata": {
    "tags": []
   },
   "source": [
    "### 문자열 `str`"
   ]
  },
  {
   "cell_type": "markdown",
   "id": "e004037e-44bc-44dc-aeba-c30655ab83ba",
   "metadata": {},
   "source": [
    "문자들을 나열한 값들을 일컫는 자료형으로 작은 따옴표(`'`) 또는 큰 따옴표(`\"`)를 사용한다. "
   ]
  },
  {
   "cell_type": "code",
   "execution_count": 63,
   "id": "525a465a-ee40-4b7c-9b79-75ee42b27fa1",
   "metadata": {},
   "outputs": [
    {
     "data": {
      "text/plain": [
       "'Hello, Python!'"
      ]
     },
     "execution_count": 63,
     "metadata": {},
     "output_type": "execute_result"
    }
   ],
   "source": [
    "'Hello, Python!'"
   ]
  },
  {
   "cell_type": "code",
   "execution_count": 64,
   "id": "bc6937ba-a717-42e1-bace-4451636226f7",
   "metadata": {},
   "outputs": [
    {
     "data": {
      "text/plain": [
       "'Hello, Python!'"
      ]
     },
     "execution_count": 64,
     "metadata": {},
     "output_type": "execute_result"
    }
   ],
   "source": [
    "\"Hello, Python!\""
   ]
  },
  {
   "cell_type": "markdown",
   "id": "22cbe0f4-3f07-499f-a9b8-c297f8a3ed96",
   "metadata": {},
   "source": [
    "#### **빈 문자열**\n",
    "빈 문자열<font size = \"2\">empty string</font>은 아무것도 포함하지 않는 문자열을 의미한다. 빈 문자열을 만드는 방법은 아래와 같다. "
   ]
  },
  {
   "cell_type": "code",
   "execution_count": 18,
   "id": "11a9754c-a02d-4829-9e4c-6867b63783d5",
   "metadata": {},
   "outputs": [
    {
     "data": {
      "text/plain": [
       "''"
      ]
     },
     "execution_count": 18,
     "metadata": {},
     "output_type": "execute_result"
    }
   ],
   "source": [
    "empty_str = '' # 또는 \"\"\n",
    "empty_str = str()\n",
    "empty_str"
   ]
  },
  {
   "cell_type": "markdown",
   "id": "1441e7a6-db5f-421c-b726-2aa4d8d0d807",
   "metadata": {},
   "source": [
    ":::{admonition} `''`과 `' '`의 차이  \n",
    ":class: info  \n",
    "`''`은 빈문자열로 어떠한 문자도 포함하고 있지 않다. 반면 `' '`은 눈에 보이지는 않지만 공백 문자 하나를 포함하는 문자열이다.\n",
    ":::"
   ]
  },
  {
   "cell_type": "markdown",
   "id": "ef03147a-571b-44f1-91ff-1c28553a2cb7",
   "metadata": {},
   "source": [
    "#### **부분 문자열 여부 연산자** \n",
    "* `in` : 연산자 왼쪽에 있는 문자열이 오른쪽에 있는 문자열의 부분 문자열로 등장하는지 여부를 알려주는 논리 연산자\n",
    "* `not in` : 연산자 왼쪽에 있는 문자열이 오른쪽에 있는 문자열의 부분 문자열로 등장하지 않는지 여부를 알려주는 논리 연산자"
   ]
  },
  {
   "cell_type": "code",
   "execution_count": 45,
   "id": "63a47eca-2b86-43a2-922b-15737456566c",
   "metadata": {},
   "outputs": [
    {
     "data": {
      "text/plain": [
       "True"
      ]
     },
     "execution_count": 45,
     "metadata": {},
     "output_type": "execute_result"
    }
   ],
   "source": [
    "'app' in 'apple'"
   ]
  },
  {
   "cell_type": "code",
   "execution_count": 46,
   "id": "de58bd8b-3025-4b11-bb76-3b93cfdcd89e",
   "metadata": {},
   "outputs": [
    {
     "data": {
      "text/plain": [
       "False"
      ]
     },
     "execution_count": 46,
     "metadata": {},
     "output_type": "execute_result"
    }
   ],
   "source": [
    "'h' in 'banana' "
   ]
  },
  {
   "cell_type": "code",
   "execution_count": 48,
   "id": "29c2b593-6072-4bbc-ac7c-40c7ccba90f8",
   "metadata": {},
   "outputs": [
    {
     "data": {
      "text/plain": [
       "True"
      ]
     },
     "execution_count": 48,
     "metadata": {},
     "output_type": "execute_result"
    }
   ],
   "source": [
    "'a' not in 'coconut'"
   ]
  },
  {
   "cell_type": "markdown",
   "id": "702cb6f8-ab2e-431f-99fa-06388f12afa1",
   "metadata": {},
   "source": [
    "#### `len()` 함수\n",
    "`len()`함수 : 문자열의 길이 확인"
   ]
  },
  {
   "cell_type": "code",
   "execution_count": 51,
   "id": "ad740dbc-0b72-49b2-88b7-6d3085859926",
   "metadata": {},
   "outputs": [
    {
     "data": {
      "text/plain": [
       "5"
      ]
     },
     "execution_count": 51,
     "metadata": {},
     "output_type": "execute_result"
    }
   ],
   "source": [
    "len('apple')"
   ]
  },
  {
   "cell_type": "code",
   "execution_count": 53,
   "id": "148ebd23-17b6-41c2-be44-cd1716938d3a",
   "metadata": {},
   "outputs": [
    {
     "data": {
      "text/plain": [
       "13"
      ]
     },
     "execution_count": 53,
     "metadata": {},
     "output_type": "execute_result"
    }
   ],
   "source": [
    "len('hello, world!')"
   ]
  },
  {
   "cell_type": "markdown",
   "id": "149bf847-d8de-4130-b450-c9d6fd297ce2",
   "metadata": {},
   "source": [
    "#### 최대, 최소 함수  \n",
    "* `max()` 함수 : 최댓값 확인"
   ]
  },
  {
   "cell_type": "markdown",
   "id": "3391489b-3919-4702-816f-30e0f9f461e8",
   "metadata": {},
   "source": [
    ":::{admonition} 참고    \n",
    ":class: info  \n",
    "문자열은 사전식의 순서를 사용하며, 공백문자가 가장 작고,  \n",
    "영어 알파벳의 경우 대문자가 소문자보다 작다고 판단한다.\n",
    ":::"
   ]
  },
  {
   "cell_type": "code",
   "execution_count": 54,
   "id": "098bcf8e-73c2-4662-8fc1-7503b1a25aac",
   "metadata": {},
   "outputs": [
    {
     "data": {
      "text/plain": [
       "'p'"
      ]
     },
     "execution_count": 54,
     "metadata": {},
     "output_type": "execute_result"
    }
   ],
   "source": [
    "max('apple')"
   ]
  },
  {
   "cell_type": "code",
   "execution_count": 61,
   "id": "9c220563-8634-47f3-b0d2-160c4a1cf54f",
   "metadata": {},
   "outputs": [
    {
     "data": {
      "text/plain": [
       "'r'"
      ]
     },
     "execution_count": 61,
     "metadata": {},
     "output_type": "execute_result"
    }
   ],
   "source": [
    "max('Hello, World!')"
   ]
  },
  {
   "cell_type": "markdown",
   "id": "0e4c8209-93dc-4e11-9a5d-2be669c75973",
   "metadata": {},
   "source": [
    "* `min()` 함수 : 최솟값 확인"
   ]
  },
  {
   "cell_type": "code",
   "execution_count": 50,
   "id": "8a23bb3b-bad7-4ae3-8b79-b5c28d927f13",
   "metadata": {},
   "outputs": [
    {
     "data": {
      "text/plain": [
       "'a'"
      ]
     },
     "execution_count": 50,
     "metadata": {},
     "output_type": "execute_result"
    }
   ],
   "source": [
    "min('banana')"
   ]
  },
  {
   "cell_type": "code",
   "execution_count": 62,
   "id": "b057aa20-c04f-43ec-b074-f2098dfcb78a",
   "metadata": {},
   "outputs": [
    {
     "data": {
      "text/plain": [
       "' '"
      ]
     },
     "execution_count": 62,
     "metadata": {},
     "output_type": "execute_result"
    }
   ],
   "source": [
    "min('Hello, World!')"
   ]
  },
  {
   "cell_type": "markdown",
   "id": "2dd0b131-2d1a-44d2-863b-9adc522bfb35",
   "metadata": {},
   "source": [
    "#### **인덱싱** "
   ]
  },
  {
   "cell_type": "markdown",
   "id": "7e2163b4-73a7-4cea-bc46-a1dbfd2b1734",
   "metadata": {},
   "source": [
    "문자열에 사용되는 모든 문자는 인덱스<font size = \"2\">index</font>라는 고유한 번호를 갖는다. \n",
    "\n",
    "* 인덱스는 0부터 시작하며, 오른쪽으로 한 문자씩 이동할 때마다 증가한다.  \n",
    "\n",
    "문자열의 특정 문자를 가져오고 싶을 때는 인덱싱<font size = \"2\">Indexing</font>을 사용한다. 인덱싱은 다음과 같이 실행한다. \n",
    "\n",
    "```python\n",
    "문자열변수명[인덱스]\n",
    "```\n",
    "\n",
    "* 특정 인덱스 값의 문자 정보를 확인할 때는 대괄호(`[]`)를 사용한다. "
   ]
  },
  {
   "cell_type": "code",
   "execution_count": 70,
   "id": "de723b8e-dd1e-4c80-90ed-6af4b6f4d7d9",
   "metadata": {},
   "outputs": [
    {
     "name": "stdout",
     "output_type": "stream",
     "text": [
      "r\n",
      "b\n"
     ]
    }
   ],
   "source": [
    "colors = 'red, blue, yellow'\n",
    "print(colors[0]) #0번 인덱스 값\n",
    "print(colors[5]) #3번 인덱스 값"
   ]
  },
  {
   "cell_type": "markdown",
   "id": "b16af555-bbcc-49a0-8ba5-342ca228f45b",
   "metadata": {},
   "source": [
    ":::{admonition} 주의  \n",
    ":class: caution  \n",
    "\n",
    "문자열의 길이와 같거나 큰 인덱스를 사용하면 오류가 발생한다. \n",
    "```python\n",
    ">>> len(colors)\n",
    "17\n",
    ">>> colors[50]\n",
    "IndexError                                Traceback (most recent call last)\n",
    "/tmp/ipykernel_1817/3232567937.py in <module>\n",
    "----> 1 colors[50]\n",
    "\n",
    "IndexError: string index out of range\n",
    "```\n",
    ":::"
   ]
  },
  {
   "cell_type": "markdown",
   "id": "8506ec44-2520-41f4-bbc2-60377c4b690d",
   "metadata": {},
   "source": [
    "* 인덱스 값으로 음의 정수를 사용할 수 있다. 파이썬에서는 -1을 마지막 문자의 인덱스로 사용하고, 왼쪽으로 한 문자씩 이동할 때마다 감소한다.  "
   ]
  },
  {
   "cell_type": "code",
   "execution_count": 74,
   "id": "26acb0f9-7101-4b28-8e62-5dcd3f21e171",
   "metadata": {},
   "outputs": [
    {
     "data": {
      "text/plain": [
       "'w'"
      ]
     },
     "execution_count": 74,
     "metadata": {},
     "output_type": "execute_result"
    }
   ],
   "source": [
    "colors[-1]"
   ]
  },
  {
   "cell_type": "code",
   "execution_count": 75,
   "id": "d1eb06f0-b20f-44c6-8a24-bed25dfc5c9c",
   "metadata": {},
   "outputs": [
    {
     "data": {
      "text/plain": [
       "'o'"
      ]
     },
     "execution_count": 75,
     "metadata": {},
     "output_type": "execute_result"
    }
   ],
   "source": [
    "colors[-2]"
   ]
  },
  {
   "cell_type": "markdown",
   "id": "475eb3aa-128e-4fa6-9f35-861298251b4d",
   "metadata": {
    "tags": []
   },
   "source": [
    "#### 슬라이싱 \n",
    "문자열의 하나의 문자가 아닌 특정 구간 및 부분을 가져올 때는 슬라이싱<font size = \"2\">Slicing</font>을 사용한다.   \n",
    "슬라이싱은 다음과 같이 실행한다.  \n",
    "* 시작인덱스 : 해당 인덱스부터 문자를 추출한다.   \n",
    "* 끝인덱스 : 해당 인덱스 전까지의 문자를 추출한다.   \n",
    "* 계단<font size = \"2\"></font> : 시작인덱스부터 몇 계단씩 건너뛰며 문자를 추출할지 결정한다. 예를 들어, 계단값이 2라면 하나 건너 추출한다.   \n",
    "\n",
    "```python\n",
    "문자열변수명[시작인덱스 : 끝인덱스 : 계단(step)]\n",
    "```  \n",
    "    "
   ]
  },
  {
   "cell_type": "code",
   "execution_count": 76,
   "id": "3deb7875-f780-4e3d-9da1-0eaef0a0e30f",
   "metadata": {},
   "outputs": [],
   "source": [
    "colors = 'red, blue, yellow'"
   ]
  },
  {
   "cell_type": "markdown",
   "id": "532faca0-dda3-4ea7-b4f9-482902995b5d",
   "metadata": {},
   "source": [
    "`colors`에서 `red`를 추출하고 싶다면 다음과 같이 하면 된다. "
   ]
  },
  {
   "cell_type": "code",
   "execution_count": 79,
   "id": "685be4cd-5dad-42f9-a4ae-f323e7401d9c",
   "metadata": {},
   "outputs": [
    {
     "data": {
      "text/plain": [
       "'red'"
      ]
     },
     "execution_count": 79,
     "metadata": {},
     "output_type": "execute_result"
    }
   ],
   "source": [
    "colors[0 : 3 : 1]"
   ]
  },
  {
   "cell_type": "markdown",
   "id": "04bbf46c-b760-4a26-ac95-a4645d15a42f",
   "metadata": {},
   "source": [
    "`colors`에서 `b`부터 끝까지 하나씩 건너서 추출하려면 다음과 같이 하면 된다. "
   ]
  },
  {
   "cell_type": "code",
   "execution_count": 80,
   "id": "0fbf8716-9100-4773-89ca-8a0c2613f94e",
   "metadata": {},
   "outputs": [
    {
     "data": {
      "text/plain": [
       "'bu,ylo'"
      ]
     },
     "execution_count": 80,
     "metadata": {},
     "output_type": "execute_result"
    }
   ],
   "source": [
    "colors[5 : len(colors) : 2]"
   ]
  },
  {
   "cell_type": "markdown",
   "id": "efec1ae4-3f54-4cf0-bca0-8d241ac847ec",
   "metadata": {},
   "source": [
    "양의 정수와 음의 정수를 섞어서 인덱스로 사용할 수 있다."
   ]
  },
  {
   "cell_type": "code",
   "execution_count": 87,
   "id": "b052d9aa-3b54-4cb3-b9e4-d15c75256aa0",
   "metadata": {},
   "outputs": [
    {
     "data": {
      "text/plain": [
       "'bu,ylo'"
      ]
     },
     "execution_count": 87,
     "metadata": {},
     "output_type": "execute_result"
    }
   ],
   "source": [
    "colors[5 : -1 : 2]"
   ]
  },
  {
   "cell_type": "markdown",
   "id": "0e8b7ab3-1f93-410b-ac0c-ddbe8852e673",
   "metadata": {},
   "source": [
    "* 시작인덱스, 끝인덱스, 계단 각각의 인자는 경우에 따라 생략될 수도 있다. 그럴 때는 각각의 위치에 기본값<font size = \"2\">default</font>이 들어 있는 것으로 처리되며, 기본값은 다음과 같다.  \n",
    "    * `시작인덱스`의 기본값 : `0`  \n",
    "    * `끝인덱스`의 기본값 : 문자열의 길이  \n",
    "    * `계단`의 기본값 : `1`"
   ]
  },
  {
   "cell_type": "code",
   "execution_count": 81,
   "id": "b68bdf86-3456-4d2c-a86d-658976afbab5",
   "metadata": {},
   "outputs": [
    {
     "data": {
      "text/plain": [
       "'red'"
      ]
     },
     "execution_count": 81,
     "metadata": {},
     "output_type": "execute_result"
    }
   ],
   "source": [
    "colors[ : 3 : ]"
   ]
  },
  {
   "cell_type": "code",
   "execution_count": 84,
   "id": "72a27176-e35e-42de-b7eb-7ba7e9b3349a",
   "metadata": {},
   "outputs": [
    {
     "data": {
      "text/plain": [
       "'red'"
      ]
     },
     "execution_count": 84,
     "metadata": {},
     "output_type": "execute_result"
    }
   ],
   "source": [
    "colors[ : 3] #계단을 생략할 떄는 콜론(:)도 함께 생략가능"
   ]
  },
  {
   "cell_type": "code",
   "execution_count": 82,
   "id": "cf5a572d-1b74-4152-90ba-972ba12fd1ff",
   "metadata": {},
   "outputs": [
    {
     "data": {
      "text/plain": [
       "'bu,ylo'"
      ]
     },
     "execution_count": 82,
     "metadata": {},
     "output_type": "execute_result"
    }
   ],
   "source": [
    "colors[5 : : 2]"
   ]
  },
  {
   "cell_type": "markdown",
   "id": "23182c4f-5aa7-4e79-b5da-9d7c6f4b2053",
   "metadata": {},
   "source": [
    ":::{admonition} 참고  \n",
    ":class: info   \n",
    "슬라이싱은 기본적으로 작은 인덱스에서 큰 인덱스 방향으로 확인한다. 역순으로 추출하고자 한다면 계단<font size = \"2\">step</font>에 음의 정수를 사용하면 된다.   \n",
    "\n",
    "단, 계단이 `-1`일 때 시작인덱스와 끝인덱스를 생략하면 각각 `0`과 문자열의 길이가 들어 있는 것으로 처리되지 않고, 문자열을 역순으로 가져온다.  \n",
    "```python \n",
    ">>> colors[ : : -1]\n",
    "'wolley ,eulb ,der'\n",
    "```\n",
    ":::"
   ]
  },
  {
   "cell_type": "markdown",
   "id": "ba955b52-914f-4500-9f47-13916378ce5d",
   "metadata": {},
   "source": [
    "#### 문자열 메서드 \n",
    "\n",
    "문자열 자료형에만 사용하는 함수들이 있다. 이와같이 특정 자료형에만 사용하는 함수들을 메서드<font size = \"2\">method</font>라 부른다.   \n",
    "\n",
    "메서드는 일반적인 함수들과는 달리, 특정 자료형의 값을 먼저 언급하고 바로 이어서 점(`.`)을 찍은 다음 호출한다.\n",
    "\n",
    "```python\n",
    "문자열변수명.메서드\n",
    "```"
   ]
  },
  {
   "cell_type": "markdown",
   "id": "bc65c512-8d4d-42b7-b796-1d5fbc2a5bf9",
   "metadata": {},
   "source": [
    "문자열 자료형이 제공하는 주요 메서드는 아래 표와 같다. "
   ]
  },
  {
   "cell_type": "code",
   "execution_count": 89,
   "id": "dd718198-31ad-4775-9e91-ff869ca50b74",
   "metadata": {},
   "outputs": [
    {
     "data": {
      "text/plain": [
       "' My life is so cool, my life is so cool '"
      ]
     },
     "execution_count": 89,
     "metadata": {},
     "output_type": "execute_result"
    }
   ],
   "source": [
    "words = ' My life is so cool, my life is so cool '\n",
    "words"
   ]
  },
  {
   "cell_type": "markdown",
   "id": "1080395f-cf5e-430d-8f0c-eb6840a60592",
   "metadata": {},
   "source": [
    "|메서드|설명|예시|실행결과|\n",
    "|:----------:|:----------:|:----------:|:----------:|\n",
    "|`str.count()`|지정된 문자열이 등장한 횟수 반환|`words.count('so')`|`2`|\n",
    "|`str.find()`|지정된 문자열이 처음 등장한 위치 반환. 지정된 문자열이 없다면 -1반환|`words.find('life')`|`4`|\n",
    "|`str.index()`|지정된 문자열이 처음 등장한 위치 반환. 지정된 문자열이 없다면 오류발생|`words.index('My')`|`1`|\n",
    "|`str.lower()`|문자열에 사용된 문자를 모두 소문자로 변환하여 반환|`words.lower()`|`' my life is so cool, my life is so cool '`|\n",
    "|`str.upper()`|문자열에 사용된 문자를 모두 대문자로 변환하여 반환|`words.upper()`|`' MY LIFE IS SO COOL, MY LIFE IS SO COOL '`|\n",
    "|`str.replace()`|하나의 문자열을 다른 문자열로 대체하여 반환|`words.replace('so ', '')`|`' My life is cool, my life is cool '`|\n",
    "|`str.lstrip()`|문자열 왼쪽에 지정된 문자열을 삭제하여 반환. 지정된 문자열이 없는 경우 왼쪽 공백들을 삭제하여 반환|`words.lstrip()`|`'My life is so cool, my life is so cool '`|\n",
    "|`str.rstrip()`|문자열 오른쪽에 지정된 문자열을 삭제하여 반환. 지정된 문자열이 없는 경우 오른쪽 공백들을 삭제하여 반환|`words.rstrip()`|`' My life is so cool, my life is so cool'`|\n",
    "|`str.strip()`|문자열 양쪽에 지정된 문자열을 삭제하여 반환. 지정된 문자열이 없는 경우 양쪽 공백들을 삭제하여 반환|`words.strip()`|`'My life is so cool, my life is so cool'`|\n",
    "|`str.split()`|지정된 문자열을 기준으로 쪼개진 문자열들의 리스트 반환. 지정된 문자열이 없는 경우 공백을 기준으로 쪼개진 문자열의 리스트 반환|`words.split()`|`['My', 'life', 'is', 'so', 'cool,', 'my', 'life', 'is', 'so', 'cool']`|\n",
    "|`str.join()`|지정된 문자열의 각각 문자 사이에 문자를 삽입하여 반환|`'-'.join('Hello')`|`'H-e-l-l-o'`|\n",
    "|`str.format()`|문자열 포매팅|`'My {} is so cool'.format('life')`|`'My life is so cool'`|"
   ]
  },
  {
   "cell_type": "markdown",
   "id": "c59e7cb9-28aa-4472-ac92-bfdb69d5f720",
   "metadata": {},
   "source": [
    "### 리스트 `list`"
   ]
  },
  {
   "cell_type": "markdown",
   "id": "b263274c-3a87-41fd-baf7-7ae4b04638ba",
   "metadata": {},
   "source": [
    "리스트는 파이썬에서 사용할 수 있는 임의의 값들을 모아서 하나의 값으로 취급하는 자료형으로, 리스트의 형식은 다음과 같다. "
   ]
  },
  {
   "cell_type": "markdown",
   "id": "ff9c7ea4-ca98-4092-b10b-5f90529a3ffe",
   "metadata": {},
   "source": [
    "`[항목1, 항목2, 항목3, ..., 항목n]`"
   ]
  },
  {
   "cell_type": "markdown",
   "id": "f2a380ac-5c32-4d19-9402-8273c537ecd6",
   "metadata": {},
   "source": [
    "대괄호(`[]`)를 사용하고, 각 항목은 콤마(`,`)로 구분한다. "
   ]
  },
  {
   "cell_type": "code",
   "execution_count": 106,
   "id": "2d8eb31b-0ad5-4cbc-b210-c541bfd5b935",
   "metadata": {},
   "outputs": [
    {
     "data": {
      "text/plain": [
       "[1, 2, 3, 4, 5]"
      ]
     },
     "execution_count": 106,
     "metadata": {},
     "output_type": "execute_result"
    }
   ],
   "source": [
    "[1, 2, 3, 4, 5]"
   ]
  },
  {
   "cell_type": "code",
   "execution_count": 107,
   "id": "901ccb28-298a-459c-a000-ac5c2f63e242",
   "metadata": {},
   "outputs": [
    {
     "data": {
      "text/plain": [
       "['a', 'b', 'c']"
      ]
     },
     "execution_count": 107,
     "metadata": {},
     "output_type": "execute_result"
    }
   ],
   "source": [
    "['a', 'b', 'c']"
   ]
  },
  {
   "cell_type": "markdown",
   "id": "d527213e-79f3-4c22-b5b2-627d41996920",
   "metadata": {},
   "source": [
    "리스트는 아래와 같은 방식으로 타입 힌트를 추가한다.  \n",
    "기본 자료형의 정의는 타이핑<font size = \"2\">typing</font> 모듈에 포함되어 있다. "
   ]
  },
  {
   "cell_type": "code",
   "execution_count": 210,
   "id": "da37fe56-751d-4d90-a3c0-1a6af7f262d9",
   "metadata": {},
   "outputs": [],
   "source": [
    "from typing import List\n",
    "a_list : List[int] = [5, 10, 15, 20]"
   ]
  },
  {
   "cell_type": "markdown",
   "id": "db0b0e9a-13e9-4f43-b701-4e02c23d5a1b",
   "metadata": {},
   "source": [
    "리스트는 아래와 같이 서로 다른 자료형의 항목들을 포함할 수 있지만 항목들이 모두 같은 자료형인 경우를 많이 사용한다. "
   ]
  },
  {
   "cell_type": "code",
   "execution_count": 217,
   "id": "a376d7f6-637d-4616-8048-c7cde29e16de",
   "metadata": {},
   "outputs": [
    {
     "data": {
      "text/plain": [
       "[1, 2.3, 'abc', True, [1, 2], ('a', 'b')]"
      ]
     },
     "execution_count": 217,
     "metadata": {},
     "output_type": "execute_result"
    }
   ],
   "source": [
    "mixed_list = [1, 2.3, 'abc', True, [1, 2], ('a', 'b')]\n",
    "mixed_list"
   ]
  },
  {
   "cell_type": "markdown",
   "id": "bfabd0ba-9c77-4319-b70d-25c70fefcf32",
   "metadata": {},
   "source": [
    ":::{admonition} 참고  \n",
    ":class: info  \n",
    "\n",
    "리스트에 포함된 항목들 사이의 순서는 중요하다. 리스트 항목의 순서 또는 개수가 다르면 서로 다른 리스트로 처리된다.  \n",
    "\n",
    "```python \n",
    ">>> [1, 2] == [2, 1]\n",
    "False\n",
    ">>> [1] == [1, 1]\n",
    "True\n",
    "``` \n",
    ":::"
   ]
  },
  {
   "cell_type": "markdown",
   "id": "d19d6429-e326-4495-9cf1-4ea8a86af8fa",
   "metadata": {},
   "source": [
    "#### 빈 리스트\n",
    "빈 리스트<font size = \"2\">empty list</font>는 아무것도 포함하지 않는 리스트를 의미한다. 빈 리스트를 만드는 방법은 아래와 같다. "
   ]
  },
  {
   "cell_type": "code",
   "execution_count": 20,
   "id": "bd970e06-d257-4316-af68-707fc0f52e6e",
   "metadata": {},
   "outputs": [
    {
     "data": {
      "text/plain": [
       "[]"
      ]
     },
     "execution_count": 20,
     "metadata": {},
     "output_type": "execute_result"
    }
   ],
   "source": [
    "empty_list = []\n",
    "empty_list = list()\n",
    "empty_list"
   ]
  },
  {
   "cell_type": "markdown",
   "id": "9f9159e5-0a9d-45c8-9e6e-458120994cf3",
   "metadata": {},
   "source": [
    ":::{admonition} 주의\n",
    ":class: caution\n",
    "\n",
    "아래 `a_singleton`은 빈 리스트가 아니라 빈 리스트를 포함하는 리스트이다. \n",
    "\n",
    "```python\n",
    ">>> a_singleton = [[]]\n",
    ">>> print(a_singleton)\n",
    "[[]]\n",
    "```\n",
    ":::"
   ]
  },
  {
   "cell_type": "markdown",
   "id": "4dc6fc8e-528b-4f42-b3cd-8735254bd473",
   "metadata": {},
   "source": [
    ":::{admonition} 참고  \n",
    ":class: info  \n",
    "\n",
    "변수 `a`와 `b`에 각각 빈 리스트를 할당하면, 두 개는 서로 다르고 독립적이다.  \n",
    "반면 `c = a`라고 하면, `a`와 `c`는 동일하다. 예를 들어, `a`에 정수 `1`를 추가하면\n",
    "`c`에도 `1`이 추가된다. \n",
    "\n",
    "```python\n",
    ">>> a = []\n",
    ">>> b = []\n",
    ">>> c = a\n",
    ">>> a.append(1)\n",
    ">>> print(a)\n",
    "[1]\n",
    ">>> print(b)\n",
    "[]\n",
    ">>> print(c)\n",
    "[1]\n",
    "```\n",
    "\n",
    "<div align=\"center\">\n",
    "    <img src=\"https://raw.githubusercontent.com/hj617kim/pybook/master/images/ch11/list01.png\" style=\"width:400px;\">\n",
    "    <img src=\"https://raw.githubusercontent.com/hj617kim/pybook/master/images/ch11/list02.png\" style=\"width:400px;\">\n",
    "</div>\n",
    "\n",
    "아래와 같이 `a = c = []`라고 코드를 작성해도, `a`와 `c`는 동일하다. \n",
    "```python \n",
    ">>> a = c = []\n",
    ">>> print( a is c)\n",
    "True\n",
    "```\n",
    "\n",
    ":::"
   ]
  },
  {
   "cell_type": "markdown",
   "id": "5df4e691-422b-4912-b7f6-79487f06e600",
   "metadata": {},
   "source": [
    "#### 항목 포함 여부 연산자 \n",
    "* `in` :  연산자 왼쪽에 있는 값이 오른쪽에 있는 리스트의 항목으로 등장하는지 여부를 알려주는 논리 연산자\n",
    "* `not in` : 연산자 왼쪽에 있는 값이 오른쪽에 있는 리스트의 항목으로 등장하지 않는지 여부를 알려주는 논리 연산자"
   ]
  },
  {
   "cell_type": "code",
   "execution_count": 109,
   "id": "6c20884d-b96b-4cfd-aa3d-240f201852f5",
   "metadata": {},
   "outputs": [
    {
     "data": {
      "text/plain": [
       "True"
      ]
     },
     "execution_count": 109,
     "metadata": {},
     "output_type": "execute_result"
    }
   ],
   "source": [
    "3 in [1, 2, 3, 4, 5]"
   ]
  },
  {
   "cell_type": "code",
   "execution_count": 110,
   "id": "b2168bca-42e4-40be-b2b2-ebcd33440e98",
   "metadata": {},
   "outputs": [
    {
     "data": {
      "text/plain": [
       "False"
      ]
     },
     "execution_count": 110,
     "metadata": {},
     "output_type": "execute_result"
    }
   ],
   "source": [
    "'a' in [1, 2, 3, 4, 5]"
   ]
  },
  {
   "cell_type": "code",
   "execution_count": 111,
   "id": "8b1365e0-67c8-48e2-a6dd-249a795dd051",
   "metadata": {},
   "outputs": [
    {
     "data": {
      "text/plain": [
       "True"
      ]
     },
     "execution_count": 111,
     "metadata": {},
     "output_type": "execute_result"
    }
   ],
   "source": [
    "'a' not in [1, 2, 3, 4, 5]"
   ]
  },
  {
   "cell_type": "markdown",
   "id": "177fc284-3139-40cf-a266-bc9c0d0a9253",
   "metadata": {
    "tags": []
   },
   "source": [
    "#### 리스트 연산  \n",
    "리스트는 사칙연산 중 덧셈과 곱셈 연산자를 사용할 수 있다. "
   ]
  },
  {
   "cell_type": "code",
   "execution_count": 116,
   "id": "2723346d-4aa0-45a4-980b-a6c4a3ca0573",
   "metadata": {},
   "outputs": [
    {
     "data": {
      "text/plain": [
       "['a', 'b', 'b', 'c', 'd']"
      ]
     },
     "execution_count": 116,
     "metadata": {},
     "output_type": "execute_result"
    }
   ],
   "source": [
    "['a', 'b'] + ['b', 'c', 'd']"
   ]
  },
  {
   "cell_type": "code",
   "execution_count": 117,
   "id": "e427db80-0845-4ac2-aaa4-fd8b4428a464",
   "metadata": {},
   "outputs": [
    {
     "data": {
      "text/plain": [
       "['a', 'b', 'a', 'b']"
      ]
     },
     "execution_count": 117,
     "metadata": {},
     "output_type": "execute_result"
    }
   ],
   "source": [
    "['a', 'b'] * 2"
   ]
  },
  {
   "cell_type": "markdown",
   "id": "7b1f8849-53c5-4e21-a279-e2e11d225d5f",
   "metadata": {},
   "source": [
    "#### `len()`함수   \n",
    "`len()`함수 : 리스트의 길이 확인"
   ]
  },
  {
   "cell_type": "code",
   "execution_count": 113,
   "id": "05f98cda-eaf2-4404-b465-614e67f4405e",
   "metadata": {},
   "outputs": [
    {
     "name": "stdout",
     "output_type": "stream",
     "text": [
      "4\n"
     ]
    }
   ],
   "source": [
    "a_list = [3, 15, 9, 12]\n",
    "print(len(a_list))"
   ]
  },
  {
   "cell_type": "markdown",
   "id": "c444343d-2da3-4688-9f49-2ba736ba2c32",
   "metadata": {},
   "source": [
    "#### 최대, 최소 함수\n",
    "\n",
    "* `max()` 함수 : 최댓값 확인"
   ]
  },
  {
   "cell_type": "code",
   "execution_count": 118,
   "id": "51cb8ba0-97d5-4ec4-b5d6-e441c04ccfb5",
   "metadata": {},
   "outputs": [
    {
     "data": {
      "text/plain": [
       "15"
      ]
     },
     "execution_count": 118,
     "metadata": {},
     "output_type": "execute_result"
    }
   ],
   "source": [
    "a_list = [3, 15, 9, 12]\n",
    "max(a_list)"
   ]
  },
  {
   "cell_type": "markdown",
   "id": "84b4f0fc-252e-42b0-8f7d-03673dff3176",
   "metadata": {},
   "source": [
    "* `min()` 함수 : 최솟값 확인"
   ]
  },
  {
   "cell_type": "code",
   "execution_count": 119,
   "id": "a81d36db-c292-42c9-87cb-b2075573f509",
   "metadata": {},
   "outputs": [
    {
     "data": {
      "text/plain": [
       "3"
      ]
     },
     "execution_count": 119,
     "metadata": {},
     "output_type": "execute_result"
    }
   ],
   "source": [
    "a_list = [3, 15, 9, 12]\n",
    "min(a_list)"
   ]
  },
  {
   "cell_type": "markdown",
   "id": "9348c26b-2117-4065-abdb-2481db6f6874",
   "metadata": {},
   "source": [
    "#### 인덱싱과 슬라이싱 \n",
    "\n",
    "리스트도 문자열처럼 인덱싱<font size = \"2\">Indexing</font>과 슬라이싱이 가능하다. "
   ]
  },
  {
   "cell_type": "code",
   "execution_count": 121,
   "id": "c11e4830-ac40-48d9-b006-a0896a5c4027",
   "metadata": {},
   "outputs": [
    {
     "name": "stdout",
     "output_type": "stream",
     "text": [
      "3\n",
      "10\n",
      "[9, 7]\n"
     ]
    }
   ],
   "source": [
    "a_list = [3, 15, 9, 12, 7, 14, 10]\n",
    "print(a_list[0])\n",
    "print(a_list[-1])\n",
    "print(a_list[2:6:2])"
   ]
  },
  {
   "cell_type": "markdown",
   "id": "c300b3f8-067b-4cc7-b203-df3672f11f45",
   "metadata": {},
   "source": [
    "리스트는 가변 자료형이라 값을 수정할 수 있다. 인덱싱과 슬라이싱을 사용하여 수정해보자.  "
   ]
  },
  {
   "cell_type": "code",
   "execution_count": 132,
   "id": "5f26d1d6-b06d-43e9-a690-5388cae934c3",
   "metadata": {},
   "outputs": [],
   "source": [
    "a_list = [3, 15, 9, 12, 7, 14, 10]"
   ]
  },
  {
   "cell_type": "markdown",
   "id": "1984c197-7cf2-44ee-b221-c8801e4559a4",
   "metadata": {},
   "source": [
    "예를 들어, 인덱싱을 사용하여 `a_list[3]`을 `12`에서 `100`으로 변경할 수 있다. "
   ]
  },
  {
   "cell_type": "code",
   "execution_count": 133,
   "id": "7ed91887-2a3b-42bf-934b-99bd76571c12",
   "metadata": {},
   "outputs": [
    {
     "name": "stdout",
     "output_type": "stream",
     "text": [
      "[3, 15, 9, 12, 7, 14, 10]\n",
      "[3, 15, 9, 100, 7, 14, 10]\n"
     ]
    }
   ],
   "source": [
    "print(a_list)\n",
    "a_list[3] = 100\n",
    "print(a_list)"
   ]
  },
  {
   "cell_type": "markdown",
   "id": "32fdb94d-7a34-4b24-9c79-7df66d8b110b",
   "metadata": {},
   "source": [
    "이번에는 슬라이싱을 사용하여 2번 인덱스 값부터 5번 인덱스 값 전까지를 1과 11로 변경해보자. "
   ]
  },
  {
   "cell_type": "code",
   "execution_count": 134,
   "id": "a8f6f600-aae8-41e7-8dcf-a022a572050c",
   "metadata": {},
   "outputs": [
    {
     "name": "stdout",
     "output_type": "stream",
     "text": [
      "[3, 15, 9, 100, 7, 14, 10]\n",
      "[3, 15, 1, 11, 14, 10]\n"
     ]
    }
   ],
   "source": [
    "print(a_list)\n",
    "a_list[2 : 5] = [1, 11]\n",
    "print(a_list)"
   ]
  },
  {
   "cell_type": "markdown",
   "id": "fbfda3c7-9d01-426c-bea0-a1b10b471cec",
   "metadata": {},
   "source": [
    "`del` 명령어를 사용하여 리스트의 일부 또는 전체를 삭제할 수 있다. "
   ]
  },
  {
   "cell_type": "code",
   "execution_count": 136,
   "id": "689be47b-54be-4a43-aca7-27c7b70a0e4b",
   "metadata": {},
   "outputs": [
    {
     "name": "stdout",
     "output_type": "stream",
     "text": [
      "[3, 15, 1, 11, 14, 10]\n",
      "[15, 1, 11, 14, 10]\n"
     ]
    }
   ],
   "source": [
    "print(a_list)\n",
    "del a_list[0]\n",
    "print(a_list)"
   ]
  },
  {
   "cell_type": "markdown",
   "id": "a1aad9d3-bd8c-4ecc-ae20-3e149c395260",
   "metadata": {},
   "source": [
    ":::{admonition} 주의  \n",
    ":class: caution  \n",
    "`del`은 매우 주의해서 사용해야 한다. 잘못하면 데이터 자체를 메모리에서 삭제시킬 수도 있다. \n",
    ":::"
   ]
  },
  {
   "cell_type": "markdown",
   "id": "ca131ac4-e3b0-4de1-8b67-b9b755c36a21",
   "metadata": {},
   "source": [
    ":::{admonition} 주의 \n",
    ":class: caution  \n",
    "문자열은 불변 자료형이라 인덱싱과 슬라이싱을 사용하여 값을 변경할 수 없다.  \n",
    "```python\n",
    ">>> a_word = 'hello'\n",
    ">>> a_word[0] = 'H'\n",
    "TypeError                                 Traceback (most recent call last)\n",
    "/tmp/ipykernel_1817/217255829.py in <module>\n",
    "      1 a_word = 'hello'\n",
    "----> 2 a_word[0] = 'H'\n",
    "\n",
    "TypeError: 'str' object does not support item assignment\n",
    "```\n",
    ":::"
   ]
  },
  {
   "cell_type": "markdown",
   "id": "6eac83d8-a801-4563-8138-89bea29796c3",
   "metadata": {},
   "source": [
    "#### 리스트 메서드 \n",
    "리스트 자료형이 제공하는 주요 메서드는 아래와 같다."
   ]
  },
  {
   "cell_type": "markdown",
   "id": "d17cd670-a369-4905-8592-48bcdaf53c33",
   "metadata": {},
   "source": [
    "|메서드|설명|\n",
    "|:----------:|:----------:|\n",
    "|`list.append()`|리스트 끝에 항목 추가. 반환값은 `None`|\n",
    "|`list.extend()`|리스트를 연결하여 확장. 반환값은 `None`|\n",
    "|`list.insert()`|지정된 인덱스에 항목 추가. 반환값은 `None`|\n",
    "|`list.pop()`|지정된 인덱스의 항목 삭제 후 삭제된 값 반환. 지정된 인덱스가 없다면 마지막 항목 삭제 후 삭제된 값 반환|\n",
    "|`list.remove()`|지정된 항목이 처음으로 사용된 위치에서 삭제. 반환값은 `None`|\n",
    "|`list.sort()`|리스트의 항목을 크기 순으로 정렬. 반환값은 `None`|\n",
    "|`list.reverse()`|리스트의 항목들 순서 뒤집기. 반환값은 `None`|\n",
    "|`list.index()`|지정된 항목이 처음 위치한 인덱스 반환|\n",
    "|`list.count()`|지정된 항목이 등장한 횟수 반환|\n",
    "\n"
   ]
  },
  {
   "cell_type": "code",
   "execution_count": 188,
   "id": "d423fdf8-e6ec-48a8-89c5-0a679658f710",
   "metadata": {},
   "outputs": [],
   "source": [
    "food = ['banana', 'apple', 'coconut', 'apple']"
   ]
  },
  {
   "cell_type": "markdown",
   "id": "66c3280f-84f2-4eb1-924f-1fe0a8e26249",
   "metadata": {},
   "source": [
    "* `append()`  : 리스트 끝에 항목 추가. 반환값은 `None`   \n",
    "\n",
    "예를 들어, `append()`메서드를 사용하여 리스트 `food` 끝에 `'durian'`을 추가해보자. `append()`메서드의 반환값은 `None`이다. "
   ]
  },
  {
   "cell_type": "code",
   "execution_count": 189,
   "id": "ea7699e7-9fea-4ca9-9202-aa8719c9abbe",
   "metadata": {},
   "outputs": [
    {
     "name": "stdout",
     "output_type": "stream",
     "text": [
      "None\n"
     ]
    }
   ],
   "source": [
    "print(food.append('durian'))"
   ]
  },
  {
   "cell_type": "code",
   "execution_count": 190,
   "id": "aff1cfb9-a20a-4c21-bc07-aef0bba05249",
   "metadata": {},
   "outputs": [
    {
     "name": "stdout",
     "output_type": "stream",
     "text": [
      "['banana', 'apple', 'coconut', 'apple', 'durian']\n"
     ]
    }
   ],
   "source": [
    "print(food)"
   ]
  },
  {
   "cell_type": "markdown",
   "id": "11c26507-bc6c-4799-92ee-05ecdf8bddc4",
   "metadata": {},
   "source": [
    "리스트 끝에 `eggplant`와 `fig`를 아래와 같이 추가해보자. "
   ]
  },
  {
   "cell_type": "code",
   "execution_count": 191,
   "id": "edae1d69-fd93-4572-b9a7-0f6532e466dc",
   "metadata": {},
   "outputs": [
    {
     "data": {
      "text/plain": [
       "['banana', 'apple', 'coconut', 'apple', 'durian', ['eggplant', 'fig']]"
      ]
     },
     "execution_count": 191,
     "metadata": {},
     "output_type": "execute_result"
    }
   ],
   "source": [
    "food.append(['eggplant', 'fig'])\n",
    "food"
   ]
  },
  {
   "cell_type": "markdown",
   "id": "faeabe25-ac94-4269-b2c8-e2f7940af3d5",
   "metadata": {},
   "source": [
    "그러면 `food` 리스트 끝에 두 개의 항목이 추가되는 것이 아니라 `['eggplant', 'fig']`리스트가 추가된 것을 볼 수 있다.  \n",
    "지금은 `del`을 사용하여 추가된 마지막 항목을 삭제한다. "
   ]
  },
  {
   "cell_type": "code",
   "execution_count": 192,
   "id": "2d0678f0-fd55-4567-abe4-aa8a33350d3f",
   "metadata": {},
   "outputs": [],
   "source": [
    "del food[-1]"
   ]
  },
  {
   "cell_type": "markdown",
   "id": "ea96d577-2220-4a0a-9431-4943165824ad",
   "metadata": {},
   "source": [
    "두 개의 항목을 리스트에 추가하고자 한다면 `append()` 메서드를 두 번 적용하거나 `extend()` 메서드를 사용하면 된다.  "
   ]
  },
  {
   "cell_type": "markdown",
   "id": "ebdeb3fb-ed1c-4925-9ae1-e29a3ee723e4",
   "metadata": {},
   "source": [
    "* `extend()` : 리스트를 연결하여 확장. 반환값은 `None`"
   ]
  },
  {
   "cell_type": "code",
   "execution_count": 193,
   "id": "1a9c66ad-5868-449e-96af-af4c66fa7142",
   "metadata": {},
   "outputs": [
    {
     "data": {
      "text/plain": [
       "['banana', 'apple', 'coconut', 'apple', 'durian', 'eggplant', 'fig']"
      ]
     },
     "execution_count": 193,
     "metadata": {},
     "output_type": "execute_result"
    }
   ],
   "source": [
    "food.extend(['eggplant', 'fig'])\n",
    "food"
   ]
  },
  {
   "cell_type": "markdown",
   "id": "b0feb589-16ca-40ad-af86-5d4b5bcb95bb",
   "metadata": {},
   "source": [
    ":::{admonition} 참고 \n",
    ":class: info  \n",
    "두 개의 리스트를 덧셈 기호를 이용하여 확장할 수도 있지만, 원래의 리스트를 변경하는 것이 아니라 새로운 리스트를 생성한다.\n",
    ":::"
   ]
  },
  {
   "cell_type": "markdown",
   "id": "eedb13d9-759a-4c65-ae93-f6ae2c3ca343",
   "metadata": {},
   "source": [
    "* `insert()` : 지정된 인덱스에 항목 추가. 반환값은 `None`"
   ]
  },
  {
   "cell_type": "code",
   "execution_count": 194,
   "id": "620ec467-c185-4a47-b672-20b0b2c2ea92",
   "metadata": {},
   "outputs": [
    {
     "data": {
      "text/plain": [
       "['banana',\n",
       " 'blueberry',\n",
       " 'apple',\n",
       " 'coconut',\n",
       " 'apple',\n",
       " 'durian',\n",
       " 'eggplant',\n",
       " 'fig']"
      ]
     },
     "execution_count": 194,
     "metadata": {},
     "output_type": "execute_result"
    }
   ],
   "source": [
    "food.insert(1, 'blueberry')\n",
    "food"
   ]
  },
  {
   "cell_type": "markdown",
   "id": "7f2768b6-cf22-4ddf-9584-ae2694b53a90",
   "metadata": {},
   "source": [
    "* `pop()` : 지정된 인덱스의 항목 삭제 후 삭제된 값 반환. 지정된 인덱스가 없다면 마지막 항목 삭제 후 삭제된 값 반환."
   ]
  },
  {
   "cell_type": "code",
   "execution_count": 195,
   "id": "990c63d0-60a3-4f92-a1e8-d2e8fdb67882",
   "metadata": {},
   "outputs": [
    {
     "data": {
      "text/plain": [
       "'fig'"
      ]
     },
     "execution_count": 195,
     "metadata": {},
     "output_type": "execute_result"
    }
   ],
   "source": [
    "food.pop()"
   ]
  },
  {
   "cell_type": "code",
   "execution_count": 196,
   "id": "497464eb-f3df-4267-a64f-712393930a74",
   "metadata": {},
   "outputs": [
    {
     "data": {
      "text/plain": [
       "['banana', 'blueberry', 'apple', 'coconut', 'apple', 'durian', 'eggplant']"
      ]
     },
     "execution_count": 196,
     "metadata": {},
     "output_type": "execute_result"
    }
   ],
   "source": [
    "food"
   ]
  },
  {
   "cell_type": "code",
   "execution_count": 197,
   "id": "f0f16777-5bbe-4409-89bc-45924df76c2c",
   "metadata": {},
   "outputs": [
    {
     "data": {
      "text/plain": [
       "'banana'"
      ]
     },
     "execution_count": 197,
     "metadata": {},
     "output_type": "execute_result"
    }
   ],
   "source": [
    "food.pop(0)"
   ]
  },
  {
   "cell_type": "code",
   "execution_count": 198,
   "id": "becda77c-97b2-4e86-9118-f2ef98443a0d",
   "metadata": {},
   "outputs": [
    {
     "data": {
      "text/plain": [
       "['blueberry', 'apple', 'coconut', 'apple', 'durian', 'eggplant']"
      ]
     },
     "execution_count": 198,
     "metadata": {},
     "output_type": "execute_result"
    }
   ],
   "source": [
    "food"
   ]
  },
  {
   "cell_type": "markdown",
   "id": "6d8f963d-fb18-48ba-add5-367b763d13d0",
   "metadata": {},
   "source": [
    "* `remove()` : 지정된 항목이 처음으로 사용된 위치에서 삭제. 반환값은 `None`"
   ]
  },
  {
   "cell_type": "code",
   "execution_count": 199,
   "id": "143554c5-f18c-48d8-9ae8-1962f4706c19",
   "metadata": {},
   "outputs": [
    {
     "data": {
      "text/plain": [
       "['blueberry', 'coconut', 'apple', 'durian', 'eggplant']"
      ]
     },
     "execution_count": 199,
     "metadata": {},
     "output_type": "execute_result"
    }
   ],
   "source": [
    "food.remove('apple')\n",
    "food"
   ]
  },
  {
   "cell_type": "markdown",
   "id": "8ad35f2d-4d0b-42f4-8600-4b1cfc35cbe6",
   "metadata": {},
   "source": [
    "* `sort()` : 리스트의 항목을 크기 순으로 정렬. 반환값은 None  \n",
    "    * 숫자의 경우, 크기 순서대로\n",
    "    * 문자의 경우, 사전식으로"
   ]
  },
  {
   "cell_type": "code",
   "execution_count": 200,
   "id": "e02552c3-f7bf-4e6d-8402-5165ef45ee01",
   "metadata": {},
   "outputs": [],
   "source": [
    "food.sort()"
   ]
  },
  {
   "cell_type": "code",
   "execution_count": 201,
   "id": "ace7682a-c227-4c74-b325-401ef7ba15ff",
   "metadata": {},
   "outputs": [
    {
     "data": {
      "text/plain": [
       "['apple', 'blueberry', 'coconut', 'durian', 'eggplant']"
      ]
     },
     "execution_count": 201,
     "metadata": {},
     "output_type": "execute_result"
    }
   ],
   "source": [
    "food"
   ]
  },
  {
   "cell_type": "markdown",
   "id": "0b31f07f-5ad4-4d9a-b63c-5eda1690d38a",
   "metadata": {},
   "source": [
    "* `reverse()` : 리스트의 항목들 순서 뒤집기. 반환값은 None"
   ]
  },
  {
   "cell_type": "code",
   "execution_count": 203,
   "id": "0609f274-dd8a-462b-8ab7-ea268335011c",
   "metadata": {},
   "outputs": [],
   "source": [
    "food.reverse()"
   ]
  },
  {
   "cell_type": "code",
   "execution_count": 204,
   "id": "53a995f6-c11e-4d0a-95cb-ad6abe8e4945",
   "metadata": {},
   "outputs": [
    {
     "data": {
      "text/plain": [
       "['eggplant', 'durian', 'coconut', 'blueberry', 'apple']"
      ]
     },
     "execution_count": 204,
     "metadata": {},
     "output_type": "execute_result"
    }
   ],
   "source": [
    "food"
   ]
  },
  {
   "cell_type": "markdown",
   "id": "1ec942bc-4cab-4e8e-8d22-05d73fa1fd74",
   "metadata": {},
   "source": [
    "* `index()` : 지정된 항목이 처음 위치한 인덱스 반환."
   ]
  },
  {
   "cell_type": "code",
   "execution_count": 205,
   "id": "2381da9f-e726-4cc9-b855-7b865afb148f",
   "metadata": {},
   "outputs": [
    {
     "data": {
      "text/plain": [
       "2"
      ]
     },
     "execution_count": 205,
     "metadata": {},
     "output_type": "execute_result"
    }
   ],
   "source": [
    "food.index('coconut')"
   ]
  },
  {
   "cell_type": "markdown",
   "id": "402b7f60-b479-45d6-aad9-fca09c2e2569",
   "metadata": {},
   "source": [
    "* `count()` : 지정된 항목이 등장한 횟수 반환"
   ]
  },
  {
   "cell_type": "code",
   "execution_count": 206,
   "id": "0583bc38-da8e-43ab-898f-1d3fb341f047",
   "metadata": {},
   "outputs": [
    {
     "data": {
      "text/plain": [
       "1"
      ]
     },
     "execution_count": 206,
     "metadata": {},
     "output_type": "execute_result"
    }
   ],
   "source": [
    "food.count('apple')"
   ]
  },
  {
   "cell_type": "markdown",
   "id": "501d0128-e0e0-4a65-894b-11fc6f135247",
   "metadata": {},
   "source": [
    "### 튜플 `tuple`"
   ]
  },
  {
   "cell_type": "markdown",
   "id": "ab810822-c7a0-476a-b27f-43761b5d3176",
   "metadata": {},
   "source": [
    "튜플은 리스트와 거의 비슷하지만, 수정 불가능<font size = \"2\">immutable</font>하다는 점이 다르다. 튜플의 형식은 아래와 같다. "
   ]
  },
  {
   "cell_type": "markdown",
   "id": "6ca92fa3-982e-43b3-983f-92fa4da984c5",
   "metadata": {},
   "source": [
    "`(항목1, 항목2, 항목3, ..., 항목n)`"
   ]
  },
  {
   "cell_type": "markdown",
   "id": "b2e658b6-2f63-42de-a8ec-7cf54c59e07a",
   "metadata": {},
   "source": [
    "소괄호(`()`)를 사용하고, 각 항목은 콤마(`,`)로 구분한다. "
   ]
  },
  {
   "cell_type": "code",
   "execution_count": 214,
   "id": "80733c3b-b8bc-4fd3-93d7-59a476f82e16",
   "metadata": {},
   "outputs": [
    {
     "data": {
      "text/plain": [
       "(1, 2, 3, 4, 5)"
      ]
     },
     "execution_count": 214,
     "metadata": {},
     "output_type": "execute_result"
    }
   ],
   "source": [
    "(1, 2, 3, 4, 5)"
   ]
  },
  {
   "cell_type": "code",
   "execution_count": 216,
   "id": "d3910f50-d989-4af0-80bd-6f0844923d09",
   "metadata": {},
   "outputs": [
    {
     "data": {
      "text/plain": [
       "('a', 'b', 'c', 'd')"
      ]
     },
     "execution_count": 216,
     "metadata": {},
     "output_type": "execute_result"
    }
   ],
   "source": [
    "('a','b', 'c', 'd')"
   ]
  },
  {
   "cell_type": "markdown",
   "id": "5fa375ef-b96d-4d80-84a4-654ce9de4fc2",
   "metadata": {},
   "source": [
    "튜플은 아래와 같은 방식으로 타입 힌트를 추가한다.  "
   ]
  },
  {
   "cell_type": "code",
   "execution_count": 221,
   "id": "96b4d20f-2281-4793-91b2-fab799844ff9",
   "metadata": {},
   "outputs": [
    {
     "data": {
      "text/plain": [
       "(2022, 12345, '강현')"
      ]
     },
     "execution_count": 221,
     "metadata": {},
     "output_type": "execute_result"
    }
   ],
   "source": [
    "from typing import Tuple \n",
    "a_tuple : Tuple[int, int, str] = (2022, 12345, '강현')\n",
    "a_tuple"
   ]
  },
  {
   "cell_type": "markdown",
   "id": "43ede841-d0dd-4566-a0b8-0b58b46d640d",
   "metadata": {},
   "source": [
    "튜플은 아래와 같이 서로 다른 자료형의 항목들을 포함할 수 있지만, 일반적으로 항목들이 모두 같은 자료형인 경우를 많이 사용한다. "
   ]
  },
  {
   "cell_type": "code",
   "execution_count": 218,
   "id": "0b660257-466b-416d-9ee4-4dfe07a75cfc",
   "metadata": {},
   "outputs": [
    {
     "data": {
      "text/plain": [
       "(1, 2.3, 'abc', False, ['ab', 'c'], (2, 4))"
      ]
     },
     "execution_count": 218,
     "metadata": {},
     "output_type": "execute_result"
    }
   ],
   "source": [
    "mixed_tuple = (1, 2.3, 'abc', False, ['ab', 'c'], (2, 4))\n",
    "mixed_tuple"
   ]
  },
  {
   "cell_type": "markdown",
   "id": "0dffed42-dfdd-476b-a8b6-a1483aac07ee",
   "metadata": {},
   "source": [
    "#### 빈 튜플\n",
    "빈 튜플<font size = \"2\">empty tuple</font>은 아무것도 포함하지 않는 튜플을 의미한다. 빈 튜플를 만드는 방법은 아래와 같다. "
   ]
  },
  {
   "cell_type": "code",
   "execution_count": 21,
   "id": "59fcb3da-3c83-4268-92d4-c5a1204b966a",
   "metadata": {},
   "outputs": [
    {
     "data": {
      "text/plain": [
       "()"
      ]
     },
     "execution_count": 21,
     "metadata": {},
     "output_type": "execute_result"
    }
   ],
   "source": [
    "empty_tuple = ()\n",
    "empty_tuple = tuple()\n",
    "empty_tuple"
   ]
  },
  {
   "cell_type": "markdown",
   "id": "fb58000d-0944-4c72-83f6-e04b45494505",
   "metadata": {},
   "source": [
    "#### 항목 포함 여부 연산자 \n",
    "* `in` :  연산자 왼쪽에 있는 값이 오른쪽에 있는 튜플의 항목으로 등장하는지 여부를 알려주는 논리 연산자\n",
    "* `not in` : 연산자 왼쪽에 있는 값이 오른쪽에 있는 튜플의 항목으로 등장하지 않는지 여부를 알려주는 논리 연산자"
   ]
  },
  {
   "cell_type": "code",
   "execution_count": 222,
   "id": "b21ceca8-6110-4bb0-85d2-ea55f6c21a85",
   "metadata": {},
   "outputs": [
    {
     "data": {
      "text/plain": [
       "False"
      ]
     },
     "execution_count": 222,
     "metadata": {},
     "output_type": "execute_result"
    }
   ],
   "source": [
    "'1' in ('a', 'bc', 'd', 'e')"
   ]
  },
  {
   "cell_type": "code",
   "execution_count": 223,
   "id": "f0ab414c-7c50-45a4-bb7b-6c228f5d21a4",
   "metadata": {},
   "outputs": [
    {
     "data": {
      "text/plain": [
       "True"
      ]
     },
     "execution_count": 223,
     "metadata": {},
     "output_type": "execute_result"
    }
   ],
   "source": [
    "'d' in ('a', 'bc', 'd', 'e')"
   ]
  },
  {
   "cell_type": "code",
   "execution_count": 224,
   "id": "88d726f6-0f49-43df-a40c-e3b36d17b368",
   "metadata": {},
   "outputs": [
    {
     "data": {
      "text/plain": [
       "True"
      ]
     },
     "execution_count": 224,
     "metadata": {},
     "output_type": "execute_result"
    }
   ],
   "source": [
    "'f' not in ('a', 'bc', 'd', 'e')"
   ]
  },
  {
   "cell_type": "markdown",
   "id": "b0e81f40-bd5f-48e3-8237-829963b1da73",
   "metadata": {
    "tags": []
   },
   "source": [
    "#### 튜플 연산  \n",
    "튜플은 사칙연산 중 덧셈과 곱셈 연산자를 사용할 수 있다. "
   ]
  },
  {
   "cell_type": "code",
   "execution_count": 232,
   "id": "369f5888-e8be-429f-a31a-1f0b573670e0",
   "metadata": {},
   "outputs": [
    {
     "data": {
      "text/plain": [
       "('a', 'b', 'b', 'c', 'd')"
      ]
     },
     "execution_count": 232,
     "metadata": {},
     "output_type": "execute_result"
    }
   ],
   "source": [
    "('a', 'b') + ('b', 'c', 'd')"
   ]
  },
  {
   "cell_type": "code",
   "execution_count": 233,
   "id": "26bde28b-8a7e-4ad0-81a7-4829b07689ff",
   "metadata": {},
   "outputs": [
    {
     "data": {
      "text/plain": [
       "('a', 'b', 'a', 'b')"
      ]
     },
     "execution_count": 233,
     "metadata": {},
     "output_type": "execute_result"
    }
   ],
   "source": [
    "('a', 'b') * 2"
   ]
  },
  {
   "cell_type": "markdown",
   "id": "4af39703-0680-49fd-93dd-cf5a1200dd92",
   "metadata": {},
   "source": [
    "#### `len()`함수  \n",
    "len()함수 : 튜플의 길이 확인"
   ]
  },
  {
   "cell_type": "code",
   "execution_count": 225,
   "id": "e6de92b3-81f6-47b9-9bf1-2112fd775519",
   "metadata": {},
   "outputs": [
    {
     "data": {
      "text/plain": [
       "4"
      ]
     },
     "execution_count": 225,
     "metadata": {},
     "output_type": "execute_result"
    }
   ],
   "source": [
    "len(('a', 'b', 'c', 'd'))"
   ]
  },
  {
   "cell_type": "markdown",
   "id": "2520dc0b-6edf-4c98-b7b4-895e2455bae6",
   "metadata": {},
   "source": [
    "#### 최대, 최소 함수\n",
    "\n",
    "* `max()` 함수 : 최댓값 확인"
   ]
  },
  {
   "cell_type": "code",
   "execution_count": 226,
   "id": "5b984db3-e527-479a-892a-e7ace4da1e3c",
   "metadata": {},
   "outputs": [
    {
     "data": {
      "text/plain": [
       "20"
      ]
     },
     "execution_count": 226,
     "metadata": {},
     "output_type": "execute_result"
    }
   ],
   "source": [
    "max((2, 9, 11, 20, 3))"
   ]
  },
  {
   "cell_type": "markdown",
   "id": "2043a19d-d27b-4ad9-bccb-ba379589fe67",
   "metadata": {},
   "source": [
    "* `min()` 함수 : 최솟값 확인"
   ]
  },
  {
   "cell_type": "code",
   "execution_count": 227,
   "id": "4682a983-01ae-4639-8170-ac34260c1702",
   "metadata": {},
   "outputs": [
    {
     "data": {
      "text/plain": [
       "2"
      ]
     },
     "execution_count": 227,
     "metadata": {},
     "output_type": "execute_result"
    }
   ],
   "source": [
    "min((2, 9, 11, 20, 3))"
   ]
  },
  {
   "cell_type": "markdown",
   "id": "eba005a8-b547-4dd0-95ce-2ad2d1a3505c",
   "metadata": {},
   "source": [
    "#### 인덱싱과 슬라이싱"
   ]
  },
  {
   "cell_type": "markdown",
   "id": "bf0ddb1f-b22e-432a-bf96-e120937c4572",
   "metadata": {},
   "source": [
    "튜플도 문자열과 리스트처럼 인덱싱과 슬라이싱이 가능하다. "
   ]
  },
  {
   "cell_type": "code",
   "execution_count": 228,
   "id": "840ff1ed-2dc7-4f2d-b8db-771804dcb4aa",
   "metadata": {},
   "outputs": [
    {
     "name": "stdout",
     "output_type": "stream",
     "text": [
      "3\n",
      "10\n",
      "(9, 7)\n"
     ]
    }
   ],
   "source": [
    "a_tuple = (3, 15, 9, 12, 7, 14, 10)\n",
    "print(a_tuple[0])\n",
    "print(a_tuple[-1])\n",
    "print(a_tuple[2:6:2])"
   ]
  },
  {
   "cell_type": "markdown",
   "id": "5dc7897e-7cc3-4d40-bb89-cf49aa97b736",
   "metadata": {},
   "source": [
    ":::{admonition} 주의  \n",
    ":class: caution  \n",
    "튜플은 불변 자료형이라 값을 수정할 수 없다. 예를 들어, 아래와 같이 인덱싱을 사용하여 튜플의 항목을 변경하려고 하면 오류가 발생한다.   \n",
    "\n",
    "```python\n",
    ">>> a_tuple = (3, 15, 9, 12, 7, 14, 10)\n",
    ">>> a_tuple[0] = 100\n",
    "TypeError                                 Traceback (most recent call last)\n",
    "/tmp/ipykernel_1817/347940049.py in <module>\n",
    "      1 a_tuple = (3, 15, 9, 12, 7, 14, 10)\n",
    "----> 2 a_tuple[0] = 100\n",
    "\n",
    "TypeError: 'tuple' object does not support item assignment\n",
    "```\n",
    ":::"
   ]
  },
  {
   "cell_type": "markdown",
   "id": "a6b8e4fa-b440-4dfa-8a75-b3a9b42b0020",
   "metadata": {},
   "source": [
    ":::{admonition} 참고 \n",
    ":class: info  \n",
    "\n",
    "튜플이 변경 불가능한 자료형이라고 해서 튜플의 모든 항목이 모두 변경 불가능해야 하는 것은 아니다. 예를 들어, `tup`의 첫번째 항목은 `[1, 2]`이고, 리스트는 변경가능한 자료형이다. 따라서 아래와 같이 첫번째 항목 자체는 변경이 가능하다. \n",
    "```python\n",
    ">>> tup = ([1, 2], 10, 100)\n",
    ">>> tup[0].append(3)\n",
    ">>> print(tup)\n",
    "([1, 2, 3], 10, 100)\n",
    "```\n",
    "\n",
    "이러한 성질이 가능한 이유는 아래와 같다.  \n",
    "`tup`은 `([1, 2], 10, 100)`을 참조한다. 그리고 첫번째 항목인 `[1, 2]` 또한 참조 형태로 다른 메모리에 저장된다. 즉, `tup`의 첫번째 항목은 `[1, 2]`가 저장된 위치의 주소이다. 그런데 `[1, 2]`가 변경되어도 주소 자체는 변하지 않는다. 따라서 `tup` 입장에서는 변한 것이 하나도 없다. \n",
    "\n",
    "<div align=\"center\">\n",
    "    <img src=\"https://raw.githubusercontent.com/hj617kim/pybook/master/images/ch11/tuple01.png\" style=\"width:400px;\">\n",
    "    <img src=\"https://raw.githubusercontent.com/hj617kim/pybook/master/images/ch11/tuple02.png\" style=\"width:400px;\">\n",
    "</div>\n",
    "\n",
    "\n",
    ":::"
   ]
  },
  {
   "cell_type": "markdown",
   "id": "b009945e-81b5-4188-a299-eed99e15cdc3",
   "metadata": {},
   "source": [
    "#### 튜플 메서드"
   ]
  },
  {
   "cell_type": "markdown",
   "id": "0c9a4bfb-5a11-4292-83fd-ea71571e663a",
   "metadata": {},
   "source": [
    "튜플은 불변 자료형이라 메서드가 별로 없다. 많이 사용되는 두 개의 메소드를 살펴보자.   \n",
    "\n",
    "|메서드|설명|\n",
    "|:----------:|:----------:|\n",
    "|`tuple.count()`|지정된 항목이 등장한 횟수 반환|\n",
    "|`tuple.index()`|지정된 항목이 처음 위치한 인덱스 반환|"
   ]
  },
  {
   "cell_type": "code",
   "execution_count": 234,
   "id": "5d8ce601-3957-4581-bfce-ad9a7c15a6a0",
   "metadata": {},
   "outputs": [
    {
     "name": "stdout",
     "output_type": "stream",
     "text": [
      "2\n",
      "5\n"
     ]
    }
   ],
   "source": [
    "num_tuple = (1, 2, 3, 1, 3, 5, 5, 10, 15)\n",
    "print(num_tuple.count(1))\n",
    "print(num_tuple.index(5))"
   ]
  },
  {
   "cell_type": "markdown",
   "id": "8692b424-3eaa-4454-8601-40901fea1775",
   "metadata": {},
   "source": [
    "### `zip()` 함수 "
   ]
  },
  {
   "cell_type": "markdown",
   "id": "50e9ac44-ad5d-4149-ab04-bfefc074321f",
   "metadata": {},
   "source": [
    "시퀀스(예, 문자열, 리스트, 튜플) 여러 개의 항목을 순서대로 짝지어 튜플의 리스트 형식의 객체를 생성한다. 자료형이 달라도 된다. 단, `zip()` 함수의 반환값은 구체적으로 명시되지 않는다. "
   ]
  },
  {
   "cell_type": "code",
   "execution_count": 236,
   "id": "d798ff45-5e16-47d0-8c01-fb30fc345850",
   "metadata": {},
   "outputs": [
    {
     "data": {
      "text/plain": [
       "<zip at 0x7ff04c3a4600>"
      ]
     },
     "execution_count": 236,
     "metadata": {},
     "output_type": "execute_result"
    }
   ],
   "source": [
    "zip(\"abc\", [1, 2, 3])"
   ]
  },
  {
   "cell_type": "markdown",
   "id": "d9917f60-c017-4387-9d1f-53337a6f4f1f",
   "metadata": {},
   "source": [
    "`list()`함수를 이용하여 리스트로 변환하면, 쉽게 내용을 확인할 수 있다. "
   ]
  },
  {
   "cell_type": "code",
   "execution_count": 237,
   "id": "21f0e832-7cf3-46d4-aad5-f1751c9c0ca5",
   "metadata": {},
   "outputs": [
    {
     "data": {
      "text/plain": [
       "[('a', 1), ('b', 2), ('c', 3)]"
      ]
     },
     "execution_count": 237,
     "metadata": {},
     "output_type": "execute_result"
    }
   ],
   "source": [
    "list(zip(\"abc\", [1, 2, 3]))"
   ]
  },
  {
   "cell_type": "markdown",
   "id": "577a233e-5efa-4e1c-b1b7-16fc07d6ea88",
   "metadata": {},
   "source": [
    "여러 개를 짝짓는 것도 가능하며, 각 자료형의 길이가 다르면 짧은 길이에 맞춰서 짝을 짓는다. "
   ]
  },
  {
   "cell_type": "code",
   "execution_count": 239,
   "id": "ba877d5a-8c8c-414d-909f-69056de784da",
   "metadata": {},
   "outputs": [
    {
     "data": {
      "text/plain": [
       "[('a', 1, 5), ('b', 2, 10), ('c', 3, 15)]"
      ]
     },
     "execution_count": 239,
     "metadata": {},
     "output_type": "execute_result"
    }
   ],
   "source": [
    "list(zip(\"abcdefgh\",(1, 2, 3, 4, 5), [5, 10, 15]))"
   ]
  },
  {
   "cell_type": "markdown",
   "id": "0be8a461-a3b3-4a32-897d-d3491206f885",
   "metadata": {},
   "source": [
    "### 해체 방법"
   ]
  },
  {
   "cell_type": "markdown",
   "id": "41986883-e0e7-4bfc-9bcc-81ec82d73314",
   "metadata": {},
   "source": [
    "시퀀스 항목 각각을 변수에 지정하고자 할 때는 해체하는 방법을 사용한다. 단, 사용되는 변수의 수는 항목의 수와 일치해야 한다.   \n",
    "예를 들어, 세 개의 항목을 갖는 시퀀스를 해체하려면 세 개의 변수가 필요하다. "
   ]
  },
  {
   "cell_type": "code",
   "execution_count": 245,
   "id": "375897a3-cfc7-4e14-906e-c26879b0a56b",
   "metadata": {},
   "outputs": [
    {
     "name": "stdout",
     "output_type": "stream",
     "text": [
      "1\n",
      "<class 'str'>\n",
      "2\n",
      "3\n",
      "4\n",
      "5\n",
      "6\n",
      "7\n"
     ]
    }
   ],
   "source": [
    "a, b = \"12\"\n",
    "c, d, e = [3, 4, 5]\n",
    "f, g = (6, 7)\n",
    "print(a) \n",
    "print(type(a)) # 타입은 문자열이다.\n",
    "print(b) #타입 - str\n",
    "print(c) #타입 - int\n",
    "print(d) #타입 - int\n",
    "print(e) #타입 - int\n",
    "print(f) #타입 - int\n",
    "print(g) #타입 - int"
   ]
  },
  {
   "cell_type": "markdown",
   "id": "d9990d57-54ae-4749-a7eb-86ad0751fabb",
   "metadata": {},
   "source": [
    "굳이 이름을 주지 않아도 되는 항목이 있다면 변수 대신에 밑줄<font size = \"2\">underscore</font>(`_`) 기호를 사용한다.   \n",
    "예를 들어, 변수 `d`가 필요없다면 아래와 같이 해체할 수 있다. "
   ]
  },
  {
   "cell_type": "code",
   "execution_count": 249,
   "id": "964f9764-8d22-4857-8eea-c2c3b0c7e208",
   "metadata": {},
   "outputs": [
    {
     "name": "stdout",
     "output_type": "stream",
     "text": [
      "8\n"
     ]
    }
   ],
   "source": [
    "c, _, e = [3, 4, 5]\n",
    "print(c + e)"
   ]
  },
  {
   "cell_type": "markdown",
   "id": "92e24982-a770-4b8b-aa79-3a0477652fde",
   "metadata": {},
   "source": [
    ":::{admonition} 주의  \n",
    ":class: caution  \n",
    "시퀀스 항목 각각을 변수에 지정하고자 할 때는 사용되는 변수의 수와 항목의 수는 일치해야 한다.\n",
    "\n",
    "```python\n",
    ">>> c, e = [3, 4, 5]\n",
    "ValueError                                Traceback (most recent call last)\n",
    "/tmp/ipykernel_1817/4065688922.py in <module>\n",
    "----> 1 c, e = [3, 4, 5]\n",
    "      2 print(c + e)\n",
    "\n",
    "ValueError: too many values to unpack (expected 2)\n",
    "```\n",
    ":::"
   ]
  },
  {
   "cell_type": "markdown",
   "id": "49032d0f-ef71-4028-89db-d6dcc0f89736",
   "metadata": {},
   "source": [
    "반면에 앞에 몇 개만 변수에 할당하고 나머지는 하나의 리스트로 묶을 수도 있다. 이를 위해 별표 기호<font size = \"2\">asterisk</font>(`*`)를 하나의 변수명과 함께 사용한다. "
   ]
  },
  {
   "cell_type": "code",
   "execution_count": 250,
   "id": "cc944e15-f8a5-4062-8038-baab4423fc22",
   "metadata": {},
   "outputs": [
    {
     "name": "stdout",
     "output_type": "stream",
     "text": [
      "1\n",
      "2\n",
      "[3, 4, 5]\n"
     ]
    }
   ],
   "source": [
    "values = (1, 2, 3, 4, 5)\n",
    "a, b, *rest = values\n",
    "print(a)\n",
    "print(b)\n",
    "print(rest)"
   ]
  },
  {
   "cell_type": "markdown",
   "id": "0fee2c3f-852a-4ff1-b5de-40b328ce6927",
   "metadata": {},
   "source": [
    "나머지 항목들을 무시하고 싶다면, 별표와 밑줄을 함께 사용한다. "
   ]
  },
  {
   "cell_type": "code",
   "execution_count": 251,
   "id": "1de48335-d5c8-4e1b-9802-aba6d2d359a3",
   "metadata": {},
   "outputs": [
    {
     "name": "stdout",
     "output_type": "stream",
     "text": [
      "1\n",
      "2\n"
     ]
    }
   ],
   "source": [
    "a, b, *_ = values\n",
    "print(a)\n",
    "print(b)"
   ]
  },
  {
   "cell_type": "markdown",
   "id": "4099a288-d612-4b9f-af69-474ede017969",
   "metadata": {},
   "source": [
    "## 집합형"
   ]
  },
  {
   "cell_type": "markdown",
   "id": "2bcf6edd-7ccf-479a-9fb2-fb61bf09ed28",
   "metadata": {},
   "source": [
    "### 집합"
   ]
  },
  {
   "cell_type": "markdown",
   "id": "0e658082-690d-4b62-b760-b7e0af55bc81",
   "metadata": {},
   "source": [
    "집합<font size = \"2\">set</font>형은 수학에서 다루는 집합과 비슷한 자료형으로 형식은 아래와 같다.  "
   ]
  },
  {
   "cell_type": "markdown",
   "id": "74738a09-9bc3-4967-a194-2fb48cde6502",
   "metadata": {},
   "source": [
    "`{항목1, 항목2, 항목3, ..., 항목n}`"
   ]
  },
  {
   "cell_type": "markdown",
   "id": "671a46e3-d2b6-4fc5-9d5a-926e435165c4",
   "metadata": {},
   "source": [
    "중괄호(`{}`)를 사용하고, 각 항목은 콤마(`,`)로 구분한다."
   ]
  },
  {
   "cell_type": "markdown",
   "id": "a41ab0b9-d287-4e41-a22e-eae3e609079d",
   "metadata": {},
   "source": [
    "집합은 항목의 중복을 허용하지 않고, 항목들 사이의 순서는 무시된다. "
   ]
  },
  {
   "cell_type": "code",
   "execution_count": 5,
   "id": "684fad66-f163-440b-80b3-035d28977b2f",
   "metadata": {},
   "outputs": [
    {
     "data": {
      "text/plain": [
       "{4, 9.2, True, 'apple'}"
      ]
     },
     "execution_count": 5,
     "metadata": {},
     "output_type": "execute_result"
    }
   ],
   "source": [
    "a_set = {4, 9.2, \"apple\", True, 4}\n",
    "a_set"
   ]
  },
  {
   "cell_type": "markdown",
   "id": "ff119c5a-bc11-45cd-988e-9606c39dc5fa",
   "metadata": {},
   "source": [
    ":::{admonition} 참고 \n",
    ":class: info  \n",
    "집합의 원소는 모두 해시 가능이어야 한다. 즉, 리스트는 집합의 원소가 될 수 없다. \n",
    "```python\n",
    ">>> {[1, 3], 4}\n",
    "TypeError                                 Traceback (most recent call last)\n",
    "/tmp/ipykernel_1817/2739416386.py in <module>\n",
    "----> 1 {[1, 3], 4}\n",
    "\n",
    "TypeError: unhashable type: 'list'\n",
    "```\n",
    ":::"
   ]
  },
  {
   "cell_type": "markdown",
   "id": "a8af20e9-31d9-4eb1-98a8-0b1d5a2b8f3a",
   "metadata": {},
   "source": [
    ":::{admonition} 해시 가능 <font size = \"2\">hashable</font>\n",
    ":class: info  \n",
    "\n",
    "어떤 객체가 변하지 않는 해시값을 갖고, 다른 객체와 비교될 수 있으면 해시 가능이라고 한다.  \n",
    "파이썬의 모든 불변 내장 객체들은 해시 가능하다. 반면 리스트나 딕셔너리와 같은 가변 객체들은 해시 불가능이다.  \n",
    "집합의 원소나 딕셔너리의 키는 해시 가능한 것만 사용할 수 있다. \n",
    "\n",
    "\n",
    "`hash()` 함수를 사용하여 해시 가능 여부를 확인할 수 있다.   \n",
    "`hash()` 함수는 해시 가능일 때는 특정 정수를 반환하고, 불가능일 때는 오류가 발생한다.  \n",
    "```python\n",
    ">>> hash(1)\n",
    "1\n",
    ">>> hash([1, 2])\n",
    "TypeError                                 Traceback (most recent call last)\n",
    "/tmp/ipykernel_1817/3864786969.py in <module>\n",
    "----> 1 hash([1, 2])\n",
    "\n",
    "TypeError: unhashable type: 'list'\n",
    "```\n",
    "\n",
    ":::"
   ]
  },
  {
   "cell_type": "markdown",
   "id": "62c36429-9b85-4ca7-90f6-418d46646d53",
   "metadata": {},
   "source": [
    ":::{admonition} 주의 \n",
    ":class: caution  \n",
    "집합은 순서가 없는 자료형이라 인덱싱이나 슬라이싱을 지원하지 않는다.   \n",
    "```python\n",
    ">>> a_set[0]\n",
    "TypeError                                 Traceback (most recent call last)\n",
    "/tmp/ipykernel_1817/3483571857.py in <module>\n",
    "----> 1 a_set[0]\n",
    "\n",
    "TypeError: 'set' object is not subscriptable\n",
    "```\n",
    ":::"
   ]
  },
  {
   "cell_type": "markdown",
   "id": "8f6d5cb6-e381-4228-99f8-331555fea940",
   "metadata": {},
   "source": [
    "집합은 아래와 같은 방식으로 타입 힌트를 추가한다.  "
   ]
  },
  {
   "cell_type": "code",
   "execution_count": 286,
   "id": "0dce22a0-b0e3-4c7d-8a23-72b33d2197c8",
   "metadata": {},
   "outputs": [
    {
     "data": {
      "text/plain": [
       "{1, 5, 7, 9}"
      ]
     },
     "execution_count": 286,
     "metadata": {},
     "output_type": "execute_result"
    }
   ],
   "source": [
    "from typing import Set \n",
    "a_set : Set[int] = {1, 5, 9, 7}\n",
    "a_set"
   ]
  },
  {
   "cell_type": "markdown",
   "id": "69b70470-b4a7-4063-80e1-35e7426ab8bb",
   "metadata": {},
   "source": [
    "#### 빈 집합"
   ]
  },
  {
   "cell_type": "markdown",
   "id": "870e89d1-315c-4b5f-b0e8-1c8fcc06a295",
   "metadata": {},
   "source": [
    "빈 집합<font size = \"2\">empty set</font>은 아무것도 포함하지 않는 집합을 의미한다. 빈 집합를 만드는 방법은 아래와 같다. "
   ]
  },
  {
   "cell_type": "code",
   "execution_count": 265,
   "id": "6a4cd0fe-4825-4603-a211-ee5baba01654",
   "metadata": {},
   "outputs": [
    {
     "data": {
      "text/plain": [
       "set()"
      ]
     },
     "execution_count": 265,
     "metadata": {},
     "output_type": "execute_result"
    }
   ],
   "source": [
    "empty_set = set()\n",
    "empty_set"
   ]
  },
  {
   "cell_type": "markdown",
   "id": "2fff9c8e-4e3b-46cd-abcd-b160f880059d",
   "metadata": {},
   "source": [
    ":::{admonition} 주의 \n",
    ":class: caution  \n",
    "\n",
    "빈 집합을 만들 때는 `set()`을 사용해야 한다. `{}`은 빈 딕셔너리이다. \n",
    "```python\n",
    ">>> a = {}\n",
    ">>> type(a)\n",
    "dict\n",
    "```\n",
    ":::"
   ]
  },
  {
   "cell_type": "markdown",
   "id": "2b9fa395-07a3-4968-9a30-554941419d6b",
   "metadata": {},
   "source": [
    "#### 항목 포함 여부 연산자 \n",
    "* `in` :  연산자 왼쪽에 있는 값이 오른쪽에 있는 집합의 항목으로 등장하는지 여부를 알려주는 논리 연산자\n",
    "* `not in` : 연산자 왼쪽에 있는 값이 오른쪽에 있는 집합의 항목으로 등장하지 않는지 여부를 알려주는 논리 연산자"
   ]
  },
  {
   "cell_type": "code",
   "execution_count": 261,
   "id": "94c08b25-159c-4838-a79a-0ef617d19e19",
   "metadata": {},
   "outputs": [
    {
     "data": {
      "text/plain": [
       "True"
      ]
     },
     "execution_count": 261,
     "metadata": {},
     "output_type": "execute_result"
    }
   ],
   "source": [
    "1 in {1, 2, 3, 9, 4}"
   ]
  },
  {
   "cell_type": "code",
   "execution_count": 264,
   "id": "e65790d3-5723-48eb-8130-d8dabc73ed48",
   "metadata": {},
   "outputs": [
    {
     "data": {
      "text/plain": [
       "True"
      ]
     },
     "execution_count": 264,
     "metadata": {},
     "output_type": "execute_result"
    }
   ],
   "source": [
    "'a' not in {1, 'b', True, 9}"
   ]
  },
  {
   "cell_type": "markdown",
   "id": "57a6d546-812e-43e9-ae25-55890f4ded46",
   "metadata": {},
   "source": [
    "#### 집합 연산"
   ]
  },
  {
   "cell_type": "markdown",
   "id": "1f3f083d-5aad-49c6-aae7-45286f8a503f",
   "metadata": {},
   "source": [
    "집합에서 사용할 수 있는 연산자는 아래와 같다. "
   ]
  },
  {
   "cell_type": "markdown",
   "id": "019583ad-6649-4adf-a700-db097d8c34f5",
   "metadata": {},
   "source": [
    "|연산자|설명|예시|실행결과|\n",
    "|:----------:|:----------:|:----------:|:----------:|\n",
    "|`\\|`|합집합|`{1, 2} \\| {2, 4}`|`{1, 2, 4}`|\n",
    "|`&`|교집합|`{1, 2} & {2, 4}`|`{2}`|\n",
    "|`-`|차집합|`{1, 2} - {2, 4}`|`{1}`|\n",
    "|`<=`|부분집합 여부|`{1, 2} <= {2, 4}`|`False`|"
   ]
  },
  {
   "cell_type": "code",
   "execution_count": 277,
   "id": "c439aef3-a85c-4eb6-aeba-a39d9c4ed810",
   "metadata": {},
   "outputs": [
    {
     "data": {
      "text/plain": [
       "{1, 2, 3, 4, 5, 6}"
      ]
     },
     "execution_count": 277,
     "metadata": {},
     "output_type": "execute_result"
    }
   ],
   "source": [
    "{1, 2, 3, 4, 5} | {2, 4, 6}"
   ]
  },
  {
   "cell_type": "code",
   "execution_count": 283,
   "id": "3a0433c1-9020-475b-a3ba-96024a3db209",
   "metadata": {},
   "outputs": [
    {
     "data": {
      "text/plain": [
       "{2, 4}"
      ]
     },
     "execution_count": 283,
     "metadata": {},
     "output_type": "execute_result"
    }
   ],
   "source": [
    "{1, 2, 3, 4, 5} & {2, 4, 6}"
   ]
  },
  {
   "cell_type": "code",
   "execution_count": 279,
   "id": "6e86c86a-21fd-41a5-8df5-a81d5675a600",
   "metadata": {},
   "outputs": [
    {
     "data": {
      "text/plain": [
       "{1, 3, 5}"
      ]
     },
     "execution_count": 279,
     "metadata": {},
     "output_type": "execute_result"
    }
   ],
   "source": [
    "{1, 2, 3, 4, 5} - {2, 4, 6}"
   ]
  },
  {
   "cell_type": "code",
   "execution_count": 280,
   "id": "b396fcf0-b2e8-4278-be4c-fec2ca862ac3",
   "metadata": {},
   "outputs": [
    {
     "data": {
      "text/plain": [
       "False"
      ]
     },
     "execution_count": 280,
     "metadata": {},
     "output_type": "execute_result"
    }
   ],
   "source": [
    "{1, 2, 3, 4, 5} <= {2, 4, 6}"
   ]
  },
  {
   "cell_type": "code",
   "execution_count": 281,
   "id": "1a80f005-0374-4efb-967b-a4d36786deb9",
   "metadata": {},
   "outputs": [
    {
     "data": {
      "text/plain": [
       "True"
      ]
     },
     "execution_count": 281,
     "metadata": {},
     "output_type": "execute_result"
    }
   ],
   "source": [
    "{1, 2} <= {1, 2, 3, 4, 5}"
   ]
  },
  {
   "cell_type": "markdown",
   "id": "92cd235c-918c-4715-a7d3-3a840a3160be",
   "metadata": {},
   "source": [
    ":::{admonition} 주의  \n",
    ":class: caution  \n",
    "\n",
    "집합은 덧셈과 곱셈 연산자를 사용할 수 없다. \n",
    "\n",
    "```python \n",
    ">>> {1, 2} + {3, 4, 5}\n",
    "TypeError                                 Traceback (most recent call last)\n",
    "/tmp/ipykernel_1817/437379440.py in <module>\n",
    "----> 1 {1, 2} + {3, 4, 5}\n",
    "\n",
    "TypeError: unsupported operand type(s) for +: 'set' and 'set'\n",
    "\n",
    ">>> {1, 2} * 2\n",
    "TypeError                                 Traceback (most recent call last)\n",
    "/tmp/ipykernel_1817/650599529.py in <module>\n",
    "----> 1 {1, 2} * 2\n",
    "\n",
    "TypeError: unsupported operand type(s) for *: 'set' and 'int'\n",
    "```\n",
    ":::"
   ]
  },
  {
   "cell_type": "markdown",
   "id": "4c9943e0-dfdf-49ba-8398-7f55dbb57e4d",
   "metadata": {},
   "source": [
    "#### `len()` 함수  \n",
    "len()함수 : 집합의 길이 확인"
   ]
  },
  {
   "cell_type": "code",
   "execution_count": 347,
   "id": "af8e3e27-bb36-476a-ac67-7fd6456d73fa",
   "metadata": {},
   "outputs": [
    {
     "data": {
      "text/plain": [
       "5"
      ]
     },
     "execution_count": 347,
     "metadata": {},
     "output_type": "execute_result"
    }
   ],
   "source": [
    "len({1, 3, 5, 7, 9})"
   ]
  },
  {
   "cell_type": "markdown",
   "id": "bbcc9178-b2e9-4c72-b473-6d1a35f76853",
   "metadata": {},
   "source": [
    "#### 최대, 최소 함수\n",
    "\n",
    "* `max()` 함수 : 최댓값 확인"
   ]
  },
  {
   "cell_type": "code",
   "execution_count": 350,
   "id": "3ea0099d-8c03-48c6-abb4-6fd928a7281c",
   "metadata": {},
   "outputs": [
    {
     "data": {
      "text/plain": [
       "9"
      ]
     },
     "execution_count": 350,
     "metadata": {},
     "output_type": "execute_result"
    }
   ],
   "source": [
    "max({1, 3, 5, 7, 9})"
   ]
  },
  {
   "cell_type": "markdown",
   "id": "c229c321-39fa-4a99-8185-091f44568476",
   "metadata": {},
   "source": [
    "* `min()` 함수 : 최솟값 확인"
   ]
  },
  {
   "cell_type": "code",
   "execution_count": 349,
   "id": "1ee967f4-bd3d-426b-8ba9-017074f36c74",
   "metadata": {},
   "outputs": [
    {
     "data": {
      "text/plain": [
       "1"
      ]
     },
     "execution_count": 349,
     "metadata": {},
     "output_type": "execute_result"
    }
   ],
   "source": [
    "min({1, 3, 5, 7, 9})"
   ]
  },
  {
   "cell_type": "markdown",
   "id": "115bbffa-822a-4a09-9b57-7a3ed512cf44",
   "metadata": {},
   "source": [
    "#### 집합 메서드  \n",
    "집합 자료형이 제공하는 주요 메서드는 아래와 같다."
   ]
  },
  {
   "cell_type": "markdown",
   "id": "5f434acd-d595-4749-b207-e6c22c0ae44f",
   "metadata": {},
   "source": [
    "|메서드|설명|예시|실행결과|\n",
    "|:----------:|:----------:|:----------:|:----------:|\n",
    "|`set.union()`|합집합 반환|`{1, 2}.union({3, 4})`|`{1, 2, 3, 4}`|\n",
    "|`set.intersection()`|교집합 반환|`{1, 2, 3}.intersection({3, 4})`|`{3}`|\n",
    "|`set.difference()`|차집합 반환|`{1, 2, 3}.difference({3, 4})`|`{1, 2}`|\n",
    "|`set.issubset()`|부분 집합 여부를 판단하여 반환|`{1, 2, 3}.issubset({3, 4})`|`False`|\n",
    "|`set.add()`|항목추가. 반환값은 `None`|||\n",
    "|`set.remove()`|특정 항목 삭제. 반환값은 `None`|||\n",
    "|`set.pop()`|임의의 항목 삭제. 반환값은 삭제하는 항목. 빈 집합에 사용하면 오류 발생|||\n",
    "|`set.clear()`|모든 항목을 삭제. 반환값은 `None`|||\n",
    "|`set.update()`|여러 개의 항목 한번에 추가. 반환값은 `None`|||"
   ]
  },
  {
   "cell_type": "code",
   "execution_count": 324,
   "id": "c6f52e9d-feac-4bba-a954-865a65dd2765",
   "metadata": {},
   "outputs": [
    {
     "name": "stdout",
     "output_type": "stream",
     "text": [
      "{8, 1, 2, 3}\n"
     ]
    }
   ],
   "source": [
    "a_set = {1, 2, 3}\n",
    "a_set.add(8)\n",
    "print(a_set)"
   ]
  },
  {
   "cell_type": "code",
   "execution_count": 325,
   "id": "c6c17fb4-4c27-4b0c-bf43-010ed5baeb13",
   "metadata": {},
   "outputs": [
    {
     "name": "stdout",
     "output_type": "stream",
     "text": [
      "{8, 2, 3}\n"
     ]
    }
   ],
   "source": [
    "a_set.remove(1)\n",
    "print(a_set)"
   ]
  },
  {
   "cell_type": "code",
   "execution_count": 326,
   "id": "70d37f77-f12f-4938-9f3f-2214c2815362",
   "metadata": {},
   "outputs": [
    {
     "name": "stdout",
     "output_type": "stream",
     "text": [
      "8\n",
      "{2, 3}\n"
     ]
    }
   ],
   "source": [
    "print(a_set.pop())\n",
    "print(a_set)"
   ]
  },
  {
   "cell_type": "code",
   "execution_count": 327,
   "id": "a4128f72-672d-496c-b049-a6c06a5bb526",
   "metadata": {},
   "outputs": [
    {
     "name": "stdout",
     "output_type": "stream",
     "text": [
      "set()\n"
     ]
    }
   ],
   "source": [
    "a_set.clear()\n",
    "print(a_set)"
   ]
  },
  {
   "cell_type": "code",
   "execution_count": 328,
   "id": "442808e1-4dd2-4725-8ec1-8de77998228f",
   "metadata": {},
   "outputs": [
    {
     "name": "stdout",
     "output_type": "stream",
     "text": [
      "{10, 5, 15}\n"
     ]
    }
   ],
   "source": [
    "a_set.update({5, 10, 15})\n",
    "print(a_set)"
   ]
  },
  {
   "cell_type": "markdown",
   "id": "53a6c12f-ddf0-4416-bb35-bb90d37f8bc4",
   "metadata": {},
   "source": [
    "## 매핑형"
   ]
  },
  {
   "cell_type": "markdown",
   "id": "bffd9468-b3b8-4246-b265-6576e87280d5",
   "metadata": {
    "tags": []
   },
   "source": [
    "### 사전  \n",
    "사전형 또는 딕셔너리<font size = \"2\">dictionary</font> 자료형은 키<font size = \"2\">keys</font>와 값<font size = \"2\">values</font>으로 이루어진 항목<font size = \"2\">items</font>들의 집합으로, 사전에서 단어의 뜻을 확인하는 방식과 유사하게 활용할 수 있는 자료구조를 가지고 있다. 예를 들어, 영어 사전에서 `world`란 단어의 뜻을 물으면 `세계`라는 뜻을 알려주는 데, 이때 `world`는 키<font size = \"2\">key</font>에 해당하고, `세계`는 값<font size = \"2\">value</font>에 해당한다.   \n",
    "\n",
    "딕셔너리의 형식은 아래와 같다.   \n",
    "\n",
    "`{key1 : value1, key2 : value2, key3 : value3, ...}`  \n",
    "\n",
    "`key : value` 형태로 이루어진 여러 개의 항목들이 중괄호(`{}`)로 묶여있고, 각 항목들은 콤마(`,`)로 구분한다.  \n",
    "\n",
    "예를 들어, key가 `'Hello'`, `'World'`이고, 각각의 key에 해당하는 value가 `'안녕'`, `'세계'`인 딕셔너리 `dic`를 만드는 코드를 아래와 같다. "
   ]
  },
  {
   "cell_type": "code",
   "execution_count": 335,
   "id": "c3c13787-0d8b-47e2-bdd1-acb84f4b44ac",
   "metadata": {},
   "outputs": [
    {
     "data": {
      "text/plain": [
       "{'Hello': '안녕', 'World': '세계'}"
      ]
     },
     "execution_count": 335,
     "metadata": {},
     "output_type": "execute_result"
    }
   ],
   "source": [
    "dic = {'Hello' : '안녕', 'World' : '세계'}\n",
    "dic"
   ]
  },
  {
   "cell_type": "markdown",
   "id": "18713154-dca4-486e-9a88-7e6115ea90c3",
   "metadata": {},
   "source": [
    ":::{admonition} 참고  \n",
    ":class: info  \n",
    "해시 가능한 것만 딕셔너리의 키로 사용될 수 있다. 예를 들어, 정수, 실수, 문자열, 튜플 등이다.  \n",
    " \n",
    "```python\n",
    ">>> dic = {1 : 5, 2.5 : [3, 4], 'a' : (2, 7, 4), (1, 2) : 'd'}\n",
    ">>> print(dic)\n",
    "{1: 5, 2.5: [3, 4], 'a': (2, 7, 4), (1, 2): 'd'}\n",
    "```\n",
    "\n",
    "단, 키로 사용되는 튜플의 항목에 리스트 등 변경 가능한 값이 사용되지 않아야 한다. \n",
    "```python\n",
    ">>> {([1, 2], 3): 1}\n",
    "TypeError                                 Traceback (most recent call last)\n",
    "/tmp/ipykernel_1817/230770617.py in <module>\n",
    "----> 1 {([1, 2], 3): 1}\n",
    "\n",
    "TypeError: unhashable type: 'list'\n",
    "```\n",
    ":::"
   ]
  },
  {
   "cell_type": "markdown",
   "id": "153e6cd7-0a84-4e53-b952-4726132670d7",
   "metadata": {},
   "source": [
    "사전은 아래와 같은 형식으로 타입 힌트를 추가한다. "
   ]
  },
  {
   "cell_type": "code",
   "execution_count": 287,
   "id": "38e39890-eef1-4b2b-9250-92bfa53fd1f4",
   "metadata": {},
   "outputs": [],
   "source": [
    "from typing import Dict\n",
    "a_dict : Dict[str, str] = {\"name\": \"강현\", \"age\": \"3\"}"
   ]
  },
  {
   "cell_type": "markdown",
   "id": "51f9fd25-978b-4f3d-91e4-f8821883e30b",
   "metadata": {},
   "source": [
    "#### 빈 사전"
   ]
  },
  {
   "cell_type": "markdown",
   "id": "aa6643e1-7955-4374-b12f-158fc667b067",
   "metadata": {},
   "source": [
    "빈 사전 또는 빈 딕셔너리<font size = \"2\">empty dictionary</font>는 아무것도 포함하지 않는 사전을 의미한다. 빈 사전를 만드는 방법은 아래와 같다. "
   ]
  },
  {
   "cell_type": "code",
   "execution_count": 340,
   "id": "90a82f4a-2401-443d-8d9b-e472d205d8b7",
   "metadata": {},
   "outputs": [
    {
     "data": {
      "text/plain": [
       "{}"
      ]
     },
     "execution_count": 340,
     "metadata": {},
     "output_type": "execute_result"
    }
   ],
   "source": [
    "empty_dict = {}\n",
    "empty_dict = dict()\n",
    "empty_dict"
   ]
  },
  {
   "cell_type": "markdown",
   "id": "5b2f339b-c963-419c-ae68-20621fa35a7c",
   "metadata": {},
   "source": [
    "#### 항목 포함 여부 연산자 \n",
    "* `in` :  연산자 왼쪽에 있는 값이 오른쪽에 있는 사전의 키로 등장하는지 여부를 알려주는 논리 연산자\n",
    "* `not in` : 연산자 왼쪽에 있는 값이 오른쪽에 있는 사전의 키로 등장하지 않는지 여부를 알려주는 논리 연산자"
   ]
  },
  {
   "cell_type": "code",
   "execution_count": 341,
   "id": "2ff0d7a3-6b3a-4216-a7c4-1fa3ceca213f",
   "metadata": {},
   "outputs": [
    {
     "data": {
      "text/plain": [
       "False"
      ]
     },
     "execution_count": 341,
     "metadata": {},
     "output_type": "execute_result"
    }
   ],
   "source": [
    "'city' in {\"name\": \"강현\", \"age\": \"3\"} "
   ]
  },
  {
   "cell_type": "code",
   "execution_count": 342,
   "id": "3f12b589-042c-4c8b-8fbf-04d70b98424c",
   "metadata": {},
   "outputs": [
    {
     "data": {
      "text/plain": [
       "True"
      ]
     },
     "execution_count": 342,
     "metadata": {},
     "output_type": "execute_result"
    }
   ],
   "source": [
    "'city' not in {\"name\": \"강현\", \"age\": \"3\"} "
   ]
  },
  {
   "cell_type": "markdown",
   "id": "bf41bc47-560a-40b7-bf08-5432e87c9ae3",
   "metadata": {},
   "source": [
    "#### `len()` 함수 \n",
    "len()함수 : 사전에서 항목의 길이 확인"
   ]
  },
  {
   "cell_type": "code",
   "execution_count": 351,
   "id": "596b0f0a-a169-41f6-a7f8-e6db8c85af66",
   "metadata": {},
   "outputs": [
    {
     "data": {
      "text/plain": [
       "2"
      ]
     },
     "execution_count": 351,
     "metadata": {},
     "output_type": "execute_result"
    }
   ],
   "source": [
    "len({\"name\": \"강현\", \"age\": \"3\"}) "
   ]
  },
  {
   "cell_type": "markdown",
   "id": "0e5cd81b-f760-4399-8269-8ab723581ff3",
   "metadata": {},
   "source": [
    "#### 최대, 최소 함수\n",
    "\n",
    "* `max()` 함수 : 사전의 키의 최댓값 확인"
   ]
  },
  {
   "cell_type": "code",
   "execution_count": 354,
   "id": "bd4e6fb6-66d0-44ba-8294-1bb50e84ab01",
   "metadata": {},
   "outputs": [
    {
     "data": {
      "text/plain": [
       "3"
      ]
     },
     "execution_count": 354,
     "metadata": {},
     "output_type": "execute_result"
    }
   ],
   "source": [
    "max({1 : 'one', 2 : 'two', 3 : 'three'})"
   ]
  },
  {
   "cell_type": "markdown",
   "id": "99cad44a-f54a-4c21-80a5-fb1f2e038eb6",
   "metadata": {},
   "source": [
    "* `min()` 함수 : 사전의 키의 최솟값 확인"
   ]
  },
  {
   "cell_type": "code",
   "execution_count": 355,
   "id": "c6aff5df-0005-490b-b4e9-d132a0946cd4",
   "metadata": {},
   "outputs": [
    {
     "data": {
      "text/plain": [
       "1"
      ]
     },
     "execution_count": 355,
     "metadata": {},
     "output_type": "execute_result"
    }
   ],
   "source": [
    "min({1 : 'one', 2 : 'two', 3 : 'three'})"
   ]
  },
  {
   "cell_type": "markdown",
   "id": "2188cc6e-643d-4691-8dc2-da045b53f1c7",
   "metadata": {},
   "source": [
    "#### 인덱싱  \n",
    "딕셔너리에서 항목의 순서는 중요하지 않다. 그보다 어떤 키<font size = \"2\">key</font>가 사용되었는지가 중요하다.  \n",
    "딕셔너리에서 인덱싱은 키를 이용한다. 예를 들어, 아래 딕셔너리 `dic`에서 `'Hello'`에 대응하는 값을 확인하고자 하면  \n",
    "다음과 같이 대괄호를 사용하는 인덱싱을 이용한다. "
   ]
  },
  {
   "cell_type": "code",
   "execution_count": 356,
   "id": "ff6d9206-2068-49ca-8ea7-e4363adbf098",
   "metadata": {},
   "outputs": [
    {
     "data": {
      "text/plain": [
       "'안녕'"
      ]
     },
     "execution_count": 356,
     "metadata": {},
     "output_type": "execute_result"
    }
   ],
   "source": [
    "dic = {'Hello' : '안녕', 'World' : '세계'}\n",
    "dic['Hello']"
   ]
  },
  {
   "cell_type": "markdown",
   "id": "e45b6b6d-b854-4f00-affb-25e20900c256",
   "metadata": {},
   "source": [
    ":::{admonition} 주의 \n",
    ":class: caution  \n",
    "\n",
    "존재하지 않는 키로 값을 추출하려고 하면, 오류가 발생한다. \n",
    "```python\n",
    ">>> dic = {'Hello' : '안녕', 'World' : '세계'}\n",
    ">>> dic['Python']\n",
    "KeyError                                  Traceback (most recent call last)\n",
    "/tmp/ipykernel_1817/1517958361.py in <module>\n",
    "----> 1 dic['Python']\n",
    "\n",
    "KeyError: 'Python'\n",
    "```\n",
    ":::"
   ]
  },
  {
   "cell_type": "markdown",
   "id": "eef0321e-8b2d-4058-b708-f45f48882845",
   "metadata": {},
   "source": [
    "#### 항목의 추가와 삭제  \n",
    "* 아래와 같은 형식으로 사전에 항목을 추가한다.  \n",
    "`사전변수명[key] = value`   \n",
    "\n",
    "예를 들어, `dic`에 key와 value가 각각 `Python`과 `파이썬`인 항목을 추가하는 코드는 아래와 같다.   "
   ]
  },
  {
   "cell_type": "code",
   "execution_count": 362,
   "id": "665909b6-aa66-4b0d-9cbb-5b4f2a93039d",
   "metadata": {},
   "outputs": [
    {
     "name": "stdout",
     "output_type": "stream",
     "text": [
      "{'Hello': '안녕', 'World': '세계'}\n",
      "{'Hello': '안녕', 'World': '세계', 'Python': '파이썬'}\n"
     ]
    }
   ],
   "source": [
    "dic = {'Hello' : '안녕', 'World' : '세계'}\n",
    "print(dic)\n",
    "dic['Python'] = '파이썬'\n",
    "print(dic)"
   ]
  },
  {
   "cell_type": "markdown",
   "id": "3cdf1159-ac8e-496e-8467-41c49642922f",
   "metadata": {},
   "source": [
    ":::{admonition} 주의  \n",
    ":class: caution  \n",
    "이미 사용하고 있는 키를 가진 항목을 추가하려고 하면, 그 키로 저장된 이전 값은 사라진다.  \n",
    "```python\n",
    ">>> dic = {'Hello' : '안녕', 'World' : '세계'}\n",
    ">>> print(dic)\n",
    "{'Hello': '안녕', 'World': '세계'}\n",
    ">>> dic['World'] = '세상'\n",
    ">>> print(dic)\n",
    "{'Hello': '안녕', 'World': '세상'}\n",
    "```\n",
    ":::"
   ]
  },
  {
   "cell_type": "markdown",
   "id": "436376cf-9935-4a78-8e93-6b64fa3105cb",
   "metadata": {},
   "source": [
    "* 사전의 항목은 `del` 명령어를 사용하여 삭제할 수 있다. "
   ]
  },
  {
   "cell_type": "code",
   "execution_count": 361,
   "id": "11662ca5-0e6e-4e9f-84af-60b830ade68e",
   "metadata": {},
   "outputs": [
    {
     "name": "stdout",
     "output_type": "stream",
     "text": [
      "{'Hello': '안녕', 'World': '세계'}\n",
      "{'Hello': '안녕'}\n"
     ]
    }
   ],
   "source": [
    "dic = {'Hello' : '안녕', 'World' : '세계'}\n",
    "print(dic)\n",
    "del dic['World']\n",
    "print(dic)"
   ]
  },
  {
   "cell_type": "markdown",
   "id": "742cb9ba-3806-463f-8d67-8e8c55c78f59",
   "metadata": {},
   "source": [
    "#### 사전 메서드  \n",
    "사전 자료형이 제공하는 주요 메서드는 아래와 같다."
   ]
  },
  {
   "cell_type": "code",
   "execution_count": 2,
   "id": "d121f15d-a9c3-4782-8f76-ba0aef44f754",
   "metadata": {},
   "outputs": [],
   "source": [
    "dic = {'Hello' : '안녕', 'World' : '세계'}"
   ]
  },
  {
   "cell_type": "markdown",
   "id": "0a27b37c-0997-46e0-bd2f-1a191bd50dac",
   "metadata": {},
   "source": [
    "|메서드|설명|예시|실행결과|\n",
    "|:----------:|:----------:|:----------:|:----------:|\n",
    "|`dict.keys()`|사전에 사용된 key들을 모두 모아서 리스트와 비슷한 자료형을 만들어서 반환|`dic.keys()`|`dict_keys(['Hello', 'World'])`|\n",
    "|`dict.values()`|사전에 사용된 value들을 모두 모아서 리스트와 비슷한 자료형을 만들어서 반환|`dic.values()`|`dict_values(['안녕', '세계'])`|\n",
    "|`dict.items()`|사전에 사용된 item들을 모두 모아서 리스트와 비슷한 자료형으로 만들어서 반환|`dic.items()`|`dict_items([('Hello', '안녕'), ('World', '세계')])`|\n",
    "|`dict.get()`|key에 대응되는 value를 반환. 존재하지 않는 key를 사용하면 `None`을 반환|`dic.get('Hello')`|`'안녕'`|\n",
    "|`dict.update()`|다른 사전과 합함. 반환값은 `None`|`dic.update({'Python' : '파이썬', 'Programming' : '프로그래밍'})`|`None`|\n",
    "|`dict.pop()`|key에 해당하는 항목을 삭제. 반환값은 key에 대응하는 value. key가 존재하지 않으면 오류 발생.|`dic.pop('Python')`|`'파이썬'`|\n",
    "|`dict.clear()`|사전 안의 모든 항목들을 삭제. 반환값은 `None`|`dic.clear()`|`None`|"
   ]
  },
  {
   "cell_type": "code",
   "execution_count": 7,
   "id": "c4aca346-b8c6-4bc7-9615-e187851a966a",
   "metadata": {},
   "outputs": [
    {
     "name": "stdout",
     "output_type": "stream",
     "text": [
      "{'Hello': '안녕', 'World': '세계'}\n",
      "None\n",
      "{'Hello': '안녕', 'World': '세계', 'Python': '파이썬', 'Programming': '프로그래밍'}\n"
     ]
    }
   ],
   "source": [
    "dic = {'Hello' : '안녕', 'World' : '세계'}\n",
    "print(dic)\n",
    "print(dic.update({'Python' : '파이썬', 'Programming' : '프로그래밍'}))\n",
    "print(dic)"
   ]
  },
  {
   "cell_type": "code",
   "execution_count": 8,
   "id": "4feda8fd-0308-4d63-a640-0ec7bb9a068d",
   "metadata": {},
   "outputs": [
    {
     "name": "stdout",
     "output_type": "stream",
     "text": [
      "{'Hello': '안녕', 'World': '세계', 'Python': '파이썬', 'Programming': '프로그래밍'}\n",
      "파이썬\n",
      "{'Hello': '안녕', 'World': '세계', 'Programming': '프로그래밍'}\n"
     ]
    }
   ],
   "source": [
    "print(dic)\n",
    "print(dic.pop('Python'))\n",
    "print(dic)"
   ]
  },
  {
   "cell_type": "code",
   "execution_count": 9,
   "id": "fb8bb804-bf16-43b1-8565-2292281824d0",
   "metadata": {},
   "outputs": [
    {
     "name": "stdout",
     "output_type": "stream",
     "text": [
      "{'Hello': '안녕', 'World': '세계', 'Programming': '프로그래밍'}\n",
      "None\n",
      "{}\n"
     ]
    }
   ],
   "source": [
    "print(dic)\n",
    "print(dic.clear())\n",
    "print(dic)"
   ]
  },
  {
   "cell_type": "markdown",
   "id": "c145f691-6840-497e-a99d-852b55d9c8b5",
   "metadata": {},
   "source": [
    "## 형변환함수"
   ]
  },
  {
   "cell_type": "markdown",
   "id": "eb4f282a-9286-41aa-829a-93add61145f6",
   "metadata": {},
   "source": [
    "### `list()` 함수"
   ]
  },
  {
   "cell_type": "markdown",
   "id": "459e7fcf-258b-4453-bad9-6381df53b573",
   "metadata": {},
   "source": [
    "`list()` : 리스트형으로 변환."
   ]
  },
  {
   "cell_type": "code",
   "execution_count": 17,
   "id": "d9cc7836-656d-4fe6-9d8b-5901b3359982",
   "metadata": {},
   "outputs": [
    {
     "data": {
      "text/plain": [
       "['a', 'b', 'c']"
      ]
     },
     "execution_count": 17,
     "metadata": {},
     "output_type": "execute_result"
    }
   ],
   "source": [
    "list('abc')  #문자열의 각 문자를 항목으로 갖는 리스트 반환"
   ]
  },
  {
   "cell_type": "code",
   "execution_count": 10,
   "id": "2ad4a6f6-25c0-4a7b-a9b7-f3796a12e1b4",
   "metadata": {},
   "outputs": [
    {
     "data": {
      "text/plain": [
       "[1, 2, 3]"
      ]
     },
     "execution_count": 10,
     "metadata": {},
     "output_type": "execute_result"
    }
   ],
   "source": [
    "list((1, 2, 3))"
   ]
  },
  {
   "cell_type": "code",
   "execution_count": 11,
   "id": "9aef4cc9-f427-4daf-be1d-e525ac3d5672",
   "metadata": {},
   "outputs": [
    {
     "data": {
      "text/plain": [
       "[1, 2, 5]"
      ]
     },
     "execution_count": 11,
     "metadata": {},
     "output_type": "execute_result"
    }
   ],
   "source": [
    "list({1, 2, 5})"
   ]
  },
  {
   "cell_type": "code",
   "execution_count": 16,
   "id": "5853ab87-71f0-4023-8707-8f99a1603479",
   "metadata": {},
   "outputs": [
    {
     "name": "stdout",
     "output_type": "stream",
     "text": [
      "['Hello', 'World']\n",
      "['안녕', '세계']\n",
      "[('Hello', '안녕'), ('World', '세계')]\n"
     ]
    }
   ],
   "source": [
    "dic = {'Hello' : '안녕', 'World' : '세계'}\n",
    "print(list(dic.keys()))\n",
    "print(list(dic.values()))\n",
    "print(list(dic.items()))"
   ]
  },
  {
   "cell_type": "markdown",
   "id": "80b861c3-b012-4721-ac09-6adf4074141e",
   "metadata": {},
   "source": [
    "### `tuple()` 함수"
   ]
  },
  {
   "cell_type": "markdown",
   "id": "ed94a702-aa22-46bd-91ca-bce7e7c64a02",
   "metadata": {},
   "source": [
    "`tuple()` : 튜플형으로 변환."
   ]
  },
  {
   "cell_type": "code",
   "execution_count": 18,
   "id": "30660695-8c65-456b-8a14-c925bf9d38a7",
   "metadata": {},
   "outputs": [
    {
     "data": {
      "text/plain": [
       "('a', 'b', 'c')"
      ]
     },
     "execution_count": 18,
     "metadata": {},
     "output_type": "execute_result"
    }
   ],
   "source": [
    "tuple('abc')"
   ]
  },
  {
   "cell_type": "code",
   "execution_count": 19,
   "id": "ab8a8aa3-c7d2-4ba5-82c6-9351b5b46c90",
   "metadata": {},
   "outputs": [
    {
     "data": {
      "text/plain": [
       "(1, 2, 3)"
      ]
     },
     "execution_count": 19,
     "metadata": {},
     "output_type": "execute_result"
    }
   ],
   "source": [
    "tuple([1, 2, 3])"
   ]
  },
  {
   "cell_type": "code",
   "execution_count": 20,
   "id": "48a26150-e050-4965-a5f3-602c6bc8ea82",
   "metadata": {},
   "outputs": [
    {
     "data": {
      "text/plain": [
       "(1, 2, 5)"
      ]
     },
     "execution_count": 20,
     "metadata": {},
     "output_type": "execute_result"
    }
   ],
   "source": [
    "tuple({1, 2, 5})"
   ]
  },
  {
   "cell_type": "code",
   "execution_count": 21,
   "id": "7f4f19f8-35c4-41ac-b3e3-0ecb5edeb4bd",
   "metadata": {},
   "outputs": [
    {
     "name": "stdout",
     "output_type": "stream",
     "text": [
      "('Hello', 'World')\n",
      "('안녕', '세계')\n",
      "(('Hello', '안녕'), ('World', '세계'))\n"
     ]
    }
   ],
   "source": [
    "dic = {'Hello' : '안녕', 'World' : '세계'}\n",
    "print(tuple(dic.keys()))\n",
    "print(tuple(dic.values()))\n",
    "print(tuple(dic.items()))"
   ]
  },
  {
   "cell_type": "markdown",
   "id": "1d318807-f044-494b-a1d7-82b60bb7fbb3",
   "metadata": {},
   "source": [
    "### `set()` 함수"
   ]
  },
  {
   "cell_type": "markdown",
   "id": "e9d79249-017b-4172-b213-2680e2a48738",
   "metadata": {},
   "source": [
    "`set()` : 집합형으로 변환."
   ]
  },
  {
   "cell_type": "code",
   "execution_count": 22,
   "id": "2c073336-09b2-410c-8cbd-b42a17391b96",
   "metadata": {},
   "outputs": [
    {
     "data": {
      "text/plain": [
       "{'a', 'b', 'c'}"
      ]
     },
     "execution_count": 22,
     "metadata": {},
     "output_type": "execute_result"
    }
   ],
   "source": [
    "set('abc')"
   ]
  },
  {
   "cell_type": "code",
   "execution_count": 23,
   "id": "b52517db-1eab-4f21-a584-1828c3da7e8c",
   "metadata": {},
   "outputs": [
    {
     "data": {
      "text/plain": [
       "{1, 2, 5}"
      ]
     },
     "execution_count": 23,
     "metadata": {},
     "output_type": "execute_result"
    }
   ],
   "source": [
    "set([1, 1, 2, 5])"
   ]
  },
  {
   "cell_type": "code",
   "execution_count": 24,
   "id": "f7636682-d698-4c94-8b7d-4f65578c126d",
   "metadata": {},
   "outputs": [
    {
     "data": {
      "text/plain": [
       "{1, 3, 9}"
      ]
     },
     "execution_count": 24,
     "metadata": {},
     "output_type": "execute_result"
    }
   ],
   "source": [
    "set((1, 3, 3, 9, 1))"
   ]
  },
  {
   "cell_type": "code",
   "execution_count": 25,
   "id": "eadf92fe-1d8e-4a99-9432-2cae20bfa6ab",
   "metadata": {},
   "outputs": [
    {
     "name": "stdout",
     "output_type": "stream",
     "text": [
      "{'Hello', 'Hi', 'World'}\n",
      "{'안녕', '세계'}\n",
      "{('Hello', '안녕'), ('World', '세계'), ('Hi', '안녕')}\n"
     ]
    }
   ],
   "source": [
    "dic = {'Hello' : '안녕', 'World' : '세계', 'Hi' : '안녕'}\n",
    "print(set(dic.keys()))\n",
    "print(set(dic.values()))\n",
    "print(set(dic.items()))"
   ]
  },
  {
   "cell_type": "markdown",
   "id": "16287de7-546f-4cd3-acec-1a70924c3d4b",
   "metadata": {},
   "source": [
    "### `dict()` 함수"
   ]
  },
  {
   "cell_type": "markdown",
   "id": "023918ec-c0f4-4807-b38f-867aba005a5b",
   "metadata": {},
   "source": [
    "`dict()` : 사전형으로 변환.  \n",
    "\n",
    "사전의 각 항목은 키와 값으로 이루어졌기 때문에 적절하게 짝지어진 데이터를 사용해야 사전을 만들 수 있다."
   ]
  },
  {
   "cell_type": "code",
   "execution_count": 31,
   "id": "800d153b-7e95-47e2-b2c9-16143cad5f04",
   "metadata": {},
   "outputs": [
    {
     "data": {
      "text/plain": [
       "{'Hello': '안녕', 'World': '세계', 'Programming': '프로그래밍'}"
      ]
     },
     "execution_count": 31,
     "metadata": {},
     "output_type": "execute_result"
    }
   ],
   "source": [
    "data = [('Hello', '안녕'), ('World', '세계'), ('Programming', '프로그래밍')]\n",
    "dict(data)"
   ]
  },
  {
   "cell_type": "code",
   "execution_count": 32,
   "id": "bcd9818d-168f-4ce0-9c20-53a740353ab5",
   "metadata": {},
   "outputs": [
    {
     "data": {
      "text/plain": [
       "{'a': 1, 'b': 2, 'c': 3, 'd': 4, 'e': 5}"
      ]
     },
     "execution_count": 32,
     "metadata": {},
     "output_type": "execute_result"
    }
   ],
   "source": [
    "data = zip('abcde', [1, 2, 3, 4, 5])\n",
    "dict(data)"
   ]
  },
  {
   "cell_type": "code",
   "execution_count": 35,
   "id": "6335e431-7c4f-4f48-a0e3-f436d2013834",
   "metadata": {},
   "outputs": [
    {
     "data": {
      "text/plain": [
       "{'Hello': '안녕', 'World': '세계', 'Programming': '프로그래밍'}"
      ]
     },
     "execution_count": 35,
     "metadata": {},
     "output_type": "execute_result"
    }
   ],
   "source": [
    "dict(Hello = '안녕', World = '세계', Programming = '프로그래밍')"
   ]
  },
  {
   "cell_type": "markdown",
   "id": "b92524c7-a82c-49b1-8400-8261615ce125",
   "metadata": {},
   "source": [
    "## 조건제시법"
   ]
  },
  {
   "cell_type": "markdown",
   "id": "b326ae34-a46e-4ca5-9afd-c0369c620da0",
   "metadata": {},
   "source": [
    "리스트, 집합, 사전은 조건제시법<font size = \"2\">comprehension</font>을 이용하여 정의할 수 있다."
   ]
  },
  {
   "cell_type": "markdown",
   "id": "25074ad7-ef00-48bf-b7ca-3e67c7a4d2f4",
   "metadata": {},
   "source": [
    "### 리스트 조건제시법"
   ]
  },
  {
   "cell_type": "markdown",
   "id": "184b7e4e-5e2f-45e5-98ba-b0cc396a6ec3",
   "metadata": {},
   "source": [
    "리스트 조건제시법은 수학에서 집합을 정의할 때 사용하는 조건제시법과 매우 유사한다.   \n",
    "\n",
    "* 0과 10사이에 있는 홀수들의 제곱을 원소로 갖는 집합을 조건제시법으로 표현한다.  \n",
    "{ x^2 | 0 <= x <= 10, 단 x는 홀수 }\n",
    "\n",
    "* 집합 기호를 리스트 기호로 대체한다.   \n",
    "[ x^2 | 0 <= x <= 10, 단 x는 홀수 ]  \n",
    "\n",
    "* 집합의 짝대기(|) 기호는 `for`로 대체한다.   \n",
    "[ x^2 for 0 <= x <= 10, 단 x는 홀수 ]  \n",
    "\n",
    "* 짝대기 기호 왼편에 위치한 x^2를 파이썬 수식으로 변경한다. 즉, x ** 2로 변경한다.   \n",
    "[ x ** 2 for 0 <= x <= 10, 단 x는 홀수 ]  \n",
    "\n",
    "* 짝대기 기호 오른편에 위치하고, 변수 x가 어느 범위에서 움직이는지를 설명하는 부등식인 0 <= x <= 10 부분을 파이썬 수식으로 변경한다. 주로, 기존에 정의된 리스트를 사용하거나 `range()` 함수를 사용하여 범위를 x in ... 형식으로 지정한다.   \n",
    "[ x ** 2 for x in range(11), 단 x는 홀수 ]  "
   ]
  },
  {
   "cell_type": "markdown",
   "id": "6fd8f04b-2887-45e3-84e3-a392fce6a18d",
   "metadata": {},
   "source": [
    ":::{admonition} `range()` 함수\n",
    ":class: info  \n",
    "`range()` 함수는 규칙성을 가진 정수들의 모음<font size = \"2\">collection</font>을 반환한다. 반환된 값은 range객체이며, 리스트와 유사하게 작동한다.  \n",
    "\n",
    "`range()` 함수는 인자를 최대 세 개까지 받을 수 있다. 각 인자들의 역할은 슬라이싱에 사용되는 세 개의 인자들의 역할과 동일하다. \n",
    "* `range([start, ] stop [, step])`\n",
    "* `start`의 경우 주어지지 않으면 `0`을 기본값으로 갖는다.\n",
    "* `step`의 경우 주어지지 않으면 `1`을 기본값으로 갖는다.\n",
    "\n",
    "예를 들어, 0부터 10까지의 정수들로 이루어진 `range`객체는 다음과 같이 생성한다.  \n",
    "리스트로 형변환하면 `range(11)` 안에 포함된 항목을 확인할 수 있다. \n",
    "```python\n",
    ">>> print(range(11))\n",
    "range(0, 11)\n",
    ">>> print(list(range(11)))\n",
    "[0, 1, 2, 3, 4, 5, 6, 7, 8, 9, 10]\n",
    "```\n",
    "range형은 불변 시퀀스이다. \n",
    ":::\n"
   ]
  },
  {
   "cell_type": "markdown",
   "id": "b9c2e89e-2a24-4da7-a8bc-65209e983b3f",
   "metadata": {},
   "source": [
    "* 마지막으로 변수 `x`에 대한 제한조건인 `단 x는 홀수` 부분을 파이썬의 `if` 문장으로 변경한다. 예를 들어, `x는 홀수`는 파이썬의 `x % 2 == 1`로 나타낼 수 있다.  \n",
    "[x**2 for x in range(11) if x % 2 == 1]"
   ]
  },
  {
   "cell_type": "code",
   "execution_count": 58,
   "id": "5896be62-0867-4591-adfe-0a01cdf2d130",
   "metadata": {},
   "outputs": [
    {
     "data": {
      "text/plain": [
       "[1, 9, 25, 49, 81]"
      ]
     },
     "execution_count": 58,
     "metadata": {},
     "output_type": "execute_result"
    }
   ],
   "source": [
    "a_list = [x**2 for x in range(11) if x % 2 == 1]\n",
    "a_list"
   ]
  },
  {
   "cell_type": "markdown",
   "id": "d9b3c186-6611-41d1-84f8-12b4f7216eec",
   "metadata": {},
   "source": [
    ":::{admonition} 참고 \n",
    ":class: info  \n",
    "\n",
    "위의 조건제시법은 아래 `for` 반복문을 활용한 코드와 동일하다. \n",
    "\n",
    "```python\n",
    ">>> a_list = []\n",
    ">>> for x in range(0, 10) :\n",
    "        if x % 2 == 0 :\n",
    "            a_list.append(x)\n",
    ">>> print(a_list)\n",
    "[0, 2, 4, 6, 8]\n",
    "```\n",
    ":::\n"
   ]
  },
  {
   "cell_type": "markdown",
   "id": "c39f12d3-6fb0-487f-8748-70359588084d",
   "metadata": {},
   "source": [
    ":::{admonition} 참고  \n",
    ":class: info  \n",
    "아래와 같이 리스트를 초기화할 때, 리스트 조건제시법을 사용하면 좋다. \n",
    "```python\n",
    ">>> a = [[0] * 5 for x in range(5)]\n",
    ">>> print(a)\n",
    "[[0, 0, 0, 0, 0],\n",
    " [0, 0, 0, 0, 0],\n",
    " [0, 0, 0, 0, 0],\n",
    " [0, 0, 0, 0, 0],\n",
    " [0, 0, 0, 0, 0]]\n",
    "```\n",
    "\n",
    "리스트 `a`는 리스트`b`와 동일하지 않다. \n",
    "```python\n",
    ">>> b = [[0] * 5] * 5\n",
    ">>> print(b)\n",
    "[[0, 0, 0, 0, 0],\n",
    " [0, 0, 0, 0, 0],\n",
    " [0, 0, 0, 0, 0],\n",
    " [0, 0, 0, 0, 0],\n",
    " [0, 0, 0, 0, 0]]\n",
    "```\n",
    "\n",
    "아래 그림처럼 리스트 `a`의 각 항목은 서로 다른 리스트를 참조한다. 반면 리스트 `b`의 각 항목은 하나의 리스트를 참조한다. \n",
    "<div align=\"center\">\n",
    "    <img src=\"https://raw.githubusercontent.com/hj617kim/pybook/master/images/ch11/list_comp01.png\" style=\"width:400px;\">\n",
    "</div>\n",
    "\n",
    "이러한 성질로 아래와 같은 일이 발생한다. 예를 들어, `a[2][3] = 1` 코드를 사용하여 리스트 `a`의 3행 4열의 값을 1로 변경하고자 하면, 해당 값이 1로 변경된 것을 볼 수 있다. 반변 `b[2][3] = 1` 코드를 사용한 다음, `b`를 확인해보면 4열의 값이 모두 1로 변경된 것을 볼 수 있다. 즉, 리스트 `b`는 원하는 대로 동작하지 않는다. \n",
    "\n",
    "```python\n",
    ">>> a = [[0] * 5 for x in range(5)]\n",
    ">>> a[2][3] = 1\n",
    "[[0, 0, 0, 0, 0],\n",
    " [0, 0, 0, 0, 0],\n",
    " [0, 0, 0, 1, 0],\n",
    " [0, 0, 0, 0, 0],\n",
    " [0, 0, 0, 0, 0]]\n",
    ">>> b[2][3] = 1\n",
    ">>> print(b)\n",
    "[[0, 0, 0, 1, 0],\n",
    " [0, 0, 0, 1, 0],\n",
    " [0, 0, 0, 1, 0],\n",
    " [0, 0, 0, 1, 0],\n",
    " [0, 0, 0, 1, 0]]\n",
    "```\n",
    ":::\n"
   ]
  },
  {
   "cell_type": "markdown",
   "id": "9567b8f7-418a-46c8-8688-b14f5ea5b8d6",
   "metadata": {},
   "source": [
    "### 집합 조건제시법  \n",
    "조건제시법을 이용하여 집합을 생성하는 과정은 리스트 조건제시법과 비슷하다. "
   ]
  },
  {
   "cell_type": "code",
   "execution_count": 41,
   "id": "a6da4be2-28e1-403e-9c92-df77addd1a6f",
   "metadata": {},
   "outputs": [
    {
     "name": "stdout",
     "output_type": "stream",
     "text": [
      "['Python', 'is', 'a', 'general', 'purpose', 'language']\n",
      "[6, 2, 1, 7, 7, 8]\n",
      "{1, 2, 6, 7, 8}\n"
     ]
    }
   ],
   "source": [
    "words = 'Python is a general purpose language'.split()\n",
    "print(words)\n",
    "words_len = [len(x) for x in words] # 리스트 조건제시법\n",
    "print(words_len)\n",
    "unique_len = {len(x) for x in words} # 집합 조건제시법\n",
    "print(unique_len)"
   ]
  },
  {
   "cell_type": "markdown",
   "id": "6b6d785b-11d8-488e-af47-23ac8a17db07",
   "metadata": {},
   "source": [
    "### 사전 조건제시법   \n",
    "조건제시법을 이용하여 사전을 생성하는 과정도 유사하다. "
   ]
  },
  {
   "cell_type": "code",
   "execution_count": 42,
   "id": "5dbe71ca-7678-48ce-9d60-84cc3e925a63",
   "metadata": {},
   "outputs": [
    {
     "name": "stdout",
     "output_type": "stream",
     "text": [
      "['Python', 'is', 'a', 'general', 'purpose', 'language']\n",
      "{'Python': 6, 'is': 2, 'a': 1, 'general': 7, 'purpose': 7, 'language': 8}\n"
     ]
    }
   ],
   "source": [
    "words = 'Python is a general purpose language'.split()\n",
    "print(words)\n",
    "len_dict = {k : len(k) for k in words}\n",
    "print(len_dict)"
   ]
  }
 ],
 "metadata": {
  "kernelspec": {
   "display_name": "Python 3 (ipykernel)",
   "language": "python",
   "name": "python3"
  },
  "language_info": {
   "codemirror_mode": {
    "name": "ipython",
    "version": 3
   },
   "file_extension": ".py",
   "mimetype": "text/x-python",
   "name": "python",
   "nbconvert_exporter": "python",
   "pygments_lexer": "ipython3",
   "version": "3.8.10"
  }
 },
 "nbformat": 4,
 "nbformat_minor": 5
}
