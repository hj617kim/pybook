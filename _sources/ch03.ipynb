{
 "cells": [
  {
   "cell_type": "markdown",
   "id": "15ec6fc2-d660-4bd1-b5e3-756b3e549986",
   "metadata": {},
   "source": [
    "# 프로그래밍 시작하기"
   ]
  }
 ],
 "metadata": {
  "kernelspec": {
   "display_name": "Python 3 (ipykernel)",
   "language": "python",
   "name": "python3"
  },
  "language_info": {
   "codemirror_mode": {
    "name": "ipython",
    "version": 3
   },
   "file_extension": ".py",
   "mimetype": "text/x-python",
   "name": "python",
   "nbconvert_exporter": "python",
   "pygments_lexer": "ipython3",
   "version": "3.8.10"
  }
 },
 "nbformat": 4,
 "nbformat_minor": 5
}
