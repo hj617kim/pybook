{
 "cells": [
  {
   "cell_type": "markdown",
   "id": "15ec6fc2-d660-4bd1-b5e3-756b3e549986",
   "metadata": {},
   "source": [
    "# 프로그래밍 시작하기"
   ]
  },
  {
   "cell_type": "markdown",
   "id": "004d89f8-888e-4a49-a3e7-1a94492f9784",
   "metadata": {},
   "source": [
    "## 파이썬을 계산기로 사용하기"
   ]
  },
  {
   "cell_type": "code",
   "execution_count": null,
   "id": "a810f2e6-9f0a-4a8b-906c-313188d1f27b",
   "metadata": {},
   "outputs": [],
   "source": []
  }
 ],
 "metadata": {
  "kernelspec": {
   "display_name": "Python 3 (ipykernel)",
   "language": "python",
   "name": "python3"
  },
  "language_info": {
   "codemirror_mode": {
    "name": "ipython",
    "version": 3
   },
   "file_extension": ".py",
   "mimetype": "text/x-python",
   "name": "python",
   "nbconvert_exporter": "python",
   "pygments_lexer": "ipython3",
   "version": "3.8.10"
  }
 },
 "nbformat": 4,
 "nbformat_minor": 5
}
