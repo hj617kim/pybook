{
 "cells": [
  {
   "cell_type": "markdown",
   "metadata": {},
   "source": [
    "# 조건문"
   ]
  },
  {
   "cell_type": "markdown",
   "metadata": {
    "id": "A81cSkGr88ou"
   },
   "source": [
    "\n",
    "\n",
    "어떤 일은 특정 조건 하에서만 할 수 있는 경우가 있다.  \n",
    "\n",
    "예를 들어, 주어진 숫자 `num`이 홀수인 경우에만 그 값에 1을 더하라고 할 수 있다.  \n",
    "\n",
    "위 문장을 코드로 나타내려면 아래의 요소들이 필요하다.\n",
    "* 주어진 숫자 `num`이 홀수인지 판별하기\n",
    "* 이런저런 경우에만 무엇무엇을 하기\n",
    "* 주어진 숫자 `num`에 1을 더하기\n",
    "\n",
    "<br>  \n",
    "  \n",
    "  \n",
    "* \"주어진 `num`가 홀수인지 판별하기\"는 아래 수식으로 표현된다.  \n",
    "`num % 2 == 1`\n",
    "\n",
    "* \"이런저런 경우에만 무엇무엇을 해라\"는 `if`문으로 나타내며, 아래의 형식을 따른다.\n",
    "```\n",
    "    if 이런저런(조건문) :\n",
    "        무엇\n",
    "        무엇\n",
    "```\n",
    "\n",
    "주의) `if` 조건문 뒤에 반드시 콜론(:)을 써야 한다.  \n",
    "주의) 무엇무엇은 반드시 들여쓰기 해야 한다. 들여쓰기를 하지 않으면 오류가 발생한다.\n",
    "\n",
    "* \"주어진 숫자 `num`에 1을 더하기\"는 아래 수식으로 표현된다.   \n",
    "`num + 1`"
   ]
  },
  {
   "cell_type": "markdown",
   "metadata": {
    "id": "yT2HfNiQD9f_"
   },
   "source": [
    "ex1) 주어진 숫자 `num`이 홀수인 경우에만 그 값에 1을 더한 값을 출력하여라."
   ]
  },
  {
   "cell_type": "code",
   "execution_count": null,
   "metadata": {
    "colab": {
     "base_uri": "https://localhost:8080/"
    },
    "executionInfo": {
     "elapsed": 852,
     "status": "ok",
     "timestamp": 1615294723399,
     "user": {
      "displayName": "HJ Kim",
      "photoUrl": "",
      "userId": "16634276932240017990"
     },
     "user_tz": -540
    },
    "id": "LlzRWNUN8yzC",
    "outputId": "664d461f-fd1d-47f3-f854-cb4e91331f01"
   },
   "outputs": [
    {
     "name": "stdout",
     "output_type": "stream",
     "text": [
      "6\n"
     ]
    }
   ],
   "source": [
    "num = 5 # 다른 값으로 변경 가능\n",
    "\n",
    "if num % 2 == 1 :\n",
    "    print(num + 1)"
   ]
  },
  {
   "cell_type": "markdown",
   "metadata": {
    "id": "lSppoJObEafx"
   },
   "source": [
    "ex2) 숫자 `num1`이 5보다 큰 경우에만 `num1`을 3으로 나누었을 때의 나머지를 출력하여라."
   ]
  },
  {
   "cell_type": "code",
   "execution_count": null,
   "metadata": {
    "colab": {
     "base_uri": "https://localhost:8080/"
    },
    "executionInfo": {
     "elapsed": 847,
     "status": "ok",
     "timestamp": 1615296473009,
     "user": {
      "displayName": "HJ Kim",
      "photoUrl": "",
      "userId": "16634276932240017990"
     },
     "user_tz": -540
    },
    "id": "Zf0OLpvfEV2E",
    "outputId": "4ec28eeb-dfa0-4bce-92ac-6cc949123641"
   },
   "outputs": [
    {
     "name": "stdout",
     "output_type": "stream",
     "text": [
      "1\n"
     ]
    }
   ],
   "source": [
    "num1 = 7  # 다른 값으로 변경 가능\n",
    "\n",
    "if num1 > 5 :\n",
    "    print(num1 % 3)"
   ]
  },
  {
   "cell_type": "markdown",
   "metadata": {
    "id": "isD16B21LcVA"
   },
   "source": [
    "ex3) 숫자 `num2`가 주어졌을 때, 만약 `num2`가 3의 배수이거나 3으로 끝나는 숫자일 경우에만 `num2`에 5를 더한 값을 출력하여라.\n",
    "\n",
    "참고) \"숫자가 3으로 끝난다\"는 문자열 메소드 `endswith()`를 활용하면 된다.  \n",
    "참고) `str()` 함수는 숫자를 문자열로 형변환시키는 함수이다."
   ]
  },
  {
   "cell_type": "code",
   "execution_count": null,
   "metadata": {
    "colab": {
     "base_uri": "https://localhost:8080/"
    },
    "executionInfo": {
     "elapsed": 667,
     "status": "ok",
     "timestamp": 1615296717939,
     "user": {
      "displayName": "HJ Kim",
      "photoUrl": "",
      "userId": "16634276932240017990"
     },
     "user_tz": -540
    },
    "id": "N4Z67v_GK_yB",
    "outputId": "ff91fa3b-4c6a-4c7e-ae9c-20c43790b5c9"
   },
   "outputs": [
    {
     "name": "stdout",
     "output_type": "stream",
     "text": [
      "128\n"
     ]
    }
   ],
   "source": [
    "num2 = 123\n",
    "\n",
    "if (num2 % 3 == 0) or (str(num2).endswith('3')) :\n",
    "    print(num2 + 5)"
   ]
  },
  {
   "cell_type": "markdown",
   "metadata": {
    "id": "NwdO6JYXL_1c"
   },
   "source": [
    "조건문이 참이면 무엇무엇1을 하고, 조건문이 거짓이면 무엇무엇2을 수행하라고 할 때는 `if...else`문을 이용한다. `if...else`문은 아래의 형식을 따른다.   \n",
    "```\n",
    "  if 조건문 :\n",
    "      무엇무엇1\n",
    "  else :\n",
    "      무엇무엇2\n",
    "```\n",
    "\n",
    "예제를 통해 살펴보자."
   ]
  },
  {
   "cell_type": "markdown",
   "metadata": {
    "id": "lip6vxp_h5YR"
   },
   "source": [
    "ex4) `weather`에 `비`가 포함되어 있다면,  \n",
    "> 오늘 비가 내립니다.  \n",
    "> 우산을 챙기세요! \n",
    "\n",
    "를 출력하고, `비`가 포함되어 있지 않다면,\n",
    "> 비 소식은 없습니다.  \n",
    "\n",
    "를 출력하는 코드를 작성하여라."
   ]
  },
  {
   "cell_type": "markdown",
   "metadata": {
    "id": "4ZNODmbjjptM"
   },
   "source": [
    ":::{admonition} 참고  \n",
    ":class: info\n",
    "문자열에 특정 문자열이 부분 문자열로 포함되어 있는지를 판단해야 하는데, 이때는 `in`을 이용할 수 있다.\n",
    ":::"
   ]
  },
  {
   "cell_type": "code",
   "execution_count": null,
   "metadata": {
    "colab": {
     "base_uri": "https://localhost:8080/"
    },
    "executionInfo": {
     "elapsed": 661,
     "status": "ok",
     "timestamp": 1615336374749,
     "user": {
      "displayName": "HJ Kim",
      "photoUrl": "",
      "userId": "16634276932240017990"
     },
     "user_tz": -540
    },
    "id": "blIfVd74L-Gb",
    "outputId": "85eb26bd-ce4f-4f4f-cbac-4f1f925b0186"
   },
   "outputs": [
    {
     "name": "stdout",
     "output_type": "stream",
     "text": [
      "오늘 비가 내립니다.\n",
      "우산을 챙기세요!\n"
     ]
    }
   ],
   "source": [
    "weather = \"오늘 서울 등 중북부지역에는 비가 내립니다.\" #다른 값으로 변경 가능\n",
    "\n",
    "if '비' in weather :\n",
    "    print('오늘 비가 내립니다.')\n",
    "    print('우산을 챙기세요!')\n",
    "else:\n",
    "    print('비 소식은 없습니다.')"
   ]
  },
  {
   "cell_type": "markdown",
   "metadata": {
    "id": "V7ABl8ZFkRQX"
   },
   "source": [
    "## 중첩 조건문과 다중 조건문\n",
    "\n",
    "반면에, 예를 들어, 크거나 같거나 작거나 등 세 가지 이상의 경우를 처리하려면 `if...else`문을 중첩해서 사용하거나 `if...elif...elif...else`처럼 다중 조건문을 사용할 수 있다. \n",
    "\n",
    "예제를 통해 중첩 조건문과 다중 조건문을 살펴보자. 아래는 두 개의 숫자 `num1`과 `num2`가 주어졌을 때, 두 숫자의 크기 비교 결과를 출력해주는 프로그램이다.  \n"
   ]
  },
  {
   "cell_type": "markdown",
   "metadata": {
    "id": "4U127pDEk-Ui"
   },
   "source": [
    "* 중첩 조건문 활용 예제"
   ]
  },
  {
   "cell_type": "code",
   "execution_count": null,
   "metadata": {
    "colab": {
     "base_uri": "https://localhost:8080/"
    },
    "executionInfo": {
     "elapsed": 694,
     "status": "ok",
     "timestamp": 1615336933834,
     "user": {
      "displayName": "HJ Kim",
      "photoUrl": "",
      "userId": "16634276932240017990"
     },
     "user_tz": -540
    },
    "id": "p42jUGZ6kKoS",
    "outputId": "011c18ba-1ae6-497c-ec51-2fa994539386"
   },
   "outputs": [
    {
     "name": "stdout",
     "output_type": "stream",
     "text": [
      "num1이 num2보다 작다.\n"
     ]
    }
   ],
   "source": [
    "num1 = 5  # 다른 값으로 변경 가능\n",
    "num2 = 10  # 다른 값으로 변경 가능\n",
    "\n",
    "if num1 < num2 :\n",
    "    print(\"num1이 num2보다 작다.\")\n",
    "else :\n",
    "    if num1 == num2 :\n",
    "        print(\"num1이 num2와 같다.\")\n",
    "    else:\n",
    "        print(\"num1이 num2 보다 크다.\")"
   ]
  },
  {
   "cell_type": "markdown",
   "metadata": {
    "id": "Tftk4WlUlZpE"
   },
   "source": [
    "* 다중 조건문 활용 예제"
   ]
  },
  {
   "cell_type": "code",
   "execution_count": null,
   "metadata": {
    "colab": {
     "base_uri": "https://localhost:8080/"
    },
    "executionInfo": {
     "elapsed": 614,
     "status": "ok",
     "timestamp": 1615337105054,
     "user": {
      "displayName": "HJ Kim",
      "photoUrl": "",
      "userId": "16634276932240017990"
     },
     "user_tz": -540
    },
    "id": "4TnzU9cclYbc",
    "outputId": "da6da579-383f-4bfe-a3ff-cfc3878d2e95"
   },
   "outputs": [
    {
     "name": "stdout",
     "output_type": "stream",
     "text": [
      "num1이 num2보다 작다.\n"
     ]
    }
   ],
   "source": [
    "num1 = 5 # 다른 값으로 변경 가능\n",
    "numm2 = 10 # 다른 값으로 변경 가능\n",
    "\n",
    "if num1 < num2 :\n",
    "    print(\"num1이 num2보다 작다.\")\n",
    "elif num1 == num2 :\n",
    "    print(\"num1이 num2와 같다.\")\n",
    "else:\n",
    "    print(\"num1이 num2보다 크다.\")"
   ]
  },
  {
   "cell_type": "markdown",
   "metadata": {
    "id": "poUWKiVqmEI-"
   },
   "source": [
    "주의) `if` 문의 중첩 정도는 임의로 복잡해질 수 있다. 따라서 가능하면 다중 조건문을 사용한 것이 좋다. "
   ]
  },
  {
   "cell_type": "markdown",
   "metadata": {
    "id": "L6dHnbh0yCLG"
   },
   "source": [
    "#2. 반복문\n",
    "\n",
    "반복문(루프)은 동일한 코드를 반복해서 실행시킬 때 사용한다. 반복문을 만들기 위해 `while`문과 `for`문을 사용한다.\n",
    "\n",
    "여기서는 먼저 `while` 반복문을 살펴보고 이후에 `for` 반복문을 살펴본다."
   ]
  },
  {
   "cell_type": "markdown",
   "metadata": {
    "id": "r7__4WvVyuWI"
   },
   "source": [
    "## `while` 반복문\n",
    "\n",
    "`while` 반복문은 항상 아래의 형식을 따른다.\n",
    "```\n",
    "  while 조건 :\n",
    "      본문코드1\n",
    "      본문코드2\n",
    "      ...\n",
    "```\n",
    "\n",
    "조건이 참이 되는 동안 본문 코드들이 실행된다."
   ]
  },
  {
   "cell_type": "markdown",
   "metadata": {
    "id": "15epKOBqzIbV"
   },
   "source": [
    "ex5) `while`문을 사용해서 다음을 출력하는 프로그램을 작성하여라.\n",
    "\n",
    "> 박수 1번 짝  \n",
    "> 박수 2번 짝짝  \n",
    "> 박수 3번 짝짝짝  \n",
    "> 박수 4번 짝짝짝짝  \n",
    "> 박수 5번 짝짝짝짝짝"
   ]
  },
  {
   "cell_type": "code",
   "execution_count": null,
   "metadata": {
    "colab": {
     "base_uri": "https://localhost:8080/"
    },
    "executionInfo": {
     "elapsed": 767,
     "status": "ok",
     "timestamp": 1615357560616,
     "user": {
      "displayName": "HJ Kim",
      "photoUrl": "",
      "userId": "16634276932240017990"
     },
     "user_tz": -540
    },
    "id": "YqwnbNuAmCQQ",
    "outputId": "3c429c31-743c-4c99-bbc6-e83db042ebb7"
   },
   "outputs": [
    {
     "name": "stdout",
     "output_type": "stream",
     "text": [
      "박수  1 번 짝\n",
      "박수  2 번 짝짝\n",
      "박수  3 번 짝짝짝\n",
      "박수  4 번 짝짝짝짝\n",
      "박수  5 번 짝짝짝짝짝\n"
     ]
    }
   ],
   "source": [
    "n = 1\n",
    "\n",
    "while n < 6 :\n",
    "    print(\"박수 \", n, \"번 \" + \"짝\" * n)\n",
    "    n += 1"
   ]
  },
  {
   "cell_type": "markdown",
   "metadata": {
    "id": "TVKxVKeC0G5i"
   },
   "source": [
    "참고) `n += 1`은 `n = n + 1`이다."
   ]
  },
  {
   "cell_type": "markdown",
   "metadata": {
    "id": "znIuj18V0OQB"
   },
   "source": [
    "ex6) 정수들을 나누어 몫을 구하는 코드를 작성해보자.   \n",
    "\n",
    "몫을 어떻게 구현할까?  이를 위해\n",
    "* 먼저 몫이 어떤 의미인가를 알아야 한다.\n",
    "* 그 다음에 그 의미를 구현하는 코드를 작성한다.  \n",
    "\n",
    "어떤 정수 `a`를 다른 정수 `b`로 나누었을 때의 몫은 `a`에서 `b`를 몇 번 뺄 수 있는가와 동일한 의미를 갖는다. 즉, `a`에서 `b`를 반복해서 빼주는 과정이 필요하고 이 과정을 음수가 되지 않을 때까지 반복해야 한다.  \n",
    "\n",
    "예를 들어, 43을 7로 나누었을 때의 몫은 다음과 같이 구할 수 있다.  "
   ]
  },
  {
   "cell_type": "markdown",
   "metadata": {
    "id": "8pBIJLUO1Yxd"
   },
   "source": [
    "`while` 반복문을 작성할 때 조건문이 언젠가는 만족되지 않아서 더 이상 루프가 돌지 않도록 코드를 작성하는 것이 가장 중요하다. "
   ]
  },
  {
   "cell_type": "markdown",
   "metadata": {
    "id": "Q4Orx2Pt1jpR"
   },
   "source": [
    "## `for ` 반복문\n",
    "\n",
    "몇 번 반복되어야 하는지를 아는 경우 `for` 반복문을 사용할 수 있으며, 아래의 형식을 따른다. \n",
    "\n",
    "```\n",
    "  for 항목변수 in 문자열(또는 리스트, 튜플) :\n",
    "      코드1\n",
    "      코드2\n",
    "      ...\n",
    "```\n",
    "\n"
   ]
  },
  {
   "cell_type": "markdown",
   "metadata": {
    "id": "y2uC7vpZ2Aw4"
   },
   "source": [
    "### 문자열과 `for`문\n",
    "\n",
    "아래 코드는 문자열에 포함된 문자 각각을 출력한다."
   ]
  },
  {
   "cell_type": "code",
   "execution_count": null,
   "metadata": {
    "colab": {
     "base_uri": "https://localhost:8080/"
    },
    "executionInfo": {
     "elapsed": 696,
     "status": "ok",
     "timestamp": 1615358775843,
     "user": {
      "displayName": "HJ Kim",
      "photoUrl": "",
      "userId": "16634276932240017990"
     },
     "user_tz": -540
    },
    "id": "ZazbP5-R1WhS",
    "outputId": "0716d628-0b51-4c5e-8e0c-0ec034b7b6c0"
   },
   "outputs": [
    {
     "name": "stdout",
     "output_type": "stream",
     "text": [
      "s\n",
      "e\n",
      "o\n",
      "u\n",
      "l\n"
     ]
    }
   ],
   "source": [
    "for char in \"seoul\" :\n",
    "    print(char)"
   ]
  },
  {
   "cell_type": "markdown",
   "metadata": {
    "id": "trqoh37g5OOa"
   },
   "source": [
    "이때 `char`를 다른 것으로 변경해도 된다."
   ]
  },
  {
   "cell_type": "code",
   "execution_count": null,
   "metadata": {
    "colab": {
     "base_uri": "https://localhost:8080/"
    },
    "executionInfo": {
     "elapsed": 775,
     "status": "ok",
     "timestamp": 1615358945533,
     "user": {
      "displayName": "HJ Kim",
      "photoUrl": "",
      "userId": "16634276932240017990"
     },
     "user_tz": -540
    },
    "id": "k67LSLC24s8Z",
    "outputId": "4b7dec7a-5fb2-4800-c5d3-4df910e500d9"
   },
   "outputs": [
    {
     "name": "stdout",
     "output_type": "stream",
     "text": [
      "s\n",
      "e\n",
      "o\n",
      "u\n",
      "l\n"
     ]
    }
   ],
   "source": [
    "for i in \"seoul\" :\n",
    "    print(i)"
   ]
  },
  {
   "cell_type": "markdown",
   "metadata": {
    "id": "tLm9dejC5i3_"
   },
   "source": [
    "ex7) 문자열에 있는 소문자 `p`를 대문자 `P`로 변경하여 새로운 문자열을 생성하는 코드를 작성하여라. \n",
    "예를 들어, \"pineapple\"을 이용하여 \"PineaPPle\"를 생성하는 코드를 작성하여라. "
   ]
  },
  {
   "cell_type": "code",
   "execution_count": null,
   "metadata": {
    "colab": {
     "base_uri": "https://localhost:8080/"
    },
    "executionInfo": {
     "elapsed": 711,
     "status": "ok",
     "timestamp": 1615359135774,
     "user": {
      "displayName": "HJ Kim",
      "photoUrl": "",
      "userId": "16634276932240017990"
     },
     "user_tz": -540
    },
    "id": "yovlKumw5Tr2",
    "outputId": "ad2f3f88-36a5-45ae-db15-e0759940c584"
   },
   "outputs": [
    {
     "name": "stdout",
     "output_type": "stream",
     "text": [
      "PineaPPle\n"
     ]
    }
   ],
   "source": [
    "a_word = \"pineapple\"\n",
    "new_word = \"\"\n",
    "\n",
    "for char in a_word :\n",
    "    if char == 'p' :\n",
    "        new_word = new_word + \"P\"\n",
    "    else :\n",
    "        new_word = new_word + char\n",
    "\n",
    "print(new_word)"
   ]
  },
  {
   "cell_type": "markdown",
   "metadata": {
    "id": "zmOSxGtS6KkL"
   },
   "source": [
    "### `range()` 함수와 `for` 문\n",
    "\n",
    "`range()` 함수는 일정한 규칙에 따라 나열된 수열을 생성한다."
   ]
  },
  {
   "cell_type": "code",
   "execution_count": null,
   "metadata": {
    "colab": {
     "base_uri": "https://localhost:8080/"
    },
    "executionInfo": {
     "elapsed": 938,
     "status": "ok",
     "timestamp": 1615359212912,
     "user": {
      "displayName": "HJ Kim",
      "photoUrl": "",
      "userId": "16634276932240017990"
     },
     "user_tz": -540
    },
    "id": "Te6kDQZp6E0R",
    "outputId": "b57f9fca-39af-41b0-fda2-f285f248c9af"
   },
   "outputs": [
    {
     "name": "stdout",
     "output_type": "stream",
     "text": [
      "range(0, 10)\n"
     ]
    }
   ],
   "source": [
    "a_range = range(10)\n",
    "\n",
    "print(a_range)"
   ]
  },
  {
   "cell_type": "markdown",
   "metadata": {
    "id": "DAOEtGdA6a1v"
   },
   "source": [
    "참고) 파이썬에서 `range()` 함수의 리턴값은 `range`라는 자료형이다. 뒤에서 다룰 리스트와 거의 비슷하다는 정도만 기억하고 넘어가자. "
   ]
  },
  {
   "cell_type": "code",
   "execution_count": null,
   "metadata": {
    "colab": {
     "base_uri": "https://localhost:8080/"
    },
    "executionInfo": {
     "elapsed": 747,
     "status": "ok",
     "timestamp": 1615359292919,
     "user": {
      "displayName": "HJ Kim",
      "photoUrl": "",
      "userId": "16634276932240017990"
     },
     "user_tz": -540
    },
    "id": "r9KryJ9H6Xla",
    "outputId": "e87a8869-20ef-499b-96ca-1ddebb594206"
   },
   "outputs": [
    {
     "data": {
      "text/plain": [
       "range"
      ]
     },
     "execution_count": 10,
     "metadata": {
      "tags": []
     },
     "output_type": "execute_result"
    }
   ],
   "source": [
    "type(a_range)"
   ]
  },
  {
   "cell_type": "markdown",
   "metadata": {
    "id": "RYEd_fNn6sfV"
   },
   "source": [
    "`range()` 함수는 인자를 최대 세 개까지 받을 수 있다. 각 인자들의 역할은 슬라이싱에 사용되는 세 개의 인자들의 역할과 동일하다.\n",
    "\n",
    "* `range([start, ] stop [, step])`\n",
    "* `start`의 경우 주어지지 않으면 `0`을 기본값으로 갖는다.\n",
    "* `step`의 경우 주어지지 않으면 `1`을 기본값으로 갖는다."
   ]
  },
  {
   "cell_type": "code",
   "execution_count": null,
   "metadata": {
    "colab": {
     "base_uri": "https://localhost:8080/"
    },
    "executionInfo": {
     "elapsed": 725,
     "status": "ok",
     "timestamp": 1615359425101,
     "user": {
      "displayName": "HJ Kim",
      "photoUrl": "",
      "userId": "16634276932240017990"
     },
     "user_tz": -540
    },
    "id": "86sL1qy06rLG",
    "outputId": "66aa3983-1c9d-4981-e660-9683338530cc"
   },
   "outputs": [
    {
     "data": {
      "text/plain": [
       "range(3, 10)"
      ]
     },
     "execution_count": 11,
     "metadata": {
      "tags": []
     },
     "output_type": "execute_result"
    }
   ],
   "source": [
    "a_range_1 = range(3, 10)\n",
    "a_range_1"
   ]
  },
  {
   "cell_type": "code",
   "execution_count": null,
   "metadata": {
    "colab": {
     "base_uri": "https://localhost:8080/"
    },
    "executionInfo": {
     "elapsed": 726,
     "status": "ok",
     "timestamp": 1615359453870,
     "user": {
      "displayName": "HJ Kim",
      "photoUrl": "",
      "userId": "16634276932240017990"
     },
     "user_tz": -540
    },
    "id": "r3SBLdGK7Lc3",
    "outputId": "ad07208a-e407-4036-a438-c3079fcc5013"
   },
   "outputs": [
    {
     "data": {
      "text/plain": [
       "range(3, 10, 2)"
      ]
     },
     "execution_count": 12,
     "metadata": {
      "tags": []
     },
     "output_type": "execute_result"
    }
   ],
   "source": [
    "a_range_2 = range(3, 10, 2)\n",
    "a_range_2"
   ]
  },
  {
   "cell_type": "markdown",
   "metadata": {
    "id": "2ECx3lRq9SwZ"
   },
   "source": [
    "`range` 함수는 `for` 문에서 유용하게 활용된다. "
   ]
  },
  {
   "cell_type": "code",
   "execution_count": null,
   "metadata": {
    "colab": {
     "base_uri": "https://localhost:8080/"
    },
    "executionInfo": {
     "elapsed": 763,
     "status": "ok",
     "timestamp": 1615360080982,
     "user": {
      "displayName": "HJ Kim",
      "photoUrl": "",
      "userId": "16634276932240017990"
     },
     "user_tz": -540
    },
    "id": "YuJ8IXqH7Sed",
    "outputId": "ddcb9e87-7fbc-45cc-ed9a-ed79f9ee3cde"
   },
   "outputs": [
    {
     "name": "stdout",
     "output_type": "stream",
     "text": [
      "0 의 제곱은 0 이다.\n",
      "1 의 제곱은 1 이다.\n",
      "2 의 제곱은 4 이다.\n",
      "3 의 제곱은 9 이다.\n",
      "4 의 제곱은 16 이다.\n",
      "5 의 제곱은 25 이다.\n"
     ]
    }
   ],
   "source": [
    "for i in range(6) :\n",
    "    print(i, \"의 제곱은\", i**2, \"이다.\") "
   ]
  },
  {
   "cell_type": "code",
   "execution_count": null,
   "metadata": {
    "colab": {
     "base_uri": "https://localhost:8080/"
    },
    "executionInfo": {
     "elapsed": 807,
     "status": "ok",
     "timestamp": 1615360081427,
     "user": {
      "displayName": "HJ Kim",
      "photoUrl": "",
      "userId": "16634276932240017990"
     },
     "user_tz": -540
    },
    "id": "_PaJfxeH9fMU",
    "outputId": "3a899c43-2891-4b20-f88e-3b9d0c3ffc8c"
   },
   "outputs": [
    {
     "name": "stdout",
     "output_type": "stream",
     "text": [
      "0 의 제곱은 0 이다.\n",
      "2 의 제곱은 4 이다.\n",
      "4 의 제곱은 16 이다.\n"
     ]
    }
   ],
   "source": [
    "for i in range(0, 6, 2) :\n",
    "    print(i, \"의 제곱은\", i**2, \"이다.\") "
   ]
  },
  {
   "cell_type": "markdown",
   "metadata": {
    "id": "ix7d6-Lr9vlQ"
   },
   "source": [
    "단순한 카운트 역할을 수행하는 용도로 `range` 함수를 활용할 수도 있다. 즉, 어떤 일을 특정 횟수만큼 반복하고자 할 때 사용한다."
   ]
  },
  {
   "cell_type": "code",
   "execution_count": null,
   "metadata": {
    "colab": {
     "base_uri": "https://localhost:8080/"
    },
    "executionInfo": {
     "elapsed": 721,
     "status": "ok",
     "timestamp": 1615360148859,
     "user": {
      "displayName": "HJ Kim",
      "photoUrl": "",
      "userId": "16634276932240017990"
     },
     "user_tz": -540
    },
    "id": "dgBh_L0n9muG",
    "outputId": "e3d19f3c-9db9-45a5-d2ff-5b6599fedba3"
   },
   "outputs": [
    {
     "name": "stdout",
     "output_type": "stream",
     "text": [
      "다섯 번 출력합니다.\n",
      "다섯 번 출력합니다.\n",
      "다섯 번 출력합니다.\n",
      "다섯 번 출력합니다.\n",
      "다섯 번 출력합니다.\n"
     ]
    }
   ],
   "source": [
    "for i in range(5) :\n",
    "    print(\"다섯 번 출력합니다.\")"
   ]
  },
  {
   "cell_type": "markdown",
   "metadata": {
    "id": "WLlRh4-I99uA"
   },
   "source": [
    "`range()` 함수와 문자열 인덱싱을 활용하면 문자열에 대해 `for` 문을 직접 활용하는 것과 동일한 일을 할 수 있다. "
   ]
  },
  {
   "cell_type": "markdown",
   "metadata": {
    "id": "uDDLiwrH-Lv9"
   },
   "source": [
    "예를 들어, 문자열 인덱싱과 `range()` 함수를 다음처럼 활용할 수 있다."
   ]
  },
  {
   "cell_type": "code",
   "execution_count": null,
   "metadata": {
    "colab": {
     "base_uri": "https://localhost:8080/"
    },
    "executionInfo": {
     "elapsed": 794,
     "status": "ok",
     "timestamp": 1615360265111,
     "user": {
      "displayName": "HJ Kim",
      "photoUrl": "",
      "userId": "16634276932240017990"
     },
     "user_tz": -540
    },
    "id": "jifqgBmq98J7",
    "outputId": "14cb5c77-dfd1-4472-81c1-26cc8eafe415"
   },
   "outputs": [
    {
     "name": "stdout",
     "output_type": "stream",
     "text": [
      "h\n",
      "a\n",
      "m\n",
      "s\n",
      "t\n",
      "e\n",
      "r\n"
     ]
    }
   ],
   "source": [
    "a_word = \"hamster\"\n",
    "\n",
    "for i in range(7) :\n",
    "    print(a_word[i])"
   ]
  },
  {
   "cell_type": "code",
   "execution_count": null,
   "metadata": {
    "colab": {
     "base_uri": "https://localhost:8080/"
    },
    "executionInfo": {
     "elapsed": 823,
     "status": "ok",
     "timestamp": 1615360291069,
     "user": {
      "displayName": "HJ Kim",
      "photoUrl": "",
      "userId": "16634276932240017990"
     },
     "user_tz": -540
    },
    "id": "Gjca9wuo-ZtO",
    "outputId": "176972d6-c899-4e33-f227-97cdc0fbd1d2"
   },
   "outputs": [
    {
     "name": "stdout",
     "output_type": "stream",
     "text": [
      "h\n",
      "a\n",
      "m\n",
      "s\n",
      "t\n",
      "e\n",
      "r\n"
     ]
    }
   ],
   "source": [
    "a_word = \"hamster\"\n",
    "\n",
    "for i in a_word :\n",
    "    print(i)"
   ]
  },
  {
   "cell_type": "markdown",
   "metadata": {
    "id": "k2ilprdO986a"
   },
   "source": [
    ":::{admonition} 주의\n",
    ":class: caution  \n",
    "문자열의 길이가 `range()` 함수에 사용되는 인자보다 작으면 오류가 발생한다. 이유는 문자열의 길이보다 큰 인덱스가 사용되기 때문이다. \n",
    "\n",
    "```python\n",
    ">>> for i in range(8) :\n",
    "        print(a_word[i])\n",
    "h\n",
    "a\n",
    "m\n",
    "s\n",
    "t\n",
    "e\n",
    "r\n",
    "---------------------------------------------------------------------------\n",
    "IndexError                                Traceback (most recent call last)\n",
    "<ipython-input-21-7b52045b976d> in <module>()\n",
    "      1 for i in range(8) :\n",
    "----> 2   print(a_word[i])\n",
    "\n",
    "IndexError: string index out of range\n",
    "```\n",
    "\n",
    ":::\n",
    "\n",
    "\n"
   ]
  },
  {
   "cell_type": "markdown",
   "metadata": {
    "id": "EunzAmVh-vvC"
   },
   "source": [
    "참고) `len()` 함수는 문자열의 길이를 구해준다. "
   ]
  },
  {
   "cell_type": "code",
   "execution_count": null,
   "metadata": {
    "colab": {
     "base_uri": "https://localhost:8080/"
    },
    "executionInfo": {
     "elapsed": 902,
     "status": "ok",
     "timestamp": 1615360403725,
     "user": {
      "displayName": "HJ Kim",
      "photoUrl": "",
      "userId": "16634276932240017990"
     },
     "user_tz": -540
    },
    "id": "6NabZb1n-uuu",
    "outputId": "f9609929-dbbd-4891-9351-85aba141b708"
   },
   "outputs": [
    {
     "name": "stdout",
     "output_type": "stream",
     "text": [
      "h\n",
      "a\n",
      "m\n",
      "s\n",
      "t\n",
      "e\n",
      "r\n"
     ]
    }
   ],
   "source": [
    "for i in range(len(a_word)) :\n",
    "    print(a_word[i])"
   ]
  }
 ],
 "metadata": {
  "colab": {
   "authorship_tag": "ABX9TyMK5UdKV/QxTaQiAKyl3iqg",
   "collapsed_sections": [],
   "name": "강의노트4(조건문&반복문).ipynb",
   "provenance": []
  },
  "kernelspec": {
   "display_name": "Python 3 (ipykernel)",
   "language": "python",
   "name": "python3"
  },
  "language_info": {
   "codemirror_mode": {
    "name": "ipython",
    "version": 3
   },
   "file_extension": ".py",
   "mimetype": "text/x-python",
   "name": "python",
   "nbconvert_exporter": "python",
   "pygments_lexer": "ipython3",
   "version": "3.8.10"
  },
  "toc-autonumbering": true
 },
 "nbformat": 4,
 "nbformat_minor": 4
}
