{
 "cells": [
  {
   "cell_type": "markdown",
   "id": "ae538f3d-736f-4e4a-98ec-1a98d74eeb61",
   "metadata": {},
   "source": [
    "# 파이썬 프로그래밍 개발 환경"
   ]
  },
  {
   "cell_type": "markdown",
   "id": "ecb8513a-cb51-4c1c-be09-7159b5079cd3",
   "metadata": {},
   "source": [
    "파이썬 프로그래밍을 하려면 개발환경을 준비해야 한다. 파이썬을 아직 설치하지 않았다면, 데이터 분석에 필요한 라이브러리가 포함되어 있는 아나콘다<font size = \"2\">Anaconda</font>를 설치하는 것도 좋다. 다음 중 하나의 방법을 선택하여 개발 환경을 구축하자.  \n",
    "\n",
    "1. 아나콘다 설치 → 스파이더 사용\n",
    "2. 아나콘다 설치 → 주피터 노트북 사용\n",
    "3. 아나콘다 & vs code 설치 → vs code 사용\n",
    "\n",
    "별도의 프로그램 설치 없이 파이썬을 사용하는 방법도 있다. \n",
    "\n",
    "4. Repl.it 사용\n",
    "5. 구글 코랩 사용"
   ]
  },
  {
   "cell_type": "markdown",
   "id": "8603976d-039f-4db6-a7f0-195b98166cfc",
   "metadata": {},
   "source": [
    "::::{admonition} 참고\n",
    ":class: info\n",
    "\n",
    "**통합 개발 환경**<font size = \"2\">Integrated Development Environment, IDE</font>  \n",
    "통합 개발 환경은 코딩, 디버그, 컴파일 등 프로그램 개발과 관련된 작업을 하나의 프로그램으로 처리하는 소프트웨어이다. \n",
    "::::"
   ]
  },
  {
   "cell_type": "markdown",
   "id": "37f2b139-33f6-4b38-9979-8ddab542d694",
   "metadata": {},
   "source": [
    "## 아나콘다 <font size = \"2\">Anaconda</font> 설치"
   ]
  },
  {
   "cell_type": "markdown",
   "id": "8f76d59f-fe21-4f99-944d-5d195a61c311",
   "metadata": {},
   "source": [
    "아나콘다를 설치하려면 먼저 설치 프로그램을 다운로드해야 한다. "
   ]
  },
  {
   "cell_type": "markdown",
   "id": "597d1f27-82c5-46c2-b0da-64f3c07b704b",
   "metadata": {},
   "source": [
    "1. 아나콘다 사이트 <font size = \"2\">https://www.anaconda.com/products/individual</font> 에 접속한다.  \n",
    "그리고 화면 오른쪽에 있는 Download 버튼을 눌러 아나콘다 설치 프로그램을 다운로드한다. "
   ]
  },
  {
   "cell_type": "markdown",
   "id": "f8f79e48-463b-4748-a6c1-07794d9a5eaf",
   "metadata": {},
   "source": [
    "<div align=\"center\">\n",
    "    <img src=\"https://raw.githubusercontent.com/hj617kim/pybook/master/images/ch02/anaconda01.png\" style=\"width:800px;\">\n",
    "</div>"
   ]
  },
  {
   "cell_type": "markdown",
   "id": "f0d83050-8b14-4373-8af6-2b13c601d633",
   "metadata": {},
   "source": [
    "::::{admonition} 참고\n",
    ":class: info\n",
    "\n",
    "아나콘다 사이트에 접속하면, 접속자의 운영체제를 확인하여 설치 가능한 파이썬 최신 버전을 보여준다. 이 글을 작성하는 시점에는 파이썬 3.9가 최신 버전이다. \n",
    "::::"
   ]
  },
  {
   "cell_type": "markdown",
   "id": "87e95757-2e66-4959-bd9f-1fb0cc739755",
   "metadata": {},
   "source": [
    "2. 다운로드한 Anaconda3-Window_64.exe 실행파일을 더블 클릭하여 설치를 시작한다. 설치화면이 아래와 같이 나오면 Next 버튼을 눌러서 다음 화면으로 넘어간다."
   ]
  },
  {
   "cell_type": "markdown",
   "id": "8f6822eb-5456-42fb-bce8-09bc83e042ac",
   "metadata": {},
   "source": [
    "<div align=\"center\">\n",
    "    <img src=\"https://raw.githubusercontent.com/hj617kim/pybook/master/images/ch02/anaconda02.png\" style=\"width:400px;\">\n",
    "</div>"
   ]
  },
  {
   "cell_type": "markdown",
   "id": "62cc215b-aef8-4e0d-9fed-06a7272be486",
   "metadata": {},
   "source": [
    "3. 약관이 나타나면, 동의하는 I Agree 버튼을 눌러 다음 화면으로 넘어간다. "
   ]
  },
  {
   "cell_type": "markdown",
   "id": "82ce52eb-8b67-4786-a50d-08fe527b21eb",
   "metadata": {},
   "source": [
    "<div align=\"center\">\n",
    "    <img src=\"https://raw.githubusercontent.com/hj617kim/pybook/master/images/ch02/anaconda03.png\" style=\"width:400px;\">\n",
    "</div>"
   ]
  },
  {
   "cell_type": "markdown",
   "id": "a77560af-1345-4118-8856-23c389cb30e6",
   "metadata": {},
   "source": [
    "4. 사용자 환경에 따라 권한을 설정한 다음, Next 버튼을 눌러 다음 화면으로 넘어간다."
   ]
  },
  {
   "cell_type": "markdown",
   "id": "29e9ba03-67c5-4ab4-b2f6-16432b75ba29",
   "metadata": {},
   "source": [
    "<div align=\"center\">\n",
    "    <img src=\"https://raw.githubusercontent.com/hj617kim/pybook/master/images/ch02/anaconda04.png\" style=\"width:400px;\">\n",
    "</div>"
   ]
  },
  {
   "cell_type": "markdown",
   "id": "bad894d1-4be3-44d8-a1df-3d3a95eb2bf4",
   "metadata": {},
   "source": [
    "5. 설치 경로를 지정한 다음, Next 버튼을 눌러 다음 화면으로 넘어간다. "
   ]
  },
  {
   "cell_type": "markdown",
   "id": "22edd9b4-6b44-4a47-9f77-56377ea6b4a2",
   "metadata": {},
   "source": [
    "<div align=\"center\">\n",
    "    <img src=\"https://raw.githubusercontent.com/hj617kim/pybook/master/images/ch02/anaconda05.png\" style=\"width:400px;\">\n",
    "</div>"
   ]
  },
  {
   "cell_type": "markdown",
   "id": "972f7db2-090a-4bbd-ba92-449617624521",
   "metadata": {},
   "source": [
    "::::{admonition} 참고\n",
    ":class: info\n",
    "\n",
    "특별한 경우가 아니라면, 기본 경로를 그대로 두고 다음으로 넘어가면 된다. \n",
    "::::"
   ]
  },
  {
   "cell_type": "markdown",
   "id": "82e92427-ed1e-4cca-a023-08b1ee0c9bfc",
   "metadata": {},
   "source": [
    "6. 아나콘다를 기본 파이썬으로 설정하고, Install 버튼을 눌러 설치를 진행한다. "
   ]
  },
  {
   "cell_type": "markdown",
   "id": "9387a0ec-d335-4a70-987f-31b76b772fd5",
   "metadata": {},
   "source": [
    "<div align=\"center\">\n",
    "    <img src=\"https://raw.githubusercontent.com/hj617kim/pybook/master/images/ch02/anaconda06.png\" style=\"width:400px;\">\n",
    "</div>"
   ]
  },
  {
   "cell_type": "markdown",
   "id": "4e9f4981-60c2-4a68-b4e5-2bf6d95838d6",
   "metadata": {},
   "source": [
    "7. 설치 시간은 보통 1~3분 정도 걸리며, 컴퓨터 환경에 따라 5분이상 소요되기도 한다. 설치 완료가 되면, Next를 눌러 다음 화면으로 넘어간다. "
   ]
  },
  {
   "cell_type": "markdown",
   "id": "1b692a2b-0d37-43bf-9e37-0698038123fa",
   "metadata": {},
   "source": [
    "<div align=\"center\">\n",
    "    <img src=\"https://raw.githubusercontent.com/hj617kim/pybook/master/images/ch02/anaconda08.png\" style=\"width:400px;\">\n",
    "</div>"
   ]
  },
  {
   "cell_type": "markdown",
   "id": "402c2b28-bb01-4bf5-a841-1c529ba7f559",
   "metadata": {},
   "source": [
    "그 다음 화면도 Next 버튼을 누르면 된다. "
   ]
  },
  {
   "cell_type": "markdown",
   "id": "00567309-8c45-4bde-8d54-e3c15e74aefd",
   "metadata": {},
   "source": [
    "<div align=\"center\">\n",
    "    <img src=\"https://raw.githubusercontent.com/hj617kim/pybook/master/images/ch02/anaconda09.png\" style=\"width:400px;\">\n",
    "</div>"
   ]
  },
  {
   "cell_type": "markdown",
   "id": "a535b2fa-16a8-40a9-bfd2-91e2f79b12cb",
   "metadata": {},
   "source": [
    "8. Finish 버튼을 눌러 설치를 완료한다. "
   ]
  },
  {
   "cell_type": "markdown",
   "id": "39ef2d34-bea3-4ac3-9073-3a4cca1bab7e",
   "metadata": {},
   "source": [
    "<div align=\"center\">\n",
    "    <img src=\"https://raw.githubusercontent.com/hj617kim/pybook/master/images/ch02/anaconda10.png\" style=\"width:400px;\">\n",
    "</div>"
   ]
  },
  {
   "cell_type": "markdown",
   "id": "820d82d3-68a3-4c72-bc75-181045ff9827",
   "metadata": {},
   "source": [
    "### 스파이더 <font size = \"2\"> Spyder </font>"
   ]
  },
  {
   "cell_type": "markdown",
   "id": "74f357b6-e8e9-4b70-bb3f-8d60ed70dcb3",
   "metadata": {},
   "source": [
    "스파이더는 과학프로그래밍을 위한 IDE로, 아나콘다를 설치하면 스파이더를 사용할 수 있다."
   ]
  },
  {
   "cell_type": "markdown",
   "id": "2d771058-afcd-462d-a8ef-408672b1a363",
   "metadata": {},
   "source": [
    "1. 윈도우키를 누른 후 스파이더를 선택한다. 시작까지 오랜 시간이 걸릴 수도 있다. "
   ]
  },
  {
   "cell_type": "markdown",
   "id": "7700ac75-d98b-4eff-a93c-d099005411e8",
   "metadata": {},
   "source": [
    "<div align=\"center\">\n",
    "    <img src=\"https://raw.githubusercontent.com/hj617kim/pybook/master/images/ch02/spyder01.png\" style=\"width:400px;\">\n",
    "</div>"
   ]
  },
  {
   "cell_type": "markdown",
   "id": "6f126cc0-dcb3-491f-bf42-15d28022b12c",
   "metadata": {},
   "source": [
    "2. 스파이더는 편집기 기능과 터미널 기능을 동시에 제공한다. 아래 화면에서 왼쪽이 편집기 부분(빨간색)이고, 오른쪽 아래가 터미널 부분(녹색)이다. 편집기 부분은 긴 코드를 작성할 때 사용하고, 터미널 부분은 짧은 코드를 테스트할 때 사용한다. "
   ]
  },
  {
   "cell_type": "markdown",
   "id": "695744c2-3cbc-44f9-aa98-6f4daccc639d",
   "metadata": {},
   "source": [
    "<div align=\"center\">\n",
    "    <img src=\"https://raw.githubusercontent.com/hj617kim/pybook/master/images/ch02/spyder05.png\" style=\"width:800px;\">\n",
    "</div>"
   ]
  },
  {
   "cell_type": "markdown",
   "id": "77e22abd-585a-413c-b896-193f80cfee57",
   "metadata": {},
   "source": [
    "편집기에 `print('Hello, world')`라고 코드를 작성한 다음 실행 버튼(노란색)<font size = \"2\">또는 F5</font>을 눌러보자. \n",
    "실행 버튼을 처음 누르면 아래와 같이 파이썬 인터프리터와 관련된 설정창이 뜬다. 설정 변경 없이 Run 버튼을 누르면 된다. 그러면 터미널에 `Hello, world`가 출력되는 것을 볼 수 있다."
   ]
  },
  {
   "cell_type": "markdown",
   "id": "1c279e90-f906-4e0d-afb9-ada7472bbc0c",
   "metadata": {},
   "source": [
    "<div align=\"center\">\n",
    "    <img src=\"https://raw.githubusercontent.com/hj617kim/pybook/master/images/ch02/spyder03.png\" style=\"width:400px;\">\n",
    "</div>"
   ]
  },
  {
   "cell_type": "markdown",
   "id": "b56ae0f8-f854-4db9-b536-f9c25d1a014b",
   "metadata": {},
   "source": [
    " 편집기 부분과 터미널 부분은 파이썬 인터프리터를 공유한다. 그래서 편집기 부분에 코드를 입력 후 실행하면, 터미널 부분에서도 편집기 부분에서 정의된 변수나 함수 등을 사용할 수 있다. "
   ]
  },
  {
   "cell_type": "markdown",
   "id": "e5da5b1c-d88e-4f56-a12c-544b7be7b215",
   "metadata": {},
   "source": [
    ":::{admonition} 주의 \n",
    ":class: caution\n",
    "터미널 부분에서 정의된 변수나 함수 등도 편집기에서 사용할 수 있다. 하지만 편집기 부분을 저장할 때 터미널 부분에 정의된 코드는 저장되지 않는다. :::"
   ]
  },
  {
   "cell_type": "markdown",
   "id": "00d59c3f-d831-40a6-859c-951f28a41193",
   "metadata": {},
   "source": [
    "### 주피터 노트북 <font size = \"2\">Jupyter Notebook</font>"
   ]
  },
  {
   "cell_type": "markdown",
   "id": "2dc9c3a9-7ddd-4cd2-a9fe-badfcd9820d0",
   "metadata": {},
   "source": [
    "주피터 노트북은 대화형 파이썬 인터프리터로, 웹브라우저에서 파이썬 코드를 작성하고 실행 결과를 바로 확인할 수 있다. 아나콘다를 설치하면 주피터 노트북을 사용할 수 있다. "
   ]
  },
  {
   "cell_type": "markdown",
   "id": "04435a38-e795-41c4-ada2-f4fd76981cf3",
   "metadata": {},
   "source": [
    "1. 윈도우 키를 누른 후 주피터 노트북을 선택한다.  "
   ]
  },
  {
   "cell_type": "markdown",
   "id": "c832963f-a0d9-47a7-ad18-4fda38adedc0",
   "metadata": {},
   "source": [
    "<div align=\"center\">\n",
    "    <img src=\"https://raw.githubusercontent.com/hj617kim/pybook/master/images/ch02/jupyter01.png\" style=\"width:400px;\">\n",
    "</div>"
   ]
  },
  {
   "cell_type": "markdown",
   "id": "3b32ba2a-7ab0-4b08-b0be-05e71a1c30b6",
   "metadata": {},
   "source": [
    "'이 파일을 열 때 사용할 앱을 선택하세요.'라는 문구가 나온다면 사용하는 브라우저(예, Google Chrome 또는 Microsoft Edge 등)를 선택하면 된다. 그러면 주피터 노트북이 실행된다. "
   ]
  },
  {
   "cell_type": "markdown",
   "id": "4551b753-dcfb-42a0-a3a7-e8285e9fb836",
   "metadata": {},
   "source": [
    "2. 아래 화면에서 오른쪽 위에 있는 New를 선택한 다음 Python 3를 선택하여 새로운 파이썬 파일을 만들자."
   ]
  },
  {
   "cell_type": "markdown",
   "id": "5d6eaaa5-4ec0-4ff4-8036-8e429974c697",
   "metadata": {},
   "source": [
    "<div align=\"center\">\n",
    "    <img src=\"https://raw.githubusercontent.com/hj617kim/pybook/master/images/ch02/jupyter04.png\" style=\"width:800px;\">\n",
    "</div>"
   ]
  },
  {
   "cell_type": "markdown",
   "id": "84bc80b9-dfc6-4caa-a31b-b5b1b80d136d",
   "metadata": {},
   "source": [
    "3. 새로운 파이썬 파일은 아래 화면과 같다. 코드셀(빨간색)에 `print('Hello, world')`라고 코드를 작성한 다음 실행버튼(노란색)<font size = \"2\">또는 shift+enter나 ctrl+enter</font>를 누르면, 코드셀 바로 아래(녹색) `Hello, world`가 출력되는 것을 볼 수 있다. "
   ]
  },
  {
   "cell_type": "markdown",
   "id": "263847a2-d88d-4116-ae75-cfbc4f0dd004",
   "metadata": {},
   "source": [
    "<div align=\"center\">\n",
    "    <img src=\"https://raw.githubusercontent.com/hj617kim/pybook/master/images/ch02/jupyter06.png\" style=\"width:800px;\">\n",
    "</div>"
   ]
  },
  {
   "cell_type": "markdown",
   "id": "5ccf088c-1488-4dd3-86e5-5c7bc435a807",
   "metadata": {},
   "source": [
    "### 비주얼 스튜디오 코드 <font size = \"2\">Visual Studio Code, vs code</font>"
   ]
  },
  {
   "cell_type": "markdown",
   "id": "548ba8e2-d09c-4bb9-9fff-43631a45119c",
   "metadata": {},
   "source": [
    "vs code는 마이크로소프트에서 만든 소스 코드 에디터<font size = \"2\">Editor</font>로 다양한 프로그래밍 언어를 지원하며 대부분의 OS에서 실행된다. 에디터는 들여쓰기나 코드 자동 완성, 문법 오류 감지 등 개발할 때 편리한 기능을 제공하기 때문에 개발 속도를 높이는 데 도움을 줄 수 있다.  "
   ]
  },
  {
   "cell_type": "markdown",
   "id": "dfc3cc18-71b9-49eb-bddd-37ef0c0db662",
   "metadata": {},
   "source": [
    "vs code를 설치하려면 먼저 설치 프로그램을 다운로드해야 한다.  \n",
    "1. 비주얼 스튜디오 코드 https://code.visualstudio.com/ 에 접속한다. 그리고 화면 왼쪽에 있는 Download 버튼을 눌러 비주얼 스튜디오 코드 설치 프로그램을 다운로드한다. "
   ]
  },
  {
   "cell_type": "markdown",
   "id": "47b39f1c-b45e-4daf-8be0-f912aa83dc46",
   "metadata": {},
   "source": [
    "<div align=\"center\">\n",
    "    <img src=\"https://raw.githubusercontent.com/hj617kim/pybook/master/images/ch02/vscode01.png\" style=\"width:800px;\">\n",
    "</div>"
   ]
  },
  {
   "cell_type": "markdown",
   "id": "85ac218d-2fac-4738-a43a-c7bc81ae9008",
   "metadata": {},
   "source": [
    ":::{admonition} 참고 :class: info\n",
    "비주얼 스튜디오 코드 사이트에 접속하면, 접속자의 운영체제를 확인하여 설치 가능한 버전을 보여준다. :::"
   ]
  },
  {
   "cell_type": "markdown",
   "id": "8a7bb73f-3b6c-4fdf-a331-7e0acce03afc",
   "metadata": {},
   "source": [
    "2. 다운로드한 VSCodeUserSetup.exe 실행파일을 더블 클릭하여 설치를 시작한다. 약관이 나타나면, 동의합니다를 선택하고, 다음을 눌러서 다음 화면으로 넘어간다.  \n",
    "\n",
    "3. 설치 경로를 지정한 다음, 다음 버튼을 눌러 다음 화면으로 넘어간다.  "
   ]
  },
  {
   "cell_type": "markdown",
   "id": "4eac6ef2-049a-4d05-a841-afe3c50a079e",
   "metadata": {},
   "source": [
    "<div align=\"center\">\n",
    "    <img src=\"https://raw.githubusercontent.com/hj617kim/pybook/master/images/ch02/vscode02.png\" style=\"width:400px;\">\n",
    "    <img src=\"https://raw.githubusercontent.com/hj617kim/pybook/master/images/ch02/vscode03.png\" style=\"width:400px;\">\n",
    "</div>"
   ]
  },
  {
   "cell_type": "markdown",
   "id": "90772c7a-94e3-42d6-b94f-94e0487c7c44",
   "metadata": {},
   "source": [
    ":::{admonition} 참고 :class: info\n",
    "특별한 경우가 아니면, 기본 경로를 그대로 두고 다음으로 넘어가면 된다. :::"
   ]
  },
  {
   "cell_type": "markdown",
   "id": "57eea676-2d34-45dc-a32e-d6b0a68c7be1",
   "metadata": {},
   "source": [
    "4. 시작 메뉴에 비주얼 스튜디오 코드가 보이도록 하고 싶다면 다음을 누르고, 아니라면 시작 메뉴 폴더를 만들지 않음을 선택하고 다음을 눌러 다음으로 넘어가면 된다. \n",
    "\n",
    "5. 추가로 필요한 작업이 있다면, 선택하고 다음을 눌러 다음 화면으로 넘어가면 된다. "
   ]
  },
  {
   "cell_type": "markdown",
   "id": "0e7d7011-c615-4898-a707-e1e8145e5991",
   "metadata": {},
   "source": [
    "<div align=\"center\">\n",
    "    <img src=\"https://raw.githubusercontent.com/hj617kim/pybook/master/images/ch02/vscode04.png\" style=\"width:400px;\">\n",
    "    <img src=\"https://raw.githubusercontent.com/hj617kim/pybook/master/images/ch02/vscode05.png\" style=\"width:400px;\">\n",
    "</div>"
   ]
  },
  {
   "cell_type": "markdown",
   "id": "9f7376f5-73a0-43b4-95cf-ab7534bcf141",
   "metadata": {},
   "source": [
    "6. 아래 왼쪽 화면은 앞에서 선택한 항목들을 보여준다. 확인 후 설치를 눌러 설치를 진행한다.  \n",
    "  \n",
    "7. 설치 시간은 보통 1~3분 정도 걸리며, 컴퓨터 환경에 따라 5분이상 소요되기도 한다."
   ]
  },
  {
   "cell_type": "markdown",
   "id": "b1916b30-dfd8-492d-9145-6ea98ef5943d",
   "metadata": {},
   "source": [
    "<div align=\"center\">\n",
    "    <img src=\"https://raw.githubusercontent.com/hj617kim/pybook/master/images/ch02/vscode06.png\" style=\"width:400px;\">\n",
    "    <img src=\"https://raw.githubusercontent.com/hj617kim/pybook/master/images/ch02/vscode07.png\" style=\"width:400px;\">\n",
    "</div>"
   ]
  },
  {
   "cell_type": "markdown",
   "id": "6c5a53ad-f918-40a9-aaf3-b939434dc406",
   "metadata": {},
   "source": [
    "8. 종료 버튼을 눌러 설치를 완료한다. "
   ]
  },
  {
   "cell_type": "markdown",
   "id": "2e0f1905-aa6f-4584-a36c-f140c524117f",
   "metadata": {},
   "source": [
    "<div align=\"center\">\n",
    "    <img src=\"https://raw.githubusercontent.com/hj617kim/pybook/master/images/ch02/vscode08.png\" style=\"width:400px;\">\n",
    "</div>"
   ]
  },
  {
   "cell_type": "markdown",
   "id": "2dcc5415-70e7-4ed7-80d6-186aa69522e8",
   "metadata": {},
   "source": [
    "9. 이제 vs code를 실행해보자. 윈도우 키를 누른 후 visual studio code를 선택하면 된다.  \n",
    "\n",
    "10. vs code에서 파이썬을 사용하기 위하여 확장<font size=\"2\">Extensions</font>을 설치해야 한다. 아래 화면 왼쪽 아래에 있는 확장 아이콘(빨간색)<font size = \"2\">또는 ctrl + shift + x </font>을 클릭한 다음, python을 검색(노란색)한다. 그리고 아래(녹색) python과 python for vs code를 install를 클릭하여 설치한다. "
   ]
  },
  {
   "cell_type": "markdown",
   "id": "61947595-83c0-4606-95b3-b56d6eb9de1f",
   "metadata": {},
   "source": [
    "<div align=\"center\">\n",
    "    <img src=\"https://raw.githubusercontent.com/hj617kim/pybook/master/images/ch02/vscode11.png\" style=\"width:800px;\">\n",
    "</div>"
   ]
  },
  {
   "cell_type": "markdown",
   "id": "f84d7526-73a9-4258-8e28-1a88ec890739",
   "metadata": {},
   "source": [
    "11. 그 다음 작업영역에 폴더를 추가해야 한다. 우선 원하는 위치에 폴더를 하나 만든다(예, 바탕화면에 python이라는 이름의 폴더 생성). 그 다음 vs code 메뉴 중 File 아래 Open Folder를 클릭한 다음, 생성한 폴더를 선택하여 연다.   "
   ]
  },
  {
   "cell_type": "markdown",
   "id": "503b94f6-6cfc-4ca6-ada7-f333763a097b",
   "metadata": {},
   "source": [
    "<div align=\"center\">\n",
    "    <img src=\"https://raw.githubusercontent.com/hj617kim/pybook/master/images/ch02/vscode12.png\" style=\"width:800px;\">\n",
    "</div>"
   ]
  },
  {
   "cell_type": "markdown",
   "id": "8129448b-70b8-4d4a-8be8-c3374a913d43",
   "metadata": {},
   "source": [
    "12. 폴더명 옆에 마우스를 가져가면 파일을 추가할 수 있는 아이콘(빨간색)이 생긴다. 이 아이콘을 누른 다음, 아래 만들어지는 영역(노란색)에 파이썬 파일명과 확장자(.py)를 입력한다. 아래 화면에서는 1.py 파일을 만들었다.   "
   ]
  },
  {
   "cell_type": "markdown",
   "id": "337eb895-2fab-4b16-8eae-42d7115ba2d1",
   "metadata": {},
   "source": [
    "<div align=\"center\">\n",
    "    <img src=\"https://raw.githubusercontent.com/hj617kim/pybook/master/images/ch02/vscode13.png\" style=\"width:500px;\">\n",
    "</div>"
   ]
  },
  {
   "cell_type": "markdown",
   "id": "e8aec9c2-d211-46b3-a4f8-5c02d0786fbb",
   "metadata": {},
   "source": [
    "13. 만든 파이썬 파일(1.py)은 아래 화면과 같다. 편집기(빨간색)에 `print('Hello, world')`라고 코드를 작성한 다음 ctrl + F5를 누르면, 아래 터미널에 `Hello, world`가 출력되는 것(노란색)을 볼 수 있다. "
   ]
  },
  {
   "cell_type": "markdown",
   "id": "f8b23ed7-ae43-4d77-aea4-0f5e8771067c",
   "metadata": {},
   "source": [
    "<div align=\"center\">\n",
    "    <img src=\"https://raw.githubusercontent.com/hj617kim/pybook/master/images/ch02/vscode14.png\" style=\"width:800px;\">\n",
    "</div>"
   ]
  },
  {
   "cell_type": "markdown",
   "id": "b4384ee1-c9bc-4b75-8cc4-3376b1f2906a",
   "metadata": {},
   "source": [
    ":::{admonition} 참고 :class: info   \n",
    "터미널에 `Hello, world`가 출력되지 않는다면, 파이썬 설치 경로가 제대로 입력되었는지 확인하자. vs code에서 ctrl + shift + p를 누르면 뜨는 창에 Python: Select Interpreter를 선택한다. 그 다음 열리는 창에 python이 설치된 경로를 적어준다. 보통은 설치 경로를 입력하는 창 아래에 파이썬 설치 경로를 보여준다.  \n",
    ":::"
   ]
  },
  {
   "cell_type": "markdown",
   "id": "395589d3-1f74-4b5c-a931-d9e204caf625",
   "metadata": {},
   "source": [
    "## 레플릿 <font size = \"2\"> Repl.it </font>"
   ]
  },
  {
   "cell_type": "markdown",
   "id": "a4be72be-146a-4566-8393-3ad93b74fbf5",
   "metadata": {},
   "source": [
    "레플릿은 온라인 IDE로 별도의 프로그램 설치 없이 파이썬을 사용할 수 있다. 사용 방법은 간단하다. "
   ]
  },
  {
   "cell_type": "markdown",
   "id": "aba23b09-bfa7-4421-9939-69788380645e",
   "metadata": {},
   "source": [
    "1. 레플릿 사이트(https://replit.com/)에 접속한다. 그리고 오른쪽 위의 Sign up을 눌러 회원가입을 하고, 로그인을 한다. "
   ]
  },
  {
   "cell_type": "markdown",
   "id": "3c4faa2d-927a-45b6-93e0-9b55c74998c1",
   "metadata": {},
   "source": [
    "<div align=\"center\">\n",
    "    <img src=\"https://raw.githubusercontent.com/hj617kim/pybook/master/images/ch02/replit01.png\" style=\"width:800px;\">\n",
    "</div>"
   ]
  },
  {
   "cell_type": "markdown",
   "id": "11c1fc42-aa1e-41a6-9603-737a99345733",
   "metadata": {},
   "source": [
    "2. 로그인하면 아래와 같은 화면이 나온다. 오른쪽 위의 + 버튼(빨간색)을 누르면, Create a repl 창이 나온다. 물론, 왼쪽 위의 햄버거 버튼(녹색)를 누른 다음 +Create 버튼을 눌러도 되고, 화면 아래에 있는 + Python(노란색)를 눌러도 된다."
   ]
  },
  {
   "cell_type": "markdown",
   "id": "0f89ed14-0c59-434a-a781-a57c45872b59",
   "metadata": {},
   "source": [
    "<div align=\"center\">\n",
    "    <img src=\"https://raw.githubusercontent.com/hj617kim/pybook/master/images/ch02/replit02.png\" style=\"width:800px;\">\n",
    "</div>"
   ]
  },
  {
   "cell_type": "markdown",
   "id": "4b1e81b3-cf14-4e68-b598-862eee441aaa",
   "metadata": {},
   "source": [
    "3. Create a repl 창이 나오면, Template은 Python을 선택하고, 제목Title은 적당한 것으로 변경(예, 1)한 다음 오른쪽 아래에 보이는 +Create Repl 버튼을 누르면 된다.  "
   ]
  },
  {
   "cell_type": "markdown",
   "id": "1af5a77c-0a8e-4abd-bedd-a94004d3177c",
   "metadata": {},
   "source": [
    "<div align=\"center\">\n",
    "    <img src=\"https://raw.githubusercontent.com/hj617kim/pybook/master/images/ch02/replit03.png\" style=\"width:400px;\">\n",
    "    <img src=\"https://raw.githubusercontent.com/hj617kim/pybook/master/images/ch02/replit04.png\" style=\"width:465px;\">\n",
    "</div>"
   ]
  },
  {
   "cell_type": "markdown",
   "id": "f76f5c72-77fe-4198-bbf9-5532e2132626",
   "metadata": {},
   "source": [
    "4. 그러면 아래와 같이 파이썬 파일이 만들어진다. 왼쪽 편집기(빨간색)에 `print('Hello, world')`라고 코드를 작성한 다음 실행버튼(노란색)<font size = \"2\"> 또는 ctrl + enter</font>를 누르면, 오른쪽 터미널에 `Hello, world`가 출력되는 것(녹색)을 볼 수 있다. "
   ]
  },
  {
   "cell_type": "markdown",
   "id": "e76675d6-c23e-44a4-adac-2fd5b1e78c0f",
   "metadata": {},
   "source": [
    "<div align=\"center\"><img src=\"https://raw.githubusercontent.com/hj617kim/pybook/master/images/ch02/replit05_r.png\" style=\"width:800px;\"></div>"
   ]
  },
  {
   "cell_type": "markdown",
   "id": "119e92eb-2e4b-4091-b11b-ca80eaea8763",
   "metadata": {},
   "source": [
    "## 구글 코랩 <font size = \"2\">Google Colab</font>"
   ]
  },
  {
   "cell_type": "markdown",
   "id": "d621b999-201f-4a42-ae5c-d26aba1a36f1",
   "metadata": {},
   "source": [
    "구글 코랩은 구글에서 제공하는 주피터 노트북이다. 레플릿과 마찬가지로 사용 방법은 간단하다."
   ]
  },
  {
   "cell_type": "markdown",
   "id": "459a3499-4515-40e1-8385-075ea8c88ce6",
   "metadata": {},
   "source": [
    "1. 구글 https://www.google.com/ 에 접속한다. 그리고 구글 계정으로 로그인을 한다. 이때, 사용할 웹 브라우저는 크롬을 추천한다. "
   ]
  },
  {
   "cell_type": "markdown",
   "id": "07e849e9-5199-4d4d-9ee9-73e10edc938e",
   "metadata": {},
   "source": [
    "<div align=\"center\">\n",
    "    <img src=\"https://raw.githubusercontent.com/hj617kim/pybook/master/images/ch02/colab01.png\" style=\"width:800px;\">\n",
    "</div>"
   ]
  },
  {
   "cell_type": "markdown",
   "id": "47f0991e-65e2-4b16-8697-b5bd81882823",
   "metadata": {},
   "source": [
    "2. 웹 브라우저에서 오른쪽 위를 보면 여러 개의 아이콘이 보인다. 그 중 세 번째에 있는 Google 앱 아이콘을 누른 다음 구글 드라이브에 접속한다.  \n",
    "\n",
    "3. 구글 드라이브 화면에서 왼쪽 위를 보면 새로 만들기 버튼(빨간색)이 있다. "
   ]
  },
  {
   "cell_type": "markdown",
   "id": "e410f21e-da72-4ef8-89e2-c1c783c9e994",
   "metadata": {},
   "source": [
    "<div align=\"center\">\n",
    "    <img src=\"https://raw.githubusercontent.com/hj617kim/pybook/master/images/ch02/colab02.png\" style=\"width:300px; padding-right:20px\">\n",
    "    <img src=\"https://raw.githubusercontent.com/hj617kim/pybook/master/images/ch02/colab03.png\" style=\"width:400px;\">\n",
    "</div>"
   ]
  },
  {
   "cell_type": "markdown",
   "id": "148a08e6-9a6a-47bf-a4a6-07b157dd580a",
   "metadata": {},
   "source": [
    "4. 새로 만들기 버튼을 누르면 아래와 같은 창이 뜬다. 이 창에서 연결할 앱 더보기를 선택한다."
   ]
  },
  {
   "cell_type": "markdown",
   "id": "35513ff3-9fbd-4bc6-bfce-63611fa7d617",
   "metadata": {},
   "source": [
    "<div align=\"center\">\n",
    "    <img src=\"https://raw.githubusercontent.com/hj617kim/pybook/master/images/ch02/colab04.png\" style=\"width:500px;\">\n",
    "</div>"
   ]
  },
  {
   "cell_type": "markdown",
   "id": "4385193c-cc9f-4586-816e-703d364be8e9",
   "metadata": {},
   "source": [
    "5. 그러면 아래와 같은 창이 뜬다. 설치 가능한 앱 중 Colaboratory(빨간색)를 찾은 다음 클릭한다. 코랩을 검색(노란색)하여 찾는 것도 가능하다."
   ]
  },
  {
   "cell_type": "markdown",
   "id": "6563f958-2325-459f-8ec8-1783ab0885cc",
   "metadata": {},
   "source": [
    "<div align=\"center\">\n",
    "    <img src=\"https://raw.githubusercontent.com/hj617kim/pybook/master/images/ch02/colab05.png\" style=\"width:600px;\">\n",
    "</div>"
   ]
  },
  {
   "cell_type": "markdown",
   "id": "6b1f0551-8fac-43ef-8c52-7a28588bd5f7",
   "metadata": {},
   "source": [
    "6. Colaboratory 창에서 설치 버튼을 눌러 설치를 시작한다."
   ]
  },
  {
   "cell_type": "markdown",
   "id": "566e8a38-fb76-4c64-87ac-309970fdccf8",
   "metadata": {},
   "source": [
    "<div align=\"center\">\n",
    "    <img src=\"https://raw.githubusercontent.com/hj617kim/pybook/master/images/ch02/colab06.png\" style=\"width:600px;\">\n",
    "</div>"
   ]
  },
  {
   "cell_type": "markdown",
   "id": "3f0425ae-e511-47a7-968b-4166b6eae781",
   "metadata": {},
   "source": [
    "7. 아래 왼쪽 화면처럼 권한을 요구할 수도 있다. 그러면 계속 버튼을 클릭한다.\n",
    "\n",
    "8. 다음으로 계정 선택 창이 나온다면, 사용할 구글 계정을 선택하면 된다."
   ]
  },
  {
   "cell_type": "markdown",
   "id": "2afcaaa8-e30f-4f2a-ad42-52afada283d6",
   "metadata": {},
   "source": [
    "<div align=\"center\">\n",
    "    <img src=\"https://raw.githubusercontent.com/hj617kim/pybook/master/images/ch02/colab07.png\" style=\"width:400px;\">\n",
    "    <img src=\"https://raw.githubusercontent.com/hj617kim/pybook/master/images/ch02/colab08.png\" style=\"width:300px;\">\n",
    "</div>"
   ]
  },
  {
   "cell_type": "markdown",
   "id": "f0b2a2d1-747f-4d5a-92bc-8edf913c60d2",
   "metadata": {},
   "source": [
    "9. 그러면 코랩 설치가 완료된다. 확인, 완료 등의 버튼을 눌러 모든 창을 닫아준다. "
   ]
  },
  {
   "cell_type": "markdown",
   "id": "817200fc-e02b-4b21-8b57-d8578cbe16d2",
   "metadata": {},
   "source": [
    "<div align=\"center\">\n",
    "    <img src=\"https://raw.githubusercontent.com/hj617kim/pybook/master/images/ch02/colab09.png\" style=\"width:400px;\">\n",
    "</div>"
   ]
  },
  {
   "cell_type": "markdown",
   "id": "6a3400fc-0427-4991-a430-9a2af9f27523",
   "metadata": {},
   "source": [
    "10. 다시 구글 드라이브로 와서 새로 만들기 버튼을 누른 다음, 목록에서 Google Colaboratory를 선택한다."
   ]
  },
  {
   "cell_type": "markdown",
   "id": "e7a7bd4e-34a3-496b-abc8-6f83b8909672",
   "metadata": {},
   "source": [
    "<div align=\"center\">\n",
    "    <img src=\"https://raw.githubusercontent.com/hj617kim/pybook/master/images/ch02/colab10.png\" style=\"width:500px;\">\n",
    "</div>"
   ]
  },
  {
   "cell_type": "markdown",
   "id": "6cb09cb5-3509-4556-9f39-4dd3262164e8",
   "metadata": {},
   "source": [
    "11. 그러면 아래와 같은 주피터 노트북이 만들어진다. 코드셀(빨간색)에 `print('Hello, world')`라고 코드를 작성한 다음 실행버튼(실행하고자 하는 코드셀 앞에 있는 동그라미 안의 삼각형)<font size = \"2\">또는 shift+enter나 ctrl+enter</font>를 누르면, 코드셀 바로 아래(노란색) `Hello, world`가 출력되는 것을 볼 수 있다. "
   ]
  },
  {
   "cell_type": "markdown",
   "id": "38014099-8adf-4bd3-a018-385f9e331628",
   "metadata": {},
   "source": [
    "<div align=\"center\">\n",
    "    <img src=\"https://raw.githubusercontent.com/hj617kim/pybook/master/images/ch02/colab11.png\" style=\"width:800px;\">\n",
    "</div>"
   ]
  }
 ],
 "metadata": {
  "kernelspec": {
   "display_name": "Python 3 (ipykernel)",
   "language": "python",
   "name": "python3"
  },
  "language_info": {
   "codemirror_mode": {
    "name": "ipython",
    "version": 3
   },
   "file_extension": ".py",
   "mimetype": "text/x-python",
   "name": "python",
   "nbconvert_exporter": "python",
   "pygments_lexer": "ipython3",
   "version": "3.8.10"
  },
  "toc-autonumbering": false
 },
 "nbformat": 4,
 "nbformat_minor": 5
}
