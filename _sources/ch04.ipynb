{
 "cells": [
  {
   "cell_type": "markdown",
   "metadata": {},
   "source": [
    "# 변수, 값, 표현식, 명령문"
   ]
  },
  {
   "cell_type": "markdown",
   "metadata": {},
   "source": [
    "**변수**<font size=\"2\">variable</font>는\n",
    "(컴퓨터 메모리에) 저장된 하나의 값을 가리키는 이름이며,\n",
    "파이썬과 같은 명령형 프로그래밍 언어의 핵심 기능 중의 하나가 \n",
    "바로 변수가 가리키는 값을 조작하는 일이다.\n",
    "여기서는 다양한 방식으로 **값**<font size=\"2\">value</font>을 \n",
    "표현하는 **표현식**<font size=\"2\">expression</font>과, \n",
    "값을 조작하도록 하는 **명령문**<font size=\"2\">statement</font>의 \n",
    "기본 개념을 소개한다."
   ]
  },
  {
   "cell_type": "markdown",
   "metadata": {},
   "source": [
    "## 변수와 변수 할당"
   ]
  },
  {
   "cell_type": "markdown",
   "metadata": {},
   "source": [
    "변수를 선언하려면 해당 변수가 하나의 값을 가리키도록 하는\n",
    "**변수 할당**<font size=\"2\">variable assignment</font>을 명령해야 한다.\n",
    "변수 할당 명령문의 형식은 다음과 같다.\n",
    "\n",
    "```python\n",
    "변수 = 값\n",
    "```\n",
    "\n",
    "예를 들어, 아래 세 개의 할당 명령문은 서로 다른 종류의 값을 가리키는 세 개의 변수를\n",
    "선언한다."
   ]
  },
  {
   "cell_type": "code",
   "execution_count": 1,
   "metadata": {},
   "outputs": [],
   "source": [
    "greetings = '안녕하세요!'\n",
    "num = 17\n",
    "pi = 3.1415926535897932"
   ]
  },
  {
   "cell_type": "markdown",
   "metadata": {},
   "source": [
    "- `greetings` 변수가 가리키는 값은 `'안녕하세요!'` 라는 문장이다.\n",
    "    단, 변수 이름과는 달리 값으로 사용되는 단어와 문장은 \n",
    "    항상 인용부호로 감싸져야 하는 \n",
    "    **문자열**<font size=\"2\">string</font>이다.\n",
    "- `num` 변수가 가리키는 값은 정수<font size=\"2\">integer</font> `17`이다.\n",
    "- `pi` 변수가 가리키는 값은 유리수 `3.1415926535897932`이다.\n",
    "    유리수는 공식적으로 \n",
    "    **부동소수점**<font size=\"2\">floating point</font>이라 불린다.\n",
    "\n",
    "선언된 변수는 할당된 값과 동일하게 취급된다."
   ]
  },
  {
   "cell_type": "code",
   "execution_count": 2,
   "metadata": {},
   "outputs": [
    {
     "data": {
      "text/plain": [
       "'안녕하세요!'"
      ]
     },
     "execution_count": 2,
     "metadata": {},
     "output_type": "execute_result"
    }
   ],
   "source": [
    "greetings"
   ]
  },
  {
   "cell_type": "code",
   "execution_count": 3,
   "metadata": {},
   "outputs": [
    {
     "data": {
      "text/plain": [
       "19"
      ]
     },
     "execution_count": 3,
     "metadata": {},
     "output_type": "execute_result"
    }
   ],
   "source": [
    "num + 2"
   ]
  },
  {
   "cell_type": "code",
   "execution_count": 4,
   "metadata": {},
   "outputs": [
    {
     "data": {
      "text/plain": [
       "6.283185307179586"
      ]
     },
     "execution_count": 4,
     "metadata": {},
     "output_type": "execute_result"
    }
   ],
   "source": [
    "2 * pi"
   ]
  },
  {
   "cell_type": "markdown",
   "metadata": {},
   "source": [
    "그런데 변수가 가리키는 값은 변경될 수 있다.\n",
    "예를 들어, 변수 `num`에 `18`을 새롭게 할당하면\n",
    "이제는 `17`이 아닌 `18`을 가리킨다."
   ]
  },
  {
   "cell_type": "code",
   "execution_count": 3,
   "metadata": {},
   "outputs": [],
   "source": [
    "num = 18"
   ]
  },
  {
   "cell_type": "code",
   "execution_count": 6,
   "metadata": {},
   "outputs": [
    {
     "data": {
      "text/plain": [
       "20"
      ]
     },
     "execution_count": 6,
     "metadata": {},
     "output_type": "execute_result"
    }
   ],
   "source": [
    "num + 2"
   ]
  },
  {
   "cell_type": "markdown",
   "metadata": {},
   "source": [
    "업데이트된 변수의 값을 동일한 변수 이름을 이용하여 가리키도록 할 수 있다.\n",
    "아래 코드는 변수 `num`이\n",
    "원래 가리키던 값 18의 두 배인 36일 가리키도록 한다.\n",
    "이런 의미에서 변수 할당에 사용되는 기호 `=`는 \n",
    "값이 동일하다<font size=\"2\">equal</font>라는 \n",
    "의미와 전혀 상관이 없음을 기억해야 한다.\n",
    "두 표현식이 동일한 값을 가리키는지 여부를 다루는 기호는 나중에 소개한다."
   ]
  },
  {
   "cell_type": "code",
   "execution_count": 4,
   "metadata": {},
   "outputs": [
    {
     "name": "stdout",
     "output_type": "stream",
     "text": [
      "36\n"
     ]
    }
   ],
   "source": [
    "num = num * 2\n",
    "print(num)"
   ]
  },
  {
   "cell_type": "markdown",
   "metadata": {},
   "source": [
    ":::{admonition} 파이썬 튜터와 프레임\n",
    ":class: info\n",
    "\n",
    "변수 할당은 **컴퓨터 메모리** 상에서 이루어지며,\n",
    "변수와 변수에 할당된 값 사이의 관계는 \n",
    "**프레임**<font size=\"2\">frame</font>을 통해 관리된다.\n",
    "\n",
    "컴퓨터 메모리 상에서 일어나는 변화를 직접 눈으로 볼 수는 없다. \n",
    "하지만 **파이썬 튜터**([https://pythontutor.com/](https://pythontutor.com/))를 \n",
    "이용하면 프레임의 변화를 시각적으로 추적할 수 있다.\n",
    "앞서 변수 세 개의 할당을 실행하면 프레임이 어떻게 변하는지\n",
    "[파이썬 튜터: 변수 할당](https://pythontutor.com/visualize.html#code=greetings%20%3D%20'%EC%95%88%EB%85%95%ED%95%98%EC%84%B8%EC%9A%94!'%0Anum%20%3D%2017%0Api%20%3D%203.1415926535897932%0A%0Aprint%28num%29%0A%0Anum%20%3D%2018%0Aprint%28num%29%0A%0Anum%20%3D%20num%20%2B%202%0Aprint%28num%29%0A&cumulative=false&curInstr=0&heapPrimitives=nevernest&mode=display&origin=opt-frontend.js&py=3&rawInputLstJSON=%5B%5D&textReferences=false)에 \n",
    "접속해서 확인할 수 있다.\n",
    "파이썬튜터의 사용법은 다음과 같다.\n",
    "\n",
    "* 해당 사이트에 접속해서 코드 확인 및 수정 후 <kbd>Visualize Execution</kbd> 버튼을 누른다.\n",
    "* 이후 화면에서 <kbd>Next></kbd> 버튼을 반복해서 누르면\n",
    "    각각의 명령문이 차례대로 실행되는 과정에서 발생하는 프레임의 변화를 확인할 수 있다.\n",
    "* **Global frame**은 **전역 변수**<font size=\"2\">global variable</font>를 \n",
    "    담당하는 **전역 프레임**을 가리킨다.\n",
    "    전역 변수에 대한 정의는 나중에 소개한다.\n",
    ":::"
   ]
  },
  {
   "cell_type": "markdown",
   "metadata": {},
   "source": [
    "**변수의 이름**"
   ]
  },
  {
   "cell_type": "markdown",
   "metadata": {},
   "source": [
    "변수의 이름은 임의로 정할 수 있지만 할당되는 값과 연관된 이름을 사용할 것을 권장한다.\n",
    "또한 아래 제한 사항을 지켜야 한다.\n",
    "\n",
    "* 알파벳, 숫자, 밑줄(_, underscore) 등을 조합해서 사용한다.\n",
    "    * 마침표(.), 연산 기호(+, -, *, /, !, %, 등등), 골뱅이 기호(@), 물결 기호(~)는 사용할 수 없다.\n",
    "    * 공백<font size=\"2\">space</font>을 사용할 수 없다.\n",
    "* 숫자로 시작할 수 없다.\n",
    "* 파이썬에서 특별한 역할을 수행하는 \n",
    "    **키워드**<font size=\"2\">keyword</font>는 사용할 수 없다."
   ]
  },
  {
   "cell_type": "markdown",
   "metadata": {},
   "source": [
    "허용되지 않는 사례 몇 가지를 살펴보자."
   ]
  },
  {
   "cell_type": "markdown",
   "metadata": {},
   "source": [
    "* 숫자로 시작\n",
    "\n",
    "    ```python\n",
    "    >>> 3dogs = '강아지 세 마리'\n",
    "      File \"<stdin>\", line 1\n",
    "        3dogs = '강아지 세 마리'\n",
    "         ^\n",
    "    SyntaxError: invalid syntax\n",
    "    ```"
   ]
  },
  {
   "cell_type": "markdown",
   "metadata": {},
   "source": [
    "* 공백 사용\n",
    "\n",
    "    ```python\n",
    "    >>> big number = 1000000\n",
    "      File \"<stdin>\", line 1\n",
    "        big number = 1000000\n",
    "            ^\n",
    "    SyntaxError: invalid syntax\n",
    "    ```"
   ]
  },
  {
   "cell_type": "markdown",
   "metadata": {},
   "source": [
    "* 키워드 사용: 예를 들어, `False`는 거짓을 나타내는 \n",
    "    부울값<font size=\"2\">Boolean value</font>이기에 \n",
    "    다른 의미로 사용될 수 없다.\n",
    "\n",
    "    ```python\n",
    "    >>> False = 0\n",
    "      File \"<stdin>\", line 1\n",
    "        False = 0\n",
    "        ^\n",
    "    SyntaxError: cannot assign to False\n",
    "    ```"
   ]
  },
  {
   "cell_type": "markdown",
   "metadata": {},
   "source": [
    "**파이썬 키워드**"
   ]
  },
  {
   "cell_type": "markdown",
   "metadata": {},
   "source": [
    "파이썬 프로그래밍 언어의 키워드는 3.8 버전 기준으로 다음과 \n",
    "총 35개이다.\n",
    "각 키워드의 역할은 필요할 때마다 설명될 것이다. \n",
    "\n",
    "```python\n",
    "False      await      else       import     pass\n",
    "None       break      except     in         raise\n",
    "True       class      finally    is         return\n",
    "and        continue   for        lambda     try\n",
    "as         def        from       nonlocal   while\n",
    "assert     del        global     not        with\n",
    "async      elif       if         or         yield\n",
    "```"
   ]
  },
  {
   "cell_type": "markdown",
   "metadata": {},
   "source": [
    "**소문자와 대문자**"
   ]
  },
  {
   "cell_type": "markdown",
   "metadata": {},
   "source": [
    "영어 알파벳의 소문자와 대문자는 엄연히 구분된다.\n",
    "예를 들어, `'hello'`와 `'Hello'`는 서로 다른 단어, 즉 서로 다른 문자열이다.\n",
    "아래 식에서 사용되는 `==` 기호는 양편에 위치한 두 값의 \n",
    "동치<font size=\"2\">equality</font> 여부를 판단한다."
   ]
  },
  {
   "cell_type": "code",
   "execution_count": 7,
   "metadata": {},
   "outputs": [
    {
     "data": {
      "text/plain": [
       "False"
      ]
     },
     "execution_count": 7,
     "metadata": {},
     "output_type": "execute_result"
    }
   ],
   "source": [
    "'hello' == 'Hello'"
   ]
  },
  {
   "cell_type": "markdown",
   "metadata": {},
   "source": [
    "또한 규정은 아니지만 변수 이름은 관습적으로 소문자로 시작한다.\n",
    "파이썬의 경우 대문자로 시작하는 이름은 주로 \n",
    "**클래스**<font size=\"2\">class</font>를 선언할 때 사용한다.\n",
    "클래스는 나중에 자세히 다룬다."
   ]
  },
  {
   "cell_type": "markdown",
   "metadata": {},
   "source": [
    "**한글 사용**"
   ]
  },
  {
   "cell_type": "markdown",
   "metadata": {},
   "source": [
    "한글 단어, 심지어 자음과 모음도 독립적으로 사용할 수 있다."
   ]
  },
  {
   "cell_type": "code",
   "execution_count": 8,
   "metadata": {},
   "outputs": [],
   "source": [
    "헬로 = 'hello'"
   ]
  },
  {
   "cell_type": "markdown",
   "metadata": {},
   "source": [
    "아래 식에서 덧셈 기호(`+`)는 두 문자열과 함께 사용될 때\n",
    "두 문자열을 차례대로 연결하여\n",
    "새로운 문자열을 생성하는 \n",
    "**연결**<font size=\"2\">concatenation</font> 연산자이다."
   ]
  },
  {
   "cell_type": "code",
   "execution_count": 9,
   "metadata": {},
   "outputs": [
    {
     "data": {
      "text/plain": [
       "'hello!'"
      ]
     },
     "execution_count": 9,
     "metadata": {},
     "output_type": "execute_result"
    }
   ],
   "source": [
    "헬로 + '!'"
   ]
  },
  {
   "cell_type": "code",
   "execution_count": 10,
   "metadata": {},
   "outputs": [],
   "source": [
    "ㅎㄹ = '헬로'"
   ]
  },
  {
   "cell_type": "code",
   "execution_count": 11,
   "metadata": {},
   "outputs": [
    {
     "data": {
      "text/plain": [
       "'헬로!'"
      ]
     },
     "execution_count": 11,
     "metadata": {},
     "output_type": "execute_result"
    }
   ],
   "source": [
    "ㅎㄹ + '!'"
   ]
  },
  {
   "cell_type": "markdown",
   "metadata": {},
   "source": [
    ":::{admonition} 주의\n",
    ":class: caution\n",
    "\n",
    "프로그램을 작성할 때 변수, 함수 등의 이름으로 한글을 사용하는 일은 \n",
    "아직 일반적이지 않다.\n",
    "하지만 변수가 가리키는 값으로는 한글 등 다양한 언어가 활용된다.\n",
    ":::"
   ]
  },
  {
   "cell_type": "markdown",
   "metadata": {},
   "source": [
    "## 함수와 표현식"
   ]
  },
  {
   "cell_type": "markdown",
   "metadata": {},
   "source": [
    "`'안녕하세요!'`, `18`, `3.1415926535897932` 등은 변수에 할당하거나 \n",
    "연산 등에 사용할 수 있는 **값**<font size=\"2\">value</font>이다. \n",
    "반면에 `num`이 하나의 값을 가리키면 `num + 2`도 하나의 값을 가리키며,\n",
    "`'hello' + ' python'`는 `'hello python'`이라는 문자열을 가리킨다.\n",
    "이처럼 값들의 연산, 값과 변수들의 연산 등을 이용하여 새로운 값을 \n",
    "가리키는 식을 **표현식**<font size=\"2\">expression</font>이라 한다."
   ]
  },
  {
   "cell_type": "markdown",
   "metadata": {},
   "source": [
    "### 연산자"
   ]
  },
  {
   "cell_type": "markdown",
   "metadata": {},
   "source": [
    "일반적으로 **연산**<font size=\"2\">operation</font>은 사칙연산 등 \n",
    "숫자들을 대상으로 하는 **계산 실행**을 의미한다.\n",
    "하지만 연산은 수 이외에도 문자열의 연결 등 다른 종류의 값을 대상으로 실행될 수도 있다.\n",
    "이렇게 특정 종류의 값을 대상으로 계산 실행을 수행하는 기능을 갖춘 기호를\n",
    "**연산자**<font size=\"2\">operator</font>라 부르며,\n",
    "가장 많이 사용되는 연산자는 다음과 같다.\n",
    "\n",
    "* 사칙 연산자: 덧셈(`+`), 뺄셈(`-`), 곱셈(`*`), 나눗셈(`/`)\n",
    "* 비교 연산자: 작다(`<`), 크다(`>`), 작거나 같다(`<=`), 크거나 같다(`>=`)\n",
    "\n",
    "위 연산자들이 수 연산에 사용되는 경우 수학에서 배운\n",
    "연산 개념과 동일하다.\n",
    "하지만 앞서 살펴보았듯이 수가 아닌 다른 종류의 값들을 대상으로하면 기능이 달라질 수 있다."
   ]
  },
  {
   "cell_type": "code",
   "execution_count": 12,
   "metadata": {},
   "outputs": [],
   "source": [
    "first = '파이썬, '\n",
    "second = '안녕!'"
   ]
  },
  {
   "cell_type": "code",
   "execution_count": 13,
   "metadata": {},
   "outputs": [
    {
     "data": {
      "text/plain": [
       "'파이썬, 안녕!'"
      ]
     },
     "execution_count": 13,
     "metadata": {},
     "output_type": "execute_result"
    }
   ],
   "source": [
    "first + second"
   ]
  },
  {
   "cell_type": "code",
   "execution_count": 14,
   "metadata": {},
   "outputs": [
    {
     "data": {
      "text/plain": [
       "'I love python! I love python! I love python! I love python! '"
      ]
     },
     "execution_count": 14,
     "metadata": {},
     "output_type": "execute_result"
    }
   ],
   "source": [
    "'I love python! ' * 4"
   ]
  },
  {
   "cell_type": "markdown",
   "metadata": {},
   "source": [
    "**연산자 우선순위**"
   ]
  },
  {
   "cell_type": "markdown",
   "metadata": {},
   "source": [
    "표현식이 나타내는 값은 파이썬 해석기가 \n",
    "표현식에 사용된 연산자와 연관된 연산을 실행하는 방식으로 계산되며,\n",
    "계산 과정에서 연산자 별로 지정된 우선순위를 고려한다. \n",
    "사칙연산 등 많이 사용되는 수학 함수들의 우선순위는 일반적으로 알려진 것과 동일하다.\n",
    "\n",
    "* 괄호 안에 있는 표현식을 가장 먼저 계산한다. \n",
    "    \n",
    "    ```python\n",
    "    2*(3-1) = 2*2 = 4\n",
    "    (1+1)**(5-2) = 2**(5-2) = 2**3 = 8\n",
    "    ```\n",
    "    \n",
    "* 거듭제곱의 우선순위가 사칙연산보다 높다.\n",
    "\n",
    "    ```python\n",
    "    3**2*2 = (3**2)*2 = 9*2 = 18\n",
    "    3*2**2 = 3*(2**2) = 3*4 = 12\n",
    "    ```\n",
    "    \n",
    "* 곱셈과 나눗셈을 덧셈과 뺄셈보다 먼저 계산한다. \n",
    "\n",
    "    ```python\n",
    "    2*3-1 = (2*3)-1 = 6-1 = 5\n",
    "    6+4/2 = 6+(4/2) = 6+2 = 8\n",
    "    ```\n",
    "    \n",
    "* 곱셈과 나눗셈은 서로 우선순위가 같다.\n",
    "* 덧셈과 뺄쎔도 서로 우선순위가 같다.\n",
    "* 같은 우선순위를 갖는 연산자가 연속해서 나오면 (거듭제곱을 제외하고) 왼쪽에서 오른쪽으로 계산됩니다. \n",
    "\n",
    "    ```python\n",
    "    60/2*3 = (60/2)*3 = 30*3 = 90\n",
    "    ```\n",
    "    \n",
    "* 거듭제곱이 연속해서 나오면 오른쪽에서 왼쪽으로 계산된다. \n",
    "\n",
    "    ```python\n",
    "    2**3**2 = 2**(3**2) = 2**9 = 512\n",
    "    ```"
   ]
  },
  {
   "cell_type": "markdown",
   "metadata": {},
   "source": [
    "### 함수"
   ]
  },
  {
   "cell_type": "markdown",
   "metadata": {},
   "source": [
    "함수는 기본적으로 아래와 같이 수학에서 다루는 함수를 가리킨다.\n",
    "\n",
    "- $f(x) = ax + b$, \n",
    "- $g(x, y) = a x^2 + b y^2$, \n",
    "- $h(x) = \\sin x$,\n",
    "- $k(x) = \\log x$,\n",
    "- $pow(x, y) = x ^ y$"
   ]
  },
  {
   "cell_type": "markdown",
   "metadata": {},
   "source": [
    ":::{admonition} 다른 종류의 함수\n",
    ":class: tip\n",
    "\n",
    "`print()` 함수의 경우처럼 일반 수학 함수와는 다른 종류의 함수도\n",
    "프로그래밍에서 사용된다.\n",
    "파이썬 함수의 정의와 활용법은 나중에 자세히 다룬다.\n",
    "여기서는 대신 앞서 설명한 연산자들 또한 함수로 간주된다는 점과\n",
    "함수 인자의 종류와 개수가 함수마다 다르다는 점만을 강조한다. \n",
    ":::"
   ]
  },
  {
   "cell_type": "markdown",
   "metadata": {},
   "source": [
    "(sec:representation)=\n",
    "### 표현식"
   ]
  },
  {
   "cell_type": "markdown",
   "metadata": {},
   "source": [
    "앞서 표현식을 연산자와 값을 조합한 식으로 설명하였다.\n",
    "하지만 일반적으로는 연산자 뿐만 아니라 임의의 함수와\n",
    "변수, 정수, 유리수, 문자열 등을 조합하여\n",
    "하나의 값(value)을 표현하도록 작성된 식을 \n",
    "**표현식**<font size=\"2\">expression</font>이라 부른다.\n",
    "\n",
    "예를 들어 `max`가 주어진 두 수의 최댓값을 계산하는 함수이고\n",
    "`num`이 정수 `5`를 가리키면\n",
    "`max(17, num) + 3 / (num + 1)` 는 유리수 `17.5`를 가리키는 표현식이 된다."
   ]
  },
  {
   "cell_type": "markdown",
   "metadata": {},
   "source": [
    "::::{admonition} 주의\n",
    ":class: caution\n",
    "\n",
    "모든 표현식이 하나의 값을 가리키는 것은 아니다. \n",
    "예를 들어, 곱셈 연산자는 두 개의 인자를 받는데, \n",
    "문자열을 대상으로 하는 경우 인자 하나는 문자열을, 다른 인자는\n",
    "정수를 사용해야 한다.\n",
    "그렇지 않으면 실행중에 오류가 발생하며\n",
    "이런 이유로 적절한 표현식으로 허용되지 않는다.\n",
    "\n",
    "```python\n",
    ">>> 'hello' * 'python'\n",
    "Traceback (most recent call last):\n",
    "  File \"<stdin>\", line 1, in <module>\n",
    "TypeError: can't multiply sequence by non-int of type 'str'\n",
    "```\n",
    "\n",
    "동일한 이유로 아래 표현식들도 허용되지 않는다. \n",
    "\n",
    "```python\n",
    "'Korean' - 'pop'\n",
    "'apple' / 'pie'\n",
    "```\n",
    "::::"
   ]
  },
  {
   "cell_type": "markdown",
   "metadata": {},
   "source": [
    "## 자료형"
   ]
  },
  {
   "cell_type": "markdown",
   "metadata": {},
   "source": [
    "모든 값들은 각각 고유의 **자료형**<font size=\"2\">data type</font>에 속한다.\n",
    "예를 들어,\n",
    "\n",
    "* `-2`, `-1`, `0,` `1`, `2`, ... 등은 **정수** 자료형 `int`에 속하고,\n",
    "* `3.141592`, `2.71`, `-0.23` 등의 유리수는 **부동소수점** 자료형 `float`에 속하고,\n",
    "* `'강아지'`, `'Hello, World!'`, `'파이썬은 재밌어요!'` 등의 단어 또는 문장은\n",
    "    **문자열** 자료형 `str`에 속한다. "
   ]
  },
  {
   "cell_type": "markdown",
   "metadata": {},
   "source": [
    "### `type()` 함수"
   ]
  },
  {
   "cell_type": "markdown",
   "metadata": {},
   "source": [
    "`type()` 함수는 인자의 자료형을 확인해준다."
   ]
  },
  {
   "cell_type": "code",
   "execution_count": 15,
   "metadata": {},
   "outputs": [
    {
     "data": {
      "text/plain": [
       "int"
      ]
     },
     "execution_count": 15,
     "metadata": {},
     "output_type": "execute_result"
    }
   ],
   "source": [
    "type(-7)"
   ]
  },
  {
   "cell_type": "code",
   "execution_count": 16,
   "metadata": {},
   "outputs": [
    {
     "data": {
      "text/plain": [
       "float"
      ]
     },
     "execution_count": 16,
     "metadata": {},
     "output_type": "execute_result"
    }
   ],
   "source": [
    "type(3.141592)"
   ]
  },
  {
   "cell_type": "code",
   "execution_count": 17,
   "metadata": {},
   "outputs": [
    {
     "data": {
      "text/plain": [
       "str"
      ]
     },
     "execution_count": 17,
     "metadata": {},
     "output_type": "execute_result"
    }
   ],
   "source": [
    "type('Hello, World!')"
   ]
  },
  {
   "cell_type": "markdown",
   "metadata": {},
   "source": [
    "**숫자 표기 주의사항**"
   ]
  },
  {
   "cell_type": "markdown",
   "metadata": {},
   "source": [
    "수<font size=\"2\">number</font>를 표기할 때 다음 세 가지 사항들에 주의해야 한다.\n",
    "\n",
    "첫째, `'17'`, `'3.2'` 등은 작은 따옴표(인용부호)로 둘러싸여 있어서\n",
    "수가 아닌 숫자 기호들로 이루어진 문자열이며,\n",
    "연산이 다르게 작동한다. "
   ]
  },
  {
   "cell_type": "code",
   "execution_count": 18,
   "metadata": {},
   "outputs": [
    {
     "data": {
      "text/plain": [
       "str"
      ]
     },
     "execution_count": 18,
     "metadata": {},
     "output_type": "execute_result"
    }
   ],
   "source": [
    "type('17')"
   ]
  },
  {
   "cell_type": "code",
   "execution_count": 19,
   "metadata": {},
   "outputs": [
    {
     "data": {
      "text/plain": [
       "'1.73.2'"
      ]
     },
     "execution_count": 19,
     "metadata": {},
     "output_type": "execute_result"
    }
   ],
   "source": [
    "'1.7' + '3.2'"
   ]
  },
  {
   "cell_type": "markdown",
   "metadata": {},
   "source": [
    "둘째, 수를 표기할 때 쉼표(콤마)를 사용하면 다른 의미로 해석된다.\n",
    "예를 들어 `1,000,000` 이라고 입력하면 백만이 아니라 1, 0, 0 세 개의 수를 항목으로 갖는 \n",
    "길이가 3인 튜플 자료형으로 인식된다.\n",
    "**튜플**<font size=\"2\">tuple</font>은 여러 개의 값을 \n",
    "하나로 묶어서 사용하는 값을 가리키며\n",
    "나중에 자세히 다룬다."
   ]
  },
  {
   "cell_type": "code",
   "execution_count": 20,
   "metadata": {},
   "outputs": [],
   "source": [
    "저는튜플입니다 = 1,000,000"
   ]
  },
  {
   "cell_type": "code",
   "execution_count": 21,
   "metadata": {},
   "outputs": [
    {
     "data": {
      "text/plain": [
       "tuple"
      ]
     },
     "execution_count": 21,
     "metadata": {},
     "output_type": "execute_result"
    }
   ],
   "source": [
    "type(저는튜플입니다)"
   ]
  },
  {
   "cell_type": "code",
   "execution_count": 22,
   "metadata": {},
   "outputs": [
    {
     "name": "stdout",
     "output_type": "stream",
     "text": [
      "(1, 0, 0)\n"
     ]
    }
   ],
   "source": [
    "print(저는튜플입니다)"
   ]
  },
  {
   "cell_type": "markdown",
   "metadata": {},
   "source": [
    "셋째, 0으로 시작하면 안된다.\n",
    "예를 들어 서울 지역의 우편번호는 0으로 시작하는데\n",
    "이런 우편번호를 정수처럼 작성하면 문제가 발생한다.\n",
    "\n",
    "```python\n",
    "# 청와대 우편번호\n",
    ">>> zipcode = 03048\n",
    "  File \"<stdin>\", line 1\n",
    "    zipcode = 03048\n",
    "                  ^\n",
    "SyntaxError: leading zeros in decimal integer literals are not permitted; use an 0o prefix for octal integers\n",
    "```    \n",
    "\n",
    "우편번호는 사실 구역 식별용이기에 \n",
    "고유명사처럼 문자열로 처리하는 게 맞다."
   ]
  },
  {
   "cell_type": "code",
   "execution_count": 23,
   "metadata": {},
   "outputs": [],
   "source": [
    "# 청와대 우편번호\n",
    "zipcode = '03048'"
   ]
  },
  {
   "cell_type": "markdown",
   "metadata": {},
   "source": [
    "### 변수의 자료형"
   ]
  },
  {
   "cell_type": "markdown",
   "metadata": {},
   "source": [
    "변수의 자료형은 변수가 현재 가리키는 값의 자료형으로 지정된다.\n",
    "따라서 변수에 할당된 값의 자료형이 달라지면 변수의 자료형도 함께 달라진다."
   ]
  },
  {
   "cell_type": "code",
   "execution_count": 24,
   "metadata": {},
   "outputs": [
    {
     "data": {
      "text/plain": [
       "int"
      ]
     },
     "execution_count": 24,
     "metadata": {},
     "output_type": "execute_result"
    }
   ],
   "source": [
    "num = 18\n",
    "type(num)"
   ]
  },
  {
   "cell_type": "code",
   "execution_count": 25,
   "metadata": {},
   "outputs": [
    {
     "data": {
      "text/plain": [
       "float"
      ]
     },
     "execution_count": 25,
     "metadata": {},
     "output_type": "execute_result"
    }
   ],
   "source": [
    "num = 3.14\n",
    "type(num)"
   ]
  },
  {
   "cell_type": "code",
   "execution_count": 26,
   "metadata": {},
   "outputs": [
    {
     "data": {
      "text/plain": [
       "str"
      ]
     },
     "execution_count": 26,
     "metadata": {},
     "output_type": "execute_result"
    }
   ],
   "source": [
    "num = '3.14'\n",
    "type(num)"
   ]
  },
  {
   "cell_type": "markdown",
   "metadata": {},
   "source": [
    "````{prf:example}\n",
    ":label: exp-type\n",
    "\n",
    "아래 표는 표현식과 해당 표현식이 표현하는 값, 그리고 값의 자료형 사이의 관계를 보여준다.\n",
    "단, `x`는 정수 3을 가리킨다고 가정한다.\n",
    "\n",
    "| 표현식 | 값 | 자료형 |\n",
    "| ---   |--- | ---   |\n",
    "| `x`  | `3`  | `int` |\n",
    "| `x/2`  | `1.5`  | `float` |\n",
    "| `(x/2 - 1) < 0` | `False` | `bool` |\n",
    "| `(1, x/2-1, x+x+1)`  | `(1, 0.5, 7)`  | `tuple` |\n",
    "| `[x, x*3/2, x**3+1]`  | `[3, 4.5, 28]`  | `list` |\n",
    "````"
   ]
  },
  {
   "cell_type": "markdown",
   "metadata": {},
   "source": [
    "## 명령문"
   ]
  },
  {
   "cell_type": "markdown",
   "metadata": {},
   "source": [
    "컴퓨터에 명령을 내리려면\n",
    "**명령문**<font size=\"2\">statement</font>을 작성해야 하며,\n",
    "이를 위해 하나의 프로그래밍 언어를 선택해야 한다. \n",
    "모든 프로그래밍 언어는 고유의 명령문 작성 규칙을 제공하며,\n",
    "언어의 특성에 따라 명령문 작성법과 작성된 명령문의 모양이 많이 다를 수 있다.\n",
    "\n",
    "파이썬 명령문은 **기본 명령문**을 \n",
    "지정된 규칙에 따라 합성해서 생성한다.\n",
    "지금까지 간략하게나마 살펴본 기본 명령문은 다음과 같다.\n",
    "\n",
    "* 변수 할당\n",
    "* 조건문\n",
    "* `while` 반복문\n",
    "\n",
    "또한 명령문을 재귀적으로 합성하여 새로운 명령문을 만들 수 있다.\n",
    "**프로그램**<font size=\"2\">program</font>은 바로 \n",
    "특정 명령을 의도한대로 수행하는 명령문을 가리키는\n",
    "일상 언어 표현이다."
   ]
  },
  {
   "cell_type": "markdown",
   "metadata": {},
   "source": [
    "::::{prf:example}\n",
    ":label: number-guessing\n",
    "\n",
    "위 기본 명령문을 이용하여 숫자맞히기 게임을 아래와 같이 구현할 수 있다.\n",
    "조건문과 `while`을 아직 제대로 살펴보진 않았지만\n",
    "사용된 명령문의 의미를 어렵지 않게 이해할 수 있다. \n",
    "\n",
    "```python\n",
    "print(\"숫자맞히기 게임에 환영합니다.\")\n",
    "\n",
    "secret = 9\n",
    "guess = -1\n",
    "\n",
    "while guess != secret:\n",
    "    guess = int(input(\"0부터 20 사이의 숫자를 입력하세요: \"))\n",
    "    if guess == secret:\n",
    "        print(\"맞았습니다!\")\n",
    "    elif guess > secret:\n",
    "        print(\"너무 커요!\")\n",
    "    else:\n",
    "        print(\"너무 작아요!\")\n",
    "\n",
    "print(\"게임 종료!\")\n",
    "```\n",
    "::::"
   ]
  },
  {
   "cell_type": "markdown",
   "metadata": {},
   "source": [
    "### 함수 호출과 명령문 "
   ]
  },
  {
   "cell_type": "markdown",
   "metadata": {},
   "source": [
    "숫자맞히기 게임 프로그램에 사용된 `print(\"맞았습니다!)`와 기본 명령문이 아니다.\n",
    "알고 있듯이 `print()`는 함수이며 인자로 사용된 값을 화면에 출력하는 기능을 수행한다.\n",
    "이처럼 함수를 지정된 인자와 함께 실행하도록 하는 것을 \n",
    "**함수 호출**<font size=\"2\">function call</font>이라 부르며,\n",
    "함수 호출도 하나의 명령문 역할을 수행한다.\n",
    "나중에 함수에 대해 보다 자세히 설명할 때 그 이유를 자연스럽게 이해할 수 있을 것이다.\n",
    "여기서는 함수가 호출되면 해당 함수 내부에서 지정된 명령문이 실행된다는 정도로 이해하면 충분하다."
   ]
  },
  {
   "cell_type": "markdown",
   "metadata": {},
   "source": [
    ":::{admonition} 명령문의 엄밀한 정의\n",
    ":class: tip\n",
    "\n",
    "[파이썬 명령문의 엄밀한 정의](https://docs.python.org/3/reference/compound_stmts.html)는 \n",
    "꽤 복잡하다.\n",
    "웬만해서는 알 필요 없으며,\n",
    "원하는 기능을 옳바르게 수행하는 프로그램을 구현하는 훈련과\n",
    "작업을 통해 자연스럽게 명령문에 친숙해지는 것이 일반적이다.\n",
    "하지만 해석기, 컴파일러 등을 직접 구현해야 하는 \n",
    "일을 하려면 반드시 알아야 한다. \n",
    ":::"
   ]
  },
  {
   "cell_type": "markdown",
   "metadata": {},
   "source": [
    "반면에 `int(input(\"0부터 20 사이의 숫자를 입력하세요: \"))`는 \n",
    "두 개의 함수 `input()`과 `int()`를 연속적으로 호출하여 생성된 값을 가리킨다.\n",
    "물론 앞서 언급한 대로 함수를 호출하면 특정 명령문이 실행되기에\n",
    "두 함수가 호출되면 특정 값을 생성하는 동시에 특정 명령을 수행한다.\n",
    "\n",
    "- `input()` 함수는 지정된 문자열을 화면에 출력하여 \n",
    "    사용자에게 어떤 종류의 값을 입력해야 하는지 정보를 전달하는 \n",
    "    기능을 수행하며 사용자로부터 값이 입력될 때까지 기다린다.\n",
    "    그후 값이 입력되면 해당 값을 문자열로 변환하여 \n",
    "    곧바로 `int` 함수의 인자로 전달한다. \n",
    "    예를 들어, 사용자가 키보드를 이용하여 20을 입력하고 엔터키를 누르면\n",
    "    문자열 `'20'`을 생성하여 전달한다.\n",
    "    \n",
    "- `int()` 함수는 전달받은 문자열을 정수로 변환한다.\n",
    "    예를 들어, 문자열 `'20'`을 정수 `20`으로 변환한다.\n",
    "    이때, 입력된 값이 정수 모양의 문자열이 아니라면 오류를 발생시킨다.\n",
    "    \n",
    "    ```python\n",
    "    >>> int('20.0')\n",
    "    Traceback (most recent call last):\n",
    "      File \"<stdin>\", line 1, in <module>\n",
    "    ValueError: invalid literal for int() with base 10: '20.0'\n",
    "    ```\n",
    "    \n",
    "    `int()` 함수는 또한 부동소수점(유리수)을 정수로 변환한다. \n",
    "    단 소수점 이하는 버린다."
   ]
  },
  {
   "cell_type": "code",
   "execution_count": 1,
   "metadata": {},
   "outputs": [
    {
     "data": {
      "text/plain": [
       "3"
      ]
     },
     "execution_count": 1,
     "metadata": {},
     "output_type": "execute_result"
    }
   ],
   "source": [
    "int(3.14)"
   ]
  },
  {
   "cell_type": "code",
   "execution_count": 2,
   "metadata": {},
   "outputs": [
    {
     "data": {
      "text/plain": [
       "-2"
      ]
     },
     "execution_count": 2,
     "metadata": {},
     "output_type": "execute_result"
    }
   ],
   "source": [
    "int(-2.75)"
   ]
  },
  {
   "cell_type": "markdown",
   "metadata": {},
   "source": [
    ":::{admonition} `int` 자료형과 `int()` 함수\n",
    ":class: caution\n",
    "\n",
    "`int`는 정수 자료형을 가리키면서 동시에 정수 모양의 문자열을 정수로 변환하는 함수의\n",
    "이름으로 사용된다.\n",
    "이처럼 다른 기능에 동일한 이름을 사용하는 경우가 종종 있다.\n",
    "따라서 오해를 방지하기 위해 여기서는 함수를 `int()`, `print()` 처럼\n",
    "함수 이름에 열고 닫는 괄호를 함께 사용하여 언급하는 관습을 따른다.\n",
    "그리고 이런 관습은 앞서 설명한 함수 호출과는 무관함에 주의해야 한다.\n",
    ":::"
   ]
  },
  {
   "cell_type": "markdown",
   "metadata": {},
   "source": [
    "## 주석"
   ]
  },
  {
   "cell_type": "markdown",
   "metadata": {},
   "source": [
    "프로그램에 사용된 명령문에 설명을 추가하면 \n",
    "작성된 프로그램의 작동 원리를 보다 쉽게 이해할 수 있다.\n",
    "이와 같이 프로그램의 실행과는 무관하지만 명령문, 함수 등의 \n",
    "기능, 아이디어 등을 설명하는 문장이\n",
    "**주석**<font size=\"2\">comment</font>이다.\n",
    "주석은 일반 자연어를 사용하며,\n",
    "프로그램이 실행될 때 파이썬 해석기에 의해 무시된다.\n",
    "\n",
    "주석은 한 줄 또는 여러 줄로 작성될 수 있다.\n",
    "한 줄 주석은 우물 정(영어로 샵<font size=\"2\">sharp</font>) 기호(`#`)로 시작한다."
   ]
  },
  {
   "cell_type": "code",
   "execution_count": 27,
   "metadata": {},
   "outputs": [],
   "source": [
    "# speed는 시속을 가리키는 변수이다.\n",
    "\n",
    "speed = 90 # 속도 단위는 km이다."
   ]
  },
  {
   "cell_type": "markdown",
   "metadata": {},
   "source": [
    "여러 줄 주석은 작은 따옴표 세 개(`'''`)로 감싼다."
   ]
  },
  {
   "cell_type": "code",
   "execution_count": 28,
   "metadata": {},
   "outputs": [
    {
     "name": "stdout",
     "output_type": "stream",
     "text": [
      "0\n",
      "1\n"
     ]
    }
   ],
   "source": [
    "print(0)\n",
    "'''\n",
    "여러 줄 주석은\n",
    "이렇게 사용합니다.\n",
    "'''\n",
    "print(1)"
   ]
  },
  {
   "cell_type": "markdown",
   "metadata": {},
   "source": [
    "## 프로그램 오류와 디버깅"
   ]
  },
  {
   "cell_type": "markdown",
   "metadata": {},
   "source": [
    "변수 이름으로 `class` 등의 지정어를 사용하거나, `odd~job` 또는 `US$`처럼 \n",
    "허용되지 않은 기호를 포함하는 경우에 파이썬 해석기는 \n",
    "**오류**<font size=\"2\">error</font>를 발생시키며 곧바로 프로그램의 실행을 멈춘다.\n",
    "예를 들어, 아래와 같이 변수 이름에 공백을 사용하여 실행한 결과를 확인해 보자.\n",
    "\n",
    "```python\n",
    ">>> bad name = 5\n",
    "  File \"<stdin>\", line 1\n",
    "    bad name = 5\n",
    "        ^\n",
    "SyntaxError: invalid syntax\n",
    "```    \n",
    "\n",
    "오류가 발생하면 오류의 원인을 찾아 해결해야 한다.\n",
    "이렇게 프로그램의 오류를 찾아 해결하는 과정을 **디버깅**(debugging)이라 부른다.\n",
    "\n",
    "프로그램의 오류는 크게 세 가지 유형으로 나뉜다."
   ]
  },
  {
   "cell_type": "markdown",
   "metadata": {},
   "source": [
    "### 구문 오류"
   ]
  },
  {
   "cell_type": "markdown",
   "metadata": {},
   "source": [
    "변수의 이름을 잘못 지정하면 `SyntaxError: invalid syntax`와 \n",
    "같은 **구문 오류**<font size=\"2\">syntax error</font>가 발생한다.\n",
    "구문 오류는 해석기가 프로그램을 실행하기 전에 일종의 문법 검사를 통해 찾아낸다."
   ]
  },
  {
   "cell_type": "markdown",
   "metadata": {},
   "source": [
    "### 런타임 오류\n",
    "\n",
    "**런타임 오류**<font size=\"2\">runtime error</font>는 \n",
    "프로그램이 실행되는 중간에 발생하는 오류이다.\n",
    "프로그램 실행 중간에 예외 상황을 발생시키는 오류라는 의미에서 런타임 오류를 \n",
    "**예외**<font size=\"2\">exception</font>라고 부르기도 한다.\n",
    "런타임 오류는 다양한 경우에 발생한다.\n",
    "여기서는 두 가지 경우를 살펴본다."
   ]
  },
  {
   "cell_type": "markdown",
   "metadata": {},
   "source": [
    "::::{prf:example} ZeroDivisionError\n",
    ":label: zerodivision\n",
    "\n",
    "런타임 에러의 대표적인 예는 **0으로 나누기 오류**이다.\n",
    "\n",
    "```python\n",
    ">>> num = 0\n",
    ">>> print(3/num)\n",
    "Traceback (most recent call last):\n",
    "  File \"<stdin>\", line 1, in <module>\n",
    "ZeroDivisionError: division by zero\n",
    "```\n",
    "\n",
    "`ZeroDivisionError` 라고 표시되는데,\n",
    "이는 0으로 나눗셈을 시도하는 경우 발생한다. \n",
    "`3/num`은 문법적으로 전혀 문제가 없지만 실제 계산 중에 `num`에 할당된 값이 0이라는 것으로 확인되어\n",
    "오류가 발생한다.\n",
    "::::"
   ]
  },
  {
   "cell_type": "markdown",
   "metadata": {},
   "source": [
    "::::{prf:example} NameError\n",
    ":label: nameerror\n",
    "\n",
    "아래 코드를 실행하면 'a_number' 라는 이름이 선언되어 있지 않기 때문에 문제가 발생한다.\n",
    "\n",
    "```python\n",
    ">>> a_Number = 327.68\n",
    ">>> b = a_number * 3\n",
    "Traceback (most recent call last):\n",
    "  File \"<stdin>\", line 1, in <module>\n",
    "NameError: name 'a_number' is not defined\n",
    "```\n",
    "\n",
    "자세히 살펴보면 'a_number'와 'a_Number' 둘 중에 하나는 오타임을 알 수 있다.\n",
    "::::"
   ]
  },
  {
   "cell_type": "markdown",
   "metadata": {},
   "source": [
    "### 의미 오류"
   ]
  },
  {
   "cell_type": "markdown",
   "metadata": {},
   "source": [
    "프로그램 실행은 잘 되지만 원하는 결과를 가져오지 못한다면 프로그램\n",
    "어딘가에 논리적 오류가 존재한다는 의미이다.\n",
    "이와같은 오류를 \n",
    "**의미 오류**<font size=\"2\">semantic error</font>라 부르며,\n",
    "발생원인은 다양하며,\n",
    "프로그램이 정상적으로 작동하기 때문에 구문 오류나 런타임 오류와는 다르게\n",
    "오류의 원인을 바로 확인하기 어려울 수 있다.\n",
    "\n",
    "수학 문제를 풀다가 계산실수를 하거나, 기호를 다르게 적거나, \n",
    "문제를 잘못 이해했거나 해서\n",
    "풀 수 있었던 문제를 틀렸던 경험이 있을 것이다.\n",
    "프로그래밍 과정에서도 유사한 실수를 수없이 하게 된다.\n",
    "예를 들어, 아래 프로그램은 두 배 계산 대신에 제곱 계산을 하는 실수를 보여준다."
   ]
  },
  {
   "cell_type": "code",
   "execution_count": 29,
   "metadata": {},
   "outputs": [
    {
     "name": "stdout",
     "output_type": "stream",
     "text": [
      "입력한 값 3 의 두 배는 9 입니다.\n"
     ]
    }
   ],
   "source": [
    "num = 3\n",
    "doubleNum = num ** 2\n",
    "\n",
    "print(\"입력한 값\", num, \"의 두 배는\", doubleNum, \"입니다.\")"
   ]
  },
  {
   "cell_type": "markdown",
   "metadata": {},
   "source": [
    "두 배하려면 `num * 2`를 사용했어야 하는데 실수로 `num ** 2`를 사용하여서\n",
    "결과적으로 입력한 값의 제곱을 계산하게 된다.\n",
    "수천, 수만 줄로 이루어진 프로그램에서 이런 형식의 오류의 원인을 찾는 일은\n",
    "경우에 따라 잔디밭에서 바늘찾기처럼 매우 어렵거나 심지어 불가능할 수 있다."
   ]
  },
  {
   "cell_type": "markdown",
   "metadata": {},
   "source": [
    "## 연습문제"
   ]
  },
  {
   "cell_type": "markdown",
   "metadata": {},
   "source": [
    "1. 다음 명령문은 모두 실행되기 이전에 구문 오류를 발생시킨다. \n",
    "    오류의 원인을 설명하라.\n",
    "\n",
    "    ```python\n",
    "    23 = n\n",
    "    x = y = 1\n",
    "    x = 2;\n",
    "    y = x + 1.\n",
    "    z = x y\n",
    "    ```\n",
    "\n",
    "1. 아래와 같이 변수들이 선언 및 할당되었다고 가정하자.\n",
    "\n",
    "    ```python\n",
    "    width = 17\n",
    "    height = 12.0\n",
    "    delimiter = '.'\n",
    "    ```\n",
    "\n",
    "    아래 각 표현식이 나타내는 값과 자료형을 확인하라.\n",
    "\n",
    "    ```python\n",
    "    width//2\n",
    "    width/2\n",
    "    width/2.0\n",
    "    height/3\n",
    "    1+2*5\n",
    "    delimiter*5\n",
    "    ```\n",
    "\n",
    "1. 파이썬을 계산기처럼 사용할 수 있다.\n",
    "    1. 반지름이 r인 구의 부피는 $\\frac{4}{3} \\pi r^3$ 이다. \n",
    "        반지름이 17인 구의 부피는 얼마인가? \n",
    "        \n",
    "    1. 어떤 책의 정가는 권당 19,000원이지만, \n",
    "        각 권당 10% 의 할인을 받는다고 가정하자.\n",
    "        첫 한 권의 운송료는 2,000원 이고, \n",
    "        두 권째 부터는 권당 500원을 추가로 내야 한다.\n",
    "        60권을 사서 배송을 받고자 하면 얼마를 지불해야 하는가?\n",
    "        \n",
    "    1. 오전 6:00 에 집을 떠나서, 가볍게 (km당 5분 10초 소요) 1km를 뛰고, \n",
    "        이어서 좀 빠르게 (km당 3분 7초 소요) 5km를 뛴 후, \n",
    "        다시 가볍게 1km를 마저 달린다면, \n",
    "        집에 언제 도착하는가?\n",
    "        \n",
    "    1. 만약 10km를 43분 30초 만에 달렸다면, \n",
    "        마일<font size=\"2\">mile</font>당 소요 시간은 얼마인가? \n",
    "        또한 시간당 마일로 계산한 평균 속도는 얼마인가? \n",
    "        단, 1마일은 1.61km로 계산한다."
   ]
  }
 ],
 "metadata": {
  "kernelspec": {
   "display_name": "Python 3 (ipykernel)",
   "language": "python",
   "name": "python3"
  },
  "language_info": {
   "codemirror_mode": {
    "name": "ipython",
    "version": 3
   },
   "file_extension": ".py",
   "mimetype": "text/x-python",
   "name": "python",
   "nbconvert_exporter": "python",
   "pygments_lexer": "ipython3",
   "version": "3.8.10"
  },
  "toc": {
   "base_numbering": 1,
   "nav_menu": {},
   "number_sections": false,
   "sideBar": true,
   "skip_h1_title": false,
   "title_cell": "목차",
   "title_sidebar": "Contents",
   "toc_cell": true,
   "toc_position": {},
   "toc_section_display": true,
   "toc_window_display": true
  },
  "toc-autonumbering": true
 },
 "nbformat": 4,
 "nbformat_minor": 4
}
