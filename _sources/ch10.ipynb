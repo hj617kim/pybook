{
 "cells": [
  {
   "cell_type": "markdown",
   "metadata": {
    "id": "cMQ8dcEHu9EH"
   },
   "source": [
    "# 함수"
   ]
  },
  {
   "cell_type": "markdown",
   "metadata": {
    "id": "3MIZ4fs73cYO"
   },
   "source": [
    "함수<font size=\"2\">Function</font>는 특정 값들을 입력받아 그 값들을 조작한 다음에 그 결과값을 되돌려 주는 것으로, 그동안 여러 함수들(`type`, `int`, `float`, `input` 등등)을 살펴봤다. 이러한 함수들은 파이썬에서 이미 누군가에 의해 정의된 함수로, 파이썬 **내장함수**라고 부른다."
   ]
  },
  {
   "cell_type": "markdown",
   "metadata": {
    "id": "LqNOmJM3vFkZ"
   },
   "source": [
    "## 함수 정의하기\n",
    "\n",
    "한편, 사용자가 필요에 따라 함수를 임의로 정의할 수도 있다. 파이썬에서는 함수를 정의하기 위해 `def`라는 키워드를 이용하며, 아래의 형식을 따른다.\n",
    "\n",
    "```\n",
    "def 함수이름(매개변수1, 매개변수2,..., 매개변수n) :\n",
    "    함수본문\n",
    "    return 리턴값\n",
    "```\n",
    "**매개변수**는 함수에 입력으로 전달되는 값을 받는 변수이다.\n",
    "함수본문에서 **`return`** 이라는 키워드에 도달하면 함수의 실행은 그 지점에서 중단되고, 리턴(return)값이 있는 경우에는 함수를 실행한 곳에 그 값을 반환한다. 이때, 리턴값은 `return` 바로 뒤에 오는 값이며, 함수가 특정 인자와 함께 실행되면 함수본문의 코드에 맞게 값을 조작한 후 최종적으로 돌려주는 값을 가리킨다.\n",
    "\n",
    "\n",
    "주의사항 :\n",
    "* 콜론(`:`)을 반드시 사용해야 함.\n",
    "* 함수본문은 들여쓰기를 해야 함.\n",
    "* 들여쓰기는 선택이 아닌 의무사항. \n",
    "\n",
    "\n",
    "\n",
    "\n"
   ]
  },
  {
   "cell_type": "markdown",
   "metadata": {
    "id": "ZMk7gDex1EGH"
   },
   "source": [
    "예를 들어, 인자 두 개를 입력받아 합을 리턴하는 함수인 `mySum` 함수는 다음과 같이 정의한다. 함수의 이름은 임의로 정할 수 있지만 함수의 기능에 맞게 정하는 것이 좋다. "
   ]
  },
  {
   "cell_type": "code",
   "execution_count": null,
   "metadata": {
    "id": "PRjAh_Xm1EO5"
   },
   "outputs": [],
   "source": [
    "def mySum(a, b) :\n",
    "    return a + b"
   ]
  },
  {
   "cell_type": "markdown",
   "metadata": {
    "id": "4kCFo4dS15GE"
   },
   "source": [
    "##  함수 호출하기\n",
    "\n",
    "함수를 정의한 후에 사용하려면 **함수를 호출**해야 한다.  \n",
    "**함수를 호출한다**는 말은 필요한 만큼의 값을 인자로 사용하여 함수를 실행한다는 의미이다. 즉, 함수 호출은 아래 모양의 코드를 실행하는 것이다.  \n",
    "\n",
    "함수를 호출할 때 전달하는 입력값들은 **인자**라고 부른다.  \n",
    "```\n",
    "함수이름(인자1, 인자2,..., 인자n)\n",
    "```"
   ]
  },
  {
   "cell_type": "markdown",
   "metadata": {
    "id": "FF_rVmIu483d"
   },
   "source": [
    "예를 들어, 2와 3을 더하려면 `mySum` 함수를 아래와 같은 모양으로 실행하면 된다.  \n",
    "`mySum(2, 3)`  \n",
    "\n",
    "물론 변수를 인자로 사용할 수도 있으며, 리턴값을 다른 변수에 저장할 수도 있다. "
   ]
  },
  {
   "cell_type": "code",
   "execution_count": null,
   "metadata": {
    "id": "FRppwhy35UAJ"
   },
   "outputs": [],
   "source": [
    "x = 2\n",
    "y = 3\n",
    "z = mySum(x, y)"
   ]
  },
  {
   "cell_type": "code",
   "execution_count": null,
   "metadata": {
    "colab": {
     "base_uri": "https://localhost:8080/"
    },
    "executionInfo": {
     "elapsed": 524,
     "status": "ok",
     "timestamp": 1616827912291,
     "user": {
      "displayName": "HJ Kim",
      "photoUrl": "",
      "userId": "16634276932240017990"
     },
     "user_tz": -540
    },
    "id": "k5yiQiyf5YBB",
    "outputId": "c4e27a8e-6175-4bb8-b984-e917420e33b4"
   },
   "outputs": [
    {
     "name": "stdout",
     "output_type": "stream",
     "text": [
      "5\n"
     ]
    }
   ],
   "source": [
    "print(z)"
   ]
  },
  {
   "cell_type": "markdown",
   "metadata": {},
   "source": [
    ":::{admonition} 주의   \n",
    ":class: caution  \n",
    "매개변수의 개수와 인자의 개수가 맞지 않으면 에러가 발생한다.\n",
    "\n",
    "```python\n",
    ">>> mySum(3)\n",
    "---------------------------------------------------------------------------\n",
    "TypeError                                 Traceback (most recent call last)\n",
    "<ipython-input-26-c1839d4999a5> in <module>()\n",
    "----> 1 mySum(3)\n",
    "\n",
    "TypeError: mySum() missing 1 required positional argument: 'b'\n",
    "```\n",
    "\n",
    "```python\n",
    ">>> mySum(3, 7, 4)\n",
    "---------------------------------------------------------------------------\n",
    "TypeError                                 Traceback (most recent call last)\n",
    "<ipython-input-27-a3eeeb0c62f1> in <module>()\n",
    "----> 1 mySum(3, 7, 4)\n",
    "\n",
    "TypeError: mySum() takes 2 positional arguments but 3 were given\n",
    "```\n",
    ":::\n"
   ]
  },
  {
   "cell_type": "markdown",
   "metadata": {
    "id": "w32d5v8rleBS"
   },
   "source": [
    "## 입력값이 없는 함수\n",
    "\n",
    "입력값이 없다면, 아래와 같이 함수 이름 뒤의 괄호를 비워두면 된다. \n",
    "\n",
    "```\n",
    "def 함수이름() :\n",
    "    함수본문\n",
    "```\n"
   ]
  },
  {
   "cell_type": "markdown",
   "metadata": {
    "id": "kTx7vbmt1HGY"
   },
   "source": [
    "예를 들어, 입력값은 없고 `Hello Python`을 리턴하는 함수인 `say`함수는 다음과 같이 정의한다."
   ]
  },
  {
   "cell_type": "code",
   "execution_count": null,
   "metadata": {
    "id": "2nuwlOL8mSQu"
   },
   "outputs": [],
   "source": [
    "def say() :\n",
    "    return \"Hello Python\""
   ]
  },
  {
   "cell_type": "markdown",
   "metadata": {
    "id": "o_tRnnPX1gW3"
   },
   "source": [
    "`say` 함수를 호출은 아래와 같이 하면 된다. "
   ]
  },
  {
   "cell_type": "code",
   "execution_count": null,
   "metadata": {
    "colab": {
     "base_uri": "https://localhost:8080/",
     "height": 35
    },
    "executionInfo": {
     "elapsed": 601,
     "status": "ok",
     "timestamp": 1616649913003,
     "user": {
      "displayName": "HJ Kim",
      "photoUrl": "",
      "userId": "16634276932240017990"
     },
     "user_tz": -540
    },
    "id": "zpjGz5H519Py",
    "outputId": "c5eb8b6e-95bf-43c2-bfa6-ac7b98ad422c"
   },
   "outputs": [
    {
     "data": {
      "application/vnd.google.colaboratory.intrinsic+json": {
       "type": "string"
      },
      "text/plain": [
       "'Hello Python'"
      ]
     },
     "execution_count": 4,
     "metadata": {
      "tags": []
     },
     "output_type": "execute_result"
    }
   ],
   "source": [
    "say()"
   ]
  },
  {
   "cell_type": "markdown",
   "metadata": {
    "id": "ZZAArJq27hbQ"
   },
   "source": [
    "함수의 리턴값은 다른 변수에 저장하여 사용할 수도 있다.  \n",
    "예를 들어, 아래와 같이 코드를 작성하면, `a`에 문자열`Hello Python`이 대입된다.    \n",
    "```a = say()``` "
   ]
  },
  {
   "cell_type": "code",
   "execution_count": null,
   "metadata": {
    "colab": {
     "base_uri": "https://localhost:8080/"
    },
    "executionInfo": {
     "elapsed": 704,
     "status": "ok",
     "timestamp": 1616651529135,
     "user": {
      "displayName": "HJ Kim",
      "photoUrl": "",
      "userId": "16634276932240017990"
     },
     "user_tz": -540
    },
    "id": "PmPK9kkR7agt",
    "outputId": "fb0a5a72-cc1f-4fd1-de7f-65b36d0f5f80"
   },
   "outputs": [
    {
     "name": "stdout",
     "output_type": "stream",
     "text": [
      "Hello Python\n",
      "<class 'str'>\n"
     ]
    }
   ],
   "source": [
    "a = say()\n",
    "\n",
    "print(a)\n",
    "print(type(a))"
   ]
  },
  {
   "cell_type": "markdown",
   "metadata": {},
   "source": [
    ":::{admonition} 주의   \n",
    ":class: caution  \n",
    "입력값이 없는 `say()`함수를 호출할 때는 괄호 안에 아무 값도 넣어서는 안된다.\n",
    "\n",
    "```python\n",
    ">>> say(\"a\")\n",
    "---------------------------------------------------------------------------\n",
    "TypeError                                 Traceback (most recent call last)\n",
    "<ipython-input-7-d9cf60effed3> in <module>()\n",
    "----> 1 say(\"a\")\n",
    "\n",
    "TypeError: say() takes 0 positional arguments but 1 was given\n",
    "```\n",
    ":::\n"
   ]
  },
  {
   "cell_type": "markdown",
   "metadata": {
    "id": "DYS7G34plg1l"
   },
   "source": [
    "## 리턴값이 없는 함수\n",
    "\n",
    "리턴값이 명시되지 않은 대표적인 함수는 `print` 함수이다. 리턴값이 명시되지 않은 함수의 리턴값은 항상 `None`이다. `None`은 사실상 아무런 의미를 갖지 않는 값이며 어떠한 재활용도 불가능하다. "
   ]
  },
  {
   "cell_type": "markdown",
   "metadata": {
    "id": "KXp6PNHp3aGE"
   },
   "source": [
    "`print` 함수가 리턴하는 값을 확인해보자.  "
   ]
  },
  {
   "cell_type": "code",
   "execution_count": null,
   "metadata": {
    "colab": {
     "base_uri": "https://localhost:8080/"
    },
    "executionInfo": {
     "elapsed": 647,
     "status": "ok",
     "timestamp": 1616650254058,
     "user": {
      "displayName": "HJ Kim",
      "photoUrl": "",
      "userId": "16634276932240017990"
     },
     "user_tz": -540
    },
    "id": "q3tAxpX92oGC",
    "outputId": "b1bf3518-57d7-4304-8eef-c17b7d9c3913"
   },
   "outputs": [
    {
     "name": "stdout",
     "output_type": "stream",
     "text": [
      "a\n",
      "None\n"
     ]
    }
   ],
   "source": [
    "x = print(\"a\")\n",
    "print(x)"
   ]
  },
  {
   "cell_type": "markdown",
   "metadata": {
    "id": "89CDV4ME3eoe"
   },
   "source": [
    ":::{admonition} 주의  \n",
    ":class: caution  \n",
    "위 코드를 실행한 결과의 첫째 줄에서 보이는 a는 `print` 함수의 리턴값이 아니라 `print(\"a\")`를 실행한 결과이다.   \n",
    ":::"
   ]
  },
  {
   "cell_type": "markdown",
   "metadata": {
    "id": "RwQ1b3yv8doQ"
   },
   "source": [
    "예를 들어, `mySum`함수를 아래와 같이 리턴값이 명시되지 않은 함수로 정의할 수도 있다. "
   ]
  },
  {
   "cell_type": "code",
   "execution_count": null,
   "metadata": {
    "id": "JdlrDDIo932T"
   },
   "outputs": [],
   "source": [
    "def mySum_noReturn(a, b) :\n",
    "    c = a + b\n",
    "    print(c)"
   ]
  },
  {
   "cell_type": "markdown",
   "metadata": {
    "id": "IPOJxLxm-C2g"
   },
   "source": [
    "위 함수를 이용하여 5와 7를 더한 값을 확인하고자 하면 다음과 같다."
   ]
  },
  {
   "cell_type": "code",
   "execution_count": null,
   "metadata": {
    "colab": {
     "base_uri": "https://localhost:8080/"
    },
    "executionInfo": {
     "elapsed": 1035,
     "status": "ok",
     "timestamp": 1616652071718,
     "user": {
      "displayName": "HJ Kim",
      "photoUrl": "",
      "userId": "16634276932240017990"
     },
     "user_tz": -540
    },
    "id": "rWp-QbSi-M95",
    "outputId": "eba28e8f-738f-4dea-fae4-7be84d46eff7"
   },
   "outputs": [
    {
     "name": "stdout",
     "output_type": "stream",
     "text": [
      "12\n"
     ]
    }
   ],
   "source": [
    "mySum_noReturn(5, 7)"
   ]
  },
  {
   "cell_type": "markdown",
   "metadata": {
    "id": "LX9siDiZ-QHm"
   },
   "source": [
    "위 코드를 보면 마치 12를 리턴하는 것처럼 보이지만 사실은 `print`함수가 화면에 출력한 결과를 보여주는 것에 불과하다. 실제로 아래와 같이 리턴값을 활용하려면 제대로 동작하지 않는다. "
   ]
  },
  {
   "cell_type": "code",
   "execution_count": null,
   "metadata": {
    "colab": {
     "base_uri": "https://localhost:8080/"
    },
    "executionInfo": {
     "elapsed": 598,
     "status": "ok",
     "timestamp": 1616652194815,
     "user": {
      "displayName": "HJ Kim",
      "photoUrl": "",
      "userId": "16634276932240017990"
     },
     "user_tz": -540
    },
    "id": "c7eZX1O6-a43",
    "outputId": "7a6c1739-68da-4b2d-fb3a-1ccbdb31adbf"
   },
   "outputs": [
    {
     "name": "stdout",
     "output_type": "stream",
     "text": [
      "12\n",
      "None\n"
     ]
    }
   ],
   "source": [
    "ans_noReturn = mySum_noReturn(5, 7)\n",
    "print(ans_noReturn)"
   ]
  },
  {
   "cell_type": "markdown",
   "metadata": {
    "id": "tZw_gx4dN8dS"
   },
   "source": [
    "파이썬에서 다루는 값은 모두 자료형을 갖고 있으며, `None`의 자료형은 `NoneType`이라 부른다."
   ]
  },
  {
   "cell_type": "code",
   "execution_count": null,
   "metadata": {
    "colab": {
     "base_uri": "https://localhost:8080/"
    },
    "executionInfo": {
     "elapsed": 820,
     "status": "ok",
     "timestamp": 1616656219320,
     "user": {
      "displayName": "HJ Kim",
      "photoUrl": "",
      "userId": "16634276932240017990"
     },
     "user_tz": -540
    },
    "id": "NJ_AHXDTOCLn",
    "outputId": "55b20c57-820e-4859-c7c0-6cb718df9f42"
   },
   "outputs": [
    {
     "data": {
      "text/plain": [
       "NoneType"
      ]
     },
     "execution_count": 31,
     "metadata": {
      "tags": []
     },
     "output_type": "execute_result"
    }
   ],
   "source": [
    "type(ans_noReturn)"
   ]
  },
  {
   "cell_type": "markdown",
   "metadata": {
    "id": "QmhPRHGLAUIk"
   },
   "source": [
    "물론, 입력값도 리턴값도 없는 함수도 만들 수 있다."
   ]
  },
  {
   "cell_type": "code",
   "execution_count": null,
   "metadata": {
    "id": "bXGEBQGQAYtR"
   },
   "outputs": [],
   "source": [
    "def say_noReturn() :\n",
    "    print(\"Hello Python\")"
   ]
  },
  {
   "cell_type": "code",
   "execution_count": null,
   "metadata": {
    "colab": {
     "base_uri": "https://localhost:8080/"
    },
    "executionInfo": {
     "elapsed": 590,
     "status": "ok",
     "timestamp": 1616652665228,
     "user": {
      "displayName": "HJ Kim",
      "photoUrl": "",
      "userId": "16634276932240017990"
     },
     "user_tz": -540
    },
    "id": "EALyKPVsAejL",
    "outputId": "e2c6a402-505b-4d5a-d1d7-bed438ecc870"
   },
   "outputs": [
    {
     "name": "stdout",
     "output_type": "stream",
     "text": [
      "Hello Python\n"
     ]
    }
   ],
   "source": [
    "say_noReturn()"
   ]
  },
  {
   "cell_type": "markdown",
   "metadata": {
    "id": "1gT8Lt5f-7AV"
   },
   "source": [
    "## 지역변수와 전역변수\n",
    "\n",
    "변수들은 어디에서 정의되었는가에 따라 지역변수(local variable) 또는 전역변수(global variable)라 불린다. \n",
    "\n",
    "함수 내부에서 선언되는 변수는 함수가 실행되는 동안에만 의미를 갖는 변수들이며, 이런 변수들을 **지역변수**라 부른다.   \n",
    "반면에 함수 외부에서 정의된 변수는 **전역변수**이다.  \n",
    "\n",
    "예를 들어, 아래의 코드에서 `global_var`는 전역변수이고, `local_var`는 지역변수이다."
   ]
  },
  {
   "cell_type": "code",
   "execution_count": null,
   "metadata": {
    "id": "V_z3kHxkFrrq"
   },
   "outputs": [],
   "source": [
    "global_var = 3\n",
    "\n",
    "def myAdd(a, b) :\n",
    "    local_var = a + b\n",
    "    return local_var"
   ]
  },
  {
   "cell_type": "code",
   "execution_count": null,
   "metadata": {
    "colab": {
     "base_uri": "https://localhost:8080/"
    },
    "executionInfo": {
     "elapsed": 431,
     "status": "ok",
     "timestamp": 1616800532787,
     "user": {
      "displayName": "HJ Kim",
      "photoUrl": "",
      "userId": "16634276932240017990"
     },
     "user_tz": -540
    },
    "id": "6QolxN8F0a8i",
    "outputId": "f4699b59-d770-4551-943c-4e95d205b012"
   },
   "outputs": [
    {
     "data": {
      "text/plain": [
       "3"
      ]
     },
     "execution_count": 2,
     "metadata": {
      "tags": []
     },
     "output_type": "execute_result"
    }
   ],
   "source": [
    "myAdd(1, 2)"
   ]
  },
  {
   "cell_type": "markdown",
   "metadata": {
    "id": "kG8e133zGFhM"
   },
   "source": [
    "지역변수들은 함수 밖에서는 어떤 의미도 갖지 않는다. 예를 들어, 아래의 코드를 실행하면 오류가 발생한다.  \n",
    "\n",
    "```python\n",
    ">>> print(local_var)\n",
    "---------------------------------------------------------------------------\n",
    "NameError                                 Traceback (most recent call last)\n",
    "<ipython-input-3-3bfff76e6cd3> in <module>()\n",
    "----> 1 print(local_var)\n",
    "\n",
    "NameError: name 'local_var' is not defined\n",
    "```\n"
   ]
  },
  {
   "cell_type": "markdown",
   "metadata": {
    "id": "bxffH3wG0PiC"
   },
   "source": [
    "함수 내부에서 선언된 지역변수를 전역변수처럼 사용하려면 `global` 키워드를 사용한다. "
   ]
  },
  {
   "cell_type": "code",
   "execution_count": null,
   "metadata": {
    "id": "1eEY614E0QXa"
   },
   "outputs": [],
   "source": [
    "global_var = 3\n",
    "\n",
    "def myAdd(a, b) :\n",
    "    global local_var  \n",
    "    local_var = a + b\n",
    "    return local_var"
   ]
  },
  {
   "cell_type": "code",
   "execution_count": null,
   "metadata": {
    "colab": {
     "base_uri": "https://localhost:8080/"
    },
    "executionInfo": {
     "elapsed": 584,
     "status": "ok",
     "timestamp": 1616800543837,
     "user": {
      "displayName": "HJ Kim",
      "photoUrl": "",
      "userId": "16634276932240017990"
     },
     "user_tz": -540
    },
    "id": "fYG_P8mn0WWL",
    "outputId": "8ba2b2de-4fa9-4ffd-f92e-1a61682c370a"
   },
   "outputs": [
    {
     "data": {
      "text/plain": [
       "3"
      ]
     },
     "execution_count": 5,
     "metadata": {
      "tags": []
     },
     "output_type": "execute_result"
    }
   ],
   "source": [
    "myAdd(1, 2)"
   ]
  },
  {
   "cell_type": "code",
   "execution_count": null,
   "metadata": {
    "colab": {
     "base_uri": "https://localhost:8080/"
    },
    "executionInfo": {
     "elapsed": 568,
     "status": "ok",
     "timestamp": 1616800553009,
     "user": {
      "displayName": "HJ Kim",
      "photoUrl": "",
      "userId": "16634276932240017990"
     },
     "user_tz": -540
    },
    "id": "gyN_Ft3p0nwf",
    "outputId": "8ed3c19e-2964-4ec0-dfad-202bc979bc4c"
   },
   "outputs": [
    {
     "name": "stdout",
     "output_type": "stream",
     "text": [
      "3\n"
     ]
    }
   ],
   "source": [
    "print(local_var)"
   ]
  },
  {
   "cell_type": "markdown",
   "metadata": {
    "id": "Elke26QNDoZ2"
   },
   "source": [
    "## 문서화 문자열(docstring) 활용\n",
    "\n",
    "* 프로그래밍 코드를 저장한 파일에는 코드 이외에 코드와 관련된 주석을 적절하게 포함하고 있어야 한다. 이를 \"문서화\"라고 한다. \n",
    "* 문서화는 코드 이상으로 중요하다. 문서화가 제대로 되어있지 않은 경우 코드 개발 및 관리를 매우 어렵게 만든다.\n",
    "* 문서화의 기본은 함수에 주석을 추가하는 것이다. 함수 정의에 사용되는 주석을 **docstring(문서화 문자열)** 이라 부른다.\n",
    "* 큰따옴표 세 개(\"\"\"...\"\"\") 또는 작은따옴표 세 개('''...''')로 둘러싸인 부분이 문서화를 위해 사용되며 주석으로 처리된다. \n",
    "* 함수에 주석을 달아주면 `help` 함수를 이용하여 해당 함수의 역할 및 사용법을 확인할 수 있다. "
   ]
  },
  {
   "cell_type": "markdown",
   "metadata": {
    "id": "Scyg-A7CIVef"
   },
   "source": [
    "예를 들어, 입력값의 절댓값을 리턴하는 함수인 `abs` 함수에 대한 정보를 확인하기 위해 아래와 같이 코드를 작성하고 실행해보자. \n",
    "> `help(abs)`\n"
   ]
  },
  {
   "cell_type": "code",
   "execution_count": null,
   "metadata": {
    "colab": {
     "base_uri": "https://localhost:8080/"
    },
    "executionInfo": {
     "elapsed": 684,
     "status": "ok",
     "timestamp": 1616655521915,
     "user": {
      "displayName": "HJ Kim",
      "photoUrl": "",
      "userId": "16634276932240017990"
     },
     "user_tz": -540
    },
    "id": "L18GABxfIiGH",
    "outputId": "924d12ff-2b96-4dd3-b90f-9caf722b8562"
   },
   "outputs": [
    {
     "name": "stdout",
     "output_type": "stream",
     "text": [
      "Help on built-in function abs in module builtins:\n",
      "\n",
      "abs(x, /)\n",
      "    Return the absolute value of the argument.\n",
      "\n"
     ]
    }
   ],
   "source": [
    "help(abs)"
   ]
  },
  {
   "cell_type": "markdown",
   "metadata": {
    "id": "gVydb2ANLaD-"
   },
   "source": [
    "출력된 내용을 살펴보면, 다음과 같다.\n",
    "\n",
    "* abs는 `builtins`이라는 모듈에 정의된 내장 함수이다. \n",
    "* 인자의 절댓값을 리턴한다. 즉, 어떤 값을 리턴하는지 설명한다."
   ]
  },
  {
   "cell_type": "markdown",
   "metadata": {
    "id": "GOXvcxUIMeYd"
   },
   "source": [
    "이제 앞에서 정의한 `mySum` 함수에 문서화 문자열(docstring)을 추가해 보자."
   ]
  },
  {
   "cell_type": "code",
   "execution_count": null,
   "metadata": {
    "id": "yuloJB76NMVs"
   },
   "outputs": [],
   "source": [
    "def mySum(a, b) :\n",
    "    \"\"\"\n",
    "    두 개의 숫자를 입력받아, 그 합을 되돌려준다.\n",
    "    \"\"\"\n",
    "    return a + b"
   ]
  },
  {
   "cell_type": "markdown",
   "metadata": {
    "id": "-gUYg4vYNnlW"
   },
   "source": [
    "`mySum` 함수에 대한 정보를 확인하기 위해 `help()` 함수를 사용해보자. 그러면 `mySum` 함수를 정의할 때 함께 적은 docstring이 보여진다."
   ]
  },
  {
   "cell_type": "code",
   "execution_count": null,
   "metadata": {
    "colab": {
     "base_uri": "https://localhost:8080/"
    },
    "executionInfo": {
     "elapsed": 1149,
     "status": "ok",
     "timestamp": 1616846665031,
     "user": {
      "displayName": "HJ Kim",
      "photoUrl": "",
      "userId": "16634276932240017990"
     },
     "user_tz": -540
    },
    "id": "Nxsm_x5aNaev",
    "outputId": "f3af897a-fafc-4761-d86a-ad269c6f3ac3"
   },
   "outputs": [
    {
     "name": "stdout",
     "output_type": "stream",
     "text": [
      "Help on function mySum in module __main__:\n",
      "\n",
      "mySum(a, b)\n",
      "    두 개의 숫자를 입력받아, 그 합을 되돌려준다.\n",
      "\n"
     ]
    }
   ],
   "source": [
    "help(mySum)"
   ]
  },
  {
   "cell_type": "markdown",
   "metadata": {
    "id": "0jftCFfUNuMt"
   },
   "source": [
    "````{prf:example}\n",
    ":label: func_ex01\n",
    "주어진 자연수 `n`이 짝수면 `True`를, 홀수면 `False`를 리턴하는 함수 `even_test(n)`를 구현하여라.\n",
    "````"
   ]
  },
  {
   "cell_type": "code",
   "execution_count": null,
   "metadata": {
    "id": "CMYClrt3S_fG"
   },
   "outputs": [],
   "source": [
    "def even_test(n):\n",
    "    if n%2 == 0:\n",
    "        return True\n",
    "    else:\n",
    "        return False"
   ]
  },
  {
   "cell_type": "code",
   "execution_count": null,
   "metadata": {
    "colab": {
     "base_uri": "https://localhost:8080/"
    },
    "executionInfo": {
     "elapsed": 501,
     "status": "ok",
     "timestamp": 1616825367465,
     "user": {
      "displayName": "HJ Kim",
      "photoUrl": "",
      "userId": "16634276932240017990"
     },
     "user_tz": -540
    },
    "id": "DG0mAY8ZTCxN",
    "outputId": "038868a7-24f4-4b1d-bbf4-b8f2e19438cd"
   },
   "outputs": [
    {
     "data": {
      "text/plain": [
       "True"
      ]
     },
     "execution_count": 13,
     "metadata": {
      "tags": []
     },
     "output_type": "execute_result"
    }
   ],
   "source": [
    "even_test(10)"
   ]
  },
  {
   "cell_type": "code",
   "execution_count": null,
   "metadata": {
    "colab": {
     "base_uri": "https://localhost:8080/"
    },
    "executionInfo": {
     "elapsed": 640,
     "status": "ok",
     "timestamp": 1616825368007,
     "user": {
      "displayName": "HJ Kim",
      "photoUrl": "",
      "userId": "16634276932240017990"
     },
     "user_tz": -540
    },
    "id": "MKFRyTnxTFkK",
    "outputId": "e88bb735-332b-4a91-9b00-b3ac9e99d5de"
   },
   "outputs": [
    {
     "data": {
      "text/plain": [
       "False"
      ]
     },
     "execution_count": 14,
     "metadata": {
      "tags": []
     },
     "output_type": "execute_result"
    }
   ],
   "source": [
    "even_test(17)"
   ]
  },
  {
   "cell_type": "markdown",
   "metadata": {
    "id": "WeRGPhUlXCq6"
   },
   "source": [
    ":::{admonition} 참고  \n",
    ":class: info  \n",
    "정수 1과 0은 각각 `True`와 `False`의 의미를 가질 수 있다.\n",
    ":::"
   ]
  },
  {
   "cell_type": "code",
   "execution_count": null,
   "metadata": {
    "id": "vqyVscs1S_-l"
   },
   "outputs": [],
   "source": [
    "def even_test1(n):\n",
    "    if not n%2:\n",
    "        return True\n",
    "    else:\n",
    "        return False"
   ]
  },
  {
   "cell_type": "code",
   "execution_count": null,
   "metadata": {
    "colab": {
     "base_uri": "https://localhost:8080/"
    },
    "executionInfo": {
     "elapsed": 575,
     "status": "ok",
     "timestamp": 1616825378611,
     "user": {
      "displayName": "HJ Kim",
      "photoUrl": "",
      "userId": "16634276932240017990"
     },
     "user_tz": -540
    },
    "id": "Vf1euCHDTUbb",
    "outputId": "40c1f794-cf0e-4b16-ecae-a6532cfa7eff"
   },
   "outputs": [
    {
     "data": {
      "text/plain": [
       "True"
      ]
     },
     "execution_count": 15,
     "metadata": {
      "tags": []
     },
     "output_type": "execute_result"
    }
   ],
   "source": [
    "even_test1(16)"
   ]
  },
  {
   "cell_type": "code",
   "execution_count": null,
   "metadata": {
    "colab": {
     "base_uri": "https://localhost:8080/"
    },
    "executionInfo": {
     "elapsed": 557,
     "status": "ok",
     "timestamp": 1616825384675,
     "user": {
      "displayName": "HJ Kim",
      "photoUrl": "",
      "userId": "16634276932240017990"
     },
     "user_tz": -540
    },
    "id": "qERV4TokTUjg",
    "outputId": "2c4a03ec-d293-403d-d135-2765579b59d2"
   },
   "outputs": [
    {
     "data": {
      "text/plain": [
       "False"
      ]
     },
     "execution_count": 16,
     "metadata": {
      "tags": []
     },
     "output_type": "execute_result"
    }
   ],
   "source": [
    "even_test1(21)"
   ]
  },
  {
   "cell_type": "markdown",
   "metadata": {
    "id": "YNooCNhpN3Sf"
   },
   "source": [
    "````{prf:example}\n",
    ":label: func_ex02\n",
    "자연수 `n`이 주어졌을 때, 1부터 n까지의 모든 자연수의 곱을 리턴하는 함수 `factorial(n)`을 구현하여라.\n",
    "````"
   ]
  },
  {
   "cell_type": "code",
   "execution_count": null,
   "metadata": {
    "id": "CTQNxblFPzul"
   },
   "outputs": [],
   "source": [
    "def factorial(n) :\n",
    "    result = 1\n",
    "    for i in range(1, n+1) :\n",
    "        result *= i\n",
    "    return result"
   ]
  },
  {
   "cell_type": "code",
   "execution_count": null,
   "metadata": {
    "colab": {
     "base_uri": "https://localhost:8080/"
    },
    "executionInfo": {
     "elapsed": 729,
     "status": "ok",
     "timestamp": 1616824519172,
     "user": {
      "displayName": "HJ Kim",
      "photoUrl": "",
      "userId": "16634276932240017990"
     },
     "user_tz": -540
    },
    "id": "EwdkTbZuP28r",
    "outputId": "b9bdcb5c-1f22-4217-807e-77f8d64b9ee7"
   },
   "outputs": [
    {
     "name": "stdout",
     "output_type": "stream",
     "text": [
      "1\n",
      "1\n",
      "2\n",
      "6\n",
      "3628800\n",
      "265252859812191058636308480000000\n"
     ]
    }
   ],
   "source": [
    "print(factorial(0))\n",
    "print(factorial(1))\n",
    "print(factorial(2))\n",
    "print(factorial(3))\n",
    "print(factorial(10))\n",
    "print(factorial(30))"
   ]
  },
  {
   "cell_type": "markdown",
   "metadata": {
    "id": "aGECoWGOFu8L"
   },
   "source": [
    "재귀(recursion)는 \"본래 있던 곳으로 다시 돌아온다\"는 의미로, 재귀를 이용하여 구현한 함수를 재귀함수(recursive function)라 부른다.  \n",
    "\n",
    "아래는 재귀를 이용하여 구현한 `factorial_func` 함수이다."
   ]
  },
  {
   "cell_type": "code",
   "execution_count": null,
   "metadata": {
    "id": "P9IIlaE2QF0U"
   },
   "outputs": [],
   "source": [
    "def factorial_func(n) :\n",
    "    if n == 0 or n == 1 :\n",
    "        return 1\n",
    "    else:\n",
    "        return n*factorial_func(n-1)"
   ]
  },
  {
   "cell_type": "code",
   "execution_count": null,
   "metadata": {
    "colab": {
     "base_uri": "https://localhost:8080/"
    },
    "executionInfo": {
     "elapsed": 645,
     "status": "ok",
     "timestamp": 1616824604215,
     "user": {
      "displayName": "HJ Kim",
      "photoUrl": "",
      "userId": "16634276932240017990"
     },
     "user_tz": -540
    },
    "id": "zHLIPzvCQTNm",
    "outputId": "755ba055-944d-4c58-d83a-debcf6cdf36b"
   },
   "outputs": [
    {
     "name": "stdout",
     "output_type": "stream",
     "text": [
      "1\n",
      "1\n",
      "2\n",
      "6\n",
      "3628800\n",
      "265252859812191058636308480000000\n"
     ]
    }
   ],
   "source": [
    "print(factorial_func(0))\n",
    "print(factorial_func(1))\n",
    "print(factorial_func(2))\n",
    "print(factorial_func(3))\n",
    "print(factorial_func(10))\n",
    "print(factorial_func(30))"
   ]
  },
  {
   "cell_type": "markdown",
   "metadata": {
    "id": "0Yfatk4gvDtb"
   },
   "source": [
    "# 모듈\n",
    "\n",
    "모듈<font size=\"2\">Module</font>은 우선 단순한 파이썬 코드를 담고 있는, 확장자가 `py`인 파일이다. 그리고 하나의 모듈에는 관련된 일을 처리할 때 사용하는 여러 프로그램 코드들이 포함되어 있다. \n",
    "\n",
    "예를 들어, `math` 모듈은 `sin`, `cos`, `log` 등 수학에서 매우 중요한 역할을 하는 함수들이 정의되어 있다. 그리고 `time` 모듈에는 `sleep` 함수처럼 시간 활용과 관련된 다양한 함수가 포함되어 있다. \n",
    "\n",
    "참고) 파일 확장자는 파일의 형식이나 종류를 표시하기 위해 파일명 뒤에 사용하는 것이다.   \n",
    "예를 들어, 확장자가 `hwp`라면 한글 문서 파일인 것을 알 수 있다. "
   ]
  },
  {
   "cell_type": "markdown",
   "metadata": {
    "id": "zBKP8VhHQc_n"
   },
   "source": [
    "## 모듈 사용법\n",
    "\n",
    "특정 모듈에 포함된 코드(예를 들어, 함수)를 사용하려면 먼저 해당 모듈을 `import` 해야 한다.  \n",
    "\n",
    "모듈을 임포트하는 방법을 살펴보자. "
   ]
  },
  {
   "cell_type": "markdown",
   "metadata": {
    "id": "ONvwKIT2Qy16"
   },
   "source": [
    "**모듈 임포트 방법1**\n",
    "\n",
    "> `import 모듈이름`\n",
    "\n",
    "예를 들어, `math` 모듈을 임포트하고 싶다면, 아래와 같이 코드를 작성하고 실행하면 된다. "
   ]
  },
  {
   "cell_type": "code",
   "execution_count": null,
   "metadata": {
    "id": "maWvf6z3u5V_"
   },
   "outputs": [],
   "source": [
    "import math"
   ]
  },
  {
   "cell_type": "markdown",
   "metadata": {
    "id": "TNt3n9QERKC8"
   },
   "source": [
    "그러면 `math` 모듈에 포함된 코드를 사용할 수 있다.  \n",
    "예를 들어, `math` 모듈에 포함된 `pi` 값과 `sin` 함수는 아래와 같이 사용할 수 있다."
   ]
  },
  {
   "cell_type": "code",
   "execution_count": null,
   "metadata": {
    "colab": {
     "base_uri": "https://localhost:8080/"
    },
    "executionInfo": {
     "elapsed": 661,
     "status": "ok",
     "timestamp": 1616657123638,
     "user": {
      "displayName": "HJ Kim",
      "photoUrl": "",
      "userId": "16634276932240017990"
     },
     "user_tz": -540
    },
    "id": "RxTegLnKRJDs",
    "outputId": "3a3dbb7d-8abc-45b4-dd31-246609d6f50c"
   },
   "outputs": [
    {
     "data": {
      "text/plain": [
       "3.141592653589793"
      ]
     },
     "execution_count": 33,
     "metadata": {
      "tags": []
     },
     "output_type": "execute_result"
    }
   ],
   "source": [
    "math.pi"
   ]
  },
  {
   "cell_type": "code",
   "execution_count": null,
   "metadata": {
    "colab": {
     "base_uri": "https://localhost:8080/"
    },
    "executionInfo": {
     "elapsed": 848,
     "status": "ok",
     "timestamp": 1616657133410,
     "user": {
      "displayName": "HJ Kim",
      "photoUrl": "",
      "userId": "16634276932240017990"
     },
     "user_tz": -540
    },
    "id": "ibC2Gtd9RgZs",
    "outputId": "b2f2c8bf-3ae1-4c7f-b154-46daab09b5a5"
   },
   "outputs": [
    {
     "data": {
      "text/plain": [
       "1.0"
      ]
     },
     "execution_count": 34,
     "metadata": {
      "tags": []
     },
     "output_type": "execute_result"
    }
   ],
   "source": [
    "math.sin(math.pi/ 2)"
   ]
  },
  {
   "cell_type": "markdown",
   "metadata": {
    "id": "5J5j_qQqRm60"
   },
   "source": [
    "**모듈 임포트 방법2**\n",
    "\n",
    "모듈의 이름이 길 경우, 별칭을 줄 수 있다. \n",
    "\n",
    "> `import 모듈이름 as 별칭`\n"
   ]
  },
  {
   "cell_type": "code",
   "execution_count": null,
   "metadata": {
    "id": "_ZXs5ICjRivc"
   },
   "outputs": [],
   "source": [
    "import math as m"
   ]
  },
  {
   "cell_type": "code",
   "execution_count": null,
   "metadata": {
    "colab": {
     "base_uri": "https://localhost:8080/"
    },
    "executionInfo": {
     "elapsed": 649,
     "status": "ok",
     "timestamp": 1616657249184,
     "user": {
      "displayName": "HJ Kim",
      "photoUrl": "",
      "userId": "16634276932240017990"
     },
     "user_tz": -540
    },
    "id": "SJi7tI7FR-DV",
    "outputId": "44aff641-b58f-43ae-9377-a5d8186332c6"
   },
   "outputs": [
    {
     "data": {
      "text/plain": [
       "3.141592653589793"
      ]
     },
     "execution_count": 36,
     "metadata": {
      "tags": []
     },
     "output_type": "execute_result"
    }
   ],
   "source": [
    "m.pi"
   ]
  },
  {
   "cell_type": "code",
   "execution_count": null,
   "metadata": {
    "colab": {
     "base_uri": "https://localhost:8080/"
    },
    "executionInfo": {
     "elapsed": 592,
     "status": "ok",
     "timestamp": 1616657256027,
     "user": {
      "displayName": "HJ Kim",
      "photoUrl": "",
      "userId": "16634276932240017990"
     },
     "user_tz": -540
    },
    "id": "oWC-F6ooR--M",
    "outputId": "314eb945-04f4-4849-84da-a19d2b416916"
   },
   "outputs": [
    {
     "data": {
      "text/plain": [
       "1.0"
      ]
     },
     "execution_count": 37,
     "metadata": {
      "tags": []
     },
     "output_type": "execute_result"
    }
   ],
   "source": [
    "m.sin(m.pi/2)"
   ]
  },
  {
   "cell_type": "markdown",
   "metadata": {
    "id": "P5f2IxWKSB5C"
   },
   "source": [
    "**모듈 임포트 방법3**\n",
    "\n",
    "모듈에서 원하는 코드만 가져올 수 있다. 이 경우 모듈 이름을 추가로 붙일 필요가 없어진다.   \n",
    "이 방식은 특정 코드를 자주 활용해야 할 경우 추천한다.\n",
    "\n",
    "> `from 모듈이름 import 특정코드`"
   ]
  },
  {
   "cell_type": "code",
   "execution_count": null,
   "metadata": {
    "id": "4KmAb1dGSAvP"
   },
   "outputs": [],
   "source": [
    "from math import pi, sin"
   ]
  },
  {
   "cell_type": "code",
   "execution_count": null,
   "metadata": {
    "colab": {
     "base_uri": "https://localhost:8080/"
    },
    "executionInfo": {
     "elapsed": 611,
     "status": "ok",
     "timestamp": 1616657370039,
     "user": {
      "displayName": "HJ Kim",
      "photoUrl": "",
      "userId": "16634276932240017990"
     },
     "user_tz": -540
    },
    "id": "_JGExzoXSb9H",
    "outputId": "c1d29fb0-61c1-43ca-c69f-11e8c324953d"
   },
   "outputs": [
    {
     "data": {
      "text/plain": [
       "3.141592653589793"
      ]
     },
     "execution_count": 39,
     "metadata": {
      "tags": []
     },
     "output_type": "execute_result"
    }
   ],
   "source": [
    "pi"
   ]
  },
  {
   "cell_type": "code",
   "execution_count": null,
   "metadata": {
    "colab": {
     "base_uri": "https://localhost:8080/"
    },
    "executionInfo": {
     "elapsed": 607,
     "status": "ok",
     "timestamp": 1616657373843,
     "user": {
      "displayName": "HJ Kim",
      "photoUrl": "",
      "userId": "16634276932240017990"
     },
     "user_tz": -540
    },
    "id": "zpE3bmKRSceF",
    "outputId": "b3189a7b-057d-4214-bb1c-ab9d299dfecd"
   },
   "outputs": [
    {
     "data": {
      "text/plain": [
       "1.0"
      ]
     },
     "execution_count": 40,
     "metadata": {
      "tags": []
     },
     "output_type": "execute_result"
    }
   ],
   "source": [
    "sin(pi/2)"
   ]
  },
  {
   "cell_type": "markdown",
   "metadata": {
    "id": "BgjTsf3ESejk"
   },
   "source": [
    "주의 : 이 경우 `math` 모듈에 포함된 다른 코드는 사용할 수 없다. "
   ]
  },
  {
   "cell_type": "markdown",
   "metadata": {
    "id": "3daXLcVbSmSy"
   },
   "source": [
    "**모듈 임포트 방법4**\n",
    "\n",
    "특정 모듈에 포함된 코드 전체를 한꺼번에 임포트할 수도 있다. 다만 일반적으로 추천되는 방식은 아니다.  \n",
    "\n",
    "> `from 모듈이름 import *`\n",
    "\n",
    "아래와 같이 `math` 모듈을 임포트하면, 그 안에 포함된 모든 코드를 모듈 이름을 언급할 필요 없이 호출할 수 있다. "
   ]
  },
  {
   "cell_type": "code",
   "execution_count": null,
   "metadata": {
    "id": "VvFswP57Sdd0"
   },
   "outputs": [],
   "source": [
    "from math import *"
   ]
  },
  {
   "cell_type": "code",
   "execution_count": null,
   "metadata": {
    "colab": {
     "base_uri": "https://localhost:8080/"
    },
    "executionInfo": {
     "elapsed": 569,
     "status": "ok",
     "timestamp": 1616657523889,
     "user": {
      "displayName": "HJ Kim",
      "photoUrl": "",
      "userId": "16634276932240017990"
     },
     "user_tz": -540
    },
    "id": "IifAJ2lcS9Vn",
    "outputId": "5b43c37a-e627-48e3-87a9-ef12495bf8dd"
   },
   "outputs": [
    {
     "data": {
      "text/plain": [
       "1.0"
      ]
     },
     "execution_count": 43,
     "metadata": {
      "tags": []
     },
     "output_type": "execute_result"
    }
   ],
   "source": [
    "cos(0)"
   ]
  },
  {
   "cell_type": "code",
   "execution_count": null,
   "metadata": {
    "colab": {
     "base_uri": "https://localhost:8080/"
    },
    "executionInfo": {
     "elapsed": 598,
     "status": "ok",
     "timestamp": 1616657533012,
     "user": {
      "displayName": "HJ Kim",
      "photoUrl": "",
      "userId": "16634276932240017990"
     },
     "user_tz": -540
    },
    "id": "cAbj0BYoTAmN",
    "outputId": "bc9cbd9b-fd3d-4733-8c1e-2de106fddcc2"
   },
   "outputs": [
    {
     "data": {
      "text/plain": [
       "2.718281828459045"
      ]
     },
     "execution_count": 44,
     "metadata": {
      "tags": []
     },
     "output_type": "execute_result"
    }
   ],
   "source": [
    "exp(1)"
   ]
  },
  {
   "cell_type": "markdown",
   "metadata": {
    "id": "WrIWRpHmTF9k"
   },
   "source": [
    "**모듈 내용 확인하기**\n",
    "\n",
    "특정 모듈에 포함된 함수 등을 확인하기 위해 `help` 함수를 사용할 수 있다. \n",
    "\n",
    "> `help(모듈이름)`\n",
    "\n",
    "예를 들어, `math` 모듈에 포함되어 있는 함수들을 확인해보자."
   ]
  },
  {
   "cell_type": "code",
   "execution_count": null,
   "metadata": {
    "colab": {
     "base_uri": "https://localhost:8080/"
    },
    "executionInfo": {
     "elapsed": 607,
     "status": "ok",
     "timestamp": 1616657650448,
     "user": {
      "displayName": "HJ Kim",
      "photoUrl": "",
      "userId": "16634276932240017990"
     },
     "user_tz": -540
    },
    "id": "fKx73lLBTEXT",
    "outputId": "4a5ee6fb-7c23-471a-cdd0-5f08f0edee68"
   },
   "outputs": [
    {
     "name": "stdout",
     "output_type": "stream",
     "text": [
      "Help on built-in module math:\n",
      "\n",
      "NAME\n",
      "    math\n",
      "\n",
      "DESCRIPTION\n",
      "    This module provides access to the mathematical functions\n",
      "    defined by the C standard.\n",
      "\n",
      "FUNCTIONS\n",
      "    acos(x, /)\n",
      "        Return the arc cosine (measured in radians) of x.\n",
      "    \n",
      "    acosh(x, /)\n",
      "        Return the inverse hyperbolic cosine of x.\n",
      "    \n",
      "    asin(x, /)\n",
      "        Return the arc sine (measured in radians) of x.\n",
      "    \n",
      "    asinh(x, /)\n",
      "        Return the inverse hyperbolic sine of x.\n",
      "    \n",
      "    atan(x, /)\n",
      "        Return the arc tangent (measured in radians) of x.\n",
      "    \n",
      "    atan2(y, x, /)\n",
      "        Return the arc tangent (measured in radians) of y/x.\n",
      "        \n",
      "        Unlike atan(y/x), the signs of both x and y are considered.\n",
      "    \n",
      "    atanh(x, /)\n",
      "        Return the inverse hyperbolic tangent of x.\n",
      "    \n",
      "    ceil(x, /)\n",
      "        Return the ceiling of x as an Integral.\n",
      "        \n",
      "        This is the smallest integer >= x.\n",
      "    \n",
      "    copysign(x, y, /)\n",
      "        Return a float with the magnitude (absolute value) of x but the sign of y.\n",
      "        \n",
      "        On platforms that support signed zeros, copysign(1.0, -0.0)\n",
      "        returns -1.0.\n",
      "    \n",
      "    cos(x, /)\n",
      "        Return the cosine of x (measured in radians).\n",
      "    \n",
      "    cosh(x, /)\n",
      "        Return the hyperbolic cosine of x.\n",
      "    \n",
      "    degrees(x, /)\n",
      "        Convert angle x from radians to degrees.\n",
      "    \n",
      "    erf(x, /)\n",
      "        Error function at x.\n",
      "    \n",
      "    erfc(x, /)\n",
      "        Complementary error function at x.\n",
      "    \n",
      "    exp(x, /)\n",
      "        Return e raised to the power of x.\n",
      "    \n",
      "    expm1(x, /)\n",
      "        Return exp(x)-1.\n",
      "        \n",
      "        This function avoids the loss of precision involved in the direct evaluation of exp(x)-1 for small x.\n",
      "    \n",
      "    fabs(x, /)\n",
      "        Return the absolute value of the float x.\n",
      "    \n",
      "    factorial(x, /)\n",
      "        Find x!.\n",
      "        \n",
      "        Raise a ValueError if x is negative or non-integral.\n",
      "    \n",
      "    floor(x, /)\n",
      "        Return the floor of x as an Integral.\n",
      "        \n",
      "        This is the largest integer <= x.\n",
      "    \n",
      "    fmod(x, y, /)\n",
      "        Return fmod(x, y), according to platform C.\n",
      "        \n",
      "        x % y may differ.\n",
      "    \n",
      "    frexp(x, /)\n",
      "        Return the mantissa and exponent of x, as pair (m, e).\n",
      "        \n",
      "        m is a float and e is an int, such that x = m * 2.**e.\n",
      "        If x is 0, m and e are both 0.  Else 0.5 <= abs(m) < 1.0.\n",
      "    \n",
      "    fsum(seq, /)\n",
      "        Return an accurate floating point sum of values in the iterable seq.\n",
      "        \n",
      "        Assumes IEEE-754 floating point arithmetic.\n",
      "    \n",
      "    gamma(x, /)\n",
      "        Gamma function at x.\n",
      "    \n",
      "    gcd(x, y, /)\n",
      "        greatest common divisor of x and y\n",
      "    \n",
      "    hypot(x, y, /)\n",
      "        Return the Euclidean distance, sqrt(x*x + y*y).\n",
      "    \n",
      "    isclose(a, b, *, rel_tol=1e-09, abs_tol=0.0)\n",
      "        Determine whether two floating point numbers are close in value.\n",
      "        \n",
      "          rel_tol\n",
      "            maximum difference for being considered \"close\", relative to the\n",
      "            magnitude of the input values\n",
      "          abs_tol\n",
      "            maximum difference for being considered \"close\", regardless of the\n",
      "            magnitude of the input values\n",
      "        \n",
      "        Return True if a is close in value to b, and False otherwise.\n",
      "        \n",
      "        For the values to be considered close, the difference between them\n",
      "        must be smaller than at least one of the tolerances.\n",
      "        \n",
      "        -inf, inf and NaN behave similarly to the IEEE 754 Standard.  That\n",
      "        is, NaN is not close to anything, even itself.  inf and -inf are\n",
      "        only close to themselves.\n",
      "    \n",
      "    isfinite(x, /)\n",
      "        Return True if x is neither an infinity nor a NaN, and False otherwise.\n",
      "    \n",
      "    isinf(x, /)\n",
      "        Return True if x is a positive or negative infinity, and False otherwise.\n",
      "    \n",
      "    isnan(x, /)\n",
      "        Return True if x is a NaN (not a number), and False otherwise.\n",
      "    \n",
      "    ldexp(x, i, /)\n",
      "        Return x * (2**i).\n",
      "        \n",
      "        This is essentially the inverse of frexp().\n",
      "    \n",
      "    lgamma(x, /)\n",
      "        Natural logarithm of absolute value of Gamma function at x.\n",
      "    \n",
      "    log(...)\n",
      "        log(x, [base=math.e])\n",
      "        Return the logarithm of x to the given base.\n",
      "        \n",
      "        If the base not specified, returns the natural logarithm (base e) of x.\n",
      "    \n",
      "    log10(x, /)\n",
      "        Return the base 10 logarithm of x.\n",
      "    \n",
      "    log1p(x, /)\n",
      "        Return the natural logarithm of 1+x (base e).\n",
      "        \n",
      "        The result is computed in a way which is accurate for x near zero.\n",
      "    \n",
      "    log2(x, /)\n",
      "        Return the base 2 logarithm of x.\n",
      "    \n",
      "    modf(x, /)\n",
      "        Return the fractional and integer parts of x.\n",
      "        \n",
      "        Both results carry the sign of x and are floats.\n",
      "    \n",
      "    pow(x, y, /)\n",
      "        Return x**y (x to the power of y).\n",
      "    \n",
      "    radians(x, /)\n",
      "        Convert angle x from degrees to radians.\n",
      "    \n",
      "    remainder(x, y, /)\n",
      "        Difference between x and the closest integer multiple of y.\n",
      "        \n",
      "        Return x - n*y where n*y is the closest integer multiple of y.\n",
      "        In the case where x is exactly halfway between two multiples of\n",
      "        y, the nearest even value of n is used. The result is always exact.\n",
      "    \n",
      "    sin(x, /)\n",
      "        Return the sine of x (measured in radians).\n",
      "    \n",
      "    sinh(x, /)\n",
      "        Return the hyperbolic sine of x.\n",
      "    \n",
      "    sqrt(x, /)\n",
      "        Return the square root of x.\n",
      "    \n",
      "    tan(x, /)\n",
      "        Return the tangent of x (measured in radians).\n",
      "    \n",
      "    tanh(x, /)\n",
      "        Return the hyperbolic tangent of x.\n",
      "    \n",
      "    trunc(x, /)\n",
      "        Truncates the Real x to the nearest Integral toward 0.\n",
      "        \n",
      "        Uses the __trunc__ magic method.\n",
      "\n",
      "DATA\n",
      "    e = 2.718281828459045\n",
      "    inf = inf\n",
      "    nan = nan\n",
      "    pi = 3.141592653589793\n",
      "    tau = 6.283185307179586\n",
      "\n",
      "FILE\n",
      "    (built-in)\n",
      "\n",
      "\n"
     ]
    }
   ],
   "source": [
    "help(math)"
   ]
  },
  {
   "cell_type": "markdown",
   "metadata": {
    "id": "GM071Y7NToXC"
   },
   "source": [
    "만약 `math` 모듈에 포함되어 있는 `sqrt` 함수에 대한 정보를 얻고 싶다면, 다음과 같이 코드를 작성하면 된다. "
   ]
  },
  {
   "cell_type": "code",
   "execution_count": null,
   "metadata": {
    "colab": {
     "base_uri": "https://localhost:8080/"
    },
    "executionInfo": {
     "elapsed": 600,
     "status": "ok",
     "timestamp": 1616657779419,
     "user": {
      "displayName": "HJ Kim",
      "photoUrl": "",
      "userId": "16634276932240017990"
     },
     "user_tz": -540
    },
    "id": "g1kQ5OshTg_-",
    "outputId": "45ae59d7-0395-4fa8-e027-334d1f7858fc"
   },
   "outputs": [
    {
     "name": "stdout",
     "output_type": "stream",
     "text": [
      "Help on built-in function sqrt in module math:\n",
      "\n",
      "sqrt(x, /)\n",
      "    Return the square root of x.\n",
      "\n"
     ]
    }
   ],
   "source": [
    "help(math.sqrt)"
   ]
  },
  {
   "cell_type": "markdown",
   "metadata": {
    "id": "3LlA0sN1HMzr"
   },
   "source": [
    "ex) 1~100 사이의 정수 맞히기 게임을 만들어라. "
   ]
  },
  {
   "cell_type": "markdown",
   "metadata": {
    "id": "bm7_SmFGHfhP"
   },
   "source": [
    "참고) 파이썬에서 난수(random number)를 생성하기 위해 `random` 모듈을 사용한다.   \n",
    "`random` 모듈의 `randint(a, b)` 함수는 a부터 b사이(끝값 포함)의 임의의 정수를 리턴한다.  \n",
    "예를 들어, `randint(1, 100)`은 1부터 100사이(1과 100포함)의 임의의 정수를 리턴한다.  "
   ]
  },
  {
   "cell_type": "markdown",
   "metadata": {},
   "source": [
    "```python\n",
    "import random\n",
    "\n",
    "count_trial = 0\n",
    "answer = random.randint(1, 100)\n",
    "#print(answer)\n",
    "\n",
    "while True:\n",
    "  \n",
    "    try :\n",
    "    \n",
    "        num_input = input(\"1에서 100사이의 정수를 입력하세요 :\")\n",
    "        count_trial = count_trial + 1\n",
    "        num_input = int(num_input)\n",
    "\n",
    "        if 0 <= num_input <= 100:\n",
    "\n",
    "            print(\"입력하신 정수는\", num_input, \"입니다.\")\n",
    "\n",
    "            if num_input == answer:\n",
    "                print(\"You win!\")\n",
    "                print(\"시도하신 횟수는: \", count_trial, '번 입니다.')\n",
    "                break\n",
    "\n",
    "            elif num_input > answer:\n",
    "                print(\"You lose!\")\n",
    "                print(\"너무 커요(Too high)\") \n",
    "            else: \n",
    "                print(\"You lose!\")\n",
    "                print(\"너무 작아요(Too low)\") \n",
    "\n",
    "        else:\n",
    "            print(\"1에서 100사이의 정수만 입력해야 합니다\")\n",
    "  \n",
    "\n",
    "    except ValueError:\n",
    "        print(\"정수를 입력하세요\")\n",
    "```"
   ]
  }
 ],
 "metadata": {
  "colab": {
   "authorship_tag": "ABX9TyOFUtIScj2OKy0nSw2sFxqu",
   "collapsed_sections": [],
   "name": "강의노트6(함수와모듈).ipynb",
   "provenance": []
  },
  "kernelspec": {
   "display_name": "Python 3 (ipykernel)",
   "language": "python",
   "name": "python3"
  },
  "language_info": {
   "codemirror_mode": {
    "name": "ipython",
    "version": 3
   },
   "file_extension": ".py",
   "mimetype": "text/x-python",
   "name": "python",
   "nbconvert_exporter": "python",
   "pygments_lexer": "ipython3",
   "version": "3.8.10"
  },
  "toc-autonumbering": true
 },
 "nbformat": 4,
 "nbformat_minor": 4
}
