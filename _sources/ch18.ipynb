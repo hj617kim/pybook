{
 "cells": [
  {
   "cell_type": "markdown",
   "metadata": {
    "id": "s2_vYooAyvOY"
   },
   "source": [
    "# 판다스(Pandas) 3\n"
   ]
  },
  {
   "cell_type": "markdown",
   "metadata": {
    "id": "9W4QNR7HQsfj"
   },
   "source": [
    "여기서는 아래의 내용을 다룬다.\n",
    "* lambda, apply(), transform() 메서드\n",
    "* groupby + apply(), transform() 메서드  \n",
    "    → 결측치(missing data) 처리, 이상치(outlier) 처리\n",
    "* 데이터 시각화\n",
    "  * 상자 그림(box plot)\n"
   ]
  },
  {
   "cell_type": "markdown",
   "metadata": {
    "id": "LYLayVjxR-dX"
   },
   "source": [
    "우선 수업에서 필요한 모듈을 임포트하자."
   ]
  },
  {
   "cell_type": "code",
   "execution_count": 8,
   "metadata": {
    "id": "Hzl7Lg76hYYr"
   },
   "outputs": [],
   "source": [
    "import numpy as np\n",
    "import pandas as pd\n",
    "import matplotlib.pyplot as plt"
   ]
  },
  {
   "cell_type": "markdown",
   "metadata": {
    "id": "RHCS5Kw5y23K"
   },
   "source": [
    "## lambda"
   ]
  },
  {
   "cell_type": "markdown",
   "metadata": {
    "id": "pdZc3q72zLhj"
   },
   "source": [
    "파이썬은 익명함수 또는 lambda 함수라고 하는, 값을 반환하는 단순한 한 문장으로 이루어진 함수를 지원한다. 람다 함수는 데이터 분석에서는 특히 편리한데, 이는 람다함수를 사용하면 코드를 적게 쓰며, 코드도 더 간결해지기 때문이다.   \n",
    "\n",
    "람다 함수는 아래와 같이 사용한다. \n",
    "\n",
    "> lambda *arguments* : *expression*   \n",
    "\n",
    "예제와 함께 살펴보자.\n"
   ]
  },
  {
   "cell_type": "markdown",
   "metadata": {
    "id": "R7-TA3OmS9pK"
   },
   "source": [
    "예를 들어, 숫자를 인자로 받아 5를 더한 값을 반환하는 함수는 아래와 같이 정의할 수 있다. "
   ]
  },
  {
   "cell_type": "code",
   "execution_count": null,
   "metadata": {
    "id": "OJLW5P-vS7Ji"
   },
   "outputs": [],
   "source": [
    "def plus_5(n) :\n",
    "    return n + 5"
   ]
  },
  {
   "cell_type": "code",
   "execution_count": null,
   "metadata": {
    "colab": {
     "base_uri": "https://localhost:8080/"
    },
    "executionInfo": {
     "elapsed": 14,
     "status": "ok",
     "timestamp": 1621658321454,
     "user": {
      "displayName": "HJ Kim",
      "photoUrl": "",
      "userId": "16634276932240017990"
     },
     "user_tz": -540
    },
    "id": "QfnasnLqS6Dt",
    "outputId": "cac00946-cdd1-4e9d-9770-6ce6377e31be"
   },
   "outputs": [
    {
     "name": "stdout",
     "output_type": "stream",
     "text": [
      "15\n",
      "12\n"
     ]
    }
   ],
   "source": [
    "print(plus_5(10)) #15\n",
    "print(plus_5(7))  #12"
   ]
  },
  {
   "cell_type": "markdown",
   "metadata": {
    "id": "I8aPtmbDTfNb"
   },
   "source": [
    "람다 함수를 사용하면, 아래와 같이 코드를 작성할 수 있다. "
   ]
  },
  {
   "cell_type": "code",
   "execution_count": null,
   "metadata": {
    "colab": {
     "base_uri": "https://localhost:8080/"
    },
    "executionInfo": {
     "elapsed": 250,
     "status": "ok",
     "timestamp": 1621658323217,
     "user": {
      "displayName": "HJ Kim",
      "photoUrl": "",
      "userId": "16634276932240017990"
     },
     "user_tz": -540
    },
    "id": "gkFBiG47y7tg",
    "outputId": "0885a449-ed76-480f-ed1e-b6041e44efa3"
   },
   "outputs": [
    {
     "name": "stdout",
     "output_type": "stream",
     "text": [
      "15\n",
      "12\n"
     ]
    }
   ],
   "source": [
    "x = lambda a : a + 5\n",
    "print(x(10)) #15\n",
    "print(x(7)) #12"
   ]
  },
  {
   "cell_type": "markdown",
   "metadata": {
    "id": "BIkvdx8VMjTk"
   },
   "source": [
    "두 개의 argument의 곱을 리턴하는 코드는 아래와 같다. "
   ]
  },
  {
   "cell_type": "code",
   "execution_count": null,
   "metadata": {
    "colab": {
     "base_uri": "https://localhost:8080/"
    },
    "executionInfo": {
     "elapsed": 255,
     "status": "ok",
     "timestamp": 1621658324563,
     "user": {
      "displayName": "HJ Kim",
      "photoUrl": "",
      "userId": "16634276932240017990"
     },
     "user_tz": -540
    },
    "id": "xM03ZzcFzZvl",
    "outputId": "655afef1-9218-4dfd-876b-c93d5f28fba4"
   },
   "outputs": [
    {
     "name": "stdout",
     "output_type": "stream",
     "text": [
      "21\n"
     ]
    }
   ],
   "source": [
    "x = lambda a, b : a * b\n",
    "print(x(3, 7))  #21"
   ]
  },
  {
   "cell_type": "markdown",
   "metadata": {
    "id": "7LCL4SDkT-Vm"
   },
   "source": [
    "**map() 함수**  \n",
    "\n",
    "> `map(func, iterable)`  \n",
    "\n",
    "`map()`은 내장함수로, `iterable`의 각 항목에 `func`를 실행한 결과를 묶어서 돌려준다.\n",
    "\n",
    "* `iterable`은 반복 가능한 객체로, 예를 들어, 리스트, 튜플 등을 말한다. \n",
    "* `func`은 `iterable`에 실행할 함수다.\n",
    "\n",
    "예를 들어, 두 정수를 입력받아, 두 정수의 합을 출력하는 코드를 작성할 때 `map()`를 사용할 수 있다(강의노트5 [입력과 출력] 참고).\n",
    "\n",
    "```\n",
    "numA, numB = map(int, input(\"두 정수를 콤마(,)로 구분하여 입력하세요 : \").split(\",\"))\n",
    "print(numA, \"+\", numB, \"= \", numA + numB)\n",
    "```"
   ]
  },
  {
   "cell_type": "markdown",
   "metadata": {
    "id": "qWbBfvYLXG5Y"
   },
   "source": [
    "예를 들어, 리스트`[1, 2, 3, 4, 5]`의 각 항목을 제곱한 다음 5를 더한 값을 항목으로 갖는 리스트`[6, 9, 14, 21, 30]`를 만들 때, `map()`함수를 사용할 수 있다. \n"
   ]
  },
  {
   "cell_type": "code",
   "execution_count": null,
   "metadata": {
    "colab": {
     "base_uri": "https://localhost:8080/"
    },
    "executionInfo": {
     "elapsed": 240,
     "status": "ok",
     "timestamp": 1621658326996,
     "user": {
      "displayName": "HJ Kim",
      "photoUrl": "",
      "userId": "16634276932240017990"
     },
     "user_tz": -540
    },
    "id": "xfwvbZa3eXkh",
    "outputId": "885855da-7422-47dd-ea2d-e572727cf9ef"
   },
   "outputs": [
    {
     "data": {
      "text/plain": [
       "[6, 9, 14, 21, 30]"
      ]
     },
     "execution_count": 25,
     "metadata": {
      "tags": []
     },
     "output_type": "execute_result"
    }
   ],
   "source": [
    "a = [1, 2, 3, 4, 5]\n",
    "b = list(map(lambda x : x ** 2 + 5, a))\n",
    "b"
   ]
  },
  {
   "cell_type": "markdown",
   "metadata": {
    "id": "m5Y4frCizjWc"
   },
   "source": [
    "## apply() 메서드\n",
    "\n",
    "`df.apply()` 메서드는 데이터프레임의 행 또는 열을 따라 인자로 입력된 함수를 적용한다. \n",
    "\n",
    "`df.apply()`메서드의 aixs 키워드(default는 axis = 0)는 행을 기준으로 할지, 열을 기준으로 할지를 결정한다.\n",
    "  * axis = 0은 열별로 함수를 적용\n",
    "  * axis = 1은 행별로 함수를 적용"
   ]
  },
  {
   "cell_type": "markdown",
   "metadata": {
    "id": "vJ3dqp0-aXhn"
   },
   "source": [
    "예제를 통해 살펴보자."
   ]
  },
  {
   "cell_type": "code",
   "execution_count": null,
   "metadata": {
    "colab": {
     "base_uri": "https://localhost:8080/",
     "height": 142
    },
    "executionInfo": {
     "elapsed": 236,
     "status": "ok",
     "timestamp": 1621658328426,
     "user": {
      "displayName": "HJ Kim",
      "photoUrl": "",
      "userId": "16634276932240017990"
     },
     "user_tz": -540
    },
    "id": "k8SX4N-lz5U7",
    "outputId": "e03213eb-8273-42f8-aa23-e60271e7f4c5"
   },
   "outputs": [
    {
     "data": {
      "text/html": [
       "<div>\n",
       "<style scoped>\n",
       "    .dataframe tbody tr th:only-of-type {\n",
       "        vertical-align: middle;\n",
       "    }\n",
       "\n",
       "    .dataframe tbody tr th {\n",
       "        vertical-align: top;\n",
       "    }\n",
       "\n",
       "    .dataframe thead th {\n",
       "        text-align: right;\n",
       "    }\n",
       "</style>\n",
       "<table border=\"1\" class=\"dataframe\">\n",
       "  <thead>\n",
       "    <tr style=\"text-align: right;\">\n",
       "      <th></th>\n",
       "      <th>A</th>\n",
       "      <th>B</th>\n",
       "    </tr>\n",
       "  </thead>\n",
       "  <tbody>\n",
       "    <tr>\n",
       "      <th>0</th>\n",
       "      <td>4</td>\n",
       "      <td>9</td>\n",
       "    </tr>\n",
       "    <tr>\n",
       "      <th>1</th>\n",
       "      <td>4</td>\n",
       "      <td>9</td>\n",
       "    </tr>\n",
       "    <tr>\n",
       "      <th>2</th>\n",
       "      <td>4</td>\n",
       "      <td>9</td>\n",
       "    </tr>\n",
       "  </tbody>\n",
       "</table>\n",
       "</div>"
      ],
      "text/plain": [
       "   A  B\n",
       "0  4  9\n",
       "1  4  9\n",
       "2  4  9"
      ]
     },
     "execution_count": 26,
     "metadata": {
      "tags": []
     },
     "output_type": "execute_result"
    }
   ],
   "source": [
    "df = pd.DataFrame([[4, 9]] * 3, columns = ['A', 'B'])\n",
    "df"
   ]
  },
  {
   "cell_type": "markdown",
   "metadata": {
    "id": "C_BNn__zadG8"
   },
   "source": [
    "각 열에 `np.sqrt()` 함수를 적용해보자.  \n",
    "참고) `np.sqrt()`는 제곱근을 반환하는 함수이다.  "
   ]
  },
  {
   "cell_type": "code",
   "execution_count": null,
   "metadata": {
    "colab": {
     "base_uri": "https://localhost:8080/",
     "height": 142
    },
    "executionInfo": {
     "elapsed": 391,
     "status": "ok",
     "timestamp": 1621658330105,
     "user": {
      "displayName": "HJ Kim",
      "photoUrl": "",
      "userId": "16634276932240017990"
     },
     "user_tz": -540
    },
    "id": "DOqvQbbR0BaR",
    "outputId": "d30cb59f-88af-4db7-f84a-ec7f121cbe54"
   },
   "outputs": [
    {
     "data": {
      "text/html": [
       "<div>\n",
       "<style scoped>\n",
       "    .dataframe tbody tr th:only-of-type {\n",
       "        vertical-align: middle;\n",
       "    }\n",
       "\n",
       "    .dataframe tbody tr th {\n",
       "        vertical-align: top;\n",
       "    }\n",
       "\n",
       "    .dataframe thead th {\n",
       "        text-align: right;\n",
       "    }\n",
       "</style>\n",
       "<table border=\"1\" class=\"dataframe\">\n",
       "  <thead>\n",
       "    <tr style=\"text-align: right;\">\n",
       "      <th></th>\n",
       "      <th>A</th>\n",
       "      <th>B</th>\n",
       "    </tr>\n",
       "  </thead>\n",
       "  <tbody>\n",
       "    <tr>\n",
       "      <th>0</th>\n",
       "      <td>2.0</td>\n",
       "      <td>3.0</td>\n",
       "    </tr>\n",
       "    <tr>\n",
       "      <th>1</th>\n",
       "      <td>2.0</td>\n",
       "      <td>3.0</td>\n",
       "    </tr>\n",
       "    <tr>\n",
       "      <th>2</th>\n",
       "      <td>2.0</td>\n",
       "      <td>3.0</td>\n",
       "    </tr>\n",
       "  </tbody>\n",
       "</table>\n",
       "</div>"
      ],
      "text/plain": [
       "     A    B\n",
       "0  2.0  3.0\n",
       "1  2.0  3.0\n",
       "2  2.0  3.0"
      ]
     },
     "execution_count": 27,
     "metadata": {
      "tags": []
     },
     "output_type": "execute_result"
    }
   ],
   "source": [
    "df.apply(np.sqrt)"
   ]
  },
  {
   "cell_type": "markdown",
   "metadata": {
    "id": "lsC6e7vV0Hut"
   },
   "source": [
    "`apply()`메서드를 사용해도 데이터프레임df는 변하지 않는다. "
   ]
  },
  {
   "cell_type": "code",
   "execution_count": null,
   "metadata": {
    "colab": {
     "base_uri": "https://localhost:8080/",
     "height": 142
    },
    "executionInfo": {
     "elapsed": 239,
     "status": "ok",
     "timestamp": 1621658331688,
     "user": {
      "displayName": "HJ Kim",
      "photoUrl": "",
      "userId": "16634276932240017990"
     },
     "user_tz": -540
    },
    "id": "rp7CkVK60GTK",
    "outputId": "da0252ef-1540-4f15-e581-b4891b59e93f"
   },
   "outputs": [
    {
     "data": {
      "text/html": [
       "<div>\n",
       "<style scoped>\n",
       "    .dataframe tbody tr th:only-of-type {\n",
       "        vertical-align: middle;\n",
       "    }\n",
       "\n",
       "    .dataframe tbody tr th {\n",
       "        vertical-align: top;\n",
       "    }\n",
       "\n",
       "    .dataframe thead th {\n",
       "        text-align: right;\n",
       "    }\n",
       "</style>\n",
       "<table border=\"1\" class=\"dataframe\">\n",
       "  <thead>\n",
       "    <tr style=\"text-align: right;\">\n",
       "      <th></th>\n",
       "      <th>A</th>\n",
       "      <th>B</th>\n",
       "    </tr>\n",
       "  </thead>\n",
       "  <tbody>\n",
       "    <tr>\n",
       "      <th>0</th>\n",
       "      <td>4</td>\n",
       "      <td>9</td>\n",
       "    </tr>\n",
       "    <tr>\n",
       "      <th>1</th>\n",
       "      <td>4</td>\n",
       "      <td>9</td>\n",
       "    </tr>\n",
       "    <tr>\n",
       "      <th>2</th>\n",
       "      <td>4</td>\n",
       "      <td>9</td>\n",
       "    </tr>\n",
       "  </tbody>\n",
       "</table>\n",
       "</div>"
      ],
      "text/plain": [
       "   A  B\n",
       "0  4  9\n",
       "1  4  9\n",
       "2  4  9"
      ]
     },
     "execution_count": 28,
     "metadata": {
      "tags": []
     },
     "output_type": "execute_result"
    }
   ],
   "source": [
    "df"
   ]
  },
  {
   "cell_type": "markdown",
   "metadata": {
    "id": "rWhKaXGnauNk"
   },
   "source": [
    "각 열별로 합을 구해보자. 아래는 각 열의 합을 구하기 위해 `np.sum()`을 사용했다. "
   ]
  },
  {
   "cell_type": "code",
   "execution_count": null,
   "metadata": {
    "colab": {
     "base_uri": "https://localhost:8080/"
    },
    "executionInfo": {
     "elapsed": 286,
     "status": "ok",
     "timestamp": 1621658334237,
     "user": {
      "displayName": "HJ Kim",
      "photoUrl": "",
      "userId": "16634276932240017990"
     },
     "user_tz": -540
    },
    "id": "WLWTQi9R0KIK",
    "outputId": "30ad1f26-614d-4930-9de8-bbfa16ad7e6d"
   },
   "outputs": [
    {
     "data": {
      "text/plain": [
       "A    12\n",
       "B    27\n",
       "dtype: int64"
      ]
     },
     "execution_count": 29,
     "metadata": {
      "tags": []
     },
     "output_type": "execute_result"
    }
   ],
   "source": [
    "df.apply(np.sum, axis = 0) #axis의 default 값은 0"
   ]
  },
  {
   "cell_type": "markdown",
   "metadata": {
    "id": "cOEI4UGFhPAe"
   },
   "source": [
    "그러면 열 단위로 집계된 결과를 확인할 수 있다. "
   ]
  },
  {
   "cell_type": "markdown",
   "metadata": {
    "id": "or8Ozw2ja3rM"
   },
   "source": [
    "이번에는 각 행별로 합을 구해보자. 각 행별로 `np.sum()`함수를 적용하기 위해 axis = 1로 둔다. "
   ]
  },
  {
   "cell_type": "code",
   "execution_count": null,
   "metadata": {
    "colab": {
     "base_uri": "https://localhost:8080/"
    },
    "executionInfo": {
     "elapsed": 241,
     "status": "ok",
     "timestamp": 1621658336443,
     "user": {
      "displayName": "HJ Kim",
      "photoUrl": "",
      "userId": "16634276932240017990"
     },
     "user_tz": -540
    },
    "id": "xKXqCiFc0OfS",
    "outputId": "a021d6dc-e19f-4be2-8a43-c4085d9a4eec"
   },
   "outputs": [
    {
     "data": {
      "text/plain": [
       "0    13\n",
       "1    13\n",
       "2    13\n",
       "dtype: int64"
      ]
     },
     "execution_count": 30,
     "metadata": {
      "tags": []
     },
     "output_type": "execute_result"
    }
   ],
   "source": [
    "df.apply(np.sum, axis = 1)"
   ]
  },
  {
   "cell_type": "markdown",
   "metadata": {
    "id": "xRmkIALyfv-_"
   },
   "source": [
    "`apply()`메서드의 인자로 람다함수를 사용해보자. 아래는 10을 더한 값을 반환하는 함수를 적용한 코드이다. "
   ]
  },
  {
   "cell_type": "code",
   "execution_count": null,
   "metadata": {
    "colab": {
     "base_uri": "https://localhost:8080/",
     "height": 142
    },
    "executionInfo": {
     "elapsed": 251,
     "status": "ok",
     "timestamp": 1621658338098,
     "user": {
      "displayName": "HJ Kim",
      "photoUrl": "",
      "userId": "16634276932240017990"
     },
     "user_tz": -540
    },
    "id": "NbtaG0PB0Yde",
    "outputId": "27b04315-9714-433c-a3cd-4a3a0bce4cd2"
   },
   "outputs": [
    {
     "data": {
      "text/html": [
       "<div>\n",
       "<style scoped>\n",
       "    .dataframe tbody tr th:only-of-type {\n",
       "        vertical-align: middle;\n",
       "    }\n",
       "\n",
       "    .dataframe tbody tr th {\n",
       "        vertical-align: top;\n",
       "    }\n",
       "\n",
       "    .dataframe thead th {\n",
       "        text-align: right;\n",
       "    }\n",
       "</style>\n",
       "<table border=\"1\" class=\"dataframe\">\n",
       "  <thead>\n",
       "    <tr style=\"text-align: right;\">\n",
       "      <th></th>\n",
       "      <th>A</th>\n",
       "      <th>B</th>\n",
       "    </tr>\n",
       "  </thead>\n",
       "  <tbody>\n",
       "    <tr>\n",
       "      <th>0</th>\n",
       "      <td>14</td>\n",
       "      <td>19</td>\n",
       "    </tr>\n",
       "    <tr>\n",
       "      <th>1</th>\n",
       "      <td>14</td>\n",
       "      <td>19</td>\n",
       "    </tr>\n",
       "    <tr>\n",
       "      <th>2</th>\n",
       "      <td>14</td>\n",
       "      <td>19</td>\n",
       "    </tr>\n",
       "  </tbody>\n",
       "</table>\n",
       "</div>"
      ],
      "text/plain": [
       "    A   B\n",
       "0  14  19\n",
       "1  14  19\n",
       "2  14  19"
      ]
     },
     "execution_count": 31,
     "metadata": {
      "tags": []
     },
     "output_type": "execute_result"
    }
   ],
   "source": [
    "df.apply(lambda x : x + 10)"
   ]
  },
  {
   "cell_type": "markdown",
   "metadata": {
    "id": "pDrKDtXzgR1_"
   },
   "source": [
    "물론, 다음과 같이 실제 함수를 정의한 다음 `apply()`메서드의 인자로 사용할 수도 있다.  \n",
    "하지만 람다함수를 사용하면 실제 함수를 사용할 때보다 더 적게, 더 간결하게 코드를 작성할 수 있다. "
   ]
  },
  {
   "cell_type": "code",
   "execution_count": null,
   "metadata": {
    "id": "p7eDPKLYgXVx"
   },
   "outputs": [],
   "source": [
    "def plus_10(n) :\n",
    "    return n + 10"
   ]
  },
  {
   "cell_type": "code",
   "execution_count": null,
   "metadata": {
    "colab": {
     "base_uri": "https://localhost:8080/",
     "height": 142
    },
    "executionInfo": {
     "elapsed": 8,
     "status": "ok",
     "timestamp": 1621658341062,
     "user": {
      "displayName": "HJ Kim",
      "photoUrl": "",
      "userId": "16634276932240017990"
     },
     "user_tz": -540
    },
    "id": "mKRgdLKmgb4D",
    "outputId": "b9de5237-0e3b-4f38-8974-444949dcb7f4"
   },
   "outputs": [
    {
     "data": {
      "text/html": [
       "<div>\n",
       "<style scoped>\n",
       "    .dataframe tbody tr th:only-of-type {\n",
       "        vertical-align: middle;\n",
       "    }\n",
       "\n",
       "    .dataframe tbody tr th {\n",
       "        vertical-align: top;\n",
       "    }\n",
       "\n",
       "    .dataframe thead th {\n",
       "        text-align: right;\n",
       "    }\n",
       "</style>\n",
       "<table border=\"1\" class=\"dataframe\">\n",
       "  <thead>\n",
       "    <tr style=\"text-align: right;\">\n",
       "      <th></th>\n",
       "      <th>A</th>\n",
       "      <th>B</th>\n",
       "    </tr>\n",
       "  </thead>\n",
       "  <tbody>\n",
       "    <tr>\n",
       "      <th>0</th>\n",
       "      <td>14</td>\n",
       "      <td>19</td>\n",
       "    </tr>\n",
       "    <tr>\n",
       "      <th>1</th>\n",
       "      <td>14</td>\n",
       "      <td>19</td>\n",
       "    </tr>\n",
       "    <tr>\n",
       "      <th>2</th>\n",
       "      <td>14</td>\n",
       "      <td>19</td>\n",
       "    </tr>\n",
       "  </tbody>\n",
       "</table>\n",
       "</div>"
      ],
      "text/plain": [
       "    A   B\n",
       "0  14  19\n",
       "1  14  19\n",
       "2  14  19"
      ]
     },
     "execution_count": 33,
     "metadata": {
      "tags": []
     },
     "output_type": "execute_result"
    }
   ],
   "source": [
    "df.apply(plus_10)"
   ]
  },
  {
   "cell_type": "markdown",
   "metadata": {
    "id": "gsW3YEVDgFNT"
   },
   "source": [
    "데이터프레임df의 A열에 100을 더한 값을 반환하는 함수를 적용해보자. "
   ]
  },
  {
   "cell_type": "code",
   "execution_count": null,
   "metadata": {
    "colab": {
     "base_uri": "https://localhost:8080/"
    },
    "executionInfo": {
     "elapsed": 343,
     "status": "ok",
     "timestamp": 1621658342662,
     "user": {
      "displayName": "HJ Kim",
      "photoUrl": "",
      "userId": "16634276932240017990"
     },
     "user_tz": -540
    },
    "id": "4af-5EfW0wxn",
    "outputId": "288bf215-1981-4349-8faf-46bcbd1de546"
   },
   "outputs": [
    {
     "data": {
      "text/plain": [
       "0    104\n",
       "1    104\n",
       "2    104\n",
       "Name: A, dtype: int64"
      ]
     },
     "execution_count": 34,
     "metadata": {
      "tags": []
     },
     "output_type": "execute_result"
    }
   ],
   "source": [
    "df.A.apply(lambda x : x + 100)"
   ]
  },
  {
   "cell_type": "markdown",
   "metadata": {
    "id": "ZvPQ_uAjctO_"
   },
   "source": [
    "예제) 데이터프레임df의 각 행별로 최솟값을 구하는 코드를 작성해보자.  \n",
    "최솟값은 `min()`으로 구할 수 있다.  "
   ]
  },
  {
   "cell_type": "code",
   "execution_count": null,
   "metadata": {
    "colab": {
     "base_uri": "https://localhost:8080/"
    },
    "executionInfo": {
     "elapsed": 251,
     "status": "ok",
     "timestamp": 1621658344209,
     "user": {
      "displayName": "HJ Kim",
      "photoUrl": "",
      "userId": "16634276932240017990"
     },
     "user_tz": -540
    },
    "id": "Y-A6z-tAVWm5",
    "outputId": "f1c39716-94a2-4bdf-c84a-d83d1469bab1"
   },
   "outputs": [
    {
     "data": {
      "text/plain": [
       "0    4\n",
       "1    4\n",
       "2    4\n",
       "dtype: int64"
      ]
     },
     "execution_count": 35,
     "metadata": {
      "tags": []
     },
     "output_type": "execute_result"
    }
   ],
   "source": [
    "df.apply(lambda x : x.min(), axis = 1)"
   ]
  },
  {
   "cell_type": "markdown",
   "metadata": {
    "id": "SiV-lIigXrrX"
   },
   "source": [
    "## transform() 메서드  \n",
    "\n",
    "`df.transform()` 메서드는 인자로 입력된 함수에 의해 변환된 값을 가진 데이터프레임을 만든다.  \n",
    "* aixs = 0 은 열별로 함수를 적용\n",
    "* axis = 1 은 행별로 함수를 적용  \n",
    "\n",
    "예제를 통해 살펴보자.\n"
   ]
  },
  {
   "cell_type": "code",
   "execution_count": null,
   "metadata": {
    "colab": {
     "base_uri": "https://localhost:8080/",
     "height": 142
    },
    "executionInfo": {
     "elapsed": 240,
     "status": "ok",
     "timestamp": 1621658384570,
     "user": {
      "displayName": "HJ Kim",
      "photoUrl": "",
      "userId": "16634276932240017990"
     },
     "user_tz": -540
    },
    "id": "xzynqhPNXxZh",
    "outputId": "d0c25ff2-4682-47fe-8df8-f0c56a6d12f5"
   },
   "outputs": [
    {
     "data": {
      "text/html": [
       "<div>\n",
       "<style scoped>\n",
       "    .dataframe tbody tr th:only-of-type {\n",
       "        vertical-align: middle;\n",
       "    }\n",
       "\n",
       "    .dataframe tbody tr th {\n",
       "        vertical-align: top;\n",
       "    }\n",
       "\n",
       "    .dataframe thead th {\n",
       "        text-align: right;\n",
       "    }\n",
       "</style>\n",
       "<table border=\"1\" class=\"dataframe\">\n",
       "  <thead>\n",
       "    <tr style=\"text-align: right;\">\n",
       "      <th></th>\n",
       "      <th>A</th>\n",
       "      <th>B</th>\n",
       "    </tr>\n",
       "  </thead>\n",
       "  <tbody>\n",
       "    <tr>\n",
       "      <th>0</th>\n",
       "      <td>4</td>\n",
       "      <td>9</td>\n",
       "    </tr>\n",
       "    <tr>\n",
       "      <th>1</th>\n",
       "      <td>4</td>\n",
       "      <td>9</td>\n",
       "    </tr>\n",
       "    <tr>\n",
       "      <th>2</th>\n",
       "      <td>4</td>\n",
       "      <td>9</td>\n",
       "    </tr>\n",
       "  </tbody>\n",
       "</table>\n",
       "</div>"
      ],
      "text/plain": [
       "   A  B\n",
       "0  4  9\n",
       "1  4  9\n",
       "2  4  9"
      ]
     },
     "execution_count": 36,
     "metadata": {
      "tags": []
     },
     "output_type": "execute_result"
    }
   ],
   "source": [
    "df"
   ]
  },
  {
   "cell_type": "markdown",
   "metadata": {
    "id": "gOAFRpSqcV7d"
   },
   "source": [
    "데이터프레임 df의 모양(shape)은 (3, 2)이다."
   ]
  },
  {
   "cell_type": "code",
   "execution_count": null,
   "metadata": {
    "colab": {
     "base_uri": "https://localhost:8080/"
    },
    "executionInfo": {
     "elapsed": 244,
     "status": "ok",
     "timestamp": 1621659571644,
     "user": {
      "displayName": "HJ Kim",
      "photoUrl": "",
      "userId": "16634276932240017990"
     },
     "user_tz": -540
    },
    "id": "abvmxjRBcUXc",
    "outputId": "538fc7f1-860e-4d9d-da7e-b34be166a762"
   },
   "outputs": [
    {
     "data": {
      "text/plain": [
       "(3, 2)"
      ]
     },
     "execution_count": 54,
     "metadata": {
      "tags": []
     },
     "output_type": "execute_result"
    }
   ],
   "source": [
    "df.shape"
   ]
  },
  {
   "cell_type": "markdown",
   "metadata": {
    "id": "ewVplLPacb4G"
   },
   "source": [
    "데이터프레임 df에 `np.sqrt`를 적용하는 코드는 아래와 같다. "
   ]
  },
  {
   "cell_type": "code",
   "execution_count": null,
   "metadata": {
    "colab": {
     "base_uri": "https://localhost:8080/",
     "height": 142
    },
    "executionInfo": {
     "elapsed": 229,
     "status": "ok",
     "timestamp": 1621658412049,
     "user": {
      "displayName": "HJ Kim",
      "photoUrl": "",
      "userId": "16634276932240017990"
     },
     "user_tz": -540
    },
    "id": "C43bjzlxX0WJ",
    "outputId": "c89c439a-50c7-45c0-c92f-f52ff0d7d107"
   },
   "outputs": [
    {
     "data": {
      "text/html": [
       "<div>\n",
       "<style scoped>\n",
       "    .dataframe tbody tr th:only-of-type {\n",
       "        vertical-align: middle;\n",
       "    }\n",
       "\n",
       "    .dataframe tbody tr th {\n",
       "        vertical-align: top;\n",
       "    }\n",
       "\n",
       "    .dataframe thead th {\n",
       "        text-align: right;\n",
       "    }\n",
       "</style>\n",
       "<table border=\"1\" class=\"dataframe\">\n",
       "  <thead>\n",
       "    <tr style=\"text-align: right;\">\n",
       "      <th></th>\n",
       "      <th>A</th>\n",
       "      <th>B</th>\n",
       "    </tr>\n",
       "  </thead>\n",
       "  <tbody>\n",
       "    <tr>\n",
       "      <th>0</th>\n",
       "      <td>2.0</td>\n",
       "      <td>3.0</td>\n",
       "    </tr>\n",
       "    <tr>\n",
       "      <th>1</th>\n",
       "      <td>2.0</td>\n",
       "      <td>3.0</td>\n",
       "    </tr>\n",
       "    <tr>\n",
       "      <th>2</th>\n",
       "      <td>2.0</td>\n",
       "      <td>3.0</td>\n",
       "    </tr>\n",
       "  </tbody>\n",
       "</table>\n",
       "</div>"
      ],
      "text/plain": [
       "     A    B\n",
       "0  2.0  3.0\n",
       "1  2.0  3.0\n",
       "2  2.0  3.0"
      ]
     },
     "execution_count": 38,
     "metadata": {
      "tags": []
     },
     "output_type": "execute_result"
    }
   ],
   "source": [
    "df.transform(np.sqrt) #모양(shape)은 df와 같다."
   ]
  },
  {
   "cell_type": "markdown",
   "metadata": {
    "id": "X6JCfVLxboS_"
   },
   "source": [
    "각 열별로 `np.sqrt`와 `np.exp`를 적용하는 코드는 아래와 같다. "
   ]
  },
  {
   "cell_type": "code",
   "execution_count": null,
   "metadata": {
    "colab": {
     "base_uri": "https://localhost:8080/",
     "height": 173
    },
    "executionInfo": {
     "elapsed": 232,
     "status": "ok",
     "timestamp": 1621659375910,
     "user": {
      "displayName": "HJ Kim",
      "photoUrl": "",
      "userId": "16634276932240017990"
     },
     "user_tz": -540
    },
    "id": "EQ6pPo3oafKQ",
    "outputId": "45c37ec2-976d-4f44-c351-996ac31536b5"
   },
   "outputs": [
    {
     "data": {
      "text/html": [
       "<div>\n",
       "<style scoped>\n",
       "    .dataframe tbody tr th:only-of-type {\n",
       "        vertical-align: middle;\n",
       "    }\n",
       "\n",
       "    .dataframe tbody tr th {\n",
       "        vertical-align: top;\n",
       "    }\n",
       "\n",
       "    .dataframe thead tr th {\n",
       "        text-align: left;\n",
       "    }\n",
       "</style>\n",
       "<table border=\"1\" class=\"dataframe\">\n",
       "  <thead>\n",
       "    <tr>\n",
       "      <th></th>\n",
       "      <th colspan=\"2\" halign=\"left\">A</th>\n",
       "      <th colspan=\"2\" halign=\"left\">B</th>\n",
       "    </tr>\n",
       "    <tr>\n",
       "      <th></th>\n",
       "      <th>sqrt</th>\n",
       "      <th>exp</th>\n",
       "      <th>sqrt</th>\n",
       "      <th>exp</th>\n",
       "    </tr>\n",
       "  </thead>\n",
       "  <tbody>\n",
       "    <tr>\n",
       "      <th>0</th>\n",
       "      <td>2.0</td>\n",
       "      <td>54.59815</td>\n",
       "      <td>3.0</td>\n",
       "      <td>8103.083928</td>\n",
       "    </tr>\n",
       "    <tr>\n",
       "      <th>1</th>\n",
       "      <td>2.0</td>\n",
       "      <td>54.59815</td>\n",
       "      <td>3.0</td>\n",
       "      <td>8103.083928</td>\n",
       "    </tr>\n",
       "    <tr>\n",
       "      <th>2</th>\n",
       "      <td>2.0</td>\n",
       "      <td>54.59815</td>\n",
       "      <td>3.0</td>\n",
       "      <td>8103.083928</td>\n",
       "    </tr>\n",
       "  </tbody>\n",
       "</table>\n",
       "</div>"
      ],
      "text/plain": [
       "     A              B             \n",
       "  sqrt       exp sqrt          exp\n",
       "0  2.0  54.59815  3.0  8103.083928\n",
       "1  2.0  54.59815  3.0  8103.083928\n",
       "2  2.0  54.59815  3.0  8103.083928"
      ]
     },
     "execution_count": 51,
     "metadata": {
      "tags": []
     },
     "output_type": "execute_result"
    }
   ],
   "source": [
    "df.transform([np.sqrt, np.exp], axis = 0) "
   ]
  },
  {
   "cell_type": "markdown",
   "metadata": {
    "id": "ED1AvHbucKLc"
   },
   "source": [
    "생성된 데이터프레임의 모양(shape)은 (3, 4)이다. "
   ]
  },
  {
   "cell_type": "code",
   "execution_count": null,
   "metadata": {
    "colab": {
     "base_uri": "https://localhost:8080/"
    },
    "executionInfo": {
     "elapsed": 240,
     "status": "ok",
     "timestamp": 1621659431350,
     "user": {
      "displayName": "HJ Kim",
      "photoUrl": "",
      "userId": "16634276932240017990"
     },
     "user_tz": -540
    },
    "id": "vW0B_btEbx11",
    "outputId": "16fd3ed1-5fd8-41f0-da91-375f95e3e3cf"
   },
   "outputs": [
    {
     "data": {
      "text/plain": [
       "(3, 4)"
      ]
     },
     "execution_count": 52,
     "metadata": {
      "tags": []
     },
     "output_type": "execute_result"
    }
   ],
   "source": [
    "df.transform([np.sqrt, np.exp], axis = 0).shape  #df와 행의 길이가 같다. "
   ]
  },
  {
   "cell_type": "markdown",
   "metadata": {
    "id": "TLV-31Ssb6xi"
   },
   "source": [
    "각 행별로 `np.sqrt`와 `np.exp`를 적용하는 코드는 아래와 같다. \n",
    "\n",
    "\n",
    "\n"
   ]
  },
  {
   "cell_type": "code",
   "execution_count": null,
   "metadata": {
    "colab": {
     "base_uri": "https://localhost:8080/",
     "height": 235
    },
    "executionInfo": {
     "elapsed": 246,
     "status": "ok",
     "timestamp": 1621659132638,
     "user": {
      "displayName": "HJ Kim",
      "photoUrl": "",
      "userId": "16634276932240017990"
     },
     "user_tz": -540
    },
    "id": "n63WI-QWaFER",
    "outputId": "cf201c82-a663-4c21-a3a6-3fcc107019b8"
   },
   "outputs": [
    {
     "data": {
      "text/html": [
       "<div>\n",
       "<style scoped>\n",
       "    .dataframe tbody tr th:only-of-type {\n",
       "        vertical-align: middle;\n",
       "    }\n",
       "\n",
       "    .dataframe tbody tr th {\n",
       "        vertical-align: top;\n",
       "    }\n",
       "\n",
       "    .dataframe thead th {\n",
       "        text-align: right;\n",
       "    }\n",
       "</style>\n",
       "<table border=\"1\" class=\"dataframe\">\n",
       "  <thead>\n",
       "    <tr style=\"text-align: right;\">\n",
       "      <th></th>\n",
       "      <th></th>\n",
       "      <th>A</th>\n",
       "      <th>B</th>\n",
       "    </tr>\n",
       "  </thead>\n",
       "  <tbody>\n",
       "    <tr>\n",
       "      <th rowspan=\"2\" valign=\"top\">0</th>\n",
       "      <th>sqrt</th>\n",
       "      <td>2.00000</td>\n",
       "      <td>3.000000</td>\n",
       "    </tr>\n",
       "    <tr>\n",
       "      <th>exp</th>\n",
       "      <td>54.59815</td>\n",
       "      <td>8103.083928</td>\n",
       "    </tr>\n",
       "    <tr>\n",
       "      <th rowspan=\"2\" valign=\"top\">1</th>\n",
       "      <th>sqrt</th>\n",
       "      <td>2.00000</td>\n",
       "      <td>3.000000</td>\n",
       "    </tr>\n",
       "    <tr>\n",
       "      <th>exp</th>\n",
       "      <td>54.59815</td>\n",
       "      <td>8103.083928</td>\n",
       "    </tr>\n",
       "    <tr>\n",
       "      <th rowspan=\"2\" valign=\"top\">2</th>\n",
       "      <th>sqrt</th>\n",
       "      <td>2.00000</td>\n",
       "      <td>3.000000</td>\n",
       "    </tr>\n",
       "    <tr>\n",
       "      <th>exp</th>\n",
       "      <td>54.59815</td>\n",
       "      <td>8103.083928</td>\n",
       "    </tr>\n",
       "  </tbody>\n",
       "</table>\n",
       "</div>"
      ],
      "text/plain": [
       "               A            B\n",
       "0 sqrt   2.00000     3.000000\n",
       "  exp   54.59815  8103.083928\n",
       "1 sqrt   2.00000     3.000000\n",
       "  exp   54.59815  8103.083928\n",
       "2 sqrt   2.00000     3.000000\n",
       "  exp   54.59815  8103.083928"
      ]
     },
     "execution_count": 48,
     "metadata": {
      "tags": []
     },
     "output_type": "execute_result"
    }
   ],
   "source": [
    "df.transform([np.sqrt, np.exp], axis = 1)"
   ]
  },
  {
   "cell_type": "markdown",
   "metadata": {
    "id": "5j1_FkqvcFTj"
   },
   "source": [
    "생성된 데이터프레임의 모양(shape)은 (6, 2)이다. "
   ]
  },
  {
   "cell_type": "code",
   "execution_count": null,
   "metadata": {
    "colab": {
     "base_uri": "https://localhost:8080/"
    },
    "executionInfo": {
     "elapsed": 233,
     "status": "ok",
     "timestamp": 1621659500016,
     "user": {
      "displayName": "HJ Kim",
      "photoUrl": "",
      "userId": "16634276932240017990"
     },
     "user_tz": -540
    },
    "id": "Uj5q7DJTcCG7",
    "outputId": "1e6ed049-caf1-45f9-e18b-4c054506b0cb"
   },
   "outputs": [
    {
     "data": {
      "text/plain": [
       "(6, 2)"
      ]
     },
     "execution_count": 53,
     "metadata": {
      "tags": []
     },
     "output_type": "execute_result"
    }
   ],
   "source": [
    "df.transform([np.sqrt, np.exp], axis = 1).shape  #df와 열의 길이가 같다. "
   ]
  },
  {
   "cell_type": "markdown",
   "metadata": {
    "id": "4RAtyXqyeB69"
   },
   "source": [
    "df의 A열에 5를 더한 값을 반환하는 함수를 적용하면 아래와 같다."
   ]
  },
  {
   "cell_type": "code",
   "execution_count": null,
   "metadata": {
    "colab": {
     "base_uri": "https://localhost:8080/"
    },
    "executionInfo": {
     "elapsed": 293,
     "status": "ok",
     "timestamp": 1621658556575,
     "user": {
      "displayName": "HJ Kim",
      "photoUrl": "",
      "userId": "16634276932240017990"
     },
     "user_tz": -540
    },
    "id": "6WZgSJugYX_r",
    "outputId": "9e64c853-2f3c-44ce-b357-ecd5936a6735"
   },
   "outputs": [
    {
     "data": {
      "text/plain": [
       "0    9\n",
       "1    9\n",
       "2    9\n",
       "Name: A, dtype: int64"
      ]
     },
     "execution_count": 41,
     "metadata": {
      "tags": []
     },
     "output_type": "execute_result"
    }
   ],
   "source": [
    "df.A.transform(plus_5)"
   ]
  },
  {
   "cell_type": "markdown",
   "metadata": {
    "id": "fbrHyEFjYoTR"
   },
   "source": [
    "주의) `apply()`와 `transform()`은 다르다. 예를 들어, `transform()`은 집계된 결과를 만들지 못한다.  \n",
    "아래와 같이 `transform()` 메서드를 이용하여 각 열별 합을 구하려고 하면 오류가 발생한다.  "
   ]
  },
  {
   "cell_type": "markdown",
   "metadata": {},
   "source": [
    "```python\n",
    ">>> df.transform(np.sum)\n",
    "---------------------------------------------------------------------------\n",
    "ValueError                                Traceback (most recent call last)\n",
    "<ipython-input-40-7d77bb905920> in <module>()\n",
    "----> 1 df.transform(np.sum)\n",
    "\n",
    "/usr/local/lib/python3.7/dist-packages/pandas/core/frame.py in transform(self, func, axis, *args, **kwargs)\n",
    "   7402         if axis == 1:\n",
    "   7403             return self.T.transform(func, *args, **kwargs).T\n",
    "-> 7404         return super().transform(func, *args, **kwargs)\n",
    "   7405 \n",
    "   7406     def apply(self, func, axis=0, raw=False, result_type=None, args=(), **kwds):\n",
    "\n",
    "/usr/local/lib/python3.7/dist-packages/pandas/core/generic.py in transform(self, func, *args, **kwargs)\n",
    "  10676         result = self.agg(func, *args, **kwargs)\n",
    "  10677         if is_scalar(result) or len(result) != len(self):\n",
    "> 10678             raise ValueError(\"transforms cannot produce aggregated results\")\n",
    "  10679 \n",
    "  10680         return result\n",
    "\n",
    "ValueError: transforms cannot produce aggregated results\n",
    "```"
   ]
  },
  {
   "cell_type": "markdown",
   "metadata": {
    "id": "6Qxzs9C3haA4"
   },
   "source": [
    "## 그룹 연산\n",
    "\n",
    "보통 그룹 연산은 '분할-적용-결합(split-apply-combine)'의 과정으로, 판다스에서는 데이터프레임을 자연스럽게 나누어 사용할 수 있는 `groupby`라는 방법을 제공한다.   \n",
    "\n",
    "그룹 연산의 예시는 아래 그림과 같다. \n",
    "\n",
    "<div align=\"center\"><img src=\"https://raw.githubusercontent.com/hj617kim/pybook/master/images/ch18/gp01.png\" style=\"width:700px;\"></div>  "
   ]
  },
  {
   "cell_type": "markdown",
   "metadata": {
    "id": "viVwOQsp2fJv"
   },
   "source": [
    "여기서는 다양한 그룹 연산을 수행할 수 있는 `apply()`와 `transfrom()` 메서드를 예제와 함께 살펴보자.  \n",
    "\n",
    "* `apply()` : 데이터프레임의 행 또는 열을 따라 인자로 입력된 함수를 적용한다. \n",
    "* `transform()` : 인자로 입력된 함수에 의해 변환된 값을 가진 데이터프레임을 만든다. "
   ]
  },
  {
   "cell_type": "code",
   "execution_count": null,
   "metadata": {
    "colab": {
     "base_uri": "https://localhost:8080/",
     "height": 328
    },
    "executionInfo": {
     "elapsed": 235,
     "status": "ok",
     "timestamp": 1621649746100,
     "user": {
      "displayName": "HJ Kim",
      "photoUrl": "",
      "userId": "16634276932240017990"
     },
     "user_tz": -540
    },
    "id": "wOpPEvathcg9",
    "outputId": "deab0d88-3b24-4709-e86c-dc88df936a81"
   },
   "outputs": [
    {
     "data": {
      "text/html": [
       "<div>\n",
       "<style scoped>\n",
       "    .dataframe tbody tr th:only-of-type {\n",
       "        vertical-align: middle;\n",
       "    }\n",
       "\n",
       "    .dataframe tbody tr th {\n",
       "        vertical-align: top;\n",
       "    }\n",
       "\n",
       "    .dataframe thead th {\n",
       "        text-align: right;\n",
       "    }\n",
       "</style>\n",
       "<table border=\"1\" class=\"dataframe\">\n",
       "  <thead>\n",
       "    <tr style=\"text-align: right;\">\n",
       "      <th></th>\n",
       "      <th>key</th>\n",
       "      <th>data1</th>\n",
       "      <th>data2</th>\n",
       "    </tr>\n",
       "  </thead>\n",
       "  <tbody>\n",
       "    <tr>\n",
       "      <th>0</th>\n",
       "      <td>A</td>\n",
       "      <td>0</td>\n",
       "      <td>5</td>\n",
       "    </tr>\n",
       "    <tr>\n",
       "      <th>1</th>\n",
       "      <td>B</td>\n",
       "      <td>5</td>\n",
       "      <td>15</td>\n",
       "    </tr>\n",
       "    <tr>\n",
       "      <th>2</th>\n",
       "      <td>C</td>\n",
       "      <td>10</td>\n",
       "      <td>0</td>\n",
       "    </tr>\n",
       "    <tr>\n",
       "      <th>3</th>\n",
       "      <td>A</td>\n",
       "      <td>5</td>\n",
       "      <td>25</td>\n",
       "    </tr>\n",
       "    <tr>\n",
       "      <th>4</th>\n",
       "      <td>B</td>\n",
       "      <td>10</td>\n",
       "      <td>10</td>\n",
       "    </tr>\n",
       "    <tr>\n",
       "      <th>5</th>\n",
       "      <td>C</td>\n",
       "      <td>15</td>\n",
       "      <td>25</td>\n",
       "    </tr>\n",
       "    <tr>\n",
       "      <th>6</th>\n",
       "      <td>A</td>\n",
       "      <td>10</td>\n",
       "      <td>0</td>\n",
       "    </tr>\n",
       "    <tr>\n",
       "      <th>7</th>\n",
       "      <td>B</td>\n",
       "      <td>15</td>\n",
       "      <td>5</td>\n",
       "    </tr>\n",
       "    <tr>\n",
       "      <th>8</th>\n",
       "      <td>C</td>\n",
       "      <td>20</td>\n",
       "      <td>0</td>\n",
       "    </tr>\n",
       "  </tbody>\n",
       "</table>\n",
       "</div>"
      ],
      "text/plain": [
       "  key  data1  data2\n",
       "0   A      0      5\n",
       "1   B      5     15\n",
       "2   C     10      0\n",
       "3   A      5     25\n",
       "4   B     10     10\n",
       "5   C     15     25\n",
       "6   A     10      0\n",
       "7   B     15      5\n",
       "8   C     20      0"
      ]
     },
     "execution_count": 19,
     "metadata": {
      "tags": []
     },
     "output_type": "execute_result"
    }
   ],
   "source": [
    "#데이터프레임 만들기\n",
    "df = pd.DataFrame({'key': ['A', 'B', 'C', 'A', 'B', 'C', 'A', 'B', 'C' ], \n",
    "                       'data1' : [0, 5, 10, 5, 10, 15, 10, 15, 20], \n",
    "                       'data2' : [5, 15, 0, 25, 10, 25, 0, 5, 0]})\n",
    "\n",
    "df"
   ]
  },
  {
   "cell_type": "markdown",
   "metadata": {
    "id": "k-n9of1U7kXp"
   },
   "source": [
    "데이터프레임 `df`를 `key`열을 기준으로 분리하자. 이때 `groupby`를 이용하면 된다. "
   ]
  },
  {
   "cell_type": "code",
   "execution_count": null,
   "metadata": {
    "id": "UkybwfoviRtY"
   },
   "outputs": [],
   "source": [
    "df_gp = df.groupby('key')"
   ]
  },
  {
   "cell_type": "markdown",
   "metadata": {
    "id": "Cj3lDUek8Hdl"
   },
   "source": [
    "`apply()`메서드를 사용하여, 각 그룹별로 합을 구해보자. "
   ]
  },
  {
   "cell_type": "code",
   "execution_count": null,
   "metadata": {
    "colab": {
     "base_uri": "https://localhost:8080/",
     "height": 166
    },
    "executionInfo": {
     "elapsed": 629,
     "status": "ok",
     "timestamp": 1621493405954,
     "user": {
      "displayName": "HJ Kim",
      "photoUrl": "",
      "userId": "16634276932240017990"
     },
     "user_tz": -540
    },
    "id": "d1yH1AuoiWd7",
    "outputId": "fa0eaad2-2dce-40b6-e5fa-3fa6c99afb8c"
   },
   "outputs": [
    {
     "data": {
      "text/html": [
       "<div>\n",
       "<style scoped>\n",
       "    .dataframe tbody tr th:only-of-type {\n",
       "        vertical-align: middle;\n",
       "    }\n",
       "\n",
       "    .dataframe tbody tr th {\n",
       "        vertical-align: top;\n",
       "    }\n",
       "\n",
       "    .dataframe thead th {\n",
       "        text-align: right;\n",
       "    }\n",
       "</style>\n",
       "<table border=\"1\" class=\"dataframe\">\n",
       "  <thead>\n",
       "    <tr style=\"text-align: right;\">\n",
       "      <th></th>\n",
       "      <th>key</th>\n",
       "      <th>data1</th>\n",
       "      <th>data2</th>\n",
       "    </tr>\n",
       "    <tr>\n",
       "      <th>key</th>\n",
       "      <th></th>\n",
       "      <th></th>\n",
       "      <th></th>\n",
       "    </tr>\n",
       "  </thead>\n",
       "  <tbody>\n",
       "    <tr>\n",
       "      <th>A</th>\n",
       "      <td>AAA</td>\n",
       "      <td>15</td>\n",
       "      <td>30</td>\n",
       "    </tr>\n",
       "    <tr>\n",
       "      <th>B</th>\n",
       "      <td>BBB</td>\n",
       "      <td>30</td>\n",
       "      <td>30</td>\n",
       "    </tr>\n",
       "    <tr>\n",
       "      <th>C</th>\n",
       "      <td>CCC</td>\n",
       "      <td>45</td>\n",
       "      <td>25</td>\n",
       "    </tr>\n",
       "  </tbody>\n",
       "</table>\n",
       "</div>"
      ],
      "text/plain": [
       "     key  data1  data2\n",
       "key                   \n",
       "A    AAA     15     30\n",
       "B    BBB     30     30\n",
       "C    CCC     45     25"
      ]
     },
     "execution_count": 24,
     "metadata": {
      "tags": []
     },
     "output_type": "execute_result"
    }
   ],
   "source": [
    "df_gp.apply(np.sum)"
   ]
  },
  {
   "cell_type": "markdown",
   "metadata": {
    "id": "5RjiiQKzmz0B"
   },
   "source": [
    "그러면, 각 그룹별로 `key`, `data1`, `data2`열의 합을 집계된 결과로 얻을 수 있다. "
   ]
  },
  {
   "cell_type": "markdown",
   "metadata": {
    "id": "dDLiZdhOnJNt"
   },
   "source": [
    "`apply()` 메서드의 인자로 람다함수를 사용할 수도 있다.   \n",
    "예를 들어, 각 그룹별로 최댓값을 구하는 코드는 아래와 같다.  "
   ]
  },
  {
   "cell_type": "code",
   "execution_count": null,
   "metadata": {
    "colab": {
     "base_uri": "https://localhost:8080/",
     "height": 166
    },
    "executionInfo": {
     "elapsed": 635,
     "status": "ok",
     "timestamp": 1621493610174,
     "user": {
      "displayName": "HJ Kim",
      "photoUrl": "",
      "userId": "16634276932240017990"
     },
     "user_tz": -540
    },
    "id": "0kyglgziiezR",
    "outputId": "e5c7d318-04e1-4298-d7b4-f4ed0b7fabca"
   },
   "outputs": [
    {
     "data": {
      "text/html": [
       "<div>\n",
       "<style scoped>\n",
       "    .dataframe tbody tr th:only-of-type {\n",
       "        vertical-align: middle;\n",
       "    }\n",
       "\n",
       "    .dataframe tbody tr th {\n",
       "        vertical-align: top;\n",
       "    }\n",
       "\n",
       "    .dataframe thead th {\n",
       "        text-align: right;\n",
       "    }\n",
       "</style>\n",
       "<table border=\"1\" class=\"dataframe\">\n",
       "  <thead>\n",
       "    <tr style=\"text-align: right;\">\n",
       "      <th></th>\n",
       "      <th>data1</th>\n",
       "      <th>data2</th>\n",
       "    </tr>\n",
       "    <tr>\n",
       "      <th>key</th>\n",
       "      <th></th>\n",
       "      <th></th>\n",
       "    </tr>\n",
       "  </thead>\n",
       "  <tbody>\n",
       "    <tr>\n",
       "      <th>A</th>\n",
       "      <td>10</td>\n",
       "      <td>25</td>\n",
       "    </tr>\n",
       "    <tr>\n",
       "      <th>B</th>\n",
       "      <td>15</td>\n",
       "      <td>15</td>\n",
       "    </tr>\n",
       "    <tr>\n",
       "      <th>C</th>\n",
       "      <td>20</td>\n",
       "      <td>25</td>\n",
       "    </tr>\n",
       "  </tbody>\n",
       "</table>\n",
       "</div>"
      ],
      "text/plain": [
       "     data1  data2\n",
       "key              \n",
       "A       10     25\n",
       "B       15     15\n",
       "C       20     25"
      ]
     },
     "execution_count": 28,
     "metadata": {
      "tags": []
     },
     "output_type": "execute_result"
    }
   ],
   "source": [
    "df_gp.apply(lambda x : x.max())"
   ]
  },
  {
   "cell_type": "markdown",
   "metadata": {
    "id": "-xun2G5CnkTY"
   },
   "source": [
    "`apply()` 메서드의 인자로 사용했던 함수를 `transform()` 메서드의 인자로 사용해보자.   \n",
    "`transform()` 메서드를 사용하면, 데이터프레임(또는 시리즈)와 같은 길이의 데이터프레임(또는 시리즈)가 만들어진다. "
   ]
  },
  {
   "cell_type": "code",
   "execution_count": null,
   "metadata": {
    "colab": {
     "base_uri": "https://localhost:8080/",
     "height": 314
    },
    "executionInfo": {
     "elapsed": 644,
     "status": "ok",
     "timestamp": 1621493431895,
     "user": {
      "displayName": "HJ Kim",
      "photoUrl": "",
      "userId": "16634276932240017990"
     },
     "user_tz": -540
    },
    "id": "SbcF11WPiiEo",
    "outputId": "4bf4f1d3-1346-4e3e-a33f-23b30c55ef43"
   },
   "outputs": [
    {
     "data": {
      "text/html": [
       "<div>\n",
       "<style scoped>\n",
       "    .dataframe tbody tr th:only-of-type {\n",
       "        vertical-align: middle;\n",
       "    }\n",
       "\n",
       "    .dataframe tbody tr th {\n",
       "        vertical-align: top;\n",
       "    }\n",
       "\n",
       "    .dataframe thead th {\n",
       "        text-align: right;\n",
       "    }\n",
       "</style>\n",
       "<table border=\"1\" class=\"dataframe\">\n",
       "  <thead>\n",
       "    <tr style=\"text-align: right;\">\n",
       "      <th></th>\n",
       "      <th>data1</th>\n",
       "      <th>data2</th>\n",
       "    </tr>\n",
       "  </thead>\n",
       "  <tbody>\n",
       "    <tr>\n",
       "      <th>0</th>\n",
       "      <td>15</td>\n",
       "      <td>30</td>\n",
       "    </tr>\n",
       "    <tr>\n",
       "      <th>1</th>\n",
       "      <td>30</td>\n",
       "      <td>30</td>\n",
       "    </tr>\n",
       "    <tr>\n",
       "      <th>2</th>\n",
       "      <td>45</td>\n",
       "      <td>25</td>\n",
       "    </tr>\n",
       "    <tr>\n",
       "      <th>3</th>\n",
       "      <td>15</td>\n",
       "      <td>30</td>\n",
       "    </tr>\n",
       "    <tr>\n",
       "      <th>4</th>\n",
       "      <td>30</td>\n",
       "      <td>30</td>\n",
       "    </tr>\n",
       "    <tr>\n",
       "      <th>5</th>\n",
       "      <td>45</td>\n",
       "      <td>25</td>\n",
       "    </tr>\n",
       "    <tr>\n",
       "      <th>6</th>\n",
       "      <td>15</td>\n",
       "      <td>30</td>\n",
       "    </tr>\n",
       "    <tr>\n",
       "      <th>7</th>\n",
       "      <td>30</td>\n",
       "      <td>30</td>\n",
       "    </tr>\n",
       "    <tr>\n",
       "      <th>8</th>\n",
       "      <td>45</td>\n",
       "      <td>25</td>\n",
       "    </tr>\n",
       "  </tbody>\n",
       "</table>\n",
       "</div>"
      ],
      "text/plain": [
       "   data1  data2\n",
       "0     15     30\n",
       "1     30     30\n",
       "2     45     25\n",
       "3     15     30\n",
       "4     30     30\n",
       "5     45     25\n",
       "6     15     30\n",
       "7     30     30\n",
       "8     45     25"
      ]
     },
     "execution_count": 26,
     "metadata": {
      "tags": []
     },
     "output_type": "execute_result"
    }
   ],
   "source": [
    "df_gp.transform(np.sum)"
   ]
  },
  {
   "cell_type": "code",
   "execution_count": null,
   "metadata": {
    "colab": {
     "base_uri": "https://localhost:8080/",
     "height": 314
    },
    "executionInfo": {
     "elapsed": 641,
     "status": "ok",
     "timestamp": 1621493656896,
     "user": {
      "displayName": "HJ Kim",
      "photoUrl": "",
      "userId": "16634276932240017990"
     },
     "user_tz": -540
    },
    "id": "LGiEwqw-jXAC",
    "outputId": "65df4e9e-2626-4847-c84f-fedbf5160cd7"
   },
   "outputs": [],
   "source": [
    "df_gp.transform(lambda x : x.min())"
   ]
  },
  {
   "cell_type": "markdown",
   "metadata": {
    "id": "umAjypIejj5Y"
   },
   "source": [
    "### 결측치 처리\n",
    "예제) 아래와 같은 데이터프레임`df_score`가 있다. 영어 점수의 결측치를 각 그룹(Group)의 평균으로 대체해보자.\n"
   ]
  },
  {
   "cell_type": "code",
   "execution_count": null,
   "metadata": {
    "colab": {
     "base_uri": "https://localhost:8080/",
     "height": 421
    },
    "executionInfo": {
     "elapsed": 237,
     "status": "ok",
     "timestamp": 1621662863325,
     "user": {
      "displayName": "HJ Kim",
      "photoUrl": "",
      "userId": "16634276932240017990"
     },
     "user_tz": -540
    },
    "id": "I59NwuFBlXRI",
    "outputId": "c4cb9d6c-5856-4cac-91d4-fb08bbb2794b"
   },
   "outputs": [
    {
     "data": {
      "text/html": [
       "<div>\n",
       "<style scoped>\n",
       "    .dataframe tbody tr th:only-of-type {\n",
       "        vertical-align: middle;\n",
       "    }\n",
       "\n",
       "    .dataframe tbody tr th {\n",
       "        vertical-align: top;\n",
       "    }\n",
       "\n",
       "    .dataframe thead th {\n",
       "        text-align: right;\n",
       "    }\n",
       "</style>\n",
       "<table border=\"1\" class=\"dataframe\">\n",
       "  <thead>\n",
       "    <tr style=\"text-align: right;\">\n",
       "      <th></th>\n",
       "      <th>Group</th>\n",
       "      <th>Korean</th>\n",
       "      <th>Math</th>\n",
       "      <th>English</th>\n",
       "    </tr>\n",
       "  </thead>\n",
       "  <tbody>\n",
       "    <tr>\n",
       "      <th>0</th>\n",
       "      <td>A</td>\n",
       "      <td>50.0</td>\n",
       "      <td>30.0</td>\n",
       "      <td>45.0</td>\n",
       "    </tr>\n",
       "    <tr>\n",
       "      <th>1</th>\n",
       "      <td>B</td>\n",
       "      <td>90.0</td>\n",
       "      <td>100.0</td>\n",
       "      <td>75.0</td>\n",
       "    </tr>\n",
       "    <tr>\n",
       "      <th>2</th>\n",
       "      <td>C</td>\n",
       "      <td>NaN</td>\n",
       "      <td>95.0</td>\n",
       "      <td>60.0</td>\n",
       "    </tr>\n",
       "    <tr>\n",
       "      <th>3</th>\n",
       "      <td>A</td>\n",
       "      <td>80.0</td>\n",
       "      <td>NaN</td>\n",
       "      <td>NaN</td>\n",
       "    </tr>\n",
       "    <tr>\n",
       "      <th>4</th>\n",
       "      <td>B</td>\n",
       "      <td>20.0</td>\n",
       "      <td>45.0</td>\n",
       "      <td>100.0</td>\n",
       "    </tr>\n",
       "    <tr>\n",
       "      <th>5</th>\n",
       "      <td>C</td>\n",
       "      <td>97.0</td>\n",
       "      <td>NaN</td>\n",
       "      <td>88.0</td>\n",
       "    </tr>\n",
       "    <tr>\n",
       "      <th>6</th>\n",
       "      <td>A</td>\n",
       "      <td>73.0</td>\n",
       "      <td>83.0</td>\n",
       "      <td>62.0</td>\n",
       "    </tr>\n",
       "    <tr>\n",
       "      <th>7</th>\n",
       "      <td>B</td>\n",
       "      <td>81.0</td>\n",
       "      <td>NaN</td>\n",
       "      <td>78.0</td>\n",
       "    </tr>\n",
       "    <tr>\n",
       "      <th>8</th>\n",
       "      <td>C</td>\n",
       "      <td>50.0</td>\n",
       "      <td>NaN</td>\n",
       "      <td>NaN</td>\n",
       "    </tr>\n",
       "    <tr>\n",
       "      <th>9</th>\n",
       "      <td>A</td>\n",
       "      <td>86.0</td>\n",
       "      <td>NaN</td>\n",
       "      <td>95.0</td>\n",
       "    </tr>\n",
       "    <tr>\n",
       "      <th>10</th>\n",
       "      <td>B</td>\n",
       "      <td>86.0</td>\n",
       "      <td>40.0</td>\n",
       "      <td>NaN</td>\n",
       "    </tr>\n",
       "    <tr>\n",
       "      <th>11</th>\n",
       "      <td>C</td>\n",
       "      <td>3.0</td>\n",
       "      <td>90.0</td>\n",
       "      <td>48.0</td>\n",
       "    </tr>\n",
       "  </tbody>\n",
       "</table>\n",
       "</div>"
      ],
      "text/plain": [
       "   Group  Korean   Math  English\n",
       "0      A    50.0   30.0     45.0\n",
       "1      B    90.0  100.0     75.0\n",
       "2      C     NaN   95.0     60.0\n",
       "3      A    80.0    NaN      NaN\n",
       "4      B    20.0   45.0    100.0\n",
       "5      C    97.0    NaN     88.0\n",
       "6      A    73.0   83.0     62.0\n",
       "7      B    81.0    NaN     78.0\n",
       "8      C    50.0    NaN      NaN\n",
       "9      A    86.0    NaN     95.0\n",
       "10     B    86.0   40.0      NaN\n",
       "11     C     3.0   90.0     48.0"
      ]
     },
     "execution_count": 65,
     "metadata": {
      "tags": []
     },
     "output_type": "execute_result"
    }
   ],
   "source": [
    "df_score = pd.DataFrame()\n",
    "df_score['Group'] = ['A', 'B', 'C', 'A', 'B', 'C', 'A', 'B', 'C','A', 'B', 'C']\n",
    "df_score['Korean'] = [50, 90, np.nan, 80, 20, 97, 73, 81, 50, 86, 86, 3]\n",
    "df_score['Math'] = [30, 100, 95, np.nan, 45, np.nan, 83, np.nan, np.nan, np.nan, 40, 90]\n",
    "df_score['English'] = [45, 75, 60, np.nan, 100, 88, 62, 78, np.nan, 95, np.nan, 48]\n",
    "df_score.index = [0, 1, 2, 3, 4, 5, 6, 7, 8, 9, 10, 11]\n",
    "df_score"
   ]
  },
  {
   "cell_type": "markdown",
   "metadata": {
    "id": "5oLYoOj4o88E"
   },
   "source": [
    "각 열의 평균은 아래와 같다."
   ]
  },
  {
   "cell_type": "code",
   "execution_count": null,
   "metadata": {
    "colab": {
     "base_uri": "https://localhost:8080/"
    },
    "executionInfo": {
     "elapsed": 232,
     "status": "ok",
     "timestamp": 1621662870390,
     "user": {
      "displayName": "HJ Kim",
      "photoUrl": "",
      "userId": "16634276932240017990"
     },
     "user_tz": -540
    },
    "id": "y7LGpfOJmQ9U",
    "outputId": "3c4df58e-f237-4c89-95dd-334fb3a09319"
   },
   "outputs": [
    {
     "data": {
      "text/plain": [
       "Korean     65.090909\n",
       "Math       69.000000\n",
       "English    72.333333\n",
       "dtype: float64"
      ]
     },
     "execution_count": 66,
     "metadata": {
      "tags": []
     },
     "output_type": "execute_result"
    }
   ],
   "source": [
    "df_score.mean()"
   ]
  },
  {
   "cell_type": "markdown",
   "metadata": {
    "id": "ACsB6dqppAaB"
   },
   "source": [
    "Group열을 기준으로 그룹화를 해보자. "
   ]
  },
  {
   "cell_type": "code",
   "execution_count": null,
   "metadata": {
    "id": "DShnWXasmY0K"
   },
   "outputs": [],
   "source": [
    "df_score_gp = df_score.groupby('Group')"
   ]
  },
  {
   "cell_type": "markdown",
   "metadata": {
    "id": "cxZZKGwgpY2V"
   },
   "source": [
    "각 그룹별 국영수 점수의 평균은 아래와 같다. "
   ]
  },
  {
   "cell_type": "code",
   "execution_count": null,
   "metadata": {
    "colab": {
     "base_uri": "https://localhost:8080/",
     "height": 166
    },
    "executionInfo": {
     "elapsed": 413,
     "status": "ok",
     "timestamp": 1621494476640,
     "user": {
      "displayName": "HJ Kim",
      "photoUrl": "",
      "userId": "16634276932240017990"
     },
     "user_tz": -540
    },
    "id": "UjpTcca8mg6K",
    "outputId": "0da598d5-124d-4f9a-ed6d-97ba8698bb2f"
   },
   "outputs": [
    {
     "data": {
      "text/html": [
       "<div>\n",
       "<style scoped>\n",
       "    .dataframe tbody tr th:only-of-type {\n",
       "        vertical-align: middle;\n",
       "    }\n",
       "\n",
       "    .dataframe tbody tr th {\n",
       "        vertical-align: top;\n",
       "    }\n",
       "\n",
       "    .dataframe thead th {\n",
       "        text-align: right;\n",
       "    }\n",
       "</style>\n",
       "<table border=\"1\" class=\"dataframe\">\n",
       "  <thead>\n",
       "    <tr style=\"text-align: right;\">\n",
       "      <th></th>\n",
       "      <th>Korean</th>\n",
       "      <th>Math</th>\n",
       "      <th>English</th>\n",
       "    </tr>\n",
       "    <tr>\n",
       "      <th>Group</th>\n",
       "      <th></th>\n",
       "      <th></th>\n",
       "      <th></th>\n",
       "    </tr>\n",
       "  </thead>\n",
       "  <tbody>\n",
       "    <tr>\n",
       "      <th>A</th>\n",
       "      <td>72.25</td>\n",
       "      <td>56.500000</td>\n",
       "      <td>67.333333</td>\n",
       "    </tr>\n",
       "    <tr>\n",
       "      <th>B</th>\n",
       "      <td>69.25</td>\n",
       "      <td>61.666667</td>\n",
       "      <td>84.333333</td>\n",
       "    </tr>\n",
       "    <tr>\n",
       "      <th>C</th>\n",
       "      <td>50.00</td>\n",
       "      <td>92.500000</td>\n",
       "      <td>65.333333</td>\n",
       "    </tr>\n",
       "  </tbody>\n",
       "</table>\n",
       "</div>"
      ],
      "text/plain": [
       "       Korean       Math    English\n",
       "Group                              \n",
       "A       72.25  56.500000  67.333333\n",
       "B       69.25  61.666667  84.333333\n",
       "C       50.00  92.500000  65.333333"
      ]
     },
     "execution_count": 34,
     "metadata": {
      "tags": []
     },
     "output_type": "execute_result"
    }
   ],
   "source": [
    "df_score_gp.mean()"
   ]
  },
  {
   "cell_type": "markdown",
   "metadata": {
    "id": "OdrhIc5JpoT0"
   },
   "source": [
    "`apply()` 메서드를 사용하여, 각 그룹별 영어 점수의 평균을 구하는 코드는 아래와 같다. "
   ]
  },
  {
   "cell_type": "code",
   "execution_count": null,
   "metadata": {
    "colab": {
     "base_uri": "https://localhost:8080/"
    },
    "executionInfo": {
     "elapsed": 552,
     "status": "ok",
     "timestamp": 1621495881316,
     "user": {
      "displayName": "HJ Kim",
      "photoUrl": "",
      "userId": "16634276932240017990"
     },
     "user_tz": -540
    },
    "id": "gNsOB_xjrrTW",
    "outputId": "aff13e8b-c764-49e3-acc8-1cfe6247ce0b"
   },
   "outputs": [
    {
     "data": {
      "text/plain": [
       "Group\n",
       "A    67.333333\n",
       "B    84.333333\n",
       "C    65.333333\n",
       "Name: English, dtype: float64"
      ]
     },
     "execution_count": 51,
     "metadata": {
      "tags": []
     },
     "output_type": "execute_result"
    }
   ],
   "source": [
    "df_score_gp.English.apply(lambda x:x.mean())"
   ]
  },
  {
   "cell_type": "markdown",
   "metadata": {
    "id": "CYdtYt3zpvLb"
   },
   "source": [
    "`transform()` 메서드를 사용하여, 각 그룹별 영어 점수의 평균을 구하는 코드는 아래와 같다. "
   ]
  },
  {
   "cell_type": "code",
   "execution_count": null,
   "metadata": {
    "colab": {
     "base_uri": "https://localhost:8080/"
    },
    "executionInfo": {
     "elapsed": 585,
     "status": "ok",
     "timestamp": 1621495892305,
     "user": {
      "displayName": "HJ Kim",
      "photoUrl": "",
      "userId": "16634276932240017990"
     },
     "user_tz": -540
    },
    "id": "5G5mokMVryi_",
    "outputId": "a7bdbf69-ec92-4724-8a01-488f31b947a1"
   },
   "outputs": [
    {
     "data": {
      "text/plain": [
       "0     67.333333\n",
       "1     84.333333\n",
       "2     65.333333\n",
       "3     67.333333\n",
       "4     84.333333\n",
       "5     65.333333\n",
       "6     67.333333\n",
       "7     84.333333\n",
       "8     65.333333\n",
       "9     67.333333\n",
       "10    84.333333\n",
       "11    65.333333\n",
       "Name: English, dtype: float64"
      ]
     },
     "execution_count": 52,
     "metadata": {
      "tags": []
     },
     "output_type": "execute_result"
    }
   ],
   "source": [
    "df_score_gp.English.transform(lambda x:x.mean())"
   ]
  },
  {
   "cell_type": "markdown",
   "metadata": {
    "id": "ncwtPg4dp0vY"
   },
   "source": [
    "`apply()` 메서드를 사용하여, 각 그룹별 영어 점수의 결측치를 해당하는 그룹의 영어 점수 평균으로 대체하는 코드는 아래와 같다.  \n",
    "\n",
    "참고) 결측치는 `fillna()`를 사용해 다른 값으로 대체할 수 있다. 인자로 대체하고 싶은 값을 사용하면 된다.   \n",
    "참고) `round()` 함수는 인자로 들어온 값을 반올림해준다. "
   ]
  },
  {
   "cell_type": "code",
   "execution_count": null,
   "metadata": {
    "colab": {
     "base_uri": "https://localhost:8080/"
    },
    "executionInfo": {
     "elapsed": 584,
     "status": "ok",
     "timestamp": 1621494584183,
     "user": {
      "displayName": "HJ Kim",
      "photoUrl": "",
      "userId": "16634276932240017990"
     },
     "user_tz": -540
    },
    "id": "KwzZIm9rmmwQ",
    "outputId": "a1c7cff7-056d-4070-ad2b-887b3fd949d8"
   },
   "outputs": [
    {
     "data": {
      "text/plain": [
       "0      45.0\n",
       "1      75.0\n",
       "2      60.0\n",
       "3      67.0\n",
       "4     100.0\n",
       "5      88.0\n",
       "6      62.0\n",
       "7      78.0\n",
       "8      65.0\n",
       "9      95.0\n",
       "10     84.0\n",
       "11     48.0\n",
       "Name: English, dtype: float64"
      ]
     },
     "execution_count": 36,
     "metadata": {
      "tags": []
     },
     "output_type": "execute_result"
    }
   ],
   "source": [
    "df_score_gp.English.apply(lambda x : x.fillna(round(x.mean())))"
   ]
  },
  {
   "cell_type": "markdown",
   "metadata": {
    "id": "U0g81YXAqfrb"
   },
   "source": [
    "`transform()` 메서드를 사용하여, 각 그룹별 영어 점수의 결측치를 해당하는 그룹의 영어 점수 평균으로 대체하는 코드는 아래와 같다. "
   ]
  },
  {
   "cell_type": "code",
   "execution_count": null,
   "metadata": {
    "colab": {
     "base_uri": "https://localhost:8080/"
    },
    "executionInfo": {
     "elapsed": 618,
     "status": "ok",
     "timestamp": 1621494648462,
     "user": {
      "displayName": "HJ Kim",
      "photoUrl": "",
      "userId": "16634276932240017990"
     },
     "user_tz": -540
    },
    "id": "ngH1Ay6MnLJ_",
    "outputId": "3ba0dc7a-b6ab-4a21-ff34-be8c05d14d58"
   },
   "outputs": [
    {
     "data": {
      "text/plain": [
       "0      45.0\n",
       "1      75.0\n",
       "2      60.0\n",
       "3      67.0\n",
       "4     100.0\n",
       "5      88.0\n",
       "6      62.0\n",
       "7      78.0\n",
       "8      65.0\n",
       "9      95.0\n",
       "10     84.0\n",
       "11     48.0\n",
       "Name: English, dtype: float64"
      ]
     },
     "execution_count": 37,
     "metadata": {
      "tags": []
     },
     "output_type": "execute_result"
    }
   ],
   "source": [
    "df_score_gp.English.transform(lambda x : x.fillna(round(x.mean())))"
   ]
  },
  {
   "cell_type": "markdown",
   "metadata": {
    "id": "o5QVLYhgoEE7"
   },
   "source": [
    "### 이상치 처리  \n",
    "\n",
    "이상치(outlier)는 비정상적으로 분포를 벗어난 값으로, 이를 처리하지 않고 통계 분석을 실시하면 왜곡된 결과를 얻을 수도 있다.  \n",
    "이에 분석을 하기 전에 적절하게 이상치를 처리하는 것이 좋다. 여기서는 이상치를 처리하는 방법 중 사분위수를 이용하는 방법을 소개한다. "
   ]
  },
  {
   "cell_type": "markdown",
   "metadata": {
    "id": "7BAmQ6o0rf4j"
   },
   "source": [
    "사분위수(quantile)는 전체 관측값을 작은 것부터 크기 순서대로 배열하였을 때, 전체를 사등분하는 값이다.  \n",
    "* 전체의 4분의 1, 4분의 2, 4분의 3은 각각 전체의 25%, 50%, 75%이고,  \n",
    " 이를 제 1사분위수(Q1), 제 2사분위수(Q2) = 중앙값, 제 3사분위수(Q3)이라 한다. \n",
    "* 사분위수 범위(IQR) = 제 3사분위수 - 제 1사분위수 = Q3 - Q1  \n",
    "* 관측값이 `Q1 - 1.5*IQR`보다 작거나 `Q3 + 1.5IQR`보다 크면, 이 값을 **이상치(outlier)**라고 함. \n"
   ]
  },
  {
   "cell_type": "markdown",
   "metadata": {
    "id": "s0oNdwcdtk1F"
   },
   "source": [
    "상자그림(boxplot)은 주로 사분위수와 최댓값, 최솟값을 가지고 표현한 그래프로, 아래 그림과 같다.   \n",
    "상자 양끝에서 `1.5*IQR` 크기의 범위를 경계로 하여, 이 범위에 포함되는 최댓값과 최솟값을 Q1과 Q3로부터 각각 선으로 연결한다.   \n",
    "양 경계를 벗어난 자료값들은 *로 표시하고, 이 점들이 이상점이다. "
   ]
  },
  {
   "cell_type": "markdown",
   "metadata": {},
   "source": [
    "```\n",
    "     Q1-1.5IQR   Q1   median  Q3   Q3+1.5IQR\n",
    "                  |-----:-----|\n",
    "  o      |--------|     :     |--------|    o  o\n",
    "                  |-----:-----|\n",
    "outlier           <----------->            outliers\n",
    "                       IQR\n",
    "```\n",
    "(출처: matplotlib.org)"
   ]
  },
  {
   "cell_type": "markdown",
   "metadata": {
    "id": "g52ol8zEs_d7"
   },
   "source": [
    "예제와 함께 살펴보자. "
   ]
  },
  {
   "cell_type": "code",
   "execution_count": 7,
   "metadata": {
    "colab": {
     "base_uri": "https://localhost:8080/",
     "height": 419
    },
    "executionInfo": {
     "elapsed": 1506,
     "status": "ok",
     "timestamp": 1621663951557,
     "user": {
      "displayName": "HJ Kim",
      "photoUrl": "",
      "userId": "16634276932240017990"
     },
     "user_tz": -540
    },
    "id": "-4xp86OzraKz",
    "outputId": "6e8b92e9-009f-455e-c737-74a55e08d636"
   },
   "outputs": [
    {
     "data": {
      "text/html": [
       "<div>\n",
       "<style scoped>\n",
       "    .dataframe tbody tr th:only-of-type {\n",
       "        vertical-align: middle;\n",
       "    }\n",
       "\n",
       "    .dataframe tbody tr th {\n",
       "        vertical-align: top;\n",
       "    }\n",
       "\n",
       "    .dataframe thead th {\n",
       "        text-align: right;\n",
       "    }\n",
       "</style>\n",
       "<table border=\"1\" class=\"dataframe\">\n",
       "  <thead>\n",
       "    <tr style=\"text-align: right;\">\n",
       "      <th></th>\n",
       "      <th>sepal_length</th>\n",
       "      <th>sepal_width</th>\n",
       "      <th>petal_length</th>\n",
       "      <th>petal_width</th>\n",
       "      <th>species</th>\n",
       "    </tr>\n",
       "  </thead>\n",
       "  <tbody>\n",
       "    <tr>\n",
       "      <th>0</th>\n",
       "      <td>5.1</td>\n",
       "      <td>3.5</td>\n",
       "      <td>1.4</td>\n",
       "      <td>0.2</td>\n",
       "      <td>setosa</td>\n",
       "    </tr>\n",
       "    <tr>\n",
       "      <th>1</th>\n",
       "      <td>4.9</td>\n",
       "      <td>3.0</td>\n",
       "      <td>1.4</td>\n",
       "      <td>0.2</td>\n",
       "      <td>setosa</td>\n",
       "    </tr>\n",
       "    <tr>\n",
       "      <th>2</th>\n",
       "      <td>4.7</td>\n",
       "      <td>3.2</td>\n",
       "      <td>1.3</td>\n",
       "      <td>0.2</td>\n",
       "      <td>setosa</td>\n",
       "    </tr>\n",
       "    <tr>\n",
       "      <th>3</th>\n",
       "      <td>4.6</td>\n",
       "      <td>3.1</td>\n",
       "      <td>1.5</td>\n",
       "      <td>0.2</td>\n",
       "      <td>setosa</td>\n",
       "    </tr>\n",
       "    <tr>\n",
       "      <th>4</th>\n",
       "      <td>5.0</td>\n",
       "      <td>3.6</td>\n",
       "      <td>1.4</td>\n",
       "      <td>0.2</td>\n",
       "      <td>setosa</td>\n",
       "    </tr>\n",
       "    <tr>\n",
       "      <th>...</th>\n",
       "      <td>...</td>\n",
       "      <td>...</td>\n",
       "      <td>...</td>\n",
       "      <td>...</td>\n",
       "      <td>...</td>\n",
       "    </tr>\n",
       "    <tr>\n",
       "      <th>145</th>\n",
       "      <td>6.7</td>\n",
       "      <td>3.0</td>\n",
       "      <td>5.2</td>\n",
       "      <td>2.3</td>\n",
       "      <td>virginica</td>\n",
       "    </tr>\n",
       "    <tr>\n",
       "      <th>146</th>\n",
       "      <td>6.3</td>\n",
       "      <td>2.5</td>\n",
       "      <td>5.0</td>\n",
       "      <td>1.9</td>\n",
       "      <td>virginica</td>\n",
       "    </tr>\n",
       "    <tr>\n",
       "      <th>147</th>\n",
       "      <td>6.5</td>\n",
       "      <td>3.0</td>\n",
       "      <td>5.2</td>\n",
       "      <td>2.0</td>\n",
       "      <td>virginica</td>\n",
       "    </tr>\n",
       "    <tr>\n",
       "      <th>148</th>\n",
       "      <td>6.2</td>\n",
       "      <td>3.4</td>\n",
       "      <td>5.4</td>\n",
       "      <td>2.3</td>\n",
       "      <td>virginica</td>\n",
       "    </tr>\n",
       "    <tr>\n",
       "      <th>149</th>\n",
       "      <td>5.9</td>\n",
       "      <td>3.0</td>\n",
       "      <td>5.1</td>\n",
       "      <td>1.8</td>\n",
       "      <td>virginica</td>\n",
       "    </tr>\n",
       "  </tbody>\n",
       "</table>\n",
       "<p>150 rows × 5 columns</p>\n",
       "</div>"
      ],
      "text/plain": [
       "     sepal_length  sepal_width  petal_length  petal_width    species\n",
       "0             5.1          3.5           1.4          0.2     setosa\n",
       "1             4.9          3.0           1.4          0.2     setosa\n",
       "2             4.7          3.2           1.3          0.2     setosa\n",
       "3             4.6          3.1           1.5          0.2     setosa\n",
       "4             5.0          3.6           1.4          0.2     setosa\n",
       "..            ...          ...           ...          ...        ...\n",
       "145           6.7          3.0           5.2          2.3  virginica\n",
       "146           6.3          2.5           5.0          1.9  virginica\n",
       "147           6.5          3.0           5.2          2.0  virginica\n",
       "148           6.2          3.4           5.4          2.3  virginica\n",
       "149           5.9          3.0           5.1          1.8  virginica\n",
       "\n",
       "[150 rows x 5 columns]"
      ]
     },
     "execution_count": 7,
     "metadata": {},
     "output_type": "execute_result"
    }
   ],
   "source": [
    "import seaborn as sns\n",
    "iris = sns.load_dataset('iris')  #iris을 가져오는 코드\n",
    "iris"
   ]
  },
  {
   "cell_type": "markdown",
   "metadata": {
    "id": "S-VuOcmrvYLC"
   },
   "source": [
    "데이터프레임 iris의 `sepal_length`, `sepal_width`, `petal_length`, `petal_width`의 자료로 상자그림을 그려보자.  "
   ]
  },
  {
   "cell_type": "code",
   "execution_count": null,
   "metadata": {
    "colab": {
     "base_uri": "https://localhost:8080/",
     "height": 419
    },
    "executionInfo": {
     "elapsed": 225,
     "status": "ok",
     "timestamp": 1621663960091,
     "user": {
      "displayName": "HJ Kim",
      "photoUrl": "",
      "userId": "16634276932240017990"
     },
     "user_tz": -540
    },
    "id": "0oWM6jqhj0zD",
    "outputId": "f28f0cdd-d445-48be-ad92-1e983059678f"
   },
   "outputs": [
    {
     "data": {
      "text/html": [
       "<div>\n",
       "<style scoped>\n",
       "    .dataframe tbody tr th:only-of-type {\n",
       "        vertical-align: middle;\n",
       "    }\n",
       "\n",
       "    .dataframe tbody tr th {\n",
       "        vertical-align: top;\n",
       "    }\n",
       "\n",
       "    .dataframe thead th {\n",
       "        text-align: right;\n",
       "    }\n",
       "</style>\n",
       "<table border=\"1\" class=\"dataframe\">\n",
       "  <thead>\n",
       "    <tr style=\"text-align: right;\">\n",
       "      <th></th>\n",
       "      <th>sepal_length</th>\n",
       "      <th>sepal_width</th>\n",
       "      <th>petal_length</th>\n",
       "      <th>petal_width</th>\n",
       "    </tr>\n",
       "  </thead>\n",
       "  <tbody>\n",
       "    <tr>\n",
       "      <th>0</th>\n",
       "      <td>5.1</td>\n",
       "      <td>3.5</td>\n",
       "      <td>1.4</td>\n",
       "      <td>0.2</td>\n",
       "    </tr>\n",
       "    <tr>\n",
       "      <th>1</th>\n",
       "      <td>4.9</td>\n",
       "      <td>3.0</td>\n",
       "      <td>1.4</td>\n",
       "      <td>0.2</td>\n",
       "    </tr>\n",
       "    <tr>\n",
       "      <th>2</th>\n",
       "      <td>4.7</td>\n",
       "      <td>3.2</td>\n",
       "      <td>1.3</td>\n",
       "      <td>0.2</td>\n",
       "    </tr>\n",
       "    <tr>\n",
       "      <th>3</th>\n",
       "      <td>4.6</td>\n",
       "      <td>3.1</td>\n",
       "      <td>1.5</td>\n",
       "      <td>0.2</td>\n",
       "    </tr>\n",
       "    <tr>\n",
       "      <th>4</th>\n",
       "      <td>5.0</td>\n",
       "      <td>3.6</td>\n",
       "      <td>1.4</td>\n",
       "      <td>0.2</td>\n",
       "    </tr>\n",
       "    <tr>\n",
       "      <th>...</th>\n",
       "      <td>...</td>\n",
       "      <td>...</td>\n",
       "      <td>...</td>\n",
       "      <td>...</td>\n",
       "    </tr>\n",
       "    <tr>\n",
       "      <th>145</th>\n",
       "      <td>6.7</td>\n",
       "      <td>3.0</td>\n",
       "      <td>5.2</td>\n",
       "      <td>2.3</td>\n",
       "    </tr>\n",
       "    <tr>\n",
       "      <th>146</th>\n",
       "      <td>6.3</td>\n",
       "      <td>2.5</td>\n",
       "      <td>5.0</td>\n",
       "      <td>1.9</td>\n",
       "    </tr>\n",
       "    <tr>\n",
       "      <th>147</th>\n",
       "      <td>6.5</td>\n",
       "      <td>3.0</td>\n",
       "      <td>5.2</td>\n",
       "      <td>2.0</td>\n",
       "    </tr>\n",
       "    <tr>\n",
       "      <th>148</th>\n",
       "      <td>6.2</td>\n",
       "      <td>3.4</td>\n",
       "      <td>5.4</td>\n",
       "      <td>2.3</td>\n",
       "    </tr>\n",
       "    <tr>\n",
       "      <th>149</th>\n",
       "      <td>5.9</td>\n",
       "      <td>3.0</td>\n",
       "      <td>5.1</td>\n",
       "      <td>1.8</td>\n",
       "    </tr>\n",
       "  </tbody>\n",
       "</table>\n",
       "<p>150 rows × 4 columns</p>\n",
       "</div>"
      ],
      "text/plain": [
       "     sepal_length  sepal_width  petal_length  petal_width\n",
       "0             5.1          3.5           1.4          0.2\n",
       "1             4.9          3.0           1.4          0.2\n",
       "2             4.7          3.2           1.3          0.2\n",
       "3             4.6          3.1           1.5          0.2\n",
       "4             5.0          3.6           1.4          0.2\n",
       "..            ...          ...           ...          ...\n",
       "145           6.7          3.0           5.2          2.3\n",
       "146           6.3          2.5           5.0          1.9\n",
       "147           6.5          3.0           5.2          2.0\n",
       "148           6.2          3.4           5.4          2.3\n",
       "149           5.9          3.0           5.1          1.8\n",
       "\n",
       "[150 rows x 4 columns]"
      ]
     },
     "execution_count": 68,
     "metadata": {
      "tags": []
     },
     "output_type": "execute_result"
    }
   ],
   "source": [
    "data = iris[['sepal_length', 'sepal_width', 'petal_length', 'petal_width']]\n",
    "data"
   ]
  },
  {
   "cell_type": "markdown",
   "metadata": {
    "id": "fkp_X1D3tFxw"
   },
   "source": [
    "데이터프레임의 `boxplot()` 메서드를 사용하여 쉽게 상자그림을 그릴 수 있다.  "
   ]
  },
  {
   "cell_type": "code",
   "execution_count": null,
   "metadata": {
    "colab": {
     "base_uri": "https://localhost:8080/",
     "height": 592
    },
    "executionInfo": {
     "elapsed": 316,
     "status": "ok",
     "timestamp": 1621570237700,
     "user": {
      "displayName": "HJ Kim",
      "photoUrl": "",
      "userId": "16634276932240017990"
     },
     "user_tz": -540
    },
    "id": "Rvc1lgOpj08J",
    "outputId": "5e9a748a-5d19-4e3f-eb13-4e9df1ef5df3"
   },
   "outputs": [
    {
     "data": {
      "image/png": "[encoded data removed]",
      "text/plain": [
       "<Figure size 576x720 with 1 Axes>"
      ]
     },
     "metadata": {
      "needs_background": "light",
      "tags": []
     },
     "output_type": "display_data"
    }
   ],
   "source": [
    "fig = plt.figure(figsize = (8, 10)) # figsize로 그래프의 figure의 크기를 변경할 수 있다.\n",
    "data.boxplot(grid=False) # 격자를 없애려면, grid를 False로 둔다.\n",
    "plt.show()"
   ]
  },
  {
   "cell_type": "markdown",
   "metadata": {
    "id": "aCqxhHjV5pTw"
   },
   "source": [
    "상자그림을 보면, `sepal_width`열에 4개 이상의 이상치가 있는 것으로 보인다. \n",
    "\n",
    "사분위수를 이용하여 이상치를 처리해보자. 이를 위해 데이터프레임iris에 `Lower`, `Upper`, `Outlier`열을 추가해보자.  \n",
    "* `Lower`열 : `Q1 - 1.5*Q3`를 계산한 값 \n",
    "* `Upper`열 : `Q3 + 1.5*Q3`를 계산한 값\n",
    "* `Outlier`열 : `Lower`보다 작거나 `Upper`보다 크면 `True`, 아니면 `False`  \n",
    "\n",
    "참고) 사분위수는 `quantile()` 메서드로 구할 수 있다. 예를 들어, iris의 `sepal_width`열의 제 1사분위수는 아래와 같이 구할 수 있다. "
   ]
  },
  {
   "cell_type": "code",
   "execution_count": null,
   "metadata": {
    "colab": {
     "base_uri": "https://localhost:8080/"
    },
    "executionInfo": {
     "elapsed": 252,
     "status": "ok",
     "timestamp": 1621667809235,
     "user": {
      "displayName": "HJ Kim",
      "photoUrl": "",
      "userId": "16634276932240017990"
     },
     "user_tz": -540
    },
    "id": "GqjAwvaI7qqW",
    "outputId": "620f29cd-523c-4cdd-d73a-7579b9fd52f2"
   },
   "outputs": [
    {
     "data": {
      "text/plain": [
       "2.8"
      ]
     },
     "execution_count": 69,
     "metadata": {
      "tags": []
     },
     "output_type": "execute_result"
    }
   ],
   "source": [
    "iris['sepal_width'].quantile(q = 0.25)"
   ]
  },
  {
   "cell_type": "markdown",
   "metadata": {
    "id": "KRuA_ZNQ7_y7"
   },
   "source": [
    "`Lower`, `Upper`, `Outlier`열을 추가한 다음, 이상치를 확인해보자.   \n",
    "\n",
    "주의) 시리즈 또는 데이터프레임에서 여러 개의 불리언 조건을 조합하여 사용할 때는 and와 or 대신 & 와 |을 사용해야 한다."
   ]
  },
  {
   "cell_type": "code",
   "execution_count": null,
   "metadata": {
    "colab": {
     "base_uri": "https://localhost:8080/",
     "height": 166
    },
    "executionInfo": {
     "elapsed": 328,
     "status": "ok",
     "timestamp": 1621570241104,
     "user": {
      "displayName": "HJ Kim",
      "photoUrl": "",
      "userId": "16634276932240017990"
     },
     "user_tz": -540
    },
    "id": "od-Zv2BE034L",
    "outputId": "6df21738-6fce-474c-ce6d-42970f6aa0ff"
   },
   "outputs": [
    {
     "data": {
      "text/html": [
       "<div>\n",
       "<style scoped>\n",
       "    .dataframe tbody tr th:only-of-type {\n",
       "        vertical-align: middle;\n",
       "    }\n",
       "\n",
       "    .dataframe tbody tr th {\n",
       "        vertical-align: top;\n",
       "    }\n",
       "\n",
       "    .dataframe thead th {\n",
       "        text-align: right;\n",
       "    }\n",
       "</style>\n",
       "<table border=\"1\" class=\"dataframe\">\n",
       "  <thead>\n",
       "    <tr style=\"text-align: right;\">\n",
       "      <th></th>\n",
       "      <th>sepal_length</th>\n",
       "      <th>sepal_width</th>\n",
       "      <th>petal_length</th>\n",
       "      <th>petal_width</th>\n",
       "      <th>species</th>\n",
       "      <th>Lower</th>\n",
       "      <th>Upper</th>\n",
       "      <th>Outlier</th>\n",
       "    </tr>\n",
       "  </thead>\n",
       "  <tbody>\n",
       "    <tr>\n",
       "      <th>15</th>\n",
       "      <td>5.7</td>\n",
       "      <td>4.4</td>\n",
       "      <td>1.5</td>\n",
       "      <td>0.4</td>\n",
       "      <td>setosa</td>\n",
       "      <td>2.05</td>\n",
       "      <td>4.05</td>\n",
       "      <td>True</td>\n",
       "    </tr>\n",
       "    <tr>\n",
       "      <th>32</th>\n",
       "      <td>5.2</td>\n",
       "      <td>4.1</td>\n",
       "      <td>1.5</td>\n",
       "      <td>0.1</td>\n",
       "      <td>setosa</td>\n",
       "      <td>2.05</td>\n",
       "      <td>4.05</td>\n",
       "      <td>True</td>\n",
       "    </tr>\n",
       "    <tr>\n",
       "      <th>33</th>\n",
       "      <td>5.5</td>\n",
       "      <td>4.2</td>\n",
       "      <td>1.4</td>\n",
       "      <td>0.2</td>\n",
       "      <td>setosa</td>\n",
       "      <td>2.05</td>\n",
       "      <td>4.05</td>\n",
       "      <td>True</td>\n",
       "    </tr>\n",
       "    <tr>\n",
       "      <th>60</th>\n",
       "      <td>5.0</td>\n",
       "      <td>2.0</td>\n",
       "      <td>3.5</td>\n",
       "      <td>1.0</td>\n",
       "      <td>versicolor</td>\n",
       "      <td>2.05</td>\n",
       "      <td>4.05</td>\n",
       "      <td>True</td>\n",
       "    </tr>\n",
       "  </tbody>\n",
       "</table>\n",
       "</div>"
      ],
      "text/plain": [
       "    sepal_length  sepal_width  petal_length  ...  Lower Upper  Outlier\n",
       "15           5.7          4.4           1.5  ...   2.05  4.05     True\n",
       "32           5.2          4.1           1.5  ...   2.05  4.05     True\n",
       "33           5.5          4.2           1.4  ...   2.05  4.05     True\n",
       "60           5.0          2.0           3.5  ...   2.05  4.05     True\n",
       "\n",
       "[4 rows x 8 columns]"
      ]
     },
     "execution_count": 116,
     "metadata": {
      "tags": []
     },
     "output_type": "execute_result"
    }
   ],
   "source": [
    "iris['Lower'] = iris['sepal_width'].quantile(q = .25) - (1.5*(iris['sepal_width'].quantile(q = .75) - iris['sepal_width'].quantile(q = .25)))\n",
    "iris['Upper'] = iris['sepal_width'].quantile(q = .75) + (1.5*(iris['sepal_width'].quantile(q = .75) - iris['sepal_width'].quantile(q = .25)))\n",
    "iris['Outlier'] = (iris['sepal_width'] < iris['Lower']) | (iris['sepal_width'] > iris['Upper'])\n",
    "iris[iris.Outlier == True]"
   ]
  },
  {
   "cell_type": "markdown",
   "metadata": {
    "id": "Q7CdMeoE8f1r"
   },
   "source": [
    "사분위수를 이용하여 4개의 이상치를 확인하였다.  \n",
    "참고) `df.loc[]`를 사용하여 이상치를 다른 값으로 대체할 수 있다. "
   ]
  },
  {
   "cell_type": "markdown",
   "metadata": {
    "id": "vh-IpceF83By"
   },
   "source": [
    "이제 각 그룹별로 `sepal_width`열의 이상치를 확인하는 코드를 작성해보자. \n",
    "\n",
    "우선, 상자그림(boxplot)을 그려보자. "
   ]
  },
  {
   "cell_type": "code",
   "execution_count": null,
   "metadata": {
    "colab": {
     "base_uri": "https://localhost:8080/",
     "height": 294
    },
    "executionInfo": {
     "elapsed": 313,
     "status": "ok",
     "timestamp": 1621571071535,
     "user": {
      "displayName": "HJ Kim",
      "photoUrl": "",
      "userId": "16634276932240017990"
     },
     "user_tz": -540
    },
    "id": "Bp1vw3lc-Ba4",
    "outputId": "674e3d12-bef1-4095-8dd8-a621503a958f"
   },
   "outputs": [
    {
     "data": {
      "image/png": "[encoded data removed]",
      "text/plain": [
       "<Figure size 432x288 with 1 Axes>"
      ]
     },
     "metadata": {
      "needs_background": "light",
      "tags": []
     },
     "output_type": "display_data"
    }
   ],
   "source": [
    "# sepal_width 자료로 상자그림을 그리기 위해 column은 sepal_width로 둔다.\n",
    "# by 를 species로 두면, species를 기준으로 그룹화하여 상자그림을 그려준다.\n",
    "iris.boxplot(column=['sepal_width'],grid = False, by = 'species') \n",
    "plt.suptitle('')\n",
    "plt.show()"
   ]
  },
  {
   "cell_type": "markdown",
   "metadata": {
    "id": "98Y1JOFSBRbE"
   },
   "source": [
    "상자그림을 살펴보면, `setosa`와 `virginica` 그룹에 각각 2개 이상의 이상치가 있을 것으로 보인다.   \n",
    "실제로 이상치를 확인해보자. "
   ]
  },
  {
   "cell_type": "markdown",
   "metadata": {
    "id": "eaCBX8vLBpdW"
   },
   "source": [
    "우선, 데이터프레임 iris의 `sepal_width`와 `species`열만 가져와서 그룹별로 이상치를 확인하는 방법을 살펴보자.  "
   ]
  },
  {
   "cell_type": "code",
   "execution_count": null,
   "metadata": {
    "colab": {
     "base_uri": "https://localhost:8080/",
     "height": 402
    },
    "executionInfo": {
     "elapsed": 12,
     "status": "ok",
     "timestamp": 1621570246310,
     "user": {
      "displayName": "HJ Kim",
      "photoUrl": "",
      "userId": "16634276932240017990"
     },
     "user_tz": -540
    },
    "id": "3qBXh5VODL65",
    "outputId": "c1f00bfd-6f35-406f-f9bf-943444e4cb58"
   },
   "outputs": [
    {
     "data": {
      "text/html": [
       "<div>\n",
       "<style scoped>\n",
       "    .dataframe tbody tr th:only-of-type {\n",
       "        vertical-align: middle;\n",
       "    }\n",
       "\n",
       "    .dataframe tbody tr th {\n",
       "        vertical-align: top;\n",
       "    }\n",
       "\n",
       "    .dataframe thead th {\n",
       "        text-align: right;\n",
       "    }\n",
       "</style>\n",
       "<table border=\"1\" class=\"dataframe\">\n",
       "  <thead>\n",
       "    <tr style=\"text-align: right;\">\n",
       "      <th></th>\n",
       "      <th>sepal_width</th>\n",
       "      <th>species</th>\n",
       "    </tr>\n",
       "  </thead>\n",
       "  <tbody>\n",
       "    <tr>\n",
       "      <th>0</th>\n",
       "      <td>3.5</td>\n",
       "      <td>setosa</td>\n",
       "    </tr>\n",
       "    <tr>\n",
       "      <th>1</th>\n",
       "      <td>3.0</td>\n",
       "      <td>setosa</td>\n",
       "    </tr>\n",
       "    <tr>\n",
       "      <th>2</th>\n",
       "      <td>3.2</td>\n",
       "      <td>setosa</td>\n",
       "    </tr>\n",
       "    <tr>\n",
       "      <th>3</th>\n",
       "      <td>3.1</td>\n",
       "      <td>setosa</td>\n",
       "    </tr>\n",
       "    <tr>\n",
       "      <th>4</th>\n",
       "      <td>3.6</td>\n",
       "      <td>setosa</td>\n",
       "    </tr>\n",
       "    <tr>\n",
       "      <th>...</th>\n",
       "      <td>...</td>\n",
       "      <td>...</td>\n",
       "    </tr>\n",
       "    <tr>\n",
       "      <th>145</th>\n",
       "      <td>3.0</td>\n",
       "      <td>virginica</td>\n",
       "    </tr>\n",
       "    <tr>\n",
       "      <th>146</th>\n",
       "      <td>2.5</td>\n",
       "      <td>virginica</td>\n",
       "    </tr>\n",
       "    <tr>\n",
       "      <th>147</th>\n",
       "      <td>3.0</td>\n",
       "      <td>virginica</td>\n",
       "    </tr>\n",
       "    <tr>\n",
       "      <th>148</th>\n",
       "      <td>3.4</td>\n",
       "      <td>virginica</td>\n",
       "    </tr>\n",
       "    <tr>\n",
       "      <th>149</th>\n",
       "      <td>3.0</td>\n",
       "      <td>virginica</td>\n",
       "    </tr>\n",
       "  </tbody>\n",
       "</table>\n",
       "<p>150 rows × 2 columns</p>\n",
       "</div>"
      ],
      "text/plain": [
       "     sepal_width    species\n",
       "0            3.5     setosa\n",
       "1            3.0     setosa\n",
       "2            3.2     setosa\n",
       "3            3.1     setosa\n",
       "4            3.6     setosa\n",
       "..           ...        ...\n",
       "145          3.0  virginica\n",
       "146          2.5  virginica\n",
       "147          3.0  virginica\n",
       "148          3.4  virginica\n",
       "149          3.0  virginica\n",
       "\n",
       "[150 rows x 2 columns]"
      ]
     },
     "execution_count": 118,
     "metadata": {
      "tags": []
     },
     "output_type": "execute_result"
    }
   ],
   "source": [
    "iris = iris.loc[:, ['sepal_width', 'species']]\n",
    "iris"
   ]
  },
  {
   "cell_type": "markdown",
   "metadata": {
    "id": "YM_fjau7B7oc"
   },
   "source": [
    "각 그룹별로 Lower, Upper를 계산해야 한다. 이를 위해 `transform()`을 사용한다.   \n",
    "`Lower`, `Upper`, `Outlier`열을 추가한 다음, 이상치를 확인해보자.   \n"
   ]
  },
  {
   "cell_type": "code",
   "execution_count": null,
   "metadata": {
    "colab": {
     "base_uri": "https://localhost:8080/",
     "height": 195
    },
    "executionInfo": {
     "elapsed": 276,
     "status": "ok",
     "timestamp": 1621570993465,
     "user": {
      "displayName": "HJ Kim",
      "photoUrl": "",
      "userId": "16634276932240017990"
     },
     "user_tz": -540
    },
    "id": "jkriKNPDGyhp",
    "outputId": "d376e459-2f67-4d02-8582-a4bca174e5be"
   },
   "outputs": [
    {
     "data": {
      "text/html": [
       "<div>\n",
       "<style scoped>\n",
       "    .dataframe tbody tr th:only-of-type {\n",
       "        vertical-align: middle;\n",
       "    }\n",
       "\n",
       "    .dataframe tbody tr th {\n",
       "        vertical-align: top;\n",
       "    }\n",
       "\n",
       "    .dataframe thead th {\n",
       "        text-align: right;\n",
       "    }\n",
       "</style>\n",
       "<table border=\"1\" class=\"dataframe\">\n",
       "  <thead>\n",
       "    <tr style=\"text-align: right;\">\n",
       "      <th></th>\n",
       "      <th>sepal_width</th>\n",
       "      <th>species</th>\n",
       "      <th>Lower</th>\n",
       "      <th>Upper</th>\n",
       "      <th>Outlier</th>\n",
       "    </tr>\n",
       "  </thead>\n",
       "  <tbody>\n",
       "    <tr>\n",
       "      <th>15</th>\n",
       "      <td>4.4</td>\n",
       "      <td>setosa</td>\n",
       "      <td>2.4875</td>\n",
       "      <td>4.3875</td>\n",
       "      <td>True</td>\n",
       "    </tr>\n",
       "    <tr>\n",
       "      <th>41</th>\n",
       "      <td>2.3</td>\n",
       "      <td>setosa</td>\n",
       "      <td>2.4875</td>\n",
       "      <td>4.3875</td>\n",
       "      <td>True</td>\n",
       "    </tr>\n",
       "    <tr>\n",
       "      <th>117</th>\n",
       "      <td>3.8</td>\n",
       "      <td>virginica</td>\n",
       "      <td>2.2375</td>\n",
       "      <td>3.7375</td>\n",
       "      <td>True</td>\n",
       "    </tr>\n",
       "    <tr>\n",
       "      <th>119</th>\n",
       "      <td>2.2</td>\n",
       "      <td>virginica</td>\n",
       "      <td>2.2375</td>\n",
       "      <td>3.7375</td>\n",
       "      <td>True</td>\n",
       "    </tr>\n",
       "    <tr>\n",
       "      <th>131</th>\n",
       "      <td>3.8</td>\n",
       "      <td>virginica</td>\n",
       "      <td>2.2375</td>\n",
       "      <td>3.7375</td>\n",
       "      <td>True</td>\n",
       "    </tr>\n",
       "  </tbody>\n",
       "</table>\n",
       "</div>"
      ],
      "text/plain": [
       "     sepal_width    species   Lower   Upper  Outlier\n",
       "15           4.4     setosa  2.4875  4.3875     True\n",
       "41           2.3     setosa  2.4875  4.3875     True\n",
       "117          3.8  virginica  2.2375  3.7375     True\n",
       "119          2.2  virginica  2.2375  3.7375     True\n",
       "131          3.8  virginica  2.2375  3.7375     True"
      ]
     },
     "execution_count": 128,
     "metadata": {
      "tags": []
     },
     "output_type": "execute_result"
    }
   ],
   "source": [
    "iris_gp = iris.groupby('species')\n",
    "\n",
    "iris['Lower'] = iris_gp['sepal_width'].transform(lambda x : x.quantile(q = .25)- 1.5*(x.quantile(q = .75) - x.quantile(q= .25)))\n",
    "iris['Upper'] = iris_gp['sepal_width'].transform(lambda x : x.quantile(q = .75)+ 1.5*(x.quantile(q = .75) - x.quantile(q= .25)))\n",
    "iris['Outlier'] = (iris['sepal_width'] < iris['Lower']) | (iris['sepal_width'] > iris['Upper'])\n",
    "iris[iris.Outlier == True]"
   ]
  },
  {
   "cell_type": "markdown",
   "metadata": {
    "id": "1jrY4cuaDBjV"
   },
   "source": [
    "`setosa`그룹에는 2개, `virginica`그룹에는 3개의 이상치가 있는 것을 확인할 수 있다.   \n",
    "참고) `df.loc[]`를 사용하여 이상치를 다른 값으로 대체할 수 있다. "
   ]
  },
  {
   "cell_type": "markdown",
   "metadata": {
    "id": "hARRWcsQtGsY"
   },
   "source": [
    "# 데이터시각화\n",
    "\n",
    "  * 단어 구름(word cloud)"
   ]
  },
  {
   "cell_type": "code",
   "execution_count": 1,
   "metadata": {
    "id": "acP9IpIfsJRf"
   },
   "outputs": [],
   "source": [
    "from wordcloud import WordCloud"
   ]
  },
  {
   "cell_type": "markdown",
   "metadata": {},
   "source": [
    "워드 클라우드에 한글이 있다면 아래 코드를 실행한다. \n",
    "\n",
    "```python\n",
    "!apt install -y fonts-nanum\n",
    "!fc-cache -fv\n",
    "\n",
    "applyfont = \"NanumBarunGothic\"\n",
    "\n",
    "import matplotlib.font_manager as fm\n",
    "if not any(map(lambda ft: ft.name == applyfont, fm.fontManager.ttflist)):\n",
    "    fm.fontManager.addfont(\"/usr/share/fonts/truetype/nanum/NanumBarunGothic.ttf\")\n",
    "\n",
    "plt.rc(\"font\", family=applyfont)\n",
    "plt.rc(\"axes\", unicode_minus=False)\n",
    "```"
   ]
  },
  {
   "cell_type": "code",
   "execution_count": 4,
   "metadata": {
    "colab": {
     "base_uri": "https://localhost:8080/",
     "height": 35
    },
    "executionInfo": {
     "elapsed": 221,
     "status": "ok",
     "timestamp": 1621732739761,
     "user": {
      "displayName": "HJ Kim",
      "photoUrl": "",
      "userId": "16634276932240017990"
     },
     "user_tz": -540
    },
    "id": "hERe61ZmtVko",
    "outputId": "9bfb7350-a12f-4614-f04c-871d61c91a3b"
   },
   "outputs": [
    {
     "data": {
      "text/plain": [
       "'strawberry banana strawberry apple tomato tomato tomato strawberry strawberry apple'"
      ]
     },
     "execution_count": 4,
     "metadata": {},
     "output_type": "execute_result"
    }
   ],
   "source": [
    "data = \"strawberry banana strawberry apple tomato tomato tomato strawberry strawberry apple\"\n",
    "data"
   ]
  },
  {
   "cell_type": "code",
   "execution_count": 10,
   "metadata": {
    "id": "8A0FaiXCtjbA"
   },
   "outputs": [],
   "source": [
    "# 한글이 있다면 font_path='/usr/share/fonts/truetype/nanum/NanumBarunGothic.ttf' 추가\n",
    "wc = WordCloud(background_color= 'white', width = 800, height = 600, prefer_horizontal = True).generate(data)"
   ]
  },
  {
   "cell_type": "code",
   "execution_count": 9,
   "metadata": {
    "colab": {
     "base_uri": "https://localhost:8080/",
     "height": 248
    },
    "executionInfo": {
     "elapsed": 377,
     "status": "ok",
     "timestamp": 1621732742358,
     "user": {
      "displayName": "HJ Kim",
      "photoUrl": "",
      "userId": "16634276932240017990"
     },
     "user_tz": -540
    },
    "id": "FSrHLh88tnCM",
    "outputId": "e4646316-f0f3-41a2-8875-5e5196136398"
   },
   "outputs": [
    {
     "data": {
      "image/png": "[encoded data removed]",
      "text/plain": [
       "<Figure size 432x288 with 1 Axes>"
      ]
     },
     "metadata": {
      "needs_background": "light"
     },
     "output_type": "display_data"
    }
   ],
   "source": [
    "fig = plt.figure()\n",
    "plt.imshow(wc)\n",
    "plt.axis('off')\n",
    "plt.show()"
   ]
  },
  {
   "cell_type": "markdown",
   "metadata": {
    "id": "cmb4R3zk15bH"
   },
   "source": [
    "# 판다스3 요약  \n",
    "\n",
    "* 판다스 모듈 임포트 : `import pandas as pd`\n",
    "* 넘파이 모듈 임포트 : `import numpy as np`\n",
    "---\n",
    "<font color=\"red\">apply 메서드</font>\n",
    "* `df.apply()` 메서드 : 데이터프레임의 행 또는 열을 따라 인자로 입력된 함수를 적용\n",
    "  * `axis = 0` : 열별로 함수를 적용\n",
    "  * `axis = 1` : 행별로 함수를 적용\n",
    "\n",
    "예제1)`df.apply(np.sqrt)` # 모든 열에 제곱근 함수를 적용\n",
    "\n",
    "**주의** : `apply()` 메서드를 사용해도 데이터프레임 `df`는 변하지 않는다.   \n",
    "\n",
    "예제2) `df.apply(np.sum)` # 각 열에 `np.sum()`함수를 적용. 각 열별로 합을 구함.   \n",
    "예제3) `df.apply(np.sum, axis = 1)` # 각 행에 `np.sum()`함수를 적용. 각 행별로 합을 구함.   \n",
    "예제4) `df.apply(lambda x : x + 10)` : 각 열에 인자로 들어온 람다 함수를 적용.  \n",
    "\n",
    "---\n",
    "<font color=\"red\">transform 메서드</font>\n",
    "* `df.transform()` 메서드 : 인자로 입력된 함수에 의해 변환된 값을 가진 데이터프레임을 만듦.\n",
    "  * `axis = 0` : 열별로 함수를 적용\n",
    "  * `axis = 1` : 행별로 함수를 적용\n",
    "\n",
    "예제1)`df.transform(np.sqrt)` # 모든 열에 제곱근 함수를 적용, 모양은 df와 같음.\n",
    "\n",
    "**주의** : `transform()` 메서드는 집계된 결과를 만들지 못함.\n",
    "예제2) `df.transfrom(np.sum) # 오류 발생\n",
    "\n",
    "---\n",
    "<font color=\"red\">groupby 그룹화</font>  \n",
    "`df_gp = df.groupby('그룹기준이되는열이름')`\n",
    "* 그룹별로 특정열의 합을 집계된 결과로 구하기 - `df_gp.apply(np.sum)`\n",
    "* 그룹별로 특정열의 합을 데이터프레임과 같은 크기로 구하기 - `df_gp.transform(np.sum)`\n",
    "\n",
    "---\n",
    "<font color=\"red\">람다lambda 함수</font> \n",
    "\n",
    "* 익명함수 또는 lambda 함수 : `lambda arguments : expression`\n",
    "  * `lambda x : x + 3`  # 숫자를 인자로 받아 3을 더한 값을 반환하는 람다 함수\n",
    "  * `lambda a, b : a + b`  # 두 숫자를 인자로 받아, 더한 값을 반환하는 람다 함수"
   ]
  },
  {
   "cell_type": "code",
   "execution_count": null,
   "metadata": {},
   "outputs": [],
   "source": []
  }
 ],
 "metadata": {
  "colab": {
   "authorship_tag": "ABX9TyNI212z+xkXq7kUJ3cCiNpD",
   "collapsed_sections": [],
   "name": "강의노트14(판다스3).ipynb",
   "provenance": []
  },
  "kernelspec": {
   "display_name": "Python 3 (ipykernel)",
   "language": "python",
   "name": "python3"
  },
  "language_info": {
   "codemirror_mode": {
    "name": "ipython",
    "version": 3
   },
   "file_extension": ".py",
   "mimetype": "text/x-python",
   "name": "python",
   "nbconvert_exporter": "python",
   "pygments_lexer": "ipython3",
   "version": "3.8.10"
  }
 },
 "nbformat": 4,
 "nbformat_minor": 4
}
