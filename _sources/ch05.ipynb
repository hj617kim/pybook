{
 "cells": [
  {
   "cell_type": "markdown",
   "id": "d1da4144-f1ac-4593-a623-1603d759af12",
   "metadata": {},
   "source": [
    "# 기본자료형"
   ]
  },
  {
   "cell_type": "markdown",
   "id": "a7d11ed4-358c-46f2-a7ee-57622c6ce8a8",
   "metadata": {},
   "source": [
    "자료형<font size = \"2\">Data Type</font>은 컴파일러나 인터프리터에게 데이터를 어떻게 사용할 것인지 알려주는 데이터 속성 중 하나다.   \n",
    "이번 장에서는 파이썬 프로그래밍 언어에서 사용되는 기본 자료형을 간단히 살펴보자. \n",
    "\n",
    "* 정수 <font size = \"2\">`int`</font> \n",
    "* 부동소수점 <font size = \"2\">`float`</font> \n",
    "* 불리언 <font size = \"2\">`bool`</font>\n",
    "* 문자열 <font size = \"2\">`str`</font>"
   ]
  },
  {
   "cell_type": "markdown",
   "id": "d96f5282-8c49-4e4f-9048-f12eebce419b",
   "metadata": {},
   "source": [
    "## 정수 <font size= \"4\">int</font>"
   ]
  },
  {
   "cell_type": "markdown",
   "id": "2d53794f-5d27-4f97-a5d1-f6faef5e9271",
   "metadata": {},
   "source": [
    "일반적으로 알고 있는 정수(자연수, 0, 음의 정수)들의 자료형이다. 정수형으로 나타내면 덧셈, 뺄셈, 곱셈, 나눗셈 등의 기본 연산이 가능하다.  \n",
    "예를 들어, ..., -3, -2, -1, 0, 1, 2, 3, ...은 모두 정수형(`int`)이다. "
   ]
  },
  {
   "cell_type": "markdown",
   "id": "2f65accb-e9c8-4fd7-930d-0a11ae5f186d",
   "metadata": {},
   "source": [
    "## 부동 소수점 <font size= \"4\">float</font>"
   ]
  },
  {
   "cell_type": "markdown",
   "id": "e189f1d4-2d37-43ea-b6a5-8460ec9fa6b9",
   "metadata": {},
   "source": [
    "부동소수점은 원래 실수를 컴퓨터에서 다루기 위해 개발되었으나 실제로는 유리수 일부만을 다룬다. 무리수인 원주율 $\\pi$의 경우에도 컴퓨터의 한계로 인해 소수점 이하 적당한 자리에서 끊어서 사용한다. 예를 들어, 1.2, 0.333, -1.2, -3.7680, 4.0 등은 모두 부동소수점형(`float`)이다.  "
   ]
  },
  {
   "cell_type": "markdown",
   "id": "119a81bf-61bf-4253-8777-ea800667a235",
   "metadata": {
    "tags": []
   },
   "source": [
    "### 기본 연산"
   ]
  },
  {
   "cell_type": "markdown",
   "id": "1c0ca5b2-fb96-4eb5-960a-4f82f83702f1",
   "metadata": {},
   "source": [
    "파이썬의 기본 연산을 표로 정리하면 아래와 같다. "
   ]
  },
  {
   "cell_type": "markdown",
   "id": "dccba24e-042e-4e97-b383-174877cab403",
   "metadata": {},
   "source": [
    "|연산 기호|의미|예시|실행 결과|\n",
    "|:----------:|:----------:|:----------:|:--------:|\n",
    "|`+`|덧셈| `3 + 4` |`7`|\n",
    "|`-`|뺄셈| `7 - 2` | `5`|\n",
    "|`*`|곱셈| `2 * 6` | `12`|\n",
    "|`/`|나눗셈|`14 / 4`|`3.5`|\n",
    "|`**`|지수|`2 ** 3`|`8`|\n",
    "|`//`|몫|`9 // 2`|`4`|\n",
    "|`%`|나머지|`3 % 2`|`1`|"
   ]
  },
  {
   "cell_type": "markdown",
   "id": "0945a79a-9410-4b12-8e9b-b8e24a8ece08",
   "metadata": {},
   "source": [
    "* 지수승을 나타내는 기호는 `**`이다. 예를 들어, 2의 세제곱을 계산하고자 할 때 사용한다. "
   ]
  },
  {
   "cell_type": "code",
   "execution_count": 1,
   "id": "a160d3e9-4670-4ee2-b3aa-d52f17af427a",
   "metadata": {},
   "outputs": [
    {
     "data": {
      "text/plain": [
       "8"
      ]
     },
     "execution_count": 1,
     "metadata": {},
     "output_type": "execute_result"
    }
   ],
   "source": [
    "2 ** 3"
   ]
  },
  {
   "cell_type": "code",
   "execution_count": 2,
   "id": "57dd10d4-3cd0-477e-af79-784e4859cb7b",
   "metadata": {},
   "outputs": [
    {
     "data": {
      "text/plain": [
       "3.0"
      ]
     },
     "execution_count": 2,
     "metadata": {},
     "output_type": "execute_result"
    }
   ],
   "source": [
    "9 ** 0.5"
   ]
  },
  {
   "cell_type": "markdown",
   "id": "2a7118ec-f076-4fa5-bd88-b21086b19d12",
   "metadata": {},
   "source": [
    "* 몫을 계산하는 연산자는 `//`이다. "
   ]
  },
  {
   "cell_type": "code",
   "execution_count": 2,
   "id": "247d609f-9b0e-438a-ac8a-28f7f6902691",
   "metadata": {},
   "outputs": [
    {
     "data": {
      "text/plain": [
       "1"
      ]
     },
     "execution_count": 2,
     "metadata": {},
     "output_type": "execute_result"
    }
   ],
   "source": [
    "7 // 5"
   ]
  },
  {
   "cell_type": "code",
   "execution_count": 3,
   "id": "9153e130-dada-456f-809d-dbf43d3d767b",
   "metadata": {},
   "outputs": [
    {
     "data": {
      "text/plain": [
       "1.0"
      ]
     },
     "execution_count": 3,
     "metadata": {},
     "output_type": "execute_result"
    }
   ],
   "source": [
    "7.0 // 5"
   ]
  },
  {
   "cell_type": "code",
   "execution_count": 4,
   "id": "dc9813d4-d1eb-4794-9df9-97230762fe88",
   "metadata": {},
   "outputs": [
    {
     "data": {
      "text/plain": [
       "-2"
      ]
     },
     "execution_count": 4,
     "metadata": {},
     "output_type": "execute_result"
    }
   ],
   "source": [
    "-7 // 5"
   ]
  },
  {
   "cell_type": "code",
   "execution_count": 5,
   "id": "6c27fe3c-79ae-4abc-bb81-d1768722a517",
   "metadata": {},
   "outputs": [
    {
     "data": {
      "text/plain": [
       "-2.0"
      ]
     },
     "execution_count": 5,
     "metadata": {},
     "output_type": "execute_result"
    }
   ],
   "source": [
    "-7.0 // 5"
   ]
  },
  {
   "cell_type": "markdown",
   "id": "34e07368-70e5-4698-8460-9b58d0f8d450",
   "metadata": {},
   "source": [
    "* 나머지를 계산하는 연산자는 `%`이다. "
   ]
  },
  {
   "cell_type": "code",
   "execution_count": 6,
   "id": "ce67b03f-1d86-467c-a30d-16510ab6d634",
   "metadata": {},
   "outputs": [
    {
     "data": {
      "text/plain": [
       "2"
      ]
     },
     "execution_count": 6,
     "metadata": {},
     "output_type": "execute_result"
    }
   ],
   "source": [
    "7 % 5"
   ]
  },
  {
   "cell_type": "code",
   "execution_count": 7,
   "id": "11e29d29-71da-4a98-a284-8c3588c4b9ac",
   "metadata": {},
   "outputs": [
    {
     "data": {
      "text/plain": [
       "3"
      ]
     },
     "execution_count": 7,
     "metadata": {},
     "output_type": "execute_result"
    }
   ],
   "source": [
    "-7 % 5"
   ]
  },
  {
   "cell_type": "markdown",
   "id": "873dbbcf-53af-4e70-ab8e-b30a20b45fc7",
   "metadata": {},
   "source": [
    ":::{admonition} 참고 \n",
    ":class: info\n",
    "\n",
    "(a // b) * b + a % b 를 구하면 a이다. \n",
    ":::"
   ]
  },
  {
   "cell_type": "code",
   "execution_count": 20,
   "id": "1bd9ea45-942d-460c-a114-147a586745ca",
   "metadata": {},
   "outputs": [
    {
     "data": {
      "text/plain": [
       "True"
      ]
     },
     "execution_count": 20,
     "metadata": {},
     "output_type": "execute_result"
    }
   ],
   "source": [
    "7 == (7 // 3) * 3 + 7 % 3"
   ]
  },
  {
   "cell_type": "code",
   "execution_count": 11,
   "id": "6f95f22a-afe6-4604-aafe-89f2207fec1f",
   "metadata": {},
   "outputs": [
    {
     "data": {
      "text/plain": [
       "True"
      ]
     },
     "execution_count": 11,
     "metadata": {},
     "output_type": "execute_result"
    }
   ],
   "source": [
    "-5 == (-5 // 2) * 2 + (-7 % 2)"
   ]
  },
  {
   "cell_type": "markdown",
   "id": "ba1b2504-15f8-4d9f-b54e-c40314831398",
   "metadata": {
    "tags": []
   },
   "source": [
    "## 문자열 <font size = \"4\"> str </font>"
   ]
  },
  {
   "cell_type": "markdown",
   "id": "e9026262-13b6-4297-9c7d-adbb2e141408",
   "metadata": {},
   "source": [
    "문자들을 나열한 값들을 일컫는 자료형으로 작은 따옴표(`'`) 또는 큰 따옴표(`\"`)를 사용한다. "
   ]
  },
  {
   "cell_type": "code",
   "execution_count": null,
   "id": "e4d5a605-2f63-4180-adcd-44718b6a7f20",
   "metadata": {},
   "outputs": [],
   "source": [
    "'Hello, World'"
   ]
  },
  {
   "cell_type": "code",
   "execution_count": null,
   "id": "e57ae5b5-5fad-4f19-a02d-8ece138e4f8a",
   "metadata": {},
   "outputs": [],
   "source": [
    "\"Hello, World\""
   ]
  },
  {
   "cell_type": "markdown",
   "id": "afed3230-7420-446a-93a9-ce7460f68926",
   "metadata": {},
   "source": [
    "````{prf:example}\n",
    ":label: my-example\n",
    "\n",
    "`Hello, \"World\"`를 보이는 그대로 출력하는 코드를 작성하여라. \n",
    "````"
   ]
  },
  {
   "cell_type": "markdown",
   "id": "11c79f86-ae65-42ce-a828-762c5c66e51c",
   "metadata": {},
   "source": [
    "문자열 내부에서 큰 따옴표를 사용하고 싶을 때는 작은 따옴표로 문자열을 감싸면 된다. "
   ]
  },
  {
   "cell_type": "code",
   "execution_count": 53,
   "id": "39b043cb-cbe2-484d-9580-da616cc24449",
   "metadata": {},
   "outputs": [
    {
     "name": "stdout",
     "output_type": "stream",
     "text": [
      "Hello, \"World\"\n"
     ]
    }
   ],
   "source": [
    "print('Hello, \"World\"')"
   ]
  },
  {
   "cell_type": "markdown",
   "id": "e3a64f28-b306-4ce4-8577-6d69b1b0bd9f",
   "metadata": {},
   "source": [
    "백슬래시(`\\`, 한글 키보드에서는 원화기호￦를 사용)를 사용하여 문자열 내부에서 사용되는 따옴표의 특수 역할을 해제<font size = \"2\">escape</font>할 수 있다. "
   ]
  },
  {
   "cell_type": "code",
   "execution_count": 54,
   "id": "8354a4af-4386-481b-8a9a-27766c75f04f",
   "metadata": {},
   "outputs": [
    {
     "name": "stdout",
     "output_type": "stream",
     "text": [
      "Hello, \"World\"\n"
     ]
    }
   ],
   "source": [
    "print(\"Hello, \\\"World\\\"\")"
   ]
  },
  {
   "cell_type": "markdown",
   "id": "4cd130b6-e8a3-4559-8756-868f23ce354d",
   "metadata": {},
   "source": [
    "반대로 문자열 내부에서 작은 따옴표를 사용하고 싶을 때는 큰 따옴표로 문자열을 감싸면 된다."
   ]
  },
  {
   "cell_type": "code",
   "execution_count": 111,
   "id": "2007e7b9-0e95-4720-b62b-e0bec2ccebb9",
   "metadata": {},
   "outputs": [
    {
     "name": "stdout",
     "output_type": "stream",
     "text": [
      "I'm a student\n"
     ]
    }
   ],
   "source": [
    "print(\"I'm a student\")"
   ]
  },
  {
   "cell_type": "markdown",
   "id": "e4ecb8fc-4c7a-40e6-b619-3f5edf63f893",
   "metadata": {},
   "source": [
    "여러 줄로 이루어진 문자열은 삼중 따옴표(`''' '''` 또는 `\"\"\" \"\"\"`)를 사용할 수 있다. "
   ]
  },
  {
   "cell_type": "code",
   "execution_count": 91,
   "id": "02d38907-b101-406f-ba37-eb82b3b84237",
   "metadata": {},
   "outputs": [
    {
     "name": "stdout",
     "output_type": "stream",
     "text": [
      "\n",
      "Hello,\n",
      " World\n",
      "\n"
     ]
    }
   ],
   "source": [
    "print('''\n",
    "Hello,\n",
    " World\n",
    "''')"
   ]
  },
  {
   "cell_type": "code",
   "execution_count": 92,
   "id": "966b8639-d6e6-47df-94cb-4bdaaff071bc",
   "metadata": {},
   "outputs": [
    {
     "name": "stdout",
     "output_type": "stream",
     "text": [
      "\n",
      "Hello,\n",
      " World\n",
      "\n"
     ]
    }
   ],
   "source": [
    "print(\"\"\"\n",
    "Hello,\n",
    " World\n",
    "\"\"\")"
   ]
  },
  {
   "cell_type": "markdown",
   "id": "768c7c1d-d157-46a4-8bc1-f117a07434d8",
   "metadata": {
    "tags": []
   },
   "source": [
    "### 기본 연산"
   ]
  },
  {
   "cell_type": "markdown",
   "id": "3d46c384-2da9-45d2-a2b3-9999d19a2f48",
   "metadata": {},
   "source": [
    "|연산 기호|의미|예시|실행 결과|\n",
    "|:----------:|:----------:|:----------:|:--------:|\n",
    "|`+`|덧셈| `'Hello ' + 'python'` |`'Hello python'`|\n",
    "|`*`|곱셈| `3*'Hello '` | `Hello Hello Hello `|"
   ]
  },
  {
   "cell_type": "code",
   "execution_count": 111,
   "id": "71d8b977-cb8b-42fb-8b3b-80f626981a97",
   "metadata": {},
   "outputs": [
    {
     "name": "stdout",
     "output_type": "stream",
     "text": [
      "안녕, 강현\n"
     ]
    }
   ],
   "source": [
    "name = \"강현\"\n",
    "print(\"안녕, \" + name)"
   ]
  },
  {
   "cell_type": "code",
   "execution_count": 14,
   "id": "9bb56e8b-d261-4be9-ae65-61ab1472c42e",
   "metadata": {},
   "outputs": [
    {
     "data": {
      "text/plain": [
       "'Hello Hello Hello '"
      ]
     },
     "execution_count": 14,
     "metadata": {},
     "output_type": "execute_result"
    }
   ],
   "source": [
    "\"Hello \" * 3"
   ]
  },
  {
   "cell_type": "code",
   "execution_count": 17,
   "id": "9366dbd1-88b0-4c2c-87b4-0e4e66392c67",
   "metadata": {},
   "outputs": [
    {
     "data": {
      "text/plain": [
       "'Hi Hi '"
      ]
     },
     "execution_count": 17,
     "metadata": {},
     "output_type": "execute_result"
    }
   ],
   "source": [
    "2 * \"Hi \""
   ]
  },
  {
   "cell_type": "markdown",
   "id": "c234c816-e844-497d-b320-a3984d48ec93",
   "metadata": {},
   "source": [
    ":::{admonition} 주의 :class: caution  \n",
    "변수에 할당된 값의 자료형에 따라 연산의 가능 여부가 결정된다. 예를 들어, 숫자와 문자열의 합은 정의되지 않으며, 실행할 경우 오류가 발생한다. \n",
    ":::"
   ]
  },
  {
   "cell_type": "code",
   "execution_count": 127,
   "id": "dac8292f-3699-42bc-93d6-382028ae5685",
   "metadata": {},
   "outputs": [
    {
     "ename": "TypeError",
     "evalue": "unsupported operand type(s) for +: 'int' and 'str'",
     "output_type": "error",
     "traceback": [
      "\u001b[0;31m---------------------------------------------------------------------------\u001b[0m",
      "\u001b[0;31mTypeError\u001b[0m                                 Traceback (most recent call last)",
      "\u001b[0;32m/tmp/ipykernel_279/3370966941.py\u001b[0m in \u001b[0;36m<module>\u001b[0;34m\u001b[0m\n\u001b[0;32m----> 1\u001b[0;31m \u001b[0;36m2\u001b[0m \u001b[0;34m+\u001b[0m \u001b[0mname\u001b[0m\u001b[0;34m\u001b[0m\u001b[0;34m\u001b[0m\u001b[0m\n\u001b[0m",
      "\u001b[0;31mTypeError\u001b[0m: unsupported operand type(s) for +: 'int' and 'str'"
     ]
    }
   ],
   "source": [
    "2 + name"
   ]
  },
  {
   "cell_type": "markdown",
   "id": "d22789f3-8b09-41ae-952b-1b89e286f474",
   "metadata": {
    "tags": []
   },
   "source": [
    "### whitespace"
   ]
  },
  {
   "cell_type": "markdown",
   "id": "932a0630-ebab-4907-aa63-1419069437f5",
   "metadata": {},
   "source": [
    "whitespace는 화면상으로 아무것도 표시되지 않는 공백 문자를 말한다.  \n",
    "\n",
    "`string.whitespace`는 공백으로 간주하는 문자를 포함하는 문자열로, 여기에는 스페이스<font size = \"2\">space</font>, 탭<font size = \"2\">tab</font>, 줄변경<font size = \"2\">line feed or new line</font>, 캐리지 리턴<font size = \"2\">carriage return</font>, 수직탭<font size = \"2\">vertical tab</font>, 폼피드<font size = \"2\">form feed</font> 문자가 포함된다."
   ]
  },
  {
   "cell_type": "code",
   "execution_count": 32,
   "id": "1bbb7148-38f7-4a48-ba0c-c6d33a11640d",
   "metadata": {},
   "outputs": [
    {
     "data": {
      "text/plain": [
       "' \\t\\n\\r\\x0b\\x0c'"
      ]
     },
     "execution_count": 32,
     "metadata": {},
     "output_type": "execute_result"
    }
   ],
   "source": [
    "import string\n",
    "string.whitespace"
   ]
  },
  {
   "cell_type": "markdown",
   "id": "fc875118-391d-402d-96bc-fbb6502318f1",
   "metadata": {},
   "source": [
    "|기호|설명|\n",
    "|:----------:|:----------:|\n",
    "|` `|공백 <font size = \"2\">space</font>| \n",
    "|`\\t`|탭 <font size = \"2\">tab</font>| \n",
    "|`\\n`|줄변경 <font size = \"2\">line feed or new line</font>|\n",
    "|`\\r`|캐리지 리턴 <font size = \"2\">carriage return</font>|\n",
    "|`\\v` 또는 `\\x0b`|수직탭 <font size = \"2\">vertical tab</font>|\n",
    "|`\\f` 또는 `\\x0c`|폼피드<font size = \"2\">form feed</font>|"
   ]
  },
  {
   "cell_type": "code",
   "execution_count": 36,
   "id": "2a97ddd8-b249-4099-82f7-04c15779e2cd",
   "metadata": {},
   "outputs": [
    {
     "name": "stdout",
     "output_type": "stream",
     "text": [
      "1\n",
      "2\t3\n"
     ]
    }
   ],
   "source": [
    "print('1\\n2\\t3')"
   ]
  },
  {
   "cell_type": "code",
   "execution_count": 37,
   "id": "4569e40c-3de9-467b-aad0-2418d14ed79c",
   "metadata": {},
   "outputs": [
    {
     "name": "stdout",
     "output_type": "stream",
     "text": [
      "124\n"
     ]
    }
   ],
   "source": [
    "print('123\\b4')"
   ]
  },
  {
   "cell_type": "markdown",
   "id": "23abd715-8d70-4df8-9741-ddcbf710858f",
   "metadata": {},
   "source": [
    "* 캐리지 리턴(`\\r`)은 그 줄의 맨앞으로 이동시키는 특수 문자이다."
   ]
  },
  {
   "cell_type": "code",
   "execution_count": 53,
   "id": "901e3690-71cd-4a1a-9ec6-107bc59ad96f",
   "metadata": {},
   "outputs": [
    {
     "name": "stdout",
     "output_type": "stream",
     "text": [
      "5634\n"
     ]
    }
   ],
   "source": [
    "print('1234\\r56')"
   ]
  },
  {
   "cell_type": "markdown",
   "id": "456b60d4-97e2-4553-8f52-545de260a5d3",
   "metadata": {},
   "source": [
    "* `\\v` 또는 `\\x0b`는 수직탭이고,  `\\f` 또는 `\\x0c`는 다음 페이지로 이동하는 것을 의미한다. "
   ]
  },
  {
   "cell_type": "markdown",
   "id": "4790ddea-5387-405c-8fad-1ba2cc6afe2e",
   "metadata": {},
   "source": [
    ":::{admonition} 문자열 `''`과 문자의 `' '` 차이첨 \n",
    ":class: info\n",
    "\n",
    "빈 문자열<font size = \"2\">empty string</font> `''`는 아무런 문자도 포함하지 않았기 때문에 문자열의 길이 즉, 문자열에 포함된 문자의 개수가 0이다.   \n",
    "반면 `' '`는 눈에 보이지는 않지만 공백 문제 하나를 포함하는 문자열이며 길이가 1이다. \n",
    ":::"
   ]
  },
  {
   "cell_type": "markdown",
   "id": "0e33dd73-050f-42cb-8b5f-696a14e7d00b",
   "metadata": {
    "tags": []
   },
   "source": [
    "### 문자열에 특수 문자 활용하기"
   ]
  },
  {
   "cell_type": "markdown",
   "id": "7f09dff6-202c-4fb9-be2a-c3a54befbcca",
   "metadata": {},
   "source": [
    "백슬래시(￦), 줄바꾸기(￦n), 탭(￦t) 등은 문자열에 사용될 경우 특수한 기능을 갖는다. 그리고 백슬래시(`\\`)기호를 붙여서 특수 기능을 해제<font size= \"2\">escape</font>할 수 있다."
   ]
  },
  {
   "cell_type": "code",
   "execution_count": 3,
   "id": "a33dad16-b112-4c87-911f-412cdafea4aa",
   "metadata": {},
   "outputs": [
    {
     "name": "stdout",
     "output_type": "stream",
     "text": [
      "Hello\\n World\n"
     ]
    }
   ],
   "source": [
    "print(\"Hello\\\\n World\")"
   ]
  },
  {
   "cell_type": "code",
   "execution_count": 4,
   "id": "db577ef9-4e9d-4317-bc4f-ac773aca7ae7",
   "metadata": {},
   "outputs": [
    {
     "name": "stdout",
     "output_type": "stream",
     "text": [
      "Hello\\t World\n"
     ]
    }
   ],
   "source": [
    "print(\"Hello\\\\t World\")"
   ]
  },
  {
   "cell_type": "code",
   "execution_count": 5,
   "id": "883b72c4-b57a-4267-a932-95ad7c588a6f",
   "metadata": {},
   "outputs": [
    {
     "name": "stdout",
     "output_type": "stream",
     "text": [
      "Good\\night\n"
     ]
    }
   ],
   "source": [
    "print(\"Good\\\\night\")"
   ]
  },
  {
   "cell_type": "markdown",
   "id": "78c70207-3523-4e6e-96d1-8c3c03b687f4",
   "metadata": {},
   "source": [
    "연속된 백슬래시 두 개를 출력하려면 아래와 같이 해야 한다."
   ]
  },
  {
   "cell_type": "code",
   "execution_count": 7,
   "id": "f3430738-e739-4d91-a29e-633443c93cfc",
   "metadata": {},
   "outputs": [
    {
     "name": "stdout",
     "output_type": "stream",
     "text": [
      "\\\\\n"
     ]
    }
   ],
   "source": [
    "print(\"\\\\\\\\\")"
   ]
  },
  {
   "cell_type": "markdown",
   "id": "f14bf9f3-a1fd-47be-8156-eaebb8bea5ee",
   "metadata": {},
   "source": [
    "아래와 같이 코드를 작성하면 오류가 발생하므로 주의해야 한다."
   ]
  },
  {
   "cell_type": "code",
   "execution_count": 6,
   "id": "df3259bd-ac18-4448-a68d-031806513c3c",
   "metadata": {},
   "outputs": [
    {
     "ename": "SyntaxError",
     "evalue": "EOL while scanning string literal (2337434698.py, line 1)",
     "output_type": "error",
     "traceback": [
      "\u001b[0;36m  File \u001b[0;32m\"/tmp/ipykernel_76/2337434698.py\"\u001b[0;36m, line \u001b[0;32m1\u001b[0m\n\u001b[0;31m    print(\"\\\\\\\")\u001b[0m\n\u001b[0m                ^\u001b[0m\n\u001b[0;31mSyntaxError\u001b[0m\u001b[0;31m:\u001b[0m EOL while scanning string literal\n"
     ]
    }
   ],
   "source": [
    "print(\"\\\\\\\")"
   ]
  },
  {
   "cell_type": "markdown",
   "id": "373bd988-5c89-4763-8941-b20be415f334",
   "metadata": {},
   "source": [
    ":::{admonition} 참고 \n",
    ":class: info  \n",
    "**순수 문자열**\n",
    "'가공되지 않은'의 의미를 갖는 'raw' 단어의 첫 글자인 'r'을 문자열 앞에 두면 특수 기능이 사라진다.\n",
    ":::"
   ]
  },
  {
   "cell_type": "code",
   "execution_count": 8,
   "id": "f001fdbb-de32-4ce6-bd06-7451e08eecce",
   "metadata": {},
   "outputs": [
    {
     "name": "stdout",
     "output_type": "stream",
     "text": [
      "Hello\\n World\n"
     ]
    }
   ],
   "source": [
    "print(r\"Hello\\n World\")"
   ]
  },
  {
   "cell_type": "code",
   "execution_count": 9,
   "id": "7ae0db1a-75f5-4692-af0d-d50789ca9259",
   "metadata": {},
   "outputs": [
    {
     "name": "stdout",
     "output_type": "stream",
     "text": [
      "Hello\\t World\n"
     ]
    }
   ],
   "source": [
    "print(r\"Hello\\t World\")"
   ]
  },
  {
   "cell_type": "code",
   "execution_count": 10,
   "id": "3aefec91-d251-4c6f-b224-bdd7a158d5d1",
   "metadata": {},
   "outputs": [
    {
     "name": "stdout",
     "output_type": "stream",
     "text": [
      "Hello\\ World\n"
     ]
    }
   ],
   "source": [
    "print(r\"Hello\\ World\")"
   ]
  },
  {
   "cell_type": "markdown",
   "id": "f46d223a-a7a9-4eaf-88d3-0edbe0fb7971",
   "metadata": {
    "tags": []
   },
   "source": [
    "### 문자열과 `input()` 함수"
   ]
  },
  {
   "cell_type": "markdown",
   "id": "0da1b2dd-8dc9-46ef-9372-6780da3f1a52",
   "metadata": {},
   "source": [
    "사용자의 입력은 `input()` 함수를 사용하여 받을 수 있다. 아래와 같이 `input()`을 입력하고 코드를 실행하면, 그 아래에 값을 입력하라는 창이 나온다. 그곳에 `Hello, python!`을 입력하고 엔터<font size =\"2\">enter</font>를 누르면 입력한 문자열이 그대로 출력된다."
   ]
  },
  {
   "cell_type": "code",
   "execution_count": 75,
   "id": "2109b266-238f-4c57-a3ff-072b50295c11",
   "metadata": {},
   "outputs": [
    {
     "name": "stdin",
     "output_type": "stream",
     "text": [
      " Hello, python!\n"
     ]
    },
    {
     "data": {
      "text/plain": [
       "'Hello, python!'"
      ]
     },
     "execution_count": 75,
     "metadata": {},
     "output_type": "execute_result"
    }
   ],
   "source": [
    "input()"
   ]
  },
  {
   "cell_type": "markdown",
   "id": "d0c5cc9e-5481-4289-932e-90ac2a314ec7",
   "metadata": {},
   "source": [
    "`input()` 함수로 입력받은 값은 변수에 할당하여 사용할 수도 있다."
   ]
  },
  {
   "cell_type": "code",
   "execution_count": 76,
   "id": "c896f9f1-7cf4-4921-82b9-6f43e447ab09",
   "metadata": {},
   "outputs": [
    {
     "name": "stdin",
     "output_type": "stream",
     "text": [
      " python!\n"
     ]
    },
    {
     "name": "stdout",
     "output_type": "stream",
     "text": [
      "Hello, python!\n"
     ]
    }
   ],
   "source": [
    "name = input()\n",
    "print(\"Hello, \" + name)"
   ]
  },
  {
   "cell_type": "markdown",
   "id": "770046ba-eb59-4dd0-8069-e999e82d2f0c",
   "metadata": {},
   "source": [
    "이때 `input()` 함수로 입력받은 값은 문자열`str`이다."
   ]
  },
  {
   "cell_type": "code",
   "execution_count": 77,
   "id": "94954e7e-20dd-4202-b810-89a15cdfee45",
   "metadata": {},
   "outputs": [
    {
     "data": {
      "text/plain": [
       "str"
      ]
     },
     "execution_count": 77,
     "metadata": {},
     "output_type": "execute_result"
    }
   ],
   "source": [
    "type(name)"
   ]
  },
  {
   "cell_type": "markdown",
   "id": "438a8616-7b72-4916-84f4-9d24a899b9b3",
   "metadata": {},
   "source": [
    "사용자가 숫자를 입력하더라도 입력받은 값은 문자열`str`이다."
   ]
  },
  {
   "cell_type": "code",
   "execution_count": 80,
   "id": "05dec1e8-67aa-4c4d-a349-67e091fbd48e",
   "metadata": {},
   "outputs": [
    {
     "name": "stdin",
     "output_type": "stream",
     "text": [
      " 123\n"
     ]
    },
    {
     "data": {
      "text/plain": [
       "str"
      ]
     },
     "execution_count": 80,
     "metadata": {},
     "output_type": "execute_result"
    }
   ],
   "source": [
    "num = input()\n",
    "type(num)"
   ]
  },
  {
   "cell_type": "markdown",
   "id": "fcdea0ce-912b-41c0-8da1-0e4350ac3d86",
   "metadata": {},
   "source": [
    "사용자에게 무엇을 입력할지 알려주고 싶다면, 그 내용의 문자열을 `input()`의 인자로 사용하면 된다."
   ]
  },
  {
   "cell_type": "code",
   "execution_count": 83,
   "id": "937e5696-da4c-4729-b120-3b44eac87c4e",
   "metadata": {},
   "outputs": [
    {
     "name": "stdin",
     "output_type": "stream",
     "text": [
      "정수를 입력하세요 :  135\n"
     ]
    },
    {
     "name": "stdout",
     "output_type": "stream",
     "text": [
      "입력하신 정수는 135입니다.\n"
     ]
    }
   ],
   "source": [
    "input_num = input(\"정수를 입력하세요 : \")\n",
    "print(\"입력하신 정수는 \" + input_num + \"입니다.\")"
   ]
  },
  {
   "cell_type": "markdown",
   "id": "c49093a8-0e14-48db-8f0b-b80eee86101b",
   "metadata": {},
   "source": [
    "### 문자열과 `print()` 함수"
   ]
  },
  {
   "cell_type": "markdown",
   "id": "67bee7a8-1a9c-4d93-8d77-961f129ba070",
   "metadata": {},
   "source": [
    "그 동안 출력을 위해 `print()` 함수를 사용하였다. 예를 들어, `Hello, python`을 출력하고 싶다면, 아래와 같이 코드를 작성하면 된다. "
   ]
  },
  {
   "cell_type": "code",
   "execution_count": 84,
   "id": "7bc87a58-162f-4d32-9121-8bfaecb9bafd",
   "metadata": {},
   "outputs": [
    {
     "name": "stdout",
     "output_type": "stream",
     "text": [
      "Hello, python\n"
     ]
    }
   ],
   "source": [
    "print('Hello, python')"
   ]
  },
  {
   "cell_type": "markdown",
   "id": "d9c57eef-342f-446d-8904-794c4052c114",
   "metadata": {},
   "source": [
    "이제 `print()` 함수에 대해서 조금 더 살펴보자. "
   ]
  },
  {
   "cell_type": "markdown",
   "id": "3bac0621-2d95-484a-a879-170e4ec34719",
   "metadata": {},
   "source": [
    "* 큰 따옴표(또는 작은 따옴표)로 둘러싸인 문자열을 연속해서 사용하면 문자열에서 +연산을 한 것과 동일한 결과를 출력해준다."
   ]
  },
  {
   "cell_type": "code",
   "execution_count": 86,
   "id": "cc67348f-68a4-4747-bdc1-29bcfe65bec7",
   "metadata": {},
   "outputs": [
    {
     "name": "stdout",
     "output_type": "stream",
     "text": [
      "Hello World\n",
      "Hello World\n",
      "Hello World\n",
      "Hello World\n"
     ]
    }
   ],
   "source": [
    "print(\"Hello \"\"World\")\n",
    "print('Hello ''World')\n",
    "print('Hello '\"World\")\n",
    "print(\"Hello \" + \"World\")"
   ]
  },
  {
   "cell_type": "markdown",
   "id": "ab7e57dc-da15-49a3-9571-fc4e1edfda18",
   "metadata": {},
   "source": [
    "* 문자열 사이에 콤마(`,`)를 사용하면 띄어쓰기를 할 수 있다."
   ]
  },
  {
   "cell_type": "code",
   "execution_count": 87,
   "id": "3237ba5a-6c99-42e4-a9b7-20f5d6a84c52",
   "metadata": {},
   "outputs": [
    {
     "name": "stdout",
     "output_type": "stream",
     "text": [
      "Hello World\n"
     ]
    }
   ],
   "source": [
    "print(\"Hello\", \"World\")"
   ]
  },
  {
   "cell_type": "markdown",
   "id": "32e845c1-edb5-423e-8e13-94e7d739ca27",
   "metadata": {},
   "source": [
    "* 인자들 사이에 구분자를 넣고 싶다면, `sep`을 변경하면 된다. `sep`의 기본값은 공백이다."
   ]
  },
  {
   "cell_type": "code",
   "execution_count": 88,
   "id": "3a89b8b1-d02e-4407-a097-33a0f0fe32d3",
   "metadata": {},
   "outputs": [
    {
     "name": "stdout",
     "output_type": "stream",
     "text": [
      "010-1234-5678\n",
      "Hello, World\n"
     ]
    }
   ],
   "source": [
    "print(\"010\", \"1234\", \"5678\", sep = \"-\")\n",
    "print(\"Hello\", \"World\", sep = \", \")"
   ]
  },
  {
   "cell_type": "markdown",
   "id": "7583403b-c43f-4f71-a8e0-c73743ea6cd2",
   "metadata": {},
   "source": [
    "* 마지막에 출력할 문자를 변경하고 싶다면, `end`를 변경하면 된다. `end`의 기본값은 줄변경(`\\n`)이다."
   ]
  },
  {
   "cell_type": "code",
   "execution_count": 89,
   "id": "7c4f4a68-1bdb-4f4f-b990-29c19d072ed4",
   "metadata": {},
   "outputs": [
    {
     "name": "stdout",
     "output_type": "stream",
     "text": [
      "a\n",
      "bc\td\n"
     ]
    }
   ],
   "source": [
    "print(\"a\")\n",
    "print(\"b\", end = \"\")\n",
    "print(\"c\", end = \"\\t\")\n",
    "print(\"d\")"
   ]
  },
  {
   "cell_type": "markdown",
   "id": "af8ff9ad-b2da-4ffe-a2d4-89c180c55db6",
   "metadata": {},
   "source": [
    "### 문자열 포매팅 <font size = \"2\">String formatting</font>"
   ]
  },
  {
   "cell_type": "markdown",
   "id": "5c23bf80-de0e-4f4f-9410-c3e989132f10",
   "metadata": {},
   "source": [
    "#### `str.format()`"
   ]
  },
  {
   "cell_type": "markdown",
   "id": "ee054812-5168-4856-97cc-10653a33f565",
   "metadata": {},
   "source": [
    "`format()`메서드를 사용하면, 문자열의 중괄호(`{}`)가 `format()`의 인자로 변경된다. 예제와 함께 살펴보자. "
   ]
  },
  {
   "cell_type": "code",
   "execution_count": 113,
   "id": "0d313f09-5d39-4685-ba8b-82818a0120dc",
   "metadata": {},
   "outputs": [
    {
     "data": {
      "text/plain": [
       "'강현님, 안녕하세요.'"
      ]
     },
     "execution_count": 113,
     "metadata": {},
     "output_type": "execute_result"
    }
   ],
   "source": [
    "'{}님, 안녕하세요.'.format('강현')"
   ]
  },
  {
   "cell_type": "code",
   "execution_count": 114,
   "id": "ea46dc49-babe-4531-b3c9-5ce2f2958b18",
   "metadata": {},
   "outputs": [
    {
     "data": {
      "text/plain": [
       "'강현님, 안녕하세요.'"
      ]
     },
     "execution_count": 114,
     "metadata": {},
     "output_type": "execute_result"
    }
   ],
   "source": [
    "name = '강현'\n",
    "'{}님, 안녕하세요.'.format(name)"
   ]
  },
  {
   "cell_type": "code",
   "execution_count": 117,
   "id": "4b00b272-06f8-47a6-95a5-17f5d8a3c2c7",
   "metadata": {},
   "outputs": [
    {
     "data": {
      "text/plain": [
       "'강현이는 3살이다.'"
      ]
     },
     "execution_count": 117,
     "metadata": {},
     "output_type": "execute_result"
    }
   ],
   "source": [
    "age = 3\n",
    "'강현이는 {}살이다.'.format(age)"
   ]
  },
  {
   "cell_type": "markdown",
   "id": "ccbac4b6-d47e-4071-bfcc-c55fd294b5eb",
   "metadata": {},
   "source": [
    "여러 개의 값을 변경할 때는 콤마(`,`)로 구분해서 적어준다. "
   ]
  },
  {
   "cell_type": "code",
   "execution_count": 118,
   "id": "d6aab2ec-c841-4bd8-ba79-5ccaaee447a4",
   "metadata": {},
   "outputs": [
    {
     "data": {
      "text/plain": [
       "'강현이는 3살이다.'"
      ]
     },
     "execution_count": 118,
     "metadata": {},
     "output_type": "execute_result"
    }
   ],
   "source": [
    "name = '강현'\n",
    "age = 3\n",
    "'{}이는 {}살이다.'.format(name, age)"
   ]
  },
  {
   "cell_type": "markdown",
   "id": "2ec95658-8959-4054-899c-af6bc50ddea8",
   "metadata": {},
   "source": [
    "인덱스 항목을 사용하여 넣어줄 위치를 지정할 수도 있다."
   ]
  },
  {
   "cell_type": "code",
   "execution_count": 121,
   "id": "5b23f6ce-36a4-40b3-bd19-02c48c62f322",
   "metadata": {},
   "outputs": [
    {
     "name": "stdout",
     "output_type": "stream",
     "text": [
      "강현이와 나영이는 친구다.\n",
      "강현이와 나영이는 친구다.\n",
      "나영이와 강현이는 친구다.\n"
     ]
    }
   ],
   "source": [
    "name1 = '강현'\n",
    "name2 = '나영'\n",
    "print('{}이와 {}이는 친구다.'.format(name1, name2))\n",
    "print('{0}이와 {1}이는 친구다.'.format(name1, name2))\n",
    "print('{1}이와 {0}이는 친구다.'.format(name1, name2))"
   ]
  },
  {
   "cell_type": "markdown",
   "id": "b3ee035c-403e-4e02-848f-b769a4724388",
   "metadata": {},
   "source": [
    "**소수점 표현**  \n",
    "\n",
    "콜론(`:`) 뒤에 소수점아래 몇 번째 자리까지 출력할지를 적어주면, 그 만큼을 보여준다.  \n",
    "예제와 함께 살펴보자. \n",
    "* `.`은 소수점을 의미하고, 소수점 뒤의 숫자는 소수점 뒤에 나올 숫자의 개수다.  "
   ]
  },
  {
   "cell_type": "code",
   "execution_count": 101,
   "id": "3e9c8406-6893-43d7-9ea0-edded5fb5529",
   "metadata": {},
   "outputs": [
    {
     "name": "stdout",
     "output_type": "stream",
     "text": [
      "0.1\n",
      "0.12\n",
      "0.123\n",
      "0.12346\n"
     ]
    }
   ],
   "source": [
    "num = 0.123456789\n",
    "print('{0:.1f}'.format(num))\n",
    "print('{0:.2f}'.format(num))\n",
    "print('{0:.3f}'.format(num))\n",
    "print('{0:.5f}'.format(num)) # 소수점 아래 여섯 번째 자리에서 반올림"
   ]
  },
  {
   "cell_type": "markdown",
   "id": "7cda9828-54ce-4b2b-a0ff-d7d83e7af0b5",
   "metadata": {},
   "source": [
    "#### f-string"
   ]
  },
  {
   "cell_type": "markdown",
   "id": "78be98f8-1b5c-4cf8-9f1b-6dcc637a6b96",
   "metadata": {},
   "source": [
    "문자열에 `f` 를 붙이면, 문자열 포매팅 기능을 사용할 수 있다.  \n",
    "예제와 함께 살펴보자. "
   ]
  },
  {
   "cell_type": "code",
   "execution_count": 122,
   "id": "889e5232-f5c5-41a8-b1ad-3143bbc4f55b",
   "metadata": {},
   "outputs": [
    {
     "data": {
      "text/plain": [
       "'강현님, 안녕하세요.'"
      ]
     },
     "execution_count": 122,
     "metadata": {},
     "output_type": "execute_result"
    }
   ],
   "source": [
    "name = '강현'\n",
    "f'{name}님, 안녕하세요.'"
   ]
  },
  {
   "cell_type": "code",
   "execution_count": 123,
   "id": "8c44646d-333c-4aae-a12e-a836d25cb2de",
   "metadata": {},
   "outputs": [
    {
     "data": {
      "text/plain": [
       "'강현이는 3살이다.'"
      ]
     },
     "execution_count": 123,
     "metadata": {},
     "output_type": "execute_result"
    }
   ],
   "source": [
    "age = 3\n",
    "f'강현이는 {age}살이다.'"
   ]
  },
  {
   "cell_type": "code",
   "execution_count": 124,
   "id": "0b41987b-0d42-4524-a9f5-22c6fc1b52d8",
   "metadata": {},
   "outputs": [
    {
     "data": {
      "text/plain": [
       "'강현이는 3살이다.'"
      ]
     },
     "execution_count": 124,
     "metadata": {},
     "output_type": "execute_result"
    }
   ],
   "source": [
    "name = '강현'\n",
    "age = 3\n",
    "f'{name}이는 {age}살이다.'"
   ]
  },
  {
   "cell_type": "markdown",
   "id": "df79915f-8a9d-46d0-9a98-69601068e61b",
   "metadata": {},
   "source": [
    "`{}`안에 변수와 수식(`+`, `-`, `*`, `/` 등)을 함께 사용하는 것도 가능하다. "
   ]
  },
  {
   "cell_type": "code",
   "execution_count": 126,
   "id": "ff1abb9b-af8b-4751-9b64-0c054183a1ae",
   "metadata": {},
   "outputs": [
    {
     "data": {
      "text/plain": [
       "'강현이의 동생은 1살이다'"
      ]
     },
     "execution_count": 126,
     "metadata": {},
     "output_type": "execute_result"
    }
   ],
   "source": [
    "name = '강현'\n",
    "age = 3\n",
    "f'{name}이의 동생은 {age - 2}살이다'"
   ]
  },
  {
   "cell_type": "code",
   "execution_count": 109,
   "id": "28e91cab-79e6-4ce3-99ef-889b669eebcc",
   "metadata": {},
   "outputs": [
    {
     "name": "stdout",
     "output_type": "stream",
     "text": [
      "0.1\n",
      "0.12\n",
      "0.123\n"
     ]
    }
   ],
   "source": [
    "num = 0.123456789\n",
    "print(f'{num:.1f}')\n",
    "print(f'{num:.2f}')\n",
    "print(f'{num:.3f}')"
   ]
  },
  {
   "cell_type": "markdown",
   "id": "2eb3e9e7-7fac-400b-a90a-9361e2b9b69f",
   "metadata": {
    "tags": []
   },
   "source": [
    "## 불리언 <font size = \"4\"> bool </font>"
   ]
  },
  {
   "cell_type": "markdown",
   "id": "f0e1f96a-773c-495f-b01a-9d9d96055c16",
   "metadata": {},
   "source": [
    "참(`True`)과 거짓(`False`)를 나타내는 자료형이다. 파이썬에서 불리언 자료형은 `int` 형의 자식형<font size = \"2\"> subtype</font>이고, 대부분의 상황에서 `True`와 `False`는 각각 `1`과 `0`처럼 동작한다. "
   ]
  },
  {
   "cell_type": "markdown",
   "id": "a81e9b7f-825a-4724-8c0b-9bf779ab918f",
   "metadata": {},
   "source": [
    "### 논리 연산자"
   ]
  },
  {
   "cell_type": "markdown",
   "id": "adf4147f-08f0-40ea-9774-c93643e35b6f",
   "metadata": {},
   "source": [
    "|연산 기호|의미|예시|실행 결과|\n",
    "|:----------:|:----------:|:----------:|:--------:|\n",
    "|`and`|그리고|`True and False`|`False`|\n",
    "|`or`|또는|`True or False`|`True`|\n",
    "|`not`|부정|`not False`|`True`|"
   ]
  },
  {
   "cell_type": "markdown",
   "id": "ec304936-ac0d-4633-9be8-1b2fb8f32667",
   "metadata": {},
   "source": [
    ":::{admonition} 참고 \n",
    ":class: info\n",
    "\n",
    "`x and y`는 `x`가 참일 때만 `y`를 확인한다.  \n",
    "`x or y`는 `x`가 거짓일 때만 `y`를 확인한다.\n",
    ":::"
   ]
  },
  {
   "cell_type": "code",
   "execution_count": 55,
   "id": "b06d94e2-12bb-4797-98dc-533877723095",
   "metadata": {},
   "outputs": [
    {
     "data": {
      "text/plain": [
       "False"
      ]
     },
     "execution_count": 55,
     "metadata": {},
     "output_type": "execute_result"
    }
   ],
   "source": [
    "False and 3/0"
   ]
  },
  {
   "cell_type": "code",
   "execution_count": 56,
   "id": "8d419958-0617-4d6b-91c8-cc1aa623c415",
   "metadata": {},
   "outputs": [
    {
     "ename": "ZeroDivisionError",
     "evalue": "division by zero",
     "output_type": "error",
     "traceback": [
      "\u001b[0;31m---------------------------------------------------------------------------\u001b[0m",
      "\u001b[0;31mZeroDivisionError\u001b[0m                         Traceback (most recent call last)",
      "\u001b[0;32m/tmp/ipykernel_422/2156724109.py\u001b[0m in \u001b[0;36m<module>\u001b[0;34m\u001b[0m\n\u001b[0;32m----> 1\u001b[0;31m \u001b[0;32mTrue\u001b[0m \u001b[0;32mand\u001b[0m \u001b[0;36m3\u001b[0m\u001b[0;34m/\u001b[0m\u001b[0;36m0\u001b[0m\u001b[0;34m\u001b[0m\u001b[0;34m\u001b[0m\u001b[0m\n\u001b[0m",
      "\u001b[0;31mZeroDivisionError\u001b[0m: division by zero"
     ]
    }
   ],
   "source": [
    "True and 3/0"
   ]
  },
  {
   "cell_type": "markdown",
   "id": "f69ce809-4f67-4a81-9222-1891d7c1f5f3",
   "metadata": {},
   "source": [
    "### 비교 연산자"
   ]
  },
  {
   "cell_type": "markdown",
   "id": "1b98b3dc-3c9a-469e-91af-a4bd740e05ae",
   "metadata": {},
   "source": [
    "|연산 기호|의미|예시|실행 결과|\n",
    "|:----------:|:----------:|:----------:|:--------:|\n",
    "|`<`|작다|`2 < 1`|`False`|\n",
    "|`<=`|작거나 같다|`1 <= 2`|`True`|\n",
    "|`>`|크다|`2 > 1`|`True`|\n",
    "|`>=`|크거나 같다|`1 >= 2`|`False`|\n",
    "|`==`|같다|`1 == '1'`|`False`|\n",
    "|`!=`|같지 않다|`1 != '1'`|`True`|"
   ]
  },
  {
   "cell_type": "markdown",
   "id": "3d820596-9054-4d5f-940a-7d412c248597",
   "metadata": {},
   "source": [
    "서로 다른 숫자형을 제외하고는 서로 다른 형은 같다고 비교되지 않는다. "
   ]
  },
  {
   "cell_type": "markdown",
   "id": "c6a86e17-4f2f-4e75-8d91-692d1cd86e84",
   "metadata": {},
   "source": [
    "예를 들어, 정수 `1`와 부동소수점 `1.0`이 같은지 여부를 확인해보자."
   ]
  },
  {
   "cell_type": "code",
   "execution_count": 17,
   "id": "e20dfe0c-1bb1-497d-9bb1-ed01be8b4a4e",
   "metadata": {},
   "outputs": [
    {
     "data": {
      "text/plain": [
       "True"
      ]
     },
     "execution_count": 17,
     "metadata": {},
     "output_type": "execute_result"
    }
   ],
   "source": [
    "1 == 1.0"
   ]
  },
  {
   "cell_type": "markdown",
   "id": "16047d26-a58b-4d44-a28c-494c8fa26750",
   "metadata": {},
   "source": [
    "반면, 정수 `1`과 문자열 `'1'`은 형<font size = \"2\">type</font>이 달라서 같은지 여부를 확인해보면, `False`가 나온다."
   ]
  },
  {
   "cell_type": "code",
   "execution_count": 18,
   "id": "c32cfabb-3d42-4299-9ef5-65a62c7b084d",
   "metadata": {},
   "outputs": [
    {
     "data": {
      "text/plain": [
       "False"
      ]
     },
     "execution_count": 18,
     "metadata": {},
     "output_type": "execute_result"
    }
   ],
   "source": [
    "1 == '1'"
   ]
  },
  {
   "cell_type": "code",
   "execution_count": 8,
   "id": "5a92eab1-a9c5-4423-8f85-68f553a28d95",
   "metadata": {},
   "outputs": [
    {
     "data": {
      "text/plain": [
       "True"
      ]
     },
     "execution_count": 8,
     "metadata": {},
     "output_type": "execute_result"
    }
   ],
   "source": [
    "1 == 1.0"
   ]
  },
  {
   "cell_type": "markdown",
   "id": "6a7738b5-0cdc-491a-89b1-688d30a3705f",
   "metadata": {},
   "source": [
    "문자열도 비교연산자를 사용할 수 있다.   \n",
    "크기 비교 연산자들은 영어 사전식의 알파벳 순서를 사용한다. "
   ]
  },
  {
   "cell_type": "code",
   "execution_count": 28,
   "id": "c331c302-bb9e-4001-9821-0a2fed6e1920",
   "metadata": {},
   "outputs": [
    {
     "data": {
      "text/plain": [
       "False"
      ]
     },
     "execution_count": 28,
     "metadata": {},
     "output_type": "execute_result"
    }
   ],
   "source": [
    "'apple' == 'pineapple'"
   ]
  },
  {
   "cell_type": "code",
   "execution_count": 26,
   "id": "252bcf1d-8bc6-42e3-b1a7-ccc8491e8907",
   "metadata": {},
   "outputs": [
    {
     "data": {
      "text/plain": [
       "True"
      ]
     },
     "execution_count": 26,
     "metadata": {},
     "output_type": "execute_result"
    }
   ],
   "source": [
    "'apple' < 'banana'"
   ]
  },
  {
   "cell_type": "markdown",
   "id": "903309e2-fc62-4dce-9926-7d1d30fc38ac",
   "metadata": {},
   "source": [
    ":::{admonition} 참고 \n",
    ":class: info\n",
    "영어 알파벳의 경우 대문자가 소문자보다 작다고 판단한다.\n",
    ":::"
   ]
  },
  {
   "cell_type": "markdown",
   "id": "3cf818fd-1694-48fd-a75a-ee664a72241c",
   "metadata": {},
   "source": [
    "## 형변환 함수"
   ]
  },
  {
   "cell_type": "markdown",
   "id": "1a29676d-ae6d-4da9-af8d-2fc1ebd826f3",
   "metadata": {},
   "source": [
    "형변환<font size = \"2\"> type casting</font>은 자료형을 변환하는 것으로, 파이썬은 다양한 형변환 함수를 제공한다.   \n",
    "\n",
    "* `int()` : 정수형으로 변환. 부동소수점을 정수로 변환할 때, 소수점 이하는 버려진다. \n",
    "* `float()` 부동소수점형으로 변환.\n",
    "* `str()` : 문자열형으로 변환.\n",
    "* `bool()` : 불리언형으로 변환  "
   ]
  },
  {
   "cell_type": "code",
   "execution_count": 66,
   "id": "60e8db25-e25b-4167-9930-4e15237016ee",
   "metadata": {},
   "outputs": [
    {
     "data": {
      "text/plain": [
       "4"
      ]
     },
     "execution_count": 66,
     "metadata": {},
     "output_type": "execute_result"
    }
   ],
   "source": [
    "int(4.8)"
   ]
  },
  {
   "cell_type": "code",
   "execution_count": 67,
   "id": "da21309a-a8e9-4e59-8261-8049d964b048",
   "metadata": {},
   "outputs": [
    {
     "data": {
      "text/plain": [
       "5"
      ]
     },
     "execution_count": 67,
     "metadata": {},
     "output_type": "execute_result"
    }
   ],
   "source": [
    "int('5')"
   ]
  },
  {
   "cell_type": "code",
   "execution_count": 71,
   "id": "da74d2d0-2da7-4c1c-890f-aa23dbf4c26f",
   "metadata": {},
   "outputs": [
    {
     "data": {
      "text/plain": [
       "1"
      ]
     },
     "execution_count": 71,
     "metadata": {},
     "output_type": "execute_result"
    }
   ],
   "source": [
    "int(True)"
   ]
  },
  {
   "cell_type": "code",
   "execution_count": 72,
   "id": "79f95892-4f6f-4a47-9584-1338187cd3fb",
   "metadata": {},
   "outputs": [
    {
     "data": {
      "text/plain": [
       "3.0"
      ]
     },
     "execution_count": 72,
     "metadata": {},
     "output_type": "execute_result"
    }
   ],
   "source": [
    "float(3)"
   ]
  },
  {
   "cell_type": "code",
   "execution_count": 73,
   "id": "826ce962-2222-4742-b1f7-ff0d54401fcf",
   "metadata": {},
   "outputs": [
    {
     "data": {
      "text/plain": [
       "7.9"
      ]
     },
     "execution_count": 73,
     "metadata": {},
     "output_type": "execute_result"
    }
   ],
   "source": [
    "float('7.9')"
   ]
  },
  {
   "cell_type": "code",
   "execution_count": 74,
   "id": "abffd3a1-0604-4c27-b539-7c985eaf7558",
   "metadata": {},
   "outputs": [
    {
     "data": {
      "text/plain": [
       "'6'"
      ]
     },
     "execution_count": 74,
     "metadata": {},
     "output_type": "execute_result"
    }
   ],
   "source": [
    "str(6)"
   ]
  },
  {
   "cell_type": "markdown",
   "id": "e400483c-8a63-4df0-aa53-44010e55673c",
   "metadata": {},
   "source": [
    ":::{admonition} 주의 \n",
    ":class: caution  \n",
    "`int()`함수의 인자로 문자열을 사용할 때는 그 모양이 정수모양이어야 하고, `float()` 함수의 인자로 문자열을 사용할 때는 그 모양이 정수 또는 부동소수점 모양이어야 한다. \n",
    ":::"
   ]
  },
  {
   "cell_type": "code",
   "execution_count": 68,
   "id": "24c986b7-bd5c-436c-8a0b-5d3894119d13",
   "metadata": {},
   "outputs": [
    {
     "ename": "ValueError",
     "evalue": "invalid literal for int() with base 10: '5.0'",
     "output_type": "error",
     "traceback": [
      "\u001b[0;31m---------------------------------------------------------------------------\u001b[0m",
      "\u001b[0;31mValueError\u001b[0m                                Traceback (most recent call last)",
      "\u001b[0;32m/tmp/ipykernel_279/3485297474.py\u001b[0m in \u001b[0;36m<module>\u001b[0;34m\u001b[0m\n\u001b[0;32m----> 1\u001b[0;31m \u001b[0mint\u001b[0m\u001b[0;34m(\u001b[0m\u001b[0;34m'5.0'\u001b[0m\u001b[0;34m)\u001b[0m\u001b[0;34m\u001b[0m\u001b[0;34m\u001b[0m\u001b[0m\n\u001b[0m",
      "\u001b[0;31mValueError\u001b[0m: invalid literal for int() with base 10: '5.0'"
     ]
    }
   ],
   "source": [
    "int('5.0')"
   ]
  },
  {
   "cell_type": "code",
   "execution_count": 70,
   "id": "280bd27b-0878-4623-9db8-e7a615fa822c",
   "metadata": {},
   "outputs": [
    {
     "ename": "ValueError",
     "evalue": "could not convert string to float: '5GB'",
     "output_type": "error",
     "traceback": [
      "\u001b[0;31m---------------------------------------------------------------------------\u001b[0m",
      "\u001b[0;31mValueError\u001b[0m                                Traceback (most recent call last)",
      "\u001b[0;32m/tmp/ipykernel_279/814975516.py\u001b[0m in \u001b[0;36m<module>\u001b[0;34m\u001b[0m\n\u001b[0;32m----> 1\u001b[0;31m \u001b[0mfloat\u001b[0m\u001b[0;34m(\u001b[0m\u001b[0;34m'5GB'\u001b[0m\u001b[0;34m)\u001b[0m\u001b[0;34m\u001b[0m\u001b[0;34m\u001b[0m\u001b[0m\n\u001b[0m",
      "\u001b[0;31mValueError\u001b[0m: could not convert string to float: '5GB'"
     ]
    }
   ],
   "source": [
    "float('5GB')"
   ]
  },
  {
   "cell_type": "markdown",
   "id": "7c943bd7-eed2-42e9-9c96-b6111b6e5891",
   "metadata": {},
   "source": [
    ":::{admonition} 참고 \n",
    ":class: info\n",
    "`bool()` 함수는 `0`, `0.0`, `''`(빈 문자열)처럼 0이거나 비어 있는 값을 인자로 사용하면 `False`를 반환한다.  \n",
    ":::"
   ]
  },
  {
   "cell_type": "code",
   "execution_count": 55,
   "id": "49e29d4a-b004-4103-abd0-9ede91ca6d3f",
   "metadata": {},
   "outputs": [
    {
     "name": "stdout",
     "output_type": "stream",
     "text": [
      "False\n",
      "False\n",
      "False\n",
      "True\n",
      "True\n",
      "True\n"
     ]
    }
   ],
   "source": [
    "print(bool(0))\n",
    "print(bool(0.0))\n",
    "print(bool(''))\n",
    "print(bool(2))\n",
    "print(bool(4.2))\n",
    "print(bool('Hello'))"
   ]
  },
  {
   "cell_type": "markdown",
   "id": "9a161cc7-e5a8-452c-92d9-067209a88586",
   "metadata": {},
   "source": [
    ":::{admonition} 주의 \n",
    ":class: caution \n",
    "변수를 형변환한다고 해서 변수에 할당된 값이 변하는 것은 아니다. 다만, 형변환한 값을 다른 변수에 저장해서 사용할 수는 있다. \n",
    ":::"
   ]
  },
  {
   "cell_type": "code",
   "execution_count": 8,
   "id": "a5be662a-b75c-408c-b5d6-33fb1d85c63d",
   "metadata": {},
   "outputs": [
    {
     "name": "stdout",
     "output_type": "stream",
     "text": [
      "2.0\n",
      "<class 'int'>\n"
     ]
    }
   ],
   "source": [
    "basic_int = 2\n",
    "print(float(basic_int))\n",
    "print(type(basic_int))"
   ]
  },
  {
   "cell_type": "code",
   "execution_count": 9,
   "id": "0ef1dd98-1668-446f-93f4-75ec919857f7",
   "metadata": {},
   "outputs": [
    {
     "name": "stdout",
     "output_type": "stream",
     "text": [
      "2.0\n",
      "<class 'float'>\n"
     ]
    }
   ],
   "source": [
    "float_basic_int = float(basic_int)\n",
    "print(float_basic_int)\n",
    "print(type(float_basic_int))"
   ]
  }
 ],
 "metadata": {
  "kernelspec": {
   "display_name": "Python 3 (ipykernel)",
   "language": "python",
   "name": "python3"
  },
  "language_info": {
   "codemirror_mode": {
    "name": "ipython",
    "version": 3
   },
   "file_extension": ".py",
   "mimetype": "text/x-python",
   "name": "python",
   "nbconvert_exporter": "python",
   "pygments_lexer": "ipython3",
   "version": "3.8.10"
  }
 },
 "nbformat": 4,
 "nbformat_minor": 5
}
