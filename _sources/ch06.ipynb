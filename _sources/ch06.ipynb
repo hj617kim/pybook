{
 "cells": [
  {
   "cell_type": "markdown",
   "id": "d675dfcf-d631-4ddc-b597-74d19d4b6791",
   "metadata": {},
   "source": [
    "# 문자열"
   ]
  },
  {
   "cell_type": "markdown",
   "id": "3d0c8f1c-9a30-4ab0-8772-0c8720047d60",
   "metadata": {},
   "source": [
    "## 문자열 인덱싱"
   ]
  },
  {
   "cell_type": "markdown",
   "id": "06c19ab1-55a0-4afb-8b0b-66e4e7048c13",
   "metadata": {},
   "source": [
    "문자열에 사용되는 모든 문자의 위치는 인덱스<font size=\"2\">index</font>라는 고유한 번호를 갖는다. 인덱스는 0부터 시작하며, 오른쪽으로 한 문자씩 이동할 때마다 증가한다."
   ]
  },
  {
   "cell_type": "markdown",
   "id": "454087d7-a9ee-47f4-925a-279c0585a656",
   "metadata": {},
   "source": [
    ":::{admonition} 주의  \n",
    ":class: caution  \n",
    "파이썬을 포함해서 많은 대부분의 프로그래밍 언어에서 인덱싱은 0부터 시작한다. 따라서 첫 째 문자를 확인하고자 할 때는 1이 아닌 0을 인덱스로 사용해야 한다.  ㄹ\n",
    ":::"
   ]
  },
  {
   "cell_type": "markdown",
   "id": "33db58be-9f94-42a8-ade2-84c306f164f4",
   "metadata": {},
   "source": [
    "예제를 통해 인덱스와 친숙해질 필요가 있다."
   ]
  },
  {
   "cell_type": "code",
   "execution_count": 2,
   "id": "30bba099-b706-4272-a93b-a7b52514be68",
   "metadata": {},
   "outputs": [],
   "source": [
    "a_food = \"kebap\""
   ]
  },
  {
   "cell_type": "markdown",
   "id": "33304090-2480-4cff-854f-68904eb2d77e",
   "metadata": {},
   "source": [
    "특정 인덱스에 위치한 문자의 정보는 다음과 같이 확인한다.\n",
    "* 0번 인덱스 값, 즉 첫째 문자"
   ]
  },
  {
   "cell_type": "code",
   "execution_count": 3,
   "id": "29c22b3e-a2fe-4f65-9389-d9ea265fe9af",
   "metadata": {},
   "outputs": [
    {
     "data": {
      "text/plain": [
       "'k'"
      ]
     },
     "execution_count": 3,
     "metadata": {},
     "output_type": "execute_result"
    }
   ],
   "source": [
    "a_food[0]"
   ]
  },
  {
   "cell_type": "markdown",
   "id": "41815527-bed5-43f0-a541-59600061aff9",
   "metadata": {
    "id": "GiUV9C9Cycjn"
   },
   "source": [
    "* 1번 인덱스 값, 즉 둘째 문자"
   ]
  },
  {
   "cell_type": "code",
   "execution_count": null,
   "id": "c155f934-8c6a-4ab1-b2d5-ad488fac7a00",
   "metadata": {
    "colab": {
     "base_uri": "https://localhost:8080/",
     "height": 35
    },
    "executionInfo": {
     "elapsed": 557,
     "status": "ok",
     "timestamp": 1614837066321,
     "user": {
      "displayName": "HJ Kim",
      "photoUrl": "",
      "userId": "16634276932240017990"
     },
     "user_tz": -540
    },
    "id": "LWk5BgYFyYk1",
    "outputId": "503d86b3-9ab8-4a9a-c772-fcb506f26592"
   },
   "outputs": [
    {
     "data": {
      "application/vnd.google.colaboratory.intrinsic+json": {
       "type": "string"
      },
      "text/plain": [
       "'e'"
      ]
     },
     "execution_count": 33,
     "metadata": {
      "tags": []
     },
     "output_type": "execute_result"
    }
   ],
   "source": [
    "a_food[1]"
   ]
  },
  {
   "cell_type": "markdown",
   "id": "03e7284a-c011-4ac9-8403-7646bb1e5a35",
   "metadata": {
    "id": "Jrnvar7ZykcQ"
   },
   "source": [
    "* 2번 인덱스 값, 즉 셋째 문자"
   ]
  },
  {
   "cell_type": "code",
   "execution_count": null,
   "id": "011613fe-5962-4e90-a0d5-aa477d2cef65",
   "metadata": {
    "colab": {
     "base_uri": "https://localhost:8080/",
     "height": 35
    },
    "executionInfo": {
     "elapsed": 595,
     "status": "ok",
     "timestamp": 1614837107463,
     "user": {
      "displayName": "HJ Kim",
      "photoUrl": "",
      "userId": "16634276932240017990"
     },
     "user_tz": -540
    },
    "id": "Joko7nf9yie1",
    "outputId": "b352aba2-2390-481f-e9f4-f116541cc0ae"
   },
   "outputs": [
    {
     "data": {
      "application/vnd.google.colaboratory.intrinsic+json": {
       "type": "string"
      },
      "text/plain": [
       "'b'"
      ]
     },
     "execution_count": 34,
     "metadata": {
      "tags": []
     },
     "output_type": "execute_result"
    }
   ],
   "source": [
    "a_food[2]"
   ]
  },
  {
   "cell_type": "markdown",
   "id": "bade8c6b-d568-4f38-945b-9e323a01462b",
   "metadata": {
    "id": "LHi1DSsxyutL"
   },
   "source": [
    "등등.\n",
    "\n",
    "\n",
    "**-1번 인덱스**  \n",
    "문자열이 길 경우 맨 오른쪽에 위치한 문자의 인덱스 번호를 확인하기가 어렵다. 그래서 파이썬에서는 -1을 마지막 문자의 인덱스로 사용한다.  \n",
    "즉, 맨 오른편의 인덱스는 -1이고, 그 왼편은 -2, 등등으로 진행한다. "
   ]
  },
  {
   "cell_type": "code",
   "execution_count": null,
   "id": "82bbb86e-d32b-4465-a4f1-950fbccb5947",
   "metadata": {
    "colab": {
     "base_uri": "https://localhost:8080/",
     "height": 35
    },
    "executionInfo": {
     "elapsed": 670,
     "status": "ok",
     "timestamp": 1614837199254,
     "user": {
      "displayName": "HJ Kim",
      "photoUrl": "",
      "userId": "16634276932240017990"
     },
     "user_tz": -540
    },
    "id": "m3x-qZJkysh1",
    "outputId": "f63f23bb-d690-4c71-ce3d-219dd0a96aec"
   },
   "outputs": [
    {
     "data": {
      "application/vnd.google.colaboratory.intrinsic+json": {
       "type": "string"
      },
      "text/plain": [
       "'p'"
      ]
     },
     "execution_count": 35,
     "metadata": {
      "tags": []
     },
     "output_type": "execute_result"
    }
   ],
   "source": [
    "a_food[-1]"
   ]
  },
  {
   "cell_type": "code",
   "execution_count": null,
   "id": "7f1e40b7-be1a-4c2b-ae94-e1ac037f05a9",
   "metadata": {
    "colab": {
     "base_uri": "https://localhost:8080/",
     "height": 35
    },
    "executionInfo": {
     "elapsed": 975,
     "status": "ok",
     "timestamp": 1614837218991,
     "user": {
      "displayName": "HJ Kim",
      "photoUrl": "",
      "userId": "16634276932240017990"
     },
     "user_tz": -540
    },
    "id": "6BVX1OUZzC61",
    "outputId": "9c26c716-94bf-4cd3-86da-0b469c717d76"
   },
   "outputs": [
    {
     "data": {
      "application/vnd.google.colaboratory.intrinsic+json": {
       "type": "string"
      },
      "text/plain": [
       "'a'"
      ]
     },
     "execution_count": 36,
     "metadata": {
      "tags": []
     },
     "output_type": "execute_result"
    }
   ],
   "source": [
    "a_food[-2]"
   ]
  },
  {
   "cell_type": "markdown",
   "id": "7d27accc-1fad-4142-ae1e-40336ac02922",
   "metadata": {
    "id": "MC4F4fImzJSa"
   },
   "source": [
    "등등.  \n",
    "<br>\n",
    "\n",
    "**문자열의 길이와 인덱스**\n",
    "\n",
    "문자열의 길이보다 같거나 큰 인덱스를 사용하면 오류가 발생한다. 문자열의 길이는 `len()` 함수를 이용하여 확인할 수 있다.\n",
    "```python\n",
    ">>> a_food[5]\n",
    "---------------------------------------------------------------------------\n",
    "IndexError                                Traceback (most recent call last)\n",
    "<ipython-input-37-d133e021743e> in <module>()\n",
    "----> 1 a_food[5]\n",
    "\n",
    "IndexError: string index out of range\n",
    "```"
   ]
  },
  {
   "cell_type": "code",
   "execution_count": null,
   "id": "5fb007f0-e540-4097-9828-3252518b2440",
   "metadata": {
    "colab": {
     "base_uri": "https://localhost:8080/"
    },
    "executionInfo": {
     "elapsed": 711,
     "status": "ok",
     "timestamp": 1614837630510,
     "user": {
      "displayName": "HJ Kim",
      "photoUrl": "",
      "userId": "16634276932240017990"
     },
     "user_tz": -540
    },
    "id": "hjOdN6Ek0pYs",
    "outputId": "8edb0349-0a43-405e-caa3-03c049f0af02"
   },
   "outputs": [
    {
     "data": {
      "text/plain": [
       "5"
      ]
     },
     "execution_count": 38,
     "metadata": {
      "tags": []
     },
     "output_type": "execute_result"
    }
   ],
   "source": [
    "len(a_food)"
   ]
  },
  {
   "cell_type": "markdown",
   "id": "ea09e8a5-6ffc-46a9-a8bb-62e124a5c421",
   "metadata": {
    "id": "5PrjBzw00y83"
   },
   "source": [
    "## 슬라이싱\n",
    "\n",
    "문자열의 하나의 문자가 아닌 특정 구간 및 부분을 추출하고자 할 경우 슬라이싱을 사용한다. 슬라이싱은 다음과 같이 실행한다.\n",
    "\n",
    "> 문자열변수[시작인덱스 : 끝인덱스 : 계단(step)]\n",
    "\n",
    "* 시작인덱스 : 해당 인덱스부터 문자를 추출한다.\n",
    "* 끝인덱스 : 해당 인덱스 전까지 문자를 추출한다. \n",
    "* 계단(step) : 시작인덱스부터 몇 계단씩 건너뛰며 문자를 추출할지 결정한다. 예를 들어, 계단값이 2라면 하나 건너 추출한다.  "
   ]
  },
  {
   "cell_type": "code",
   "execution_count": null,
   "id": "d644a70e-9209-4103-a9b0-1dd830379675",
   "metadata": {
    "colab": {
     "base_uri": "https://localhost:8080/",
     "height": 35
    },
    "executionInfo": {
     "elapsed": 573,
     "status": "ok",
     "timestamp": 1614837804906,
     "user": {
      "displayName": "HJ Kim",
      "photoUrl": "",
      "userId": "16634276932240017990"
     },
     "user_tz": -540
    },
    "id": "AIOS685O0sMM",
    "outputId": "4cafd6ed-376a-49f6-dd15-a40662df6d49"
   },
   "outputs": [
    {
     "data": {
      "application/vnd.google.colaboratory.intrinsic+json": {
       "type": "string"
      },
      "text/plain": [
       "'kebap'"
      ]
     },
     "execution_count": 39,
     "metadata": {
      "tags": []
     },
     "output_type": "execute_result"
    }
   ],
   "source": [
    "a_food"
   ]
  },
  {
   "cell_type": "markdown",
   "id": "c79b3933-03dd-435e-8c88-2d07bf319ec8",
   "metadata": {
    "id": "reZFCvS-1Zjb"
   },
   "source": [
    "`kebap`에서 `ke` 부분을 추출하고 싶다면 다음과 같이 하면 된다."
   ]
  },
  {
   "cell_type": "code",
   "execution_count": null,
   "id": "f130dc0c-8acd-44a1-a2b5-dbfbfd526a18",
   "metadata": {
    "colab": {
     "base_uri": "https://localhost:8080/",
     "height": 35
    },
    "executionInfo": {
     "elapsed": 613,
     "status": "ok",
     "timestamp": 1614837854481,
     "user": {
      "displayName": "HJ Kim",
      "photoUrl": "",
      "userId": "16634276932240017990"
     },
     "user_tz": -540
    },
    "id": "JJC517O31Wy4",
    "outputId": "54f871c0-27e6-47a1-de5c-6fc46a89d3f2"
   },
   "outputs": [
    {
     "data": {
      "application/vnd.google.colaboratory.intrinsic+json": {
       "type": "string"
      },
      "text/plain": [
       "'ke'"
      ]
     },
     "execution_count": 40,
     "metadata": {
      "tags": []
     },
     "output_type": "execute_result"
    }
   ],
   "source": [
    "a_food[0 : 2 : 1]"
   ]
  },
  {
   "cell_type": "markdown",
   "id": "2a9f3495-0c28-4c2b-9c27-14579cf8eaf5",
   "metadata": {
    "id": "4UvS0DW91kA8"
   },
   "source": [
    "즉, 문자열 처음부터 2번 인덱스 전까지, 즉 두 번째 문자까지 모두 추출하는 것이다. 반면에 하나씩 건너서 추출하려면 다음과 같이 하면 된다. "
   ]
  },
  {
   "cell_type": "code",
   "execution_count": null,
   "id": "97c6ee8d-359b-4a14-ab5b-92b877135414",
   "metadata": {
    "colab": {
     "base_uri": "https://localhost:8080/",
     "height": 35
    },
    "executionInfo": {
     "elapsed": 613,
     "status": "ok",
     "timestamp": 1614837916492,
     "user": {
      "displayName": "HJ Kim",
      "photoUrl": "",
      "userId": "16634276932240017990"
     },
     "user_tz": -540
    },
    "id": "IdKkVw9x1i5s",
    "outputId": "035b0b39-ac6f-4df1-f559-ae42e99eb471"
   },
   "outputs": [
    {
     "data": {
      "application/vnd.google.colaboratory.intrinsic+json": {
       "type": "string"
      },
      "text/plain": [
       "'kb'"
      ]
     },
     "execution_count": 42,
     "metadata": {
      "tags": []
     },
     "output_type": "execute_result"
    }
   ],
   "source": [
    "a_food[0 : 4 : 2]"
   ]
  },
  {
   "cell_type": "markdown",
   "id": "6dd0d4c6-c241-43bb-9207-e69ffdcb9aa5",
   "metadata": {
    "id": "k2ZfBaY328IS"
   },
   "source": [
    "시작인덱스, 끝인덱스, 계단 각각의 인자는 경우에 따라 생략될 수도 있다. 그럴 때는 각각의 위치에 기본값(default)이 들어 있는 것으로 처리되며, 기본값은 다음과 같다.\n",
    "\n",
    "* `시작인덱스`의 기본값 = `0`\n",
    "* `끝인덱스`의 기본값 = 문자열의 길이\n",
    "* `계단`의 기본값 = `1`"
   ]
  },
  {
   "cell_type": "code",
   "execution_count": null,
   "id": "d6f8e550-ff83-4ad7-9d52-9ee91ae37f5d",
   "metadata": {
    "colab": {
     "base_uri": "https://localhost:8080/",
     "height": 35
    },
    "executionInfo": {
     "elapsed": 615,
     "status": "ok",
     "timestamp": 1614838384578,
     "user": {
      "displayName": "HJ Kim",
      "photoUrl": "",
      "userId": "16634276932240017990"
     },
     "user_tz": -540
    },
    "id": "Wq9ETyve1wTM",
    "outputId": "758adf9a-57fa-4af2-c20a-2fad46dbeae0"
   },
   "outputs": [
    {
     "data": {
      "application/vnd.google.colaboratory.intrinsic+json": {
       "type": "string"
      },
      "text/plain": [
       "'ke'"
      ]
     },
     "execution_count": 43,
     "metadata": {
      "tags": []
     },
     "output_type": "execute_result"
    }
   ],
   "source": [
    "a_food[0 : 2]"
   ]
  },
  {
   "cell_type": "code",
   "execution_count": null,
   "id": "c09c955b-0685-4d01-a5db-bd39561d205e",
   "metadata": {
    "colab": {
     "base_uri": "https://localhost:8080/",
     "height": 35
    },
    "executionInfo": {
     "elapsed": 610,
     "status": "ok",
     "timestamp": 1614838392906,
     "user": {
      "displayName": "HJ Kim",
      "photoUrl": "",
      "userId": "16634276932240017990"
     },
     "user_tz": -540
    },
    "id": "ZlOTBHjb3kUX",
    "outputId": "a1d947a0-d9b6-4cde-8393-3921c56549af"
   },
   "outputs": [
    {
     "data": {
      "application/vnd.google.colaboratory.intrinsic+json": {
       "type": "string"
      },
      "text/plain": [
       "'ke'"
      ]
     },
     "execution_count": 44,
     "metadata": {
      "tags": []
     },
     "output_type": "execute_result"
    }
   ],
   "source": [
    "a_food[ : 2]"
   ]
  },
  {
   "cell_type": "code",
   "execution_count": null,
   "id": "627c9e9a-bd53-4581-9fa8-7ea3bb10bfbf",
   "metadata": {
    "colab": {
     "base_uri": "https://localhost:8080/",
     "height": 35
    },
    "executionInfo": {
     "elapsed": 680,
     "status": "ok",
     "timestamp": 1614838402833,
     "user": {
      "displayName": "HJ Kim",
      "photoUrl": "",
      "userId": "16634276932240017990"
     },
     "user_tz": -540
    },
    "id": "V9fTfxfr3mWl",
    "outputId": "0544a596-800a-4b71-b3b5-e606d45941f5"
   },
   "outputs": [
    {
     "data": {
      "application/vnd.google.colaboratory.intrinsic+json": {
       "type": "string"
      },
      "text/plain": [
       "'kb'"
      ]
     },
     "execution_count": 45,
     "metadata": {
      "tags": []
     },
     "output_type": "execute_result"
    }
   ],
   "source": [
    "a_food[ : 4 : 2]"
   ]
  },
  {
   "cell_type": "code",
   "execution_count": null,
   "id": "ee30603c-bba5-4391-9bb3-fa7f6cca3b6e",
   "metadata": {
    "colab": {
     "base_uri": "https://localhost:8080/",
     "height": 35
    },
    "executionInfo": {
     "elapsed": 630,
     "status": "ok",
     "timestamp": 1614838414257,
     "user": {
      "displayName": "HJ Kim",
      "photoUrl": "",
      "userId": "16634276932240017990"
     },
     "user_tz": -540
    },
    "id": "JwyYmASn3owl",
    "outputId": "44932d0a-2fee-4f04-c896-ce38f44f08ba"
   },
   "outputs": [
    {
     "data": {
      "application/vnd.google.colaboratory.intrinsic+json": {
       "type": "string"
      },
      "text/plain": [
       "'kbp'"
      ]
     },
     "execution_count": 46,
     "metadata": {
      "tags": []
     },
     "output_type": "execute_result"
    }
   ],
   "source": [
    "a_food[ : : 2]"
   ]
  },
  {
   "cell_type": "markdown",
   "id": "8ebf06cd-aa64-46f9-868c-fda9b63a86b4",
   "metadata": {
    "id": "1g9CM3fc3tPU"
   },
   "source": [
    "양수와 음수를 인덱스로 섞어서 사용할 수도 있다."
   ]
  },
  {
   "cell_type": "code",
   "execution_count": null,
   "id": "88bb35db-402d-4be6-acd1-7bf6e37a72fe",
   "metadata": {
    "colab": {
     "base_uri": "https://localhost:8080/",
     "height": 35
    },
    "executionInfo": {
     "elapsed": 586,
     "status": "ok",
     "timestamp": 1614838442813,
     "user": {
      "displayName": "HJ Kim",
      "photoUrl": "",
      "userId": "16634276932240017990"
     },
     "user_tz": -540
    },
    "id": "2v4sCel73rkF",
    "outputId": "548001cd-6a1b-46f7-b1d4-57ddef4dbebb"
   },
   "outputs": [
    {
     "data": {
      "application/vnd.google.colaboratory.intrinsic+json": {
       "type": "string"
      },
      "text/plain": [
       "'kb'"
      ]
     },
     "execution_count": 47,
     "metadata": {
      "tags": []
     },
     "output_type": "execute_result"
    }
   ],
   "source": [
    "a_food[ : -1 : 2]"
   ]
  },
  {
   "cell_type": "markdown",
   "id": "9175f2f2-e876-4cc3-a111-034532a30b70",
   "metadata": {
    "id": "x5f03A9V32zy"
   },
   "source": [
    "주의 : -1은 문자열의 끝인덱스를 의미한다.  \n",
    "\n",
    "끝인덱스가 문자열의 길이보다 클 수도 있다. 다만 문자열의 길이만큼만 문자를 확인하다. "
   ]
  },
  {
   "cell_type": "code",
   "execution_count": null,
   "id": "66b7fea9-8a72-414f-a98e-98a6ad9d6a8a",
   "metadata": {
    "colab": {
     "base_uri": "https://localhost:8080/",
     "height": 35
    },
    "executionInfo": {
     "elapsed": 573,
     "status": "ok",
     "timestamp": 1614838517346,
     "user": {
      "displayName": "HJ Kim",
      "photoUrl": "",
      "userId": "16634276932240017990"
     },
     "user_tz": -540
    },
    "id": "E5W1d6yb3yi1",
    "outputId": "80f4344d-adbe-4622-8a09-1fd9daa285ae"
   },
   "outputs": [
    {
     "data": {
      "application/vnd.google.colaboratory.intrinsic+json": {
       "type": "string"
      },
      "text/plain": [
       "'kebap'"
      ]
     },
     "execution_count": 48,
     "metadata": {
      "tags": []
     },
     "output_type": "execute_result"
    }
   ],
   "source": [
    "a_food[: 10]"
   ]
  },
  {
   "cell_type": "markdown",
   "id": "5ba9f855-a7a7-41a5-82c4-9113610ef633",
   "metadata": {
    "id": "SisBxWXN4GMI"
   },
   "source": [
    "아래와 같이 아무것도 입력하지 않으면 해당 문자열 전체를 추출한다."
   ]
  },
  {
   "cell_type": "code",
   "execution_count": null,
   "id": "029cc7b7-dd7d-42cf-98a9-d0689e5e3f18",
   "metadata": {
    "colab": {
     "base_uri": "https://localhost:8080/",
     "height": 35
    },
    "executionInfo": {
     "elapsed": 588,
     "status": "ok",
     "timestamp": 1614838546252,
     "user": {
      "displayName": "HJ Kim",
      "photoUrl": "",
      "userId": "16634276932240017990"
     },
     "user_tz": -540
    },
    "id": "ZjKeSt3V4EvV",
    "outputId": "42bee550-89aa-4818-972d-bbdc7667e5ec"
   },
   "outputs": [
    {
     "data": {
      "application/vnd.google.colaboratory.intrinsic+json": {
       "type": "string"
      },
      "text/plain": [
       "'kebap'"
      ]
     },
     "execution_count": 49,
     "metadata": {
      "tags": []
     },
     "output_type": "execute_result"
    }
   ],
   "source": [
    "a_food[:]"
   ]
  },
  {
   "cell_type": "markdown",
   "id": "21c12e1a-ae00-434f-b43f-5adb3056230d",
   "metadata": {
    "id": "dgy1RtXv4NKo"
   },
   "source": [
    "시작인덱스의 값이 끝인덱스 값보다 같거나 작아야 제대로 추출한다. 그렇지 않으면 공문자열이 추출된다."
   ]
  },
  {
   "cell_type": "code",
   "execution_count": null,
   "id": "b1aa2733-08ca-4de2-b27d-511dd3fa5f72",
   "metadata": {
    "colab": {
     "base_uri": "https://localhost:8080/",
     "height": 35
    },
    "executionInfo": {
     "elapsed": 596,
     "status": "ok",
     "timestamp": 1614838588009,
     "user": {
      "displayName": "HJ Kim",
      "photoUrl": "",
      "userId": "16634276932240017990"
     },
     "user_tz": -540
    },
    "id": "q9q9S3O14Ly8",
    "outputId": "18b4245e-03b4-476f-a3a4-46f8054942fc"
   },
   "outputs": [
    {
     "data": {
      "application/vnd.google.colaboratory.intrinsic+json": {
       "type": "string"
      },
      "text/plain": [
       "''"
      ]
     },
     "execution_count": 50,
     "metadata": {
      "tags": []
     },
     "output_type": "execute_result"
    }
   ],
   "source": [
    "a_food[3 : 1]"
   ]
  },
  {
   "cell_type": "markdown",
   "id": "4838b80d-9a96-4c9a-a8b6-146885d3194e",
   "metadata": {
    "id": "tL6QBFeg4Yl0"
   },
   "source": [
    "이유는 슬라이싱은 기본적으로 작은 인덱스에서 큰 인덱스 방향으로 확인하기 때문이다. 역순으로 추출하고자 한다면 계단을 음수로 사용하면 된다."
   ]
  },
  {
   "cell_type": "code",
   "execution_count": null,
   "id": "50c7cc55-3c29-4a2b-8518-2aba88190f85",
   "metadata": {
    "colab": {
     "base_uri": "https://localhost:8080/",
     "height": 35
    },
    "executionInfo": {
     "elapsed": 628,
     "status": "ok",
     "timestamp": 1614838647392,
     "user": {
      "displayName": "HJ Kim",
      "photoUrl": "",
      "userId": "16634276932240017990"
     },
     "user_tz": -540
    },
    "id": "U5moAGNZ4V_L",
    "outputId": "dbd34707-764d-4a73-e9ac-914df26142d5"
   },
   "outputs": [
    {
     "data": {
      "application/vnd.google.colaboratory.intrinsic+json": {
       "type": "string"
      },
      "text/plain": [
       "'ab'"
      ]
     },
     "execution_count": 51,
     "metadata": {
      "tags": []
     },
     "output_type": "execute_result"
    }
   ],
   "source": [
    "a_food[3 : 1 : -1]"
   ]
  },
  {
   "cell_type": "code",
   "execution_count": null,
   "id": "b3a00f8a-7f1a-4995-9b42-c0479a85bc7b",
   "metadata": {
    "colab": {
     "base_uri": "https://localhost:8080/",
     "height": 35
    },
    "executionInfo": {
     "elapsed": 650,
     "status": "ok",
     "timestamp": 1614838665409,
     "user": {
      "displayName": "HJ Kim",
      "photoUrl": "",
      "userId": "16634276932240017990"
     },
     "user_tz": -540
    },
    "id": "hz1n2zbC4ker",
    "outputId": "adfe237e-fa42-46eb-ab04-9a9c7f6bc581"
   },
   "outputs": [
    {
     "data": {
      "application/vnd.google.colaboratory.intrinsic+json": {
       "type": "string"
      },
      "text/plain": [
       "'pabek'"
      ]
     },
     "execution_count": 52,
     "metadata": {
      "tags": []
     },
     "output_type": "execute_result"
    }
   ],
   "source": [
    "a_food[-1 : : -1]"
   ]
  },
  {
   "cell_type": "markdown",
   "id": "ac5ce7ed-08a9-4001-a807-5d981701661a",
   "metadata": {
    "id": "jztL-_Wd81l2"
   },
   "source": [
    "## 문자열 관련 메소드\n",
    "\n",
    "문자열 자료형에만 사용하는 함수들이 있다. 이와같이 특정 자료형에만 사용하는 함수들을 메소드(method)라 부른다.  \n",
    "\n",
    "보다 자세한 설명은 여기서는 하지 않는다. 다만 특정 자료형을 잘 다루기 위해서는 어떤 경우에 어떤 메소드를 유용하게 활용할 수 있는지를 잘 파악해두는 것이 매우 중요하다는 점만 강조한다. \n"
   ]
  },
  {
   "cell_type": "markdown",
   "id": "30899d77-447c-4438-9ac7-be3e4a78e4e0",
   "metadata": {
    "id": "uSTq4LGT9k5P"
   },
   "source": [
    "### 메소드 호출방법\n",
    "\n",
    "예를 들어, `banana` 문자열을 이용하여 `BANANA`처럼 모두 대문자로만 구성된 문자열을 생성하고자 한다면 `upper`라는 메소드를 아래와 같이 사용한다.\n",
    "\n",
    "> `'banana'.upper()` \n",
    "\n",
    "메소드는 일반적인 함수들과는 달리, 특정 자료형의 값이 먼저 언급된 다음에 호출된다. "
   ]
  },
  {
   "cell_type": "markdown",
   "id": "8ae92c62-5bc5-4c4a-b31c-087efa38875d",
   "metadata": {
    "id": "YlZbPRF4_dDV"
   },
   "source": [
    "### 문자열 메소드 추가 예제\n",
    "\n",
    "`upper()` 메소드 이외에 문자열과 관련된 메소드는 매우 많다. 여기서는 가장 많이 사용되는 메소드 몇 개를 소개하고자 한다. \n",
    "\n",
    "* `strip()`\n",
    "* `split()`\n",
    "* `replace()`\n",
    "* `upper()`\n",
    "* `lower()`\n",
    "* `capitalize()`\n",
    "* `title()`\n",
    "* `startswith()`\n",
    "* `endswith()`\n",
    "\n",
    "예제를 통해 각 메소드의 활용법을 간략하게 확인한다. \n",
    "\n",
    "먼저 `week_days` 변수에 요일들을 저장한다."
   ]
  },
  {
   "cell_type": "code",
   "execution_count": null,
   "id": "70e1a143-7bff-4a2b-9274-cac9ba75b003",
   "metadata": {
    "id": "r5Kx4W-F4o30"
   },
   "outputs": [],
   "source": [
    "week_days = \" Mon, Tue, Wed, Thu, Fri, Sat, Sun \""
   ]
  },
  {
   "cell_type": "markdown",
   "id": "43c98163-371e-4b7c-901b-b455d3c6182a",
   "metadata": {
    "id": "phhtkQ9uBqfW"
   },
   "source": [
    "* `strip()` 메소드는 문자열의 양 끝을 지정한 문자열 기준으로 삭제하는 방식으로 정리한다. \n",
    "예를 들어, 문자열 양 끝에 있는 스페이스를 삭제하고자 할 경우 아래와 같이 실행한다. "
   ]
  },
  {
   "cell_type": "code",
   "execution_count": null,
   "id": "be5fa65e-44e2-4eaa-b3e5-f2d6b6e22f0f",
   "metadata": {
    "colab": {
     "base_uri": "https://localhost:8080/",
     "height": 35
    },
    "executionInfo": {
     "elapsed": 583,
     "status": "ok",
     "timestamp": 1614841127759,
     "user": {
      "displayName": "HJ Kim",
      "photoUrl": "",
      "userId": "16634276932240017990"
     },
     "user_tz": -540
    },
    "id": "Kl9OJTw7B5U8",
    "outputId": "d8523501-b01c-493f-eebb-befb5a33a2e9"
   },
   "outputs": [
    {
     "data": {
      "application/vnd.google.colaboratory.intrinsic+json": {
       "type": "string"
      },
      "text/plain": [
       "'Mon, Tue, Wed, Thu, Fri, Sat, Sun'"
      ]
     },
     "execution_count": 60,
     "metadata": {
      "tags": []
     },
     "output_type": "execute_result"
    }
   ],
   "source": [
    "week_days.strip(\" \")"
   ]
  },
  {
   "cell_type": "markdown",
   "id": "c6677bdc-7fdb-4216-89df-69454eae1f10",
   "metadata": {
    "id": "oJP-BhxkCIRo"
   },
   "source": [
    "`strip()` 메소드를 인자 없이 호출하는 경우와 동일하다. "
   ]
  },
  {
   "cell_type": "code",
   "execution_count": null,
   "id": "94cfed33-c633-426c-98a6-b917119eb0d0",
   "metadata": {
    "colab": {
     "base_uri": "https://localhost:8080/",
     "height": 35
    },
    "executionInfo": {
     "elapsed": 592,
     "status": "ok",
     "timestamp": 1614841197200,
     "user": {
      "displayName": "HJ Kim",
      "photoUrl": "",
      "userId": "16634276932240017990"
     },
     "user_tz": -540
    },
    "id": "cGosY_UCCCC9",
    "outputId": "b834a383-a188-4243-90e4-1c0fdb8280fb"
   },
   "outputs": [
    {
     "data": {
      "application/vnd.google.colaboratory.intrinsic+json": {
       "type": "string"
      },
      "text/plain": [
       "'Mon, Tue, Wed, Thu, Fri, Sat, Sun'"
      ]
     },
     "execution_count": 61,
     "metadata": {
      "tags": []
     },
     "output_type": "execute_result"
    }
   ],
   "source": [
    "week_days.strip()"
   ]
  },
  {
   "cell_type": "markdown",
   "id": "6310edd8-38bd-450e-87b2-38eeb45e0f60",
   "metadata": {
    "id": "FIHx8VOxCVLy"
   },
   "source": [
    "* `split()` 메소드는 지정된 부분문자열을 기준으로 문자열을 쪼개어 문자열들의 리스트로 반환한다. 리스트 자료형은 이후에 자세히 다룬다.  \n",
    "\n",
    "아래의 예제는 `\", \"`, 즉 콤마와 스페이스를 기준으로 문자열을 쪼갠다."
   ]
  },
  {
   "cell_type": "code",
   "execution_count": null,
   "id": "b9477ce8-d32a-4200-9cf2-268e7d67c265",
   "metadata": {
    "colab": {
     "base_uri": "https://localhost:8080/"
    },
    "executionInfo": {
     "elapsed": 597,
     "status": "ok",
     "timestamp": 1614841294637,
     "user": {
      "displayName": "HJ Kim",
      "photoUrl": "",
      "userId": "16634276932240017990"
     },
     "user_tz": -540
    },
    "id": "qZrdwixFCS_2",
    "outputId": "26248c28-13b4-4766-d346-ad5471934b1c"
   },
   "outputs": [
    {
     "data": {
      "text/plain": [
       "[' Mon', 'Tue', 'Wed', 'Thu', 'Fri', 'Sat', 'Sun ']"
      ]
     },
     "execution_count": 62,
     "metadata": {
      "tags": []
     },
     "output_type": "execute_result"
    }
   ],
   "source": [
    "week_days.split(\", \")"
   ]
  },
  {
   "cell_type": "markdown",
   "id": "97bd29b2-8a05-4017-bf7b-86ad0cdccc51",
   "metadata": {
    "id": "gIQ9WDMdCsRL"
   },
   "source": [
    "두 개 이상의 메소드를 조합해서 활용할 수도 있다.  \n",
    "예를 들어, `strip()` 메소드를 먼저 실행한 다음에 그 결과에 `split()` 메소드를 실행하면 좀 더 산뜻한 결과를 얻을 수 있다. "
   ]
  },
  {
   "cell_type": "code",
   "execution_count": null,
   "id": "464403e8-9cd7-450d-810e-5a8fdd3017c1",
   "metadata": {
    "colab": {
     "base_uri": "https://localhost:8080/"
    },
    "executionInfo": {
     "elapsed": 593,
     "status": "ok",
     "timestamp": 1614841384017,
     "user": {
      "displayName": "HJ Kim",
      "photoUrl": "",
      "userId": "16634276932240017990"
     },
     "user_tz": -540
    },
    "id": "5g1FWGqVCqyV",
    "outputId": "cb129566-4e3b-4883-cd2a-d8aa5a91410f"
   },
   "outputs": [
    {
     "data": {
      "text/plain": [
       "['Mon', 'Tue', 'Wed', 'Thu', 'Fri', 'Sat', 'Sun']"
      ]
     },
     "execution_count": 63,
     "metadata": {
      "tags": []
     },
     "output_type": "execute_result"
    }
   ],
   "source": [
    "week_days.strip(\" \").split(\", \")"
   ]
  },
  {
   "cell_type": "markdown",
   "id": "dd944174-8c78-45e4-bc89-7131ee993979",
   "metadata": {},
   "source": [
    ":::{admonition} 주의  \n",
    ":class: caution  \n",
    "아래와 같이 `split()` 메소드를 실행한 다음에 그 결과에 `strip()` 메소드를 실행하면 오류가 발생한다. 앞에서 언급한 것처럼 `split()` 메소드는 지정된 부분문자열을 기준으로 문자열을 쪼개어 문자열들의 리스트로 반환하고, 리스트에는 `strip()` 메소드가 없기 때문이다.\n",
    "\n",
    "```python\n",
    ">>> week_days.split(\", \").strip(\" \")\n",
    "---------------------------------------------------------------------------\n",
    "AttributeError                            Traceback (most recent call last)\n",
    "<ipython-input-64-df2f84ecfaf8> in <module>()\n",
    "----> 1 week_days.split(\", \").strip(\" \")\n",
    "\n",
    "AttributeError: 'list' object has no attribute 'strip'\n",
    "```\n",
    ":::\n"
   ]
  },
  {
   "cell_type": "markdown",
   "id": "377398e0-b9fa-4ee4-a932-c76a3ea8b0ea",
   "metadata": {
    "id": "nun1hRtSFm4R"
   },
   "source": [
    "* `replace()` 메소드는 하나의 문자열을 다른 문자열로 대체한다. \n",
    " \n",
    "예를 들어, `\" Mon\"`을 `Mon`으로 대체할 경우 아래와 같이 실행한다."
   ]
  },
  {
   "cell_type": "code",
   "execution_count": null,
   "id": "4f353287-c9f2-489a-bde8-35c70fe51044",
   "metadata": {
    "colab": {
     "base_uri": "https://localhost:8080/",
     "height": 35
    },
    "executionInfo": {
     "elapsed": 615,
     "status": "ok",
     "timestamp": 1614842233937,
     "user": {
      "displayName": "HJ Kim",
      "photoUrl": "",
      "userId": "16634276932240017990"
     },
     "user_tz": -540
    },
    "id": "YfCbnt2mFinK",
    "outputId": "b964b7b2-0304-41b5-966f-9b7cf3775749"
   },
   "outputs": [
    {
     "data": {
      "application/vnd.google.colaboratory.intrinsic+json": {
       "type": "string"
      },
      "text/plain": [
       "'Mon, Tue, Wed, Thu, Fri, Sat, Sun '"
      ]
     },
     "execution_count": 65,
     "metadata": {
      "tags": []
     },
     "output_type": "execute_result"
    }
   ],
   "source": [
    "week_days.replace(\" Mon\", \"Mon\")"
   ]
  },
  {
   "cell_type": "markdown",
   "id": "dbce1200-8c8a-4ca5-845b-ece6e6b6f2b6",
   "metadata": {
    "id": "PNxqHMf3GRqa"
   },
   "source": [
    "* `upper()` 메소드는 모든 문자를 대문자로 변환시킨다. "
   ]
  },
  {
   "cell_type": "code",
   "execution_count": null,
   "id": "50d8944a-504f-4097-81ae-d9bbafbb8081",
   "metadata": {
    "colab": {
     "base_uri": "https://localhost:8080/",
     "height": 35
    },
    "executionInfo": {
     "elapsed": 579,
     "status": "ok",
     "timestamp": 1614842278613,
     "user": {
      "displayName": "HJ Kim",
      "photoUrl": "",
      "userId": "16634276932240017990"
     },
     "user_tz": -540
    },
    "id": "ZreK3g6uGQGc",
    "outputId": "d542bf59-38db-4ebc-df9d-c9d89cd1d8fc"
   },
   "outputs": [
    {
     "data": {
      "application/vnd.google.colaboratory.intrinsic+json": {
       "type": "string"
      },
      "text/plain": [
       "' MON, TUE, WED, THU, FRI, SAT, SUN '"
      ]
     },
     "execution_count": 66,
     "metadata": {
      "tags": []
     },
     "output_type": "execute_result"
    }
   ],
   "source": [
    "week_days.upper()"
   ]
  },
  {
   "cell_type": "code",
   "execution_count": null,
   "id": "c7f9071b-dc2f-42ac-8479-5be8295ce2fd",
   "metadata": {
    "colab": {
     "base_uri": "https://localhost:8080/",
     "height": 35
    },
    "executionInfo": {
     "elapsed": 888,
     "status": "ok",
     "timestamp": 1614842296944,
     "user": {
      "displayName": "HJ Kim",
      "photoUrl": "",
      "userId": "16634276932240017990"
     },
     "user_tz": -540
    },
    "id": "tIDhOqAoGbA9",
    "outputId": "c4c45e6c-3775-4d1a-cdbe-d2789abd7b28"
   },
   "outputs": [
    {
     "data": {
      "application/vnd.google.colaboratory.intrinsic+json": {
       "type": "string"
      },
      "text/plain": [
       "'MON, TUE, WED, THU, FRI, SAT, SUN'"
      ]
     },
     "execution_count": 67,
     "metadata": {
      "tags": []
     },
     "output_type": "execute_result"
    }
   ],
   "source": [
    "week_days.strip().upper()"
   ]
  },
  {
   "cell_type": "markdown",
   "id": "02539a06-d875-460a-9300-f671236cb114",
   "metadata": {
    "id": "If_KLF46Ghzc"
   },
   "source": [
    "* `lower()` 메소드는 모든 문자를 소문자로 변환시킨다."
   ]
  },
  {
   "cell_type": "code",
   "execution_count": null,
   "id": "1c740820-581c-4db2-98ff-67f51cd20e1a",
   "metadata": {
    "colab": {
     "base_uri": "https://localhost:8080/",
     "height": 35
    },
    "executionInfo": {
     "elapsed": 580,
     "status": "ok",
     "timestamp": 1614842333637,
     "user": {
      "displayName": "HJ Kim",
      "photoUrl": "",
      "userId": "16634276932240017990"
     },
     "user_tz": -540
    },
    "id": "xX7o0ELPGfau",
    "outputId": "18e72762-5c99-4314-f50c-8033e56c92fc"
   },
   "outputs": [
    {
     "data": {
      "application/vnd.google.colaboratory.intrinsic+json": {
       "type": "string"
      },
      "text/plain": [
       "' mon, tue, wed, thu, fri, sat, sun '"
      ]
     },
     "execution_count": 68,
     "metadata": {
      "tags": []
     },
     "output_type": "execute_result"
    }
   ],
   "source": [
    "week_days.lower()"
   ]
  },
  {
   "cell_type": "code",
   "execution_count": null,
   "id": "0eaad9e2-0195-40bb-9997-ee665f0ac2fc",
   "metadata": {
    "colab": {
     "base_uri": "https://localhost:8080/",
     "height": 35
    },
    "executionInfo": {
     "elapsed": 603,
     "status": "ok",
     "timestamp": 1614842363447,
     "user": {
      "displayName": "HJ Kim",
      "photoUrl": "",
      "userId": "16634276932240017990"
     },
     "user_tz": -540
    },
    "id": "2Qc3N5TtGs2e",
    "outputId": "bcc9b520-64b3-4d27-9c39-9969025689ba"
   },
   "outputs": [
    {
     "data": {
      "application/vnd.google.colaboratory.intrinsic+json": {
       "type": "string"
      },
      "text/plain": [
       "'mon, tue, wed, thu, fri, sat, sun'"
      ]
     },
     "execution_count": 69,
     "metadata": {
      "tags": []
     },
     "output_type": "execute_result"
    }
   ],
   "source": [
    "week_days.strip().lower()"
   ]
  },
  {
   "cell_type": "code",
   "execution_count": null,
   "id": "27794ef6-d73c-40a7-b9d2-9dbf725fb4ac",
   "metadata": {
    "colab": {
     "base_uri": "https://localhost:8080/"
    },
    "executionInfo": {
     "elapsed": 623,
     "status": "ok",
     "timestamp": 1614842389770,
     "user": {
      "displayName": "HJ Kim",
      "photoUrl": "",
      "userId": "16634276932240017990"
     },
     "user_tz": -540
    },
    "id": "95x5SwNqGxP-",
    "outputId": "06114cf7-06a8-4554-cd0d-c11f50dc8884"
   },
   "outputs": [
    {
     "data": {
      "text/plain": [
       "['mon', 'tue', 'wed', 'thu', 'fri', 'sat', 'sun']"
      ]
     },
     "execution_count": 70,
     "metadata": {
      "tags": []
     },
     "output_type": "execute_result"
    }
   ],
   "source": [
    "week_days.strip().lower().split(\", \")"
   ]
  },
  {
   "cell_type": "markdown",
   "id": "57aa6da1-4494-4368-8226-a7cda4d78868",
   "metadata": {
    "id": "9bhV4ww8Gply"
   },
   "source": [
    "* `caplitalize()` 메소드는 제일 첫 문자를 대문자로 변환시킨다.  \n",
    "\n",
    "아래 예제는 변화가 없어 보인다. 이유는 첫 문자가 스페이스이기 때문이다."
   ]
  },
  {
   "cell_type": "code",
   "execution_count": null,
   "id": "6bbf6ea0-9a47-4150-a5a4-0ee0b7d76fdb",
   "metadata": {
    "colab": {
     "base_uri": "https://localhost:8080/",
     "height": 35
    },
    "executionInfo": {
     "elapsed": 582,
     "status": "ok",
     "timestamp": 1614842457558,
     "user": {
      "displayName": "HJ Kim",
      "photoUrl": "",
      "userId": "16634276932240017990"
     },
     "user_tz": -540
    },
    "id": "bUXb0Y3FGoct",
    "outputId": "d05d5c52-c8cd-47b3-dc8d-54e8022bd6b3"
   },
   "outputs": [
    {
     "data": {
      "application/vnd.google.colaboratory.intrinsic+json": {
       "type": "string"
      },
      "text/plain": [
       "' mon, tue, wed, thu, fri, sat, sun '"
      ]
     },
     "execution_count": 71,
     "metadata": {
      "tags": []
     },
     "output_type": "execute_result"
    }
   ],
   "source": [
    "week_days.capitalize()"
   ]
  },
  {
   "cell_type": "code",
   "execution_count": null,
   "id": "b4491a68-b029-44b1-9856-4f14662bb6ec",
   "metadata": {
    "colab": {
     "base_uri": "https://localhost:8080/",
     "height": 35
    },
    "executionInfo": {
     "elapsed": 635,
     "status": "ok",
     "timestamp": 1614842477450,
     "user": {
      "displayName": "HJ Kim",
      "photoUrl": "",
      "userId": "16634276932240017990"
     },
     "user_tz": -540
    },
    "id": "8puRDSuYHGtE",
    "outputId": "c3ebaf82-ef23-4f33-8b91-18dd68376112"
   },
   "outputs": [
    {
     "data": {
      "application/vnd.google.colaboratory.intrinsic+json": {
       "type": "string"
      },
      "text/plain": [
       "'Mon, tue, wed, thu, fri, sat, sun'"
      ]
     },
     "execution_count": 72,
     "metadata": {
      "tags": []
     },
     "output_type": "execute_result"
    }
   ],
   "source": [
    "week_days.strip().capitalize()"
   ]
  },
  {
   "cell_type": "markdown",
   "id": "bf7041a2-bb64-48ee-bbf8-26b6b329bea1",
   "metadata": {
    "id": "z6eNsb8MHRWz"
   },
   "source": [
    "* `title()` 메소드는 각각의 단어의 첫 문자를 대문자로 변환시킨다.  \n",
    "\n",
    "참고 : 영문 책의 타이틀은 각 단어의 첫 알파벳이 대문자로 쓰여진 경우가 많다. "
   ]
  },
  {
   "cell_type": "code",
   "execution_count": null,
   "id": "81c6d6fb-8503-4d23-a42f-33034efc55f6",
   "metadata": {
    "colab": {
     "base_uri": "https://localhost:8080/",
     "height": 35
    },
    "executionInfo": {
     "elapsed": 557,
     "status": "ok",
     "timestamp": 1614842594189,
     "user": {
      "displayName": "HJ Kim",
      "photoUrl": "",
      "userId": "16634276932240017990"
     },
     "user_tz": -540
    },
    "id": "qGOMI2ULHLjG",
    "outputId": "e1ddee10-c679-4d3a-af5b-6e1a519109ac"
   },
   "outputs": [
    {
     "data": {
      "application/vnd.google.colaboratory.intrinsic+json": {
       "type": "string"
      },
      "text/plain": [
       "' Mon, Tue, Wed, Thu, Fri, Sat, Sun '"
      ]
     },
     "execution_count": 73,
     "metadata": {
      "tags": []
     },
     "output_type": "execute_result"
    }
   ],
   "source": [
    "week_days.title()"
   ]
  },
  {
   "cell_type": "code",
   "execution_count": null,
   "id": "efdb0543-4d01-47e7-9c3a-0d423dd534c9",
   "metadata": {
    "colab": {
     "base_uri": "https://localhost:8080/",
     "height": 35
    },
    "executionInfo": {
     "elapsed": 609,
     "status": "ok",
     "timestamp": 1614842612563,
     "user": {
      "displayName": "HJ Kim",
      "photoUrl": "",
      "userId": "16634276932240017990"
     },
     "user_tz": -540
    },
    "id": "_1xmBli3HoEL",
    "outputId": "b015d8ef-84d5-4a63-e709-cb613172f1dd"
   },
   "outputs": [
    {
     "data": {
      "application/vnd.google.colaboratory.intrinsic+json": {
       "type": "string"
      },
      "text/plain": [
       "'Mon, Tue, Wed, Thu, Fri, Sat, Sun'"
      ]
     },
     "execution_count": 74,
     "metadata": {
      "tags": []
     },
     "output_type": "execute_result"
    }
   ],
   "source": [
    "week_days.strip().title()"
   ]
  },
  {
   "cell_type": "markdown",
   "id": "2b246b94-119c-4787-bdbc-ca9d1c964b78",
   "metadata": {
    "id": "ZLfkHCKzHvF5"
   },
   "source": [
    "* `startswith()` 메소드는 문자열이 특정 문자열로 시작하는지 여부를 판단해준다."
   ]
  },
  {
   "cell_type": "code",
   "execution_count": null,
   "id": "56becf84-6f25-4818-9bf7-685a541a3fdf",
   "metadata": {
    "colab": {
     "base_uri": "https://localhost:8080/"
    },
    "executionInfo": {
     "elapsed": 665,
     "status": "ok",
     "timestamp": 1614842657410,
     "user": {
      "displayName": "HJ Kim",
      "photoUrl": "",
      "userId": "16634276932240017990"
     },
     "user_tz": -540
    },
    "id": "abfrneHIHsil",
    "outputId": "f237bfe6-9290-4b27-b93b-22e25a9f1bfd"
   },
   "outputs": [
    {
     "data": {
      "text/plain": [
       "True"
      ]
     },
     "execution_count": 75,
     "metadata": {
      "tags": []
     },
     "output_type": "execute_result"
    }
   ],
   "source": [
    "week_days.startswith(\" M\")"
   ]
  },
  {
   "cell_type": "markdown",
   "id": "655aac39-8ea1-4254-8aa7-f562291845e9",
   "metadata": {
    "id": "cmBi66mOH4yR"
   },
   "source": [
    "* `endswith()` 메소드는 문자열이 특정 문자열로 끝나는지 여부를 판단해준다."
   ]
  },
  {
   "cell_type": "code",
   "execution_count": null,
   "id": "291f0993-74c7-496b-9ec2-0294f57acc5f",
   "metadata": {
    "colab": {
     "base_uri": "https://localhost:8080/"
    },
    "executionInfo": {
     "elapsed": 611,
     "status": "ok",
     "timestamp": 1614842704956,
     "user": {
      "displayName": "HJ Kim",
      "photoUrl": "",
      "userId": "16634276932240017990"
     },
     "user_tz": -540
    },
    "id": "zpbFB-zrH3eV",
    "outputId": "d663017b-fa97-4c22-a221-b2ff92cd8ea7"
   },
   "outputs": [
    {
     "data": {
      "text/plain": [
       "True"
      ]
     },
     "execution_count": 76,
     "metadata": {
      "tags": []
     },
     "output_type": "execute_result"
    }
   ],
   "source": [
    "week_days.endswith(\"n \")"
   ]
  },
  {
   "cell_type": "markdown",
   "id": "cfac4b2a-1f58-4a28-8985-ea6f74c5fa68",
   "metadata": {
    "id": "mmPvJrFOIFWu"
   },
   "source": [
    "## 불변 자료형\n",
    "\n",
    "파이썬의 문자열 자료형의 값들은 변경이 불가능하다. 앞서 `week_days`에 할당된 문자열에 다양한 메소드를 적용하여 새로운 문자열을 생성하였지만 `week_days`에 할당된 문자열 자체는 전혀 변하지 않았음을 아래와 같이 확인할 수 있다. "
   ]
  },
  {
   "cell_type": "code",
   "execution_count": null,
   "id": "35e7615e-f0c4-4bd3-bdf9-9bce2ee88ba8",
   "metadata": {
    "colab": {
     "base_uri": "https://localhost:8080/",
     "height": 35
    },
    "executionInfo": {
     "elapsed": 1034,
     "status": "ok",
     "timestamp": 1614843320059,
     "user": {
      "displayName": "HJ Kim",
      "photoUrl": "",
      "userId": "16634276932240017990"
     },
     "user_tz": -540
    },
    "id": "uSd77qJKIDGM",
    "outputId": "a1da0c89-3b52-4ac9-ef53-8806c4c1a5ab"
   },
   "outputs": [
    {
     "data": {
      "application/vnd.google.colaboratory.intrinsic+json": {
       "type": "string"
      },
      "text/plain": [
       "' Mon, Tue, Wed, Thu, Fri, Sat, Sun '"
      ]
     },
     "execution_count": 77,
     "metadata": {
      "tags": []
     },
     "output_type": "execute_result"
    }
   ],
   "source": [
    "week_days"
   ]
  },
  {
   "cell_type": "markdown",
   "id": "27c69576-8cc8-4c6b-9817-98f36b95f824",
   "metadata": {
    "id": "ljfkQO4HKaDj"
   },
   "source": [
    "이와 같이 한 번 정해지면 절대 변경이 불가능한 자료형을 불변(immutable) 자료형이라 부른다.  \n",
    "주어진 문자열을 이용하여 새로운 문자열을 생성하고 활용하려면 새로운 변수에 저장하여 활용해야 한다."
   ]
  },
  {
   "cell_type": "code",
   "execution_count": null,
   "id": "b19036b2-5abb-4c59-82d9-f95015cbe78e",
   "metadata": {
    "id": "AJq3Hpw-KZKO"
   },
   "outputs": [],
   "source": [
    "stripped_week_days = week_days.strip()"
   ]
  },
  {
   "cell_type": "code",
   "execution_count": null,
   "id": "eb850203-e808-4bce-bc00-c20259d9878a",
   "metadata": {
    "colab": {
     "base_uri": "https://localhost:8080/",
     "height": 35
    },
    "executionInfo": {
     "elapsed": 578,
     "status": "ok",
     "timestamp": 1614843396429,
     "user": {
      "displayName": "HJ Kim",
      "photoUrl": "",
      "userId": "16634276932240017990"
     },
     "user_tz": -540
    },
    "id": "LD3e-wejKpw1",
    "outputId": "353f278b-aac7-42e5-c06d-2155187f0150"
   },
   "outputs": [
    {
     "data": {
      "application/vnd.google.colaboratory.intrinsic+json": {
       "type": "string"
      },
      "text/plain": [
       "'Mon, Tue, Wed, Thu, Fri, Sat, Sun'"
      ]
     },
     "execution_count": 79,
     "metadata": {
      "tags": []
     },
     "output_type": "execute_result"
    }
   ],
   "source": [
    "stripped_week_days"
   ]
  },
  {
   "cell_type": "markdown",
   "id": "6150e059-eef7-4f2c-9e32-2feef81bb091",
   "metadata": {
    "id": "dCD-g9C6q46I"
   },
   "source": [
    "## 문자열 포매팅(String formatting)"
   ]
  },
  {
   "cell_type": "markdown",
   "id": "1ae0b8a9-8539-4107-b929-424f90b3c801",
   "metadata": {
    "id": "ergoH6iv_1ue"
   },
   "source": [
    "### str.format()  \n",
    "\n",
    "`format()`메소드를 사용하면, 문자열의 중괄호(`{}`)가 `format()`의 인자로 변경된다. 예제와 함께 살펴보자. "
   ]
  },
  {
   "cell_type": "code",
   "execution_count": null,
   "id": "f481aadf-b085-4406-ab39-0b386a28d5d5",
   "metadata": {
    "colab": {
     "base_uri": "https://localhost:8080/",
     "height": 35
    },
    "executionInfo": {
     "elapsed": 4,
     "status": "ok",
     "timestamp": 1640322984334,
     "user": {
      "displayName": "HJ Kim",
      "photoUrl": "https://lh3.googleusercontent.com/a/default-user=s64",
      "userId": "16634276932240017990"
     },
     "user_tz": -540
    },
    "id": "AyZDT4PnHxn_",
    "outputId": "5315e0b2-7db7-4b9d-a462-c0820bc1277b"
   },
   "outputs": [
    {
     "data": {
      "application/vnd.google.colaboratory.intrinsic+json": {
       "type": "string"
      },
      "text/plain": [
       "'alice님, 안녕하세요.'"
      ]
     },
     "execution_count": 25,
     "metadata": {},
     "output_type": "execute_result"
    }
   ],
   "source": [
    "'{}님, 안녕하세요.'.format('alice')"
   ]
  },
  {
   "cell_type": "code",
   "execution_count": null,
   "id": "6ca8902b-a479-4b71-84b9-19dbf4356c33",
   "metadata": {
    "colab": {
     "base_uri": "https://localhost:8080/",
     "height": 35
    },
    "executionInfo": {
     "elapsed": 15,
     "status": "ok",
     "timestamp": 1640309301516,
     "user": {
      "displayName": "HJ Kim",
      "photoUrl": "https://lh3.googleusercontent.com/a/default-user=s64",
      "userId": "16634276932240017990"
     },
     "user_tz": -540
    },
    "id": "joBaoxsCC-uP",
    "outputId": "423d18fe-c9cf-4d00-b895-54c3834a2550"
   },
   "outputs": [
    {
     "data": {
      "application/vnd.google.colaboratory.intrinsic+json": {
       "type": "string"
      },
      "text/plain": [
       "'alice님, 안녕하세요.'"
      ]
     },
     "execution_count": 2,
     "metadata": {},
     "output_type": "execute_result"
    }
   ],
   "source": [
    "name = 'alice'\n",
    "'{}님, 안녕하세요.'.format(name)"
   ]
  },
  {
   "cell_type": "code",
   "execution_count": null,
   "id": "d7c4a9f8-e69f-4870-b775-c5c39a8238d0",
   "metadata": {
    "colab": {
     "base_uri": "https://localhost:8080/",
     "height": 35
    },
    "executionInfo": {
     "elapsed": 308,
     "status": "ok",
     "timestamp": 1640310544950,
     "user": {
      "displayName": "HJ Kim",
      "photoUrl": "https://lh3.googleusercontent.com/a/default-user=s64",
      "userId": "16634276932240017990"
     },
     "user_tz": -540
    },
    "id": "nxT1r4nOH7nA",
    "outputId": "845c74cb-9d6e-4f11-e4e7-7354ecb403e3"
   },
   "outputs": [
    {
     "data": {
      "application/vnd.google.colaboratory.intrinsic+json": {
       "type": "string"
      },
      "text/plain": [
       "'alice는 10살이다.'"
      ]
     },
     "execution_count": 4,
     "metadata": {},
     "output_type": "execute_result"
    }
   ],
   "source": [
    "age = 10\n",
    "'alice는 {}살이다.'.format(age)"
   ]
  },
  {
   "cell_type": "markdown",
   "id": "4503cb69-3204-4207-83d8-7921495dd345",
   "metadata": {
    "id": "F65xY2Wt5EJk"
   },
   "source": [
    "여러 개의 값을 변경할 때는 콤마(,)로 구분해서 적어준다. "
   ]
  },
  {
   "cell_type": "code",
   "execution_count": null,
   "id": "bb4d737a-2089-4ecb-8d04-8a35bc3ddd29",
   "metadata": {
    "colab": {
     "base_uri": "https://localhost:8080/",
     "height": 35
    },
    "executionInfo": {
     "elapsed": 407,
     "status": "ok",
     "timestamp": 1640310581808,
     "user": {
      "displayName": "HJ Kim",
      "photoUrl": "https://lh3.googleusercontent.com/a/default-user=s64",
      "userId": "16634276932240017990"
     },
     "user_tz": -540
    },
    "id": "weXwqat_HsWl",
    "outputId": "9426a2d5-2db2-4a0b-eaa7-e8777f52fc8b"
   },
   "outputs": [
    {
     "data": {
      "application/vnd.google.colaboratory.intrinsic+json": {
       "type": "string"
      },
      "text/plain": [
       "'alice는 10살이다.'"
      ]
     },
     "execution_count": 5,
     "metadata": {},
     "output_type": "execute_result"
    }
   ],
   "source": [
    "name = 'alice'\n",
    "age = 10\n",
    "'{}는 {}살이다.'.format(name, age)"
   ]
  },
  {
   "cell_type": "markdown",
   "id": "4560fe3b-b679-48fc-8c96-c0c551f2d122",
   "metadata": {
    "id": "MG46-fG75C2d"
   },
   "source": [
    "인덱스 항목을 사용하여 넣어줄 위치를 지정할 수도 있다."
   ]
  },
  {
   "cell_type": "code",
   "execution_count": null,
   "id": "1e9397c0-14e6-4053-b867-fcd03a4e9db3",
   "metadata": {
    "colab": {
     "base_uri": "https://localhost:8080/"
    },
    "executionInfo": {
     "elapsed": 3,
     "status": "ok",
     "timestamp": 1640324488677,
     "user": {
      "displayName": "HJ Kim",
      "photoUrl": "https://lh3.googleusercontent.com/a/default-user=s64",
      "userId": "16634276932240017990"
     },
     "user_tz": -540
    },
    "id": "NARmkwIW0Kqq",
    "outputId": "545695bc-2ff8-4229-a540-07b4fe89738d"
   },
   "outputs": [
    {
     "name": "stdout",
     "output_type": "stream",
     "text": [
      "alice와 bob는 친구다.\n",
      "alice와 bob는 친구다.\n",
      "bob와 alice는 친구다.\n"
     ]
    }
   ],
   "source": [
    "name1 = 'alice'\n",
    "name2 = 'bob'\n",
    "print('{}와 {}는 친구다.'.format(name1, name2))\n",
    "print('{0}와 {1}는 친구다.'.format(name1, name2))\n",
    "print('{1}와 {0}는 친구다.'.format(name1, name2))"
   ]
  },
  {
   "cell_type": "markdown",
   "id": "7382be39-e7d6-4428-b87e-5ef0d18951a6",
   "metadata": {
    "id": "Tv2p0etW2WBi"
   },
   "source": [
    "**소수점 표현**  \n",
    "`:`뒤에 소수점아래 몇 번째 자리까지 출력할지를 적어주면, 그 만큼을 보여준다.  \n",
    "예제와 함께 살펴보자. \n",
    "* `.`은 소수점을 의미하고, 소수점 뒤의 숫자는 소수점 뒤에 나올 숫자의 개수다.  \n"
   ]
  },
  {
   "cell_type": "code",
   "execution_count": null,
   "id": "9b35fdec-fd4b-48bc-ae52-c32a60c82a18",
   "metadata": {
    "colab": {
     "base_uri": "https://localhost:8080/"
    },
    "executionInfo": {
     "elapsed": 7,
     "status": "ok",
     "timestamp": 1640325892455,
     "user": {
      "displayName": "HJ Kim",
      "photoUrl": "https://lh3.googleusercontent.com/a/default-user=s64",
      "userId": "16634276932240017990"
     },
     "user_tz": -540
    },
    "id": "P0u61sidI1m0",
    "outputId": "8a68a2f0-c3e0-427d-dab2-560b6a600d4e"
   },
   "outputs": [
    {
     "name": "stdout",
     "output_type": "stream",
     "text": [
      "0.1\n",
      "0.12\n",
      "0.123\n",
      "0.12346\n"
     ]
    }
   ],
   "source": [
    "num = 0.123456789\n",
    "print('{0:.1f}'.format(num))\n",
    "print('{0:.2f}'.format(num))\n",
    "print('{0:.3f}'.format(num))\n",
    "print('{0:.5f}'.format(num)) # 소수점 아래 여섯 번째 자리에서 반올림"
   ]
  },
  {
   "cell_type": "markdown",
   "id": "63a4a2f2-2a52-4095-b128-2e1f7c0a7612",
   "metadata": {
    "id": "VVZtoMFX_6fe"
   },
   "source": [
    "### f-string    \n",
    "문자열에 `f` 를 붙이면, 문자열 포매팅 기능을 사용할 수 있다.  \n",
    "예제와 함께 살펴보자.  "
   ]
  },
  {
   "cell_type": "code",
   "execution_count": null,
   "id": "20011590-0981-4e69-b7d5-3f0b83babd2e",
   "metadata": {
    "colab": {
     "base_uri": "https://localhost:8080/",
     "height": 35
    },
    "executionInfo": {
     "elapsed": 8,
     "status": "ok",
     "timestamp": 1640321810708,
     "user": {
      "displayName": "HJ Kim",
      "photoUrl": "https://lh3.googleusercontent.com/a/default-user=s64",
      "userId": "16634276932240017990"
     },
     "user_tz": -540
    },
    "id": "QFAg5ygwzFbK",
    "outputId": "2c75e945-7623-4e57-a4db-8c5e99fe1df2"
   },
   "outputs": [
    {
     "data": {
      "application/vnd.google.colaboratory.intrinsic+json": {
       "type": "string"
      },
      "text/plain": [
       "'alice님, 안녕하세요.'"
      ]
     },
     "execution_count": 2,
     "metadata": {},
     "output_type": "execute_result"
    }
   ],
   "source": [
    "name = 'alice'\n",
    "f'{name}님, 안녕하세요.'"
   ]
  },
  {
   "cell_type": "code",
   "execution_count": null,
   "id": "5356f7de-23ee-4a17-a0da-11cb62a49959",
   "metadata": {
    "colab": {
     "base_uri": "https://localhost:8080/",
     "height": 35
    },
    "executionInfo": {
     "elapsed": 260,
     "status": "ok",
     "timestamp": 1640321834814,
     "user": {
      "displayName": "HJ Kim",
      "photoUrl": "https://lh3.googleusercontent.com/a/default-user=s64",
      "userId": "16634276932240017990"
     },
     "user_tz": -540
    },
    "id": "Gep6bkoYzH2b",
    "outputId": "f5c877a4-a419-4365-9b82-b4f9e005ad14"
   },
   "outputs": [
    {
     "data": {
      "application/vnd.google.colaboratory.intrinsic+json": {
       "type": "string"
      },
      "text/plain": [
       "'alice는 10살이다.'"
      ]
     },
     "execution_count": 4,
     "metadata": {},
     "output_type": "execute_result"
    }
   ],
   "source": [
    "age = 10\n",
    "f'alice는 {age}살이다.'"
   ]
  },
  {
   "cell_type": "code",
   "execution_count": null,
   "id": "5f617d1b-558f-4529-9698-7472c8cc93bd",
   "metadata": {
    "colab": {
     "base_uri": "https://localhost:8080/",
     "height": 35
    },
    "executionInfo": {
     "elapsed": 263,
     "status": "ok",
     "timestamp": 1640321856900,
     "user": {
      "displayName": "HJ Kim",
      "photoUrl": "https://lh3.googleusercontent.com/a/default-user=s64",
      "userId": "16634276932240017990"
     },
     "user_tz": -540
    },
    "id": "82trUqTpzMlS",
    "outputId": "411fd5ba-e3b4-42f6-ec4b-2d4615f5bb83"
   },
   "outputs": [
    {
     "data": {
      "application/vnd.google.colaboratory.intrinsic+json": {
       "type": "string"
      },
      "text/plain": [
       "'alice는 10살이다.'"
      ]
     },
     "execution_count": 6,
     "metadata": {},
     "output_type": "execute_result"
    }
   ],
   "source": [
    "name = 'alice'\n",
    "age = 10\n",
    "f'{name}는 {age}살이다.'"
   ]
  },
  {
   "cell_type": "markdown",
   "id": "a939b001-cf52-4e5c-b800-98dd70d01a69",
   "metadata": {
    "id": "gExl_ASv9GHF"
   },
   "source": [
    "`{}`안에 변수와 수식(+, -, *, / 등)을 함께 사용하는 것도 가능하다. "
   ]
  },
  {
   "cell_type": "code",
   "execution_count": null,
   "id": "9e7b4deb-04f9-49e6-a207-6b4cc133da01",
   "metadata": {
    "colab": {
     "base_uri": "https://localhost:8080/",
     "height": 35
    },
    "executionInfo": {
     "elapsed": 270,
     "status": "ok",
     "timestamp": 1640321936826,
     "user": {
      "displayName": "HJ Kim",
      "photoUrl": "https://lh3.googleusercontent.com/a/default-user=s64",
      "userId": "16634276932240017990"
     },
     "user_tz": -540
    },
    "id": "om8ro-LozSLS",
    "outputId": "c0760388-5a6d-4f80-fb76-6c262be486ca"
   },
   "outputs": [
    {
     "data": {
      "application/vnd.google.colaboratory.intrinsic+json": {
       "type": "string"
      },
      "text/plain": [
       "'alice의 동생은 7살이다'"
      ]
     },
     "execution_count": 8,
     "metadata": {},
     "output_type": "execute_result"
    }
   ],
   "source": [
    "name = 'alice'\n",
    "age = 10\n",
    "f'{name}의 동생은 {age - 3}살이다'"
   ]
  },
  {
   "cell_type": "code",
   "execution_count": null,
   "id": "21418a6b-6577-48be-8f5a-1612f3a86958",
   "metadata": {
    "colab": {
     "base_uri": "https://localhost:8080/"
    },
    "executionInfo": {
     "elapsed": 4,
     "status": "ok",
     "timestamp": 1640323729481,
     "user": {
      "displayName": "HJ Kim",
      "photoUrl": "https://lh3.googleusercontent.com/a/default-user=s64",
      "userId": "16634276932240017990"
     },
     "user_tz": -540
    },
    "id": "qO5LiFOgzjQX",
    "outputId": "3092cc48-31d6-4b1c-ad1c-5e151e292332"
   },
   "outputs": [
    {
     "name": "stdout",
     "output_type": "stream",
     "text": [
      "0.1\n",
      "0.12\n",
      "0.123\n"
     ]
    }
   ],
   "source": [
    "num = 0.123456789\n",
    "print(f'{num:.1f}')\n",
    "print(f'{num:.2f}')\n",
    "print(f'{num:.3f}')"
   ]
  }
 ],
 "metadata": {
  "kernelspec": {
   "display_name": "Python 3 (ipykernel)",
   "language": "python",
   "name": "python3"
  },
  "language_info": {
   "codemirror_mode": {
    "name": "ipython",
    "version": 3
   },
   "file_extension": ".py",
   "mimetype": "text/x-python",
   "name": "python",
   "nbconvert_exporter": "python",
   "pygments_lexer": "ipython3",
   "version": "3.8.10"
  }
 },
 "nbformat": 4,
 "nbformat_minor": 5
}
