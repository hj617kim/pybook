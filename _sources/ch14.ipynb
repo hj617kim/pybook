{
 "cells": [
  {
   "cell_type": "markdown",
   "id": "c0ea583f-de91-4288-be1e-9f5df65379d7",
   "metadata": {},
   "source": [
    "# 파일 다루기"
   ]
  },
  {
   "cell_type": "markdown",
   "id": "bfcb6099-9b67-492b-940f-6586be685fd3",
   "metadata": {},
   "source": [
    "데이터 분석을 하기 위해 파일을 다뤄야 하는 경우가 많다.  \n",
    "여기서는 Google Colab에서 파일에 저장된 데이터를 불러오거나 파일에 데이터를 저장하는 방법을 살펴보자."
   ]
  },
  {
   "cell_type": "markdown",
   "id": "5330bc66-72dd-4a53-9b7d-187529822d83",
   "metadata": {},
   "source": [
    "## `open()` 함수  \n",
    "\n",
    "`open()` 함수는 파이썬 내장 함수로, 주로 두 개의 인자 `filename`과 `mode`를 받아 파일과 관련된 모든 정보를 저장한 파일 객체를 리턴한다.  \n",
    "\n",
    "> `open(filename, mode)`\n",
    "\n",
    "첫 번째 인자는 파일 이름을 담은 문자열이고, 두 번째 인자는 파일이 사용될 방식을 설명하는 문자열이다. \n",
    "\n",
    "`mode`의 기본값은 `r`로, \n",
    "* `r`은 읽기 위해 파일을 여는 것을 의미한다. \n",
    "* `w`은 쓰기 위해 파일을 여는 것을 의미한다. 이때 같은 이름의 파일이 이미 존재하면, 그 파일의 내용은 모두 사라지고, 존재하지 않으면 새로운 파일이 생성된다.\n",
    "* `a`은 덧붙여 쓰기 위해 파일을 여는 것을 의미한다. 즉, 파일의 마지막에 새로운 내용을 추가시킬 때 사용한다. \n",
    "\n",
    "\n",
    "\n",
    "참고) 저장된 파일은 파일 내용과 더불어 파일의 크기, 작성 시간, 작성자, 수정 시간, 사용자 권한 등 다양한 정보도 함께 포함한다. "
   ]
  },
  {
   "cell_type": "markdown",
   "id": "c1cb2477-73e5-4154-ac6a-6698d1317c64",
   "metadata": {},
   "source": [
    "## 새 파일에 쓰기\n",
    "\n",
    "* 새 파일을 생성한 후에 내용을 적어 넣으려면, `open` 함수를 쓰기 모드(w-모드)를 이용하여, 아래 형식으로 호출하면 된다.  \n",
    "> `open('파일경로를 포함한 파일이름', 'w')`\n",
    "\n",
    "주의) 쓰기 모드로 파일을 열 때, 기존에 있는 파일이름을 사용하면 해당 파일내용이 삭제됨을 주의해야 한다. \n",
    "\n",
    "* 생성된 파일에 내용을 추가하려면, `write()` 메서드를 활용한다. \n",
    "> `파일객체.write(추가내용)`\n",
    "\n",
    "* 생성된 파일에 내용추가하기가 종료되었으면 해당 파일객체를 닫아야 한다. 파일 객체를 닫는 것이 예상치 못한 오류를 방지할 수 있다.\n",
    "> `파일객체.close()`"
   ]
  },
  {
   "cell_type": "markdown",
   "id": "4f200a63-463b-4534-b824-c27374794e93",
   "metadata": {},
   "source": [
    "예제를 통해 살펴보자.  \n",
    "ex) `say.txt`라는 파일을 생성한 후 아래의 내용을 저장해보자. \n",
    "\n",
    "```\n",
    "hello\n",
    "```\n",
    "\n",
    "참고) `txt`라는 확장자를 가진 파일은 순수한 텍스트 파일이라 부른다. 반면에 아래한글 파일, 워드 파일 등은 순수한 텍스트 파일이 아니다. 아래한글 파일은 표, 그림 등을 다룰 뿐만 아니라 수식처리 및 계산 등을 동시에 다룰 수 있다. 반면에 순수한 텍스트 파일은 글자를 보여주는 것 이외에는 어떤 기능도 가지고 있지 않는다. "
   ]
  },
  {
   "cell_type": "code",
   "execution_count": 1,
   "id": "4a1ff507-bc84-41a6-83ea-807a852c6e20",
   "metadata": {},
   "outputs": [],
   "source": [
    "# 파일을 생성하기 위해 open 함수를 w모드로 사용한다. \n",
    "f = open('say.txt', 'w')\n",
    "\n",
    "# 파일에 내용을 추가하기 위해 write 메소드를 사용한다.\n",
    "f.write('hello')\n",
    "\n",
    "# 파일 내용 추가가 완료되면 닫아 주어야 한다.\n",
    "f.close()"
   ]
  },
  {
   "cell_type": "markdown",
   "id": "0bb504b6-812a-49d0-a1b1-02464175978f",
   "metadata": {},
   "source": [
    "## 기존 파일에 내용 추가하기\n",
    "\n",
    "* 기존 파일에 내용을 추가하려면, `open` 함수를 추가 모드(a-모드)를 이용하여, 아래 형식으로 호출하면 된다.\n",
    "> `open('파일경로를 포함한 파일이름', 'a')`"
   ]
  },
  {
   "cell_type": "markdown",
   "id": "7020c32b-0436-4fad-ab0a-c45975575975",
   "metadata": {},
   "source": [
    "예제를 통해 살펴보자.  \n",
    "앞에서 만든 `say.txt`에 아래의 내용을 추가하기 위해 코드를 다음과 같이 작성하면 어떻게 될까? \n",
    "\n",
    "```\n",
    "1. 안녕하세요.\n",
    "2. 안녕하세요.\n",
    "3. 안녕하세요.\n",
    "4. 안녕하세요.\n",
    "5. 안녕하세요. \n",
    "\n",
    "```"
   ]
  },
  {
   "cell_type": "code",
   "execution_count": 2,
   "id": "92666198-ea8b-4da2-b425-fbabf618cbec",
   "metadata": {},
   "outputs": [],
   "source": [
    "f = open('say.txt', 'w')\n",
    "\n",
    "for i in range(5) :\n",
    "    f.write(str(i+1)+'. 안녕하세요.\\n') \n",
    "\n",
    "f.close()"
   ]
  },
  {
   "cell_type": "markdown",
   "id": "8812a8a8-3385-4476-8407-1bde8224a82a",
   "metadata": {},
   "source": [
    "파일을 확인하면, 기존 파일 내용은 삭제되고 새로운 내용이 저장된 것을 볼 수 있다."
   ]
  },
  {
   "cell_type": "markdown",
   "id": "ec8409ed-6010-4fb4-b697-e13b5754bb22",
   "metadata": {},
   "source": [
    " ex) `say.txt`에 아래의 내용을 추가해보자.  \n",
    "\n",
    "```\n",
    "6. 안녕하세요.\n",
    "7. 안녕하세요.\n",
    "8. 안녕하세요.\n",
    "9. 안녕하세요.\n",
    "10. 안녕하세요. \n",
    "\n",
    "```\n",
    "\n",
    "기존 파일에 내용을 추가하려면 a-모드를 사용한다."
   ]
  },
  {
   "cell_type": "code",
   "execution_count": 3,
   "id": "2ffd1fb9-5c37-4874-8061-7f8f9b5d4295",
   "metadata": {},
   "outputs": [],
   "source": [
    "f = open('say.txt', 'a')\n",
    "\n",
    "for i in range(6, 11) :\n",
    "    f.write(str(i)+'. 안녕하세요.\\n') \n",
    "\n",
    "f.close()"
   ]
  },
  {
   "cell_type": "markdown",
   "id": "0268a13b-51ec-4b9b-940b-14458e8a0ea2",
   "metadata": {},
   "source": [
    "## 파일 읽기"
   ]
  },
  {
   "cell_type": "markdown",
   "id": "bc4b6d38-4736-47f9-83dd-b58f65166b7f",
   "metadata": {},
   "source": [
    "* 파일을 읽으려면, `open` 함수를 읽기 모드(r-모드)를 이용하여, 아래 형식으로 호출하면 된다.\n",
    "> `open('파일경로를 포함한 파일이름', 'r')`"
   ]
  },
  {
   "cell_type": "markdown",
   "id": "caa36f4a-58ed-4f75-9bd6-a6c93a958b74",
   "metadata": {},
   "source": [
    "예제를 통해 살펴보자.  \n",
    "\n",
    "ex) `say.txt` 파일 내용을 확인해보자."
   ]
  },
  {
   "cell_type": "code",
   "execution_count": 4,
   "id": "416c0634-daff-4e49-863a-13d9c781a4d4",
   "metadata": {},
   "outputs": [],
   "source": [
    "f = open('say.txt', 'r')\n",
    "\n",
    "# 또는 아래와 같이 코드를 작성할 수 있다.\n",
    "#f = open('say.txt')"
   ]
  },
  {
   "cell_type": "markdown",
   "id": "6b6d9057-83b2-4ac5-90bc-440aeb52edf9",
   "metadata": {},
   "source": [
    "`print()` 함수로는 파일 내용을 확인할 수 없다."
   ]
  },
  {
   "cell_type": "code",
   "execution_count": 5,
   "id": "42b7136b-4419-47b5-abe8-027d51cc6ee3",
   "metadata": {},
   "outputs": [
    {
     "name": "stdout",
     "output_type": "stream",
     "text": [
      "<_io.TextIOWrapper name='say.txt' mode='r' encoding='UTF-8'>\n"
     ]
    }
   ],
   "source": [
    "print(f)\n",
    "f.close()"
   ]
  },
  {
   "cell_type": "markdown",
   "id": "03725e1d-39f3-49a6-8ae5-05b9ac344925",
   "metadata": {},
   "source": [
    "파일 내용을 `for` 반복문을 이용하여 확인할 수 있다."
   ]
  },
  {
   "cell_type": "code",
   "execution_count": 6,
   "id": "4a931e2b-ae8a-4254-8a06-4b29778e4d20",
   "metadata": {},
   "outputs": [
    {
     "name": "stdout",
     "output_type": "stream",
     "text": [
      "1. 안녕하세요.\n",
      "\n",
      "2. 안녕하세요.\n",
      "\n",
      "3. 안녕하세요.\n",
      "\n",
      "4. 안녕하세요.\n",
      "\n",
      "5. 안녕하세요.\n",
      "\n",
      "6. 안녕하세요.\n",
      "\n",
      "7. 안녕하세요.\n",
      "\n",
      "8. 안녕하세요.\n",
      "\n",
      "9. 안녕하세요.\n",
      "\n",
      "10. 안녕하세요.\n",
      "\n"
     ]
    }
   ],
   "source": [
    "f = open('say.txt')\n",
    "\n",
    "for line in f :\n",
    "    print(line)\n",
    "\n",
    "f.close()"
   ]
  },
  {
   "cell_type": "markdown",
   "id": "f127c8c0-0d69-43f7-8290-4b39d75db41d",
   "metadata": {},
   "source": [
    "줄 사이에 새로운 줄이 포함된 이유는 각 줄 맨끝에 줄바꿈(\\n) 기호가 포함되었기 때문이다. 따라서 줄바꿈을 한 번 더 하는 것을 방지하기 위해서 `strip()` 메서드를 활용하는 것이 좋다."
   ]
  },
  {
   "cell_type": "code",
   "execution_count": 7,
   "id": "a6afca11-8314-4ab1-aa5e-e753c3d3ad47",
   "metadata": {},
   "outputs": [
    {
     "name": "stdout",
     "output_type": "stream",
     "text": [
      "1. 안녕하세요.\n",
      "2. 안녕하세요.\n",
      "3. 안녕하세요.\n",
      "4. 안녕하세요.\n",
      "5. 안녕하세요.\n",
      "6. 안녕하세요.\n",
      "7. 안녕하세요.\n",
      "8. 안녕하세요.\n",
      "9. 안녕하세요.\n",
      "10. 안녕하세요.\n"
     ]
    }
   ],
   "source": [
    "f = open('say.txt')\n",
    "\n",
    "for line in f :\n",
    "    print(line.strip())\n",
    "\n",
    "f.close()"
   ]
  },
  {
   "cell_type": "markdown",
   "id": "ae83f3f6-0419-455a-aaa1-0d2fd2152858",
   "metadata": {},
   "source": [
    "### `readline()` 메서드\n",
    "\n",
    "`readline()` 메서드는 파일에 저장된 내용을 한 줄씩 읽어 들여 문자열로 리턴한다. \n",
    "\n",
    "> `파일객체.readline()`"
   ]
  },
  {
   "cell_type": "code",
   "execution_count": 8,
   "id": "ee8c9c0f-7f0c-4b64-baaa-b0c8c684d6e7",
   "metadata": {},
   "outputs": [
    {
     "data": {
      "text/plain": [
       "'1. 안녕하세요.\\n'"
      ]
     },
     "execution_count": 8,
     "metadata": {},
     "output_type": "execute_result"
    }
   ],
   "source": [
    "f = open('say.txt')\n",
    "\n",
    "f.readline()"
   ]
  },
  {
   "cell_type": "code",
   "execution_count": 9,
   "id": "ff499c3a-ffc0-4763-a45a-395fdb0d5989",
   "metadata": {},
   "outputs": [
    {
     "data": {
      "text/plain": [
       "'2. 안녕하세요.\\n'"
      ]
     },
     "execution_count": 9,
     "metadata": {},
     "output_type": "execute_result"
    }
   ],
   "source": [
    "f.readline()"
   ]
  },
  {
   "cell_type": "code",
   "execution_count": 10,
   "id": "04d2d894-f973-4b60-b47e-fde11665d522",
   "metadata": {},
   "outputs": [
    {
     "data": {
      "text/plain": [
       "'3. 안녕하세요.\\n'"
      ]
     },
     "execution_count": 10,
     "metadata": {},
     "output_type": "execute_result"
    }
   ],
   "source": [
    "f.readline()"
   ]
  },
  {
   "cell_type": "markdown",
   "id": "f11c8b79-c4d9-4cb0-bba0-d53b56d7cf5d",
   "metadata": {},
   "source": [
    "* `readline()` 메서드는 몇 번째 줄까지 읽었는지 기억한다.  \n",
    "* 줄의 끝은 줄바꿈(newline)을 의미하는 문자 '\\n'의 존재여부로 확인한다.\n",
    "  * 줄바꿈 기호는 엔터키를 누를 때 만들어지지만 보통의 문서 편집기는 보여주지 않는다.\n",
    "  * 하지만 사람 눈에 보이지 않을 뿐 컴퓨터에게는 엔터키가 눌렸다는 정보를 줄바꿈 기호로 표시해 둔다.\n",
    "* 위에서 각각의 `안녕하세요.` 끝에 줄바꿈 문자(\\n)가 존재함을 볼 수 있다.  \n",
    "\n",
    "줄바꿈 문자를 제거하면 보다 자연스럽게 출력할 수 있다. 이를 위해 `strip()`이라는 문자열 메서드를 활용하면 된다. "
   ]
  },
  {
   "cell_type": "code",
   "execution_count": 11,
   "id": "3343bdcb-6aa4-4d87-bb4a-c9ef9ce3b7d0",
   "metadata": {},
   "outputs": [
    {
     "name": "stdout",
     "output_type": "stream",
     "text": [
      "4. 안녕하세요.\n"
     ]
    }
   ],
   "source": [
    "line = f.readline()\n",
    "word = line.strip()\n",
    "print(word)"
   ]
  },
  {
   "cell_type": "markdown",
   "id": "c736f739-efec-4d31-a8ab-795604ff0b51",
   "metadata": {},
   "source": [
    "파일 내용 전체를 한꺼번에 리턴하는 두 가지 메서드가 존재한다. `readlines()` 메서드와 `read()` 메서드를 살펴보자. "
   ]
  },
  {
   "cell_type": "markdown",
   "id": "6cbd6ca2-255a-4c87-bd9a-f9e7189bfe59",
   "metadata": {},
   "source": [
    "### `readlines()` 메서드  \n",
    "\n",
    "`readlines()` 메서드는 파일에 저장된 내용의 각 줄을 항목으로 갖는 리스트를 리턴한다. \n",
    "\n",
    "> `파일객체.readlines()`"
   ]
  },
  {
   "cell_type": "code",
   "execution_count": 12,
   "id": "60474b40-29ed-429f-a0f2-1b6c31716980",
   "metadata": {},
   "outputs": [
    {
     "name": "stdout",
     "output_type": "stream",
     "text": [
      "<class 'list'>\n"
     ]
    }
   ],
   "source": [
    "f = open('say.txt')\n",
    "print(type(f.readlines()))\n",
    "f.close()"
   ]
  },
  {
   "cell_type": "code",
   "execution_count": 13,
   "id": "071b2ed4-1f2b-486d-af86-fa97eee8e4a6",
   "metadata": {},
   "outputs": [
    {
     "name": "stdout",
     "output_type": "stream",
     "text": [
      "<class 'str'>\n"
     ]
    }
   ],
   "source": [
    "f = open('say.txt')\n",
    "print(type(f.readlines()[0]))\n",
    "f.close()"
   ]
  },
  {
   "cell_type": "code",
   "execution_count": 14,
   "id": "79fba8d0-bcba-4764-9d36-d37262833bbd",
   "metadata": {},
   "outputs": [
    {
     "name": "stdout",
     "output_type": "stream",
     "text": [
      "['1. 안녕하세요.\\n', '2. 안녕하세요.\\n', '3. 안녕하세요.\\n', '4. 안녕하세요.\\n', '5. 안녕하세요.\\n', '6. 안녕하세요.\\n', '7. 안녕하세요.\\n', '8. 안녕하세요.\\n', '9. 안녕하세요.\\n', '10. 안녕하세요.\\n']\n"
     ]
    }
   ],
   "source": [
    "f = open('say.txt')\n",
    "print(f.readlines())\n",
    "f.close()"
   ]
  },
  {
   "cell_type": "markdown",
   "id": "0748b7bf-a85f-4bf7-a42c-c5a28a791f57",
   "metadata": {},
   "source": [
    "### `read()` 메소드  \n",
    "\n",
    "`read()` 메소드는 파일에 저장된 내용 전체를 하나의 문자열로 리턴한다.\n",
    "> `파일객체.read()`"
   ]
  },
  {
   "cell_type": "code",
   "execution_count": 15,
   "id": "2b7a7d4c-eba5-4b57-b10a-b2edcfbe00b6",
   "metadata": {},
   "outputs": [
    {
     "name": "stdout",
     "output_type": "stream",
     "text": [
      "<class 'str'>\n"
     ]
    }
   ],
   "source": [
    "f = open('say.txt')\n",
    "print(type(f.read()))\n",
    "f.close()"
   ]
  },
  {
   "cell_type": "code",
   "execution_count": 16,
   "id": "4d8bc46e-c99e-49f5-a1f4-ce344ca9b2f0",
   "metadata": {},
   "outputs": [
    {
     "name": "stdout",
     "output_type": "stream",
     "text": [
      "1. 안녕하세요.\n",
      "2. 안녕하세요.\n",
      "3. 안녕하세요.\n",
      "4. 안녕하세요.\n",
      "5. 안녕하세요.\n",
      "6. 안녕하세요.\n",
      "7. 안녕하세요.\n",
      "8. 안녕하세요.\n",
      "9. 안녕하세요.\n",
      "10. 안녕하세요.\n",
      "\n"
     ]
    }
   ],
   "source": [
    "f = open('say.txt')\n",
    "print(f.read())\n",
    "f.close()"
   ]
  },
  {
   "cell_type": "markdown",
   "id": "57ce035e-0f48-4e5a-904a-c12b4a86f5ff",
   "metadata": {},
   "source": [
    "특수 문자들의 기능을 제거한 채로 출력하고 싶다면 `repr()` 함수를 이용하면 된다."
   ]
  },
  {
   "cell_type": "code",
   "execution_count": 17,
   "id": "5a0a428f-cfdc-4db4-867f-638b4cb1fe46",
   "metadata": {},
   "outputs": [
    {
     "name": "stdout",
     "output_type": "stream",
     "text": [
      "'1. 안녕하세요.\\n2. 안녕하세요.\\n3. 안녕하세요.\\n4. 안녕하세요.\\n5. 안녕하세요.\\n6. 안녕하세요.\\n7. 안녕하세요.\\n8. 안녕하세요.\\n9. 안녕하세요.\\n10. 안녕하세요.\\n'\n"
     ]
    }
   ],
   "source": [
    "f = open('say.txt')\n",
    "print(repr(f.read()))\n",
    "f.close()"
   ]
  },
  {
   "cell_type": "markdown",
   "id": "4c82d831-a318-4b3c-9c9d-bf44bf53052b",
   "metadata": {},
   "source": [
    "## `with` 문\n",
    "\n",
    "지금까지 `open` 함수를 사용하여 파일을 열고, `close()`를 사용하여 파일을 닫았는데,   \n",
    "`with` 문을 사용하면 `close()`를 사용하지 않아도 열린 파일을 자동으로 닫아준다.  \n"
   ]
  },
  {
   "cell_type": "markdown",
   "id": "208b67d1-d5d7-4571-b0f1-45a971745ee2",
   "metadata": {},
   "source": [
    "다음 형식은 \n",
    "> ```\n",
    "with open('say.txt') as f :\n",
    "    코드\n",
    "```\n",
    "\n",
    "아래 코드에 대응한다. \n",
    ">```\n",
    "f = open('say.txt')\n",
    "코드\n",
    "f.close()\n",
    "```"
   ]
  },
  {
   "cell_type": "markdown",
   "id": "5538db43-29cd-4c47-b987-668e2ed030f0",
   "metadata": {},
   "source": [
    "예제를 하나 살펴보자. \n",
    "\n",
    "ex) `subject_score.txt` 파일은 수학, 영어, 과학 점수를 담고 있다. \n",
    "\n",
    "```\n",
    "subject score\n",
    "math 95\n",
    "eng 86\n",
    "science 90\n",
    "```\n",
    "\n",
    "위 파일로부터 과목명과 점수를 아래와 같이 확인하는 코드를 작성하여라. \n",
    "\n",
    "```\n",
    "math 의 점수는  95 이다.\n",
    "science 의 점수는  90 이다.\n",
    "eng 의 점수는  86 이다.\n",
    "```"
   ]
  },
  {
   "cell_type": "markdown",
   "id": "19d9cc95-37ee-456b-93a1-6010381c111e",
   "metadata": {},
   "source": [
    "저장된 파일에서 데이터를 불러와서 한 줄씩 확인하는 방법은 다음과 같다."
   ]
  },
  {
   "cell_type": "code",
   "execution_count": 18,
   "id": "137f0b22-3501-4c5e-93f9-0fe1effb0654",
   "metadata": {},
   "outputs": [
    {
     "name": "stdout",
     "output_type": "stream",
     "text": [
      "subject score\n",
      "math 95\n",
      "eng 86\n",
      "science 90\n"
     ]
    }
   ],
   "source": [
    "f = open('subject_score.txt')  # 파일 열기\n",
    "\n",
    "for line in f :    # 각 줄 내용 출력하기\n",
    "    print(line.strip())\n",
    "\n",
    "f.close()   #파일닫기"
   ]
  },
  {
   "cell_type": "markdown",
   "id": "60d599f5-096e-4e73-970b-9b8b9fd31149",
   "metadata": {},
   "source": [
    "파일내용을 확인하면, 과목명과 점수가 공백을 사이로 두고 각 줄에 적혀있다. 따라서 아래와 같이 `split()` 메서드를 사용하여 각 줄을 쪼개야 한다."
   ]
  },
  {
   "cell_type": "code",
   "execution_count": 19,
   "id": "0617df9a-fc26-44fb-a4b6-1449b2886c08",
   "metadata": {},
   "outputs": [
    {
     "name": "stdout",
     "output_type": "stream",
     "text": [
      "['subject', 'score']\n",
      "['math', '95']\n",
      "['eng', '86']\n",
      "['science', '90']\n"
     ]
    }
   ],
   "source": [
    "f = open('subject_score.txt') \n",
    "\n",
    "for line in f :    \n",
    "    print(line.strip().split())\n",
    "\n",
    "f.close()   "
   ]
  },
  {
   "cell_type": "markdown",
   "id": "5d9bca1d-ed09-462d-9cc5-55573f0223c3",
   "metadata": {},
   "source": [
    "과목명과 점수를 연동하여 점수순으로 정렬해야 한다. 이를 위해 딕셔너리 자료형을 활용한다. "
   ]
  },
  {
   "cell_type": "code",
   "execution_count": 20,
   "id": "b72ff270-e3cd-4184-9c4e-f6ac2fe8c555",
   "metadata": {},
   "outputs": [
    {
     "name": "stdout",
     "output_type": "stream",
     "text": [
      "{'score': 'subject', '95': 'math', '86': 'eng', '90': 'science'}\n"
     ]
    }
   ],
   "source": [
    "f = open('subject_score.txt') \n",
    "\n",
    "score_dict = {}\n",
    "\n",
    "for line in f :    \n",
    "    (subject, score) = line.strip().split()\n",
    "    score_dict[score] = subject   #점수와 과목명을 사전에 추가\n",
    "\n",
    "f.close()   \n",
    "\n",
    "print(score_dict)"
   ]
  },
  {
   "cell_type": "markdown",
   "id": "e7431c92-aa3d-4434-88ac-eb0f77ae7b77",
   "metadata": {},
   "source": [
    "첫째 줄 내용은 점수를 비교하는데 필요없다. `try...except`를 사용하여 첫 줄을 제외하자."
   ]
  },
  {
   "cell_type": "code",
   "execution_count": 21,
   "id": "4d6074b4-9885-4507-97fa-a440618dc733",
   "metadata": {},
   "outputs": [
    {
     "name": "stdout",
     "output_type": "stream",
     "text": [
      "{95: 'math', 86: 'eng', 90: 'science'}\n"
     ]
    }
   ],
   "source": [
    "f = open('subject_score.txt') \n",
    "\n",
    "score_dict = {}\n",
    "\n",
    "for line in f :    \n",
    "    (subject, score) = line.strip().split()\n",
    "    try :          # 첫 줄 제외 용도\n",
    "        score_dict[int(score)] = subject    \n",
    "    except :\n",
    "        continue\n",
    "\n",
    "f.close()   \n",
    "\n",
    "print(score_dict)"
   ]
  },
  {
   "cell_type": "markdown",
   "id": "4d07a62e-f2a6-4c75-9a66-e6c16f2de1b7",
   "metadata": {},
   "source": [
    "이제 `sorted()` 함수를 사용하여, 점수를 정렬한 후에 그 순서대로 value를 읽으면 된다. "
   ]
  },
  {
   "cell_type": "code",
   "execution_count": 1,
   "id": "b88b9cc6-1aa9-4041-95ce-4c468124944f",
   "metadata": {},
   "outputs": [
    {
     "name": "stdout",
     "output_type": "stream",
     "text": [
      "math 의 점수는  95 이다.\n",
      "science 의 점수는  90 이다.\n",
      "eng 의 점수는  86 이다.\n"
     ]
    },
    {
     "name": "stderr",
     "output_type": "stream",
     "text": [
      "Error in atexit._run_exitfuncs:\n",
      "Traceback (most recent call last):\n",
      "  File \"/usr/local/lib/python3.8/dist-packages/IPython/core/interactiveshell.py\", line 3807, in atexit_operations\n",
      "    self.history_manager.end_session()\n",
      "  File \"/usr/local/lib/python3.8/dist-packages/IPython/core/history.py\", line 576, in end_session\n",
      "    self.db.execute(\"\"\"UPDATE sessions SET end=?, num_cmds=? WHERE\n",
      "sqlite3.OperationalError: disk I/O error\n"
     ]
    }
   ],
   "source": [
    "f = open('subject_score.txt') \n",
    "\n",
    "score_dict = {}\n",
    "\n",
    "for line in f :    \n",
    "    (subject, score) = line.strip().split()\n",
    "    try :\n",
    "        score_dict[int(score)] = subject\n",
    "    except :\n",
    "        continue\n",
    "\n",
    "f.close()   \n",
    "\n",
    "score_keys = sorted(score_dict.keys(), reverse=True)\n",
    "\n",
    "for key in score_keys :\n",
    "    print(score_dict[key], \"의 점수는 \", key, \"이다.\")"
   ]
  },
  {
   "cell_type": "markdown",
   "id": "ed1c900d-21d0-4e4d-b8cf-1de1986e8b20",
   "metadata": {},
   "source": [
    ":::{admonition} `continue` 문  \n",
    ":class: info  \n",
    "`continue`문은 반복문(루프)의 다음 반복을 계속하게 만든다.  \n",
    "\n",
    "```python\n",
    ">>> i = 0\n",
    ">>> while i < 5 :\n",
    "        i += 1\n",
    "        if i == 3 :   \n",
    "            continue  #continue를 실행하면, continue 아래 코드는 실행하지 않고 다음 반복을 시작.\n",
    "        print(i)\n",
    "1\n",
    "2\n",
    "4\n",
    "5\n",
    "```\n",
    "\n",
    ":::\n"
   ]
  }
 ],
 "metadata": {
  "kernelspec": {
   "display_name": "Python 3 (ipykernel)",
   "language": "python",
   "name": "python3"
  },
  "language_info": {
   "codemirror_mode": {
    "name": "ipython",
    "version": 3
   },
   "file_extension": ".py",
   "mimetype": "text/x-python",
   "name": "python",
   "nbconvert_exporter": "python",
   "pygments_lexer": "ipython3",
   "version": "3.8.10"
  }
 },
 "nbformat": 4,
 "nbformat_minor": 5
}
